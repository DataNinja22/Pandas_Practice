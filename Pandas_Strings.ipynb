{
  "cells": [
    {
      "cell_type": "code",
      "execution_count": 1,
      "metadata": {
        "id": "QDqPlAjfXlk8"
      },
      "outputs": [],
      "source": [
        "# Import pandas for data manipulation and numpy for numerical operations\n",
        "import pandas as pd\n",
        "import numpy as np"
      ]
    },
    {
      "cell_type": "code",
      "execution_count": 2,
      "metadata": {
        "colab": {
          "base_uri": "https://localhost:8080/"
        },
        "id": "3mQp-OPsbiwS",
        "outputId": "9908fcb2-96ec-43f3-9d80-3aa47ce40951"
      },
      "outputs": [
        {
          "data": {
            "application/vnd.microsoft.datawrangler.viewer.v0+json": {
              "columns": [
                {
                  "name": "index",
                  "rawType": "int64",
                  "type": "integer"
                },
                {
                  "name": "0",
                  "rawType": "int32",
                  "type": "integer"
                }
              ],
              "ref": "cb0c4554-8116-4369-b3a7-4452383075a5",
              "rows": [
                [
                  "0",
                  "4"
                ],
                [
                  "1",
                  "8"
                ],
                [
                  "2",
                  "12"
                ],
                [
                  "3",
                  "16"
                ]
              ],
              "shape": {
                "columns": 1,
                "rows": 4
              }
            },
            "text/plain": [
              "array([ 4,  8, 12, 16])"
            ]
          },
          "execution_count": 2,
          "metadata": {},
          "output_type": "execute_result"
        }
      ],
      "source": [
        "# What are vectorized operations\n",
        "# Demonstrate vectorized operations using numpy arrays\n",
        "a = np.array([1,2,3,4])\n",
        "a * 4  # Multiplies each element by 4"
      ]
    },
    {
      "cell_type": "code",
      "execution_count": 3,
      "metadata": {
        "colab": {
          "base_uri": "https://localhost:8080/",
          "height": 288
        },
        "id": "GQ1pnK4VYFff",
        "outputId": "6f48ea2e-c080-47c2-f6ed-bd3303d8324e"
      },
      "outputs": [
        {
          "ename": "AttributeError",
          "evalue": "'NoneType' object has no attribute 'startswith'",
          "output_type": "error",
          "traceback": [
            "\u001b[1;31m---------------------------------------------------------------------------\u001b[0m",
            "\u001b[1;31mAttributeError\u001b[0m                            Traceback (most recent call last)",
            "Cell \u001b[1;32mIn[3], line 5\u001b[0m\n\u001b[0;32m      2\u001b[0m s \u001b[38;5;241m=\u001b[39m [\u001b[38;5;124m'\u001b[39m\u001b[38;5;124mcat\u001b[39m\u001b[38;5;124m'\u001b[39m,\u001b[38;5;124m'\u001b[39m\u001b[38;5;124mmat\u001b[39m\u001b[38;5;124m'\u001b[39m,\u001b[38;5;28;01mNone\u001b[39;00m,\u001b[38;5;124m'\u001b[39m\u001b[38;5;124mrat\u001b[39m\u001b[38;5;124m'\u001b[39m]\n\u001b[0;32m      4\u001b[0m \u001b[38;5;66;03m# This will raise an error if None is present, as NoneType has no 'startswith' method\u001b[39;00m\n\u001b[1;32m----> 5\u001b[0m [\u001b[43mi\u001b[49m\u001b[38;5;241;43m.\u001b[39;49m\u001b[43mstartswith\u001b[49m(\u001b[38;5;124m'\u001b[39m\u001b[38;5;124mc\u001b[39m\u001b[38;5;124m'\u001b[39m) \u001b[38;5;28;01mfor\u001b[39;00m i \u001b[38;5;129;01min\u001b[39;00m s]\n",
            "\u001b[1;31mAttributeError\u001b[0m: 'NoneType' object has no attribute 'startswith'"
          ]
        }
      ],
      "source": [
        "# Demonstrate the problem with vectorized operations in vanilla Python lists\n",
        "s = ['cat','mat',None,'rat']\n",
        "\n",
        "# This will raise an error if None is present, as NoneType has no 'startswith' method\n",
        "[i.startswith('c') for i in s]"
      ]
    },
    {
      "cell_type": "code",
      "execution_count": 4,
      "metadata": {
        "colab": {
          "base_uri": "https://localhost:8080/"
        },
        "id": "RQftULmHYL0j",
        "outputId": "fce67eb9-ad20-4f22-9a79-2de669716eb0"
      },
      "outputs": [
        {
          "data": {
            "application/vnd.microsoft.datawrangler.viewer.v0+json": {
              "columns": [
                {
                  "name": "index",
                  "rawType": "int64",
                  "type": "integer"
                },
                {
                  "name": "0",
                  "rawType": "object",
                  "type": "unknown"
                }
              ],
              "ref": "11ea6280-56ed-4be8-83ad-f896ce13f115",
              "rows": [
                [
                  "0",
                  "True"
                ],
                [
                  "1",
                  "False"
                ],
                [
                  "2",
                  null
                ],
                [
                  "3",
                  "False"
                ]
              ],
              "shape": {
                "columns": 1,
                "rows": 4
              }
            },
            "text/plain": [
              "0     True\n",
              "1    False\n",
              "2     None\n",
              "3    False\n",
              "dtype: object"
            ]
          },
          "execution_count": 4,
          "metadata": {},
          "output_type": "execute_result"
        }
      ],
      "source": [
        "# How pandas solves this issue?\n",
        "\n",
        "s = pd.Series(['cat','mat',None,'rat'])\n",
        "# Use the string accessor to safely apply string methods to each element\n",
        "s.str.startswith('c')\n",
        "\n",
        "# This is fast and optimized for missing values"
      ]
    },
    {
      "cell_type": "code",
      "execution_count": 5,
      "metadata": {
        "colab": {
          "base_uri": "https://localhost:8080/"
        },
        "id": "qEKjNlikgBXh",
        "outputId": "272f723e-4a5c-4bc4-ff19-fe919c461634"
      },
      "outputs": [
        {
          "data": {
            "application/vnd.microsoft.datawrangler.viewer.v0+json": {
              "columns": [
                {
                  "name": "index",
                  "rawType": "int64",
                  "type": "integer"
                },
                {
                  "name": "Name",
                  "rawType": "object",
                  "type": "string"
                }
              ],
              "ref": "fb2f407e-f826-488a-8aee-911b5f617a5b",
              "rows": [
                [
                  "0",
                  "Braund, Mr. Owen Harris"
                ],
                [
                  "1",
                  "Cumings, Mrs. John Bradley (Florence Briggs Thayer)"
                ],
                [
                  "2",
                  "Heikkinen, Miss. Laina"
                ],
                [
                  "3",
                  "Futrelle, Mrs. Jacques Heath (Lily May Peel)"
                ],
                [
                  "4",
                  "Allen, Mr. William Henry"
                ],
                [
                  "5",
                  "Moran, Mr. James"
                ],
                [
                  "6",
                  "McCarthy, Mr. Timothy J"
                ],
                [
                  "7",
                  "Palsson, Master. Gosta Leonard"
                ],
                [
                  "8",
                  "Johnson, Mrs. Oscar W (Elisabeth Vilhelmina Berg)"
                ],
                [
                  "9",
                  "Nasser, Mrs. Nicholas (Adele Achem)"
                ],
                [
                  "10",
                  "Sandstrom, Miss. Marguerite Rut"
                ],
                [
                  "11",
                  "Bonnell, Miss. Elizabeth"
                ],
                [
                  "12",
                  "Saundercock, Mr. William Henry"
                ],
                [
                  "13",
                  "Andersson, Mr. Anders Johan"
                ],
                [
                  "14",
                  "Vestrom, Miss. Hulda Amanda Adolfina"
                ],
                [
                  "15",
                  "Hewlett, Mrs. (Mary D Kingcome) "
                ],
                [
                  "16",
                  "Rice, Master. Eugene"
                ],
                [
                  "17",
                  "Williams, Mr. Charles Eugene"
                ],
                [
                  "18",
                  "Vander Planke, Mrs. Julius (Emelia Maria Vandemoortele)"
                ],
                [
                  "19",
                  "Masselmani, Mrs. Fatima"
                ],
                [
                  "20",
                  "Fynney, Mr. Joseph J"
                ],
                [
                  "21",
                  "Beesley, Mr. Lawrence"
                ],
                [
                  "22",
                  "McGowan, Miss. Anna \"Annie\""
                ],
                [
                  "23",
                  "Sloper, Mr. William Thompson"
                ],
                [
                  "24",
                  "Palsson, Miss. Torborg Danira"
                ],
                [
                  "25",
                  "Asplund, Mrs. Carl Oscar (Selma Augusta Emilia Johansson)"
                ],
                [
                  "26",
                  "Emir, Mr. Farred Chehab"
                ],
                [
                  "27",
                  "Fortune, Mr. Charles Alexander"
                ],
                [
                  "28",
                  "O'Dwyer, Miss. Ellen \"Nellie\""
                ],
                [
                  "29",
                  "Todoroff, Mr. Lalio"
                ],
                [
                  "30",
                  "Uruchurtu, Don. Manuel E"
                ],
                [
                  "31",
                  "Spencer, Mrs. William Augustus (Marie Eugenie)"
                ],
                [
                  "32",
                  "Glynn, Miss. Mary Agatha"
                ],
                [
                  "33",
                  "Wheadon, Mr. Edward H"
                ],
                [
                  "34",
                  "Meyer, Mr. Edgar Joseph"
                ],
                [
                  "35",
                  "Holverson, Mr. Alexander Oskar"
                ],
                [
                  "36",
                  "Mamee, Mr. Hanna"
                ],
                [
                  "37",
                  "Cann, Mr. Ernest Charles"
                ],
                [
                  "38",
                  "Vander Planke, Miss. Augusta Maria"
                ],
                [
                  "39",
                  "Nicola-Yarred, Miss. Jamila"
                ],
                [
                  "40",
                  "Ahlin, Mrs. Johan (Johanna Persdotter Larsson)"
                ],
                [
                  "41",
                  "Turpin, Mrs. William John Robert (Dorothy Ann Wonnacott)"
                ],
                [
                  "42",
                  "Kraeff, Mr. Theodor"
                ],
                [
                  "43",
                  "Laroche, Miss. Simonne Marie Anne Andree"
                ],
                [
                  "44",
                  "Devaney, Miss. Margaret Delia"
                ],
                [
                  "45",
                  "Rogers, Mr. William John"
                ],
                [
                  "46",
                  "Lennon, Mr. Denis"
                ],
                [
                  "47",
                  "O'Driscoll, Miss. Bridget"
                ],
                [
                  "48",
                  "Samaan, Mr. Youssef"
                ],
                [
                  "49",
                  "Arnold-Franchi, Mrs. Josef (Josefine Franchi)"
                ]
              ],
              "shape": {
                "columns": 1,
                "rows": 891
              }
            },
            "text/plain": [
              "0                                Braund, Mr. Owen Harris\n",
              "1      Cumings, Mrs. John Bradley (Florence Briggs Th...\n",
              "2                                 Heikkinen, Miss. Laina\n",
              "3           Futrelle, Mrs. Jacques Heath (Lily May Peel)\n",
              "4                               Allen, Mr. William Henry\n",
              "                             ...                        \n",
              "886                                Montvila, Rev. Juozas\n",
              "887                         Graham, Miss. Margaret Edith\n",
              "888             Johnston, Miss. Catherine Helen \"Carrie\"\n",
              "889                                Behr, Mr. Karl Howell\n",
              "890                                  Dooley, Mr. Patrick\n",
              "Name: Name, Length: 891, dtype: object"
            ]
          },
          "execution_count": 5,
          "metadata": {},
          "output_type": "execute_result"
        }
      ],
      "source": [
        "# Import the Titanic dataset and display the 'Name' column\n",
        "df = pd.read_csv('DataSets/titanic_expense/titanic.csv')\n",
        "df['Name']  # Display the Name column"
      ]
    },
    {
      "cell_type": "code",
      "execution_count": null,
      "metadata": {
        "colab": {
          "base_uri": "https://localhost:8080/"
        },
        "id": "iJfR6a4cZCYz",
        "outputId": "c1d84c5b-c240-4a05-c88d-4d02525d12fe"
      },
      "outputs": [
        {
          "data": {
            "application/vnd.microsoft.datawrangler.viewer.v0+json": {
              "columns": [
                {
                  "name": "index",
                  "rawType": "int64",
                  "type": "integer"
                },
                {
                  "name": "Name",
                  "rawType": "object",
                  "type": "string"
                }
              ],
              "ref": "af837d11-f810-4fc8-86a0-98496639e84c",
              "rows": [
                [
                  "0",
                  "Braund, Mr. Owen Harris"
                ],
                [
                  "1",
                  "Cumings, Mrs. John Bradley (Florence Briggs Thayer)"
                ],
                [
                  "2",
                  "Heikkinen, Miss. Laina"
                ],
                [
                  "3",
                  "Futrelle, Mrs. Jacques Heath (Lily May Peel)"
                ],
                [
                  "4",
                  "Allen, Mr. William Henry"
                ],
                [
                  "5",
                  "Moran, Mr. James"
                ],
                [
                  "6",
                  "McCarthy, Mr. Timothy J"
                ],
                [
                  "7",
                  "Palsson, Master. Gosta Leonard"
                ],
                [
                  "8",
                  "Johnson, Mrs. Oscar W (Elisabeth Vilhelmina Berg)"
                ],
                [
                  "9",
                  "Nasser, Mrs. Nicholas (Adele Achem)"
                ],
                [
                  "10",
                  "Sandstrom, Miss. Marguerite Rut"
                ],
                [
                  "11",
                  "Bonnell, Miss. Elizabeth"
                ],
                [
                  "12",
                  "Saundercock, Mr. William Henry"
                ],
                [
                  "13",
                  "Andersson, Mr. Anders Johan"
                ],
                [
                  "14",
                  "Vestrom, Miss. Hulda Amanda Adolfina"
                ],
                [
                  "15",
                  "Hewlett, Mrs. (Mary D Kingcome)"
                ],
                [
                  "16",
                  "Rice, Master. Eugene"
                ],
                [
                  "17",
                  "Williams, Mr. Charles Eugene"
                ],
                [
                  "18",
                  "Vander Planke, Mrs. Julius (Emelia Maria Vandemoortele)"
                ],
                [
                  "19",
                  "Masselmani, Mrs. Fatima"
                ],
                [
                  "20",
                  "Fynney, Mr. Joseph J"
                ],
                [
                  "21",
                  "Beesley, Mr. Lawrence"
                ],
                [
                  "22",
                  "McGowan, Miss. Anna \"Annie\""
                ],
                [
                  "23",
                  "Sloper, Mr. William Thompson"
                ],
                [
                  "24",
                  "Palsson, Miss. Torborg Danira"
                ],
                [
                  "25",
                  "Asplund, Mrs. Carl Oscar (Selma Augusta Emilia Johansson)"
                ],
                [
                  "26",
                  "Emir, Mr. Farred Chehab"
                ],
                [
                  "27",
                  "Fortune, Mr. Charles Alexander"
                ],
                [
                  "28",
                  "O'Dwyer, Miss. Ellen \"Nellie\""
                ],
                [
                  "29",
                  "Todoroff, Mr. Lalio"
                ],
                [
                  "30",
                  "Uruchurtu, Don. Manuel E"
                ],
                [
                  "31",
                  "Spencer, Mrs. William Augustus (Marie Eugenie)"
                ],
                [
                  "32",
                  "Glynn, Miss. Mary Agatha"
                ],
                [
                  "33",
                  "Wheadon, Mr. Edward H"
                ],
                [
                  "34",
                  "Meyer, Mr. Edgar Joseph"
                ],
                [
                  "35",
                  "Holverson, Mr. Alexander Oskar"
                ],
                [
                  "36",
                  "Mamee, Mr. Hanna"
                ],
                [
                  "37",
                  "Cann, Mr. Ernest Charles"
                ],
                [
                  "38",
                  "Vander Planke, Miss. Augusta Maria"
                ],
                [
                  "39",
                  "Nicola-Yarred, Miss. Jamila"
                ],
                [
                  "40",
                  "Ahlin, Mrs. Johan (Johanna Persdotter Larsson)"
                ],
                [
                  "41",
                  "Turpin, Mrs. William John Robert (Dorothy Ann Wonnacott)"
                ],
                [
                  "42",
                  "Kraeff, Mr. Theodor"
                ],
                [
                  "43",
                  "Laroche, Miss. Simonne Marie Anne Andree"
                ],
                [
                  "44",
                  "Devaney, Miss. Margaret Delia"
                ],
                [
                  "45",
                  "Rogers, Mr. William John"
                ],
                [
                  "46",
                  "Lennon, Mr. Denis"
                ],
                [
                  "47",
                  "O'Driscoll, Miss. Bridget"
                ],
                [
                  "48",
                  "Samaan, Mr. Youssef"
                ],
                [
                  "49",
                  "Arnold-Franchi, Mrs. Josef (Josefine Franchi)"
                ]
              ],
              "shape": {
                "columns": 1,
                "rows": 891
              }
            },
            "text/plain": [
              "0                                Braund, Mr. Owen Harris\n",
              "1      Cumings, Mrs. John Bradley (Florence Briggs Th...\n",
              "2                                 Heikkinen, Miss. Laina\n",
              "3           Futrelle, Mrs. Jacques Heath (Lily May Peel)\n",
              "4                               Allen, Mr. William Henry\n",
              "                             ...                        \n",
              "886                                Montvila, Rev. Juozas\n",
              "887                         Graham, Miss. Margaret Edith\n",
              "888             Johnston, Miss. Catherine Helen \"Carrie\"\n",
              "889                                Behr, Mr. Karl Howell\n",
              "890                                  Dooley, Mr. Patrick\n",
              "Name: Name, Length: 891, dtype: object"
            ]
          },
          "execution_count": 6,
          "metadata": {},
          "output_type": "execute_result"
        }
      ],
      "source": [
        "# Common Functions\n",
        "# lower/upper/capitalize/title\n",
        "# Convert all names to uppercase\n",
        "df['Name'].str.upper()\n",
        "# Capitalize the first character of each name\n",
        "df['Name'].str.capitalize()\n",
        "# Convert names to title case\n",
        "df['Name'].str.title() #sb word ka\n",
        "# len\n",
        "# Find the name with length 82\n",
        "df['Name'][df['Name'].str.len() == 82].values[0]\n",
        "# strip\n",
        "# Remove leading and trailing spaces from a string\n",
        "\"                   Shyam                             \".strip()\n",
        "# Remove leading and trailing spaces from all names in the column\n",
        "df['Name'].str.strip()"
      ]
    },
    {
      "cell_type": "code",
      "execution_count": 7,
      "metadata": {
        "colab": {
          "base_uri": "https://localhost:8080/",
          "height": 302
        },
        "id": "YVjsoN71mtEe",
        "outputId": "ea033545-5e41-4358-a8af-3cb75834d754"
      },
      "outputs": [
        {
          "data": {
            "application/vnd.microsoft.datawrangler.viewer.v0+json": {
              "columns": [
                {
                  "name": "index",
                  "rawType": "int64",
                  "type": "integer"
                },
                {
                  "name": "PassengerId",
                  "rawType": "int64",
                  "type": "integer"
                },
                {
                  "name": "Survived",
                  "rawType": "int64",
                  "type": "integer"
                },
                {
                  "name": "Pclass",
                  "rawType": "int64",
                  "type": "integer"
                },
                {
                  "name": "Name",
                  "rawType": "object",
                  "type": "string"
                },
                {
                  "name": "Sex",
                  "rawType": "object",
                  "type": "string"
                },
                {
                  "name": "Age",
                  "rawType": "float64",
                  "type": "float"
                },
                {
                  "name": "SibSp",
                  "rawType": "int64",
                  "type": "integer"
                },
                {
                  "name": "Parch",
                  "rawType": "int64",
                  "type": "integer"
                },
                {
                  "name": "Ticket",
                  "rawType": "object",
                  "type": "string"
                },
                {
                  "name": "Fare",
                  "rawType": "float64",
                  "type": "float"
                },
                {
                  "name": "Cabin",
                  "rawType": "object",
                  "type": "unknown"
                },
                {
                  "name": "Embarked",
                  "rawType": "object",
                  "type": "string"
                },
                {
                  "name": "lastname",
                  "rawType": "object",
                  "type": "string"
                }
              ],
              "ref": "4540c010-b141-40e1-829e-e36e72b6bdd3",
              "rows": [
                [
                  "0",
                  "1",
                  "0",
                  "3",
                  "Braund, Mr. Owen Harris",
                  "male",
                  "22.0",
                  "1",
                  "0",
                  "A/5 21171",
                  "7.25",
                  null,
                  "S",
                  "Braund"
                ],
                [
                  "1",
                  "2",
                  "1",
                  "1",
                  "Cumings, Mrs. John Bradley (Florence Briggs Thayer)",
                  "female",
                  "38.0",
                  "1",
                  "0",
                  "PC 17599",
                  "71.2833",
                  "C85",
                  "C",
                  "Cumings"
                ],
                [
                  "2",
                  "3",
                  "1",
                  "3",
                  "Heikkinen, Miss. Laina",
                  "female",
                  "26.0",
                  "0",
                  "0",
                  "STON/O2. 3101282",
                  "7.925",
                  null,
                  "S",
                  "Heikkinen"
                ],
                [
                  "3",
                  "4",
                  "1",
                  "1",
                  "Futrelle, Mrs. Jacques Heath (Lily May Peel)",
                  "female",
                  "35.0",
                  "1",
                  "0",
                  "113803",
                  "53.1",
                  "C123",
                  "S",
                  "Futrelle"
                ],
                [
                  "4",
                  "5",
                  "0",
                  "3",
                  "Allen, Mr. William Henry",
                  "male",
                  "35.0",
                  "0",
                  "0",
                  "373450",
                  "8.05",
                  null,
                  "S",
                  "Allen"
                ]
              ],
              "shape": {
                "columns": 13,
                "rows": 5
              }
            },
            "text/html": [
              "<div>\n",
              "<style scoped>\n",
              "    .dataframe tbody tr th:only-of-type {\n",
              "        vertical-align: middle;\n",
              "    }\n",
              "\n",
              "    .dataframe tbody tr th {\n",
              "        vertical-align: top;\n",
              "    }\n",
              "\n",
              "    .dataframe thead th {\n",
              "        text-align: right;\n",
              "    }\n",
              "</style>\n",
              "<table border=\"1\" class=\"dataframe\">\n",
              "  <thead>\n",
              "    <tr style=\"text-align: right;\">\n",
              "      <th></th>\n",
              "      <th>PassengerId</th>\n",
              "      <th>Survived</th>\n",
              "      <th>Pclass</th>\n",
              "      <th>Name</th>\n",
              "      <th>Sex</th>\n",
              "      <th>Age</th>\n",
              "      <th>SibSp</th>\n",
              "      <th>Parch</th>\n",
              "      <th>Ticket</th>\n",
              "      <th>Fare</th>\n",
              "      <th>Cabin</th>\n",
              "      <th>Embarked</th>\n",
              "      <th>lastname</th>\n",
              "    </tr>\n",
              "  </thead>\n",
              "  <tbody>\n",
              "    <tr>\n",
              "      <th>0</th>\n",
              "      <td>1</td>\n",
              "      <td>0</td>\n",
              "      <td>3</td>\n",
              "      <td>Braund, Mr. Owen Harris</td>\n",
              "      <td>male</td>\n",
              "      <td>22.0</td>\n",
              "      <td>1</td>\n",
              "      <td>0</td>\n",
              "      <td>A/5 21171</td>\n",
              "      <td>7.2500</td>\n",
              "      <td>NaN</td>\n",
              "      <td>S</td>\n",
              "      <td>Braund</td>\n",
              "    </tr>\n",
              "    <tr>\n",
              "      <th>1</th>\n",
              "      <td>2</td>\n",
              "      <td>1</td>\n",
              "      <td>1</td>\n",
              "      <td>Cumings, Mrs. John Bradley (Florence Briggs Th...</td>\n",
              "      <td>female</td>\n",
              "      <td>38.0</td>\n",
              "      <td>1</td>\n",
              "      <td>0</td>\n",
              "      <td>PC 17599</td>\n",
              "      <td>71.2833</td>\n",
              "      <td>C85</td>\n",
              "      <td>C</td>\n",
              "      <td>Cumings</td>\n",
              "    </tr>\n",
              "    <tr>\n",
              "      <th>2</th>\n",
              "      <td>3</td>\n",
              "      <td>1</td>\n",
              "      <td>3</td>\n",
              "      <td>Heikkinen, Miss. Laina</td>\n",
              "      <td>female</td>\n",
              "      <td>26.0</td>\n",
              "      <td>0</td>\n",
              "      <td>0</td>\n",
              "      <td>STON/O2. 3101282</td>\n",
              "      <td>7.9250</td>\n",
              "      <td>NaN</td>\n",
              "      <td>S</td>\n",
              "      <td>Heikkinen</td>\n",
              "    </tr>\n",
              "    <tr>\n",
              "      <th>3</th>\n",
              "      <td>4</td>\n",
              "      <td>1</td>\n",
              "      <td>1</td>\n",
              "      <td>Futrelle, Mrs. Jacques Heath (Lily May Peel)</td>\n",
              "      <td>female</td>\n",
              "      <td>35.0</td>\n",
              "      <td>1</td>\n",
              "      <td>0</td>\n",
              "      <td>113803</td>\n",
              "      <td>53.1000</td>\n",
              "      <td>C123</td>\n",
              "      <td>S</td>\n",
              "      <td>Futrelle</td>\n",
              "    </tr>\n",
              "    <tr>\n",
              "      <th>4</th>\n",
              "      <td>5</td>\n",
              "      <td>0</td>\n",
              "      <td>3</td>\n",
              "      <td>Allen, Mr. William Henry</td>\n",
              "      <td>male</td>\n",
              "      <td>35.0</td>\n",
              "      <td>0</td>\n",
              "      <td>0</td>\n",
              "      <td>373450</td>\n",
              "      <td>8.0500</td>\n",
              "      <td>NaN</td>\n",
              "      <td>S</td>\n",
              "      <td>Allen</td>\n",
              "    </tr>\n",
              "  </tbody>\n",
              "</table>\n",
              "</div>"
            ],
            "text/plain": [
              "   PassengerId  Survived  Pclass  \\\n",
              "0            1         0       3   \n",
              "1            2         1       1   \n",
              "2            3         1       3   \n",
              "3            4         1       1   \n",
              "4            5         0       3   \n",
              "\n",
              "                                                Name     Sex   Age  SibSp  \\\n",
              "0                            Braund, Mr. Owen Harris    male  22.0      1   \n",
              "1  Cumings, Mrs. John Bradley (Florence Briggs Th...  female  38.0      1   \n",
              "2                             Heikkinen, Miss. Laina  female  26.0      0   \n",
              "3       Futrelle, Mrs. Jacques Heath (Lily May Peel)  female  35.0      1   \n",
              "4                           Allen, Mr. William Henry    male  35.0      0   \n",
              "\n",
              "   Parch            Ticket     Fare Cabin Embarked   lastname  \n",
              "0      0         A/5 21171   7.2500   NaN        S     Braund  \n",
              "1      0          PC 17599  71.2833   C85        C    Cumings  \n",
              "2      0  STON/O2. 3101282   7.9250   NaN        S  Heikkinen  \n",
              "3      0            113803  53.1000  C123        S   Futrelle  \n",
              "4      0            373450   8.0500   NaN        S      Allen  "
            ]
          },
          "execution_count": 7,
          "metadata": {},
          "output_type": "execute_result"
        }
      ],
      "source": [
        "# Split the 'Name' column by comma and extract the last name\n",
        "df['lastname'] = df['Name'].str.split(',').str.get(0)\n",
        "# Display the updated DataFrame\n",
        "df.head()"
      ]
    },
    {
      "cell_type": "code",
      "execution_count": null,
      "metadata": {
        "colab": {
          "base_uri": "https://localhost:8080/"
        },
        "id": "nvegel9Mhlcw",
        "outputId": "b22006f8-dbb2-4262-9abb-3d9d9e7eabe8"
      },
      "outputs": [
        {
          "data": {
            "application/vnd.microsoft.datawrangler.viewer.v0+json": {
              "columns": [
                {
                  "name": "title",
                  "rawType": "object",
                  "type": "string"
                },
                {
                  "name": "count",
                  "rawType": "int64",
                  "type": "integer"
                }
              ],
              "ref": "9491f573-f5dc-493e-b998-b880d42008af",
              "rows": [
                [
                  "Mr.",
                  "517"
                ],
                [
                  "Miss.",
                  "182"
                ],
                [
                  "Mrs.",
                  "125"
                ],
                [
                  "Master.",
                  "40"
                ],
                [
                  "Dr.",
                  "7"
                ],
                [
                  "Rev.",
                  "6"
                ],
                [
                  "Mlle.",
                  "2"
                ],
                [
                  "Major.",
                  "2"
                ],
                [
                  "Col.",
                  "2"
                ],
                [
                  "the",
                  "1"
                ],
                [
                  "Capt.",
                  "1"
                ],
                [
                  "Ms.",
                  "1"
                ],
                [
                  "Sir.",
                  "1"
                ],
                [
                  "Lady.",
                  "1"
                ],
                [
                  "Mme.",
                  "1"
                ],
                [
                  "Don.",
                  "1"
                ],
                [
                  "Jonkheer.",
                  "1"
                ]
              ],
              "shape": {
                "columns": 1,
                "rows": 17
              }
            },
            "text/plain": [
              "title\n",
              "Mr.          517\n",
              "Miss.        182\n",
              "Mrs.         125\n",
              "Master.       40\n",
              "Dr.            7\n",
              "Rev.           6\n",
              "Mlle.          2\n",
              "Major.         2\n",
              "Col.           2\n",
              "the            1\n",
              "Capt.          1\n",
              "Ms.            1\n",
              "Sir.           1\n",
              "Lady.          1\n",
              "Mme.           1\n",
              "Don.           1\n",
              "Jonkheer.      1\n",
              "Name: count, dtype: int64"
            ]
          },
          "execution_count": 8,
          "metadata": {},
          "output_type": "execute_result"
        }
      ],
      "source": [
        "# Extract title and firstname from the 'Name' column\n",
        "# First, split by comma, then strip and split by space to get title and firstname\n",
        "df[['title','firstname']] = df['Name'].str.split(',').str.get(1).str.strip().str.split(' ', n=1, expand=True)#n=1 shows the number of splits we want, expand=true for making the data frame\n",
        "# Display the updated DataFrame\n",
        "df.head()\n",
        "\n",
        "# Count the occurrences of each title\n",
        "df['title'].value_counts()"
      ]
    },
    {
      "cell_type": "code",
      "execution_count": 9,
      "metadata": {
        "colab": {
          "base_uri": "https://localhost:8080/"
        },
        "id": "2Vm-s-fwp2s3",
        "outputId": "83436fda-449a-469a-a035-c9ced72d84ba"
      },
      "outputs": [],
      "source": [
        "# Replace values in the 'title' column for consistency\n",
        "df['title'] = df['title'].str.replace('Ms.','Miss.')\n",
        "df['title'] = df['title'].str.replace('Mlle.','Miss.')"
      ]
    },
    {
      "cell_type": "code",
      "execution_count": 10,
      "metadata": {
        "colab": {
          "base_uri": "https://localhost:8080/"
        },
        "id": "QiIKXpipjaMf",
        "outputId": "1f863a9b-86d8-419f-9e6d-e7854d8a3bc3"
      },
      "outputs": [
        {
          "data": {
            "application/vnd.microsoft.datawrangler.viewer.v0+json": {
              "columns": [
                {
                  "name": "title",
                  "rawType": "object",
                  "type": "string"
                },
                {
                  "name": "count",
                  "rawType": "int64",
                  "type": "integer"
                }
              ],
              "ref": "8627fc39-77ce-4278-896c-902132c8495d",
              "rows": [
                [
                  "Mr.",
                  "517"
                ],
                [
                  "Miss.",
                  "185"
                ],
                [
                  "Mrs.",
                  "125"
                ],
                [
                  "Master.",
                  "40"
                ],
                [
                  "Dr.",
                  "7"
                ],
                [
                  "Rev.",
                  "6"
                ],
                [
                  "Major.",
                  "2"
                ],
                [
                  "Col.",
                  "2"
                ],
                [
                  "Don.",
                  "1"
                ],
                [
                  "Mme.",
                  "1"
                ],
                [
                  "Lady.",
                  "1"
                ],
                [
                  "Sir.",
                  "1"
                ],
                [
                  "Capt.",
                  "1"
                ],
                [
                  "the",
                  "1"
                ],
                [
                  "Jonkheer.",
                  "1"
                ]
              ],
              "shape": {
                "columns": 1,
                "rows": 15
              }
            },
            "text/plain": [
              "title\n",
              "Mr.          517\n",
              "Miss.        185\n",
              "Mrs.         125\n",
              "Master.       40\n",
              "Dr.            7\n",
              "Rev.           6\n",
              "Major.         2\n",
              "Col.           2\n",
              "Don.           1\n",
              "Mme.           1\n",
              "Lady.          1\n",
              "Sir.           1\n",
              "Capt.          1\n",
              "the            1\n",
              "Jonkheer.      1\n",
              "Name: count, dtype: int64"
            ]
          },
          "execution_count": 10,
          "metadata": {},
          "output_type": "execute_result"
        }
      ],
      "source": [
        "# Count the occurrences of each title after replacement\n",
        "df['title'].value_counts()"
      ]
    },
    {
      "cell_type": "code",
      "execution_count": 11,
      "metadata": {
        "colab": {
          "base_uri": "https://localhost:8080/",
          "height": 49
        },
        "id": "6zCRD0H-ZEfA",
        "outputId": "fa6bfcd0-896a-48cd-f85d-8d24ba363ff6"
      },
      "outputs": [
        {
          "data": {
            "application/vnd.microsoft.datawrangler.viewer.v0+json": {
              "columns": [
                {
                  "name": "index",
                  "rawType": "int64",
                  "type": "integer"
                },
                {
                  "name": "PassengerId",
                  "rawType": "int64",
                  "type": "integer"
                },
                {
                  "name": "Survived",
                  "rawType": "int64",
                  "type": "integer"
                },
                {
                  "name": "Pclass",
                  "rawType": "int64",
                  "type": "integer"
                },
                {
                  "name": "Name",
                  "rawType": "object",
                  "type": "string"
                },
                {
                  "name": "Sex",
                  "rawType": "object",
                  "type": "string"
                },
                {
                  "name": "Age",
                  "rawType": "float64",
                  "type": "float"
                },
                {
                  "name": "SibSp",
                  "rawType": "int64",
                  "type": "integer"
                },
                {
                  "name": "Parch",
                  "rawType": "int64",
                  "type": "integer"
                },
                {
                  "name": "Ticket",
                  "rawType": "object",
                  "type": "string"
                },
                {
                  "name": "Fare",
                  "rawType": "float64",
                  "type": "float"
                },
                {
                  "name": "Cabin",
                  "rawType": "object",
                  "type": "string"
                },
                {
                  "name": "Embarked",
                  "rawType": "object",
                  "type": "string"
                },
                {
                  "name": "lastname",
                  "rawType": "object",
                  "type": "string"
                },
                {
                  "name": "title",
                  "rawType": "object",
                  "type": "string"
                },
                {
                  "name": "firstname",
                  "rawType": "object",
                  "type": "string"
                }
              ],
              "ref": "a89f5c34-9453-471b-9bc4-e9032b267627",
              "rows": [],
              "shape": {
                "columns": 15,
                "rows": 0
              }
            },
            "text/html": [
              "<div>\n",
              "<style scoped>\n",
              "    .dataframe tbody tr th:only-of-type {\n",
              "        vertical-align: middle;\n",
              "    }\n",
              "\n",
              "    .dataframe tbody tr th {\n",
              "        vertical-align: top;\n",
              "    }\n",
              "\n",
              "    .dataframe thead th {\n",
              "        text-align: right;\n",
              "    }\n",
              "</style>\n",
              "<table border=\"1\" class=\"dataframe\">\n",
              "  <thead>\n",
              "    <tr style=\"text-align: right;\">\n",
              "      <th></th>\n",
              "      <th>PassengerId</th>\n",
              "      <th>Survived</th>\n",
              "      <th>Pclass</th>\n",
              "      <th>Name</th>\n",
              "      <th>Sex</th>\n",
              "      <th>Age</th>\n",
              "      <th>SibSp</th>\n",
              "      <th>Parch</th>\n",
              "      <th>Ticket</th>\n",
              "      <th>Fare</th>\n",
              "      <th>Cabin</th>\n",
              "      <th>Embarked</th>\n",
              "      <th>lastname</th>\n",
              "      <th>title</th>\n",
              "      <th>firstname</th>\n",
              "    </tr>\n",
              "  </thead>\n",
              "  <tbody>\n",
              "  </tbody>\n",
              "</table>\n",
              "</div>"
            ],
            "text/plain": [
              "Empty DataFrame\n",
              "Columns: [PassengerId, Survived, Pclass, Name, Sex, Age, SibSp, Parch, Ticket, Fare, Cabin, Embarked, lastname, title, firstname]\n",
              "Index: []"
            ]
          },
          "execution_count": 11,
          "metadata": {},
          "output_type": "execute_result"
        }
      ],
      "source": [
        "# filtering\n",
        "# startswith/endswith\n",
        "# Find firstnames that end with 'A'\n",
        "df[df['firstname'].str.endswith('A')]\n",
        "# isdigit/isalpha...\n",
        "# Find firstnames that are digits (unlikely in this dataset)\n",
        "df[df['firstname'].str.isdigit()]"
      ]
    },
    {
      "cell_type": "code",
      "execution_count": null,
      "metadata": {
        "colab": {
          "base_uri": "https://localhost:8080/",
          "height": 711
        },
        "id": "MqxcE3x3ZPVR",
        "outputId": "ab42b4eb-a8ad-4349-de61-314ad18ca689"
      },
      "outputs": [
        {
          "data": {
            "text/html": [
              "\n",
              "  <div id=\"df-604d7ec2-01f6-42a4-8e77-c00fca50d9d2\">\n",
              "    <div class=\"colab-df-container\">\n",
              "      <div>\n",
              "<style scoped>\n",
              "    .dataframe tbody tr th:only-of-type {\n",
              "        vertical-align: middle;\n",
              "    }\n",
              "\n",
              "    .dataframe tbody tr th {\n",
              "        vertical-align: top;\n",
              "    }\n",
              "\n",
              "    .dataframe thead th {\n",
              "        text-align: right;\n",
              "    }\n",
              "</style>\n",
              "<table border=\"1\" class=\"dataframe\">\n",
              "  <thead>\n",
              "    <tr style=\"text-align: right;\">\n",
              "      <th></th>\n",
              "      <th>PassengerId</th>\n",
              "      <th>Survived</th>\n",
              "      <th>Pclass</th>\n",
              "      <th>Name</th>\n",
              "      <th>Sex</th>\n",
              "      <th>Age</th>\n",
              "      <th>SibSp</th>\n",
              "      <th>Parch</th>\n",
              "      <th>Ticket</th>\n",
              "      <th>Fare</th>\n",
              "      <th>Cabin</th>\n",
              "      <th>Embarked</th>\n",
              "      <th>lastname</th>\n",
              "      <th>title</th>\n",
              "      <th>firstname</th>\n",
              "    </tr>\n",
              "  </thead>\n",
              "  <tbody>\n",
              "    <tr>\n",
              "      <th>0</th>\n",
              "      <td>1</td>\n",
              "      <td>0</td>\n",
              "      <td>3</td>\n",
              "      <td>Braund, Mr. Owen Harris</td>\n",
              "      <td>male</td>\n",
              "      <td>22.0</td>\n",
              "      <td>1</td>\n",
              "      <td>0</td>\n",
              "      <td>A/5 21171</td>\n",
              "      <td>7.2500</td>\n",
              "      <td>NaN</td>\n",
              "      <td>S</td>\n",
              "      <td>Braund</td>\n",
              "      <td>Mr.</td>\n",
              "      <td>Owen Harris</td>\n",
              "    </tr>\n",
              "    <tr>\n",
              "      <th>1</th>\n",
              "      <td>2</td>\n",
              "      <td>1</td>\n",
              "      <td>1</td>\n",
              "      <td>Cumings, Mrs. John Bradley (Florence Briggs Th...</td>\n",
              "      <td>female</td>\n",
              "      <td>38.0</td>\n",
              "      <td>1</td>\n",
              "      <td>0</td>\n",
              "      <td>PC 17599</td>\n",
              "      <td>71.2833</td>\n",
              "      <td>C85</td>\n",
              "      <td>C</td>\n",
              "      <td>Cumings</td>\n",
              "      <td>Mrs.</td>\n",
              "      <td>John Bradley (Florence Briggs Thayer)</td>\n",
              "    </tr>\n",
              "    <tr>\n",
              "      <th>2</th>\n",
              "      <td>3</td>\n",
              "      <td>1</td>\n",
              "      <td>3</td>\n",
              "      <td>Heikkinen, Miss. Laina</td>\n",
              "      <td>female</td>\n",
              "      <td>26.0</td>\n",
              "      <td>0</td>\n",
              "      <td>0</td>\n",
              "      <td>STON/O2. 3101282</td>\n",
              "      <td>7.9250</td>\n",
              "      <td>NaN</td>\n",
              "      <td>S</td>\n",
              "      <td>Heikkinen</td>\n",
              "      <td>Miss.</td>\n",
              "      <td>Laina</td>\n",
              "    </tr>\n",
              "    <tr>\n",
              "      <th>5</th>\n",
              "      <td>6</td>\n",
              "      <td>0</td>\n",
              "      <td>3</td>\n",
              "      <td>Moran, Mr. James</td>\n",
              "      <td>male</td>\n",
              "      <td>NaN</td>\n",
              "      <td>0</td>\n",
              "      <td>0</td>\n",
              "      <td>330877</td>\n",
              "      <td>8.4583</td>\n",
              "      <td>NaN</td>\n",
              "      <td>Q</td>\n",
              "      <td>Moran</td>\n",
              "      <td>Mr.</td>\n",
              "      <td>James</td>\n",
              "    </tr>\n",
              "    <tr>\n",
              "      <th>6</th>\n",
              "      <td>7</td>\n",
              "      <td>0</td>\n",
              "      <td>1</td>\n",
              "      <td>McCarthy, Mr. Timothy J</td>\n",
              "      <td>male</td>\n",
              "      <td>54.0</td>\n",
              "      <td>0</td>\n",
              "      <td>0</td>\n",
              "      <td>17463</td>\n",
              "      <td>51.8625</td>\n",
              "      <td>E46</td>\n",
              "      <td>S</td>\n",
              "      <td>McCarthy</td>\n",
              "      <td>Mr.</td>\n",
              "      <td>Timothy J</td>\n",
              "    </tr>\n",
              "    <tr>\n",
              "      <th>...</th>\n",
              "      <td>...</td>\n",
              "      <td>...</td>\n",
              "      <td>...</td>\n",
              "      <td>...</td>\n",
              "      <td>...</td>\n",
              "      <td>...</td>\n",
              "      <td>...</td>\n",
              "      <td>...</td>\n",
              "      <td>...</td>\n",
              "      <td>...</td>\n",
              "      <td>...</td>\n",
              "      <td>...</td>\n",
              "      <td>...</td>\n",
              "      <td>...</td>\n",
              "      <td>...</td>\n",
              "    </tr>\n",
              "    <tr>\n",
              "      <th>884</th>\n",
              "      <td>885</td>\n",
              "      <td>0</td>\n",
              "      <td>3</td>\n",
              "      <td>Sutehall, Mr. Henry Jr</td>\n",
              "      <td>male</td>\n",
              "      <td>25.0</td>\n",
              "      <td>0</td>\n",
              "      <td>0</td>\n",
              "      <td>SOTON/OQ 392076</td>\n",
              "      <td>7.0500</td>\n",
              "      <td>NaN</td>\n",
              "      <td>S</td>\n",
              "      <td>Sutehall</td>\n",
              "      <td>Mr.</td>\n",
              "      <td>Henry Jr</td>\n",
              "    </tr>\n",
              "    <tr>\n",
              "      <th>887</th>\n",
              "      <td>888</td>\n",
              "      <td>1</td>\n",
              "      <td>1</td>\n",
              "      <td>Graham, Miss. Margaret Edith</td>\n",
              "      <td>female</td>\n",
              "      <td>19.0</td>\n",
              "      <td>0</td>\n",
              "      <td>0</td>\n",
              "      <td>112053</td>\n",
              "      <td>30.0000</td>\n",
              "      <td>B42</td>\n",
              "      <td>S</td>\n",
              "      <td>Graham</td>\n",
              "      <td>Miss.</td>\n",
              "      <td>Margaret Edith</td>\n",
              "    </tr>\n",
              "    <tr>\n",
              "      <th>888</th>\n",
              "      <td>889</td>\n",
              "      <td>0</td>\n",
              "      <td>3</td>\n",
              "      <td>Johnston, Miss. Catherine Helen \"Carrie\"</td>\n",
              "      <td>female</td>\n",
              "      <td>NaN</td>\n",
              "      <td>1</td>\n",
              "      <td>2</td>\n",
              "      <td>W./C. 6607</td>\n",
              "      <td>23.4500</td>\n",
              "      <td>NaN</td>\n",
              "      <td>S</td>\n",
              "      <td>Johnston</td>\n",
              "      <td>Miss.</td>\n",
              "      <td>Catherine Helen \"Carrie\"</td>\n",
              "    </tr>\n",
              "    <tr>\n",
              "      <th>889</th>\n",
              "      <td>890</td>\n",
              "      <td>1</td>\n",
              "      <td>1</td>\n",
              "      <td>Behr, Mr. Karl Howell</td>\n",
              "      <td>male</td>\n",
              "      <td>26.0</td>\n",
              "      <td>0</td>\n",
              "      <td>0</td>\n",
              "      <td>111369</td>\n",
              "      <td>30.0000</td>\n",
              "      <td>C148</td>\n",
              "      <td>C</td>\n",
              "      <td>Behr</td>\n",
              "      <td>Mr.</td>\n",
              "      <td>Karl Howell</td>\n",
              "    </tr>\n",
              "    <tr>\n",
              "      <th>890</th>\n",
              "      <td>891</td>\n",
              "      <td>0</td>\n",
              "      <td>3</td>\n",
              "      <td>Dooley, Mr. Patrick</td>\n",
              "      <td>male</td>\n",
              "      <td>32.0</td>\n",
              "      <td>0</td>\n",
              "      <td>0</td>\n",
              "      <td>370376</td>\n",
              "      <td>7.7500</td>\n",
              "      <td>NaN</td>\n",
              "      <td>Q</td>\n",
              "      <td>Dooley</td>\n",
              "      <td>Mr.</td>\n",
              "      <td>Patrick</td>\n",
              "    </tr>\n",
              "  </tbody>\n",
              "</table>\n",
              "<p>671 rows × 15 columns</p>\n",
              "</div>\n",
              "      <button class=\"colab-df-convert\" onclick=\"convertToInteractive('df-604d7ec2-01f6-42a4-8e77-c00fca50d9d2')\"\n",
              "              title=\"Convert this dataframe to an interactive table.\"\n",
              "              style=\"display:none;\">\n",
              "        \n",
              "  <svg xmlns=\"http://www.w3.org/2000/svg\" height=\"24px\"viewBox=\"0 0 24 24\"\n",
              "       width=\"24px\">\n",
              "    <path d=\"M0 0h24v24H0V0z\" fill=\"none\"/>\n",
              "    <path d=\"M18.56 5.44l.94 2.06.94-2.06 2.06-.94-2.06-.94-.94-2.06-.94 2.06-2.06.94zm-11 1L8.5 8.5l.94-2.06 2.06-.94-2.06-.94L8.5 2.5l-.94 2.06-2.06.94zm10 10l.94 2.06.94-2.06 2.06-.94-2.06-.94-.94-2.06-.94 2.06-2.06.94z\"/><path d=\"M17.41 7.96l-1.37-1.37c-.4-.4-.92-.59-1.43-.59-.52 0-1.04.2-1.43.59L10.3 9.45l-7.72 7.72c-.78.78-.78 2.05 0 2.83L4 21.41c.39.39.9.59 1.41.59.51 0 1.02-.2 1.41-.59l7.78-7.78 2.81-2.81c.8-.78.8-2.07 0-2.86zM5.41 20L4 18.59l7.72-7.72 1.47 1.35L5.41 20z\"/>\n",
              "  </svg>\n",
              "      </button>\n",
              "      \n",
              "  <style>\n",
              "    .colab-df-container {\n",
              "      display:flex;\n",
              "      flex-wrap:wrap;\n",
              "      gap: 12px;\n",
              "    }\n",
              "\n",
              "    .colab-df-convert {\n",
              "      background-color: #E8F0FE;\n",
              "      border: none;\n",
              "      border-radius: 50%;\n",
              "      cursor: pointer;\n",
              "      display: none;\n",
              "      fill: #1967D2;\n",
              "      height: 32px;\n",
              "      padding: 0 0 0 0;\n",
              "      width: 32px;\n",
              "    }\n",
              "\n",
              "    .colab-df-convert:hover {\n",
              "      background-color: #E2EBFA;\n",
              "      box-shadow: 0px 1px 2px rgba(60, 64, 67, 0.3), 0px 1px 3px 1px rgba(60, 64, 67, 0.15);\n",
              "      fill: #174EA6;\n",
              "    }\n",
              "\n",
              "    [theme=dark] .colab-df-convert {\n",
              "      background-color: #3B4455;\n",
              "      fill: #D2E3FC;\n",
              "    }\n",
              "\n",
              "    [theme=dark] .colab-df-convert:hover {\n",
              "      background-color: #434B5C;\n",
              "      box-shadow: 0px 1px 3px 1px rgba(0, 0, 0, 0.15);\n",
              "      filter: drop-shadow(0px 1px 2px rgba(0, 0, 0, 0.3));\n",
              "      fill: #FFFFFF;\n",
              "    }\n",
              "  </style>\n",
              "\n",
              "      <script>\n",
              "        const buttonEl =\n",
              "          document.querySelector('#df-604d7ec2-01f6-42a4-8e77-c00fca50d9d2 button.colab-df-convert');\n",
              "        buttonEl.style.display =\n",
              "          google.colab.kernel.accessAllowed ? 'block' : 'none';\n",
              "\n",
              "        async function convertToInteractive(key) {\n",
              "          const element = document.querySelector('#df-604d7ec2-01f6-42a4-8e77-c00fca50d9d2');\n",
              "          const dataTable =\n",
              "            await google.colab.kernel.invokeFunction('convertToInteractive',\n",
              "                                                     [key], {});\n",
              "          if (!dataTable) return;\n",
              "\n",
              "          const docLinkHtml = 'Like what you see? Visit the ' +\n",
              "            '<a target=\"_blank\" href=https://colab.research.google.com/notebooks/data_table.ipynb>data table notebook</a>'\n",
              "            + ' to learn more about interactive tables.';\n",
              "          element.innerHTML = '';\n",
              "          dataTable['output_type'] = 'display_data';\n",
              "          await google.colab.output.renderOutput(dataTable, element);\n",
              "          const docLink = document.createElement('div');\n",
              "          docLink.innerHTML = docLinkHtml;\n",
              "          element.appendChild(docLink);\n",
              "        }\n",
              "      </script>\n",
              "    </div>\n",
              "  </div>\n",
              "  "
            ],
            "text/plain": [
              "     PassengerId  Survived  Pclass  \\\n",
              "0              1         0       3   \n",
              "1              2         1       1   \n",
              "2              3         1       3   \n",
              "5              6         0       3   \n",
              "6              7         0       1   \n",
              "..           ...       ...     ...   \n",
              "884          885         0       3   \n",
              "887          888         1       1   \n",
              "888          889         0       3   \n",
              "889          890         1       1   \n",
              "890          891         0       3   \n",
              "\n",
              "                                                  Name     Sex   Age  SibSp  \\\n",
              "0                              Braund, Mr. Owen Harris    male  22.0      1   \n",
              "1    Cumings, Mrs. John Bradley (Florence Briggs Th...  female  38.0      1   \n",
              "2                               Heikkinen, Miss. Laina  female  26.0      0   \n",
              "5                                     Moran, Mr. James    male   NaN      0   \n",
              "6                              McCarthy, Mr. Timothy J    male  54.0      0   \n",
              "..                                                 ...     ...   ...    ...   \n",
              "884                             Sutehall, Mr. Henry Jr    male  25.0      0   \n",
              "887                       Graham, Miss. Margaret Edith  female  19.0      0   \n",
              "888           Johnston, Miss. Catherine Helen \"Carrie\"  female   NaN      1   \n",
              "889                              Behr, Mr. Karl Howell    male  26.0      0   \n",
              "890                                Dooley, Mr. Patrick    male  32.0      0   \n",
              "\n",
              "     Parch            Ticket     Fare Cabin Embarked   lastname  title  \\\n",
              "0        0         A/5 21171   7.2500   NaN        S     Braund    Mr.   \n",
              "1        0          PC 17599  71.2833   C85        C    Cumings   Mrs.   \n",
              "2        0  STON/O2. 3101282   7.9250   NaN        S  Heikkinen  Miss.   \n",
              "5        0            330877   8.4583   NaN        Q      Moran    Mr.   \n",
              "6        0             17463  51.8625   E46        S   McCarthy    Mr.   \n",
              "..     ...               ...      ...   ...      ...        ...    ...   \n",
              "884      0   SOTON/OQ 392076   7.0500   NaN        S   Sutehall    Mr.   \n",
              "887      0            112053  30.0000   B42        S     Graham  Miss.   \n",
              "888      2        W./C. 6607  23.4500   NaN        S   Johnston  Miss.   \n",
              "889      0            111369  30.0000  C148        C       Behr    Mr.   \n",
              "890      0            370376   7.7500   NaN        Q     Dooley    Mr.   \n",
              "\n",
              "                                 firstname  \n",
              "0                              Owen Harris  \n",
              "1    John Bradley (Florence Briggs Thayer)  \n",
              "2                                    Laina  \n",
              "5                                    James  \n",
              "6                                Timothy J  \n",
              "..                                     ...  \n",
              "884                               Henry Jr  \n",
              "887                         Margaret Edith  \n",
              "888               Catherine Helen \"Carrie\"  \n",
              "889                            Karl Howell  \n",
              "890                                Patrick  \n",
              "\n",
              "[671 rows x 15 columns]"
            ]
          },
          "execution_count": 72,
          "metadata": {},
          "output_type": "execute_result"
        }
      ],
      "source": [
        "# Applying regex and contains in pandas string operations\n",
        "# Find rows where firstname contains 'john' (case insensitive)\n",
        "df[df['firstname'].str.contains('john',case=False)]\n",
        "# Find lastnames that start and end with a non-vowel character using regex\n",
        "df[df['lastname'].str.contains('^[^aeiouAEIOU].+[^aeiouAEIOU]$')]"
      ]
    },
    {
      "cell_type": "code",
      "execution_count": null,
      "metadata": {
        "colab": {
          "base_uri": "https://localhost:8080/"
        },
        "id": "0S4jPWUjZfwj",
        "outputId": "66909574-36e5-407e-a160-e17034e24543"
      },
      "outputs": [
        {
          "data": {
            "text/plain": [
              "0                                sirraH newO .rM ,dnuarB\n",
              "1      )reyahT sggirB ecnerolF( yeldarB nhoJ .srM ,sg...\n",
              "2                                 aniaL .ssiM ,nenikkieH\n",
              "3           )leeP yaM yliL( htaeH seuqcaJ .srM ,ellertuF\n",
              "4                               yrneH mailliW .rM ,nellA\n",
              "                             ...                        \n",
              "886                                sazouJ .veR ,alivtnoM\n",
              "887                         htidE teragraM .ssiM ,maharG\n",
              "888             \"eirraC\" neleH enirehtaC .ssiM ,notsnhoJ\n",
              "889                                llewoH lraK .rM ,rheB\n",
              "890                                  kcirtaP .rM ,yelooD\n",
              "Name: Name, Length: 891, dtype: object"
            ]
          },
          "execution_count": 76,
          "metadata": {},
          "output_type": "execute_result"
        }
      ],
      "source": [
        "# Reverse the strings in the 'Name' column using slicing\n",
        "df['Name'].str[::-1]"
      ]
    },
    {
      "cell_type": "code",
      "execution_count": null,
      "metadata": {
        "id": "Ny0Puj9qpPiI"
      },
      "outputs": [],
      "source": [
        "# (This cell is intentionally left blank for future code or notes)"
      ]
    }
  ],
  "metadata": {
    "colab": {
      "provenance": []
    },
    "kernelspec": {
      "display_name": "Python 3",
      "name": "python3"
    },
    "language_info": {
      "codemirror_mode": {
        "name": "ipython",
        "version": 3
      },
      "file_extension": ".py",
      "mimetype": "text/x-python",
      "name": "python",
      "nbconvert_exporter": "python",
      "pygments_lexer": "ipython3",
      "version": "3.12.4"
    }
  },
  "nbformat": 4,
  "nbformat_minor": 0
}
