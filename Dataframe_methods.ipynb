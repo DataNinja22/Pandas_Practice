{
 "cells": [
  {
   "cell_type": "markdown",
   "metadata": {
    "id": "iIqQU6-kBe78"
   },
   "source": [
    "### More Important Functions"
   ]
  },
  {
   "cell_type": "code",
   "execution_count": null,
   "metadata": {
    "id": "zfZByuB2BhlM"
   },
   "outputs": [],
   "source": [
    "# value_counts: Returns a Series containing counts of unique values.\n",
    "# sort_values: Sorts a Series or DataFrame by the values along either axis.\n",
    "# rank: Computes numerical data ranks (1 through n) along axis.\n",
    "# sort index: Sorts object by labels (along an axis).\n",
    "# set index: Sets the DataFrame index using existing columns.\n",
    "# rename index -> rename: Renames the index or columns of a DataFrame.\n",
    "# reset index: Resets the index, or a level of it.\n",
    "# unique & nunique: unique() returns unique values, nunique() returns the number of unique values.\n",
    "# isnull/notnull/hasnans: Detects missing values (NaN), not missing, or checks if any NaNs exist.\n",
    "# dropna: Removes missing values.\n",
    "# fillna: Fills missing values with a specified value or method.\n",
    "# drop_duplicates: Removes duplicate rows or values.\n",
    "# drop: Removes specified labels from rows or columns.\n",
    "# apply: Applies a function along an axis of the DataFrame or on values of Series.\n",
    "# isin: Checks whether each element is contained in a list-like object.\n",
    "# corr: Computes pairwise correlation of columns, excluding NA/null values.\n",
    "# nlargest -> nsmallest: Returns the n largest/smallest values.\n",
    "# insert: Inserts a column into DataFrame at a specified location.\n",
    "# copy: Returns a copy of the object."
   ]
  },
  {
   "cell_type": "code",
   "execution_count": null,
   "metadata": {
    "id": "s7KlmQ7nLaGa"
   },
   "outputs": [],
   "source": [
    "# Import numpy for numerical operations\n",
    "import numpy as np\n",
    "# Import pandas for data manipulation and analysis\n",
    "import pandas as pd"
   ]
  },
  {
   "cell_type": "code",
   "execution_count": null,
   "metadata": {
    "colab": {
     "base_uri": "https://localhost:8080/"
    },
    "id": "WGI25O2PNurz",
    "outputId": "0fe21aa7-4eb2-4f4a-ccbd-03a479f327bf"
   },
   "outputs": [
    {
     "data": {
      "application/vnd.microsoft.datawrangler.viewer.v0+json": {
       "columns": [
        {
         "name": "index",
         "rawType": "int64",
         "type": "integer"
        },
        {
         "name": "count",
         "rawType": "int64",
         "type": "integer"
        }
       ],
       "ref": "1400e447-2a4c-46a9-a3a7-79568aa65430",
       "rows": [
        [
         "1",
         "3"
        ],
        [
         "2",
         "2"
        ],
        [
         "3",
         "1"
        ]
       ],
       "shape": {
        "columns": 1,
        "rows": 3
       }
      },
      "text/plain": [
       "1    3\n",
       "2    2\n",
       "3    1\n",
       "Name: count, dtype: int64"
      ]
     },
     "execution_count": 3,
     "metadata": {},
     "output_type": "execute_result"
    }
   ],
   "source": [
    "# Create a pandas Series with repeated values\n",
    "a = pd.Series([1,1,1,2,2,3])\n",
    "# value_counts() gives counts of unique values in the Series\n",
    "a.value_counts() #gives counts of unique values"
   ]
  },
  {
   "cell_type": "code",
   "execution_count": null,
   "metadata": {
    "colab": {
     "base_uri": "https://localhost:8080/",
     "height": 206
    },
    "id": "aSJ6ResTCziD",
    "outputId": "43f320ba-23e2-4695-c1f0-c84defae23b5"
   },
   "outputs": [
    {
     "data": {
      "application/vnd.microsoft.datawrangler.viewer.v0+json": {
       "columns": [
        {
         "name": "index",
         "rawType": "int64",
         "type": "integer"
        },
        {
         "name": "iq",
         "rawType": "int64",
         "type": "integer"
        },
        {
         "name": "marks",
         "rawType": "int64",
         "type": "integer"
        },
        {
         "name": "package",
         "rawType": "int64",
         "type": "integer"
        }
       ],
       "ref": "82f29c3f-5920-4ed4-bdb9-af96aed0208b",
       "rows": [
        [
         "0",
         "100",
         "80",
         "10"
        ],
        [
         "1",
         "90",
         "70",
         "7"
        ],
        [
         "2",
         "120",
         "100",
         "14"
        ],
        [
         "3",
         "80",
         "70",
         "14"
        ],
        [
         "4",
         "80",
         "70",
         "14"
        ]
       ],
       "shape": {
        "columns": 3,
        "rows": 5
       }
      },
      "text/html": [
       "<div>\n",
       "<style scoped>\n",
       "    .dataframe tbody tr th:only-of-type {\n",
       "        vertical-align: middle;\n",
       "    }\n",
       "\n",
       "    .dataframe tbody tr th {\n",
       "        vertical-align: top;\n",
       "    }\n",
       "\n",
       "    .dataframe thead th {\n",
       "        text-align: right;\n",
       "    }\n",
       "</style>\n",
       "<table border=\"1\" class=\"dataframe\">\n",
       "  <thead>\n",
       "    <tr style=\"text-align: right;\">\n",
       "      <th></th>\n",
       "      <th>iq</th>\n",
       "      <th>marks</th>\n",
       "      <th>package</th>\n",
       "    </tr>\n",
       "  </thead>\n",
       "  <tbody>\n",
       "    <tr>\n",
       "      <th>0</th>\n",
       "      <td>100</td>\n",
       "      <td>80</td>\n",
       "      <td>10</td>\n",
       "    </tr>\n",
       "    <tr>\n",
       "      <th>1</th>\n",
       "      <td>90</td>\n",
       "      <td>70</td>\n",
       "      <td>7</td>\n",
       "    </tr>\n",
       "    <tr>\n",
       "      <th>2</th>\n",
       "      <td>120</td>\n",
       "      <td>100</td>\n",
       "      <td>14</td>\n",
       "    </tr>\n",
       "    <tr>\n",
       "      <th>3</th>\n",
       "      <td>80</td>\n",
       "      <td>70</td>\n",
       "      <td>14</td>\n",
       "    </tr>\n",
       "    <tr>\n",
       "      <th>4</th>\n",
       "      <td>80</td>\n",
       "      <td>70</td>\n",
       "      <td>14</td>\n",
       "    </tr>\n",
       "  </tbody>\n",
       "</table>\n",
       "</div>"
      ],
      "text/plain": [
       "    iq  marks  package\n",
       "0  100     80       10\n",
       "1   90     70        7\n",
       "2  120    100       14\n",
       "3   80     70       14\n",
       "4   80     70       14"
      ]
     },
     "execution_count": 4,
     "metadata": {},
     "output_type": "execute_result"
    }
   ],
   "source": [
    "# value_counts can be used on both Series and DataFrame\n",
    "\n",
    "# Create a DataFrame with columns iq, marks, package\n",
    "marks = pd.DataFrame([\n",
    "    [100,80,10],\n",
    "    [90,70,7],\n",
    "    [120,100,14],\n",
    "    [80,70,14],\n",
    "    [80,70,14]\n",
    "# Each inner list is a row\n",
    "],columns=['iq','marks','package'])  #  # DataFrame with columns iq, marks, package\n",
    "\n",
    "marks"
   ]
  },
  {
   "cell_type": "code",
   "execution_count": null,
   "metadata": {
    "colab": {
     "base_uri": "https://localhost:8080/"
    },
    "id": "vWFFv-cwkoiZ",
    "outputId": "040c7e8c-b94f-4679-f50c-e527d1d0ac10"
   },
   "outputs": [
    {
     "data": {
      "application/vnd.microsoft.datawrangler.viewer.v0+json": {
       "columns": [
        {
         "name": "('iq', 'marks', 'package')",
         "rawType": "object",
         "type": "unknown"
        },
        {
         "name": "count",
         "rawType": "int64",
         "type": "integer"
        }
       ],
       "ref": "40db5358-ec3a-4edd-bc5c-2643490297db",
       "rows": [
        [
         "(80, 70, 14)",
         "2"
        ],
        [
         "(90, 70, 7)",
         "1"
        ],
        [
         "(100, 80, 10)",
         "1"
        ],
        [
         "(120, 100, 14)",
         "1"
        ]
       ],
       "shape": {
        "columns": 1,
        "rows": 4
       }
      },
      "text/plain": [
       "iq   marks  package\n",
       "80   70     14         2\n",
       "90   70     7          1\n",
       "100  80     10         1\n",
       "120  100    14         1\n",
       "Name: count, dtype: int64"
      ]
     },
     "execution_count": 5,
     "metadata": {},
     "output_type": "execute_result"
    }
   ],
   "source": [
    "# value_counts() on DataFrame gives counts of unique rows\n",
    "marks.value_counts() # gives counts of unique rows in dataframe"
   ]
  },
  {
   "cell_type": "code",
   "execution_count": null,
   "metadata": {
    "colab": {
     "base_uri": "https://localhost:8080/"
    },
    "id": "zkqZtTYkObc0",
    "outputId": "b3f6725e-363e-4d66-f23b-840bcaffc991"
   },
   "outputs": [
    {
     "data": {
      "application/vnd.microsoft.datawrangler.viewer.v0+json": {
       "columns": [
        {
         "name": "Player_of_Match",
         "rawType": "object",
         "type": "string"
        },
        {
         "name": "count",
         "rawType": "int64",
         "type": "integer"
        }
       ],
       "ref": "24aa3b72-569f-4c51-b69d-ea0a88d9e7ee",
       "rows": [
        [
         "KA Pollard",
         "3"
        ],
        [
         "F du Plessis",
         "3"
        ],
        [
         "SK Raina",
         "3"
        ],
        [
         "A Kumble",
         "2"
        ],
        [
         "MK Pandey",
         "2"
        ],
        [
         "YK Pathan",
         "2"
        ],
        [
         "M Vijay",
         "2"
        ],
        [
         "JJ Bumrah",
         "2"
        ],
        [
         "AB de Villiers",
         "2"
        ],
        [
         "SR Watson",
         "2"
        ],
        [
         "HH Pandya",
         "1"
        ],
        [
         "Harbhajan Singh",
         "1"
        ],
        [
         "A Nehra",
         "1"
        ],
        [
         "V Sehwag",
         "1"
        ],
        [
         "UT Yadav",
         "1"
        ],
        [
         "MS Bisla",
         "1"
        ],
        [
         "BJ Hodge",
         "1"
        ],
        [
         "MEK Hussey",
         "1"
        ],
        [
         "MS Dhoni",
         "1"
        ],
        [
         "CH Gayle",
         "1"
        ],
        [
         "MM Patel",
         "1"
        ],
        [
         "DE Bollinger",
         "1"
        ],
        [
         "AC Gilchrist",
         "1"
        ],
        [
         "RG Sharma",
         "1"
        ],
        [
         "DA Warner",
         "1"
        ],
        [
         "MC Henriques",
         "1"
        ],
        [
         "JC Buttler",
         "1"
        ],
        [
         "RM Patidar",
         "1"
        ],
        [
         "DA Miller",
         "1"
        ],
        [
         "VR Iyer",
         "1"
        ],
        [
         "SP Narine",
         "1"
        ],
        [
         "RD Gaikwad",
         "1"
        ],
        [
         "TA Boult",
         "1"
        ],
        [
         "MP Stoinis",
         "1"
        ],
        [
         "KS Williamson",
         "1"
        ],
        [
         "RR Pant",
         "1"
        ],
        [
         "SA Yadav",
         "1"
        ],
        [
         "Rashid Khan",
         "1"
        ],
        [
         "AD Russell",
         "1"
        ],
        [
         "KH Pandya",
         "1"
        ],
        [
         "KV Sharma",
         "1"
        ],
        [
         "NM Coulter-Nile",
         "1"
        ],
        [
         "Washington Sundar",
         "1"
        ],
        [
         "BCJ Cutting",
         "1"
        ],
        [
         "M Ntini",
         "1"
        ]
       ],
       "shape": {
        "columns": 1,
        "rows": 45
       }
      },
      "text/plain": [
       "Player_of_Match\n",
       "KA Pollard           3\n",
       "F du Plessis         3\n",
       "SK Raina             3\n",
       "A Kumble             2\n",
       "MK Pandey            2\n",
       "YK Pathan            2\n",
       "M Vijay              2\n",
       "JJ Bumrah            2\n",
       "AB de Villiers       2\n",
       "SR Watson            2\n",
       "HH Pandya            1\n",
       "Harbhajan Singh      1\n",
       "A Nehra              1\n",
       "V Sehwag             1\n",
       "UT Yadav             1\n",
       "MS Bisla             1\n",
       "BJ Hodge             1\n",
       "MEK Hussey           1\n",
       "MS Dhoni             1\n",
       "CH Gayle             1\n",
       "MM Patel             1\n",
       "DE Bollinger         1\n",
       "AC Gilchrist         1\n",
       "RG Sharma            1\n",
       "DA Warner            1\n",
       "MC Henriques         1\n",
       "JC Buttler           1\n",
       "RM Patidar           1\n",
       "DA Miller            1\n",
       "VR Iyer              1\n",
       "SP Narine            1\n",
       "RD Gaikwad           1\n",
       "TA Boult             1\n",
       "MP Stoinis           1\n",
       "KS Williamson        1\n",
       "RR Pant              1\n",
       "SA Yadav             1\n",
       "Rashid Khan          1\n",
       "AD Russell           1\n",
       "KH Pandya            1\n",
       "KV Sharma            1\n",
       "NM Coulter-Nile      1\n",
       "Washington Sundar    1\n",
       "BCJ Cutting          1\n",
       "M Ntini              1\n",
       "Name: count, dtype: int64"
      ]
     },
     "execution_count": 6,
     "metadata": {},
     "output_type": "execute_result"
    }
   ],
   "source": [
    "# Read IPL matches data from CSV\n",
    "ipl = pd.read_csv('DataSets/datasets-session-17/ipl-matches.csv')\n",
    "# Use value_counts to find most frequent Player_of_Match in playoff matches (where MatchNumber is not a digit)\n",
    "ipl[~ipl['MatchNumber'].str.isdigit()]['Player_of_Match'].value_counts()  # gives counts of unique values in 'Player_of_Match' column where 'MatchNumber' is not a digit mtlb playoffs ke"
   ]
  },
  {
   "cell_type": "code",
   "execution_count": null,
   "metadata": {
    "id": "hOmw9I-qjdhX"
   },
   "outputs": [],
   "source": [
    "# Find which player has won the most Player of the Match awards in finals and qualifiers"
   ]
  },
  {
   "cell_type": "code",
   "execution_count": null,
   "metadata": {
    "colab": {
     "base_uri": "https://localhost:8080/",
     "height": 265
    },
    "id": "O7JY3_rHjePc",
    "outputId": "a58e0ac9-6470-4810-c747-8f2578b2b60d"
   },
   "outputs": [
    {
     "data": {
      "text/plain": [
       "<Axes: ylabel='count'>"
      ]
     },
     "execution_count": 7,
     "metadata": {},
     "output_type": "execute_result"
    },
    {
     "data": {
      "image/png": "[encoded data removed]",
      "text/plain": [
       "<Figure size 640x480 with 1 Axes>"
      ]
     },
     "metadata": {},
     "output_type": "display_data"
    }
   ],
   "source": [
    "# Plot a pie chart of toss decisions using value_counts\n",
    "ipl['TossDecision'].value_counts().plot(kind='pie') # pie chart of toss decision"
   ]
  },
  {
   "cell_type": "code",
   "execution_count": null,
   "metadata": {
    "colab": {
     "base_uri": "https://localhost:8080/"
    },
    "id": "VtH_GWk8jgJj",
    "outputId": "3dd9559b-e239-4f1e-d7a3-9c156f740720"
   },
   "outputs": [
    {
     "data": {
      "application/vnd.microsoft.datawrangler.viewer.v0+json": {
       "columns": [
        {
         "name": "index",
         "rawType": "object",
         "type": "string"
        },
        {
         "name": "count",
         "rawType": "int64",
         "type": "integer"
        }
       ],
       "ref": "1e449c3c-9236-47a5-8cf3-9e72ef561c66",
       "rows": [
        [
         "Mumbai Indians",
         "231"
        ],
        [
         "Royal Challengers Bangalore",
         "226"
        ],
        [
         "Kolkata Knight Riders",
         "223"
        ],
        [
         "Chennai Super Kings",
         "208"
        ],
        [
         "Rajasthan Royals",
         "192"
        ],
        [
         "Kings XI Punjab",
         "190"
        ],
        [
         "Delhi Daredevils",
         "161"
        ],
        [
         "Sunrisers Hyderabad",
         "152"
        ],
        [
         "Deccan Chargers",
         "75"
        ],
        [
         "Delhi Capitals",
         "63"
        ],
        [
         "Pune Warriors",
         "46"
        ],
        [
         "Gujarat Lions",
         "30"
        ],
        [
         "Punjab Kings",
         "28"
        ],
        [
         "Gujarat Titans",
         "16"
        ],
        [
         "Rising Pune Supergiant",
         "16"
        ],
        [
         "Lucknow Super Giants",
         "15"
        ],
        [
         "Kochi Tuskers Kerala",
         "14"
        ],
        [
         "Rising Pune Supergiants",
         "14"
        ]
       ],
       "shape": {
        "columns": 1,
        "rows": 18
       }
      },
      "text/plain": [
       "Mumbai Indians                 231\n",
       "Royal Challengers Bangalore    226\n",
       "Kolkata Knight Riders          223\n",
       "Chennai Super Kings            208\n",
       "Rajasthan Royals               192\n",
       "Kings XI Punjab                190\n",
       "Delhi Daredevils               161\n",
       "Sunrisers Hyderabad            152\n",
       "Deccan Chargers                 75\n",
       "Delhi Capitals                  63\n",
       "Pune Warriors                   46\n",
       "Gujarat Lions                   30\n",
       "Punjab Kings                    28\n",
       "Gujarat Titans                  16\n",
       "Rising Pune Supergiant          16\n",
       "Lucknow Super Giants            15\n",
       "Kochi Tuskers Kerala            14\n",
       "Rising Pune Supergiants         14\n",
       "Name: count, dtype: int64"
      ]
     },
     "execution_count": 8,
     "metadata": {},
     "output_type": "execute_result"
    }
   ],
   "source": [
    "# Calculate how many matches each team has played by summing value_counts for Team1 and Team2\n",
    "# Then sort the result in descending order\n",
    "(ipl['Team2'].value_counts() + ipl['Team1'].value_counts()).sort_values(ascending=False)"
   ]
  },
  {
   "cell_type": "code",
   "execution_count": null,
   "metadata": {
    "id": "krNDbB43jjhq"
   },
   "outputs": [],
   "source": [
    "# sort_values(series and dataframe) -> ascending -> na_position -> inplace -> multiple cols"
   ]
  },
  {
   "cell_type": "code",
   "execution_count": 9,
   "metadata": {
    "colab": {
     "base_uri": "https://localhost:8080/"
    },
    "id": "XiOrO1gvlYp1",
    "outputId": "3255ece1-21f7-42f1-9da7-02d41eff6244"
   },
   "outputs": [
    {
     "data": {
      "application/vnd.microsoft.datawrangler.viewer.v0+json": {
       "columns": [
        {
         "name": "index",
         "rawType": "int64",
         "type": "integer"
        },
        {
         "name": "0",
         "rawType": "int64",
         "type": "integer"
        }
       ],
       "ref": "0574338d-3e07-43ff-aa71-a0240f0b02d3",
       "rows": [
        [
         "0",
         "12"
        ],
        [
         "1",
         "14"
        ],
        [
         "2",
         "1"
        ],
        [
         "3",
         "56"
        ],
        [
         "4",
         "89"
        ]
       ],
       "shape": {
        "columns": 1,
        "rows": 5
       }
      },
      "text/plain": [
       "0    12\n",
       "1    14\n",
       "2     1\n",
       "3    56\n",
       "4    89\n",
       "dtype: int64"
      ]
     },
     "execution_count": 9,
     "metadata": {},
     "output_type": "execute_result"
    }
   ],
   "source": [
    "x = pd.Series([12,14,1,56,89])\n",
    "x"
   ]
  },
  {
   "cell_type": "code",
   "execution_count": 10,
   "metadata": {
    "colab": {
     "base_uri": "https://localhost:8080/"
    },
    "id": "gFXmWgPzlZPE",
    "outputId": "669d7760-4182-43ee-f3cc-8488071c17a6"
   },
   "outputs": [
    {
     "data": {
      "application/vnd.microsoft.datawrangler.viewer.v0+json": {
       "columns": [
        {
         "name": "index",
         "rawType": "int64",
         "type": "integer"
        },
        {
         "name": "0",
         "rawType": "int64",
         "type": "integer"
        }
       ],
       "ref": "b0b0a025-0160-433c-81a8-b5ba25d0752f",
       "rows": [
        [
         "4",
         "89"
        ],
        [
         "3",
         "56"
        ],
        [
         "1",
         "14"
        ],
        [
         "0",
         "12"
        ],
        [
         "2",
         "1"
        ]
       ],
       "shape": {
        "columns": 1,
        "rows": 5
       }
      },
      "text/plain": [
       "4    89\n",
       "3    56\n",
       "1    14\n",
       "0    12\n",
       "2     1\n",
       "dtype: int64"
      ]
     },
     "execution_count": 10,
     "metadata": {},
     "output_type": "execute_result"
    }
   ],
   "source": [
    "x.sort_values(ascending=False)"
   ]
  },
  {
   "cell_type": "code",
   "execution_count": 15,
   "metadata": {
    "colab": {
     "base_uri": "https://localhost:8080/",
     "height": 534
    },
    "id": "8Ab_cQ4gRXgI",
    "outputId": "597b56b5-171e-46bd-b27d-86e08a124cb8"
   },
   "outputs": [
    {
     "data": {
      "application/vnd.microsoft.datawrangler.viewer.v0+json": {
       "columns": [
        {
         "name": "index",
         "rawType": "int64",
         "type": "integer"
        },
        {
         "name": "title_x",
         "rawType": "object",
         "type": "string"
        },
        {
         "name": "imdb_id",
         "rawType": "object",
         "type": "string"
        },
        {
         "name": "poster_path",
         "rawType": "object",
         "type": "unknown"
        },
        {
         "name": "wiki_link",
         "rawType": "object",
         "type": "string"
        },
        {
         "name": "title_y",
         "rawType": "object",
         "type": "string"
        },
        {
         "name": "original_title",
         "rawType": "object",
         "type": "string"
        },
        {
         "name": "is_adult",
         "rawType": "int64",
         "type": "integer"
        },
        {
         "name": "year_of_release",
         "rawType": "int64",
         "type": "integer"
        },
        {
         "name": "runtime",
         "rawType": "object",
         "type": "string"
        },
        {
         "name": "genres",
         "rawType": "object",
         "type": "string"
        },
        {
         "name": "imdb_rating",
         "rawType": "float64",
         "type": "float"
        },
        {
         "name": "imdb_votes",
         "rawType": "int64",
         "type": "integer"
        },
        {
         "name": "story",
         "rawType": "object",
         "type": "string"
        },
        {
         "name": "summary",
         "rawType": "object",
         "type": "string"
        },
        {
         "name": "tagline",
         "rawType": "object",
         "type": "unknown"
        },
        {
         "name": "actors",
         "rawType": "object",
         "type": "string"
        },
        {
         "name": "wins_nominations",
         "rawType": "object",
         "type": "unknown"
        },
        {
         "name": "release_date",
         "rawType": "object",
         "type": "string"
        }
       ],
       "ref": "52df6eaa-6e3c-4223-8533-f5e5064e73c0",
       "rows": [
        [
         "0",
         "Uri: The Surgical Strike",
         "tt8291224",
         "https://upload.wikimedia.org/wikipedia/en/thumb/3/3b/URI_-_New_poster.jpg/220px-URI_-_New_poster.jpg",
         "https://en.wikipedia.org/wiki/Uri:_The_Surgical_Strike",
         "Uri: The Surgical Strike",
         "Uri: The Surgical Strike",
         "0",
         "2019",
         "138",
         "Action|Drama|War",
         "8.4",
         "35112",
         "Divided over five chapters  the film chronicles the events of the surgical strike conducted by the Indian military against suspected militants in Pakistan occupied Kashmir. It tells the story of the 11 tumultuous events over which the operation was carried out. Indian army special forces carry out a covert operation to avenge the killing of fellow army men at their base by a terrorist group.",
         "Indian army special forces execute a covert operation  avenging the killing of fellow army men at their base by a terrorist group.",
         null,
         "Vicky Kaushal|Paresh Rawal|Mohit Raina|Yami Gautam|Kirti Kulhari|Rajit Kapoor|Ivan Rodrigues|Manasi Parekh|Swaroop Sampat|Riva Arora|Yogesh Soman|Fareed Ahmed|Akashdeep Arora|Kallol Banerjee|",
         "4 wins",
         "11 January 2019 (USA)"
        ],
        [
         "1",
         "Battalion 609",
         "tt9472208",
         null,
         "https://en.wikipedia.org/wiki/Battalion_609",
         "Battalion 609",
         "Battalion 609",
         "0",
         "2019",
         "131",
         "War",
         "4.1",
         "73",
         "The story revolves around a cricket match between the Indian Army and the Pakistan Army gone wrong and narrates the tale of the soldiers of Battalion 609 putting up a fight with Taliban. After an attack on Indian Army that is Battalion 609 near the LOC  the match which was to be played between India and Pakistan is cancelled. Anwar Hussein  a Pakistani soldier who is very fond of cricket and was looking forward to the match  throws a cricket bat at the other end of the LOC and calls the Indian army and Indians a bunch of cowards. In anger  the Indian army throws a ball towards them. Soon  a verbal fight breaks between them which leads to the two teams deciding to play a cricket match. The losing team will take their post eighteen kilometres back.",
         "The story of Battalion 609 revolves around a cricket match between the Indian Army and the Pakistan army gone wrong and narrates the tale of the brave soldiers of Battalion 609 putting up a fight with the mighty Taliban.",
         null,
         "Vicky Ahuja|Shoaib Ibrahim|Shrikant Kamat|Elena Kazan|Vishwas Kini|Major Kishore|Jashn Kohli|Rammy C. Pandey|Manish Sharma|Sparsh Sharma|Farnaz Shetty|Vikas Shrivastav|Chandraprakash Thakur|Brajesh Tiwari|",
         null,
         "11 January 2019 (India)"
        ],
        [
         "2",
         "The Accidental Prime Minister (film)",
         "tt6986710",
         "https://upload.wikimedia.org/wikipedia/en/thumb/a/a1/The_Accidental_Prime_Minister_film.jpg/220px-The_Accidental_Prime_Minister_film.jpg",
         "https://en.wikipedia.org/wiki/The_Accidental_Prime_Minister_(film)",
         "The Accidental Prime Minister",
         "The Accidental Prime Minister",
         "0",
         "2019",
         "112",
         "Biography|Drama",
         "6.1",
         "5549",
         "Based on the memoir by Indian policy analyst Sanjaya Baru  The Accidental Prime Minister explores Manmohan Singh's tenure as the Prime Minister of India  and the interference of Congress Party in contradicting his decisions during his first tenure. He details how Singh fell a victim to Congress Party's dynastic approach. It highlights how Manmohan Singh was constantly ignored by Congress to maintain turf for Rahul Gandhi  the son of Sonia Gandhi and Rajiv Gandhi.",
         "Explores Manmohan Singh's tenure as the Prime Minister of India and the kind of control he had over the cabinet and the country.",
         null,
         "Anupam Kher|Akshaye Khanna|Aahana Kumra|Atul Sharma|Manoj Anand|Arjun Mathur|Suzanne Bernert|Abdul Quadir Amin|Bharat Mistri|Divya Seth|Anil Rastogi|Ramesh Bhatkar|Parrgash Kaur|Jess Kaur|",
         null,
         "11 January 2019 (USA)"
        ],
        [
         "3",
         "Why Cheat India",
         "tt8108208",
         "https://upload.wikimedia.org/wikipedia/en/thumb/a/a2/Why_Cheat_India_poster.jpg/220px-Why_Cheat_India_poster.jpg",
         "https://en.wikipedia.org/wiki/Why_Cheat_India",
         "Why Cheat India",
         "Why Cheat India",
         "0",
         "2019",
         "121",
         "Crime|Drama",
         "6.0",
         "1891",
         "The movie focuses on existing malpractices in country's education system  the whole concept of buying your way through education  jobs and earnings. Even with an evolving education system  the country faces scams like SSC and HSC paper leaks  CBSE re-examination  Vyaapam  etc. The movie tries to shift the attention of people to understand the vulnerability of hardworking and gifted students who get left out.",
         "The movie focuses on existing malpractices in country's education system  the whole concept of buying your way through education  jobs and earnings. Even with an evolving education system  ...                    ",
         null,
         "Emraan Hashmi|Shreya Dhanwanthary|Snighdadeep Chatterji|Navneet Srivastava|Nanda Yadav|",
         null,
         "18 January 2019 (USA)"
        ]
       ],
       "shape": {
        "columns": 18,
        "rows": 4
       }
      },
      "text/html": [
       "<div>\n",
       "<style scoped>\n",
       "    .dataframe tbody tr th:only-of-type {\n",
       "        vertical-align: middle;\n",
       "    }\n",
       "\n",
       "    .dataframe tbody tr th {\n",
       "        vertical-align: top;\n",
       "    }\n",
       "\n",
       "    .dataframe thead th {\n",
       "        text-align: right;\n",
       "    }\n",
       "</style>\n",
       "<table border=\"1\" class=\"dataframe\">\n",
       "  <thead>\n",
       "    <tr style=\"text-align: right;\">\n",
       "      <th></th>\n",
       "      <th>title_x</th>\n",
       "      <th>imdb_id</th>\n",
       "      <th>poster_path</th>\n",
       "      <th>wiki_link</th>\n",
       "      <th>title_y</th>\n",
       "      <th>original_title</th>\n",
       "      <th>is_adult</th>\n",
       "      <th>year_of_release</th>\n",
       "      <th>runtime</th>\n",
       "      <th>genres</th>\n",
       "      <th>imdb_rating</th>\n",
       "      <th>imdb_votes</th>\n",
       "      <th>story</th>\n",
       "      <th>summary</th>\n",
       "      <th>tagline</th>\n",
       "      <th>actors</th>\n",
       "      <th>wins_nominations</th>\n",
       "      <th>release_date</th>\n",
       "    </tr>\n",
       "  </thead>\n",
       "  <tbody>\n",
       "    <tr>\n",
       "      <th>0</th>\n",
       "      <td>Uri: The Surgical Strike</td>\n",
       "      <td>tt8291224</td>\n",
       "      <td>https://upload.wikimedia.org/wikipedia/en/thum...</td>\n",
       "      <td>https://en.wikipedia.org/wiki/Uri:_The_Surgica...</td>\n",
       "      <td>Uri: The Surgical Strike</td>\n",
       "      <td>Uri: The Surgical Strike</td>\n",
       "      <td>0</td>\n",
       "      <td>2019</td>\n",
       "      <td>138</td>\n",
       "      <td>Action|Drama|War</td>\n",
       "      <td>8.4</td>\n",
       "      <td>35112</td>\n",
       "      <td>Divided over five chapters  the film chronicle...</td>\n",
       "      <td>Indian army special forces execute a covert op...</td>\n",
       "      <td>NaN</td>\n",
       "      <td>Vicky Kaushal|Paresh Rawal|Mohit Raina|Yami Ga...</td>\n",
       "      <td>4 wins</td>\n",
       "      <td>11 January 2019 (USA)</td>\n",
       "    </tr>\n",
       "    <tr>\n",
       "      <th>1</th>\n",
       "      <td>Battalion 609</td>\n",
       "      <td>tt9472208</td>\n",
       "      <td>NaN</td>\n",
       "      <td>https://en.wikipedia.org/wiki/Battalion_609</td>\n",
       "      <td>Battalion 609</td>\n",
       "      <td>Battalion 609</td>\n",
       "      <td>0</td>\n",
       "      <td>2019</td>\n",
       "      <td>131</td>\n",
       "      <td>War</td>\n",
       "      <td>4.1</td>\n",
       "      <td>73</td>\n",
       "      <td>The story revolves around a cricket match betw...</td>\n",
       "      <td>The story of Battalion 609 revolves around a c...</td>\n",
       "      <td>NaN</td>\n",
       "      <td>Vicky Ahuja|Shoaib Ibrahim|Shrikant Kamat|Elen...</td>\n",
       "      <td>NaN</td>\n",
       "      <td>11 January 2019 (India)</td>\n",
       "    </tr>\n",
       "    <tr>\n",
       "      <th>2</th>\n",
       "      <td>The Accidental Prime Minister (film)</td>\n",
       "      <td>tt6986710</td>\n",
       "      <td>https://upload.wikimedia.org/wikipedia/en/thum...</td>\n",
       "      <td>https://en.wikipedia.org/wiki/The_Accidental_P...</td>\n",
       "      <td>The Accidental Prime Minister</td>\n",
       "      <td>The Accidental Prime Minister</td>\n",
       "      <td>0</td>\n",
       "      <td>2019</td>\n",
       "      <td>112</td>\n",
       "      <td>Biography|Drama</td>\n",
       "      <td>6.1</td>\n",
       "      <td>5549</td>\n",
       "      <td>Based on the memoir by Indian policy analyst S...</td>\n",
       "      <td>Explores Manmohan Singh's tenure as the Prime ...</td>\n",
       "      <td>NaN</td>\n",
       "      <td>Anupam Kher|Akshaye Khanna|Aahana Kumra|Atul S...</td>\n",
       "      <td>NaN</td>\n",
       "      <td>11 January 2019 (USA)</td>\n",
       "    </tr>\n",
       "    <tr>\n",
       "      <th>3</th>\n",
       "      <td>Why Cheat India</td>\n",
       "      <td>tt8108208</td>\n",
       "      <td>https://upload.wikimedia.org/wikipedia/en/thum...</td>\n",
       "      <td>https://en.wikipedia.org/wiki/Why_Cheat_India</td>\n",
       "      <td>Why Cheat India</td>\n",
       "      <td>Why Cheat India</td>\n",
       "      <td>0</td>\n",
       "      <td>2019</td>\n",
       "      <td>121</td>\n",
       "      <td>Crime|Drama</td>\n",
       "      <td>6.0</td>\n",
       "      <td>1891</td>\n",
       "      <td>The movie focuses on existing malpractices in ...</td>\n",
       "      <td>The movie focuses on existing malpractices in ...</td>\n",
       "      <td>NaN</td>\n",
       "      <td>Emraan Hashmi|Shreya Dhanwanthary|Snighdadeep ...</td>\n",
       "      <td>NaN</td>\n",
       "      <td>18 January 2019 (USA)</td>\n",
       "    </tr>\n",
       "  </tbody>\n",
       "</table>\n",
       "</div>"
      ],
      "text/plain": [
       "                                title_x    imdb_id  \\\n",
       "0              Uri: The Surgical Strike  tt8291224   \n",
       "1                         Battalion 609  tt9472208   \n",
       "2  The Accidental Prime Minister (film)  tt6986710   \n",
       "3                       Why Cheat India  tt8108208   \n",
       "\n",
       "                                         poster_path  \\\n",
       "0  https://upload.wikimedia.org/wikipedia/en/thum...   \n",
       "1                                                NaN   \n",
       "2  https://upload.wikimedia.org/wikipedia/en/thum...   \n",
       "3  https://upload.wikimedia.org/wikipedia/en/thum...   \n",
       "\n",
       "                                           wiki_link  \\\n",
       "0  https://en.wikipedia.org/wiki/Uri:_The_Surgica...   \n",
       "1        https://en.wikipedia.org/wiki/Battalion_609   \n",
       "2  https://en.wikipedia.org/wiki/The_Accidental_P...   \n",
       "3      https://en.wikipedia.org/wiki/Why_Cheat_India   \n",
       "\n",
       "                         title_y                 original_title  is_adult  \\\n",
       "0       Uri: The Surgical Strike       Uri: The Surgical Strike         0   \n",
       "1                  Battalion 609                  Battalion 609         0   \n",
       "2  The Accidental Prime Minister  The Accidental Prime Minister         0   \n",
       "3                Why Cheat India                Why Cheat India         0   \n",
       "\n",
       "   year_of_release runtime            genres  imdb_rating  imdb_votes  \\\n",
       "0             2019     138  Action|Drama|War          8.4       35112   \n",
       "1             2019     131               War          4.1          73   \n",
       "2             2019     112   Biography|Drama          6.1        5549   \n",
       "3             2019     121       Crime|Drama          6.0        1891   \n",
       "\n",
       "                                               story  \\\n",
       "0  Divided over five chapters  the film chronicle...   \n",
       "1  The story revolves around a cricket match betw...   \n",
       "2  Based on the memoir by Indian policy analyst S...   \n",
       "3  The movie focuses on existing malpractices in ...   \n",
       "\n",
       "                                             summary tagline  \\\n",
       "0  Indian army special forces execute a covert op...     NaN   \n",
       "1  The story of Battalion 609 revolves around a c...     NaN   \n",
       "2  Explores Manmohan Singh's tenure as the Prime ...     NaN   \n",
       "3  The movie focuses on existing malpractices in ...     NaN   \n",
       "\n",
       "                                              actors wins_nominations  \\\n",
       "0  Vicky Kaushal|Paresh Rawal|Mohit Raina|Yami Ga...           4 wins   \n",
       "1  Vicky Ahuja|Shoaib Ibrahim|Shrikant Kamat|Elen...              NaN   \n",
       "2  Anupam Kher|Akshaye Khanna|Aahana Kumra|Atul S...              NaN   \n",
       "3  Emraan Hashmi|Shreya Dhanwanthary|Snighdadeep ...              NaN   \n",
       "\n",
       "              release_date  \n",
       "0    11 January 2019 (USA)  \n",
       "1  11 January 2019 (India)  \n",
       "2    11 January 2019 (USA)  \n",
       "3    18 January 2019 (USA)  "
      ]
     },
     "execution_count": 15,
     "metadata": {},
     "output_type": "execute_result"
    }
   ],
   "source": [
    "movies = pd.read_csv('DataSets/datasets-session-17/movies.csv')\n",
    "movies.head(4)"
   ]
  },
  {
   "cell_type": "code",
   "execution_count": 17,
   "metadata": {
    "colab": {
     "base_uri": "https://localhost:8080/",
     "height": 1000
    },
    "id": "L_lOP127RvHy",
    "outputId": "db3ae2f5-801a-4680-ed9c-1b223cd71867"
   },
   "outputs": [
    {
     "data": {
      "application/vnd.microsoft.datawrangler.viewer.v0+json": {
       "columns": [
        {
         "name": "index",
         "rawType": "int64",
         "type": "integer"
        },
        {
         "name": "title_x",
         "rawType": "object",
         "type": "string"
        },
        {
         "name": "imdb_id",
         "rawType": "object",
         "type": "string"
        },
        {
         "name": "poster_path",
         "rawType": "object",
         "type": "unknown"
        },
        {
         "name": "wiki_link",
         "rawType": "object",
         "type": "string"
        },
        {
         "name": "title_y",
         "rawType": "object",
         "type": "string"
        },
        {
         "name": "original_title",
         "rawType": "object",
         "type": "string"
        },
        {
         "name": "is_adult",
         "rawType": "int64",
         "type": "integer"
        },
        {
         "name": "year_of_release",
         "rawType": "int64",
         "type": "integer"
        },
        {
         "name": "runtime",
         "rawType": "object",
         "type": "string"
        },
        {
         "name": "genres",
         "rawType": "object",
         "type": "string"
        },
        {
         "name": "imdb_rating",
         "rawType": "float64",
         "type": "float"
        },
        {
         "name": "imdb_votes",
         "rawType": "int64",
         "type": "integer"
        },
        {
         "name": "story",
         "rawType": "object",
         "type": "unknown"
        },
        {
         "name": "summary",
         "rawType": "object",
         "type": "string"
        },
        {
         "name": "tagline",
         "rawType": "object",
         "type": "unknown"
        },
        {
         "name": "actors",
         "rawType": "object",
         "type": "unknown"
        },
        {
         "name": "wins_nominations",
         "rawType": "object",
         "type": "unknown"
        },
        {
         "name": "release_date",
         "rawType": "object",
         "type": "unknown"
        }
       ],
       "ref": "6c1d6722-d4a6-4738-8e6d-50d1e272ebc1",
       "rows": [
        [
         "1623",
         "Zubeidaa",
         "tt0255713",
         "https://upload.wikimedia.org/wikipedia/en/thumb/f/fc/Zubeidaa_poster.jpg/220px-Zubeidaa_poster.jpg",
         "https://en.wikipedia.org/wiki/Zubeidaa",
         "Zubeidaa",
         "Zubeidaa",
         "0",
         "2001",
         "153",
         "Biography|Drama|History",
         "6.2",
         "1384",
         "The film begins with Riyaz (Rajat Kapoor)  Zubeida's son setting out to research her life  and to meet the people who knew her. The story is thus told in the form of memories/reminiscences. Zubeida is a Muslim actress  who's career aspirations are thwarted by her film-producer father (Puri) who looks down upon a woman in acting. He arranges her marriage to her friend's son  but that breaks up after the birth of her son. Zubeida is now back at her parent's home  sad and depressed. Rose (Lilette Dubey) her father's mistress tries to cheer-up Zubeida by taking her out. On one of these outings  Zubeida meets Prince Vijayendra (Victor) Singh of Fatehpur (Bajpai). Quite taken with her  the Prince woos and marries her. Zubeida  now the 2nd wife of a Hindu prince  leaves her son behind with her mother (Sikri) and comes to live at Fatehpur. Here she meets the much older Mandira Devi (Rekha) the Prince's first wife  learns about the etiquette of being a Rani  and of the duties her husband has ...",
         "Zubeidaa  an aspiring Muslim actress  marries a Hindu prince to become his second wife. Her tumultuous relationship with her husband  and her inner demons lead her to a decision which has fatal consequences for them all.",
         "The Story of a Princess",
         "Karisma Kapoor|Rekha|Manoj Bajpayee|Rajit Kapoor|Surekha Sikri|Amrish Puri|Farida Jalal|Shakti Kapoor|Lillete Dubey|Ravi Jhankal|Smriti Mishra|S.M. Zaheer|Harish Patel|Seema Bhargava|",
         "3 wins & 13 nominations",
         "19 January 2001 (India)"
        ],
        [
         "939",
         "Zor Lagaa Ke...Haiya!",
         "tt1479857",
         "https://upload.wikimedia.org/wikipedia/en/thumb/a/ac/Zor_Laga_Ke_HaiyaMithun.jpg/220px-Zor_Laga_Ke_HaiyaMithun.jpg",
         "https://en.wikipedia.org/wiki/Zor_Lagaa_Ke...Haiya!",
         "Zor Lagaa Ke... Haiya!",
         "Zor Lagaa Ke... Haiya!",
         "0",
         "2009",
         "\\N",
         "Comedy|Drama|Family",
         "6.4",
         "46",
         "A tree narrates the story of four Mumbai-based school-children: Priya  Karan  Ritesh and Laddu  who are curious about a beggar  Raavan  and decide to observe him. With the help of a young construction laborer  Ram  they steal material from a construction site  build a tree-house in order to spy on him - a process that ends up in friendship. Things take a turn for the worst when a builder  Bakshi  asks his assistant  Gupta  to cut the tree down. The children object but are told that this action has been approved by the local government. The question remains: What can the children do - especially when they face opposition from their parents  and that Bakshi has not only made a donation to their society but also has Raavan arrested - in the state of Maharashtra that has set a near dubious record of cutting over Eleven Lakh Thirty Thousand trees in a five year period (2002-2007).",
         "Children build a tree-house to spy on a beggar  than seek his help against a builder.",
         null,
         "Meghan Jadhav|Mithun Chakraborty|Riya Sen|Seema Biswas|Raj Zutshi|Sachin Khedekar|Gulshan Grover|Ashwin Chitale|Ayesha Kaduskar|Mahesh Manjrekar|Ritvik Tyagi|Hardik Thakkar|",
         null,
         null
        ],
        [
         "756",
         "Zokkomon",
         "tt1605790",
         "https://upload.wikimedia.org/wikipedia/en/thumb/c/c1/Zokkomon.jpg/220px-Zokkomon.jpg",
         "https://en.wikipedia.org/wiki/Zokkomon",
         "Zokkomon",
         "Zokkomon",
         "0",
         "2011",
         "109",
         "Action|Adventure",
         "4.0",
         "274",
         "After the passing of his parents in an accident  Dehradun-based Kunal continues to study in a prestigious school  but is asked to leave and live with his paternal uncle  Deshraj; his aunt  Rajrani  and a cousin brother. Upon arrival  he is given a lukewarm response  and enrolled in the village school where not only he but all children are beaten and abused by teachers  especially Shantaram. When authorities find that Deshraj has embezzled Rs.80 Lakhs  he decides to cash the investments left behind by Kunal's parents  but finds that he can only do so after Kunal's death. He takes Kunal miles away to the fair  abandons him  returns home and informs everyone that Kunal is dead  and subsequently takes charge of the investments. Kunal befriends a petty thief  Kittu  who lives in an unoccupied house and adjusts to this new lifestyle. But more changes are in store for him after Kittu gets arrested  and he decides to return home to his uncle. Once there  he is mistaken for a ghost and takes ...",
         "An orphan is abused and abandoned  believed to be dead  and upon his return is first feared as a ghost  and then projected as a superhero.",
         "Betrayal. Friendship. Bravery.",
         "Darsheel Safary|Anupam Kher|Manjari Fadnnis|Tinnu Anand|Sheeba Chaddha|S.M. Zaheer|Aayam Mehta|Gargi Datar|Jai Vyas|Parth Muni|",
         null,
         "22 April 2011 (India)"
        ],
        [
         "670",
         "Zindagi Tere Naam",
         "tt2164702",
         "https://upload.wikimedia.org/wikipedia/en/thumb/e/e9/Zindagi_Tere_Naam.jpg/220px-Zindagi_Tere_Naam.jpg",
         "https://en.wikipedia.org/wiki/Zindagi_Tere_Naam",
         "Zindagi Tere Naam",
         "Zindagi Tere Naam",
         "0",
         "2012",
         "120",
         "Romance",
         "4.7",
         "27",
         "Mr. Singh  an elderly gentleman  relates to his wife  whose memory is fading  the story of two lovers. In the story  the lovers face great difficulties but eventually emerge victorious.",
         "Mr. Singh  an elderly gentleman  relates to his wife  whose memory is fading  the story of two lovers. In the story  the lovers face great difficulties but eventually emerge victorious.",
         null,
         "Mithun Chakraborty|Ranjeeta Kaur|Priyanka Mehta|Ashish Sharma|Aseem Ali Khan|",
         "1 win",
         "16 March 2012 (India)"
        ],
        [
         "778",
         "Zindagi Na Milegi Dobara",
         "tt1562872",
         "https://upload.wikimedia.org/wikipedia/en/thumb/1/17/Zindagi_Na_Milegi_Dobara.jpg/220px-Zindagi_Na_Milegi_Dobara.jpg",
         "https://en.wikipedia.org/wiki/Zindagi_Na_Milegi_Dobara",
         "Zindagi Na Milegi Dobara",
         "Zindagi Na Milegi Dobara",
         "0",
         "2011",
         "155",
         "Comedy|Drama",
         "8.1",
         "60826",
         "Three friends decide to turn their fantasy vacation into reality after one of their friends gets engaged.",
         "Three friends decide to turn their fantasy vacation into reality after one of their friends gets engaged.",
         null,
         "Hrithik Roshan|Farhan Akhtar|Abhay Deol|Katrina Kaif|Kalki Koechlin|Ariadna Cabrol|Naseeruddin Shah|Deepti Naval|Surpreet Bedi|Anisa Butt|Juan Jose Amador|Aashrita Kamath|Lolo Herrero|Barbara Holzer|",
         "30 wins & 22 nominations",
         "15 July 2011 (India)"
        ],
        [
         "1564",
         "Zindagi Khoobsoorat Hai",
         "tt0340464",
         null,
         "https://en.wikipedia.org/wiki/Zindagi_Khoobsoorat_Hai",
         "Zindagi Khoobsoorat Hai",
         "Zindagi Khoobsoorat Hai",
         "0",
         "2002",
         "\\N",
         "Drama|Family",
         "5.8",
         "46",
         "Murad Hussein and Gul Baloch have been enemies for years. Murad would like to propose a truce so that the two families become friends again  and for this occasion he has chosen to marry his brother to Gul's sister. The wedding is arranged and Gul and his family are accordingly invited. Gul does attend the wedding  bless the couple  and when night came  he and his accomplices brutally kill every male in the household  including his very own brother-in-law. Gul's sister loses her sanity  and is taken back home  where he lives with his daughter  Jameela. Gul's sister gives birth to a baby boy  Yusuf Zayed. Years later  Jameela has grown up  albeit disabled with a thinking of a one year old in the body of a nine year old. She is fascinated by aspiring Bollywood singer  Amar  and Gul abducts him and makes him Jameela's companion. In the meantime  Yusuf finds out that his mother has been feigning mental illness  and is able to recollect everything that happened on her wedding night. She ...",
         "Murad Hussein and Gul Baloch have been enemies for years. Murad would like to propose a truce so that the two families become friends again  and for this occasion he has chosen to marry his...                    ",
         null,
         "Gurdas Maan|Tabu|Ashish Vidyarthi|Rajit Kapoor|Divya Dutta|Akash Khurana|",
         "1 win",
         null
        ],
        [
         "602",
         "Zindagi 50-50",
         "tt2929840",
         "https://upload.wikimedia.org/wikipedia/en/thumb/c/c0/Zindagi50-50_new.jpg/220px-Zindagi50-50_new.jpg",
         "https://en.wikipedia.org/wiki/Zindagi_50-50",
         "Zindagi 50 50",
         "Zindagi 50 50",
         "0",
         "2013",
         "130",
         "Comedy|Drama",
         "2.7",
         "208",
         "Zindagi 50-50 revolves around three different stories . Zindagi means Life - Sometimes it's fun  and sometimes it's a curse - but it's just a point of view. People prays to god for happiness  so that they can enjoy their life. But the God says that he had already given a life to them  to enjoy all the happiness. It has been said that  the way you asks question to your life  it answers you in the same manner. \"Zindagi 50:50\" is the same story of such question and answers - It's a story of Rupa (A Housewife)  Madhuri (Prostitute_ and Nainja (A Struggling Actress). Rupa's husband  Birju (Auto Driver) has a dream of getting a house. To fulfill his dream  Rupa breaks all the limits of her life. To complete her dream of house  CR Lele (Government Servant) pushes her in a dark side of her life  where she gets the house  but also gets a smirch on her respect. Zindagi 50:50 is a story of special dreams of a common man. And to fulfill those dreams  he has to struggle a lot  but sometimes they ...",
         "Zindagi 50-50 revolves around three different stories . Zindagi means Life - Sometimes it's fun  and sometimes it's a curse - but it's just a point of view. People prays to god for ...                    ",
         "Rules of life are made to be broken.",
         "Veena Malik|Riya Sen|Rajan Verma|Arya Babbar|Supriya Kumari|Rajpal Yadav|",
         null,
         "24 May 2013 (India)"
        ],
        [
         "1214",
         "Zindaggi Rocks",
         "tt0823261",
         "https://upload.wikimedia.org/wikipedia/en/thumb/c/c3/Zindaggirocks.jpg/220px-Zindaggirocks.jpg",
         "https://en.wikipedia.org/wiki/Zindaggi_Rocks",
         "Zindaggi Rocks",
         "Zindaggi Rocks",
         "0",
         "2006",
         "\\N",
         "Drama|Romance",
         "4.0",
         "227",
         "During an outing Dr. Suraj Rihan  who is married to Shivani  is summoned by DCP Gazala Qadri who wants to question him about the sudden death of his girlfriend/singing diva  Kriya Sengupta. Through flashbacks Suraj attempts to clarify how he got involved with Kriya and her family  and how his involvement led to her sudden and questionable death.",
         "During an outing Dr. Suraj Rihan  who is married to Shivani  is summoned by DCP Gazala Qadri who wants to question him about the sudden death of his girlfriend/singing diva  Kriya Sengupta....                    ",
         null,
         "Sushmita Sen|Shiney Ahuja|Julian Burkhardt|Ravi Gossain|Gargi Patel|Moushumi Chatterjee|Seema Biswas|Kim Sharma|",
         null,
         null
        ],
        [
         "1224",
         "Zinda (film)",
         "tt0488906",
         "https://upload.wikimedia.org/wikipedia/en/thumb/4/44/Zindamovieposter.jpg/220px-Zindamovieposter.jpg",
         "https://en.wikipedia.org/wiki/Zinda_(film)",
         "Zinda",
         "Zinda",
         "0",
         "2006",
         "116",
         "Action|Drama|Mystery",
         "5.0",
         "3017",
         "Unkempt and unruly-looking  Balajit Roy (Sanjay Dutt)  gets released from a room in Bangkok that he had been forcibly confined to. Reflecting on his life as a Software Engineer; his first wedding anniversary with his expectant wife  Nisha (Celina Jaitley); his friend  Joy Fernandes (Mahesh Manjrekar); and his house by the jetty. It is here that an unknown male shoots a tranquilizing dart  and he wakes up in a dark cell  is fed fried Won Tons twice a day  and has a TV set for company. He watches the world news - Nisha's murder with him as the prime suspect; the events of September 11  2001; the devastating 2004 Tsunami; and the fall of Saddam Hussein. Valium gas is injected into the cell  he is rendered unconscious  taken out  groomed  while the cell is cleaned. This becomes a routine in his life  and then after 14 years he is let out. With the help of a savvy  street-smart taxi-driver  Jenny Singh Sarji  and Joy  he sets out to locate the person(s) responsible for his confinement  and...",
         "A man  taken and locked up for 14 years without any sane reason  is suddenly released  and has 4 days to figure out why this was done to him.",
         "One good act of vengeance.... deserves another",
         "Sanjay Dutt|John Abraham|Lara Dutta|Celina Jaitly|Mahesh Manjrekar|Raj Zutshi|Alisha Baig|Nitin Raghani|Aditya Siddhu|Rushita Singh|Rahhull Dosani|Chirag|Gaurav Chanana|",
         "2 nominations",
         "12 January 2006 (India)"
        ],
        [
         "580",
         "Zila Ghaziabad",
         "tt2171454",
         "https://upload.wikimedia.org/wikipedia/en/thumb/9/9e/Zilla_Ghaziabad.jpg/220px-Zilla_Ghaziabad.jpg",
         "https://en.wikipedia.org/wiki/Zilla_Ghaziabad",
         "Zila Ghaziabad",
         "Zila Ghaziabad",
         "0",
         "2013",
         "142",
         "Action|Crime|Thriller",
         "3.5",
         "1187",
         "In the city of Ghaziabad  gang war breaks between two rival groups led by Satbir Singh and Fauji. Thakur Pritam Singh  a corrupt police officer  is transferred to the city to handle the situation.",
         "In the city of Ghaziabad  gang war breaks between two rival groups led by Satbir Singh and Fauji. Thakur Pritam Singh  a corrupt police officer  is transferred to the city to handle the situation.",
         null,
         "Vivek Oberoi|Sanjay Dutt|Arshad Warsi|Paresh Rawal|Ravi Kishan|Ashutosh Rana|Minissha Lamba|Divya Dutta|Sunil Grover|Charmy Kaur|Ashutosh Kaushik|Eijaz Khan|Anil Nagrath|Shriya Saran|",
         null,
         "22 February 2013 (India)"
        ],
        [
         "560",
         "Zid (2014 film)",
         "tt4228746",
         "https://upload.wikimedia.org/wikipedia/en/thumb/7/7b/Zid_poster.jpg/220px-Zid_poster.jpg",
         "https://en.wikipedia.org/wiki/Zid_(2014_film)",
         "Zid",
         "Zid",
         "0",
         "2014",
         "126",
         "Crime|Thriller",
         "4.4",
         "929",
         "A journalist  who is still in love with his ex-girlfriend  becomes the obsession of his landlord's daughter.",
         "A journalist  who is still in love with his ex-girlfriend  becomes the obsession of his landlord's daughter.",
         "Come Play With Fire!",
         "Mannara Chopra|Karanvir Sharma|Shradha Das|Denzil Smith|Seerat Kapoor|Mohan Kapoor|",
         "1 win & 1 nomination",
         "28 November 2014 (India)"
        ],
        [
         "157",
         "Zero (2018 film)",
         "tt6527426",
         "https://upload.wikimedia.org/wikipedia/en/thumb/e/e6/Zero_official_poster.jpg/220px-Zero_official_poster.jpg",
         "https://en.wikipedia.org/wiki/Zero_(2018_film)",
         "Zero",
         "Zero",
         "0",
         "2018",
         "164",
         "Comedy|Drama|Romance",
         "5.5",
         "21456",
         "The story revolves around Bauua Singh (Shah Rukh Khan)  a vertically challenged man  who is full of charm and wit  with a pinch of arrogance. Born to a wealthy family and raised in an environment of affluence and indulgence  Bauua was never failed by Meerut or its people. But when he meets two women (Katrina Kaif  Anushka Sharma)  his experiences with these women take him on a journey to complete his 'incompleteness' and broaden his horizons to find a purpose he never knew he had.",
         "The story revolves around Bauua Singh (Shah Rukh Khan)  a vertically challenged man  who is full of charm and wit  with a pinch of arrogance. Born to a wealthy family and raised in an environment of affluence  he is challenged to broaden his horizon and find purpose in life.",
         null,
         "Shah Rukh Khan|Anushka Sharma|Katrina Kaif|Mohammed Zeeshan Ayyub|Abhay Deol|Madhavan|",
         "4 wins & 10 nominations",
         "21 December 2018 (USA)"
        ],
        [
         "1312",
         "Zeher",
         "tt0451983",
         "https://upload.wikimedia.org/wikipedia/en/c/ce/Zeher_2005_film_poster.jpg",
         "https://en.wikipedia.org/wiki/Zeher",
         "Zeher",
         "Zeher",
         "0",
         "2005",
         "132",
         "Crime|Drama|Mystery",
         "5.4",
         "1717",
         "Police Inspector Sonia Mehra is married to her subordinate Siddharth  and both are employed by the Goa Police Force. They share a fairly harmonious relationship. Then one day  a woman named Anna Verghese goes missing and is believed dead. To add to this mystery  there is also the question of a suitcase full of cash that is also missing. Sonia assumes charge of this investigation - and the deeper she probes the more sure she is that Siddharth is also somehow involved with both Anna and the missing cash. What she does not know that Siddharth was having an affair with Anna  and is also responsible for stealing the cash. Watch as events unfold that will eventually lead to the two confronting these issues  and how it will affect their marriage.",
         "Siddharth and Sonia are happily married to each other until Anna walks into Siddharth's life. Things takes a worst turn  when Anna gets killed and Siddharth finds himself in deep trouble.",
         "A love story",
         "Emraan Hashmi|Shamita Shetty|Udita Goswami|Sameer Kochhar|",
         "3 nominations",
         "25 March 2005 (India)"
        ],
        [
         "559",
         "Zed Plus",
         "tt4190220",
         null,
         "https://en.wikipedia.org/wiki/Zed_Plus",
         "Zed Plus",
         "Zed Plus",
         "0",
         "2014",
         "141",
         "Comedy",
         "6.5",
         "336",
         "A political satire involving a small town in Rajasthan  where the local government is on the verge of collapsing due to factors such as corruption.",
         "A political satire involving a small town in Rajasthan  where the local government is on the verge of collapsing due to factors such as corruption.",
         null,
         "Vinod Acharya|Adil Hussain|Ravi Jhankal|Ekavali Khanna|Kulbhushan Kharbanda|Sanjay Mishra|K.K. Raina|Anil Rastogi|Mona Singh|Rahul Singh|Shivani Tanksale|Mukesh Tiwari|Tushar Upreti|",
         null,
         "28 November 2014 (India)"
        ],
        [
         "1315",
         "Zameer: The Fire Within",
         "tt0449447",
         "https://upload.wikimedia.org/wikipedia/en/thumb/6/6b/Zameer_-_The_Fire_Within_film_poster.jpg/220px-Zameer_-_The_Fire_Within_film_poster.jpg",
         "https://en.wikipedia.org/wiki/Zameer:_The_Fire_Within",
         "Zameer",
         "Zameer",
         "0",
         "2005",
         "137",
         "Drama|Romance",
         "2.9",
         "293",
         "Wealthy widower Deepraj Khanna lives a comfortable lifestyle in India with his only child  a daughter by the name of Pooja  who always gets what she wants. When she enrolls in an all-girls college  she feasts her eyes on a young Lecturer by the name of Suraj Chauhan  and wants him all for herself. She gets all the more determined when he outrightly rejects  and even humiliates her publicly. She is devastated when she finds out that he has given his heart to an invalid former dancer  Supriya Maheshwari  who is convalescing after recovering from a paralytic stroke. Pooja thinks of the unfairness of life and confronts Supriya  who has a relapse  is again hospitalized and refuses to respond to any treatment  insisting that Suraj walk out of her life and marry Pooja. When Suraj finds that it is Supriya's last wish  he does marry Pooja  only to find out a few months later that it was Pooja who had caused Supriya's stroke. Suraj walks away from everyones lives  but he will return again five ...",
         "A spoiled brat gets married to her professor despite several challenges. Soon after  he learns that his wife was responsible for the separation of his former girlfriend and he leaves her  never to return.",
         "Obsession... Anger... Desire...",
         "Ajay Devgn|Ameesha Patel|Mahima Chaudhry|",
         null,
         "4 March 2005 (India)"
        ],
        [
         "1488",
         "Zameen (2003 film)",
         "tt0382385",
         "https://upload.wikimedia.org/wikipedia/en/6/60/Zameen_poster.jpg",
         "https://en.wikipedia.org/wiki/Zameen_(2003_film)",
         "Zameen",
         "Zameen",
         "0",
         "2003",
         "154",
         "Action|Adventure|Thriller",
         "5.3",
         "1324",
         "Islamic terrorists  backed by Pakistan  boldly attack the Indian Parliament building. The Indian army assigns this matter to Colonel Ranvir Singh Ranawat  who along with his men  apprehends and arrests the ring-leader Baba Zaheer Khan. The Colonel takes one of his subordinates  Jaideep Rai  to task as nine soldiers were killed due to his negligence  and asks him to resign. An Islamic terrorist group  Al-Tahit  recruits a group of men to try and spring Baba from prison  albeit in vain as their plans are thwarted by Jaideep  who is now the ACP in Mumbai. On the run from the Police  this group hijacks an Indian Airlines plane  en-route from Mumbai to Kathmandu  with Jaideep's wife  Nandini  an In-Flight Supervisor  on board. The plane  with 107 passengers and crew  is re-routed to Kazan in Pakistan Occupied Kashmir where they are met with more armed terrorists as well as the Pakistani army. Together they demand the release of Baba Zaheer in exchange for the lives of the passengers. The ...",
         "Colonel Ranvir and ACP Jaideep joins forces to fight against Pakistani terrorists  who hijacks an Indian airplane and demands to free their militant leader in return.",
         null,
         "Ajay Devgn|Abhishek Bachchan|Bipasha Basu|Mukesh Tiwari|Pankaj Dheer|Mohan Joshi|Manish Khanna|Amrita Arora|",
         "1 nomination",
         "26 September 2003 (India)"
        ],
        [
         "1035",
         "Yuvvraaj",
         "tt1105747",
         "https://upload.wikimedia.org/wikipedia/en/thumb/5/50/Yuvvraaj.jpg/220px-Yuvvraaj.jpg",
         "https://en.wikipedia.org/wiki/Yuvvraaj",
         "Yuvvraaj",
         "Yuvvraaj",
         "0",
         "2008",
         "151",
         "Comedy|Drama|Romance",
         "4.1",
         "3707",
         "Yogendra Yuvvraaj Singh lives a wealthy lifestyle along with 3 sons  Gyanesh - who is mentally unstable; Deven - a bully and slacker; and Danny - a Casanova. While he does tolerate Danny  he asks Deven to leave when the later assaults Gyanesh. Deven re-locates to Austria  meets with Anushka Banton  and both fall in love much to the chagrin of her dad  Dr. P.K. Banton  who wants her to wed  Daniel Mehta. When Yogendra suddenly passes away  Deven returns home to find that the household is run by his maternal uncle  Om Prakash  and his family. The family will soon find out through Advocate Sikander Mirza that the majority of the wealth and estate will be inherited by Gyanesh -leading to a conspiracy between both Deven and Danny - to try and befriend Gyanesh  and then compel him to share the estate equally between the three.",
         "Two estranged brothers must learn to work together to claim their rightful share of an inheritance left solely to their eldest sibling.",
         "Music binds love",
         "Salman Khan|Anil Kapoor|Zayed Khan|Mithun Chakraborty|Katrina Kaif|Boman Irani|Bhupinder Singh|Aushima Sawhney|Sulabha Arya|Aimee Maghera|Jaqueline Garewal|Shyam Mashalkar|Anjan Srivastav|Aparna Kumar|",
         "1 win & 1 nomination",
         "21 November 2008 (USA)"
        ],
        [
         "1322",
         "Yuva",
         "tt0382383",
         "https://upload.wikimedia.org/wikipedia/en/thumb/2/21/Yuva_%28movie_poster%29.jpg/220px-Yuva_%28movie_poster%29.jpg",
         "https://en.wikipedia.org/wiki/Yuva",
         "Yuva",
         "Yuva",
         "0",
         "2004",
         "161",
         "Action|Drama|Thriller",
         "7.4",
         "8045",
         "Michael (Ajay Devgan)   Arjun (Vivek Oberoi) and Lallan (Abhishek Bachchan) are three young men in Kolkata   with different ideals and objectives . Michael is an idealistic youth leader who dreams of a better India being created by the youth power . Arjun is a self-centered   opportunistic   easygoing fellow whose objective is to immigrate to a developed country and make big money . Lallan is a goon who works for Prosenjit Chatterjee (Om Puri)   an immoral politician . The lives of these three different people become intertwined following a murder attempt and an accident in broad daylight on the Hooghly bridge .",
         "Michael  Arjun and Lallan  three men from three different strata of society  cross paths one morning in Calcutta and change one another's lives forever.",
         null,
         "Ajay Devgn|Abhishek Bachchan|Rani Mukerji|Vivek Oberoi|Kareena Kapoor|Esha Deol|Om Puri|Sonu Sood|Anant Nag|Vijay Raaz|Loveleen Mishra|",
         "13 wins & 15 nominations",
         "22 May 2004 (India)"
        ],
        [
         "1212",
         "Yun Hota Toh Kya Hota",
         "tt0470614",
         "https://upload.wikimedia.org/wikipedia/en/thumb/7/70/Yun_Hota_Toh_Kya_Hota.jpg/220px-Yun_Hota_Toh_Kya_Hota.jpg",
         "https://en.wikipedia.org/wiki/Yun_Hota_Toh_Kya_Hota",
         "What If?",
         "Yun Hota Toh Kya Hota",
         "0",
         "2006",
         "115",
         "Drama",
         "6.7",
         "584",
         "The Visa papers have arrived for stock broker  Salim Rajabali  and he is scheduled to leave in less than a week. Then everything goes wrong when he and his brother  Javed  inadvertently implicate themselves in the murder of Deputy Commissioner of Police Paul  and Salim must flee immediately to the U.S. albeit with a heavy heart  after also being betrayed by his lover  Namrata. Following his departure the following too get ready to leave for the U.S.  Rajubhai Patel along with Payal  the daughter Tara V. Gandhi  who is now fated to live with an alcoholic husband and minor acting roles in Bollywood movies; Brilliant student Rahul Bhide who lives with his aged dad  in a dilapidated house  finds his future looking brighter when his dad passes away; Tilotamma Das who met and married Hemant Punj is now awaiting the arrival of her visa  when she finds she cannot take any more from her pushy mother-in-law. All of them try to reach America.",
         "The Visa papers have arrived for stock broker  Salim Rajabali  and he is scheduled to leave in less than a week. Then everything goes wrong when he and his brother  Javed  inadvertently ...                    ",
         null,
         "Paresh Rawal|Konkona Sen Sharma|Jimmy Sheirgill|Irrfan Khan|Ayesha Takia|Karan Khanna|Saroj Khan|Ratna Pathak Shah|Boman Irani|Imaaduddin Shah|Ravi Baswani|Razak Khan|Suhasini Mulay|Ankur Khanna|",
         null,
         "21 July 2006 (USA)"
        ],
        [
         "489",
         "Youngistaan",
         "tt3514330",
         "https://upload.wikimedia.org/wikipedia/en/thumb/8/83/Youngistaan.jpg/220px-Youngistaan.jpg",
         "https://en.wikipedia.org/wiki/Youngistaan",
         "Youngistaan",
         "Youngistaan",
         "0",
         "2014",
         "133",
         "Drama",
         "5.1",
         "1742",
         "Abhimanyu Kaul - a young  independent  Games Developer  living in Japan and the love of his life  Anwita Chauhan - a bubbly  passionate and full of life  summer intern. Their happy and content life faces the test of time  when blood ties and the pressure of being born into the first family of India tears a young Abhimanyu between his love for Anwita and a promise made to his dying father  the Prime Minister of India. Being a public figure  by reluctantly accepting to represent the governing party  much against his own wishes and at the cost of his private life  is a double-edged sword that Abhimanyu must walk on.",
         "Abhimanyu Kaul - a young  independent  Games Developer  living in Japan and the love of his life  Anwita Chauhan - a bubbly  passionate and full of life  summer intern. Their happy and ...                    ",
         null,
         "Jackky Bhagnani|Neha Sharma|Farooq Shaikh|Boman Irani|Kayoze Irani|Mita Vasisht|",
         "5 nominations",
         "28 March 2014 (India)"
        ],
        [
         "1625",
         "Yeh Zindagi Ka Safar",
         "tt0298607",
         "https://upload.wikimedia.org/wikipedia/en/thumb/2/21/Yeh_Zindagi_Ka_Safar.jpg/220px-Yeh_Zindagi_Ka_Safar.jpg",
         "https://en.wikipedia.org/wiki/Yeh_Zindagi_Ka_Safar",
         "Yeh Zindagi Ka Safar",
         "Yeh Zindagi Ka Safar",
         "0",
         "2001",
         "146",
         "Drama",
         "3.0",
         "133",
         "Hindi pop-star  Sarina Devan  lives a wealthy lifestyle with her widowed businessman father  Vivek. She soon achieves considerable success and becomes immensely popular. A struggling newspaper  Adarsh Times  publishes a story about her being born in an orphanage  which is received with shock and surprise by Vivek  and he instructs his lawyers to file a defamation suit against the owner  known as Dada  and a Journalist  Jay Bhardwaj. Dada and Jay are apologetic  however  Sarina finds out that she is not Vivek's biological daughter  and sets forth to find her parentage. She enlists Jay's assistant and they travel to Ooty where they meet with a Catholic Priest  Joseph  who refuses to divulge any information to them. Then she meets with a Nun  Sister Namrata  and subsequently finds out that she is indeed her biological mother. Expecting to be welcomed into her arms  she is shocked when Namrata outright rejects her  and tells her to return to back to her life with Vivek. But Sarina ...",
         "A singer finds out she was adopted when the editor of a struggling tabloid publishes the story.",
         null,
         "Ameesha Patel|Jimmy Sheirgill|Nafisa Ali|Gulshan Grover|Ehsan Khan|",
         null,
         "16 November 2001 (India)"
        ],
        [
         "1622",
         "Yeh Teraa Ghar Yeh Meraa Ghar",
         "tt0298606",
         "https://upload.wikimedia.org/wikipedia/en/thumb/9/9f/Yeh_Teraa_Ghar_Yeh_Meraa_Ghar_2001_film_poster.jpg/220px-Yeh_Teraa_Ghar_Yeh_Meraa_Ghar_2001_film_poster.jpg",
         "https://en.wikipedia.org/wiki/Yeh_Teraa_Ghar_Yeh_Meraa_Ghar",
         "Yeh Teraa Ghar Yeh Meraa Ghar",
         "Yeh Teraa Ghar Yeh Meraa Ghar",
         "0",
         "2001",
         "175",
         "Comedy|Drama",
         "5.7",
         "704",
         "In debt; Dayashankar Pandey is forced to go to Bombay to ask his tenants to vacate his house as it is his only means of acquiring money to pay off his loans. But the problem is these people refuse to move forcing Dayashankar to take matters into his own hands thus making it more difficult for the people to move as situations are in there favors.",
         "In debt; Dayashankar Pandey is forced to go to Bombay to ask his tenants to vacate his house as it is his only means of acquiring money to pay off his loans. But the problem is these people...                    ",
         null,
         "Sunil Shetty|Mahima Chaudhry|Paresh Rawal|Saurabh Shukla|Anjan Srivastav|Suhasini Mulay|Asrani|Master Aditi|Radhika Menon|Usha Nadkarni|Nagma|Sanjay Narvekar|Neeraj Vora|",
         "1 nomination",
         "12 October 2001 (India)"
        ],
        [
         "73",
         "Yeh Saali Aashiqui",
         "tt10443846",
         "https://upload.wikimedia.org/wikipedia/en/thumb/4/47/Yeh_Saali_Aashiqui_film_poster.jpg/220px-Yeh_Saali_Aashiqui_film_poster.jpg",
         "https://en.wikipedia.org/wiki/Yeh_Saali_Aashiqui",
         "Yeh Saali Aashiqui",
         "Yeh Saali Aashiqui",
         "0",
         "2019",
         "137",
         "Thriller",
         "7.9",
         "3200",
         null,
         "Add a Plot »",
         null,
         "Vardhan Puri|Jessey Lever|",
         null,
         null
        ],
        [
         "1620",
         "Yeh Raaste Hain Pyaar Ke",
         "tt0292740",
         "https://upload.wikimedia.org/wikipedia/en/thumb/3/3f/Yehraaste.jpg/220px-Yehraaste.jpg",
         "https://en.wikipedia.org/wiki/Yeh_Raaste_Hain_Pyaar_Ke",
         "Yeh Raaste Hain Pyaar Ke",
         "Yeh Raaste Hain Pyaar Ke",
         "0",
         "2001",
         "149",
         "Drama|Romance",
         "4.0",
         "607",
         "Two con artistes and car thieves  Vicky (Ajay Devgan) and Sakshi (Preity Zintar) run afoul of Bhanwarlal (Deep Dhillon) and his mob  when they accidentally kill his brother. Bhanwarlal and his other brother (Mayur) both swear to avenge the death of their brother and mistakenly kill Rohit Verma (also Ajay Devgan)  who is a look-alike of Vicky. Sakshi thinks that her love is dead and is devastated. Unknown to Sakshi and Bhanwarlal  Vicky is still alive and has taken the place of Rohit  fooling Rohit's dad  Pratap Verma (Vikram Gokhale); Rohit's wife  Neha (Madhuri Dixit)  little knowing that Pratap Verma already knows that Rohit is dead  but for some strange and mysterious reason permits Vicky to continue with the impersonation.",
         "Two con artistes and car thieves  Vicky (Ajay Devgan) and Sakshi (Preity Zintar) run afoul of Bhanwarlal (Deep Dhillon) and his mob  when they accidentally kill his brother. Bhanwarlal and ...                    ",
         "Love is a journey... not a destination",
         "Ajay Devgn|Madhuri Dixit|Preity Zinta|Vikram Gokhale|Deep Dhillon|Smita Jaykar|Sunny Deol|Kiran Kumar|Rajeev Verma|Jayshree T.|Asha Sharma|Lalit Tiwari|Shammi|Mayur Verma|",
         null,
         "10 August 2001 (India)"
        ],
        [
         "1560",
         "Yeh Mohabbat Hai",
         "tt0309087",
         null,
         "https://en.wikipedia.org/wiki/Yeh_Mohabbat_Hai",
         "Yeh Mohabbat Hai",
         "Yeh Mohabbat Hai",
         "0",
         "2002",
         "\\N",
         "Action|Romance",
         "5.2",
         "60",
         "This story revolves around two lovebirds Chand and Shaheen. There appear to be no complications to the lovebirds marriage  however  Chand is asked to gather together a team to play cricket. Chand's naivety is taken advantage of by a group of terrorists  and ultimately Chand becomes involved with terrorists group  and Police Inspector Chauthe (Sadashiv Amrapurkar) claims that he has sufficient evidence to convict Chand. Shaheen believes Chand is innocent  and sets out to prove his innocence.",
         "This story revolves around two lovebirds Chand and Shaheen. There appear to be no complications to the lovebirds marriage  however  Chand is asked to gather together a team to play cricket....                    ",
         "They fell in love forever...",
         "Akanksha Malhotra|Rahul Bhat|Nasirr Khan|Pinky Campbell|Danny Denzongpa|Parikshat Sahni|Shakti Kapoor|Mohnish Bahl|Gulshan Grover|Johnny Lever|Rakesh Bedi|Anjana Mumtaz|Dolly Bindra|Arbaaz Khan|",
         null,
         null
        ],
        [
         "948",
         "Yeh Mera India",
         "tt1002963",
         null,
         "https://en.wikipedia.org/wiki/Yeh_Mera_India",
         "Y.M.I. Yeh Mera India",
         "Y.M.I. Yeh Mera India",
         "0",
         "2008",
         "137",
         "Crime|Drama|Thriller",
         "7.8",
         "871",
         "Mumbai 11th July: Sameer Ali reads a verse from the Bhagvad Geeta to a dying hospitalized benevolent Hindu Pandit who had brought him after the passing of his Islamic parents; Looking for employment on an empty stomach  Bhola Paswan finds Biharis are hated and shunned; Gangster Ashfaq asks Noor Ahmed Khan  who  in turn  recruits former Naxalite Raja Shetty  to assassinate womanizing Builder Arun Talreja; An upper-caste Hindu politician  Shripad Shinde  forbids his son  Nachiket  to marry Asha Ambedkar  as she belongs to a lower Caste; Rendered homeless  Inspector Chandrakant Shinde is on the look-out for a stolen vehicle  and hates Biharis for taking over his house; TV Producer  Jennifer Ali  is attacked by Ashfaq during a party; Lower-caste Asha is stalked and molested by right-winged upper-caste Hindus; After being robbed and accused of stealing clothes  Sharada Bai prepares to attack her two-faced employer  Sushma Talreja; Caught in a traffic jam  Judge Ayyar is anxious to visit ...",
         "Lives of several people intertwine during an eventful day in Mumbai.",
         "Behind Every Bad News... There Is Good News...",
         "Anupam Kher|Atul Kulkarni|Milind Gunaji|Aakash Pandey|Parvin Dabas|Perizaad Zorabian|Rajit Kapoor|Purab Kohli|Rajpal Yadav|Sarika|Sayaji Shinde|Seema Biswas|Smiley Suri|Vijay Raaz|",
         "1 nomination",
         "28 August 2009 (India)"
        ],
        [
         "1390",
         "Yeh Lamhe Judaai Ke",
         "tt0385351",
         "https://upload.wikimedia.org/wikipedia/en/thumb/a/a3/Yeh_Lamhe_Judaai_Ke.jpg/220px-Yeh_Lamhe_Judaai_Ke.jpg",
         "https://en.wikipedia.org/wiki/Yeh_Lamhe_Judaai_Ke",
         "Yeh Lamhe Judaai Ke",
         "Yeh Lamhe Judaai Ke",
         "0",
         "2004",
         "135",
         "Drama|Mystery|Romance",
         "3.8",
         "1519",
         "Dushyant and Jaya are childhood friends. In spite of his family's poverty  Dushyant has one great ambition in life: to become a successful singer. Jaya encourages him all she can and helps him to realize his dreams. But when Dushyant finally obtains the recognition he has craved for  his career becomes all-important to him. Will the relationship shatters under the strain of his newfound celebrity status?",
         "Dushyant and Jaya are childhood friends. In spite of his family's poverty  Dushyant has one great ambition in life: to become a successful singer. Jaya encourages him all she can and helps ...                    ",
         "Love. . .Success. . .Betrayal. . .Murder. . .Who is the Killer?",
         "Shah Rukh Khan|Raveena Tandon|Navneet Nishan|Avtar Gill|",
         null,
         "9 April 2004 (India)"
        ],
        [
         "1566",
         "Yeh Kya Ho Raha Hai?",
         "tt0338566",
         "https://upload.wikimedia.org/wikipedia/en/5/59/Yeh_Kya_Ho_Raha_Hai%3F_poster.jpg",
         "https://en.wikipedia.org/wiki/Yeh_Kya_Ho_Raha_Hai%3F",
         "Yeh Kya Ho Raha Hai?",
         "Yeh Kya Ho Raha Hai?",
         "0",
         "2002",
         "\\N",
         "Comedy|Romance",
         "4.8",
         "217",
         "Four young men enter college in order to study and make careers for themselves. They develope a friendship for each other. The four also meet various young ladies  and romance them throughout their semester. The question remains will they be able to follow through with love lives after this term  and will they also get passing grades at the same time?",
         "Four young men enter college in order to study and make careers for themselves. They develope a friendship for each other. The four also meet various young ladies  and romance them ...                    ",
         null,
         "Prashant Chianani|Aamir Ali Malik|Vaibhav Jhalani|Yash Pandit|Deepti Daryanani|Payal Rohatgi|Samita Bangargi|Paakhi A. Tyrewala|Tarun Anand|Gajraj Rao|",
         null,
         "11 October 2002 (India)"
        ],
        [
         "691",
         "Yeh Khula Aasmaan",
         "tt2402745",
         "https://upload.wikimedia.org/wikipedia/en/thumb/b/b4/Yeh_Khula_Aasmaan.jpg/220px-Yeh_Khula_Aasmaan.jpg",
         "https://en.wikipedia.org/wiki/Yeh_Khula_Aasmaan",
         "Yeh Khula Aasmaan",
         "Yeh Khula Aasmaan",
         "0",
         "2012",
         "\\N",
         "Family",
         "6.9",
         "24",
         "Yeh Khula Aasmaan revolves around Avinash  an intelligent young boy who is going through a very demanding and challenging phase of his life. He has to cope with the pressures of academic failure  not living up to his parents' expectations and the isolation of his parents living thousands of miles away. He then turns to his grandfather  a star Kite Runner  who helps Avinash learn to cope with this tough time in his life through life lessons during kite flying sessions. Avinash forges new friendships and rediscovers the love of family in this relationship based film.",
         "Traces the journey of a young IIT aspirant as he copes with academic failures and is surprised to discover inspiration in a most unexpected place. Inspired by a true story.",
         null,
         "Anya Anand|Manjusha Godse|Nitin Kerur|Kishor Nadalskar|Gulshan Pandey|Yashpal Sharma|Aditya Siddhu|Raj Tandon|",
         null,
         null
        ],
        [
         "1559",
         "Yeh Kaisi Mohabbat",
         "tt0316911",
         null,
         "https://en.wikipedia.org/wiki/Yeh_Kaisi_Mohabbat",
         "Yeh Kaisi Mohabbat",
         "Yeh Kaisi Mohabbat",
         "0",
         "2002",
         "160",
         "Drama|Musical|Romance",
         "4.0",
         "29",
         "Yeh Kaisi Mohabbat (YKM) is a romantic thriller. It deals with a whole lot of fun  romance and suspense. It is story of an innocent boy Vicky. The plot involves an innocent poor boy  who is a happy go lucky  always trying to live a stylish life. He is always in search of a rich girl with a view to live a luxurious life with her money. He lives in a motor garage with his six friends. the friends always help him with his requirements. One of the friends is a dress designer and provides him the artist's clothes and imported cars are provided to him to enjoy life. The boy falls in love with a rich girl  Tina. He presents himself to be a rich boy  fool her and romance with her. He saves a rich man (Rahul Thakral) from the goons  who offers him a job. The boy gets a shock when he comes to know that the job involves spying Rahul's wife. He is again shocked to see the wife  she is Tina. He is confused. Priya is a glamorous woman and has high standards of living. She has an emotional bond with...",
         "Yeh Kaisi Mohabbat (YKM) is a romantic thriller. It deals with a whole lot of fun  romance and suspense. It is story of an innocent boy Vicky. The plot involves an innocent poor boy  who is...                    ",
         "A Musical Romantic Thriller",
         "Krishna Abhishek|Viveka Babajee|Sheeba Bhakri|Deeksha|Dinesh Hingoo|Javed Rizvi Jarehavi|Sharad S. Kapoor|Krishna|Johnny Lever|Mehmood Jr.|Mukesh Rishi|Anjan Srivastav|",
         null,
         "31 May 2002 (India)"
        ],
        [
         "603",
         "Yeh Jawaani Hai Deewani",
         "tt2178470",
         "https://upload.wikimedia.org/wikipedia/en/thumb/1/15/Yeh_jawani_hai_deewani.jpg/220px-Yeh_jawani_hai_deewani.jpg",
         "https://en.wikipedia.org/wiki/Yeh_Jawaani_Hai_Deewani",
         "Yeh Jawaani Hai Deewani",
         "Yeh Jawaani Hai Deewani",
         "0",
         "2013",
         "160",
         "Comedy|Drama|Musical",
         "7.1",
         "34952",
         "Yeh Jawaani Hai Deewani is the story of the relationship between two characters  Bunny (Ranbir Kapoor) & Naina (Deepika Padukone)  at two separate but defining times in their lives... first  when they are just out of college and standing on the crossroads of multiple decisions that will shape who and what they become... and then later on  in their late-twenties when they meet again  holding on to certain fulfilled and certain unfulfilled dreams  at a crossroads of another nature this time... how these two characters affect  change  befriend and eventually fall in love with each other is the journey the film aspires to take us on..",
         "Kabir and Naina bond during a trekking trip. Before Naina can express herself  Kabir leaves India to pursue his career. They meet again years later  but he still cherishes his dreams more than bonds.",
         null,
         "Ranbir Kapoor|Deepika Padukone|Aditya Roy Kapoor|Kalki Koechlin|Kunaal Roy Kapur|Madhuri Dixit|Farooq Shaikh|Aanoushka|Kamal Adib|Dolly Ahluwalia|Vinita Amar|Anisha|Tanvi Azmi|Priyanka Bose|",
         "24 wins & 90 nominations",
         "31 May 2013 (India)"
        ],
        [
         "1563",
         "Yeh Hai Jalwa",
         "tt0328671",
         "https://upload.wikimedia.org/wikipedia/en/thumb/f/f0/YehHaiJalwa.jpg/220px-YehHaiJalwa.jpg",
         "https://en.wikipedia.org/wiki/Yeh_Hai_Jalwa",
         "Yeh Hai Jalwa",
         "Yeh Hai Jalwa",
         "0",
         "2002",
         "165",
         "Comedy|Drama|Romance",
         "4.8",
         "1997",
         "Yeh Hai Jalwa is the story of happy-go-lucky Raju. Street-smart and worldly-wise  Raju's life takes a turn when he finds out he is the illegitimate son of seriously rich  UK-based businessman Rajesh Mittal. Raju of course sets off to London to claim his rightful place in the Mittal family and a happily married Rajesh Mittal living with wife  Smita and daughter  Rinkie is rudely confronted with a grown up illegitimate son. While Raju is busy trying to make a place for himself in his adamant father's heart  he also finds a soulmate in Sonia  the daughter of Mittal's most trusted advisor.",
         "Raj Saxena (Salman Khan) goes to London  expecting his long lost Dad (Rishi Kapoor) to warmly greet him. But things do not go as planned.",
         null,
         "Rishi Kapoor|Salman Khan|Ameesha Patel|Rati Agnihotri|Rinke Khanna|Anupam Kher|Kader Khan|Sharad S. Kapoor|Kiran Kumar|Shahbaaz Khan|Ajay Nagrath|Navin Nischol|Jaspal Bhatti|Gavin Packard|",
         null,
         "3 July 2002 (India)"
        ],
        [
         "34",
         "Yeh Hai India",
         "tt5525846",
         "https://upload.wikimedia.org/wikipedia/en/thumb/d/db/Yeh_Hai_India_Official_Poster.jpg/220px-Yeh_Hai_India_Official_Poster.jpg",
         "https://en.wikipedia.org/wiki/Yeh_Hai_India",
         "Yeh Hai India",
         "Yeh Hai India",
         "0",
         "2017",
         "128",
         "Action|Adventure|Drama",
         "5.7",
         "169",
         "Yeh Hai India  follows the story of a 25 years old NRI  who is born and brought up in U.K and shares the same stereotype views of India  which is known for its vast population  pollution and poverty. However protagonist finds new development in media or probably an 'other side of same coin' of India  which is also known for successful mars mission in first attempt  a nation which proudly holds title 'God of Cricket' for Sachin Tendulkar  who is again an Indian and a nation which is known for its holy generosity with icons like Mother Teresa\".",
         "Yeh Hai India  follows the story of a 25 years old NRI  who is born and brought up in UK. He shares the same stereotypical views about India that most NRIs have and how his perception changes.",
         "A Film for Every Indian",
         "Gavie Chahal|Mohan Agashe|Mohan Joshi|Lom Harsh|",
         "2 wins & 1 nomination",
         "24 May 2019 (India)"
        ],
        [
         "509",
         "Yeh Hai Bakrapur",
         "tt3524410",
         "https://upload.wikimedia.org/wikipedia/en/thumb/7/7e/Yeh_hai_Bakrapur.jpg/220px-Yeh_hai_Bakrapur.jpg",
         "https://en.wikipedia.org/wiki/Yeh_Hai_Bakrapur",
         "Yeh Hai Bakrapur",
         "Yeh Hai Bakrapur",
         "0",
         "2014",
         "95",
         "Comedy|Drama",
         "3.8",
         "240",
         "Set an against the backdrop of rural India this social satire dwells on the relationship between 8year old Zulfi Quereshi  his pet goat ShahRukh and the village barber(Anshuman Jha)",
         "Set an against the backdrop of rural India this social satire dwells on the relationship between 8year old Zulfi Quereshi  his pet goat ShahRukh and the village barber(Anshuman Jha)",
         null,
         "Anshuman Jha|Suruchi Aulakh|Asif Basra|Yoshika Verma|Faiz Khan|Shameem Khan|Utkarsh Mazumdar|",
         null,
         "9 May 2014 (India)"
        ],
        [
         "792",
         "Yeh Dooriyan",
         "tt1826051",
         "https://upload.wikimedia.org/wikipedia/en/9/98/Yeh_Dooriyan.jpg",
         "https://en.wikipedia.org/wiki/Yeh_Dooriyan",
         "Yeh Dooriyan",
         "Yeh Dooriyan",
         "0",
         "2011",
         "107",
         "Drama|Romance",
         "5.1",
         "68",
         "This is the story of a strong 35 year old beautiful and a famous choreographer divorced with two kids  living alone and is forced by her peers and family to remarry and find a father for her kids. She promises that she will marry any guy that loves her children as much as her.",
         "A divorced businesswoman with two children falls in love with a much younger man.",
         "Love after divorce......is it a crime?",
         "Deepshika Nagpal|Inder Kumar|Delnaaz Irani|Chitrashi Rawat|Kunickaa Sadanand|Achint Kaur|Rajesh Khera|Shishir Sharma|Anita Wahi|Ayub Khan|Baby Vidhir|Master Vivak|Kaishav Arora|",
         null,
         "26 August 2011 (India)"
        ],
        [
         "1558",
         "Yeh Dil Aashiqanaa",
         "tt0307682",
         null,
         "https://en.wikipedia.org/wiki/Yeh_Dil_Aashiqanaa",
         "Yeh Dil Aashiqanaa",
         "Yeh Dil Aashiqanaa",
         "0",
         "2002",
         "152",
         "Action|Romance",
         "4.3",
         "225",
         "Yeh Dil Ashiqana is the story of Karan and Pooja who are studying in the same college in Poona. They meet and fall in love and their romance progresses without any problems until one day while going to her brother's house in Mumbai. Pooja's flight is hijacked by a group of terrorists following the arrest of their leader Ashraf-UL-haq malik. Ironically this hijack has been engineered by Pooja's brother Vijay Varma who is league with the terrorist head Akhmash Jalal. Vijay is unaware of the fact that his beloved sister Pooja is on board the same flight. When he realizes this  he is unable to do anything as Akhmash forbids him from doing anything that would jeopardies their mission. Karan daringly risks his life and rescues Pooja and the other passengers thus making Akhmash and vijay his enemies. Akhmash is now out to kill Karan. Vijay refuses the marriage of Pooja and Karan. Pooja runs away with Karan; but they are followed and caught by Akhmash and his men and they are held captive in ...",
         "Yeh Dil Ashiqana is the story of Karan and Pooja who are studying in the same college in Poona. They meet and fall in love and their romance progresses without any problems until one day ...                    ",
         null,
         "Karan Nath|Jividha Sharma|Aruna Irani|Rajeev Verma|Mohan Azaad|Noopur|Smit Sheth|Raj Ahuja|Johnny Lever|Vishal|Nandita Mehra|Paresh|Yusuf Bawa|Vanashree Joshi|",
         null,
         null
        ],
        [
         "1485",
         "Yeh Dil",
         "tt0357328",
         null,
         "https://en.wikipedia.org/wiki/Yeh_Dil",
         "Yeh Dil",
         "Yeh Dil",
         "0",
         "2003",
         "147",
         "Drama|Romance",
         "3.9",
         "175",
         "A musical love story of Ravi and Vasundhara who study in the same college. Both are good friends until their friendship transforms into true love. Their urge of getting married is objected by both their families. After going through many obstacles they are successful in getting married with the help of their college principal and friends.",
         "A musical love story of Ravi and Vasundhara who study in the same college. Both are good friends until their friendship transforms into true love. Their urge of getting married is objected ...                    ",
         null,
         "Tusshar Kapoor|Anita Hassanandani Reddy|Chetana Das|Akhilendra Mishra|Sharat Saxena|Saurabh Shukla|Pratima Kazmi|",
         "1 nomination",
         "4 April 2003 (India)"
        ],
        [
         "1143",
         "Yatra (2007 film)",
         "tt0470611",
         "https://upload.wikimedia.org/wikipedia/en/thumb/7/77/Yatra-poster.jpg/220px-Yatra-poster.jpg",
         "https://en.wikipedia.org/wiki/Yatra_(2007_film)",
         "Yatra",
         "Yatra",
         "0",
         "2006",
         "129",
         "Drama",
         "6.3",
         "128",
         "Yatra is a journey of a person whose claim to fame is interrupted by his past which comes in the way of his present. Yatra comes across a strong subject that of a prostitute and its presence in the minds of the people. Dasrath Joglekar is a renowned writer on his way to Delhi to receive the prestigious Literary Award. On the way  he meets one of his ardent fans Nakul Vaid  who is a filmmaker by profession and is devoted to Dasrath's pieces of writings. They discuss about the novels that Dasrath has written and dig the past by striking a conversation about one of his famous novel's Janaza. Lajvanti is a prostitute and Janaza is all about her. After receiving the award  Dasrath moves on to explore the life of Lajvanti yet again. He starts for his hunt without informing anyone from his family. As far as Dasrath's memories go  Lajvanti used to perform mujras in Mehndi Galli. People from every part of the society used to assemble here to blow away their part of naughtiness. Time has ...",
         "Yatra is a journey of a person whose claim to fame is interrupted by his past which comes in the way of his present. Yatra comes across a strong subject that of a prostitute and its ...                    ",
         "A Journey To A Timeless Destination...",
         "Rekha|Nana Patekar|Deepti Naval|Nakul Vaid|Anandi Ghose|Romit Raaj|",
         "1 win & 1 nomination",
         "4 May 2007 (India)"
        ],
        [
         "126",
         "Yamla Pagla Deewana: Phir Se",
         "tt7609114",
         "https://upload.wikimedia.org/wikipedia/en/thumb/a/ac/Yamla_Pagla_Deewana_-_Phir_Se_-_2018_Movie_Poster.jpg/220px-Yamla_Pagla_Deewana_-_Phir_Se_-_2018_Movie_Poster.jpg",
         "https://en.wikipedia.org/wiki/Yamla_Pagla_Deewana:_Phir_Se",
         "Yamla Pagla Deewana Phir Se...",
         "Yamla Pagla Deewana Phir Se...",
         "0",
         "2018",
         "145",
         "Action|Comedy",
         "4.8",
         "887",
         "Inheriting from the ancestors  the legacy of the Ayurveda panacea 'Vajrakavach'  a famed and effective remedy for all ills  the brother duo Pooran and Kaala use the kavach with varied intentions. While Pooran who is good-hearted puts in use his heritage to help people  Kaala looks out for his interest in money. Parmar  an erstwhile Casanova and a colorful character who is also a sharp and intelligent lawyer of repute  is the paying guest in the brothers' house. He is a thorn in Kaala's side  as he is paying the same rent for 35 years  that is of 125 rupees. Adding to the Punjabi mix  Chikoo is a pretty Gujarati girl  who steals Kaala's heart and brings a sinister twist to the tale.",
         "An upright Ayurveda practitioner is hounded by big pharmacy giants for his age-old formula that cures everything.",
         null,
         "Dharmendra|Sunny Deol|Bobby Deol|Kriti Kharbanda|Asrani|Satish Kaushik|Binnu Dhillon|",
         null,
         "31 August 2018 (USA)"
        ],
        [
         "737",
         "Yamla Pagla Deewana",
         "tt1773109",
         "https://upload.wikimedia.org/wikipedia/en/thumb/3/33/Yamla_Pagla_Deewana.jpg/220px-Yamla_Pagla_Deewana.jpg",
         "https://en.wikipedia.org/wiki/Yamla_Pagla_Deewana",
         "Yamla Pagla Deewana",
         "Yamla Pagla Deewana",
         "0",
         "2011",
         "163",
         "Action|Comedy|Drama",
         "5.6",
         "3739",
         "The film begins in Canada  travels to Banaras and eventually makes its way to Punjab. The Father Son duo of Dharam Singh and Gajodhar Singh (Dharmendra and Bobby Deol) are the biggest conmen in Banaras. Their happy go lucky existence involves drinking and pulling off hilarious cons on unsuspecting people. The only hitch in their perfect albeit notorious life arrives in the form of Paramveer Singh Dhillon (Sunny Deol). A brawny and honest NRI from Vancover  Paramveer lands up in Banaras claiming to be Gajodhar's elder brother separated at childhood. The duo willingly accepts Paramveer into their fold only to exploit his muscle power to serve their con games. Meanwhile Gajodhar falls in love with Saheba (Kulraj Randhawa)  a beautiful Sardarni from Punjab. As their romance reaches its peak  her brothers arrive and forcibly take her away. Paramveer saves the day with a crazy plan to win the girl back for Gajodhar which leads them to the rustic heartlands of Punjab. What follows is a ...",
         "A married Canadian travels to India to re-unite with his estranged father and brother but faces obstacles and challenges.",
         null,
         "Nafisa Ali|Yugesh Anil|Madhuri Bhattacharya|Emma Brown Garett|Mahek Chahal|Bobby Deol|Sunny Deol|Mukul Dev|Ajay Devgn|Dharmendra|Puneet Issar|Sucheta Khanna|Anupam Kher|Johnny Lever|",
         null,
         "14 January 2011 (India)"
        ],
        [
         "1311",
         "Yakeen (2005 film)",
         "tt0453978",
         "https://upload.wikimedia.org/wikipedia/en/0/0d/Yakeen2005.jpg",
         "https://en.wikipedia.org/wiki/Yakeen_(2005_film)",
         "Yakeen",
         "Yakeen",
         "0",
         "2005",
         "116",
         "Drama|Thriller",
         "5.1",
         "651",
         "The film begins with the recovery of Simar (Priyanka Chopra) and her husband Nikhil (Arjun Rampal) from a car accident. Simar is almost unscratched but Nikhil not only has major internal and external damage  but he also has amnesia. Simar is determined that Nikhil will get better and resume his life  and immediately begins by bringing in the best surgeons to reconstruct his damaged leg and face  and then later helping him with the hospital therapy. Although Nikhil is at first cautious and wary  Simar's obvious love and dedication wins him over. After six months of therapy he's released from the hospital and the couple return home. Simar insists that Nikhil continue with his life and encourages him to go back to work  though beforehand she warns him that there are both good and bad people all around  and it's up to him to decide whom to trust. Once Nikhil meets up with his old friends and goes through his personal files  he finds evidence that all was not well in his previous life. Now...",
         "Left with amnesia after a car accident  a man (Arjun Rampal) believes his wife (Priyanka Chopra) is having an affair.",
         null,
         "Arjun Rampal|Priyanka Chopra|Kim Sharma|Sudhanshu Pandey|Saurabh Shukla|Anang Desai|Atul Parchure|",
         null,
         "1 July 2005 (India)"
        ],
        [
         "216",
         "Yadvi – The Dignified Princess",
         "tt4910010",
         "https://upload.wikimedia.org/wikipedia/en/thumb/1/16/Poster_of_Yadvi_The_Dignified_Princess.jpg/220px-Poster_of_Yadvi_The_Dignified_Princess.jpg",
         "https://en.wikipedia.org/wiki/Yadvi_%E2%80%93_The_Dignified_Princess",
         "YADVI: The Dignified Princess",
         "YADVI: The Dignified Princess",
         "0",
         "2017",
         "107",
         "Biography|Drama|History",
         "8.2",
         "28",
         "Based on True Story of a Princess in India. Her journey of strength and courage and living with Dignity  at times where women hardly had any freedom.",
         "Based on True Story of a Princess in India. Her journey of strength and courage and living with Dignity  at times where women hardly had any freedom.",
         "An inspiring telling of family's heritage that casts a light on 20th century Indian royalty Oaxaca FilmFest",
         "Prisha Aneja|Vinti Aneja|Marianne Borgo|Rachel Burnell|Aisha Choudhary|Mukesh Choudhary|Urmila Choudhary|Reshma D'Souza|Diksha Garg|Rahul Godara|Kuvam Handa|Yadvi Handa|Siraj Huda|Adi Singh Jalalpur|",
         "4 wins & 3 nominations",
         "25 August 2017 (India)"
        ],
        [
         "60",
         "Yaaram (2019 film)",
         "tt11007050",
         "https://upload.wikimedia.org/wikipedia/en/thumb/8/8e/Yaaram_film_poster.jpg/220px-Yaaram_film_poster.jpg",
         "https://en.wikipedia.org/wiki/Yaaram_(2019_film)",
         "#Yaaram",
         "#Yaaram",
         "0",
         "2019",
         "\\N",
         "Comedy|Romance",
         "5.7",
         "7",
         "All set for an arranged marriage  Rohit Bajaj is faced with a rather strange request from his Muslim friend Sahil. As per halala  he convinces Rohit to get hitched to his ex-wife  just for him to remarry her. This twisted tale of love turns into a sour dose of betrayal - all this and more  in the name of friendship.",
         "All set for an arranged marriage  Rohit Bajaj is faced with a rather strange request from his Muslim friend Sahil. As per halala  he convinces Rohit to get hitched to his ex-wife  just for ...                    ",
         null,
         "Siddhanth Kapoor|Prateik|Anita Raj|Ishita Raj|Subha Rajput|Natasha Stankovic|",
         null,
         null
        ],
        [
         "1573",
         "Yaadein (2001 film)",
         "tt0248617",
         "https://upload.wikimedia.org/wikipedia/en/thumb/c/cd/Yaadein_%282001_film%29.jpg/220px-Yaadein_%282001_film%29.jpg",
         "https://en.wikipedia.org/wiki/Yaadein_(2001_film)",
         "Yaadein...",
         "Yaadein...",
         "0",
         "2001",
         "171",
         "Drama|Musical|Romance",
         "4.4",
         "3034",
         "Raj Singh Puri is best friends with L.K. Malhotra who is in turn younger brother to J.K. Malhotra. The brothers are business tycoons and Raj works in their company. Raj is father to three young daughters  the first one gets married through arrangement but the second one marries her lover. After a few weeks at her in-laws  the second daughter returns home asking for divorce. After this Raj and her last daughter become strictly against love and relationships. All this changes when Isha (the third daughter) falls in love with the heir to the Malhotra empire  Ronit  L.K. Malhotra's son. The ask for Raj's blessing but he bluntly refuses and Isha understandingly shuns Ronit and Raj arranges for Ronit to be married to the daughter of another tycoon. Ronit is unhappy and makes Raj realize that his fiancé's family is not right for them and Raj approaches the Malhotras to break off the engagement however J.K. Malhotra shuns him by calling him poor and small. The other Malhotras join forces to ...",
         "Raj Singh Puri is best friends with L.K. Malhotra who is in turn younger brother to J.K. Malhotra. The brothers are business tycoons and Raj works in their company. Raj is father to three ...                    ",
         "memories to cherish...",
         "Jackie Shroff|Hrithik Roshan|Kareena Kapoor|Amrish Puri|Himani Rawat|Kiran Rathod|Anang Desai|Supriya Karnik|Avni Vasa|Madan Joshi|Suman Dutta|Suhaas Khandke|Rajan Kapoor|Jennifer Kotwal|",
         "1 nomination",
         "27 June 2001 (India)"
        ],
        [
         "461",
         "Ya Rab",
         "tt3303416",
         "https://upload.wikimedia.org/wikipedia/en/thumb/8/87/Ya_Rab.jpg/220px-Ya_Rab.jpg",
         "https://en.wikipedia.org/wiki/Ya_Rab",
         "Ya Rab",
         "Ya Rab",
         "0",
         "2014",
         "120",
         "Drama",
         "6.1",
         "270",
         "The idea behind Ya Rab is to show how Islam has been used as a tool to propagate terrorism. The film focuses on issues where so called self proclaimed Maulanas (Islamic Preachers) misinterpret The Quran and its real meaning to breed terrorists and terrorist activity. Ya Rab is a genuine effort to show the right face of Islam and to guide the misguided on the right path.",
         "The idea behind Ya Rab is to show how Islam has been used as a tool to propagate terrorism. The film focuses on issues where so called self proclaimed Maulanas (Islamic Preachers) ...                    ",
         null,
         "Indrapal Ahuja|Neha Baam|Vikram Dahiya|Rakesh Deewana|Rajesh Gupta|Imran Hasnee|Abizer Hyderabadwala|Jassi|Javed|Juli|Sayed Khalid|Ajaz Khan|Raju Kher|Akhilendra Mishra|",
         null,
         "7 February 2014 (India)"
        ],
        [
         "1486",
         "Xcuse Me",
         "tt0383719",
         "https://upload.wikimedia.org/wikipedia/en/thumb/7/75/Xcuse_Me_poster.jpg/220px-Xcuse_Me_poster.jpg",
         "https://en.wikipedia.org/wiki/Xcuse_Me",
         "Xcuse Me",
         "Xcuse Me",
         "0",
         "2003",
         "152",
         "Comedy",
         "5.7",
         "682",
         "Chantu and Bantu are unemployed  and are able to get any employment due to lack of experience. They come across an advertisement for hotel management trainees in Goa  and make their way there. Once there  they hoodwink the trainer by posing as the nephew of the owner of the hotel  and thus enroll themselves in the training course. They set about making enemies by exposing several employees and guests  and earning their wrath  and in the process end up wooing the daughters of the two owners of the hotel. Things turn sore for the two  when the guests and former employees get together to avenge their humiliation.",
         "Chantu and Bantu are unemployed  and are able to get any employment due to lack of experience. They come across an advertisement for hotel management trainees in Goa  and make their way ...                    ",
         null,
         "Sharman Joshi|Sahil Khan|",
         "1 nomination",
         "26 September 2003 (India)"
        ],
        [
         "1000",
         "Woodstock Villa",
         "tt1043876",
         "https://upload.wikimedia.org/wikipedia/en/thumb/b/b2/Woodstockvilla_poster.jpg/220px-Woodstockvilla_poster.jpg",
         "https://en.wikipedia.org/wiki/Woodstock_Villa",
         "Woodstock Villa",
         "Woodstock Villa",
         "0",
         "2008",
         "\\N",
         "Drama|Mystery|Thriller",
         "3.4",
         "370",
         "After a heated public argument between Mumbai-based Jatin Kampani and his wife  Zara  he returns home  and finds her missing. A day later  he is contacted by a male to come up with a ransom of 50 Lakh Rupees  and not to contact the police under any circumstances. Hours later  he notifies the Police  who begin their investigation but fail to trace subsequent telephone calls from the kidnapper. Jatin is then asked to deliver the cash initially at V.T. Railway Station  however  upon arrival there  he is asked to travel to Kala Ghoda and then to Sea Rock. Once there  he is told that the kidnapper is aware of the involvement of plainclothes policemen  who have been following him  and that his wife is no more. Watch what impact this has on the police and on Jatin himself.",
         "A businessman is distraught after refusing to follow the instructions of his wife's kidnapper.",
         null,
         "Sikander Kher|Neha Oberoi|Arbaaz Khan|Gulshan Grover|Shakti Kapoor|Sachin Khedekar|Sanjay Dutt|Gaurav Gera|Daya Shankar Pandey|Harry Singh|Yogendra|Mohit Chavan|",
         null,
         null
        ],
        [
         "1211",
         "Woh Lamhe...",
         "tt0833561",
         "https://upload.wikimedia.org/wikipedia/en/thumb/c/c3/Wohlahme.jpg/220px-Wohlahme.jpg",
         "https://en.wikipedia.org/wiki/Woh_Lamhe",
         "Woh Lamhe",
         "Woh Lamhe",
         "0",
         "2006",
         "156",
         "Biography|Drama|Romance",
         "6.6",
         "1115",
         "Woh Lamhe tells the story of Sana Azim (Kangana Ranaut) as a Bollywood superstar who is dominated by her boyfriend Nikhil (Shaad Randhawa)  who makes all her career decisions for her; to the world she is a successful and independent woman but in reality she is lonely and lost  a mere puppet in Nikhil's hands. Aditya Garewal (Shiney Ahuja) is an aspiring director who is keen on casting Sana for his debut film  but only on his own terms; he is willing to go to any lengths to get her to agree to the film  even if that means preying on her slight insecurities and her turbulent relationship with Nikhil. Nikhil is successful in casting her in her film and the film turns out to be a super-hit. However  he loses track of his plan somewhere along the way and realizes that even though his film is complete and a super-hit  he just can't pull himself away from Sana; he has actually fallen in love with her in spite of his friend Sam (Purab Kohli) reminding Aditya that Sana is just their ladder to ...",
         "Based upon the life of actress Parveen Babi  this film describes the life of a schizophrenic actress Sana Azim  and the love of her life - Aditya Garewal.",
         null,
         "Kangana Ranaut|Shiney Ahuja|Shaad Randhawa|Purab Kohli|Masumeh Makhija|Anita Wahi|Ram Prakash|Preeti Koppikar|Abbas|",
         null,
         "29 September 2006 (India)"
        ],
        [
         "3",
         "Why Cheat India",
         "tt8108208",
         "https://upload.wikimedia.org/wikipedia/en/thumb/a/a2/Why_Cheat_India_poster.jpg/220px-Why_Cheat_India_poster.jpg",
         "https://en.wikipedia.org/wiki/Why_Cheat_India",
         "Why Cheat India",
         "Why Cheat India",
         "0",
         "2019",
         "121",
         "Crime|Drama",
         "6.0",
         "1891",
         "The movie focuses on existing malpractices in country's education system  the whole concept of buying your way through education  jobs and earnings. Even with an evolving education system  the country faces scams like SSC and HSC paper leaks  CBSE re-examination  Vyaapam  etc. The movie tries to shift the attention of people to understand the vulnerability of hardworking and gifted students who get left out.",
         "The movie focuses on existing malpractices in country's education system  the whole concept of buying your way through education  jobs and earnings. Even with an evolving education system  ...                    ",
         null,
         "Emraan Hashmi|Shreya Dhanwanthary|Snighdadeep Chatterji|Navneet Srivastava|Nanda Yadav|",
         null,
         "18 January 2019 (USA)"
        ],
        [
         "957",
         "What's Your Raashee?",
         "tt1242530",
         "https://upload.wikimedia.org/wikipedia/en/thumb/f/f1/What%27s_Your_Raashee%3F_poster.jpg/220px-What%27s_Your_Raashee%3F_poster.jpg",
         "https://en.wikipedia.org/wiki/What%27s_Your_Raashee%3F",
         "What's Your Raashee?",
         "What's Your Raashee?",
         "0",
         "2009",
         "195",
         "Comedy|Drama|Romance",
         "4.6",
         "2417",
         "What's Your Raashee? Yogesh Patel  a young man in a hurry. Yogesh must find his dream girl within 10 days to save his family from utter ruin. Finding the dream girl is tough enough. Finding her in a hurry is even tougher.",
         "A young man has only ten days to locate his soulmate as dictated by the stars  otherwise he could lose a fortune. He thus embarks on a journey through love  looking through twelve girls to find the one who fits his horoscope.",
         null,
         "Harman Baweja|Priyanka Chopra|Anjan Srivastav|Manju Singh|Dilip Joshi|Ajeeta Kulkarni|Vishwa Mohan Badola|Darshan Jariwala|Bhairavi|Geeta Tyagi|Rajesh Vivek|Yuri Suri|Daya Shankar Pandey|Marcell Dsouza|",
         "1 nomination",
         "2 October 2009 (USA)"
        ]
       ],
       "shape": {
        "columns": 18,
        "rows": 1629
       }
      },
      "text/html": [
       "<div>\n",
       "<style scoped>\n",
       "    .dataframe tbody tr th:only-of-type {\n",
       "        vertical-align: middle;\n",
       "    }\n",
       "\n",
       "    .dataframe tbody tr th {\n",
       "        vertical-align: top;\n",
       "    }\n",
       "\n",
       "    .dataframe thead th {\n",
       "        text-align: right;\n",
       "    }\n",
       "</style>\n",
       "<table border=\"1\" class=\"dataframe\">\n",
       "  <thead>\n",
       "    <tr style=\"text-align: right;\">\n",
       "      <th></th>\n",
       "      <th>title_x</th>\n",
       "      <th>imdb_id</th>\n",
       "      <th>poster_path</th>\n",
       "      <th>wiki_link</th>\n",
       "      <th>title_y</th>\n",
       "      <th>original_title</th>\n",
       "      <th>is_adult</th>\n",
       "      <th>year_of_release</th>\n",
       "      <th>runtime</th>\n",
       "      <th>genres</th>\n",
       "      <th>imdb_rating</th>\n",
       "      <th>imdb_votes</th>\n",
       "      <th>story</th>\n",
       "      <th>summary</th>\n",
       "      <th>tagline</th>\n",
       "      <th>actors</th>\n",
       "      <th>wins_nominations</th>\n",
       "      <th>release_date</th>\n",
       "    </tr>\n",
       "  </thead>\n",
       "  <tbody>\n",
       "    <tr>\n",
       "      <th>1623</th>\n",
       "      <td>Zubeidaa</td>\n",
       "      <td>tt0255713</td>\n",
       "      <td>https://upload.wikimedia.org/wikipedia/en/thum...</td>\n",
       "      <td>https://en.wikipedia.org/wiki/Zubeidaa</td>\n",
       "      <td>Zubeidaa</td>\n",
       "      <td>Zubeidaa</td>\n",
       "      <td>0</td>\n",
       "      <td>2001</td>\n",
       "      <td>153</td>\n",
       "      <td>Biography|Drama|History</td>\n",
       "      <td>6.2</td>\n",
       "      <td>1384</td>\n",
       "      <td>The film begins with Riyaz (Rajat Kapoor)  Zub...</td>\n",
       "      <td>Zubeidaa  an aspiring Muslim actress  marries ...</td>\n",
       "      <td>The Story of a Princess</td>\n",
       "      <td>Karisma Kapoor|Rekha|Manoj Bajpayee|Rajit Kapo...</td>\n",
       "      <td>3 wins &amp; 13 nominations</td>\n",
       "      <td>19 January 2001 (India)</td>\n",
       "    </tr>\n",
       "    <tr>\n",
       "      <th>939</th>\n",
       "      <td>Zor Lagaa Ke...Haiya!</td>\n",
       "      <td>tt1479857</td>\n",
       "      <td>https://upload.wikimedia.org/wikipedia/en/thum...</td>\n",
       "      <td>https://en.wikipedia.org/wiki/Zor_Lagaa_Ke...H...</td>\n",
       "      <td>Zor Lagaa Ke... Haiya!</td>\n",
       "      <td>Zor Lagaa Ke... Haiya!</td>\n",
       "      <td>0</td>\n",
       "      <td>2009</td>\n",
       "      <td>\\N</td>\n",
       "      <td>Comedy|Drama|Family</td>\n",
       "      <td>6.4</td>\n",
       "      <td>46</td>\n",
       "      <td>A tree narrates the story of four Mumbai-based...</td>\n",
       "      <td>Children build a tree-house to spy on a beggar...</td>\n",
       "      <td>NaN</td>\n",
       "      <td>Meghan Jadhav|Mithun Chakraborty|Riya Sen|Seem...</td>\n",
       "      <td>NaN</td>\n",
       "      <td>NaN</td>\n",
       "    </tr>\n",
       "    <tr>\n",
       "      <th>756</th>\n",
       "      <td>Zokkomon</td>\n",
       "      <td>tt1605790</td>\n",
       "      <td>https://upload.wikimedia.org/wikipedia/en/thum...</td>\n",
       "      <td>https://en.wikipedia.org/wiki/Zokkomon</td>\n",
       "      <td>Zokkomon</td>\n",
       "      <td>Zokkomon</td>\n",
       "      <td>0</td>\n",
       "      <td>2011</td>\n",
       "      <td>109</td>\n",
       "      <td>Action|Adventure</td>\n",
       "      <td>4.0</td>\n",
       "      <td>274</td>\n",
       "      <td>After the passing of his parents in an acciden...</td>\n",
       "      <td>An orphan is abused and abandoned  believed to...</td>\n",
       "      <td>Betrayal. Friendship. Bravery.</td>\n",
       "      <td>Darsheel Safary|Anupam Kher|Manjari Fadnnis|Ti...</td>\n",
       "      <td>NaN</td>\n",
       "      <td>22 April 2011 (India)</td>\n",
       "    </tr>\n",
       "    <tr>\n",
       "      <th>670</th>\n",
       "      <td>Zindagi Tere Naam</td>\n",
       "      <td>tt2164702</td>\n",
       "      <td>https://upload.wikimedia.org/wikipedia/en/thum...</td>\n",
       "      <td>https://en.wikipedia.org/wiki/Zindagi_Tere_Naam</td>\n",
       "      <td>Zindagi Tere Naam</td>\n",
       "      <td>Zindagi Tere Naam</td>\n",
       "      <td>0</td>\n",
       "      <td>2012</td>\n",
       "      <td>120</td>\n",
       "      <td>Romance</td>\n",
       "      <td>4.7</td>\n",
       "      <td>27</td>\n",
       "      <td>Mr. Singh  an elderly gentleman  relates to hi...</td>\n",
       "      <td>Mr. Singh  an elderly gentleman  relates to hi...</td>\n",
       "      <td>NaN</td>\n",
       "      <td>Mithun Chakraborty|Ranjeeta Kaur|Priyanka Meht...</td>\n",
       "      <td>1 win</td>\n",
       "      <td>16 March 2012 (India)</td>\n",
       "    </tr>\n",
       "    <tr>\n",
       "      <th>778</th>\n",
       "      <td>Zindagi Na Milegi Dobara</td>\n",
       "      <td>tt1562872</td>\n",
       "      <td>https://upload.wikimedia.org/wikipedia/en/thum...</td>\n",
       "      <td>https://en.wikipedia.org/wiki/Zindagi_Na_Mileg...</td>\n",
       "      <td>Zindagi Na Milegi Dobara</td>\n",
       "      <td>Zindagi Na Milegi Dobara</td>\n",
       "      <td>0</td>\n",
       "      <td>2011</td>\n",
       "      <td>155</td>\n",
       "      <td>Comedy|Drama</td>\n",
       "      <td>8.1</td>\n",
       "      <td>60826</td>\n",
       "      <td>Three friends decide to turn their fantasy vac...</td>\n",
       "      <td>Three friends decide to turn their fantasy vac...</td>\n",
       "      <td>NaN</td>\n",
       "      <td>Hrithik Roshan|Farhan Akhtar|Abhay Deol|Katrin...</td>\n",
       "      <td>30 wins &amp; 22 nominations</td>\n",
       "      <td>15 July 2011 (India)</td>\n",
       "    </tr>\n",
       "    <tr>\n",
       "      <th>...</th>\n",
       "      <td>...</td>\n",
       "      <td>...</td>\n",
       "      <td>...</td>\n",
       "      <td>...</td>\n",
       "      <td>...</td>\n",
       "      <td>...</td>\n",
       "      <td>...</td>\n",
       "      <td>...</td>\n",
       "      <td>...</td>\n",
       "      <td>...</td>\n",
       "      <td>...</td>\n",
       "      <td>...</td>\n",
       "      <td>...</td>\n",
       "      <td>...</td>\n",
       "      <td>...</td>\n",
       "      <td>...</td>\n",
       "      <td>...</td>\n",
       "      <td>...</td>\n",
       "    </tr>\n",
       "    <tr>\n",
       "      <th>1039</th>\n",
       "      <td>1971 (2007 film)</td>\n",
       "      <td>tt0983990</td>\n",
       "      <td>https://upload.wikimedia.org/wikipedia/en/thum...</td>\n",
       "      <td>https://en.wikipedia.org/wiki/1971_(2007_film)</td>\n",
       "      <td>1971</td>\n",
       "      <td>1971</td>\n",
       "      <td>0</td>\n",
       "      <td>2007</td>\n",
       "      <td>160</td>\n",
       "      <td>Action|Drama|War</td>\n",
       "      <td>7.9</td>\n",
       "      <td>1121</td>\n",
       "      <td>Based on true facts  the film revolves around ...</td>\n",
       "      <td>Based on true facts  the film revolves around ...</td>\n",
       "      <td>Honor the heroes.......</td>\n",
       "      <td>Manoj Bajpayee|Ravi Kishan|Deepak Dobriyal|</td>\n",
       "      <td>1 win</td>\n",
       "      <td>9 March 2007 (India)</td>\n",
       "    </tr>\n",
       "    <tr>\n",
       "      <th>723</th>\n",
       "      <td>1920: The Evil Returns</td>\n",
       "      <td>tt2222550</td>\n",
       "      <td>https://upload.wikimedia.org/wikipedia/en/e/e7...</td>\n",
       "      <td>https://en.wikipedia.org/wiki/1920:_The_Evil_R...</td>\n",
       "      <td>1920: Evil Returns</td>\n",
       "      <td>1920: Evil Returns</td>\n",
       "      <td>0</td>\n",
       "      <td>2012</td>\n",
       "      <td>124</td>\n",
       "      <td>Drama|Horror|Romance</td>\n",
       "      <td>4.8</td>\n",
       "      <td>1587</td>\n",
       "      <td>This story revolves around a famous poet who m...</td>\n",
       "      <td>This story revolves around a famous poet who m...</td>\n",
       "      <td>Possession is back</td>\n",
       "      <td>Vicky Ahuja|Tia Bajpai|Irma Jämhammar|Sharad K...</td>\n",
       "      <td>NaN</td>\n",
       "      <td>2 November 2012 (India)</td>\n",
       "    </tr>\n",
       "    <tr>\n",
       "      <th>287</th>\n",
       "      <td>1920: London</td>\n",
       "      <td>tt5638500</td>\n",
       "      <td>https://upload.wikimedia.org/wikipedia/en/thum...</td>\n",
       "      <td>https://en.wikipedia.org/wiki/1920_London</td>\n",
       "      <td>1920 London</td>\n",
       "      <td>1920 London</td>\n",
       "      <td>0</td>\n",
       "      <td>2016</td>\n",
       "      <td>120</td>\n",
       "      <td>Horror|Mystery</td>\n",
       "      <td>4.1</td>\n",
       "      <td>1373</td>\n",
       "      <td>Shivangi (Meera Chopra) lives in London with h...</td>\n",
       "      <td>After her husband is possessed by an evil spir...</td>\n",
       "      <td>Fear strikes again</td>\n",
       "      <td>Sharman Joshi|Meera Chopra|Vishal Karwal|Suren...</td>\n",
       "      <td>NaN</td>\n",
       "      <td>6 May 2016 (USA)</td>\n",
       "    </tr>\n",
       "    <tr>\n",
       "      <th>1021</th>\n",
       "      <td>1920 (film)</td>\n",
       "      <td>tt1301698</td>\n",
       "      <td>https://upload.wikimedia.org/wikipedia/en/thum...</td>\n",
       "      <td>https://en.wikipedia.org/wiki/1920_(film)</td>\n",
       "      <td>1920</td>\n",
       "      <td>1920</td>\n",
       "      <td>0</td>\n",
       "      <td>2008</td>\n",
       "      <td>138</td>\n",
       "      <td>Horror|Mystery|Romance</td>\n",
       "      <td>6.4</td>\n",
       "      <td>2588</td>\n",
       "      <td>A devotee of Bhagwan Shri Hanuman  Arjun Singh...</td>\n",
       "      <td>After forsaking his family and religion  a hus...</td>\n",
       "      <td>A Love Made in Heaven...A Revenge Born in Hell...</td>\n",
       "      <td>Rajniesh Duggall|Adah Sharma|Anjori Alagh|Raj ...</td>\n",
       "      <td>NaN</td>\n",
       "      <td>12 September 2008 (India)</td>\n",
       "    </tr>\n",
       "    <tr>\n",
       "      <th>1498</th>\n",
       "      <td>16 December (film)</td>\n",
       "      <td>tt0313844</td>\n",
       "      <td>https://upload.wikimedia.org/wikipedia/en/thum...</td>\n",
       "      <td>https://en.wikipedia.org/wiki/16_December_(film)</td>\n",
       "      <td>16-Dec</td>\n",
       "      <td>16-Dec</td>\n",
       "      <td>0</td>\n",
       "      <td>2002</td>\n",
       "      <td>158</td>\n",
       "      <td>Action|Thriller</td>\n",
       "      <td>6.9</td>\n",
       "      <td>1091</td>\n",
       "      <td>16 December  1971 was the day when India won t...</td>\n",
       "      <td>Indian intelligence agents race against time t...</td>\n",
       "      <td>NaN</td>\n",
       "      <td>Danny Denzongpa|Gulshan Grover|Milind Soman|Di...</td>\n",
       "      <td>2 nominations</td>\n",
       "      <td>22 March 2002 (India)</td>\n",
       "    </tr>\n",
       "  </tbody>\n",
       "</table>\n",
       "<p>1629 rows × 18 columns</p>\n",
       "</div>"
      ],
      "text/plain": [
       "                       title_x    imdb_id  \\\n",
       "1623                  Zubeidaa  tt0255713   \n",
       "939      Zor Lagaa Ke...Haiya!  tt1479857   \n",
       "756                   Zokkomon  tt1605790   \n",
       "670          Zindagi Tere Naam  tt2164702   \n",
       "778   Zindagi Na Milegi Dobara  tt1562872   \n",
       "...                        ...        ...   \n",
       "1039          1971 (2007 film)  tt0983990   \n",
       "723     1920: The Evil Returns  tt2222550   \n",
       "287               1920: London  tt5638500   \n",
       "1021               1920 (film)  tt1301698   \n",
       "1498        16 December (film)  tt0313844   \n",
       "\n",
       "                                            poster_path  \\\n",
       "1623  https://upload.wikimedia.org/wikipedia/en/thum...   \n",
       "939   https://upload.wikimedia.org/wikipedia/en/thum...   \n",
       "756   https://upload.wikimedia.org/wikipedia/en/thum...   \n",
       "670   https://upload.wikimedia.org/wikipedia/en/thum...   \n",
       "778   https://upload.wikimedia.org/wikipedia/en/thum...   \n",
       "...                                                 ...   \n",
       "1039  https://upload.wikimedia.org/wikipedia/en/thum...   \n",
       "723   https://upload.wikimedia.org/wikipedia/en/e/e7...   \n",
       "287   https://upload.wikimedia.org/wikipedia/en/thum...   \n",
       "1021  https://upload.wikimedia.org/wikipedia/en/thum...   \n",
       "1498  https://upload.wikimedia.org/wikipedia/en/thum...   \n",
       "\n",
       "                                              wiki_link  \\\n",
       "1623             https://en.wikipedia.org/wiki/Zubeidaa   \n",
       "939   https://en.wikipedia.org/wiki/Zor_Lagaa_Ke...H...   \n",
       "756              https://en.wikipedia.org/wiki/Zokkomon   \n",
       "670     https://en.wikipedia.org/wiki/Zindagi_Tere_Naam   \n",
       "778   https://en.wikipedia.org/wiki/Zindagi_Na_Mileg...   \n",
       "...                                                 ...   \n",
       "1039     https://en.wikipedia.org/wiki/1971_(2007_film)   \n",
       "723   https://en.wikipedia.org/wiki/1920:_The_Evil_R...   \n",
       "287           https://en.wikipedia.org/wiki/1920_London   \n",
       "1021          https://en.wikipedia.org/wiki/1920_(film)   \n",
       "1498   https://en.wikipedia.org/wiki/16_December_(film)   \n",
       "\n",
       "                       title_y            original_title  is_adult  \\\n",
       "1623                  Zubeidaa                  Zubeidaa         0   \n",
       "939     Zor Lagaa Ke... Haiya!    Zor Lagaa Ke... Haiya!         0   \n",
       "756                   Zokkomon                  Zokkomon         0   \n",
       "670          Zindagi Tere Naam         Zindagi Tere Naam         0   \n",
       "778   Zindagi Na Milegi Dobara  Zindagi Na Milegi Dobara         0   \n",
       "...                        ...                       ...       ...   \n",
       "1039                      1971                      1971         0   \n",
       "723         1920: Evil Returns        1920: Evil Returns         0   \n",
       "287                1920 London               1920 London         0   \n",
       "1021                      1920                      1920         0   \n",
       "1498                    16-Dec                    16-Dec         0   \n",
       "\n",
       "      year_of_release runtime                   genres  imdb_rating  \\\n",
       "1623             2001     153  Biography|Drama|History          6.2   \n",
       "939              2009      \\N      Comedy|Drama|Family          6.4   \n",
       "756              2011     109         Action|Adventure          4.0   \n",
       "670              2012     120                  Romance          4.7   \n",
       "778              2011     155             Comedy|Drama          8.1   \n",
       "...               ...     ...                      ...          ...   \n",
       "1039             2007     160         Action|Drama|War          7.9   \n",
       "723              2012     124     Drama|Horror|Romance          4.8   \n",
       "287              2016     120           Horror|Mystery          4.1   \n",
       "1021             2008     138   Horror|Mystery|Romance          6.4   \n",
       "1498             2002     158          Action|Thriller          6.9   \n",
       "\n",
       "      imdb_votes                                              story  \\\n",
       "1623        1384  The film begins with Riyaz (Rajat Kapoor)  Zub...   \n",
       "939           46  A tree narrates the story of four Mumbai-based...   \n",
       "756          274  After the passing of his parents in an acciden...   \n",
       "670           27  Mr. Singh  an elderly gentleman  relates to hi...   \n",
       "778        60826  Three friends decide to turn their fantasy vac...   \n",
       "...          ...                                                ...   \n",
       "1039        1121  Based on true facts  the film revolves around ...   \n",
       "723         1587  This story revolves around a famous poet who m...   \n",
       "287         1373  Shivangi (Meera Chopra) lives in London with h...   \n",
       "1021        2588  A devotee of Bhagwan Shri Hanuman  Arjun Singh...   \n",
       "1498        1091  16 December  1971 was the day when India won t...   \n",
       "\n",
       "                                                summary  \\\n",
       "1623  Zubeidaa  an aspiring Muslim actress  marries ...   \n",
       "939   Children build a tree-house to spy on a beggar...   \n",
       "756   An orphan is abused and abandoned  believed to...   \n",
       "670   Mr. Singh  an elderly gentleman  relates to hi...   \n",
       "778   Three friends decide to turn their fantasy vac...   \n",
       "...                                                 ...   \n",
       "1039  Based on true facts  the film revolves around ...   \n",
       "723   This story revolves around a famous poet who m...   \n",
       "287   After her husband is possessed by an evil spir...   \n",
       "1021  After forsaking his family and religion  a hus...   \n",
       "1498  Indian intelligence agents race against time t...   \n",
       "\n",
       "                                                tagline  \\\n",
       "1623                            The Story of a Princess   \n",
       "939                                                 NaN   \n",
       "756                      Betrayal. Friendship. Bravery.   \n",
       "670                                                 NaN   \n",
       "778                                                 NaN   \n",
       "...                                                 ...   \n",
       "1039                            Honor the heroes.......   \n",
       "723                                  Possession is back   \n",
       "287                                  Fear strikes again   \n",
       "1021  A Love Made in Heaven...A Revenge Born in Hell...   \n",
       "1498                                                NaN   \n",
       "\n",
       "                                                 actors  \\\n",
       "1623  Karisma Kapoor|Rekha|Manoj Bajpayee|Rajit Kapo...   \n",
       "939   Meghan Jadhav|Mithun Chakraborty|Riya Sen|Seem...   \n",
       "756   Darsheel Safary|Anupam Kher|Manjari Fadnnis|Ti...   \n",
       "670   Mithun Chakraborty|Ranjeeta Kaur|Priyanka Meht...   \n",
       "778   Hrithik Roshan|Farhan Akhtar|Abhay Deol|Katrin...   \n",
       "...                                                 ...   \n",
       "1039        Manoj Bajpayee|Ravi Kishan|Deepak Dobriyal|   \n",
       "723   Vicky Ahuja|Tia Bajpai|Irma Jämhammar|Sharad K...   \n",
       "287   Sharman Joshi|Meera Chopra|Vishal Karwal|Suren...   \n",
       "1021  Rajniesh Duggall|Adah Sharma|Anjori Alagh|Raj ...   \n",
       "1498  Danny Denzongpa|Gulshan Grover|Milind Soman|Di...   \n",
       "\n",
       "              wins_nominations               release_date  \n",
       "1623   3 wins & 13 nominations    19 January 2001 (India)  \n",
       "939                        NaN                        NaN  \n",
       "756                        NaN      22 April 2011 (India)  \n",
       "670                      1 win      16 March 2012 (India)  \n",
       "778   30 wins & 22 nominations       15 July 2011 (India)  \n",
       "...                        ...                        ...  \n",
       "1039                     1 win       9 March 2007 (India)  \n",
       "723                        NaN    2 November 2012 (India)  \n",
       "287                        NaN           6 May 2016 (USA)  \n",
       "1021                       NaN  12 September 2008 (India)  \n",
       "1498             2 nominations      22 March 2002 (India)  \n",
       "\n",
       "[1629 rows x 18 columns]"
      ]
     },
     "execution_count": 17,
     "metadata": {},
     "output_type": "execute_result"
    }
   ],
   "source": [
    "movies.sort_values('title_x',ascending=False)  # sort by title_x column in descending order"
   ]
  },
  {
   "cell_type": "code",
   "execution_count": null,
   "metadata": {
    "id": "6Cf5-Ru1SKJV"
   },
   "outputs": [],
   "source": []
  },
  {
   "cell_type": "code",
   "execution_count": 24,
   "metadata": {
    "colab": {
     "base_uri": "https://localhost:8080/",
     "height": 363
    },
    "id": "FoJL7JtVlaCy",
    "outputId": "7b349820-bbd3-40f5-908c-b371be83bcca"
   },
   "outputs": [
    {
     "data": {
      "application/vnd.microsoft.datawrangler.viewer.v0+json": {
       "columns": [
        {
         "name": "index",
         "rawType": "int64",
         "type": "integer"
        },
        {
         "name": "name",
         "rawType": "object",
         "type": "unknown"
        },
        {
         "name": "college",
         "rawType": "object",
         "type": "unknown"
        },
        {
         "name": "branch",
         "rawType": "object",
         "type": "unknown"
        },
        {
         "name": "cgpa",
         "rawType": "float64",
         "type": "float"
        },
        {
         "name": "package",
         "rawType": "float64",
         "type": "float"
        }
       ],
       "ref": "0fffe1d2-d0f7-465f-a536-d85f11fd61fc",
       "rows": [
        [
         "0",
         "nitish",
         "bit",
         "eee",
         "6.66",
         "4.0"
        ],
        [
         "1",
         "ankit",
         "iit",
         "it",
         "8.25",
         "5.0"
        ],
        [
         "2",
         "rupesh",
         "vit",
         "cse",
         "6.41",
         "6.0"
        ],
        [
         "3",
         null,
         null,
         null,
         null,
         null
        ],
        [
         "4",
         "mrityunjay",
         null,
         "me",
         "5.6",
         "6.0"
        ],
        [
         "5",
         null,
         "vlsi",
         "ce",
         "9.0",
         "7.0"
        ],
        [
         "6",
         "rishabh",
         "ssit",
         "civ",
         "7.4",
         "8.0"
        ],
        [
         "7",
         null,
         null,
         "cse",
         "10.0",
         "9.0"
        ],
        [
         "8",
         "aditya",
         null,
         "bio",
         "7.4",
         null
        ],
        [
         "9",
         null,
         "git",
         null,
         null,
         null
        ]
       ],
       "shape": {
        "columns": 5,
        "rows": 10
       }
      },
      "text/html": [
       "<div>\n",
       "<style scoped>\n",
       "    .dataframe tbody tr th:only-of-type {\n",
       "        vertical-align: middle;\n",
       "    }\n",
       "\n",
       "    .dataframe tbody tr th {\n",
       "        vertical-align: top;\n",
       "    }\n",
       "\n",
       "    .dataframe thead th {\n",
       "        text-align: right;\n",
       "    }\n",
       "</style>\n",
       "<table border=\"1\" class=\"dataframe\">\n",
       "  <thead>\n",
       "    <tr style=\"text-align: right;\">\n",
       "      <th></th>\n",
       "      <th>name</th>\n",
       "      <th>college</th>\n",
       "      <th>branch</th>\n",
       "      <th>cgpa</th>\n",
       "      <th>package</th>\n",
       "    </tr>\n",
       "  </thead>\n",
       "  <tbody>\n",
       "    <tr>\n",
       "      <th>0</th>\n",
       "      <td>nitish</td>\n",
       "      <td>bit</td>\n",
       "      <td>eee</td>\n",
       "      <td>6.66</td>\n",
       "      <td>4.0</td>\n",
       "    </tr>\n",
       "    <tr>\n",
       "      <th>1</th>\n",
       "      <td>ankit</td>\n",
       "      <td>iit</td>\n",
       "      <td>it</td>\n",
       "      <td>8.25</td>\n",
       "      <td>5.0</td>\n",
       "    </tr>\n",
       "    <tr>\n",
       "      <th>2</th>\n",
       "      <td>rupesh</td>\n",
       "      <td>vit</td>\n",
       "      <td>cse</td>\n",
       "      <td>6.41</td>\n",
       "      <td>6.0</td>\n",
       "    </tr>\n",
       "    <tr>\n",
       "      <th>3</th>\n",
       "      <td>NaN</td>\n",
       "      <td>NaN</td>\n",
       "      <td>NaN</td>\n",
       "      <td>NaN</td>\n",
       "      <td>NaN</td>\n",
       "    </tr>\n",
       "    <tr>\n",
       "      <th>4</th>\n",
       "      <td>mrityunjay</td>\n",
       "      <td>NaN</td>\n",
       "      <td>me</td>\n",
       "      <td>5.60</td>\n",
       "      <td>6.0</td>\n",
       "    </tr>\n",
       "    <tr>\n",
       "      <th>5</th>\n",
       "      <td>NaN</td>\n",
       "      <td>vlsi</td>\n",
       "      <td>ce</td>\n",
       "      <td>9.00</td>\n",
       "      <td>7.0</td>\n",
       "    </tr>\n",
       "    <tr>\n",
       "      <th>6</th>\n",
       "      <td>rishabh</td>\n",
       "      <td>ssit</td>\n",
       "      <td>civ</td>\n",
       "      <td>7.40</td>\n",
       "      <td>8.0</td>\n",
       "    </tr>\n",
       "    <tr>\n",
       "      <th>7</th>\n",
       "      <td>NaN</td>\n",
       "      <td>NaN</td>\n",
       "      <td>cse</td>\n",
       "      <td>10.00</td>\n",
       "      <td>9.0</td>\n",
       "    </tr>\n",
       "    <tr>\n",
       "      <th>8</th>\n",
       "      <td>aditya</td>\n",
       "      <td>NaN</td>\n",
       "      <td>bio</td>\n",
       "      <td>7.40</td>\n",
       "      <td>NaN</td>\n",
       "    </tr>\n",
       "    <tr>\n",
       "      <th>9</th>\n",
       "      <td>NaN</td>\n",
       "      <td>git</td>\n",
       "      <td>NaN</td>\n",
       "      <td>NaN</td>\n",
       "      <td>NaN</td>\n",
       "    </tr>\n",
       "  </tbody>\n",
       "</table>\n",
       "</div>"
      ],
      "text/plain": [
       "         name college branch   cgpa  package\n",
       "0      nitish     bit    eee   6.66      4.0\n",
       "1       ankit     iit     it   8.25      5.0\n",
       "2      rupesh     vit    cse   6.41      6.0\n",
       "3         NaN     NaN    NaN    NaN      NaN\n",
       "4  mrityunjay     NaN     me   5.60      6.0\n",
       "5         NaN    vlsi     ce   9.00      7.0\n",
       "6     rishabh    ssit    civ   7.40      8.0\n",
       "7         NaN     NaN    cse  10.00      9.0\n",
       "8      aditya     NaN    bio   7.40      NaN\n",
       "9         NaN     git    NaN    NaN      NaN"
      ]
     },
     "execution_count": 24,
     "metadata": {},
     "output_type": "execute_result"
    }
   ],
   "source": [
    "students = pd.DataFrame(\n",
    "    {\n",
    "        'name':['nitish','ankit','rupesh',np.nan,'mrityunjay',np.nan,'rishabh',np.nan,'aditya',np.nan],\n",
    "        'college':['bit','iit','vit',np.nan,np.nan,'vlsi','ssit',np.nan,np.nan,'git'],\n",
    "        'branch':['eee','it','cse',np.nan,'me','ce','civ','cse','bio',np.nan],\n",
    "        'cgpa':[6.66,8.25,6.41,np.nan,5.6,9.0,7.4,10,7.4,np.nan],\n",
    "        'package':[4,5,6,np.nan,6,7,8,9,np.nan,np.nan]\n",
    "\n",
    "    }\n",
    ")\n",
    "\n",
    "students"
   ]
  },
  {
   "cell_type": "code",
   "execution_count": 20,
   "metadata": {
    "id": "bxhztsOrldb8"
   },
   "outputs": [],
   "source": [
    "students.sort_values('name',na_position='first',ascending=False,inplace=True)  # sort by name column in descending order, placing NaN values first, and modifying the original DataFrame"
   ]
  },
  {
   "cell_type": "code",
   "execution_count": 21,
   "metadata": {
    "colab": {
     "base_uri": "https://localhost:8080/",
     "height": 363
    },
    "id": "4JMrJTLGluUQ",
    "outputId": "746f17eb-a1c5-4cdc-9722-95bd65647a44"
   },
   "outputs": [
    {
     "data": {
      "application/vnd.microsoft.datawrangler.viewer.v0+json": {
       "columns": [
        {
         "name": "index",
         "rawType": "int64",
         "type": "integer"
        },
        {
         "name": "name",
         "rawType": "object",
         "type": "unknown"
        },
        {
         "name": "college",
         "rawType": "object",
         "type": "unknown"
        },
        {
         "name": "branch",
         "rawType": "object",
         "type": "unknown"
        },
        {
         "name": "cgpa",
         "rawType": "float64",
         "type": "float"
        },
        {
         "name": "package",
         "rawType": "float64",
         "type": "float"
        }
       ],
       "ref": "4365d0e3-bb84-4c6b-bf5a-e274367eda00",
       "rows": [
        [
         "3",
         null,
         null,
         null,
         null,
         null
        ],
        [
         "5",
         null,
         "vlsi",
         "ce",
         "9.0",
         "7.0"
        ],
        [
         "7",
         null,
         null,
         "cse",
         "10.0",
         "9.0"
        ],
        [
         "9",
         null,
         "git",
         null,
         null,
         null
        ],
        [
         "2",
         "rupesh",
         "vit",
         "cse",
         "6.41",
         "6.0"
        ],
        [
         "6",
         "rishabh",
         "ssit",
         "civ",
         "7.4",
         "8.0"
        ],
        [
         "0",
         "nitish",
         "bit",
         "eee",
         "6.66",
         "4.0"
        ],
        [
         "4",
         "mrityunjay",
         null,
         "me",
         "5.6",
         "6.0"
        ],
        [
         "1",
         "ankit",
         "iit",
         "it",
         "8.25",
         "5.0"
        ],
        [
         "8",
         "aditya",
         null,
         "bio",
         "7.4",
         null
        ]
       ],
       "shape": {
        "columns": 5,
        "rows": 10
       }
      },
      "text/html": [
       "<div>\n",
       "<style scoped>\n",
       "    .dataframe tbody tr th:only-of-type {\n",
       "        vertical-align: middle;\n",
       "    }\n",
       "\n",
       "    .dataframe tbody tr th {\n",
       "        vertical-align: top;\n",
       "    }\n",
       "\n",
       "    .dataframe thead th {\n",
       "        text-align: right;\n",
       "    }\n",
       "</style>\n",
       "<table border=\"1\" class=\"dataframe\">\n",
       "  <thead>\n",
       "    <tr style=\"text-align: right;\">\n",
       "      <th></th>\n",
       "      <th>name</th>\n",
       "      <th>college</th>\n",
       "      <th>branch</th>\n",
       "      <th>cgpa</th>\n",
       "      <th>package</th>\n",
       "    </tr>\n",
       "  </thead>\n",
       "  <tbody>\n",
       "    <tr>\n",
       "      <th>3</th>\n",
       "      <td>NaN</td>\n",
       "      <td>NaN</td>\n",
       "      <td>NaN</td>\n",
       "      <td>NaN</td>\n",
       "      <td>NaN</td>\n",
       "    </tr>\n",
       "    <tr>\n",
       "      <th>5</th>\n",
       "      <td>NaN</td>\n",
       "      <td>vlsi</td>\n",
       "      <td>ce</td>\n",
       "      <td>9.00</td>\n",
       "      <td>7.0</td>\n",
       "    </tr>\n",
       "    <tr>\n",
       "      <th>7</th>\n",
       "      <td>NaN</td>\n",
       "      <td>NaN</td>\n",
       "      <td>cse</td>\n",
       "      <td>10.00</td>\n",
       "      <td>9.0</td>\n",
       "    </tr>\n",
       "    <tr>\n",
       "      <th>9</th>\n",
       "      <td>NaN</td>\n",
       "      <td>git</td>\n",
       "      <td>NaN</td>\n",
       "      <td>NaN</td>\n",
       "      <td>NaN</td>\n",
       "    </tr>\n",
       "    <tr>\n",
       "      <th>2</th>\n",
       "      <td>rupesh</td>\n",
       "      <td>vit</td>\n",
       "      <td>cse</td>\n",
       "      <td>6.41</td>\n",
       "      <td>6.0</td>\n",
       "    </tr>\n",
       "    <tr>\n",
       "      <th>6</th>\n",
       "      <td>rishabh</td>\n",
       "      <td>ssit</td>\n",
       "      <td>civ</td>\n",
       "      <td>7.40</td>\n",
       "      <td>8.0</td>\n",
       "    </tr>\n",
       "    <tr>\n",
       "      <th>0</th>\n",
       "      <td>nitish</td>\n",
       "      <td>bit</td>\n",
       "      <td>eee</td>\n",
       "      <td>6.66</td>\n",
       "      <td>4.0</td>\n",
       "    </tr>\n",
       "    <tr>\n",
       "      <th>4</th>\n",
       "      <td>mrityunjay</td>\n",
       "      <td>NaN</td>\n",
       "      <td>me</td>\n",
       "      <td>5.60</td>\n",
       "      <td>6.0</td>\n",
       "    </tr>\n",
       "    <tr>\n",
       "      <th>1</th>\n",
       "      <td>ankit</td>\n",
       "      <td>iit</td>\n",
       "      <td>it</td>\n",
       "      <td>8.25</td>\n",
       "      <td>5.0</td>\n",
       "    </tr>\n",
       "    <tr>\n",
       "      <th>8</th>\n",
       "      <td>aditya</td>\n",
       "      <td>NaN</td>\n",
       "      <td>bio</td>\n",
       "      <td>7.40</td>\n",
       "      <td>NaN</td>\n",
       "    </tr>\n",
       "  </tbody>\n",
       "</table>\n",
       "</div>"
      ],
      "text/plain": [
       "         name college branch   cgpa  package\n",
       "3         NaN     NaN    NaN    NaN      NaN\n",
       "5         NaN    vlsi     ce   9.00      7.0\n",
       "7         NaN     NaN    cse  10.00      9.0\n",
       "9         NaN     git    NaN    NaN      NaN\n",
       "2      rupesh     vit    cse   6.41      6.0\n",
       "6     rishabh    ssit    civ   7.40      8.0\n",
       "0      nitish     bit    eee   6.66      4.0\n",
       "4  mrityunjay     NaN     me   5.60      6.0\n",
       "1       ankit     iit     it   8.25      5.0\n",
       "8      aditya     NaN    bio   7.40      NaN"
      ]
     },
     "execution_count": 21,
     "metadata": {},
     "output_type": "execute_result"
    }
   ],
   "source": [
    "students"
   ]
  },
  {
   "cell_type": "code",
   "execution_count": 22,
   "metadata": {
    "colab": {
     "base_uri": "https://localhost:8080/",
     "height": 1000
    },
    "id": "oBQnvzOJlu2L",
    "outputId": "0745c607-d196-4d12-af31-1d87feea1e8a"
   },
   "outputs": [
    {
     "data": {
      "application/vnd.microsoft.datawrangler.viewer.v0+json": {
       "columns": [
        {
         "name": "index",
         "rawType": "int64",
         "type": "integer"
        },
        {
         "name": "title_x",
         "rawType": "object",
         "type": "string"
        },
        {
         "name": "imdb_id",
         "rawType": "object",
         "type": "string"
        },
        {
         "name": "poster_path",
         "rawType": "object",
         "type": "unknown"
        },
        {
         "name": "wiki_link",
         "rawType": "object",
         "type": "string"
        },
        {
         "name": "title_y",
         "rawType": "object",
         "type": "string"
        },
        {
         "name": "original_title",
         "rawType": "object",
         "type": "string"
        },
        {
         "name": "is_adult",
         "rawType": "int64",
         "type": "integer"
        },
        {
         "name": "year_of_release",
         "rawType": "int64",
         "type": "integer"
        },
        {
         "name": "runtime",
         "rawType": "object",
         "type": "string"
        },
        {
         "name": "genres",
         "rawType": "object",
         "type": "string"
        },
        {
         "name": "imdb_rating",
         "rawType": "float64",
         "type": "float"
        },
        {
         "name": "imdb_votes",
         "rawType": "int64",
         "type": "integer"
        },
        {
         "name": "story",
         "rawType": "object",
         "type": "unknown"
        },
        {
         "name": "summary",
         "rawType": "object",
         "type": "string"
        },
        {
         "name": "tagline",
         "rawType": "object",
         "type": "unknown"
        },
        {
         "name": "actors",
         "rawType": "object",
         "type": "unknown"
        },
        {
         "name": "wins_nominations",
         "rawType": "object",
         "type": "unknown"
        },
        {
         "name": "release_date",
         "rawType": "object",
         "type": "unknown"
        }
       ],
       "ref": "9ee66ece-1a6f-48db-be92-20b97f7f4e8e",
       "rows": [
        [
         "1623",
         "Zubeidaa",
         "tt0255713",
         "https://upload.wikimedia.org/wikipedia/en/thumb/f/fc/Zubeidaa_poster.jpg/220px-Zubeidaa_poster.jpg",
         "https://en.wikipedia.org/wiki/Zubeidaa",
         "Zubeidaa",
         "Zubeidaa",
         "0",
         "2001",
         "153",
         "Biography|Drama|History",
         "6.2",
         "1384",
         "The film begins with Riyaz (Rajat Kapoor)  Zubeida's son setting out to research her life  and to meet the people who knew her. The story is thus told in the form of memories/reminiscences. Zubeida is a Muslim actress  who's career aspirations are thwarted by her film-producer father (Puri) who looks down upon a woman in acting. He arranges her marriage to her friend's son  but that breaks up after the birth of her son. Zubeida is now back at her parent's home  sad and depressed. Rose (Lilette Dubey) her father's mistress tries to cheer-up Zubeida by taking her out. On one of these outings  Zubeida meets Prince Vijayendra (Victor) Singh of Fatehpur (Bajpai). Quite taken with her  the Prince woos and marries her. Zubeida  now the 2nd wife of a Hindu prince  leaves her son behind with her mother (Sikri) and comes to live at Fatehpur. Here she meets the much older Mandira Devi (Rekha) the Prince's first wife  learns about the etiquette of being a Rani  and of the duties her husband has ...",
         "Zubeidaa  an aspiring Muslim actress  marries a Hindu prince to become his second wife. Her tumultuous relationship with her husband  and her inner demons lead her to a decision which has fatal consequences for them all.",
         "The Story of a Princess",
         "Karisma Kapoor|Rekha|Manoj Bajpayee|Rajit Kapoor|Surekha Sikri|Amrish Puri|Farida Jalal|Shakti Kapoor|Lillete Dubey|Ravi Jhankal|Smriti Mishra|S.M. Zaheer|Harish Patel|Seema Bhargava|",
         "3 wins & 13 nominations",
         "19 January 2001 (India)"
        ],
        [
         "1625",
         "Yeh Zindagi Ka Safar",
         "tt0298607",
         "https://upload.wikimedia.org/wikipedia/en/thumb/2/21/Yeh_Zindagi_Ka_Safar.jpg/220px-Yeh_Zindagi_Ka_Safar.jpg",
         "https://en.wikipedia.org/wiki/Yeh_Zindagi_Ka_Safar",
         "Yeh Zindagi Ka Safar",
         "Yeh Zindagi Ka Safar",
         "0",
         "2001",
         "146",
         "Drama",
         "3.0",
         "133",
         "Hindi pop-star  Sarina Devan  lives a wealthy lifestyle with her widowed businessman father  Vivek. She soon achieves considerable success and becomes immensely popular. A struggling newspaper  Adarsh Times  publishes a story about her being born in an orphanage  which is received with shock and surprise by Vivek  and he instructs his lawyers to file a defamation suit against the owner  known as Dada  and a Journalist  Jay Bhardwaj. Dada and Jay are apologetic  however  Sarina finds out that she is not Vivek's biological daughter  and sets forth to find her parentage. She enlists Jay's assistant and they travel to Ooty where they meet with a Catholic Priest  Joseph  who refuses to divulge any information to them. Then she meets with a Nun  Sister Namrata  and subsequently finds out that she is indeed her biological mother. Expecting to be welcomed into her arms  she is shocked when Namrata outright rejects her  and tells her to return to back to her life with Vivek. But Sarina ...",
         "A singer finds out she was adopted when the editor of a struggling tabloid publishes the story.",
         null,
         "Ameesha Patel|Jimmy Sheirgill|Nafisa Ali|Gulshan Grover|Ehsan Khan|",
         null,
         "16 November 2001 (India)"
        ],
        [
         "1622",
         "Yeh Teraa Ghar Yeh Meraa Ghar",
         "tt0298606",
         "https://upload.wikimedia.org/wikipedia/en/thumb/9/9f/Yeh_Teraa_Ghar_Yeh_Meraa_Ghar_2001_film_poster.jpg/220px-Yeh_Teraa_Ghar_Yeh_Meraa_Ghar_2001_film_poster.jpg",
         "https://en.wikipedia.org/wiki/Yeh_Teraa_Ghar_Yeh_Meraa_Ghar",
         "Yeh Teraa Ghar Yeh Meraa Ghar",
         "Yeh Teraa Ghar Yeh Meraa Ghar",
         "0",
         "2001",
         "175",
         "Comedy|Drama",
         "5.7",
         "704",
         "In debt; Dayashankar Pandey is forced to go to Bombay to ask his tenants to vacate his house as it is his only means of acquiring money to pay off his loans. But the problem is these people refuse to move forcing Dayashankar to take matters into his own hands thus making it more difficult for the people to move as situations are in there favors.",
         "In debt; Dayashankar Pandey is forced to go to Bombay to ask his tenants to vacate his house as it is his only means of acquiring money to pay off his loans. But the problem is these people...                    ",
         null,
         "Sunil Shetty|Mahima Chaudhry|Paresh Rawal|Saurabh Shukla|Anjan Srivastav|Suhasini Mulay|Asrani|Master Aditi|Radhika Menon|Usha Nadkarni|Nagma|Sanjay Narvekar|Neeraj Vora|",
         "1 nomination",
         "12 October 2001 (India)"
        ],
        [
         "1620",
         "Yeh Raaste Hain Pyaar Ke",
         "tt0292740",
         "https://upload.wikimedia.org/wikipedia/en/thumb/3/3f/Yehraaste.jpg/220px-Yehraaste.jpg",
         "https://en.wikipedia.org/wiki/Yeh_Raaste_Hain_Pyaar_Ke",
         "Yeh Raaste Hain Pyaar Ke",
         "Yeh Raaste Hain Pyaar Ke",
         "0",
         "2001",
         "149",
         "Drama|Romance",
         "4.0",
         "607",
         "Two con artistes and car thieves  Vicky (Ajay Devgan) and Sakshi (Preity Zintar) run afoul of Bhanwarlal (Deep Dhillon) and his mob  when they accidentally kill his brother. Bhanwarlal and his other brother (Mayur) both swear to avenge the death of their brother and mistakenly kill Rohit Verma (also Ajay Devgan)  who is a look-alike of Vicky. Sakshi thinks that her love is dead and is devastated. Unknown to Sakshi and Bhanwarlal  Vicky is still alive and has taken the place of Rohit  fooling Rohit's dad  Pratap Verma (Vikram Gokhale); Rohit's wife  Neha (Madhuri Dixit)  little knowing that Pratap Verma already knows that Rohit is dead  but for some strange and mysterious reason permits Vicky to continue with the impersonation.",
         "Two con artistes and car thieves  Vicky (Ajay Devgan) and Sakshi (Preity Zintar) run afoul of Bhanwarlal (Deep Dhillon) and his mob  when they accidentally kill his brother. Bhanwarlal and ...                    ",
         "Love is a journey... not a destination",
         "Ajay Devgn|Madhuri Dixit|Preity Zinta|Vikram Gokhale|Deep Dhillon|Smita Jaykar|Sunny Deol|Kiran Kumar|Rajeev Verma|Jayshree T.|Asha Sharma|Lalit Tiwari|Shammi|Mayur Verma|",
         null,
         "10 August 2001 (India)"
        ],
        [
         "1573",
         "Yaadein (2001 film)",
         "tt0248617",
         "https://upload.wikimedia.org/wikipedia/en/thumb/c/cd/Yaadein_%282001_film%29.jpg/220px-Yaadein_%282001_film%29.jpg",
         "https://en.wikipedia.org/wiki/Yaadein_(2001_film)",
         "Yaadein...",
         "Yaadein...",
         "0",
         "2001",
         "171",
         "Drama|Musical|Romance",
         "4.4",
         "3034",
         "Raj Singh Puri is best friends with L.K. Malhotra who is in turn younger brother to J.K. Malhotra. The brothers are business tycoons and Raj works in their company. Raj is father to three young daughters  the first one gets married through arrangement but the second one marries her lover. After a few weeks at her in-laws  the second daughter returns home asking for divorce. After this Raj and her last daughter become strictly against love and relationships. All this changes when Isha (the third daughter) falls in love with the heir to the Malhotra empire  Ronit  L.K. Malhotra's son. The ask for Raj's blessing but he bluntly refuses and Isha understandingly shuns Ronit and Raj arranges for Ronit to be married to the daughter of another tycoon. Ronit is unhappy and makes Raj realize that his fiancé's family is not right for them and Raj approaches the Malhotras to break off the engagement however J.K. Malhotra shuns him by calling him poor and small. The other Malhotras join forces to ...",
         "Raj Singh Puri is best friends with L.K. Malhotra who is in turn younger brother to J.K. Malhotra. The brothers are business tycoons and Raj works in their company. Raj is father to three ...                    ",
         "memories to cherish...",
         "Jackie Shroff|Hrithik Roshan|Kareena Kapoor|Amrish Puri|Himani Rawat|Kiran Rathod|Anang Desai|Supriya Karnik|Avni Vasa|Madan Joshi|Suman Dutta|Suhaas Khandke|Rajan Kapoor|Jennifer Kotwal|",
         "1 nomination",
         "27 June 2001 (India)"
        ],
        [
         "1621",
         "Tum Bin",
         "tt0290326",
         "https://upload.wikimedia.org/wikipedia/en/thumb/1/16/TumBinFilmPoster.jpg/220px-TumBinFilmPoster.jpg",
         "https://en.wikipedia.org/wiki/Tum_Bin",
         "Tum Bin...: Love Will Find a Way",
         "Tum Bin...: Love Will Find a Way",
         "0",
         "2001",
         "158",
         "Drama|Romance",
         "7.5",
         "2879",
         "Shekar and Amar meet at a party where Amar asks Shekar that he should come and work with him in Canada same night Amar accidentally gets killed after he is hit by Shekar 's car Inspector Dmello swears that he won't close the case until he catches the killer Shekar goes to Amar 's house in Canada and confesses his father about Amar 's death but finds that his father has lost all his body senses after Amar 's death he meets Pia  Amar's fiance whose also in depression and trying to save Amar's company Shah Industries Shekar and Pia start working with each other and Shekar falls in love with Pia they both bring Shah Industries back on track and meet Abhi for future business same time Abhi falls in love with Pia Pia also starts liking Shekar but decides to choose Abhi  Inspector Dmello comes from India to arrest Shekar Shekar tells Pia that Amar died after he hit his car while confessing all this on phone to Pia a speeding car knocks Shekar following which he is admitted in hospital Amar's...",
         "Shekhar accidentally kills his associate Amar  and decides to watch over Amar's company and take care of his family and friends. However  he falls in love with Amar's fiancé Piya.",
         "Love will find a way",
         "Priyanshu Chatterjee|Himanshu Malik|Sandali Sinha|Raqesh Bapat|Vikram Gokhale|Rajesh Khera|Navneet Nishan|",
         "6 nominations",
         "13 July 2001 (India)"
        ],
        [
         "1624",
         "Tera Mera Saath Rahen",
         "tt0301250",
         "https://upload.wikimedia.org/wikipedia/en/2/2b/Tera_Mera_Saath_Rahen.jpg",
         "https://en.wikipedia.org/wiki/Tera_Mera_Saath_Rahen",
         "Tera Mera Saath Rahen",
         "Tera Mera Saath Rahen",
         "0",
         "2001",
         "148",
         "Drama",
         "4.9",
         "278",
         "Raj Dixit lives with his younger brother  Rahul  who is disabled  both mentally and physically  from birth. Raj is also employed full-time  and after work  has the responsibility of looking after Rahul  which leaves him no time for himself. His beautiful neighbor  Suman Gupta  is attracted to him  but he regards her as a friend only. When Mr. Khanna introduces him to his niece  Madhuri  both instantly falls in love. The only problem is that Madhuri will only marry Raj  if Rahul is institutionalized. Raj agrees to get him admitted in a facility  much to Madhuri's delight  and together they start to plan their marriage  not realizing that things are going to take a turn for the worse.",
         "A man is torn between his handicapped brother and his ladylove  where he finds difficult whom to choose.",
         null,
         "Ajay Devgn|Sonali Bendre|Namrata Shirodkar|Prem Chopra|Hemu Adhikari|Jayant Sawarkar|Shubhangi Damle|Nilesh Diwekar|Atul Kale|Abhijeet Satam|Daman Baggan|Mangesh Satpute|Shilpa Chauhan|Nirmal Soni|",
         null,
         "7 November 2001 (India)"
        ],
        [
         "1615",
         "Style (2001 film)",
         "tt0306855",
         "https://upload.wikimedia.org/wikipedia/en/thumb/6/6c/Style_%282001_film%29.jpg/220px-Style_%282001_film%29.jpg",
         "https://en.wikipedia.org/wiki/Style_(2001_film)",
         "Style",
         "Style",
         "0",
         "2001",
         "157",
         "Comedy|Musical|Mystery",
         "6.7",
         "1607",
         "Bantu and Chantu are two close friends and fellow collegians in an Arts & Science College in Bombay  India. Both are up to no good practical pranks and jokes  including conning their college-mates for money. Both prove that they can do anything for money and an easy lifestyle. In order to continue living a easy and comfortable lifestyle  both decide to marry wealthy girls  namely Rani and Sheena. In order to get close to them they steal identities from two females  Rose Mary Marlowe and Reshma Chowdhury  disguise themselves as females  get admitted in a Girls' hostel and start their romance with their future-brides. But fate has other plans for these two pals  as the women they are impersonating have been killed just a day after the duo assumed their identities. Their plans dashed to the ground  the hapless duo must now find a way out of this mess - that is before the police catch up to them.",
         "In an attempt to woo the rich women  two prankster-loving men becomes prime suspects of a murder of a woman.",
         null,
         "Sharman Joshi|Sahil Khan|Riya Sen|Shilpi Sharma|Tara Deshpande|",
         null,
         "28 December 2001 (India)"
        ],
        [
         "1616",
         "Rehnaa Hai Terre Dil Mein",
         "tt0299108",
         "https://upload.wikimedia.org/wikipedia/en/thumb/b/b3/RHTDM.jpg/220px-RHTDM.jpg",
         "https://en.wikipedia.org/wiki/Rehnaa_Hai_Terre_Dil_Mein",
         "Rehnaa Hai Terre Dil Mein",
         "Rehnaa Hai Terre Dil Mein",
         "0",
         "2001",
         "160",
         "Musical|Romance",
         "7.5",
         "6232",
         "Madhav (Maddy) has love at first site with Reena.He finds from her friend Shruti that she is to be married to Rajiv an NRI.Maddy with the help of his friends importers as Rajiv and woes Reena and both fall in love.When the real Rajiv arrives Reena gets a shock that Maddy was posing as his impostor.When Rajiv and Maddy comes face to face they Maddy realizes that Rajiv is his college rival and war continues.",
         "A young girl is torn between an obsessive lover and a mild-mannered suitor.",
         null,
         "Madhavan|Saif Ali Khan|Dia Mirza|Vrajesh Hirjee|Tanaaz Currim Irani|Anupam Kher|Navin Nischol|Smita Jaykar|Hemant Pandey|Kabir Sadana|Reshma Modi|Maya Alagh|",
         "2 wins & 4 nominations",
         "19 October 2001 (India)"
        ],
        [
         "1618",
         "Rahul (film)",
         "tt0277981",
         "https://upload.wikimedia.org/wikipedia/en/f/f8/Rahul_2001_film.jpg",
         "https://en.wikipedia.org/wiki/Rahul_(film)",
         "Rahul",
         "Rahul",
         "0",
         "2001",
         "151",
         "Drama",
         "5.5",
         "219",
         "Mira (Neha) comes from a very wealthy family  however  she wants to get married to Akash Sharma (Jatin Grewal)  who is not so wealthy. Against the wishes of her mother and brother  Mira gets married to Akash. The bad memories are left behind when Mira's family finally \"forgives\" them  at the birth of baby-boy  Rahul (Yash Pathak). With the family with such a acrimonious past  coming together  their marriage deteriorates  to such an extent that they have to involve the police and the courts for purposes of custody. The only obstacle coming between the couple from getting married again to different people are marred by Rahul  who is unable to accept his parents' divorce.",
         "Mira and Akash gets married despite against family wishes  but their happiness does not last long after the birth of their child Rahul.",
         null,
         "Neha|Rajeshwari Sachdev|Gulshan Grover|Nina Kulkarni|Parikshat Sahni|Mahesh Thakur|Manish Wadhwa|Tanvi Hegde|Isha Koppikar|Jatin Grewal|Yash Pathak|Meghna Tiwari|Anil Nagrath|Umaji Rane|",
         null,
         "23 March 2001 (India)"
        ],
        [
         "1619",
         "Pyaar Zindagi Hai",
         "tt0847758",
         "https://upload.wikimedia.org/wikipedia/en/5/5e/Pyaar_Zindagi_Hai_%282001%29.jpg",
         "https://en.wikipedia.org/wiki/Pyaar_Zindagi_Hai",
         "Pyaar Zindagi Hai",
         "Pyaar Zindagi Hai",
         "0",
         "2001",
         "157",
         "Drama|Romance|Thriller",
         "6.6",
         "39",
         "After the marriage of his daughter  Geeta  with army Major Pratap Singh  widower Hridaynath lives a simple middle-class existence with his unmarried daughter  Priya  in Dehra Dun. Geeta  Pratap and their new-born son  Munna  pay them a visit and live with them for a few days. They find out that Hridaynath is under constant threat from a loan shark he had borrowed money from to get Geeta married. Shortly after that Geeta and Pratap leave back home for Ranikhet  and it then that Hridaynath finds out that his loan has been repaid and that they also have a telephone now - thanks to Pratap. Quite unknown to Hridaynath  Pratap has set his eyes on Priya and wants her for himself  so much so that he is willing to kill Geeta and get re-married to Priya on the pretext that Munna needs looking after. So to get the ball rolling  he kills Geeta  informs her dad and sister that she has died of a heart attack  and convinces them to leave Dehra Dun and live with him in Ranikhet. This is where he ...",
         "After the marriage of his daughter  Geeta  with army Major Pratap Singh  widower Hridaynath lives a simple middle-class existence with his unmarried daughter  Priya  in Dehra Dun. Geeta  ...                    ",
         null,
         "Rajesh Khanna|Vikas Kalantri|Ashima Bhalla|Asawari Joshi|Upasna Singh|Mohnish Bahl|Shahbaaz Khan|",
         null,
         "7 September 2001 (India)"
        ],
        [
         "1612",
         "Pyaar Tune Kya Kiya",
         "tt0281102",
         "https://upload.wikimedia.org/wikipedia/en/thumb/3/3b/Pyaar_Tune_Kya_Kiya.jpg/220px-Pyaar_Tune_Kya_Kiya.jpg",
         "https://en.wikipedia.org/wiki/Pyaar_Tune_Kya_Kiya",
         "Pyaar Tune Kya Kiya...",
         "Pyaar Tune Kya Kiya...",
         "0",
         "2001",
         "123",
         "Romance|Thriller",
         "5.7",
         "719",
         "Ria Jaiswal lives a very wealthy lifestyle along with her mom and dad. As she is the only child in this family  her parents dot on her and give in to her every wish. As a child she saw a toy on TV and asked her dad to get it. When he told her that he was unable to do  she stopped speaking and eating - until her dad somehow managed to get the toy from America. Subsequently  Ria's mom passed away. Years later  Ria has now grown up to be a very attractive young woman. She meets with Jai  a photographer from Style Magazine  she models and is very attracted to him. She tells her dad that she wants to get married and goes to Jai's house to get him to meet her dad. When she reaches his house in Lokhandwala Complex  she finds out that he is already married to a woman named Geeta  and very much in love with her. A betrayed Ria  unable to get Jai out of her mind  obsesses over him - and decides that he and she are meant for each other - and sets about to carry her task - to force Jai to accept ...",
         "A obsessive woman determines to do what it takes to get her lover - at any cost.",
         null,
         "Fardeen Khan|",
         "8 nominations",
         "27 April 2001 (India)"
        ],
        [
         "1611",
         "Pyaar Ishq Aur Mohabbat",
         "tt0285958",
         "https://upload.wikimedia.org/wikipedia/en/thumb/a/ab/Pyaar_Ishq_Aur_Mohabbat.jpg/220px-Pyaar_Ishq_Aur_Mohabbat.jpg",
         "https://en.wikipedia.org/wiki/Pyaar_Ishq_Aur_Mohabbat",
         "Pyaar Ishq Aur Mohabbat",
         "Pyaar Ishq Aur Mohabbat",
         "0",
         "2001",
         "\\N",
         "Drama|Musical|Romance",
         "4.0",
         "528",
         "Young and beautiful Isha Nair has three admirers - Yash Sabharwal  Gaurav Saxena and Taj Bharadwaj; all of them comes from affluent backgrounds and are willing to go to any length in order to attain her love but it is up to Isha to choose her prospective life-partner.",
         "Young and beautiful Isha Nair has three admirers - Yash Sabharwal  Gaurav Saxena and Taj Bharadwaj; all of them comes from affluent backgrounds and are willing to go to any length in order ...                    ",
         null,
         "Arjun Rampal|Kirti Reddy|Sunil Shetty|Aftab Shivdasani|Monica Bedi|Isha Koppikar|Raza Murad|Harish Patel|Dalip Tahil|Smita Jaykar|Priya Tendulkar|Anjan Srivastav|Ashwani Chopra|Denzil Smith|",
         "1 win",
         "26 September 2001 (Kuwait)"
        ],
        [
         "1613",
         "Paagalpan",
         "tt0285319",
         "https://upload.wikimedia.org/wikipedia/en/thumb/9/90/Paagalpan_poster.jpg/220px-Paagalpan_poster.jpg",
         "https://en.wikipedia.org/wiki/Paagalpan",
         "Paagalpan",
         "Paagalpan",
         "0",
         "2001",
         "146",
         "Romance",
         "6.6",
         "39",
         "Young and attractive Roma Pinto is the only girl in the struggling Pinto family  consisting of five brothers  with assorted careers. They are very protective and affectionate towards her  and will not any woo her without their express permission. When Sameer Malhotra enters Roma's life  both fall in love  and decide to get married. The problem is Sameer's father is a wealthy industrialist  who will never permit his son to get married to a poor girl like Roma. And Roma's brothers do not approve of Sameer and will not permit him under any circumstances to get close to Roma  and will go to the extent of killing anyone who gets in their way.",
         "Young and attractive Roma Pinto is the only girl in the struggling Pinto family  consisting of five brothers  with assorted careers. They are very protective and affectionate towards her  ...                    ",
         null,
         "Karan Nath|Aarti Agarwal|Vilas Ujawane|Bharat Dabholkar|Joy Fernandes|Farhan Khan|Harvey Rosemeyer|Talat Rekhi|Sambhavna Sheth|Prema Kiran|Premendra Sharma|Bakul Thakker|Raj Nair|Iqbal Dosani|",
         null,
         "8 June 2001 (India)"
        ],
        [
         "1608",
         "One 2 Ka 4",
         "tt0227194",
         "https://upload.wikimedia.org/wikipedia/en/thumb/b/bb/One_2_Ka_4.jpg/220px-One_2_Ka_4.jpg",
         "https://en.wikipedia.org/wiki/One_2_Ka_4",
         "One 2 Ka 4",
         "One 2 Ka 4",
         "0",
         "2001",
         "169",
         "Action|Comedy|Crime",
         "5.4",
         "4484",
         "Javed Abbas (Jackie Shroff) is a widowed police officer with four children. His partner is Arun Verma (Shahrukh Khan). Both Javed and Arun are honest  hard-working and diligent. This leads to the \"death\" of Javed in mysterious circumstances. After Javed's death  Arun takes over the responsibility of looking after his four children. He runs into several problems and decides to seek the help of Geeta Choudhary (Juhi Chawla)  who readily agrees and moves in with him and the four children. The children take an instant liking to Geeta and things seem to settle down. One day Arun finds out that his former partner's death was really a homicide. When he attempts to investigate  charges of drug-trafficking and bribery are brought out against him. He also finds out that Geeta is not what she claims to be.",
         "When a cop's partner is killed in the line of duty  he assumed guardianship of his orphaned children while investigating the murder.",
         null,
         "Shah Rukh Khan|Juhi Chawla|Jackie Shroff|Nirmal Pandey|Dilip Joshi|",
         null,
         "30 March 2001 (India)"
        ],
        [
         "1617",
         "Officer (2001 film)",
         "tt0265452",
         null,
         "https://en.wikipedia.org/wiki/Officer_(2001_film)",
         "Officer",
         "Officer",
         "0",
         "2001",
         "\\N",
         "Action|Crime|Drama",
         "5.3",
         "97",
         "SPU unit officer Sagar Chauhan is assigned with the task of looking over Meenal Patel the mentally imbalance wife of multi-millionaire businessman Pratap Rai. When Meenal dramatizes her death; Sagar begins investigations and comes to realize that he is merely used as a poppet in the hands of some influential people who wants to divert his attention elsewhere so that they can carry on with their unlawful activities at ease.",
         "SPU unit officer Sagar Chauhan is assigned with the task of looking over Meenal Patel the mentally imbalance wife of multi-millionaire businessman Pratap Rai. When Meenal dramatizes her ...                    ",
         null,
         "Sunil Shetty|Raveena Tandon|Danny Denzongpa|",
         null,
         "14 March 2001 (Kuwait)"
        ],
        [
         "1607",
         "Nayak (2001 Hindi film)",
         "tt0291376",
         "https://upload.wikimedia.org/wikipedia/en/thumb/e/e8/Nayak_poster.jpg/220px-Nayak_poster.jpg",
         "https://en.wikipedia.org/wiki/Nayak_(2001_Hindi_film)",
         "Nayak: The Real Hero",
         "Nayak: The Real Hero",
         "0",
         "2001",
         "187",
         "Action|Drama|Thriller",
         "7.8",
         "12522",
         "Employed as a camera-man at a popular television station QTV; Shivaji Rao Gaekwad work his way up and is eventually promoted as a reporter. One of his job involve interviewing the Chief Minister Balraj Chauhan. During the course of the interview he brings to light the true facts of Chauhan to the general public. Agrivated at this Chauhan decides that he will challenge him to become the Chief Minister for a day which he accepts. During his tenure Shivaji attempts to make the wrong right by punishing dishonest people while at the same time ensure that the masses get what they aspire for. But when his life return to normal he will find that nothing is the same anymore as he and his loved ones are made targets by Chauhan's goons this pushes Shivaji to enter politics and eventually elect as the Chief Minister - a Chief Minister who wants to continue the remaining of his day's work.",
         "A man accepts a challenge by the chief minister of Maharashtra to run the state for one day  and makes such a success of it that soon he is embroiled in political intrigue.",
         "Fight the power",
         "Anil Kapoor|Rani Mukerji|Amrish Puri|Johnny Lever|Pooja Batra|Sushmita Sen|",
         "2 nominations",
         "7 September 2001 (India)"
        ],
        [
         "1604",
         "Mujhe Meri Biwi Se Bachaao",
         "tt0272735",
         "https://upload.wikimedia.org/wikipedia/en/f/f8/Meri_biwi.jpg",
         "https://en.wikipedia.org/wiki/Mujhe_Meri_Biwi_Se_Bachaao",
         "Mujhe Meri Biwi Se Bachaao",
         "Mujhe Meri Biwi Se Bachaao",
         "0",
         "2001",
         "\\N",
         "Comedy|Crime|Family",
         "4.3",
         "85",
         "Anand Mathur comes from a middle-class background  but has always dreamed of living in luxury. His dreams take form when he meets with the only daughter  Kamini  of an aging and sick multi-millionaire. Kamini who is grossly overweight  approves of him  and soon both get married. Anand assists Kamini and her dad run their vaste business and soon becomes indispensable. When Kamini's dad passes away  Anand hopes that he may have received a fair amount of money in the last will and testament. Alas  that was not to be so  for dad had left everything in Kamini's name. Anand is dismayed  but hides it. He meets with an attractive young woman  Anuradha  and decides to make her his mistress. Anuradha likes expensive gifts and presents  so Anand sets out to make arrangements for money  by hook or by crook - with hilarious results.",
         "Anand Mathur comes from a middle-class background  but has always dreamed of living in luxury. His dreams take form when he meets with the only daughter  Kamini  of an aging and sick ...                    ",
         null,
         "Rekha|Naseeruddin Shah|Arshad Warsi|Suman Ranganath|",
         null,
         "18 June 2001 (India)"
        ],
        [
         "1605",
         "Mujhe Kucch Kehna Hai",
         "tt0284328",
         "https://upload.wikimedia.org/wikipedia/en/thumb/b/ba/Mujhe_Kuch_Kehna_Hai.jpg/220px-Mujhe_Kuch_Kehna_Hai.jpg",
         "https://en.wikipedia.org/wiki/Mujhe_Kucch_Kehna_Hai",
         "Mujhe Kucch Kehna Hai",
         "Mujhe Kucch Kehna Hai",
         "0",
         "2001",
         "135",
         "Drama|Romance",
         "5.1",
         "1013",
         "Karan who is weak in his studies but good at music and masti which always results in fighting with his father  but his life changes when he sees the girl of his dreams. Everywhere he sees her he follows her but one day he goes out of town to find her but couldn't. Later his father sents him to another city but his car breaks down and takes lift and finds it's the same girl whos name is Pooja. During the drive a truck comes and hits the cars which falls in a valley but Karan and Pooja are on the cliff but after saving Pooja his hands slip and falls down. After gaining conscious Pooja realizes it was her fault that Karan died and searches for his body  but he found by a man and is taken to a hospital. He is then reunited with his family  and goes off to search for Pooja. She finds him first and they start a friendship. Later he gets close to her but finds she is going to America for studies but confesses that he loves her and she also loves him and when she comes back they will get ...",
         "Karan  a small time musician  tries to win over a girl named Pooja.",
         null,
         "Tusshar Kapoor|Kareena Kapoor|Amrish Puri|Rinke Khanna|Dalip Tahil|Himani Shivpuri|Alok Nath|Vrajesh Hirjee|",
         "1 win & 7 nominations",
         "25 May 2001 (India)"
        ],
        [
         "1614",
         "Moksha (2001 film)",
         "tt0301240",
         "https://upload.wikimedia.org/wikipedia/en/6/6e/Moksha_Salvation_2001_film_poster.jpg",
         "https://en.wikipedia.org/wiki/Moksha_(2001_film)",
         "Moksha: Salvation",
         "Moksha: Salvation",
         "0",
         "2001",
         "150",
         "Drama|Thriller",
         "6.3",
         "356",
         "Appalled at the manner lawyers treat less affluent people  Vikram Saigal decides to do something for the poor  who have a legal cause of action  but are unable to afford a lawyer. He discusses this with his girlfriend  Rithika Sanyal  and together they come up with several ideas to raise money to create an organization to help the poor get legal aid at no or reasonable cost. When this plan fails  Vikram decides to rob a bank  but Rithika does not support him  and they split up. And then Rithika is killed and the police charge Vikram with her murder  relying on considerable evidence and witnesses that will go to show that Vikram did indeed commit this crime.",
         "An idealistic lawyer wants to help the poor get justice  but lacks finance  so plans to rob a bank  alongside his love interest. His black n white emotional nature  leads to an unforgivable deed  which he severely repents.",
         null,
         "Arjun Rampal|Manisha Koirala|Kalpana Pandit|Suresh Oberoi|Kamal Chopra|Pawan Chopra|Farida Jalal|Sushma Seth|Sulabha Deshpande|Shubhangi Gokhale|Danny Denzongpa|Naseeruddin Shah|Kiran Kumar|Gulshan Grover|",
         "3 wins & 2 nominations",
         "30 November 2001 (India)"
        ],
        [
         "1603",
         "Mitti (2001 film)",
         "tt0446159",
         null,
         "https://en.wikipedia.org/wiki/Mitti_(2001_film)",
         "Mitti",
         "Mitti",
         "0",
         "2001",
         "155",
         "Action|Crime|Thriller",
         "6.0",
         "20",
         "Ganga is sexually molested  assaulted  tortured and killed by a goon employed by Pagla Jaan  a Kolkata-based notorious gangster  whose wealth  power  and influence are beyond imagination. Deva undertakes to locate the killer  succeeds in his mission and beheads him publicly. Deva does not know that soon his friends' and family's lives will be endangered  and he  himself  will be hunted down - not only by an enraged Pagla Jaan and his army of goons - but also by the Police.",
         "Ganga is sexually molested  assaulted  tortured and killed by a goon employed by Pagla Jaan  a Kolkata-based notorious gangster  whose wealth  power  and influence are beyond imagination. ...                    ",
         null,
         "Ferdous Ahmed|Sharbani Mukherji|Rani Rajkumar|Arif Zakaria|Raju Mavani|Meghna Sane|Ragini Sinha|Ravish Dobani|Mohd. Zahiruddin|Md. Ansari|Sitaram|Pravin Patel|Kiku Sharda|Ravindra Kangura|",
         null,
         "26 October 2001 (India)"
        ],
        [
         "1601",
         "Maya (2001 film)",
         "tt0299027",
         "https://upload.wikimedia.org/wikipedia/en/thumb/6/61/Maya_%28film%29.jpg/220px-Maya_%28film%29.jpg",
         "https://en.wikipedia.org/wiki/Maya_(2001_film)",
         "Maya",
         "Maya",
         "0",
         "2001",
         "105",
         "Drama",
         "7.0",
         "277",
         "For 12 year-old Maya  life is very simple in her village in rural India. From innocent pranks to small adventures in the nearby forest  she spends most of her time with her 11 year-old cousin Sanjay. However  their fraternal love will be shattered when Sanjay will fail to save her from an imaginary brutal ritual.",
         "MAYA is a coming of age story set against an 'imaginary and unrealistic' brutal practice of ritual rape which never seemed to happen in any part of India.",
         "A child's innocence shattered by unreal tradition.",
         "Anant Nag|Mita Vasisht|Nitya Shetty|Nikhil Yadav|Virendra Saxena|Mukesh Bhatt|Shilpa Navalkar|Shreechand Makhija|",
         "2 wins & 4 nominations",
         "16 January 2002 (Belgium)"
        ],
        [
         "1610",
         "Love Ke Liye Kuch Bhi Karega",
         "tt0287537",
         "https://upload.wikimedia.org/wikipedia/en/e/e0/Love_Ke_Liye_Kuch_Bhi_Karega.jpg",
         "https://en.wikipedia.org/wiki/Love_Ke_Liye_Kuchh_Bhi_Karega",
         "Love Ke Liye Kuch Bhi Karega",
         "Love Ke Liye Kuch Bhi Karega",
         "0",
         "2001",
         "131",
         "Comedy|Crime|Romance",
         "6.0",
         "1409",
         "Prakash (Saif Ali Khan) is a handsome gold digger who thinks he has made it when he woos and subsequently marries Sapna (Sonali Bendre)   only daughter of a rich businessman Mr. Chopra (Dalip Tahil) . However his euphoria is short-lived when he learns that his father-in-law disapproves of him immensely and won't let him make his mark in the business . Finally   Prakash asks Mr.Chopra for some money to start a business of his own but Mr. Chopra refuses . One night   two masked men try to rob Prakash and he places a plan before the duo : they will kidnap Sapna and demand ransom from Mr. Chopra   which will be equally shared between Prakash and the two kidnappers - Rahul (Fardeen Khan) and Harry (Aftab Shivdasani) . Rahul and Harry have a little secret of their own : they are not professional criminals as they pretend to be . Rahul is an unemployed graduate   while Harry is a loafer . Rahul is in love with his landlord's daughter Anjali (Twinkle Khanna) and needs the money to convince ...",
         "Desperate for money  three men (Saif Ali Khan  Fardeen Khan) plot to kidnap a woman (Sonali Bendre) and hold her for ransom.",
         null,
         "Saif Ali Khan|Fardeen Khan|Aftab Shivdasani|Sonali Bendre|Twinkle Khanna|Johnny Lever|Dalip Tahil|Sharat Saxena|Snehal Dabi|Suresh Bhagwat|Tanikella Bharani|Shubha|Shri Vallabh Vyas|Haidar Ali|",
         "1 win",
         "29 June 2001 (UK)"
        ],
        [
         "1574",
         "Lajja (2001 film)",
         "tt0293342",
         "https://upload.wikimedia.org/wikipedia/en/thumb/4/40/Lajja_poster.jpg/220px-Lajja_poster.jpg",
         "https://en.wikipedia.org/wiki/Lajja_(2001_film)",
         "Lajja",
         "Lajja",
         "0",
         "2001",
         "202",
         "Crime|Drama",
         "6.7",
         "2357",
         "Vaidehi (Manisha Koirala) gets married to Raghuvir (Jackie Shroff)  an NRI. Suffering the agony of an unhappy marriage  she decides to run away from him when she learns that she is pregnant and he wants to take the child away from her. In her pursuit for freedom  she meets Mythili (Mahima Chaudhury) a bride-to-be  Janaki (Madhuri Dixit) a theatre artist and Ramdulari (Rekha) a village midwife - all of whom are victims of male chauvinism. They however refuse to be put down and fight for their rights.",
         "The lives of four women from different places are the victims of male chauvinism and marital abuse. They decide to fight for their rights and dignity against the social norms and injustice.",
         "When Tears Stop... A Revolution Begins",
         "Manisha Koirala|Jackie Shroff|Madhuri Dixit|Ajay Devgn|Rekha|Anil Kapoor|Mahima Chaudhry|Danny Denzongpa|Suresh Oberoi|Gulshan Grover|Tinnu Anand|Sharman Joshi|Govind Namdeo|Anjan Srivastav|",
         "1 win & 13 nominations",
         "19 September 2001 (Kuwait)"
        ],
        [
         "1567",
         "Lagaan",
         "tt0169102",
         "https://upload.wikimedia.org/wikipedia/en/thumb/b/b6/Lagaan.jpg/220px-Lagaan.jpg",
         "https://en.wikipedia.org/wiki/Lagaan",
         "Lagaan: Once Upon a Time in India",
         "Lagaan: Once Upon a Time in India",
         "0",
         "2001",
         "224",
         "Adventure|Drama|Musical",
         "8.1",
         "95686",
         "This is the story about the resilience shown by the Indians when they were under the British Rule. They are already taxed to the bone by the British and their cronies  but when Jack Russell announces that he will double the Lagaan (tax) from all villagers  they decide to oppose it. Leading the villagers is a handsome young man named Bhuvan  who challenges them to a game of cricket  a game that is to be played by veteran British cricket players  versus villagers  including Bhuvan himself  who have never played this game before  and do not even know a bat from a piece of wood. As the challenge is accepted  the interest grows and attracts Indians from all over the region  as well as the British from all over the country - as everyone gathers to see the 'fair play' that the British will display against their counter-parts  who are aided by none other than the sister  Elizabeth  of Captain Rusell.",
         "The people of a small village in Victorian India stake their future on a game of cricket against their ruthless British rulers.",
         "Once upon a time in India",
         "Aamir Khan|Gracy Singh|Rachel Shelley|Paul Blackthorne|Suhasini Mulay|Kulbhushan Kharbanda|Raghuvir Yadav|Rajendra Gupta|Rajesh Vivek|Shri Vallabh Vyas|Javed Khan|Raj Zutshi|Akhilendra Mishra|Daya Shankar Pandey|",
         "Nominated for 1 Oscar",
         "15 June 2001 (USA)"
        ],
        [
         "1568",
         "Lagaan",
         "tt0169102",
         "https://upload.wikimedia.org/wikipedia/en/thumb/b/b6/Lagaan.jpg/220px-Lagaan.jpg",
         "https://en.wikipedia.org/wiki/Lagaan:_Once_Upon_a_Time_in_India",
         "Lagaan: Once Upon a Time in India",
         "Lagaan: Once Upon a Time in India",
         "0",
         "2001",
         "224",
         "Adventure|Drama|Musical",
         "8.1",
         "95686",
         "This is the story about the resilience shown by the Indians when they were under the British Rule. They are already taxed to the bone by the British and their cronies  but when Jack Russell announces that he will double the Lagaan (tax) from all villagers  they decide to oppose it. Leading the villagers is a handsome young man named Bhuvan  who challenges them to a game of cricket  a game that is to be played by veteran British cricket players  versus villagers  including Bhuvan himself  who have never played this game before  and do not even know a bat from a piece of wood. As the challenge is accepted  the interest grows and attracts Indians from all over the region  as well as the British from all over the country - as everyone gathers to see the 'fair play' that the British will display against their counter-parts  who are aided by none other than the sister  Elizabeth  of Captain Rusell.",
         "The people of a small village in Victorian India stake their future on a game of cricket against their ruthless British rulers.",
         "Once upon a time in India",
         "Aamir Khan|Gracy Singh|Rachel Shelley|Paul Blackthorne|Suhasini Mulay|Kulbhushan Kharbanda|Raghuvir Yadav|Rajendra Gupta|Rajesh Vivek|Shri Vallabh Vyas|Javed Khan|Raj Zutshi|Akhilendra Mishra|Daya Shankar Pandey|",
         "Nominated for 1 Oscar",
         "15 June 2001 (USA)"
        ],
        [
         "1609",
         "Kyo Kii... Main Jhuth Nahin Bolta",
         "tt0297241",
         "https://upload.wikimedia.org/wikipedia/en/thumb/5/5d/Kyo_Kii..._Main_Jhuth_Nahin_Bolta.jpg/220px-Kyo_Kii..._Main_Jhuth_Nahin_Bolta.jpg",
         "https://en.wikipedia.org/wiki/Kyo_Kii_Main_Jhuth_Nahin_Bolta",
         "Because I Don't Lie",
         "Kyo Kii... Main Jhuth Nahin Bolta",
         "0",
         "2001",
         "131",
         "Comedy|Fantasy",
         "5.3",
         "1696",
         "Inspired from the movie \"Liar Liar\"  this movie is about a lawyer (Govinda) who lies his way through marriage and career. His wife (Sushmita Sen) falls in love with him because of his honesty and when she finds out of his dishonesty she threatens to divorce him. Their son  to avoid the divorce  wishes on a shooting star that his father should lose the ability to lie. What happens after that is an enjoyable journey.",
         "Inspired from the movie \"Liar Liar\"  this movie is about a lawyer (Govinda) who lies his way through marriage and career. His wife (Sushmita Sen) falls in love with him because of his ...                    ",
         null,
         "Govinda|Sushmita Sen|Rambha|Anupam Kher|Satish Kaushik|Sharad S. Kapoor|Kiran Kumar|Mohnish Bahl|Ashish Vidyarthi|Shahbaaz Khan|Razak Khan|Jibraan Khan|Ananth Narayan Mahadevan|Jaya Bhattacharya|",
         "1 nomination",
         "21 September 2001 (India)"
        ],
        [
         "1599",
         "Kuch Khatti Kuch Meethi",
         "tt0271604",
         "https://upload.wikimedia.org/wikipedia/en/thumb/5/58/Kuch_Khatti_Kuch_Meethi.jpg/220px-Kuch_Khatti_Kuch_Meethi.jpg",
         "https://en.wikipedia.org/wiki/Kuch_Khatti_Kuch_Meethi",
         "Kuch Khatti Kuch Meethi",
         "Kuch Khatti Kuch Meethi",
         "0",
         "2001",
         "120",
         "Comedy|Drama|Family",
         "4.6",
         "574",
         "Here is another Indian that also closely resembles another Hollywood movie. This story revolves around the lives of two look-alike sisters  who are brought up separately by their estranged parents  who had separated due to a misunderstandings when the girls were little. The twins meet  find out about their backgrounds  and decide to switch places. One goes to live with the mother  while the second goes to live with the father. After doing so  they find out that their parents are still in love with each other  and they decide to bring them together and live as one big family. But the father  who believes that his wife was having an affair with another man; while the mother believes that she cannot return as she has been wronged by her husband and his sister. Will the twins succeed?",
         "Here is another Indian that also closely resembles another Hollywood movie. This story revolves around the lives of two look-alike sisters  who are brought up separately by their estranged ...                    ",
         null,
         "Kajol|Rishi Kapoor|Rati Agnihotri|Sunil Shetty|Mita Vasisht|Pramod Moutho|Pooja Batra|Mayur Verma|Dinesh Anand|",
         null,
         "19 January 2001 (India)"
        ],
        [
         "1600",
         "Kasoor",
         "tt0272688",
         "https://upload.wikimedia.org/wikipedia/en/thumb/b/b9/Kasoor_2001.Jpg/220px-Kasoor_2001.Jpg",
         "https://en.wikipedia.org/wiki/Kasoor",
         "Kasoor",
         "Kasoor",
         "0",
         "2001",
         "151",
         "Drama|Mystery|Thriller",
         "6.0",
         "801",
         "Shekar Saxena is arrested and charged with the murder of his wife  Priti Saxena. Shekar strongly contends that he is innocent  and that the murder was committed by someone else. His lawyer  Simran Bhargav  is sympathetic and not only believes him but also successfully defends and gets him acquitted. After his acquittal  she starts having doubts about his innocence  and must protect herself  before she becomes his next victim.",
         "Shekhar appoints Simran  a lawyer with an impeccable record  to represent him as he was accused of murdering his wife and soon she starts falling in love with him. Little she knows that Shekhar has some darker intentions.",
         "A dangerous passion...",
         "Divya Dutta|Sucheta Paushe|Lisa Ray|Apoorva Agnihotri|Aftab Shivdasani|Irrfan Khan|Vishwajeet Pradhan|Ashutosh Rana|Prithvi Zutshi|Chittaranjan Giri|Firdosh Mewawala|Anupam Shyam|Murali|Sushmita Daan|",
         "2 nominations",
         "2 February 2001 (India)"
        ],
        [
         "1598",
         "Kasam (2001 film)",
         "tt0317811",
         null,
         "https://en.wikipedia.org/wiki/Kasam_(2001_film)",
         "Kasam",
         "Kasam",
         "0",
         "2001",
         "\\N",
         "Action|Drama",
         "4.4",
         "92",
         "In aid of seeking revenge for his dad's death  against a bandit called Kala Daku  Shankar team up with two men  a police inspector  Mangal and a run away convict  Vijay. Shankar makes his living by driving a truck while Vijay and Mangal masquerade as villagers to surface as saviors to protect the village against Kala's gang. And then Kala and his men abduct Vijay; now Mangal and the entire police force will have to negotiate with Kala to let Vijay off in exchange for the landlord's son.",
         "In aid of seeking revenge for his dad's death  against a bandit called Kala Daku  Shankar team up with two men  a police inspector  Mangal and a run away convict  Vijay. Shankar makes his ...                    ",
         null,
         "Naseeruddin Shah|Sunny Deol|Chunky Pandey|Neelam Kothari|Sonu Walia|Sharat Saxena|Hemant Birje|Ahmed Sharif|Ranjeet|Sadashiv Amrapurkar|Parikshat Sahni|Anjana Mumtaz|Tej Sapru|Ram Mohan|",
         null,
         null
        ],
        [
         "1565",
         "Kabhi Khushi Kabhie Gham...",
         "tt0248126",
         "https://upload.wikimedia.org/wikipedia/en/thumb/0/0d/KabhiKhushiKabhiGham_Poster.jpg/220px-KabhiKhushiKabhiGham_Poster.jpg",
         "https://en.wikipedia.org/wiki/Kabhi_Khushi_Kabhie_Gham...",
         "Kabhi Khushi Kabhie Gham...",
         "Kabhi Khushi Kabhie Gham...",
         "0",
         "2001",
         "210",
         "Drama|Musical|Romance",
         "7.4",
         "41143",
         "Yashvardhan Raichand lives a very wealthy lifestyle along with his wife  Nandini  and two sons  Rahul and Rohan. While Rahul has been adopted  Yashvardhan and Nandini treat him as their own. When their sons mature  they start to look for suitable brides for Rahul  and decide to get him married to a young woman named Naina. When Rahul is told about this  he tells them that he loves another woman by the name of Anjali Sharma. Yashvardhan decides to meet with the Sharma family  and finds out that they are middle-classed  unsophisticated  and will not be able to it into his family circle  as a result he refuses to permit Rahul to marry Anjali. A defiant Rahul decides to leave  gets married to Anjali  without his foster parents blessings  and re-locates to London  England  where Anjali's unmarried sister  Pooja  also lives. Rohan  who was studying in a hostel  returns home to find that Rahul is no longer living with them  and he also discovers that while outwardly his dad is not interested...",
         "After marrying a poor woman  rich Rahul is disowned by his father and moves to London to build a new life. Years later  his now grown up little brother Rohan embarks on a mission to bring Rahul back home and reunite the family again.",
         "Any weak man can say he's sorry. It takes a strong heart to forgive.",
         "Amitabh Bachchan|Jaya Bachchan|Shah Rukh Khan|Kajol|Hrithik Roshan|Kareena Kapoor|Farida Jalal|Jibraan Khan|Rani Mukerji|Alok Nath|Johnny Lever|Achala Sachdev|Himani Shivpuri|Aryan Khan|",
         "24 wins & 43 nominations",
         "14 December 2001 (USA)"
        ],
        [
         "1596",
         "Jodi No.1",
         "tt0278522",
         "https://upload.wikimedia.org/wikipedia/en/thumb/9/9e/JodiNo.1.jpg/220px-JodiNo.1.jpg",
         "https://en.wikipedia.org/wiki/Jodi_No.1",
         "Jodi No.1",
         "Jodi No.1",
         "0",
         "2001",
         "140",
         "Comedy|Romance",
         "5.8",
         "1988",
         "Rai Bahadur lives a wealthy lifestyle in Panjim  Goa  along with three brothers  Raman  Kamal  and Ashok along with their respective wives and children. He also has a sister  Shanno  and a daughter  Rinki  who is of marriageable age. Since his business is not doing too well  he asks his US-based friend  Ranjit  for assistance. In response  Ranjit sends his son  Vikramjit  to assist Rai. Vikramjit arrives at the Rai household along with his Secretary and close friend  Veeru  and soon both get involved in assisting the Rai business get back on it's feet. What Rai does not know is that Vikramjit & Veeru are not who they claim to be  but are actually Jai and Veeru  wanted by the Bombay Police and are on India's Most Wanted Criminals. Watch what happens when their photos are telecast on National TV  and the impact this has on the entire Rai clan.",
         "Rai Bahadur lives a wealthy lifestyle in Panjim  Goa  along with three brothers  Raman  Kamal  and Ashok along with their respective wives and children. He also has a sister  Shanno  and a ...                    ",
         null,
         "Sanjay Dutt|Govinda|Twinkle Khanna|Monica Bedi|Anupam Kher|Ashish Vidyarthi|Mukesh Rishi|Sayaji Shinde|Shakti Kapoor|Hans Raj Hans|Supriya Karnik|Pooja Batra|Rajat Bedi|Aashif Sheikh|",
         "1 win & 1 nomination",
         "13 April 2001 (India)"
        ],
        [
         "1602",
         "Ittefaq (2001 film)",
         "tt0297983",
         null,
         "https://en.wikipedia.org/wiki/Ittefaq_(2001_film)",
         "Ittefaq",
         "Ittefaq",
         "0",
         "2001",
         "138",
         "Action|Comedy|Drama",
         "4.6",
         "67",
         "Shiva (Sunil Shetty) is a professional hit man. Shiva accepts a contract from Jindal (Mohan Joshi) to kill Vikram (Mukul Dev). Circumstances force Shiva to come to know Mukul first  and instead of killing him  he becomes his bodyguard and protects him against Jindal and his men. Soon Shiva  Mukul  and Mukul's girlfriend Roshni Hiranandani (Pooja Batra) are on the run from Jindal's men. Jindal makes it clear that he will not rest until he sees the dead bodies of all the three. How long will they survive Jindal? Did Shiva really change his mind or is this his strategy to bring Mukul alive to Jindal?",
         "Shiva (Sunil Shetty) is a professional hit man. Shiva accepts a contract from Jindal (Mohan Joshi) to kill Vikram (Mukul Dev). Circumstances force Shiva to come to know Mukul first  and ...                    ",
         null,
         "Sunil Shetty|Mukul Dev|Pooja Batra|Anupama Verma|Tiku Talsania|Shakti Kapoor|Puneet Issar|Mushtaq Khan|Shiva Rindani|Shehzad Khan|Ishrat Ali|Ashok Saraf|Arun Bakshi|Mohan Joshi|",
         null,
         "14 September 2001 (India)"
        ],
        [
         "1570",
         "Indian (2001 film)",
         "tt0300028",
         "https://upload.wikimedia.org/wikipedia/en/a/a5/Indian_%282001%29.jpg",
         "https://en.wikipedia.org/wiki/Indian_(2001_film)",
         "Indian",
         "Indian",
         "0",
         "2001",
         "178",
         "Action|Crime|Drama",
         "5.3",
         "1991",
         "A brave Indian policeman named Raj beats up and then arrests a Muslim terrorist by the name of Khan. This gets him promoted  and he is congratulated by none other than his father-in-law  who is also a very high ranking policeman. Then all of a sudden  Raj finds out that many policemen would like to see Khan go free. He discusses this issue with his father-in-law  and to his surprise  does not find any support from him. Disagreements and arguments ensue  and as a result  his father-in-law gets killed. The Police suspect Raj of killing him  they begin the process of arresting him  he runs away  while Khan is all set to get freed to do whatever he likes.",
         "A brave Indian policeman named Raj beats up and then arrests a Muslim terrorist by the name of Khan. This gets him promoted  and he is congratulated by none other than his father-in-law  ...                    ",
         null,
         "Sunny Deol|Shilpa Shetty Kundra|Raj Babbar|Danny Denzongpa|Rajat Bedi|Rahul Dev|Sanjay Narvekar|Om Puri|Pramod Moutho|Mukesh Rishi|Reema Lagoo|",
         null,
         "26 October 2001 (India)"
        ],
        [
         "1597",
         "Hum Ho Gaye Aapke",
         "tt0292552",
         "https://upload.wikimedia.org/wikipedia/en/thumb/0/0d/Hum_Ho_Gaye_Aapke_poster2.jpg/220px-Hum_Ho_Gaye_Aapke_poster2.jpg",
         "https://en.wikipedia.org/wiki/Hum_Ho_Gaye_Aapke",
         "Hum Ho Gaye Aap Ke",
         "Hum Ho Gaye Aap Ke",
         "0",
         "2001",
         "168",
         "Drama|Musical|Romance",
         "4.1",
         "362",
         "Wealthy and spoil Rishi Oberoi lives in a spacious bungalow and is the only child in the Oberoi family. He often indulges himself with alcohol and women only to one day come across a young woman named Chandni Gupta who is fascinated by him but Chandni will have nothing to do with him due to his lifestyle and is instead attracted to Mohan Sachdev; who is employed as a typist in Rishi's business empire. Unfortunately Chandni is unable to marry Mohan because of financial crises between both parties respective families resulting in Chandni taking up resident with Rishi. Slowly by slowly Rishi and Chandni makes the necessary adjustments to their lives resulting in both falling in love which is met with terrible shortcoming when Rishi's dad object to the couple's marriage.",
         "A playboy mends his reckless ways and learns the meaning of true love  in his efforts to win his ladylove.",
         "Love Speaks the Language known to the heart",
         "Fardeen Khan|Reema Sen|Apoorva Agnihotri|Suman Ranganath|Sadashiv Amrapurkar|Suresh Oberoi|Mahesh Thakur|Ananth Narayan Mahadevan|Shammi|Achyut Potdar|Suhas Joshi|Kinjal Joshi|Nina Kulkarni|Meghna|",
         null,
         "3 August 2001 (India)"
        ],
        [
         "1606",
         "Hadh: Life on the Edge of Death",
         "tt0396044",
         null,
         "https://en.wikipedia.org/wiki/Hadh:_Life_on_the_Edge_of_Death",
         "Hadh: Life on the Edge of Death",
         "Hadh: Life on the Edge of Death",
         "0",
         "2001",
         "\\N",
         "Action|Crime|Drama",
         "4.5",
         "11",
         "Abandoned by his biological mother  nicknamed Harami  he comes in contact with Hajibaba  who offers to take care of him and gives him the respectable name of Vishwa. Hajibaba runs an impromptu orphanage  amongst his children are Dalal  Dalal's brother Chotey  and Shiva. When these young men grow up they are friends  however  since Hajibaba openly favors Vishwa over the others  this angers Dalal and his brother. Dalal kills Hajibaba and frames Vishwa  who is arrested  tried in court  found guilty and sentenced to five years in prison. He comes out of prison an embittered man  out to avenge the death of Hajibaba and his prison term. He will go to any lengths  and will not hesitate to sacrifice everything and everyone - including his wife  Shiva  as well his very own child.",
         "Abandoned by his biological mother  nicknamed Harami  he comes in contact with Hajibaba  who offers to take care of him and gives him the respectable name of Vishwa. Hajibaba runs an ...                    ",
         null,
         "Somesh Agarwal|Shama Deshpande|Vikram Gokhale|Ayesha Jhulka|Sharad S. Kapoor|Kiran Kumar|Suman Ranganath|Tej Sapru|",
         null,
         null
        ],
        [
         "1594",
         "Grahan",
         "tt0275381",
         "https://upload.wikimedia.org/wikipedia/en/thumb/3/38/Grahan.jpg/220px-Grahan.jpg",
         "https://en.wikipedia.org/wiki/Grahan",
         "Grahan",
         "Grahan",
         "0",
         "2001",
         "110",
         "Crime|Drama",
         "5.1",
         "73",
         "Widowed Chief Minister Jagdish Acharya lives a wealthy lifestyle along with his daughter  Sunita and son  Sanjay. One day he gets a phone call from the Police Commissioner  informing him that a woman has filed a F.I.R. (First Information Report) of Rape against Sanjay. A shocked Jagdish  instructs the Police Commissioner to proceed according to law. Thereafter  while touring Jagdish has a heart attack and dies. Sunita is asked to be the new Chief Minister  which she accepts. After the funeral  the Police arrest Sanjay  hold him in a cell  and he is tried in Court. Sunita's boyfriend  Advocate Jaggan Sinha  whose brother  Raghu  is also a lawyer  represents Sanjay  examines the documentation  examines the witnesses as well as the complainant herself  and proves it before the Judge that the complaint was politically motivated by Journalist Vidyarthi  as the complainant  Parvati Shastri  did not exhibit any signs of rape nor was there any proof of her involvement with Sanjay  the Judge ...",
         "Widowed Chief Minister Jagdish Acharya lives a wealthy lifestyle along with his daughter  Sunita and son  Sanjay. One day he gets a phone call from the Police Commissioner  informing him ...                    ",
         null,
         "Jackie Shroff|Manisha Koirala|Anupama Verma|Prasad Purandhare|Raghuvaran|Raj Zutshi|",
         null,
         "16 February 2001 (India)"
        ],
        [
         "1569",
         "Gadar: Ek Prem Katha",
         "tt0284137",
         "https://upload.wikimedia.org/wikipedia/en/thumb/e/e5/Gadar_-_Ek_Prem_Katha_%28movie_poster%29.jpg/220px-Gadar_-_Ek_Prem_Katha_%28movie_poster%29.jpg",
         "https://en.wikipedia.org/wiki/Gadar:_Ek_Prem_Katha",
         "Gadar: Ek Prem Katha",
         "Gadar: Ek Prem Katha",
         "0",
         "2001",
         "170",
         "Action|Drama|Romance",
         "7.2",
         "9372",
         "Amongst the communal riots that erupt in the city  Tara shelters a wayward Sakina from a crazed mob and a bond that blossoms into love is created. The two eventually get married and have a son. The happy family  now living in Amritsar  gets the shock of their lives when Sakina learns that her father (Amrish Puri)  whom she previously believed died in the riots back in Amritsar  is still alive after seeing his picture in a tattered  old newspaper. Upon contacting him  Sakina's father  now the mayor of Lahore in Pakistan  arranges for his daughter to arrive in Lahore to see him. Sakina leaves for Lahore minus Tara and her son  and upon reaching the city  learns of her father's plans for her - plans that include forcing Sakina to forget about her family and start life anew in Pakistan. Then begins an extraordinary journey which will lead Tara to cross the border into Pakistan to find his love Sakina.",
         "Set during the Partition of India in 1947  a Sikh truck driver falls in love with a Muslim girl belonging to an aristocratic family.",
         "A saga of love during the Indo-Pak partition.",
         "Sunny Deol|Ameesha Patel|Amrish Puri|Lillete Dubey|Vivek Shauq|Utkarsh Sharma|Suresh Oberoi|Madhumalti Kapoor|Tony Mirrcandani|Mushtaq Khan|Samar Jai Singh|Pramod Moutho|Kanika Shivpuri|Malvika Shivpuri|",
         "7 wins & 33 nominations",
         "15 June 2001 (India)"
        ],
        [
         "1593",
         "Farz (2001 film)",
         "tt0272607",
         "https://upload.wikimedia.org/wikipedia/en/thumb/5/5e/Farz_2001.jpg/220px-Farz_2001.jpg",
         "https://en.wikipedia.org/wiki/Farz_(2001_film)",
         "Farz",
         "Farz",
         "0",
         "2001",
         "\\N",
         "Action|Thriller",
         "4.3",
         "380",
         "ACP Arjun Singh and his brother-in-law  Tayaji are with the police force but when Tayaji is killed on duty Arjun's family are devastated by his death. His wife Rukmani  daughter Kajal and son Rahul are shattered by his death and soon Arjun is fearful that the same person that killed his brother-in-law will come after him or his family. His new partner  Karan Singh is quite controversial in his methods of getting justice and can at time break the rules. Arjun is also angered about the fact that his daughter has developed a crush for Karan. Soon the city is being terrorized by Gawa Firozi and his brother Sikander. The two officers have to work together to capture and stop them.",
         "ACP Arjun Singh and his brother-in-law  Tayaji are with the police force but when Tayaji is killed on duty Arjun's family are devastated by his death. His wife Rukmani  daughter Kajal and ...                    ",
         null,
         "Sunny Deol|Preity Zinta|Jackie Shroff|Om Puri|Pooja Batra|Farida Jalal|Johnny Lever|",
         null,
         "12 January 2001 (India)"
        ],
        [
         "1584",
         "Ek Rishtaa: The Bond of Love",
         "tt0284083",
         "https://upload.wikimedia.org/wikipedia/en/thumb/8/84/Ek_Rishtaa_poster.jpg/220px-Ek_Rishtaa_poster.jpg",
         "https://en.wikipedia.org/wiki/Ek_Rishtaa:_The_Bond_of_Love",
         "Bond of Love",
         "Ek Rishtaa: The Bond of Love",
         "0",
         "2001",
         "174",
         "Drama|Family",
         "5.0",
         "1418",
         "Multi-millionaire Vijay Kapoor own and manages his factory which prospers yielding profits to provide a source of income for his family. After completing his studies abroad; Vijay's only son  Ajay join his dad's business. Upon the entry of Rajesh who proposes marriage to Vijay's daughter Priti things started to go hay wild for the family. Unknown to them that Rajesh have a motive to split their happy family apart and at the same time embezzle the estate and property.",
         "Vijay Kapoor  a wealthy businessman and his family are deceived by Rajesh  Vijay Kapoor's employee and son in law. A struggle begins by both father-son duos to regain their business and position.",
         "In times of happiness| they turned their backs to each other ... In testing times| they came back ....",
         "Amitabh Bachchan|Rakhee Gulzar|Akshay Kumar|Karisma Kapoor|Mohnish Bahl|Juhi Chawla|Simone Singh|Ashish Vidyarthi|Alok Nath|Anang Desai|Kanika Kohli|Kunickaa Sadanand|Mayur Verma|Avtar Gill|",
         null,
         "18 May 2001 (India)"
        ],
        [
         "1592",
         "Ehsaas: The Feeling",
         "tt0302524",
         null,
         "https://en.wikipedia.org/wiki/Ehsaas:_The_Feeling",
         "Ehsaas: The Feeling",
         "Ehsaas: The Feeling",
         "0",
         "2001",
         "116",
         "Drama",
         "5.6",
         "81",
         "Ravi Naik lives a middle class life with his son Rohan in the country of India. He brings up his son in a very strict  quiet and disciplined atmosphere  so much so that his son starts to resent him and his mannerism. All Ravi wants is to get Rohan excel as an athlete and win the forthcoming athletics event. But Rohan went through a series of operation which leads him to injury sustain about his body but Ravi is still re-vent on Rohan to win the race and so night and day he got him in to practice. His immediate neighbors  Antra Pandit and her mom too are critical of the way Ravi handles his son  and suggest that he adapt a more lenient view. But Ravi ignores this advise and assure to anyone interfering that the end result of his art of teaching will be good.",
         "Ravi Naik lives a middle class life with his son Rohan in the country of India. He brings up his son in a very strict  quiet and disciplined atmosphere  so much so that his son starts to ...                    ",
         null,
         "Anand Raj Anand|Sunidhi Chauhan|Nagesh Haldankar|Shakti Kapoor|Kiron Kher|Mahesh Manjrekar|Kishore Nandlaskar|Sanjay Narvekar|Neha|Shivaji Satam|Rakhi Sawant|Bhaskar Shetty|Sunil Shetty|Mayank Tandon|",
         null,
         "30 November 2001 (India)"
        ],
        [
         "1591",
         "Dil Ne Phir Yaad Kiya (2001 film)",
         "tt0273535",
         "https://upload.wikimedia.org/wikipedia/en/thumb/3/30/Dil_Ne_Phir_Yaad_Kiya_-_2001_Movie_Poster.jpg/220px-Dil_Ne_Phir_Yaad_Kiya_-_2001_Movie_Poster.jpg",
         "https://en.wikipedia.org/wiki/Dil_Ne_Phir_Yaad_Kiya_(2001_film)",
         "Dil Ne Phir Yaad Kiya",
         "Dil Ne Phir Yaad Kiya",
         "0",
         "2001",
         "\\N",
         "Drama|Musical|Romance",
         "4.1",
         "92",
         "Rahul Khanna (Vinay Anand) and Sonia Chopra (Pooja Batra) are in love  they seek the blessings of their elders  Mahendra Pratap Khanna (Kiran Kumar)  Mr. Chopra (Sadashiv Amrapurkar) and Mrs. Chopra (Kunika)  and get married. During their honeymoon  Sonia  who is very ambitious  tells Rahul that he should start his own business  away from his father  and stand on his own feet. Rahul does so  and starts a modelling agency. His immediate rival is Sanjeev Verma (Faraaz Khan)  who is very successful. In order to compete with him  Rahul must sign up leading model  Roshni Batra. In order to do so  he meets with Roshni. Roshni  who has lost her lover  Prem (Govinda)  accepts Rahul as Prem who has been returned to her  and agrees to work with his agency. Then Roshni starts behaving like Rahul is really Prem  and she will not let anyone come between her and her lost love.",
         "Rahul Khanna (Vinay Anand) and Sonia Chopra (Pooja Batra) are in love  they seek the blessings of their elders  Mahendra Pratap Khanna (Kiran Kumar)  Mr. Chopra (Sadashiv Amrapurkar) and ...                    ",
         null,
         "Govinda|Tabu|Faraaz Khan|Pooja Batra|Vinay Anand|Sadashiv Amrapurkar|Kiran Kumar|",
         null,
         null
        ],
        [
         "1571",
         "Dil Chahta Hai",
         "tt0292490",
         "https://upload.wikimedia.org/wikipedia/en/thumb/d/db/Dil_Chahta_Hai.jpg/220px-Dil_Chahta_Hai.jpg",
         "https://en.wikipedia.org/wiki/Dil_Chahta_Hai",
         "Dil Chahta Hai",
         "Dil Chahta Hai",
         "0",
         "2001",
         "183",
         "Comedy|Drama|Romance",
         "8.1",
         "62313",
         "Three young men Akash  Sameer  and Siddharth are close friends  but their tastes and characters are completely incompatible. So when Siddharth falls in love with a much older woman  Tara  a woman who has been unsuccessful in keeping her marriage intact as well as alcohol-dependent  widens the rift between the trio  forcing them to part company. Years later  the trio will be re-united  they will be much mature and understanding  but will they still accept Siddharth love for Tara  especially when they themselves have fallen in love with women around their respective ages?",
         "Three inseparable childhood friends are just out of college. Nothing comes between them - until they each fall in love  and their wildly different approaches to relationships creates tension.",
         "Welcome to a summer of their lives you will never forget.",
         "Aamir Khan|Saif Ali Khan|Akshaye Khanna|Preity Zinta|Sonali Kulkarni|Dimple Kapadia|Ayub Khan|Rajat Kapoor|Suhasini Mulay|Ahmed Khan|Suchitra Pillai|Anjula Bedi|Rakesh Pandey|Samantha Tremayne|",
         "22 wins & 37 nominations",
         "10 August 2001 (India)"
        ],
        [
         "1590",
         "Deewaanapan",
         "tt0301179",
         "https://upload.wikimedia.org/wikipedia/en/thumb/0/0d/Deewaanapan_poster.jpg/220px-Deewaanapan_poster.jpg",
         "https://en.wikipedia.org/wiki/Deewaanapan",
         "Deewaanapan",
         "Deewaanapan",
         "0",
         "2001",
         "153",
         "Action|Romance",
         "4.6",
         "378",
         "Suraj Saxena (Arjun Rampal) lives in a remote hill station in India with his dad (Om Puri)  mom (Smita Jaykar)  and sister  Asha (Amita Nangia). One day he meets with Kiran Choudhary (Diya Mirza)  who has come on holiday trip with a group of girls. He offers to show her around and they fall in love with each other. Suraj is unable to see her home by the train as his dad has chest pains and has to be rushed to hospital. But Suraj is unable to get Kiran out of his mind and heart. After his sister get's married  the family decide to relocate to Bombay  where Suraj enlists in College and makes several new friends  as well as becomes a popular football player. He eventually meets Kiran and both renew their romance. Ranvir Choudhary (Vinod Khanna) does not appreciate the attentions of a poor man like Suraj on his daughter  and has Suraj brought up before him and introduced to his many friends  which include prominent lawyers  politicians  high ranking civil and municipal employees  the ...",
         "A rebel crosses swords with an influential rich man after falling in love with his daughter. However the girl's father is hell bent to break their relation at any cost.",
         null,
         "Arjun Rampal|Dia Mirza|Vinod Khanna|Om Puri|Smita Jaykar|",
         "1 win & 2 nominations",
         "16 November 2001 (India)"
        ],
        [
         "1595",
         "Dattak",
         "tt0284999",
         null,
         "https://en.wikipedia.org/wiki/Dattak",
         "Dattak",
         "Dattak",
         "0",
         "2001",
         "125",
         "Drama",
         "7.5",
         "54",
         "Sunil is an NRI married to an American girl. His father lives in Kolkata with an old servant Shambhu. When Sunil returns home after fifteen years he sees the house is locked and his father has disappeared. Guilt-ridden Sunil starts looking for him. He comes to know that his father might be in an old age home. He reaches there only to find that he had died a few months earlier. Sunil meets Satya Babu  his father's fellow inmate  who tells him all about his father's last days. Sunil tells the old man that he wants to adopt him as his father and requests him to come to US with him.",
         "Sunil is an NRI married to an American girl. His father lives in Kolkata with an old servant Shambhu. When Sunil returns home after fifteen years he sees the house is locked and his father ...                    ",
         null,
         "Rajit Kapoor|Anjan Srivastav|A.K. Hangal|Kruttika Desai|Punya Darshan Gupta|Ashok Mehra|Sheela Mishra|Satya Bandopadhyay|Kalyan Chatterjee|Manoj Mitra|Prem Prakash Modi|Bakul Ghosh|Vinayak Rao Joshi|Manjula Sinha|",
         "1 nomination",
         null
        ],
        [
         "1588",
         "Daman (film)",
         "tt0273164",
         "https://upload.wikimedia.org/wikipedia/en/thumb/7/7a/DamanRaveena.jpg/220px-DamanRaveena.jpg",
         "https://en.wikipedia.org/wiki/Daman_(film)",
         "Daman: A Victim of Marital Violence",
         "Daman: A Victim of Marital Violence",
         "0",
         "2001",
         "\\N",
         "Drama",
         "5.7",
         "79",
         "The Saikias are a wealthy family  consisting of father  mother  and two unmarried sons  Sanjoy and Sunil. Sanjoy is the elder of the two  who refuses to marry  and the rest of the family have to live with his temper tantrums  alcoholism  and patronizing prostitutes. They decide to get him married to a woman named  Durga  who comes from a lower caste  & a poor family  who they believe will be able to live with Sanjoy and his weaknesses. Sanjoy initially refuses to marry Durga  but when his mother threatens to cut him off from her will and estate  he relents and marries her. Thus begins Durga's nightmare with Sanjoy - right from day one. On the very first night Sanjoy decides to spent it with a prostitute named Chameli  who gets pregnant. He subsequently forcibly has sex with Durga  and gets her pregnant too  but blames her pregnancy on Sunil. Durga gives birth to a daughter  Deepa  much to Sanjoy's disappointment  as he had expected a son. Years pass by  Deepa is now 12 years old  and ...",
         "The Saikias are a wealthy family  consisting of father  mother  and two unmarried sons  Sanjoy and Sunil. Sanjoy is the elder of the two  who refuses to marry  and the rest of the family ...                    ",
         "A victim of marital rape",
         "Raveena Tandon|Sayaji Shinde|Sanjay Suri|Raima Sen|Ranjan Koshal|Bharti Jaffrey|Shaan|Nippon Goswami|Kalpana Barua|Ishaan Barua|Girija Das|Indra Bania|Jharna Bishaya|Dinesh Bishaya|",
         "1 win & 1 nomination",
         "4 May 2001 (India)"
        ],
        [
         "1572",
         "Chori Chori Chupke Chupke",
         "tt0256692",
         "https://upload.wikimedia.org/wikipedia/en/thumb/3/3d/Chorichorichupkechupke.jpg/220px-Chorichorichupkechupke.jpg",
         "https://en.wikipedia.org/wiki/Chori_Chori_Chupke_Chupke",
         "Chori Chori Chupke Chupke",
         "Chori Chori Chupke Chupke",
         "0",
         "2001",
         "160",
         "Drama|Musical|Romance",
         "5.4",
         "3907",
         "Raj and Priya are newly married. Priya is heavy with children  but due to unexpected circumstances  she loses her child and is unable to conceive again. Enter Madhoo  a prostitute who is willing to become surrogate mother for the couple. Their relationship becomes entangled with love triangle when Madhoo falls in love with Raj.",
         "A prostitute agrees to get impregnated and then give the baby to a couple (Raj and Priya) in exchange for a million rupees. Everything changes when she develops feelings for the baby and Raj.",
         null,
         "Preity Zinta|Salman Khan|Rani Mukerji|Amrish Puri|Dalip Tahil|Farida Jalal|Prem Chopra|Johnny Lever|",
         "1 nomination",
         "9 March 2001 (India)"
        ],
        [
         "1587",
         "Chhupa Rustam: A Musical Thriller",
         "tt0279021",
         "https://upload.wikimedia.org/wikipedia/en/thumb/a/a3/Chhupa_Rustam_A_Musical_Thriller.jpg/220px-Chhupa_Rustam_A_Musical_Thriller.jpg",
         "https://en.wikipedia.org/wiki/Chhupa_Rustam:_A_Musical_Thriller",
         "Chhupa Rustam: A Musical Thriller",
         "Chhupa Rustam: A Musical Thriller",
         "0",
         "2001",
         "127",
         "Drama|Musical|Romance",
         "4.5",
         "73",
         "Nirmal (Sanjay Kapoor) studies in London  and his dad (Anant Mahadevan) lives in a palatial home in India with his mom (Navneet Nishan). Unknown to both Nirmal and his dad  mom is having an affair with an employee  Baldev Diwan (Dalip Tahil). When caught in the act by dad  they kill him and his driver  Satpal (Mushtaq Khan) and arrange an accident with the help of another employee Manikchand (Tinnu Anand). When Nirmal returns he is informed of the accident  and he believes his dad dies of a car accident. One day while romancing with his girlfriend Sandhya (Mamta Kulkarni)  he comes across Satpal  who is now confined in a mental institution. Curious to see what Satpal has to say about the accident  Nirmal arranges for more qualified doctors in the big city to examine Satpal. Unknown to Nirmal  Superintendent of Police Thappa (Raj Babbar) is plotting with Raja (also played by Sanjay Kapoor) to kill Nirmal and take his place  Raja's girlfriend  Nisha (Manisha Koirala) overhears this and ...",
         "A tough and rowdy look-alike takes the place of a rich young man  who has family problems and enemies.",
         null,
         "Sanjay Kapoor|Mamta Kulkarni|Manisha Koirala|Raj Babbar|",
         null,
         "25 April 2001 (Kuwait)"
        ],
        [
         "1589",
         "Chandni Bar",
         "tt0267363",
         "https://upload.wikimedia.org/wikipedia/en/thumb/e/e3/Chandni_Bar.jpg/220px-Chandni_Bar.jpg",
         "https://en.wikipedia.org/wiki/Chandni_Bar",
         "Chandni Bar",
         "Chandni Bar",
         "0",
         "2001",
         "150",
         "Crime|Drama",
         "7.6",
         "2284",
         "Mumtaz is a village girl whose family is killed in communal riots. She moves to Mumbai with her uncle  the only family member she has left. They are desperately poor and her uncle persuades her to become a bar girl at Chandni Bar. This is merely temporary  he promises  until he gets a job. Mumtaz is a shy girl who loathes the work  but she forces herself to dance and flirt. However  the uncle doesn't keep his promise; he lives on her earnings  drinking them away  and never gets a job. He adds one final  unforgivable crime to the list when he gets drunk and rapes her. By this time she has caught the eye of a gangster called Potiya Sawant. When she tells Potiya what her uncle did to her  Potiya decides to \"defend her honor.\" Potiya shoots the uncle. Mumtaz  bereft of any male protection in the dangerous slums  marries Potiya. She is determined to make the best of things. She leaves the bar and stays home to raise her two children  whom she carefully protects from the world of ...",
         "A displaced woman is forced to become a beer-bar dancer  and sire children of a gangster.",
         null,
         "Tabu|Atul Kulkarni|Rajpal Yadav|Shri Vallabh Vyas|Vinay Apte|Abhay Bhargav|Ananya Khare|Suhas Palshikar|Uma Shankar Pandey|Varun Vardhan|Manoj Joshi|Promodini Kadam|Sujata Naik|Shradha Naval|",
         "7 wins & 14 nominations",
         "28 September 2001 (India)"
        ],
        [
         "1580",
         "Censor (film)",
         "tt0272543",
         "https://upload.wikimedia.org/wikipedia/en/thumb/f/f1/Censor_Dev_Anand.jpg/220px-Censor_Dev_Anand.jpg",
         "https://en.wikipedia.org/wiki/Censor_(film)",
         "Censor",
         "Censor",
         "0",
         "2001",
         "165",
         "Drama",
         "3.5",
         "107",
         "Under the directions of the Minister for Information and Broadcasting  the Indian Censor Board prepares a list of cuts for Bollywood film producer  Vikramjeet's new movie \"Aane Wala Kal\". Vikramjeet is unhappy and decides to meet the Minister himself to appeal against these cuts  only to find out that the Minister favors even more cuts. Then Vikramjeet shows this movie in a private theatre to an audience from all walks of life  he then takes their written opinion  smuggles a copy to America  just in time to ensure that it is nominated for an Oscar. This is where Vikramjeet's troubles start as the Censor Board refuses to grant a \"U\" certificate; he is arrested for smuggling the movie without permission from the Reserve Bank of India. The only way he can escape the wrath of the authorities is getting some fans and stars of his movie to gather some dirt on the Censor Board members and expose them publicly. But will this pacify the authorities  or will it aggravate the situation. Watch ...",
         "Depicts a filmmaker's struggle to pass his controversial film for family viewing  follows many hardships in the process.",
         null,
         "Dev Anand|Hema Malini|Shammi Kapoor|Rekha|Jackie Shroff|Mamta Kulkarni|Johnny Lever|Mukesh Khanna|Ayesha Jhulka|Sharad S. Kapoor|Tara Deshpande|Randhir Kapoor|Aruna Irani|Raj Babbar|",
         null,
         "14 February 2001 (India)"
        ]
       ],
       "shape": {
        "columns": 18,
        "rows": 1629
       }
      },
      "text/html": [
       "<div>\n",
       "<style scoped>\n",
       "    .dataframe tbody tr th:only-of-type {\n",
       "        vertical-align: middle;\n",
       "    }\n",
       "\n",
       "    .dataframe tbody tr th {\n",
       "        vertical-align: top;\n",
       "    }\n",
       "\n",
       "    .dataframe thead th {\n",
       "        text-align: right;\n",
       "    }\n",
       "</style>\n",
       "<table border=\"1\" class=\"dataframe\">\n",
       "  <thead>\n",
       "    <tr style=\"text-align: right;\">\n",
       "      <th></th>\n",
       "      <th>title_x</th>\n",
       "      <th>imdb_id</th>\n",
       "      <th>poster_path</th>\n",
       "      <th>wiki_link</th>\n",
       "      <th>title_y</th>\n",
       "      <th>original_title</th>\n",
       "      <th>is_adult</th>\n",
       "      <th>year_of_release</th>\n",
       "      <th>runtime</th>\n",
       "      <th>genres</th>\n",
       "      <th>imdb_rating</th>\n",
       "      <th>imdb_votes</th>\n",
       "      <th>story</th>\n",
       "      <th>summary</th>\n",
       "      <th>tagline</th>\n",
       "      <th>actors</th>\n",
       "      <th>wins_nominations</th>\n",
       "      <th>release_date</th>\n",
       "    </tr>\n",
       "  </thead>\n",
       "  <tbody>\n",
       "    <tr>\n",
       "      <th>1623</th>\n",
       "      <td>Zubeidaa</td>\n",
       "      <td>tt0255713</td>\n",
       "      <td>https://upload.wikimedia.org/wikipedia/en/thum...</td>\n",
       "      <td>https://en.wikipedia.org/wiki/Zubeidaa</td>\n",
       "      <td>Zubeidaa</td>\n",
       "      <td>Zubeidaa</td>\n",
       "      <td>0</td>\n",
       "      <td>2001</td>\n",
       "      <td>153</td>\n",
       "      <td>Biography|Drama|History</td>\n",
       "      <td>6.2</td>\n",
       "      <td>1384</td>\n",
       "      <td>The film begins with Riyaz (Rajat Kapoor)  Zub...</td>\n",
       "      <td>Zubeidaa  an aspiring Muslim actress  marries ...</td>\n",
       "      <td>The Story of a Princess</td>\n",
       "      <td>Karisma Kapoor|Rekha|Manoj Bajpayee|Rajit Kapo...</td>\n",
       "      <td>3 wins &amp; 13 nominations</td>\n",
       "      <td>19 January 2001 (India)</td>\n",
       "    </tr>\n",
       "    <tr>\n",
       "      <th>1625</th>\n",
       "      <td>Yeh Zindagi Ka Safar</td>\n",
       "      <td>tt0298607</td>\n",
       "      <td>https://upload.wikimedia.org/wikipedia/en/thum...</td>\n",
       "      <td>https://en.wikipedia.org/wiki/Yeh_Zindagi_Ka_S...</td>\n",
       "      <td>Yeh Zindagi Ka Safar</td>\n",
       "      <td>Yeh Zindagi Ka Safar</td>\n",
       "      <td>0</td>\n",
       "      <td>2001</td>\n",
       "      <td>146</td>\n",
       "      <td>Drama</td>\n",
       "      <td>3.0</td>\n",
       "      <td>133</td>\n",
       "      <td>Hindi pop-star  Sarina Devan  lives a wealthy ...</td>\n",
       "      <td>A singer finds out she was adopted when the ed...</td>\n",
       "      <td>NaN</td>\n",
       "      <td>Ameesha Patel|Jimmy Sheirgill|Nafisa Ali|Gulsh...</td>\n",
       "      <td>NaN</td>\n",
       "      <td>16 November 2001 (India)</td>\n",
       "    </tr>\n",
       "    <tr>\n",
       "      <th>1622</th>\n",
       "      <td>Yeh Teraa Ghar Yeh Meraa Ghar</td>\n",
       "      <td>tt0298606</td>\n",
       "      <td>https://upload.wikimedia.org/wikipedia/en/thum...</td>\n",
       "      <td>https://en.wikipedia.org/wiki/Yeh_Teraa_Ghar_Y...</td>\n",
       "      <td>Yeh Teraa Ghar Yeh Meraa Ghar</td>\n",
       "      <td>Yeh Teraa Ghar Yeh Meraa Ghar</td>\n",
       "      <td>0</td>\n",
       "      <td>2001</td>\n",
       "      <td>175</td>\n",
       "      <td>Comedy|Drama</td>\n",
       "      <td>5.7</td>\n",
       "      <td>704</td>\n",
       "      <td>In debt; Dayashankar Pandey is forced to go to...</td>\n",
       "      <td>In debt; Dayashankar Pandey is forced to go to...</td>\n",
       "      <td>NaN</td>\n",
       "      <td>Sunil Shetty|Mahima Chaudhry|Paresh Rawal|Saur...</td>\n",
       "      <td>1 nomination</td>\n",
       "      <td>12 October 2001 (India)</td>\n",
       "    </tr>\n",
       "    <tr>\n",
       "      <th>1620</th>\n",
       "      <td>Yeh Raaste Hain Pyaar Ke</td>\n",
       "      <td>tt0292740</td>\n",
       "      <td>https://upload.wikimedia.org/wikipedia/en/thum...</td>\n",
       "      <td>https://en.wikipedia.org/wiki/Yeh_Raaste_Hain_...</td>\n",
       "      <td>Yeh Raaste Hain Pyaar Ke</td>\n",
       "      <td>Yeh Raaste Hain Pyaar Ke</td>\n",
       "      <td>0</td>\n",
       "      <td>2001</td>\n",
       "      <td>149</td>\n",
       "      <td>Drama|Romance</td>\n",
       "      <td>4.0</td>\n",
       "      <td>607</td>\n",
       "      <td>Two con artistes and car thieves  Vicky (Ajay ...</td>\n",
       "      <td>Two con artistes and car thieves  Vicky (Ajay ...</td>\n",
       "      <td>Love is a journey... not a destination</td>\n",
       "      <td>Ajay Devgn|Madhuri Dixit|Preity Zinta|Vikram G...</td>\n",
       "      <td>NaN</td>\n",
       "      <td>10 August 2001 (India)</td>\n",
       "    </tr>\n",
       "    <tr>\n",
       "      <th>1573</th>\n",
       "      <td>Yaadein (2001 film)</td>\n",
       "      <td>tt0248617</td>\n",
       "      <td>https://upload.wikimedia.org/wikipedia/en/thum...</td>\n",
       "      <td>https://en.wikipedia.org/wiki/Yaadein_(2001_film)</td>\n",
       "      <td>Yaadein...</td>\n",
       "      <td>Yaadein...</td>\n",
       "      <td>0</td>\n",
       "      <td>2001</td>\n",
       "      <td>171</td>\n",
       "      <td>Drama|Musical|Romance</td>\n",
       "      <td>4.4</td>\n",
       "      <td>3034</td>\n",
       "      <td>Raj Singh Puri is best friends with L.K. Malho...</td>\n",
       "      <td>Raj Singh Puri is best friends with L.K. Malho...</td>\n",
       "      <td>memories to cherish...</td>\n",
       "      <td>Jackie Shroff|Hrithik Roshan|Kareena Kapoor|Am...</td>\n",
       "      <td>1 nomination</td>\n",
       "      <td>27 June 2001 (India)</td>\n",
       "    </tr>\n",
       "    <tr>\n",
       "      <th>...</th>\n",
       "      <td>...</td>\n",
       "      <td>...</td>\n",
       "      <td>...</td>\n",
       "      <td>...</td>\n",
       "      <td>...</td>\n",
       "      <td>...</td>\n",
       "      <td>...</td>\n",
       "      <td>...</td>\n",
       "      <td>...</td>\n",
       "      <td>...</td>\n",
       "      <td>...</td>\n",
       "      <td>...</td>\n",
       "      <td>...</td>\n",
       "      <td>...</td>\n",
       "      <td>...</td>\n",
       "      <td>...</td>\n",
       "      <td>...</td>\n",
       "      <td>...</td>\n",
       "    </tr>\n",
       "    <tr>\n",
       "      <th>37</th>\n",
       "      <td>Article 15 (film)</td>\n",
       "      <td>tt10324144</td>\n",
       "      <td>https://upload.wikimedia.org/wikipedia/en/thum...</td>\n",
       "      <td>https://en.wikipedia.org/wiki/Article_15_(film)</td>\n",
       "      <td>Article 15</td>\n",
       "      <td>Article 15</td>\n",
       "      <td>0</td>\n",
       "      <td>2019</td>\n",
       "      <td>130</td>\n",
       "      <td>Crime|Drama</td>\n",
       "      <td>8.3</td>\n",
       "      <td>13417</td>\n",
       "      <td>In the rural heartlands of India  an upright p...</td>\n",
       "      <td>In the rural heartlands of India  an upright p...</td>\n",
       "      <td>Farq Bahut Kar Liya| Ab Farq Laayenge.</td>\n",
       "      <td>Ayushmann Khurrana|Nassar|Manoj Pahwa|Kumud Mi...</td>\n",
       "      <td>1 win</td>\n",
       "      <td>28 June 2019 (USA)</td>\n",
       "    </tr>\n",
       "    <tr>\n",
       "      <th>46</th>\n",
       "      <td>Arjun Patiala</td>\n",
       "      <td>tt7881524</td>\n",
       "      <td>https://upload.wikimedia.org/wikipedia/en/thum...</td>\n",
       "      <td>https://en.wikipedia.org/wiki/Arjun_Patiala</td>\n",
       "      <td>Arjun Patiala</td>\n",
       "      <td>Arjun Patiala</td>\n",
       "      <td>0</td>\n",
       "      <td>2019</td>\n",
       "      <td>107</td>\n",
       "      <td>Action|Comedy</td>\n",
       "      <td>4.1</td>\n",
       "      <td>676</td>\n",
       "      <td>Arjun Patiala(Diljit Dosanjh)has recently been...</td>\n",
       "      <td>This spoof comedy narrates the story of a cop ...</td>\n",
       "      <td>NaN</td>\n",
       "      <td>Diljit Dosanjh|Kriti Sanon|Varun Sharma|Ronit ...</td>\n",
       "      <td>NaN</td>\n",
       "      <td>26 July 2019 (USA)</td>\n",
       "    </tr>\n",
       "    <tr>\n",
       "      <th>10</th>\n",
       "      <td>Amavas</td>\n",
       "      <td>tt8396186</td>\n",
       "      <td>https://upload.wikimedia.org/wikipedia/en/thum...</td>\n",
       "      <td>https://en.wikipedia.org/wiki/Amavas</td>\n",
       "      <td>Amavas</td>\n",
       "      <td>Amavas</td>\n",
       "      <td>0</td>\n",
       "      <td>2019</td>\n",
       "      <td>134</td>\n",
       "      <td>Horror|Thriller</td>\n",
       "      <td>2.8</td>\n",
       "      <td>235</td>\n",
       "      <td>Far away from the bustle of the city  a young ...</td>\n",
       "      <td>The lives of a couple turn into a nightmare  a...</td>\n",
       "      <td>NaN</td>\n",
       "      <td>Ali Asgar|Vivan Bhatena|Nargis Fakhri|Sachiin ...</td>\n",
       "      <td>NaN</td>\n",
       "      <td>8 February 2019 (India)</td>\n",
       "    </tr>\n",
       "    <tr>\n",
       "      <th>26</th>\n",
       "      <td>Albert Pinto Ko Gussa Kyun Aata Hai?</td>\n",
       "      <td>tt4355838</td>\n",
       "      <td>https://upload.wikimedia.org/wikipedia/en/thum...</td>\n",
       "      <td>https://en.wikipedia.org/wiki/Albert_Pinto_Ko_...</td>\n",
       "      <td>Albert Pinto Ko Gussa Kyun Aata Hai?</td>\n",
       "      <td>Albert Pinto Ko Gussa Kyun Aata Hai?</td>\n",
       "      <td>0</td>\n",
       "      <td>2019</td>\n",
       "      <td>100</td>\n",
       "      <td>Drama</td>\n",
       "      <td>4.8</td>\n",
       "      <td>56</td>\n",
       "      <td>Albert leaves his house one morning without te...</td>\n",
       "      <td>Albert Pinto goes missing one day and his girl...</td>\n",
       "      <td>NaN</td>\n",
       "      <td>Manav Kaul|Nandita Das|</td>\n",
       "      <td>NaN</td>\n",
       "      <td>12 April 2019 (India)</td>\n",
       "    </tr>\n",
       "    <tr>\n",
       "      <th>21</th>\n",
       "      <td>22 Yards</td>\n",
       "      <td>tt9496212</td>\n",
       "      <td>https://upload.wikimedia.org/wikipedia/en/thum...</td>\n",
       "      <td>https://en.wikipedia.org/wiki/22_Yards</td>\n",
       "      <td>22 Yards</td>\n",
       "      <td>22 Yards</td>\n",
       "      <td>0</td>\n",
       "      <td>2019</td>\n",
       "      <td>126</td>\n",
       "      <td>Sport</td>\n",
       "      <td>5.3</td>\n",
       "      <td>124</td>\n",
       "      <td>A dramatic portrayal of a victorious tale of a...</td>\n",
       "      <td>A dramatic portrayal of a victorious tale of a...</td>\n",
       "      <td>NaN</td>\n",
       "      <td>Barun Sobti|Rajit Kapur|Panchhi Bora|Kartikey ...</td>\n",
       "      <td>NaN</td>\n",
       "      <td>15 March 2019 (India)</td>\n",
       "    </tr>\n",
       "  </tbody>\n",
       "</table>\n",
       "<p>1629 rows × 18 columns</p>\n",
       "</div>"
      ],
      "text/plain": [
       "                                   title_x     imdb_id  \\\n",
       "1623                              Zubeidaa   tt0255713   \n",
       "1625                  Yeh Zindagi Ka Safar   tt0298607   \n",
       "1622         Yeh Teraa Ghar Yeh Meraa Ghar   tt0298606   \n",
       "1620              Yeh Raaste Hain Pyaar Ke   tt0292740   \n",
       "1573                   Yaadein (2001 film)   tt0248617   \n",
       "...                                    ...         ...   \n",
       "37                       Article 15 (film)  tt10324144   \n",
       "46                           Arjun Patiala   tt7881524   \n",
       "10                                  Amavas   tt8396186   \n",
       "26    Albert Pinto Ko Gussa Kyun Aata Hai?   tt4355838   \n",
       "21                                22 Yards   tt9496212   \n",
       "\n",
       "                                            poster_path  \\\n",
       "1623  https://upload.wikimedia.org/wikipedia/en/thum...   \n",
       "1625  https://upload.wikimedia.org/wikipedia/en/thum...   \n",
       "1622  https://upload.wikimedia.org/wikipedia/en/thum...   \n",
       "1620  https://upload.wikimedia.org/wikipedia/en/thum...   \n",
       "1573  https://upload.wikimedia.org/wikipedia/en/thum...   \n",
       "...                                                 ...   \n",
       "37    https://upload.wikimedia.org/wikipedia/en/thum...   \n",
       "46    https://upload.wikimedia.org/wikipedia/en/thum...   \n",
       "10    https://upload.wikimedia.org/wikipedia/en/thum...   \n",
       "26    https://upload.wikimedia.org/wikipedia/en/thum...   \n",
       "21    https://upload.wikimedia.org/wikipedia/en/thum...   \n",
       "\n",
       "                                              wiki_link  \\\n",
       "1623             https://en.wikipedia.org/wiki/Zubeidaa   \n",
       "1625  https://en.wikipedia.org/wiki/Yeh_Zindagi_Ka_S...   \n",
       "1622  https://en.wikipedia.org/wiki/Yeh_Teraa_Ghar_Y...   \n",
       "1620  https://en.wikipedia.org/wiki/Yeh_Raaste_Hain_...   \n",
       "1573  https://en.wikipedia.org/wiki/Yaadein_(2001_film)   \n",
       "...                                                 ...   \n",
       "37      https://en.wikipedia.org/wiki/Article_15_(film)   \n",
       "46          https://en.wikipedia.org/wiki/Arjun_Patiala   \n",
       "10                 https://en.wikipedia.org/wiki/Amavas   \n",
       "26    https://en.wikipedia.org/wiki/Albert_Pinto_Ko_...   \n",
       "21               https://en.wikipedia.org/wiki/22_Yards   \n",
       "\n",
       "                                   title_y  \\\n",
       "1623                              Zubeidaa   \n",
       "1625                  Yeh Zindagi Ka Safar   \n",
       "1622         Yeh Teraa Ghar Yeh Meraa Ghar   \n",
       "1620              Yeh Raaste Hain Pyaar Ke   \n",
       "1573                            Yaadein...   \n",
       "...                                    ...   \n",
       "37                              Article 15   \n",
       "46                           Arjun Patiala   \n",
       "10                                  Amavas   \n",
       "26    Albert Pinto Ko Gussa Kyun Aata Hai?   \n",
       "21                                22 Yards   \n",
       "\n",
       "                            original_title  is_adult  year_of_release runtime  \\\n",
       "1623                              Zubeidaa         0             2001     153   \n",
       "1625                  Yeh Zindagi Ka Safar         0             2001     146   \n",
       "1622         Yeh Teraa Ghar Yeh Meraa Ghar         0             2001     175   \n",
       "1620              Yeh Raaste Hain Pyaar Ke         0             2001     149   \n",
       "1573                            Yaadein...         0             2001     171   \n",
       "...                                    ...       ...              ...     ...   \n",
       "37                              Article 15         0             2019     130   \n",
       "46                           Arjun Patiala         0             2019     107   \n",
       "10                                  Amavas         0             2019     134   \n",
       "26    Albert Pinto Ko Gussa Kyun Aata Hai?         0             2019     100   \n",
       "21                                22 Yards         0             2019     126   \n",
       "\n",
       "                       genres  imdb_rating  imdb_votes  \\\n",
       "1623  Biography|Drama|History          6.2        1384   \n",
       "1625                    Drama          3.0         133   \n",
       "1622             Comedy|Drama          5.7         704   \n",
       "1620            Drama|Romance          4.0         607   \n",
       "1573    Drama|Musical|Romance          4.4        3034   \n",
       "...                       ...          ...         ...   \n",
       "37                Crime|Drama          8.3       13417   \n",
       "46              Action|Comedy          4.1         676   \n",
       "10            Horror|Thriller          2.8         235   \n",
       "26                      Drama          4.8          56   \n",
       "21                      Sport          5.3         124   \n",
       "\n",
       "                                                  story  \\\n",
       "1623  The film begins with Riyaz (Rajat Kapoor)  Zub...   \n",
       "1625  Hindi pop-star  Sarina Devan  lives a wealthy ...   \n",
       "1622  In debt; Dayashankar Pandey is forced to go to...   \n",
       "1620  Two con artistes and car thieves  Vicky (Ajay ...   \n",
       "1573  Raj Singh Puri is best friends with L.K. Malho...   \n",
       "...                                                 ...   \n",
       "37    In the rural heartlands of India  an upright p...   \n",
       "46    Arjun Patiala(Diljit Dosanjh)has recently been...   \n",
       "10    Far away from the bustle of the city  a young ...   \n",
       "26    Albert leaves his house one morning without te...   \n",
       "21    A dramatic portrayal of a victorious tale of a...   \n",
       "\n",
       "                                                summary  \\\n",
       "1623  Zubeidaa  an aspiring Muslim actress  marries ...   \n",
       "1625  A singer finds out she was adopted when the ed...   \n",
       "1622  In debt; Dayashankar Pandey is forced to go to...   \n",
       "1620  Two con artistes and car thieves  Vicky (Ajay ...   \n",
       "1573  Raj Singh Puri is best friends with L.K. Malho...   \n",
       "...                                                 ...   \n",
       "37    In the rural heartlands of India  an upright p...   \n",
       "46    This spoof comedy narrates the story of a cop ...   \n",
       "10    The lives of a couple turn into a nightmare  a...   \n",
       "26    Albert Pinto goes missing one day and his girl...   \n",
       "21    A dramatic portrayal of a victorious tale of a...   \n",
       "\n",
       "                                     tagline  \\\n",
       "1623                 The Story of a Princess   \n",
       "1625                                     NaN   \n",
       "1622                                     NaN   \n",
       "1620  Love is a journey... not a destination   \n",
       "1573                  memories to cherish...   \n",
       "...                                      ...   \n",
       "37    Farq Bahut Kar Liya| Ab Farq Laayenge.   \n",
       "46                                       NaN   \n",
       "10                                       NaN   \n",
       "26                                       NaN   \n",
       "21                                       NaN   \n",
       "\n",
       "                                                 actors  \\\n",
       "1623  Karisma Kapoor|Rekha|Manoj Bajpayee|Rajit Kapo...   \n",
       "1625  Ameesha Patel|Jimmy Sheirgill|Nafisa Ali|Gulsh...   \n",
       "1622  Sunil Shetty|Mahima Chaudhry|Paresh Rawal|Saur...   \n",
       "1620  Ajay Devgn|Madhuri Dixit|Preity Zinta|Vikram G...   \n",
       "1573  Jackie Shroff|Hrithik Roshan|Kareena Kapoor|Am...   \n",
       "...                                                 ...   \n",
       "37    Ayushmann Khurrana|Nassar|Manoj Pahwa|Kumud Mi...   \n",
       "46    Diljit Dosanjh|Kriti Sanon|Varun Sharma|Ronit ...   \n",
       "10    Ali Asgar|Vivan Bhatena|Nargis Fakhri|Sachiin ...   \n",
       "26                              Manav Kaul|Nandita Das|   \n",
       "21    Barun Sobti|Rajit Kapur|Panchhi Bora|Kartikey ...   \n",
       "\n",
       "             wins_nominations              release_date  \n",
       "1623  3 wins & 13 nominations   19 January 2001 (India)  \n",
       "1625                      NaN  16 November 2001 (India)  \n",
       "1622             1 nomination   12 October 2001 (India)  \n",
       "1620                      NaN    10 August 2001 (India)  \n",
       "1573             1 nomination      27 June 2001 (India)  \n",
       "...                       ...                       ...  \n",
       "37                      1 win        28 June 2019 (USA)  \n",
       "46                        NaN        26 July 2019 (USA)  \n",
       "10                        NaN   8 February 2019 (India)  \n",
       "26                        NaN     12 April 2019 (India)  \n",
       "21                        NaN     15 March 2019 (India)  \n",
       "\n",
       "[1629 rows x 18 columns]"
      ]
     },
     "execution_count": 22,
     "metadata": {},
     "output_type": "execute_result"
    }
   ],
   "source": [
    "movies.sort_values(['year_of_release','title_x'],ascending=[True,False]) # sort by year_of_release in ascending order and title_x in descending order"
   ]
  },
  {
   "cell_type": "code",
   "execution_count": null,
   "metadata": {
    "id": "geTcsZhclvEB"
   },
   "outputs": [],
   "source": []
  },
  {
   "cell_type": "code",
   "execution_count": 23,
   "metadata": {
    "colab": {
     "base_uri": "https://localhost:8080/",
     "height": 206
    },
    "id": "WlC_BHqlMN3C",
    "outputId": "bb119f73-4d37-4b8e-865a-d400004b0e87"
   },
   "outputs": [
    {
     "data": {
      "application/vnd.microsoft.datawrangler.viewer.v0+json": {
       "columns": [
        {
         "name": "index",
         "rawType": "int64",
         "type": "integer"
        },
        {
         "name": "batter",
         "rawType": "object",
         "type": "string"
        },
        {
         "name": "batsman_run",
         "rawType": "int64",
         "type": "integer"
        }
       ],
       "ref": "46f59c89-c4fe-44f5-8a26-5762f995a171",
       "rows": [
        [
         "0",
         "A Ashish Reddy",
         "280"
        ],
        [
         "1",
         "A Badoni",
         "161"
        ],
        [
         "2",
         "A Chandila",
         "4"
        ],
        [
         "3",
         "A Chopra",
         "53"
        ],
        [
         "4",
         "A Choudhary",
         "25"
        ]
       ],
       "shape": {
        "columns": 2,
        "rows": 5
       }
      },
      "text/html": [
       "<div>\n",
       "<style scoped>\n",
       "    .dataframe tbody tr th:only-of-type {\n",
       "        vertical-align: middle;\n",
       "    }\n",
       "\n",
       "    .dataframe tbody tr th {\n",
       "        vertical-align: top;\n",
       "    }\n",
       "\n",
       "    .dataframe thead th {\n",
       "        text-align: right;\n",
       "    }\n",
       "</style>\n",
       "<table border=\"1\" class=\"dataframe\">\n",
       "  <thead>\n",
       "    <tr style=\"text-align: right;\">\n",
       "      <th></th>\n",
       "      <th>batter</th>\n",
       "      <th>batsman_run</th>\n",
       "    </tr>\n",
       "  </thead>\n",
       "  <tbody>\n",
       "    <tr>\n",
       "      <th>0</th>\n",
       "      <td>A Ashish Reddy</td>\n",
       "      <td>280</td>\n",
       "    </tr>\n",
       "    <tr>\n",
       "      <th>1</th>\n",
       "      <td>A Badoni</td>\n",
       "      <td>161</td>\n",
       "    </tr>\n",
       "    <tr>\n",
       "      <th>2</th>\n",
       "      <td>A Chandila</td>\n",
       "      <td>4</td>\n",
       "    </tr>\n",
       "    <tr>\n",
       "      <th>3</th>\n",
       "      <td>A Chopra</td>\n",
       "      <td>53</td>\n",
       "    </tr>\n",
       "    <tr>\n",
       "      <th>4</th>\n",
       "      <td>A Choudhary</td>\n",
       "      <td>25</td>\n",
       "    </tr>\n",
       "  </tbody>\n",
       "</table>\n",
       "</div>"
      ],
      "text/plain": [
       "           batter  batsman_run\n",
       "0  A Ashish Reddy          280\n",
       "1        A Badoni          161\n",
       "2      A Chandila            4\n",
       "3        A Chopra           53\n",
       "4     A Choudhary           25"
      ]
     },
     "execution_count": 23,
     "metadata": {},
     "output_type": "execute_result"
    }
   ],
   "source": [
    "# rank(series)\n",
    "batsman = pd.read_csv('DataSets/datasets-session-17/batsman_runs_ipl.csv')\n",
    "batsman.head()"
   ]
  },
  {
   "cell_type": "code",
   "execution_count": 25,
   "metadata": {
    "colab": {
     "base_uri": "https://localhost:8080/",
     "height": 424
    },
    "id": "Ehdl60Z9U7Cp",
    "outputId": "e43bdfdf-6964-4750-d26e-596d40716a54"
   },
   "outputs": [
    {
     "data": {
      "application/vnd.microsoft.datawrangler.viewer.v0+json": {
       "columns": [
        {
         "name": "index",
         "rawType": "int64",
         "type": "integer"
        },
        {
         "name": "batter",
         "rawType": "object",
         "type": "string"
        },
        {
         "name": "batsman_run",
         "rawType": "int64",
         "type": "integer"
        },
        {
         "name": "batting_rank",
         "rawType": "float64",
         "type": "float"
        }
       ],
       "ref": "169bf424-fabe-4c22-8be9-8898578b0d38",
       "rows": [
        [
         "569",
         "V Kohli",
         "6634",
         "1.0"
        ],
        [
         "462",
         "S Dhawan",
         "6244",
         "2.0"
        ],
        [
         "130",
         "DA Warner",
         "5883",
         "3.0"
        ],
        [
         "430",
         "RG Sharma",
         "5881",
         "4.0"
        ],
        [
         "493",
         "SK Raina",
         "5536",
         "5.0"
        ],
        [
         "27",
         "AB de Villiers",
         "5181",
         "6.0"
        ],
        [
         "108",
         "CH Gayle",
         "4997",
         "7.0"
        ],
        [
         "339",
         "MS Dhoni",
         "4978",
         "8.0"
        ],
        [
         "452",
         "RV Uthappa",
         "4954",
         "9.0"
        ],
        [
         "256",
         "KD Karthik",
         "4377",
         "10.0"
        ],
        [
         "174",
         "G Gambhir",
         "4217",
         "11.0"
        ],
        [
         "60",
         "AT Rayudu",
         "4190",
         "12.0"
        ],
        [
         "46",
         "AM Rahane",
         "4074",
         "13.0"
        ],
        [
         "263",
         "KL Rahul",
         "3895",
         "14.0"
        ],
        [
         "511",
         "SR Watson",
         "3880",
         "15.0"
        ],
        [
         "328",
         "MK Pandey",
         "3657",
         "16.0"
        ],
        [
         "519",
         "SV Samson",
         "3526",
         "17.0"
        ],
        [
         "251",
         "KA Pollard",
         "3437",
         "18.0"
        ],
        [
         "169",
         "F du Plessis",
         "3403",
         "19.0"
        ],
        [
         "597",
         "YK Pathan",
         "3222",
         "20.0"
        ],
        [
         "88",
         "BB McCullum",
         "2882",
         "21.0"
        ],
        [
         "441",
         "RR Pant",
         "2851",
         "22.0"
        ],
        [
         "384",
         "PA Patel",
         "2848",
         "23.0"
        ],
        [
         "219",
         "JC Buttler",
         "2832",
         "24.0"
        ],
        [
         "513",
         "SS Iyer",
         "2780",
         "25.0"
        ],
        [
         "404",
         "Q de Kock",
         "2767",
         "26.0"
        ],
        [
         "603",
         "Yuvraj Singh",
         "2754",
         "27.0"
        ],
        [
         "571",
         "V Sehwag",
         "2728",
         "28.0"
        ],
        [
         "480",
         "SA Yadav",
         "2644",
         "29.0"
        ],
        [
         "308",
         "M Vijay",
         "2619",
         "30.0"
        ],
        [
         "423",
         "RA Jadeja",
         "2502",
         "31.0"
        ],
        [
         "509",
         "SPD Smith",
         "2495",
         "32.0"
        ],
        [
         "490",
         "SE Marsh",
         "2489",
         "33.0"
        ],
        [
         "129",
         "DA Miller",
         "2455",
         "34.0"
        ],
        [
         "226",
         "JH Kallis",
         "2427",
         "35.5"
        ],
        [
         "587",
         "WP Saha",
         "2427",
         "35.5"
        ],
        [
         "159",
         "DR Smith",
         "2385",
         "37.0"
        ],
        [
         "311",
         "MA Agarwal",
         "2335",
         "38.0"
        ],
        [
         "510",
         "SR Tendulkar",
         "2334",
         "39.0"
        ],
        [
         "183",
         "GJ Maxwell",
         "2320",
         "40.0"
        ],
        [
         "358",
         "N Rana",
         "2181",
         "41.0"
        ],
        [
         "409",
         "R Dravid",
         "2174",
         "42.0"
        ],
        [
         "272",
         "KS Williamson",
         "2105",
         "43.0"
        ],
        [
         "40",
         "AJ Finch",
         "2092",
         "44.0"
        ],
        [
         "29",
         "AC Gilchrist",
         "2069",
         "45.0"
        ],
        [
         "36",
         "AD Russell",
         "2039",
         "46.0"
        ],
        [
         "236",
         "JP Duminy",
         "2029",
         "47.0"
        ],
        [
         "319",
         "MEK Hussey",
         "1977",
         "48.0"
        ],
        [
         "191",
         "HH Pandya",
         "1972",
         "49.0"
        ],
        [
         "534",
         "Shubman Gill",
         "1900",
         "50.0"
        ]
       ],
       "shape": {
        "columns": 3,
        "rows": 605
       }
      },
      "text/html": [
       "<div>\n",
       "<style scoped>\n",
       "    .dataframe tbody tr th:only-of-type {\n",
       "        vertical-align: middle;\n",
       "    }\n",
       "\n",
       "    .dataframe tbody tr th {\n",
       "        vertical-align: top;\n",
       "    }\n",
       "\n",
       "    .dataframe thead th {\n",
       "        text-align: right;\n",
       "    }\n",
       "</style>\n",
       "<table border=\"1\" class=\"dataframe\">\n",
       "  <thead>\n",
       "    <tr style=\"text-align: right;\">\n",
       "      <th></th>\n",
       "      <th>batter</th>\n",
       "      <th>batsman_run</th>\n",
       "      <th>batting_rank</th>\n",
       "    </tr>\n",
       "  </thead>\n",
       "  <tbody>\n",
       "    <tr>\n",
       "      <th>569</th>\n",
       "      <td>V Kohli</td>\n",
       "      <td>6634</td>\n",
       "      <td>1.0</td>\n",
       "    </tr>\n",
       "    <tr>\n",
       "      <th>462</th>\n",
       "      <td>S Dhawan</td>\n",
       "      <td>6244</td>\n",
       "      <td>2.0</td>\n",
       "    </tr>\n",
       "    <tr>\n",
       "      <th>130</th>\n",
       "      <td>DA Warner</td>\n",
       "      <td>5883</td>\n",
       "      <td>3.0</td>\n",
       "    </tr>\n",
       "    <tr>\n",
       "      <th>430</th>\n",
       "      <td>RG Sharma</td>\n",
       "      <td>5881</td>\n",
       "      <td>4.0</td>\n",
       "    </tr>\n",
       "    <tr>\n",
       "      <th>493</th>\n",
       "      <td>SK Raina</td>\n",
       "      <td>5536</td>\n",
       "      <td>5.0</td>\n",
       "    </tr>\n",
       "    <tr>\n",
       "      <th>...</th>\n",
       "      <td>...</td>\n",
       "      <td>...</td>\n",
       "      <td>...</td>\n",
       "    </tr>\n",
       "    <tr>\n",
       "      <th>512</th>\n",
       "      <td>SS Cottrell</td>\n",
       "      <td>0</td>\n",
       "      <td>594.0</td>\n",
       "    </tr>\n",
       "    <tr>\n",
       "      <th>466</th>\n",
       "      <td>S Kaushik</td>\n",
       "      <td>0</td>\n",
       "      <td>594.0</td>\n",
       "    </tr>\n",
       "    <tr>\n",
       "      <th>203</th>\n",
       "      <td>IC Pandey</td>\n",
       "      <td>0</td>\n",
       "      <td>594.0</td>\n",
       "    </tr>\n",
       "    <tr>\n",
       "      <th>467</th>\n",
       "      <td>S Ladda</td>\n",
       "      <td>0</td>\n",
       "      <td>594.0</td>\n",
       "    </tr>\n",
       "    <tr>\n",
       "      <th>468</th>\n",
       "      <td>S Lamichhane</td>\n",
       "      <td>0</td>\n",
       "      <td>594.0</td>\n",
       "    </tr>\n",
       "  </tbody>\n",
       "</table>\n",
       "<p>605 rows × 3 columns</p>\n",
       "</div>"
      ],
      "text/plain": [
       "           batter  batsman_run  batting_rank\n",
       "569       V Kohli         6634           1.0\n",
       "462      S Dhawan         6244           2.0\n",
       "130     DA Warner         5883           3.0\n",
       "430     RG Sharma         5881           4.0\n",
       "493      SK Raina         5536           5.0\n",
       "..            ...          ...           ...\n",
       "512   SS Cottrell            0         594.0\n",
       "466     S Kaushik            0         594.0\n",
       "203     IC Pandey            0         594.0\n",
       "467       S Ladda            0         594.0\n",
       "468  S Lamichhane            0         594.0\n",
       "\n",
       "[605 rows x 3 columns]"
      ]
     },
     "execution_count": 25,
     "metadata": {},
     "output_type": "execute_result"
    }
   ],
   "source": [
    "batsman['batting_rank'] = batsman['batsman_run'].rank(ascending=False) # rank the 'batsman_run' column in descending order and assign it to a new column 'batting_rank'\n",
    "batsman.sort_values('batting_rank')"
   ]
  },
  {
   "cell_type": "code",
   "execution_count": null,
   "metadata": {
    "id": "vwb7jkpKMZuz"
   },
   "outputs": [],
   "source": [
    "# sort_index(series and dataframe)"
   ]
  },
  {
   "cell_type": "code",
   "execution_count": 26,
   "metadata": {
    "colab": {
     "base_uri": "https://localhost:8080/"
    },
    "id": "ziyCGxPzmbzF",
    "outputId": "7dc6c890-8550-4148-cdac-535931df1ee9"
   },
   "outputs": [
    {
     "data": {
      "application/vnd.microsoft.datawrangler.viewer.v0+json": {
       "columns": [
        {
         "name": "index",
         "rawType": "object",
         "type": "string"
        },
        {
         "name": "0",
         "rawType": "int64",
         "type": "integer"
        }
       ],
       "ref": "4660a58e-7c6f-4d24-a166-ffc79759a2ee",
       "rows": [
        [
         "maths",
         "67"
        ],
        [
         "english",
         "57"
        ],
        [
         "science",
         "89"
        ],
        [
         "hindi",
         "100"
        ]
       ],
       "shape": {
        "columns": 1,
        "rows": 4
       }
      },
      "text/plain": [
       "maths       67\n",
       "english     57\n",
       "science     89\n",
       "hindi      100\n",
       "dtype: int64"
      ]
     },
     "execution_count": 26,
     "metadata": {},
     "output_type": "execute_result"
    }
   ],
   "source": [
    "marks = {\n",
    "    'maths':67,\n",
    "    'english':57,\n",
    "    'science':89,\n",
    "    'hindi':100\n",
    "}\n",
    "\n",
    "marks_series = pd.Series(marks)\n",
    "marks_series"
   ]
  },
  {
   "cell_type": "code",
   "execution_count": 27,
   "metadata": {
    "colab": {
     "base_uri": "https://localhost:8080/"
    },
    "id": "d35HQWSUmecP",
    "outputId": "06985391-65a5-40fc-b903-f83cfdff3917"
   },
   "outputs": [
    {
     "data": {
      "application/vnd.microsoft.datawrangler.viewer.v0+json": {
       "columns": [
        {
         "name": "index",
         "rawType": "object",
         "type": "string"
        },
        {
         "name": "0",
         "rawType": "int64",
         "type": "integer"
        }
       ],
       "ref": "09ec7f90-c1eb-4fe1-9657-13a753348bfa",
       "rows": [
        [
         "science",
         "89"
        ],
        [
         "maths",
         "67"
        ],
        [
         "hindi",
         "100"
        ],
        [
         "english",
         "57"
        ]
       ],
       "shape": {
        "columns": 1,
        "rows": 4
       }
      },
      "text/plain": [
       "science     89\n",
       "maths       67\n",
       "hindi      100\n",
       "english     57\n",
       "dtype: int64"
      ]
     },
     "execution_count": 27,
     "metadata": {},
     "output_type": "execute_result"
    }
   ],
   "source": [
    "marks_series.sort_index(ascending=False)"
   ]
  },
  {
   "cell_type": "code",
   "execution_count": 28,
   "metadata": {
    "colab": {
     "base_uri": "https://localhost:8080/",
     "height": 1000
    },
    "id": "sQqF4EUFmmQQ",
    "outputId": "6f228758-8277-4877-d681-ff9cd1f26e47"
   },
   "outputs": [
    {
     "data": {
      "application/vnd.microsoft.datawrangler.viewer.v0+json": {
       "columns": [
        {
         "name": "index",
         "rawType": "int64",
         "type": "integer"
        },
        {
         "name": "title_x",
         "rawType": "object",
         "type": "string"
        },
        {
         "name": "imdb_id",
         "rawType": "object",
         "type": "string"
        },
        {
         "name": "poster_path",
         "rawType": "object",
         "type": "unknown"
        },
        {
         "name": "wiki_link",
         "rawType": "object",
         "type": "string"
        },
        {
         "name": "title_y",
         "rawType": "object",
         "type": "string"
        },
        {
         "name": "original_title",
         "rawType": "object",
         "type": "string"
        },
        {
         "name": "is_adult",
         "rawType": "int64",
         "type": "integer"
        },
        {
         "name": "year_of_release",
         "rawType": "int64",
         "type": "integer"
        },
        {
         "name": "runtime",
         "rawType": "object",
         "type": "string"
        },
        {
         "name": "genres",
         "rawType": "object",
         "type": "string"
        },
        {
         "name": "imdb_rating",
         "rawType": "float64",
         "type": "float"
        },
        {
         "name": "imdb_votes",
         "rawType": "int64",
         "type": "integer"
        },
        {
         "name": "story",
         "rawType": "object",
         "type": "unknown"
        },
        {
         "name": "summary",
         "rawType": "object",
         "type": "string"
        },
        {
         "name": "tagline",
         "rawType": "object",
         "type": "unknown"
        },
        {
         "name": "actors",
         "rawType": "object",
         "type": "unknown"
        },
        {
         "name": "wins_nominations",
         "rawType": "object",
         "type": "unknown"
        },
        {
         "name": "release_date",
         "rawType": "object",
         "type": "unknown"
        }
       ],
       "ref": "d012484f-6de7-4acb-9933-9f7beae74a40",
       "rows": [
        [
         "1628",
         "Humsafar",
         "tt2403201",
         "https://upload.wikimedia.org/wikipedia/en/thumb/4/41/Flag_of_India.svg/23px-Flag_of_India.svg.png",
         "https://en.wikipedia.org/wiki/Humsafar",
         "Humsafar",
         "Humsafar",
         "0",
         "2011",
         "35",
         "Drama|Romance",
         "9.0",
         "2968",
         "Sara and Ashar are childhood friends who share the same status  Sara has always had strong emotions for Ashar; while Khirad lives with her mother in a two bedroom apartment. Ashar and Khirad are forced into a marriage due to desperate circumstances. Khirad is a proud and self-sufficient person and does not give importance to wealth and power  she only hopes for respect. Ashar believes that he would have married a girl equal to his stature but was forced into a loveless marriage. Slowly their relationship gets stronger and the two find common grounds to begin their marriage. Along with internal struggles between these two strong characters; Sara and those around her plot to create enmity between the newly married couple.",
         "Ashar and Khirad are forced to get married due to desperate circumstances. Sara is Ashar's childhood friend and believed she would marry Ashar. Khirad is caught within this love-triangle with other internal and external forces at play.",
         null,
         "Fawad Khan|",
         null,
         "TV Series (2011–2012)"
        ],
        [
         "1627",
         "Daaka",
         "tt10833860",
         "https://upload.wikimedia.org/wikipedia/en/thumb/4/45/Daaka.jpg/220px-Daaka.jpg",
         "https://en.wikipedia.org/wiki/Daaka",
         "Daaka",
         "Daaka",
         "0",
         "2019",
         "136",
         "Action",
         "7.4",
         "38",
         "Shinda tries robbing a bank so he can be wealthy enough to marry the love of his life and ends up getting caught. But it turns out that he got caught intentionally  and has a much bigger plan in mind  involving one of Punjab`s biggest criminals.",
         "Shinda tries robbing a bank so he can be wealthy enough to marry the love of his life. He ends up getting caught  but it turns out that he has a much bigger plan in mind  involving one of Punjab's biggest criminals.",
         null,
         "Gippy Grewal|Zareen Khan|",
         null,
         "1 November 2019 (USA)"
        ],
        [
         "1626",
         "Sabse Bada Sukh",
         "tt0069204",
         null,
         "https://en.wikipedia.org/wiki/Sabse_Bada_Sukh",
         "Sabse Bada Sukh",
         "Sabse Bada Sukh",
         "0",
         "2018",
         "\\N",
         "Comedy|Drama",
         "6.1",
         "13",
         "Village born Lalloo re-locates to Bombay  and returns a wealthy man. He goes to meet his friend  Shankar alias Bhompu  and together they meet and share tales  mostly about women  sex  and playboy magazines' pictures. A Bollywood movie director is shooting a film nearby  and they go and meet him and his beautiful actress  Urvashi. After meeting Urvashi  Shankar feigns a racking cough  and tells his family that he must go to Bombay  and seek medical treatment. Together he and Lalloo take the next train to Bombay to see if they can find the biggest happiness in life.",
         "Village born Lalloo re-locates to Bombay  and returns a wealthy man. He goes to meet his friend  Shankar alias Bhompu  and together they meet and share tales  mostly about women  sex  and ...                    ",
         null,
         "Vijay Arora|Asrani|Rajni Bala|Kumud Damle|Utpal Dutt|Meeta Faiyyaz|Rabi Ghosh|Tarun Ghosh|Sanjeev Kumar|Keshto Mukherjee|Meena Rai|",
         null,
         null
        ],
        [
         "1625",
         "Yeh Zindagi Ka Safar",
         "tt0298607",
         "https://upload.wikimedia.org/wikipedia/en/thumb/2/21/Yeh_Zindagi_Ka_Safar.jpg/220px-Yeh_Zindagi_Ka_Safar.jpg",
         "https://en.wikipedia.org/wiki/Yeh_Zindagi_Ka_Safar",
         "Yeh Zindagi Ka Safar",
         "Yeh Zindagi Ka Safar",
         "0",
         "2001",
         "146",
         "Drama",
         "3.0",
         "133",
         "Hindi pop-star  Sarina Devan  lives a wealthy lifestyle with her widowed businessman father  Vivek. She soon achieves considerable success and becomes immensely popular. A struggling newspaper  Adarsh Times  publishes a story about her being born in an orphanage  which is received with shock and surprise by Vivek  and he instructs his lawyers to file a defamation suit against the owner  known as Dada  and a Journalist  Jay Bhardwaj. Dada and Jay are apologetic  however  Sarina finds out that she is not Vivek's biological daughter  and sets forth to find her parentage. She enlists Jay's assistant and they travel to Ooty where they meet with a Catholic Priest  Joseph  who refuses to divulge any information to them. Then she meets with a Nun  Sister Namrata  and subsequently finds out that she is indeed her biological mother. Expecting to be welcomed into her arms  she is shocked when Namrata outright rejects her  and tells her to return to back to her life with Vivek. But Sarina ...",
         "A singer finds out she was adopted when the editor of a struggling tabloid publishes the story.",
         null,
         "Ameesha Patel|Jimmy Sheirgill|Nafisa Ali|Gulshan Grover|Ehsan Khan|",
         null,
         "16 November 2001 (India)"
        ],
        [
         "1624",
         "Tera Mera Saath Rahen",
         "tt0301250",
         "https://upload.wikimedia.org/wikipedia/en/2/2b/Tera_Mera_Saath_Rahen.jpg",
         "https://en.wikipedia.org/wiki/Tera_Mera_Saath_Rahen",
         "Tera Mera Saath Rahen",
         "Tera Mera Saath Rahen",
         "0",
         "2001",
         "148",
         "Drama",
         "4.9",
         "278",
         "Raj Dixit lives with his younger brother  Rahul  who is disabled  both mentally and physically  from birth. Raj is also employed full-time  and after work  has the responsibility of looking after Rahul  which leaves him no time for himself. His beautiful neighbor  Suman Gupta  is attracted to him  but he regards her as a friend only. When Mr. Khanna introduces him to his niece  Madhuri  both instantly falls in love. The only problem is that Madhuri will only marry Raj  if Rahul is institutionalized. Raj agrees to get him admitted in a facility  much to Madhuri's delight  and together they start to plan their marriage  not realizing that things are going to take a turn for the worse.",
         "A man is torn between his handicapped brother and his ladylove  where he finds difficult whom to choose.",
         null,
         "Ajay Devgn|Sonali Bendre|Namrata Shirodkar|Prem Chopra|Hemu Adhikari|Jayant Sawarkar|Shubhangi Damle|Nilesh Diwekar|Atul Kale|Abhijeet Satam|Daman Baggan|Mangesh Satpute|Shilpa Chauhan|Nirmal Soni|",
         null,
         "7 November 2001 (India)"
        ],
        [
         "1623",
         "Zubeidaa",
         "tt0255713",
         "https://upload.wikimedia.org/wikipedia/en/thumb/f/fc/Zubeidaa_poster.jpg/220px-Zubeidaa_poster.jpg",
         "https://en.wikipedia.org/wiki/Zubeidaa",
         "Zubeidaa",
         "Zubeidaa",
         "0",
         "2001",
         "153",
         "Biography|Drama|History",
         "6.2",
         "1384",
         "The film begins with Riyaz (Rajat Kapoor)  Zubeida's son setting out to research her life  and to meet the people who knew her. The story is thus told in the form of memories/reminiscences. Zubeida is a Muslim actress  who's career aspirations are thwarted by her film-producer father (Puri) who looks down upon a woman in acting. He arranges her marriage to her friend's son  but that breaks up after the birth of her son. Zubeida is now back at her parent's home  sad and depressed. Rose (Lilette Dubey) her father's mistress tries to cheer-up Zubeida by taking her out. On one of these outings  Zubeida meets Prince Vijayendra (Victor) Singh of Fatehpur (Bajpai). Quite taken with her  the Prince woos and marries her. Zubeida  now the 2nd wife of a Hindu prince  leaves her son behind with her mother (Sikri) and comes to live at Fatehpur. Here she meets the much older Mandira Devi (Rekha) the Prince's first wife  learns about the etiquette of being a Rani  and of the duties her husband has ...",
         "Zubeidaa  an aspiring Muslim actress  marries a Hindu prince to become his second wife. Her tumultuous relationship with her husband  and her inner demons lead her to a decision which has fatal consequences for them all.",
         "The Story of a Princess",
         "Karisma Kapoor|Rekha|Manoj Bajpayee|Rajit Kapoor|Surekha Sikri|Amrish Puri|Farida Jalal|Shakti Kapoor|Lillete Dubey|Ravi Jhankal|Smriti Mishra|S.M. Zaheer|Harish Patel|Seema Bhargava|",
         "3 wins & 13 nominations",
         "19 January 2001 (India)"
        ],
        [
         "1622",
         "Yeh Teraa Ghar Yeh Meraa Ghar",
         "tt0298606",
         "https://upload.wikimedia.org/wikipedia/en/thumb/9/9f/Yeh_Teraa_Ghar_Yeh_Meraa_Ghar_2001_film_poster.jpg/220px-Yeh_Teraa_Ghar_Yeh_Meraa_Ghar_2001_film_poster.jpg",
         "https://en.wikipedia.org/wiki/Yeh_Teraa_Ghar_Yeh_Meraa_Ghar",
         "Yeh Teraa Ghar Yeh Meraa Ghar",
         "Yeh Teraa Ghar Yeh Meraa Ghar",
         "0",
         "2001",
         "175",
         "Comedy|Drama",
         "5.7",
         "704",
         "In debt; Dayashankar Pandey is forced to go to Bombay to ask his tenants to vacate his house as it is his only means of acquiring money to pay off his loans. But the problem is these people refuse to move forcing Dayashankar to take matters into his own hands thus making it more difficult for the people to move as situations are in there favors.",
         "In debt; Dayashankar Pandey is forced to go to Bombay to ask his tenants to vacate his house as it is his only means of acquiring money to pay off his loans. But the problem is these people...                    ",
         null,
         "Sunil Shetty|Mahima Chaudhry|Paresh Rawal|Saurabh Shukla|Anjan Srivastav|Suhasini Mulay|Asrani|Master Aditi|Radhika Menon|Usha Nadkarni|Nagma|Sanjay Narvekar|Neeraj Vora|",
         "1 nomination",
         "12 October 2001 (India)"
        ],
        [
         "1621",
         "Tum Bin",
         "tt0290326",
         "https://upload.wikimedia.org/wikipedia/en/thumb/1/16/TumBinFilmPoster.jpg/220px-TumBinFilmPoster.jpg",
         "https://en.wikipedia.org/wiki/Tum_Bin",
         "Tum Bin...: Love Will Find a Way",
         "Tum Bin...: Love Will Find a Way",
         "0",
         "2001",
         "158",
         "Drama|Romance",
         "7.5",
         "2879",
         "Shekar and Amar meet at a party where Amar asks Shekar that he should come and work with him in Canada same night Amar accidentally gets killed after he is hit by Shekar 's car Inspector Dmello swears that he won't close the case until he catches the killer Shekar goes to Amar 's house in Canada and confesses his father about Amar 's death but finds that his father has lost all his body senses after Amar 's death he meets Pia  Amar's fiance whose also in depression and trying to save Amar's company Shah Industries Shekar and Pia start working with each other and Shekar falls in love with Pia they both bring Shah Industries back on track and meet Abhi for future business same time Abhi falls in love with Pia Pia also starts liking Shekar but decides to choose Abhi  Inspector Dmello comes from India to arrest Shekar Shekar tells Pia that Amar died after he hit his car while confessing all this on phone to Pia a speeding car knocks Shekar following which he is admitted in hospital Amar's...",
         "Shekhar accidentally kills his associate Amar  and decides to watch over Amar's company and take care of his family and friends. However  he falls in love with Amar's fiancé Piya.",
         "Love will find a way",
         "Priyanshu Chatterjee|Himanshu Malik|Sandali Sinha|Raqesh Bapat|Vikram Gokhale|Rajesh Khera|Navneet Nishan|",
         "6 nominations",
         "13 July 2001 (India)"
        ],
        [
         "1620",
         "Yeh Raaste Hain Pyaar Ke",
         "tt0292740",
         "https://upload.wikimedia.org/wikipedia/en/thumb/3/3f/Yehraaste.jpg/220px-Yehraaste.jpg",
         "https://en.wikipedia.org/wiki/Yeh_Raaste_Hain_Pyaar_Ke",
         "Yeh Raaste Hain Pyaar Ke",
         "Yeh Raaste Hain Pyaar Ke",
         "0",
         "2001",
         "149",
         "Drama|Romance",
         "4.0",
         "607",
         "Two con artistes and car thieves  Vicky (Ajay Devgan) and Sakshi (Preity Zintar) run afoul of Bhanwarlal (Deep Dhillon) and his mob  when they accidentally kill his brother. Bhanwarlal and his other brother (Mayur) both swear to avenge the death of their brother and mistakenly kill Rohit Verma (also Ajay Devgan)  who is a look-alike of Vicky. Sakshi thinks that her love is dead and is devastated. Unknown to Sakshi and Bhanwarlal  Vicky is still alive and has taken the place of Rohit  fooling Rohit's dad  Pratap Verma (Vikram Gokhale); Rohit's wife  Neha (Madhuri Dixit)  little knowing that Pratap Verma already knows that Rohit is dead  but for some strange and mysterious reason permits Vicky to continue with the impersonation.",
         "Two con artistes and car thieves  Vicky (Ajay Devgan) and Sakshi (Preity Zintar) run afoul of Bhanwarlal (Deep Dhillon) and his mob  when they accidentally kill his brother. Bhanwarlal and ...                    ",
         "Love is a journey... not a destination",
         "Ajay Devgn|Madhuri Dixit|Preity Zinta|Vikram Gokhale|Deep Dhillon|Smita Jaykar|Sunny Deol|Kiran Kumar|Rajeev Verma|Jayshree T.|Asha Sharma|Lalit Tiwari|Shammi|Mayur Verma|",
         null,
         "10 August 2001 (India)"
        ],
        [
         "1619",
         "Pyaar Zindagi Hai",
         "tt0847758",
         "https://upload.wikimedia.org/wikipedia/en/5/5e/Pyaar_Zindagi_Hai_%282001%29.jpg",
         "https://en.wikipedia.org/wiki/Pyaar_Zindagi_Hai",
         "Pyaar Zindagi Hai",
         "Pyaar Zindagi Hai",
         "0",
         "2001",
         "157",
         "Drama|Romance|Thriller",
         "6.6",
         "39",
         "After the marriage of his daughter  Geeta  with army Major Pratap Singh  widower Hridaynath lives a simple middle-class existence with his unmarried daughter  Priya  in Dehra Dun. Geeta  Pratap and their new-born son  Munna  pay them a visit and live with them for a few days. They find out that Hridaynath is under constant threat from a loan shark he had borrowed money from to get Geeta married. Shortly after that Geeta and Pratap leave back home for Ranikhet  and it then that Hridaynath finds out that his loan has been repaid and that they also have a telephone now - thanks to Pratap. Quite unknown to Hridaynath  Pratap has set his eyes on Priya and wants her for himself  so much so that he is willing to kill Geeta and get re-married to Priya on the pretext that Munna needs looking after. So to get the ball rolling  he kills Geeta  informs her dad and sister that she has died of a heart attack  and convinces them to leave Dehra Dun and live with him in Ranikhet. This is where he ...",
         "After the marriage of his daughter  Geeta  with army Major Pratap Singh  widower Hridaynath lives a simple middle-class existence with his unmarried daughter  Priya  in Dehra Dun. Geeta  ...                    ",
         null,
         "Rajesh Khanna|Vikas Kalantri|Ashima Bhalla|Asawari Joshi|Upasna Singh|Mohnish Bahl|Shahbaaz Khan|",
         null,
         "7 September 2001 (India)"
        ],
        [
         "1618",
         "Rahul (film)",
         "tt0277981",
         "https://upload.wikimedia.org/wikipedia/en/f/f8/Rahul_2001_film.jpg",
         "https://en.wikipedia.org/wiki/Rahul_(film)",
         "Rahul",
         "Rahul",
         "0",
         "2001",
         "151",
         "Drama",
         "5.5",
         "219",
         "Mira (Neha) comes from a very wealthy family  however  she wants to get married to Akash Sharma (Jatin Grewal)  who is not so wealthy. Against the wishes of her mother and brother  Mira gets married to Akash. The bad memories are left behind when Mira's family finally \"forgives\" them  at the birth of baby-boy  Rahul (Yash Pathak). With the family with such a acrimonious past  coming together  their marriage deteriorates  to such an extent that they have to involve the police and the courts for purposes of custody. The only obstacle coming between the couple from getting married again to different people are marred by Rahul  who is unable to accept his parents' divorce.",
         "Mira and Akash gets married despite against family wishes  but their happiness does not last long after the birth of their child Rahul.",
         null,
         "Neha|Rajeshwari Sachdev|Gulshan Grover|Nina Kulkarni|Parikshat Sahni|Mahesh Thakur|Manish Wadhwa|Tanvi Hegde|Isha Koppikar|Jatin Grewal|Yash Pathak|Meghna Tiwari|Anil Nagrath|Umaji Rane|",
         null,
         "23 March 2001 (India)"
        ],
        [
         "1617",
         "Officer (2001 film)",
         "tt0265452",
         null,
         "https://en.wikipedia.org/wiki/Officer_(2001_film)",
         "Officer",
         "Officer",
         "0",
         "2001",
         "\\N",
         "Action|Crime|Drama",
         "5.3",
         "97",
         "SPU unit officer Sagar Chauhan is assigned with the task of looking over Meenal Patel the mentally imbalance wife of multi-millionaire businessman Pratap Rai. When Meenal dramatizes her death; Sagar begins investigations and comes to realize that he is merely used as a poppet in the hands of some influential people who wants to divert his attention elsewhere so that they can carry on with their unlawful activities at ease.",
         "SPU unit officer Sagar Chauhan is assigned with the task of looking over Meenal Patel the mentally imbalance wife of multi-millionaire businessman Pratap Rai. When Meenal dramatizes her ...                    ",
         null,
         "Sunil Shetty|Raveena Tandon|Danny Denzongpa|",
         null,
         "14 March 2001 (Kuwait)"
        ],
        [
         "1616",
         "Rehnaa Hai Terre Dil Mein",
         "tt0299108",
         "https://upload.wikimedia.org/wikipedia/en/thumb/b/b3/RHTDM.jpg/220px-RHTDM.jpg",
         "https://en.wikipedia.org/wiki/Rehnaa_Hai_Terre_Dil_Mein",
         "Rehnaa Hai Terre Dil Mein",
         "Rehnaa Hai Terre Dil Mein",
         "0",
         "2001",
         "160",
         "Musical|Romance",
         "7.5",
         "6232",
         "Madhav (Maddy) has love at first site with Reena.He finds from her friend Shruti that she is to be married to Rajiv an NRI.Maddy with the help of his friends importers as Rajiv and woes Reena and both fall in love.When the real Rajiv arrives Reena gets a shock that Maddy was posing as his impostor.When Rajiv and Maddy comes face to face they Maddy realizes that Rajiv is his college rival and war continues.",
         "A young girl is torn between an obsessive lover and a mild-mannered suitor.",
         null,
         "Madhavan|Saif Ali Khan|Dia Mirza|Vrajesh Hirjee|Tanaaz Currim Irani|Anupam Kher|Navin Nischol|Smita Jaykar|Hemant Pandey|Kabir Sadana|Reshma Modi|Maya Alagh|",
         "2 wins & 4 nominations",
         "19 October 2001 (India)"
        ],
        [
         "1615",
         "Style (2001 film)",
         "tt0306855",
         "https://upload.wikimedia.org/wikipedia/en/thumb/6/6c/Style_%282001_film%29.jpg/220px-Style_%282001_film%29.jpg",
         "https://en.wikipedia.org/wiki/Style_(2001_film)",
         "Style",
         "Style",
         "0",
         "2001",
         "157",
         "Comedy|Musical|Mystery",
         "6.7",
         "1607",
         "Bantu and Chantu are two close friends and fellow collegians in an Arts & Science College in Bombay  India. Both are up to no good practical pranks and jokes  including conning their college-mates for money. Both prove that they can do anything for money and an easy lifestyle. In order to continue living a easy and comfortable lifestyle  both decide to marry wealthy girls  namely Rani and Sheena. In order to get close to them they steal identities from two females  Rose Mary Marlowe and Reshma Chowdhury  disguise themselves as females  get admitted in a Girls' hostel and start their romance with their future-brides. But fate has other plans for these two pals  as the women they are impersonating have been killed just a day after the duo assumed their identities. Their plans dashed to the ground  the hapless duo must now find a way out of this mess - that is before the police catch up to them.",
         "In an attempt to woo the rich women  two prankster-loving men becomes prime suspects of a murder of a woman.",
         null,
         "Sharman Joshi|Sahil Khan|Riya Sen|Shilpi Sharma|Tara Deshpande|",
         null,
         "28 December 2001 (India)"
        ],
        [
         "1614",
         "Moksha (2001 film)",
         "tt0301240",
         "https://upload.wikimedia.org/wikipedia/en/6/6e/Moksha_Salvation_2001_film_poster.jpg",
         "https://en.wikipedia.org/wiki/Moksha_(2001_film)",
         "Moksha: Salvation",
         "Moksha: Salvation",
         "0",
         "2001",
         "150",
         "Drama|Thriller",
         "6.3",
         "356",
         "Appalled at the manner lawyers treat less affluent people  Vikram Saigal decides to do something for the poor  who have a legal cause of action  but are unable to afford a lawyer. He discusses this with his girlfriend  Rithika Sanyal  and together they come up with several ideas to raise money to create an organization to help the poor get legal aid at no or reasonable cost. When this plan fails  Vikram decides to rob a bank  but Rithika does not support him  and they split up. And then Rithika is killed and the police charge Vikram with her murder  relying on considerable evidence and witnesses that will go to show that Vikram did indeed commit this crime.",
         "An idealistic lawyer wants to help the poor get justice  but lacks finance  so plans to rob a bank  alongside his love interest. His black n white emotional nature  leads to an unforgivable deed  which he severely repents.",
         null,
         "Arjun Rampal|Manisha Koirala|Kalpana Pandit|Suresh Oberoi|Kamal Chopra|Pawan Chopra|Farida Jalal|Sushma Seth|Sulabha Deshpande|Shubhangi Gokhale|Danny Denzongpa|Naseeruddin Shah|Kiran Kumar|Gulshan Grover|",
         "3 wins & 2 nominations",
         "30 November 2001 (India)"
        ],
        [
         "1613",
         "Paagalpan",
         "tt0285319",
         "https://upload.wikimedia.org/wikipedia/en/thumb/9/90/Paagalpan_poster.jpg/220px-Paagalpan_poster.jpg",
         "https://en.wikipedia.org/wiki/Paagalpan",
         "Paagalpan",
         "Paagalpan",
         "0",
         "2001",
         "146",
         "Romance",
         "6.6",
         "39",
         "Young and attractive Roma Pinto is the only girl in the struggling Pinto family  consisting of five brothers  with assorted careers. They are very protective and affectionate towards her  and will not any woo her without their express permission. When Sameer Malhotra enters Roma's life  both fall in love  and decide to get married. The problem is Sameer's father is a wealthy industrialist  who will never permit his son to get married to a poor girl like Roma. And Roma's brothers do not approve of Sameer and will not permit him under any circumstances to get close to Roma  and will go to the extent of killing anyone who gets in their way.",
         "Young and attractive Roma Pinto is the only girl in the struggling Pinto family  consisting of five brothers  with assorted careers. They are very protective and affectionate towards her  ...                    ",
         null,
         "Karan Nath|Aarti Agarwal|Vilas Ujawane|Bharat Dabholkar|Joy Fernandes|Farhan Khan|Harvey Rosemeyer|Talat Rekhi|Sambhavna Sheth|Prema Kiran|Premendra Sharma|Bakul Thakker|Raj Nair|Iqbal Dosani|",
         null,
         "8 June 2001 (India)"
        ],
        [
         "1612",
         "Pyaar Tune Kya Kiya",
         "tt0281102",
         "https://upload.wikimedia.org/wikipedia/en/thumb/3/3b/Pyaar_Tune_Kya_Kiya.jpg/220px-Pyaar_Tune_Kya_Kiya.jpg",
         "https://en.wikipedia.org/wiki/Pyaar_Tune_Kya_Kiya",
         "Pyaar Tune Kya Kiya...",
         "Pyaar Tune Kya Kiya...",
         "0",
         "2001",
         "123",
         "Romance|Thriller",
         "5.7",
         "719",
         "Ria Jaiswal lives a very wealthy lifestyle along with her mom and dad. As she is the only child in this family  her parents dot on her and give in to her every wish. As a child she saw a toy on TV and asked her dad to get it. When he told her that he was unable to do  she stopped speaking and eating - until her dad somehow managed to get the toy from America. Subsequently  Ria's mom passed away. Years later  Ria has now grown up to be a very attractive young woman. She meets with Jai  a photographer from Style Magazine  she models and is very attracted to him. She tells her dad that she wants to get married and goes to Jai's house to get him to meet her dad. When she reaches his house in Lokhandwala Complex  she finds out that he is already married to a woman named Geeta  and very much in love with her. A betrayed Ria  unable to get Jai out of her mind  obsesses over him - and decides that he and she are meant for each other - and sets about to carry her task - to force Jai to accept ...",
         "A obsessive woman determines to do what it takes to get her lover - at any cost.",
         null,
         "Fardeen Khan|",
         "8 nominations",
         "27 April 2001 (India)"
        ],
        [
         "1611",
         "Pyaar Ishq Aur Mohabbat",
         "tt0285958",
         "https://upload.wikimedia.org/wikipedia/en/thumb/a/ab/Pyaar_Ishq_Aur_Mohabbat.jpg/220px-Pyaar_Ishq_Aur_Mohabbat.jpg",
         "https://en.wikipedia.org/wiki/Pyaar_Ishq_Aur_Mohabbat",
         "Pyaar Ishq Aur Mohabbat",
         "Pyaar Ishq Aur Mohabbat",
         "0",
         "2001",
         "\\N",
         "Drama|Musical|Romance",
         "4.0",
         "528",
         "Young and beautiful Isha Nair has three admirers - Yash Sabharwal  Gaurav Saxena and Taj Bharadwaj; all of them comes from affluent backgrounds and are willing to go to any length in order to attain her love but it is up to Isha to choose her prospective life-partner.",
         "Young and beautiful Isha Nair has three admirers - Yash Sabharwal  Gaurav Saxena and Taj Bharadwaj; all of them comes from affluent backgrounds and are willing to go to any length in order ...                    ",
         null,
         "Arjun Rampal|Kirti Reddy|Sunil Shetty|Aftab Shivdasani|Monica Bedi|Isha Koppikar|Raza Murad|Harish Patel|Dalip Tahil|Smita Jaykar|Priya Tendulkar|Anjan Srivastav|Ashwani Chopra|Denzil Smith|",
         "1 win",
         "26 September 2001 (Kuwait)"
        ],
        [
         "1610",
         "Love Ke Liye Kuch Bhi Karega",
         "tt0287537",
         "https://upload.wikimedia.org/wikipedia/en/e/e0/Love_Ke_Liye_Kuch_Bhi_Karega.jpg",
         "https://en.wikipedia.org/wiki/Love_Ke_Liye_Kuchh_Bhi_Karega",
         "Love Ke Liye Kuch Bhi Karega",
         "Love Ke Liye Kuch Bhi Karega",
         "0",
         "2001",
         "131",
         "Comedy|Crime|Romance",
         "6.0",
         "1409",
         "Prakash (Saif Ali Khan) is a handsome gold digger who thinks he has made it when he woos and subsequently marries Sapna (Sonali Bendre)   only daughter of a rich businessman Mr. Chopra (Dalip Tahil) . However his euphoria is short-lived when he learns that his father-in-law disapproves of him immensely and won't let him make his mark in the business . Finally   Prakash asks Mr.Chopra for some money to start a business of his own but Mr. Chopra refuses . One night   two masked men try to rob Prakash and he places a plan before the duo : they will kidnap Sapna and demand ransom from Mr. Chopra   which will be equally shared between Prakash and the two kidnappers - Rahul (Fardeen Khan) and Harry (Aftab Shivdasani) . Rahul and Harry have a little secret of their own : they are not professional criminals as they pretend to be . Rahul is an unemployed graduate   while Harry is a loafer . Rahul is in love with his landlord's daughter Anjali (Twinkle Khanna) and needs the money to convince ...",
         "Desperate for money  three men (Saif Ali Khan  Fardeen Khan) plot to kidnap a woman (Sonali Bendre) and hold her for ransom.",
         null,
         "Saif Ali Khan|Fardeen Khan|Aftab Shivdasani|Sonali Bendre|Twinkle Khanna|Johnny Lever|Dalip Tahil|Sharat Saxena|Snehal Dabi|Suresh Bhagwat|Tanikella Bharani|Shubha|Shri Vallabh Vyas|Haidar Ali|",
         "1 win",
         "29 June 2001 (UK)"
        ],
        [
         "1609",
         "Kyo Kii... Main Jhuth Nahin Bolta",
         "tt0297241",
         "https://upload.wikimedia.org/wikipedia/en/thumb/5/5d/Kyo_Kii..._Main_Jhuth_Nahin_Bolta.jpg/220px-Kyo_Kii..._Main_Jhuth_Nahin_Bolta.jpg",
         "https://en.wikipedia.org/wiki/Kyo_Kii_Main_Jhuth_Nahin_Bolta",
         "Because I Don't Lie",
         "Kyo Kii... Main Jhuth Nahin Bolta",
         "0",
         "2001",
         "131",
         "Comedy|Fantasy",
         "5.3",
         "1696",
         "Inspired from the movie \"Liar Liar\"  this movie is about a lawyer (Govinda) who lies his way through marriage and career. His wife (Sushmita Sen) falls in love with him because of his honesty and when she finds out of his dishonesty she threatens to divorce him. Their son  to avoid the divorce  wishes on a shooting star that his father should lose the ability to lie. What happens after that is an enjoyable journey.",
         "Inspired from the movie \"Liar Liar\"  this movie is about a lawyer (Govinda) who lies his way through marriage and career. His wife (Sushmita Sen) falls in love with him because of his ...                    ",
         null,
         "Govinda|Sushmita Sen|Rambha|Anupam Kher|Satish Kaushik|Sharad S. Kapoor|Kiran Kumar|Mohnish Bahl|Ashish Vidyarthi|Shahbaaz Khan|Razak Khan|Jibraan Khan|Ananth Narayan Mahadevan|Jaya Bhattacharya|",
         "1 nomination",
         "21 September 2001 (India)"
        ],
        [
         "1608",
         "One 2 Ka 4",
         "tt0227194",
         "https://upload.wikimedia.org/wikipedia/en/thumb/b/bb/One_2_Ka_4.jpg/220px-One_2_Ka_4.jpg",
         "https://en.wikipedia.org/wiki/One_2_Ka_4",
         "One 2 Ka 4",
         "One 2 Ka 4",
         "0",
         "2001",
         "169",
         "Action|Comedy|Crime",
         "5.4",
         "4484",
         "Javed Abbas (Jackie Shroff) is a widowed police officer with four children. His partner is Arun Verma (Shahrukh Khan). Both Javed and Arun are honest  hard-working and diligent. This leads to the \"death\" of Javed in mysterious circumstances. After Javed's death  Arun takes over the responsibility of looking after his four children. He runs into several problems and decides to seek the help of Geeta Choudhary (Juhi Chawla)  who readily agrees and moves in with him and the four children. The children take an instant liking to Geeta and things seem to settle down. One day Arun finds out that his former partner's death was really a homicide. When he attempts to investigate  charges of drug-trafficking and bribery are brought out against him. He also finds out that Geeta is not what she claims to be.",
         "When a cop's partner is killed in the line of duty  he assumed guardianship of his orphaned children while investigating the murder.",
         null,
         "Shah Rukh Khan|Juhi Chawla|Jackie Shroff|Nirmal Pandey|Dilip Joshi|",
         null,
         "30 March 2001 (India)"
        ],
        [
         "1607",
         "Nayak (2001 Hindi film)",
         "tt0291376",
         "https://upload.wikimedia.org/wikipedia/en/thumb/e/e8/Nayak_poster.jpg/220px-Nayak_poster.jpg",
         "https://en.wikipedia.org/wiki/Nayak_(2001_Hindi_film)",
         "Nayak: The Real Hero",
         "Nayak: The Real Hero",
         "0",
         "2001",
         "187",
         "Action|Drama|Thriller",
         "7.8",
         "12522",
         "Employed as a camera-man at a popular television station QTV; Shivaji Rao Gaekwad work his way up and is eventually promoted as a reporter. One of his job involve interviewing the Chief Minister Balraj Chauhan. During the course of the interview he brings to light the true facts of Chauhan to the general public. Agrivated at this Chauhan decides that he will challenge him to become the Chief Minister for a day which he accepts. During his tenure Shivaji attempts to make the wrong right by punishing dishonest people while at the same time ensure that the masses get what they aspire for. But when his life return to normal he will find that nothing is the same anymore as he and his loved ones are made targets by Chauhan's goons this pushes Shivaji to enter politics and eventually elect as the Chief Minister - a Chief Minister who wants to continue the remaining of his day's work.",
         "A man accepts a challenge by the chief minister of Maharashtra to run the state for one day  and makes such a success of it that soon he is embroiled in political intrigue.",
         "Fight the power",
         "Anil Kapoor|Rani Mukerji|Amrish Puri|Johnny Lever|Pooja Batra|Sushmita Sen|",
         "2 nominations",
         "7 September 2001 (India)"
        ],
        [
         "1606",
         "Hadh: Life on the Edge of Death",
         "tt0396044",
         null,
         "https://en.wikipedia.org/wiki/Hadh:_Life_on_the_Edge_of_Death",
         "Hadh: Life on the Edge of Death",
         "Hadh: Life on the Edge of Death",
         "0",
         "2001",
         "\\N",
         "Action|Crime|Drama",
         "4.5",
         "11",
         "Abandoned by his biological mother  nicknamed Harami  he comes in contact with Hajibaba  who offers to take care of him and gives him the respectable name of Vishwa. Hajibaba runs an impromptu orphanage  amongst his children are Dalal  Dalal's brother Chotey  and Shiva. When these young men grow up they are friends  however  since Hajibaba openly favors Vishwa over the others  this angers Dalal and his brother. Dalal kills Hajibaba and frames Vishwa  who is arrested  tried in court  found guilty and sentenced to five years in prison. He comes out of prison an embittered man  out to avenge the death of Hajibaba and his prison term. He will go to any lengths  and will not hesitate to sacrifice everything and everyone - including his wife  Shiva  as well his very own child.",
         "Abandoned by his biological mother  nicknamed Harami  he comes in contact with Hajibaba  who offers to take care of him and gives him the respectable name of Vishwa. Hajibaba runs an ...                    ",
         null,
         "Somesh Agarwal|Shama Deshpande|Vikram Gokhale|Ayesha Jhulka|Sharad S. Kapoor|Kiran Kumar|Suman Ranganath|Tej Sapru|",
         null,
         null
        ],
        [
         "1605",
         "Mujhe Kucch Kehna Hai",
         "tt0284328",
         "https://upload.wikimedia.org/wikipedia/en/thumb/b/ba/Mujhe_Kuch_Kehna_Hai.jpg/220px-Mujhe_Kuch_Kehna_Hai.jpg",
         "https://en.wikipedia.org/wiki/Mujhe_Kucch_Kehna_Hai",
         "Mujhe Kucch Kehna Hai",
         "Mujhe Kucch Kehna Hai",
         "0",
         "2001",
         "135",
         "Drama|Romance",
         "5.1",
         "1013",
         "Karan who is weak in his studies but good at music and masti which always results in fighting with his father  but his life changes when he sees the girl of his dreams. Everywhere he sees her he follows her but one day he goes out of town to find her but couldn't. Later his father sents him to another city but his car breaks down and takes lift and finds it's the same girl whos name is Pooja. During the drive a truck comes and hits the cars which falls in a valley but Karan and Pooja are on the cliff but after saving Pooja his hands slip and falls down. After gaining conscious Pooja realizes it was her fault that Karan died and searches for his body  but he found by a man and is taken to a hospital. He is then reunited with his family  and goes off to search for Pooja. She finds him first and they start a friendship. Later he gets close to her but finds she is going to America for studies but confesses that he loves her and she also loves him and when she comes back they will get ...",
         "Karan  a small time musician  tries to win over a girl named Pooja.",
         null,
         "Tusshar Kapoor|Kareena Kapoor|Amrish Puri|Rinke Khanna|Dalip Tahil|Himani Shivpuri|Alok Nath|Vrajesh Hirjee|",
         "1 win & 7 nominations",
         "25 May 2001 (India)"
        ],
        [
         "1604",
         "Mujhe Meri Biwi Se Bachaao",
         "tt0272735",
         "https://upload.wikimedia.org/wikipedia/en/f/f8/Meri_biwi.jpg",
         "https://en.wikipedia.org/wiki/Mujhe_Meri_Biwi_Se_Bachaao",
         "Mujhe Meri Biwi Se Bachaao",
         "Mujhe Meri Biwi Se Bachaao",
         "0",
         "2001",
         "\\N",
         "Comedy|Crime|Family",
         "4.3",
         "85",
         "Anand Mathur comes from a middle-class background  but has always dreamed of living in luxury. His dreams take form when he meets with the only daughter  Kamini  of an aging and sick multi-millionaire. Kamini who is grossly overweight  approves of him  and soon both get married. Anand assists Kamini and her dad run their vaste business and soon becomes indispensable. When Kamini's dad passes away  Anand hopes that he may have received a fair amount of money in the last will and testament. Alas  that was not to be so  for dad had left everything in Kamini's name. Anand is dismayed  but hides it. He meets with an attractive young woman  Anuradha  and decides to make her his mistress. Anuradha likes expensive gifts and presents  so Anand sets out to make arrangements for money  by hook or by crook - with hilarious results.",
         "Anand Mathur comes from a middle-class background  but has always dreamed of living in luxury. His dreams take form when he meets with the only daughter  Kamini  of an aging and sick ...                    ",
         null,
         "Rekha|Naseeruddin Shah|Arshad Warsi|Suman Ranganath|",
         null,
         "18 June 2001 (India)"
        ],
        [
         "1603",
         "Mitti (2001 film)",
         "tt0446159",
         null,
         "https://en.wikipedia.org/wiki/Mitti_(2001_film)",
         "Mitti",
         "Mitti",
         "0",
         "2001",
         "155",
         "Action|Crime|Thriller",
         "6.0",
         "20",
         "Ganga is sexually molested  assaulted  tortured and killed by a goon employed by Pagla Jaan  a Kolkata-based notorious gangster  whose wealth  power  and influence are beyond imagination. Deva undertakes to locate the killer  succeeds in his mission and beheads him publicly. Deva does not know that soon his friends' and family's lives will be endangered  and he  himself  will be hunted down - not only by an enraged Pagla Jaan and his army of goons - but also by the Police.",
         "Ganga is sexually molested  assaulted  tortured and killed by a goon employed by Pagla Jaan  a Kolkata-based notorious gangster  whose wealth  power  and influence are beyond imagination. ...                    ",
         null,
         "Ferdous Ahmed|Sharbani Mukherji|Rani Rajkumar|Arif Zakaria|Raju Mavani|Meghna Sane|Ragini Sinha|Ravish Dobani|Mohd. Zahiruddin|Md. Ansari|Sitaram|Pravin Patel|Kiku Sharda|Ravindra Kangura|",
         null,
         "26 October 2001 (India)"
        ],
        [
         "1602",
         "Ittefaq (2001 film)",
         "tt0297983",
         null,
         "https://en.wikipedia.org/wiki/Ittefaq_(2001_film)",
         "Ittefaq",
         "Ittefaq",
         "0",
         "2001",
         "138",
         "Action|Comedy|Drama",
         "4.6",
         "67",
         "Shiva (Sunil Shetty) is a professional hit man. Shiva accepts a contract from Jindal (Mohan Joshi) to kill Vikram (Mukul Dev). Circumstances force Shiva to come to know Mukul first  and instead of killing him  he becomes his bodyguard and protects him against Jindal and his men. Soon Shiva  Mukul  and Mukul's girlfriend Roshni Hiranandani (Pooja Batra) are on the run from Jindal's men. Jindal makes it clear that he will not rest until he sees the dead bodies of all the three. How long will they survive Jindal? Did Shiva really change his mind or is this his strategy to bring Mukul alive to Jindal?",
         "Shiva (Sunil Shetty) is a professional hit man. Shiva accepts a contract from Jindal (Mohan Joshi) to kill Vikram (Mukul Dev). Circumstances force Shiva to come to know Mukul first  and ...                    ",
         null,
         "Sunil Shetty|Mukul Dev|Pooja Batra|Anupama Verma|Tiku Talsania|Shakti Kapoor|Puneet Issar|Mushtaq Khan|Shiva Rindani|Shehzad Khan|Ishrat Ali|Ashok Saraf|Arun Bakshi|Mohan Joshi|",
         null,
         "14 September 2001 (India)"
        ],
        [
         "1601",
         "Maya (2001 film)",
         "tt0299027",
         "https://upload.wikimedia.org/wikipedia/en/thumb/6/61/Maya_%28film%29.jpg/220px-Maya_%28film%29.jpg",
         "https://en.wikipedia.org/wiki/Maya_(2001_film)",
         "Maya",
         "Maya",
         "0",
         "2001",
         "105",
         "Drama",
         "7.0",
         "277",
         "For 12 year-old Maya  life is very simple in her village in rural India. From innocent pranks to small adventures in the nearby forest  she spends most of her time with her 11 year-old cousin Sanjay. However  their fraternal love will be shattered when Sanjay will fail to save her from an imaginary brutal ritual.",
         "MAYA is a coming of age story set against an 'imaginary and unrealistic' brutal practice of ritual rape which never seemed to happen in any part of India.",
         "A child's innocence shattered by unreal tradition.",
         "Anant Nag|Mita Vasisht|Nitya Shetty|Nikhil Yadav|Virendra Saxena|Mukesh Bhatt|Shilpa Navalkar|Shreechand Makhija|",
         "2 wins & 4 nominations",
         "16 January 2002 (Belgium)"
        ],
        [
         "1600",
         "Kasoor",
         "tt0272688",
         "https://upload.wikimedia.org/wikipedia/en/thumb/b/b9/Kasoor_2001.Jpg/220px-Kasoor_2001.Jpg",
         "https://en.wikipedia.org/wiki/Kasoor",
         "Kasoor",
         "Kasoor",
         "0",
         "2001",
         "151",
         "Drama|Mystery|Thriller",
         "6.0",
         "801",
         "Shekar Saxena is arrested and charged with the murder of his wife  Priti Saxena. Shekar strongly contends that he is innocent  and that the murder was committed by someone else. His lawyer  Simran Bhargav  is sympathetic and not only believes him but also successfully defends and gets him acquitted. After his acquittal  she starts having doubts about his innocence  and must protect herself  before she becomes his next victim.",
         "Shekhar appoints Simran  a lawyer with an impeccable record  to represent him as he was accused of murdering his wife and soon she starts falling in love with him. Little she knows that Shekhar has some darker intentions.",
         "A dangerous passion...",
         "Divya Dutta|Sucheta Paushe|Lisa Ray|Apoorva Agnihotri|Aftab Shivdasani|Irrfan Khan|Vishwajeet Pradhan|Ashutosh Rana|Prithvi Zutshi|Chittaranjan Giri|Firdosh Mewawala|Anupam Shyam|Murali|Sushmita Daan|",
         "2 nominations",
         "2 February 2001 (India)"
        ],
        [
         "1599",
         "Kuch Khatti Kuch Meethi",
         "tt0271604",
         "https://upload.wikimedia.org/wikipedia/en/thumb/5/58/Kuch_Khatti_Kuch_Meethi.jpg/220px-Kuch_Khatti_Kuch_Meethi.jpg",
         "https://en.wikipedia.org/wiki/Kuch_Khatti_Kuch_Meethi",
         "Kuch Khatti Kuch Meethi",
         "Kuch Khatti Kuch Meethi",
         "0",
         "2001",
         "120",
         "Comedy|Drama|Family",
         "4.6",
         "574",
         "Here is another Indian that also closely resembles another Hollywood movie. This story revolves around the lives of two look-alike sisters  who are brought up separately by their estranged parents  who had separated due to a misunderstandings when the girls were little. The twins meet  find out about their backgrounds  and decide to switch places. One goes to live with the mother  while the second goes to live with the father. After doing so  they find out that their parents are still in love with each other  and they decide to bring them together and live as one big family. But the father  who believes that his wife was having an affair with another man; while the mother believes that she cannot return as she has been wronged by her husband and his sister. Will the twins succeed?",
         "Here is another Indian that also closely resembles another Hollywood movie. This story revolves around the lives of two look-alike sisters  who are brought up separately by their estranged ...                    ",
         null,
         "Kajol|Rishi Kapoor|Rati Agnihotri|Sunil Shetty|Mita Vasisht|Pramod Moutho|Pooja Batra|Mayur Verma|Dinesh Anand|",
         null,
         "19 January 2001 (India)"
        ],
        [
         "1598",
         "Kasam (2001 film)",
         "tt0317811",
         null,
         "https://en.wikipedia.org/wiki/Kasam_(2001_film)",
         "Kasam",
         "Kasam",
         "0",
         "2001",
         "\\N",
         "Action|Drama",
         "4.4",
         "92",
         "In aid of seeking revenge for his dad's death  against a bandit called Kala Daku  Shankar team up with two men  a police inspector  Mangal and a run away convict  Vijay. Shankar makes his living by driving a truck while Vijay and Mangal masquerade as villagers to surface as saviors to protect the village against Kala's gang. And then Kala and his men abduct Vijay; now Mangal and the entire police force will have to negotiate with Kala to let Vijay off in exchange for the landlord's son.",
         "In aid of seeking revenge for his dad's death  against a bandit called Kala Daku  Shankar team up with two men  a police inspector  Mangal and a run away convict  Vijay. Shankar makes his ...                    ",
         null,
         "Naseeruddin Shah|Sunny Deol|Chunky Pandey|Neelam Kothari|Sonu Walia|Sharat Saxena|Hemant Birje|Ahmed Sharif|Ranjeet|Sadashiv Amrapurkar|Parikshat Sahni|Anjana Mumtaz|Tej Sapru|Ram Mohan|",
         null,
         null
        ],
        [
         "1597",
         "Hum Ho Gaye Aapke",
         "tt0292552",
         "https://upload.wikimedia.org/wikipedia/en/thumb/0/0d/Hum_Ho_Gaye_Aapke_poster2.jpg/220px-Hum_Ho_Gaye_Aapke_poster2.jpg",
         "https://en.wikipedia.org/wiki/Hum_Ho_Gaye_Aapke",
         "Hum Ho Gaye Aap Ke",
         "Hum Ho Gaye Aap Ke",
         "0",
         "2001",
         "168",
         "Drama|Musical|Romance",
         "4.1",
         "362",
         "Wealthy and spoil Rishi Oberoi lives in a spacious bungalow and is the only child in the Oberoi family. He often indulges himself with alcohol and women only to one day come across a young woman named Chandni Gupta who is fascinated by him but Chandni will have nothing to do with him due to his lifestyle and is instead attracted to Mohan Sachdev; who is employed as a typist in Rishi's business empire. Unfortunately Chandni is unable to marry Mohan because of financial crises between both parties respective families resulting in Chandni taking up resident with Rishi. Slowly by slowly Rishi and Chandni makes the necessary adjustments to their lives resulting in both falling in love which is met with terrible shortcoming when Rishi's dad object to the couple's marriage.",
         "A playboy mends his reckless ways and learns the meaning of true love  in his efforts to win his ladylove.",
         "Love Speaks the Language known to the heart",
         "Fardeen Khan|Reema Sen|Apoorva Agnihotri|Suman Ranganath|Sadashiv Amrapurkar|Suresh Oberoi|Mahesh Thakur|Ananth Narayan Mahadevan|Shammi|Achyut Potdar|Suhas Joshi|Kinjal Joshi|Nina Kulkarni|Meghna|",
         null,
         "3 August 2001 (India)"
        ],
        [
         "1596",
         "Jodi No.1",
         "tt0278522",
         "https://upload.wikimedia.org/wikipedia/en/thumb/9/9e/JodiNo.1.jpg/220px-JodiNo.1.jpg",
         "https://en.wikipedia.org/wiki/Jodi_No.1",
         "Jodi No.1",
         "Jodi No.1",
         "0",
         "2001",
         "140",
         "Comedy|Romance",
         "5.8",
         "1988",
         "Rai Bahadur lives a wealthy lifestyle in Panjim  Goa  along with three brothers  Raman  Kamal  and Ashok along with their respective wives and children. He also has a sister  Shanno  and a daughter  Rinki  who is of marriageable age. Since his business is not doing too well  he asks his US-based friend  Ranjit  for assistance. In response  Ranjit sends his son  Vikramjit  to assist Rai. Vikramjit arrives at the Rai household along with his Secretary and close friend  Veeru  and soon both get involved in assisting the Rai business get back on it's feet. What Rai does not know is that Vikramjit & Veeru are not who they claim to be  but are actually Jai and Veeru  wanted by the Bombay Police and are on India's Most Wanted Criminals. Watch what happens when their photos are telecast on National TV  and the impact this has on the entire Rai clan.",
         "Rai Bahadur lives a wealthy lifestyle in Panjim  Goa  along with three brothers  Raman  Kamal  and Ashok along with their respective wives and children. He also has a sister  Shanno  and a ...                    ",
         null,
         "Sanjay Dutt|Govinda|Twinkle Khanna|Monica Bedi|Anupam Kher|Ashish Vidyarthi|Mukesh Rishi|Sayaji Shinde|Shakti Kapoor|Hans Raj Hans|Supriya Karnik|Pooja Batra|Rajat Bedi|Aashif Sheikh|",
         "1 win & 1 nomination",
         "13 April 2001 (India)"
        ],
        [
         "1595",
         "Dattak",
         "tt0284999",
         null,
         "https://en.wikipedia.org/wiki/Dattak",
         "Dattak",
         "Dattak",
         "0",
         "2001",
         "125",
         "Drama",
         "7.5",
         "54",
         "Sunil is an NRI married to an American girl. His father lives in Kolkata with an old servant Shambhu. When Sunil returns home after fifteen years he sees the house is locked and his father has disappeared. Guilt-ridden Sunil starts looking for him. He comes to know that his father might be in an old age home. He reaches there only to find that he had died a few months earlier. Sunil meets Satya Babu  his father's fellow inmate  who tells him all about his father's last days. Sunil tells the old man that he wants to adopt him as his father and requests him to come to US with him.",
         "Sunil is an NRI married to an American girl. His father lives in Kolkata with an old servant Shambhu. When Sunil returns home after fifteen years he sees the house is locked and his father ...                    ",
         null,
         "Rajit Kapoor|Anjan Srivastav|A.K. Hangal|Kruttika Desai|Punya Darshan Gupta|Ashok Mehra|Sheela Mishra|Satya Bandopadhyay|Kalyan Chatterjee|Manoj Mitra|Prem Prakash Modi|Bakul Ghosh|Vinayak Rao Joshi|Manjula Sinha|",
         "1 nomination",
         null
        ],
        [
         "1594",
         "Grahan",
         "tt0275381",
         "https://upload.wikimedia.org/wikipedia/en/thumb/3/38/Grahan.jpg/220px-Grahan.jpg",
         "https://en.wikipedia.org/wiki/Grahan",
         "Grahan",
         "Grahan",
         "0",
         "2001",
         "110",
         "Crime|Drama",
         "5.1",
         "73",
         "Widowed Chief Minister Jagdish Acharya lives a wealthy lifestyle along with his daughter  Sunita and son  Sanjay. One day he gets a phone call from the Police Commissioner  informing him that a woman has filed a F.I.R. (First Information Report) of Rape against Sanjay. A shocked Jagdish  instructs the Police Commissioner to proceed according to law. Thereafter  while touring Jagdish has a heart attack and dies. Sunita is asked to be the new Chief Minister  which she accepts. After the funeral  the Police arrest Sanjay  hold him in a cell  and he is tried in Court. Sunita's boyfriend  Advocate Jaggan Sinha  whose brother  Raghu  is also a lawyer  represents Sanjay  examines the documentation  examines the witnesses as well as the complainant herself  and proves it before the Judge that the complaint was politically motivated by Journalist Vidyarthi  as the complainant  Parvati Shastri  did not exhibit any signs of rape nor was there any proof of her involvement with Sanjay  the Judge ...",
         "Widowed Chief Minister Jagdish Acharya lives a wealthy lifestyle along with his daughter  Sunita and son  Sanjay. One day he gets a phone call from the Police Commissioner  informing him ...                    ",
         null,
         "Jackie Shroff|Manisha Koirala|Anupama Verma|Prasad Purandhare|Raghuvaran|Raj Zutshi|",
         null,
         "16 February 2001 (India)"
        ],
        [
         "1593",
         "Farz (2001 film)",
         "tt0272607",
         "https://upload.wikimedia.org/wikipedia/en/thumb/5/5e/Farz_2001.jpg/220px-Farz_2001.jpg",
         "https://en.wikipedia.org/wiki/Farz_(2001_film)",
         "Farz",
         "Farz",
         "0",
         "2001",
         "\\N",
         "Action|Thriller",
         "4.3",
         "380",
         "ACP Arjun Singh and his brother-in-law  Tayaji are with the police force but when Tayaji is killed on duty Arjun's family are devastated by his death. His wife Rukmani  daughter Kajal and son Rahul are shattered by his death and soon Arjun is fearful that the same person that killed his brother-in-law will come after him or his family. His new partner  Karan Singh is quite controversial in his methods of getting justice and can at time break the rules. Arjun is also angered about the fact that his daughter has developed a crush for Karan. Soon the city is being terrorized by Gawa Firozi and his brother Sikander. The two officers have to work together to capture and stop them.",
         "ACP Arjun Singh and his brother-in-law  Tayaji are with the police force but when Tayaji is killed on duty Arjun's family are devastated by his death. His wife Rukmani  daughter Kajal and ...                    ",
         null,
         "Sunny Deol|Preity Zinta|Jackie Shroff|Om Puri|Pooja Batra|Farida Jalal|Johnny Lever|",
         null,
         "12 January 2001 (India)"
        ],
        [
         "1592",
         "Ehsaas: The Feeling",
         "tt0302524",
         null,
         "https://en.wikipedia.org/wiki/Ehsaas:_The_Feeling",
         "Ehsaas: The Feeling",
         "Ehsaas: The Feeling",
         "0",
         "2001",
         "116",
         "Drama",
         "5.6",
         "81",
         "Ravi Naik lives a middle class life with his son Rohan in the country of India. He brings up his son in a very strict  quiet and disciplined atmosphere  so much so that his son starts to resent him and his mannerism. All Ravi wants is to get Rohan excel as an athlete and win the forthcoming athletics event. But Rohan went through a series of operation which leads him to injury sustain about his body but Ravi is still re-vent on Rohan to win the race and so night and day he got him in to practice. His immediate neighbors  Antra Pandit and her mom too are critical of the way Ravi handles his son  and suggest that he adapt a more lenient view. But Ravi ignores this advise and assure to anyone interfering that the end result of his art of teaching will be good.",
         "Ravi Naik lives a middle class life with his son Rohan in the country of India. He brings up his son in a very strict  quiet and disciplined atmosphere  so much so that his son starts to ...                    ",
         null,
         "Anand Raj Anand|Sunidhi Chauhan|Nagesh Haldankar|Shakti Kapoor|Kiron Kher|Mahesh Manjrekar|Kishore Nandlaskar|Sanjay Narvekar|Neha|Shivaji Satam|Rakhi Sawant|Bhaskar Shetty|Sunil Shetty|Mayank Tandon|",
         null,
         "30 November 2001 (India)"
        ],
        [
         "1591",
         "Dil Ne Phir Yaad Kiya (2001 film)",
         "tt0273535",
         "https://upload.wikimedia.org/wikipedia/en/thumb/3/30/Dil_Ne_Phir_Yaad_Kiya_-_2001_Movie_Poster.jpg/220px-Dil_Ne_Phir_Yaad_Kiya_-_2001_Movie_Poster.jpg",
         "https://en.wikipedia.org/wiki/Dil_Ne_Phir_Yaad_Kiya_(2001_film)",
         "Dil Ne Phir Yaad Kiya",
         "Dil Ne Phir Yaad Kiya",
         "0",
         "2001",
         "\\N",
         "Drama|Musical|Romance",
         "4.1",
         "92",
         "Rahul Khanna (Vinay Anand) and Sonia Chopra (Pooja Batra) are in love  they seek the blessings of their elders  Mahendra Pratap Khanna (Kiran Kumar)  Mr. Chopra (Sadashiv Amrapurkar) and Mrs. Chopra (Kunika)  and get married. During their honeymoon  Sonia  who is very ambitious  tells Rahul that he should start his own business  away from his father  and stand on his own feet. Rahul does so  and starts a modelling agency. His immediate rival is Sanjeev Verma (Faraaz Khan)  who is very successful. In order to compete with him  Rahul must sign up leading model  Roshni Batra. In order to do so  he meets with Roshni. Roshni  who has lost her lover  Prem (Govinda)  accepts Rahul as Prem who has been returned to her  and agrees to work with his agency. Then Roshni starts behaving like Rahul is really Prem  and she will not let anyone come between her and her lost love.",
         "Rahul Khanna (Vinay Anand) and Sonia Chopra (Pooja Batra) are in love  they seek the blessings of their elders  Mahendra Pratap Khanna (Kiran Kumar)  Mr. Chopra (Sadashiv Amrapurkar) and ...                    ",
         null,
         "Govinda|Tabu|Faraaz Khan|Pooja Batra|Vinay Anand|Sadashiv Amrapurkar|Kiran Kumar|",
         null,
         null
        ],
        [
         "1590",
         "Deewaanapan",
         "tt0301179",
         "https://upload.wikimedia.org/wikipedia/en/thumb/0/0d/Deewaanapan_poster.jpg/220px-Deewaanapan_poster.jpg",
         "https://en.wikipedia.org/wiki/Deewaanapan",
         "Deewaanapan",
         "Deewaanapan",
         "0",
         "2001",
         "153",
         "Action|Romance",
         "4.6",
         "378",
         "Suraj Saxena (Arjun Rampal) lives in a remote hill station in India with his dad (Om Puri)  mom (Smita Jaykar)  and sister  Asha (Amita Nangia). One day he meets with Kiran Choudhary (Diya Mirza)  who has come on holiday trip with a group of girls. He offers to show her around and they fall in love with each other. Suraj is unable to see her home by the train as his dad has chest pains and has to be rushed to hospital. But Suraj is unable to get Kiran out of his mind and heart. After his sister get's married  the family decide to relocate to Bombay  where Suraj enlists in College and makes several new friends  as well as becomes a popular football player. He eventually meets Kiran and both renew their romance. Ranvir Choudhary (Vinod Khanna) does not appreciate the attentions of a poor man like Suraj on his daughter  and has Suraj brought up before him and introduced to his many friends  which include prominent lawyers  politicians  high ranking civil and municipal employees  the ...",
         "A rebel crosses swords with an influential rich man after falling in love with his daughter. However the girl's father is hell bent to break their relation at any cost.",
         null,
         "Arjun Rampal|Dia Mirza|Vinod Khanna|Om Puri|Smita Jaykar|",
         "1 win & 2 nominations",
         "16 November 2001 (India)"
        ],
        [
         "1589",
         "Chandni Bar",
         "tt0267363",
         "https://upload.wikimedia.org/wikipedia/en/thumb/e/e3/Chandni_Bar.jpg/220px-Chandni_Bar.jpg",
         "https://en.wikipedia.org/wiki/Chandni_Bar",
         "Chandni Bar",
         "Chandni Bar",
         "0",
         "2001",
         "150",
         "Crime|Drama",
         "7.6",
         "2284",
         "Mumtaz is a village girl whose family is killed in communal riots. She moves to Mumbai with her uncle  the only family member she has left. They are desperately poor and her uncle persuades her to become a bar girl at Chandni Bar. This is merely temporary  he promises  until he gets a job. Mumtaz is a shy girl who loathes the work  but she forces herself to dance and flirt. However  the uncle doesn't keep his promise; he lives on her earnings  drinking them away  and never gets a job. He adds one final  unforgivable crime to the list when he gets drunk and rapes her. By this time she has caught the eye of a gangster called Potiya Sawant. When she tells Potiya what her uncle did to her  Potiya decides to \"defend her honor.\" Potiya shoots the uncle. Mumtaz  bereft of any male protection in the dangerous slums  marries Potiya. She is determined to make the best of things. She leaves the bar and stays home to raise her two children  whom she carefully protects from the world of ...",
         "A displaced woman is forced to become a beer-bar dancer  and sire children of a gangster.",
         null,
         "Tabu|Atul Kulkarni|Rajpal Yadav|Shri Vallabh Vyas|Vinay Apte|Abhay Bhargav|Ananya Khare|Suhas Palshikar|Uma Shankar Pandey|Varun Vardhan|Manoj Joshi|Promodini Kadam|Sujata Naik|Shradha Naval|",
         "7 wins & 14 nominations",
         "28 September 2001 (India)"
        ],
        [
         "1588",
         "Daman (film)",
         "tt0273164",
         "https://upload.wikimedia.org/wikipedia/en/thumb/7/7a/DamanRaveena.jpg/220px-DamanRaveena.jpg",
         "https://en.wikipedia.org/wiki/Daman_(film)",
         "Daman: A Victim of Marital Violence",
         "Daman: A Victim of Marital Violence",
         "0",
         "2001",
         "\\N",
         "Drama",
         "5.7",
         "79",
         "The Saikias are a wealthy family  consisting of father  mother  and two unmarried sons  Sanjoy and Sunil. Sanjoy is the elder of the two  who refuses to marry  and the rest of the family have to live with his temper tantrums  alcoholism  and patronizing prostitutes. They decide to get him married to a woman named  Durga  who comes from a lower caste  & a poor family  who they believe will be able to live with Sanjoy and his weaknesses. Sanjoy initially refuses to marry Durga  but when his mother threatens to cut him off from her will and estate  he relents and marries her. Thus begins Durga's nightmare with Sanjoy - right from day one. On the very first night Sanjoy decides to spent it with a prostitute named Chameli  who gets pregnant. He subsequently forcibly has sex with Durga  and gets her pregnant too  but blames her pregnancy on Sunil. Durga gives birth to a daughter  Deepa  much to Sanjoy's disappointment  as he had expected a son. Years pass by  Deepa is now 12 years old  and ...",
         "The Saikias are a wealthy family  consisting of father  mother  and two unmarried sons  Sanjoy and Sunil. Sanjoy is the elder of the two  who refuses to marry  and the rest of the family ...                    ",
         "A victim of marital rape",
         "Raveena Tandon|Sayaji Shinde|Sanjay Suri|Raima Sen|Ranjan Koshal|Bharti Jaffrey|Shaan|Nippon Goswami|Kalpana Barua|Ishaan Barua|Girija Das|Indra Bania|Jharna Bishaya|Dinesh Bishaya|",
         "1 win & 1 nomination",
         "4 May 2001 (India)"
        ],
        [
         "1587",
         "Chhupa Rustam: A Musical Thriller",
         "tt0279021",
         "https://upload.wikimedia.org/wikipedia/en/thumb/a/a3/Chhupa_Rustam_A_Musical_Thriller.jpg/220px-Chhupa_Rustam_A_Musical_Thriller.jpg",
         "https://en.wikipedia.org/wiki/Chhupa_Rustam:_A_Musical_Thriller",
         "Chhupa Rustam: A Musical Thriller",
         "Chhupa Rustam: A Musical Thriller",
         "0",
         "2001",
         "127",
         "Drama|Musical|Romance",
         "4.5",
         "73",
         "Nirmal (Sanjay Kapoor) studies in London  and his dad (Anant Mahadevan) lives in a palatial home in India with his mom (Navneet Nishan). Unknown to both Nirmal and his dad  mom is having an affair with an employee  Baldev Diwan (Dalip Tahil). When caught in the act by dad  they kill him and his driver  Satpal (Mushtaq Khan) and arrange an accident with the help of another employee Manikchand (Tinnu Anand). When Nirmal returns he is informed of the accident  and he believes his dad dies of a car accident. One day while romancing with his girlfriend Sandhya (Mamta Kulkarni)  he comes across Satpal  who is now confined in a mental institution. Curious to see what Satpal has to say about the accident  Nirmal arranges for more qualified doctors in the big city to examine Satpal. Unknown to Nirmal  Superintendent of Police Thappa (Raj Babbar) is plotting with Raja (also played by Sanjay Kapoor) to kill Nirmal and take his place  Raja's girlfriend  Nisha (Manisha Koirala) overhears this and ...",
         "A tough and rowdy look-alike takes the place of a rich young man  who has family problems and enemies.",
         null,
         "Sanjay Kapoor|Mamta Kulkarni|Manisha Koirala|Raj Babbar|",
         null,
         "25 April 2001 (Kuwait)"
        ],
        [
         "1586",
         "Bengal Tiger (2001 film)",
         "tt0477574",
         "https://upload.wikimedia.org/wikipedia/en/thumb/6/6b/Bengaltigerdvd.jpg/220px-Bengaltigerdvd.jpg",
         "https://en.wikipedia.org/wiki/Bengal_Tiger_(2001_film)",
         "Bengal Tiger",
         "Bengal Tiger",
         "0",
         "2001",
         "121",
         "Action|Crime",
         "5.8",
         "22",
         "In caste and religion laden India there are some people who work together without any bias - they are underworld dons and gangster - and their prime motive is to amass as much money as possible. Rukavat Singh is one such gangster  who has two lieutenants - Sultan  and Vishwa Mohan. No one has dared to stand up against any of these three. Until Inspector Durga came along - but then she was brutally burned alive  and the case was handled as a \"suicide\" and the file was closed. Then came Inspector Vishal - he ended up being crippled and his wife brutally raped and killed in his presence. And now Inspector Prashant Verma has been assigned to this area. He is quite different from the other police officers  as he is easy-going  alcoholic  and quite capable of turning the nelson's eye on crime. And then suddenly Rukavat and his men start ending up dead. Will Prashant use his resources to find the culprit(s) or will be continue in his easy-going way?",
         "In caste and religion laden India there are some people who work together without any bias - they are underworld dons and gangster - and their prime motive is to amass as much money as ...                    ",
         null,
         "Sandeep Bedi|Mithun Chakraborty|Roshini Jaffery|Raushani Jaffrey|Shakti Kapoor|Priya Kaushal|Ali Khan|Shabnam Khan|Pramod Moutho|",
         null,
         "2001 (India)"
        ],
        [
         "1585",
         "Bhairav (film)",
         "tt0466208",
         "https://upload.wikimedia.org/wikipedia/en/thumb/a/ae/Bhairavfilm.jpg/220px-Bhairavfilm.jpg",
         "https://en.wikipedia.org/wiki/Bhairav_(film)",
         "Bhairav",
         "Bhairav",
         "0",
         "2001",
         "133",
         "Action",
         "5.0",
         "23",
         "Rakesh Pandey belongs to a middle-class family  and is employed. One day when he is returning home from work  he is arrested by the police on the charge of killing a woman in cold-blood. He refutes and denies this charge  but to no avail  as the prosecution produces witness after witness that have actually seen him commit this heinous crime. Ultimately  the court convicts him  and sentences him to several years in jail. After serving his time  Rakesh returns to his family home  and finds that his house has been destroyed in a fire  and his parents killed. Rakesh then finds out that the person behind this outrage is a wealthy industrialist by the name of Jindal. The reason why Jindal chose to destroy and kill all the Pandeys was that the person killed by Rakesh was none other than Jindal's brother. Rakesh vows to avenge this outrage  and assumes the name of Bhairav  not realizing that he has an uphill task  and that all the odds are stacked against him  including the fact that the ...",
         "Rakesh Pandey belongs to a middle-class family  and is employed. One day when he is returning home from work  he is arrested by the police on the charge of killing a woman in cold-blood. He...                    ",
         null,
         "Hemant Birje|Mithun Chakraborty|Jack Gaud|Brij Gopal|Indrani Haldar|Puneet Issar|Razak Khan|Madhura|",
         null,
         "2001 (India)"
        ],
        [
         "1584",
         "Ek Rishtaa: The Bond of Love",
         "tt0284083",
         "https://upload.wikimedia.org/wikipedia/en/thumb/8/84/Ek_Rishtaa_poster.jpg/220px-Ek_Rishtaa_poster.jpg",
         "https://en.wikipedia.org/wiki/Ek_Rishtaa:_The_Bond_of_Love",
         "Bond of Love",
         "Ek Rishtaa: The Bond of Love",
         "0",
         "2001",
         "174",
         "Drama|Family",
         "5.0",
         "1418",
         "Multi-millionaire Vijay Kapoor own and manages his factory which prospers yielding profits to provide a source of income for his family. After completing his studies abroad; Vijay's only son  Ajay join his dad's business. Upon the entry of Rajesh who proposes marriage to Vijay's daughter Priti things started to go hay wild for the family. Unknown to them that Rajesh have a motive to split their happy family apart and at the same time embezzle the estate and property.",
         "Vijay Kapoor  a wealthy businessman and his family are deceived by Rajesh  Vijay Kapoor's employee and son in law. A struggle begins by both father-son duos to regain their business and position.",
         "In times of happiness| they turned their backs to each other ... In testing times| they came back ....",
         "Amitabh Bachchan|Rakhee Gulzar|Akshay Kumar|Karisma Kapoor|Mohnish Bahl|Juhi Chawla|Simone Singh|Ashish Vidyarthi|Alok Nath|Anang Desai|Kanika Kohli|Kunickaa Sadanand|Mayur Verma|Avtar Gill|",
         null,
         "18 May 2001 (India)"
        ],
        [
         "1583",
         "Bas Itna Sa Khwaab Hai",
         "tt0283911",
         "https://upload.wikimedia.org/wikipedia/en/thumb/8/8f/Bas_Itna_Sa_Khwaab_Hai.jpg/220px-Bas_Itna_Sa_Khwaab_Hai.jpg",
         "https://en.wikipedia.org/wiki/Bas_Itna_Sa_Khwaab_Hai",
         "Bas Itna Sa Khwaab Hai...",
         "Bas Itna Sa Khwaab Hai...",
         "0",
         "2001",
         "\\N",
         "Romance",
         "3.8",
         "550",
         "Suryachand comes from a small town an considers Naved Ali as his idol.He dreams of becoming like him  Surya comes to Mumbai to attend college where he gets awarded by Naved Ali and gets chance to work with him.Surya will now realize that Naved Ali is a business minded person and will go to any extent to earn profit.",
         "Suryachand comes from a small town an considers Naved Ali as his idol.He dreams of becoming like him  Surya comes to Mumbai to attend college where he gets awarded by Naved Ali and gets ...                    ",
         null,
         "Rani Mukerji|Abhishek Bachchan|Sushmita Sen|Jackie Shroff|Gulshan Grover|Smita Jaykar|Himani Shivpuri|Sharat Saxena|Raman Lamba|Suchitra Pillai|",
         "1 nomination",
         null
        ],
        [
         "1582",
         "Albela (2001 film)",
         "tt0118578",
         "https://upload.wikimedia.org/wikipedia/en/thumb/a/a8/Albela_%282001_film%29.jpg/220px-Albela_%282001_film%29.jpg",
         "https://en.wikipedia.org/wiki/Albela_(2001_film)",
         "Albela",
         "Albela",
         "0",
         "2001",
         "145",
         "Drama|Romance",
         "3.7",
         "655",
         "Tony (Govinda) works as a guide  helping tourists  and showing them his native land. Nina (Namrata Shirodkar) finds Tony adorable  but Tony is in his own world  and does not reciprocate her attentions. When Sonia (Aishwarya Rai) for a tour of the surroundings  and is immediately taken-up with Tony and his easy manner. Tony mistakes this for love  and is smitten by her beauty. But Sonia already has a sweetheart  and so what will convince him that Sonia does not have similar feelings for him?",
         "Tony (Govinda) works as a guide  helping tourists  and showing them his native land. Nina (Namrata Shirodkar) finds Tony adorable  but Tony is in his own world  and does not reciprocate her...                    ",
         null,
         "Govinda|Aishwarya Rai Bachchan|Jackie Shroff|Namrata Shirodkar|Saeed Jaffrey|",
         null,
         "20 April 2001 (India)"
        ],
        [
         "1581",
         "Aśoka (film)",
         "tt0249371",
         "https://upload.wikimedia.org/wikipedia/en/thumb/8/88/Asoka_%282001_film%29.jpg/220px-Asoka_%282001_film%29.jpg",
         "https://en.wikipedia.org/wiki/A%C5%9Boka_(film)",
         "Ashoka the Great",
         "Asoka",
         "0",
         "2001",
         "176",
         "Action|Biography|Drama",
         "6.5",
         "12612",
         "Prince Ashoke (Shahrukh Khan)  heir to the Magadha Kingdom  bowing to his mother's (Shilpa Mehta) demand forsakes his princely status and goes to live in the wild for awhile. There he meets and falls in love with Kaurwaki (Kareena Kapoor). He identifies himself as Pawan  not wanting to disclose his identity yet. Ashoke has to return to Magadha  but when he returns to find and wed Kaurwaki  he is told by Bheema (Rahul Dev) that Kaurwaki and her brother Arya have been killed. Devastated Ashoke returns home. On the way home he is attacked and Devi (Hrishitaa Bhatt)  of the Buddhist faith rescues him and tends to him till he gets well. As a result  Devi's marriage to her groom is cancelled. Ashoke weds her and brings her to Magadha  only to be told by his father that since Devi is not of the same race as he  she cannot be welcomed. Ashoke leaves with Devi and lives in Ujjaini. Soon Devi gets pregnant  and this arouses jealously and hatred amongst Ashoke's step-brothers. As a result they ...",
         "The epic tale of King Asoka's life is recounted here.",
         "Only the dead have seen the end of war.",
         "Shah Rukh Khan|Kareena Kapoor|Danny Denzongpa|Rahul Dev|Hrishitaa Bhatt|Gerson Da Cunha|Subhashini Ali|Umesh Mehra|Sooraj Balaji|Johnny Lever|Raghuvir Yadav|Suresh Menon|Ajith Kumar|Shilpa Mehta|",
         "2 wins & 17 nominations",
         "26 October 2001 (India)"
        ],
        [
         "1580",
         "Censor (film)",
         "tt0272543",
         "https://upload.wikimedia.org/wikipedia/en/thumb/f/f1/Censor_Dev_Anand.jpg/220px-Censor_Dev_Anand.jpg",
         "https://en.wikipedia.org/wiki/Censor_(film)",
         "Censor",
         "Censor",
         "0",
         "2001",
         "165",
         "Drama",
         "3.5",
         "107",
         "Under the directions of the Minister for Information and Broadcasting  the Indian Censor Board prepares a list of cuts for Bollywood film producer  Vikramjeet's new movie \"Aane Wala Kal\". Vikramjeet is unhappy and decides to meet the Minister himself to appeal against these cuts  only to find out that the Minister favors even more cuts. Then Vikramjeet shows this movie in a private theatre to an audience from all walks of life  he then takes their written opinion  smuggles a copy to America  just in time to ensure that it is nominated for an Oscar. This is where Vikramjeet's troubles start as the Censor Board refuses to grant a \"U\" certificate; he is arrested for smuggling the movie without permission from the Reserve Bank of India. The only way he can escape the wrath of the authorities is getting some fans and stars of his movie to gather some dirt on the Censor Board members and expose them publicly. But will this pacify the authorities  or will it aggravate the situation. Watch ...",
         "Depicts a filmmaker's struggle to pass his controversial film for family viewing  follows many hardships in the process.",
         null,
         "Dev Anand|Hema Malini|Shammi Kapoor|Rekha|Jackie Shroff|Mamta Kulkarni|Johnny Lever|Mukesh Khanna|Ayesha Jhulka|Sharad S. Kapoor|Tara Deshpande|Randhir Kapoor|Aruna Irani|Raj Babbar|",
         null,
         "14 February 2001 (India)"
        ],
        [
         "1579",
         "Ajnabee (2001 film)",
         "tt0278291",
         "https://upload.wikimedia.org/wikipedia/en/thumb/b/b2/AjnabeeMovie-Poster1.jpg/220px-AjnabeeMovie-Poster1.jpg",
         "https://en.wikipedia.org/wiki/Ajnabee_(2001_film)",
         "Ajnabee",
         "Ajnabee",
         "0",
         "2001",
         "165",
         "Action|Crime|Drama",
         "6.3",
         "7480",
         "A new couple get married and move to Switzerland. They make friends with their new neighbors Akshay Kumar and Bipasha Basu. Life seems perfect until one day when Raj wakes up in Vicky's house and finds out that Vicky's wife has been murdered. Raj is accused of the murder but flees from the authorities in order to prove himself innocent.",
         "Bobby Deol and Kareena Kapoor play a new couple who get married and move to Switzerland. They make friends with their new neighbours Akshay Kumar and Bipasha Basu. Life seems perfect until one day when Bobby Deol wakes up in Akshay's house and finds out that Akshay's wife has been murdered. Bobby Deol is accussed of the murder but flees from the authorities in order to prove himself innocent.",
         "Trust no one",
         "Akshay Kumar|Bobby Deol|Kareena Kapoor|Bipasha Basu|Johnny Lever|Amita Nangia|Sheela Sharma|Narendra Bedi|Amrit Patel|Sharat Saxena|Dalip Tahil|Mink Singh|Jakob Tritten|John Peter|",
         "3 wins & 9 nominations",
         "21 September 2001 (India)"
        ]
       ],
       "shape": {
        "columns": 18,
        "rows": 1629
       }
      },
      "text/html": [
       "<div>\n",
       "<style scoped>\n",
       "    .dataframe tbody tr th:only-of-type {\n",
       "        vertical-align: middle;\n",
       "    }\n",
       "\n",
       "    .dataframe tbody tr th {\n",
       "        vertical-align: top;\n",
       "    }\n",
       "\n",
       "    .dataframe thead th {\n",
       "        text-align: right;\n",
       "    }\n",
       "</style>\n",
       "<table border=\"1\" class=\"dataframe\">\n",
       "  <thead>\n",
       "    <tr style=\"text-align: right;\">\n",
       "      <th></th>\n",
       "      <th>title_x</th>\n",
       "      <th>imdb_id</th>\n",
       "      <th>poster_path</th>\n",
       "      <th>wiki_link</th>\n",
       "      <th>title_y</th>\n",
       "      <th>original_title</th>\n",
       "      <th>is_adult</th>\n",
       "      <th>year_of_release</th>\n",
       "      <th>runtime</th>\n",
       "      <th>genres</th>\n",
       "      <th>imdb_rating</th>\n",
       "      <th>imdb_votes</th>\n",
       "      <th>story</th>\n",
       "      <th>summary</th>\n",
       "      <th>tagline</th>\n",
       "      <th>actors</th>\n",
       "      <th>wins_nominations</th>\n",
       "      <th>release_date</th>\n",
       "    </tr>\n",
       "  </thead>\n",
       "  <tbody>\n",
       "    <tr>\n",
       "      <th>1628</th>\n",
       "      <td>Humsafar</td>\n",
       "      <td>tt2403201</td>\n",
       "      <td>https://upload.wikimedia.org/wikipedia/en/thum...</td>\n",
       "      <td>https://en.wikipedia.org/wiki/Humsafar</td>\n",
       "      <td>Humsafar</td>\n",
       "      <td>Humsafar</td>\n",
       "      <td>0</td>\n",
       "      <td>2011</td>\n",
       "      <td>35</td>\n",
       "      <td>Drama|Romance</td>\n",
       "      <td>9.0</td>\n",
       "      <td>2968</td>\n",
       "      <td>Sara and Ashar are childhood friends who share...</td>\n",
       "      <td>Ashar and Khirad are forced to get married due...</td>\n",
       "      <td>NaN</td>\n",
       "      <td>Fawad Khan|</td>\n",
       "      <td>NaN</td>\n",
       "      <td>TV Series (2011–2012)</td>\n",
       "    </tr>\n",
       "    <tr>\n",
       "      <th>1627</th>\n",
       "      <td>Daaka</td>\n",
       "      <td>tt10833860</td>\n",
       "      <td>https://upload.wikimedia.org/wikipedia/en/thum...</td>\n",
       "      <td>https://en.wikipedia.org/wiki/Daaka</td>\n",
       "      <td>Daaka</td>\n",
       "      <td>Daaka</td>\n",
       "      <td>0</td>\n",
       "      <td>2019</td>\n",
       "      <td>136</td>\n",
       "      <td>Action</td>\n",
       "      <td>7.4</td>\n",
       "      <td>38</td>\n",
       "      <td>Shinda tries robbing a bank so he can be wealt...</td>\n",
       "      <td>Shinda tries robbing a bank so he can be wealt...</td>\n",
       "      <td>NaN</td>\n",
       "      <td>Gippy Grewal|Zareen Khan|</td>\n",
       "      <td>NaN</td>\n",
       "      <td>1 November 2019 (USA)</td>\n",
       "    </tr>\n",
       "    <tr>\n",
       "      <th>1626</th>\n",
       "      <td>Sabse Bada Sukh</td>\n",
       "      <td>tt0069204</td>\n",
       "      <td>NaN</td>\n",
       "      <td>https://en.wikipedia.org/wiki/Sabse_Bada_Sukh</td>\n",
       "      <td>Sabse Bada Sukh</td>\n",
       "      <td>Sabse Bada Sukh</td>\n",
       "      <td>0</td>\n",
       "      <td>2018</td>\n",
       "      <td>\\N</td>\n",
       "      <td>Comedy|Drama</td>\n",
       "      <td>6.1</td>\n",
       "      <td>13</td>\n",
       "      <td>Village born Lalloo re-locates to Bombay  and ...</td>\n",
       "      <td>Village born Lalloo re-locates to Bombay  and ...</td>\n",
       "      <td>NaN</td>\n",
       "      <td>Vijay Arora|Asrani|Rajni Bala|Kumud Damle|Utpa...</td>\n",
       "      <td>NaN</td>\n",
       "      <td>NaN</td>\n",
       "    </tr>\n",
       "    <tr>\n",
       "      <th>1625</th>\n",
       "      <td>Yeh Zindagi Ka Safar</td>\n",
       "      <td>tt0298607</td>\n",
       "      <td>https://upload.wikimedia.org/wikipedia/en/thum...</td>\n",
       "      <td>https://en.wikipedia.org/wiki/Yeh_Zindagi_Ka_S...</td>\n",
       "      <td>Yeh Zindagi Ka Safar</td>\n",
       "      <td>Yeh Zindagi Ka Safar</td>\n",
       "      <td>0</td>\n",
       "      <td>2001</td>\n",
       "      <td>146</td>\n",
       "      <td>Drama</td>\n",
       "      <td>3.0</td>\n",
       "      <td>133</td>\n",
       "      <td>Hindi pop-star  Sarina Devan  lives a wealthy ...</td>\n",
       "      <td>A singer finds out she was adopted when the ed...</td>\n",
       "      <td>NaN</td>\n",
       "      <td>Ameesha Patel|Jimmy Sheirgill|Nafisa Ali|Gulsh...</td>\n",
       "      <td>NaN</td>\n",
       "      <td>16 November 2001 (India)</td>\n",
       "    </tr>\n",
       "    <tr>\n",
       "      <th>1624</th>\n",
       "      <td>Tera Mera Saath Rahen</td>\n",
       "      <td>tt0301250</td>\n",
       "      <td>https://upload.wikimedia.org/wikipedia/en/2/2b...</td>\n",
       "      <td>https://en.wikipedia.org/wiki/Tera_Mera_Saath_...</td>\n",
       "      <td>Tera Mera Saath Rahen</td>\n",
       "      <td>Tera Mera Saath Rahen</td>\n",
       "      <td>0</td>\n",
       "      <td>2001</td>\n",
       "      <td>148</td>\n",
       "      <td>Drama</td>\n",
       "      <td>4.9</td>\n",
       "      <td>278</td>\n",
       "      <td>Raj Dixit lives with his younger brother  Rahu...</td>\n",
       "      <td>A man is torn between his handicapped brother ...</td>\n",
       "      <td>NaN</td>\n",
       "      <td>Ajay Devgn|Sonali Bendre|Namrata Shirodkar|Pre...</td>\n",
       "      <td>NaN</td>\n",
       "      <td>7 November 2001 (India)</td>\n",
       "    </tr>\n",
       "    <tr>\n",
       "      <th>...</th>\n",
       "      <td>...</td>\n",
       "      <td>...</td>\n",
       "      <td>...</td>\n",
       "      <td>...</td>\n",
       "      <td>...</td>\n",
       "      <td>...</td>\n",
       "      <td>...</td>\n",
       "      <td>...</td>\n",
       "      <td>...</td>\n",
       "      <td>...</td>\n",
       "      <td>...</td>\n",
       "      <td>...</td>\n",
       "      <td>...</td>\n",
       "      <td>...</td>\n",
       "      <td>...</td>\n",
       "      <td>...</td>\n",
       "      <td>...</td>\n",
       "      <td>...</td>\n",
       "    </tr>\n",
       "    <tr>\n",
       "      <th>4</th>\n",
       "      <td>Evening Shadows</td>\n",
       "      <td>tt6028796</td>\n",
       "      <td>NaN</td>\n",
       "      <td>https://en.wikipedia.org/wiki/Evening_Shadows</td>\n",
       "      <td>Evening Shadows</td>\n",
       "      <td>Evening Shadows</td>\n",
       "      <td>0</td>\n",
       "      <td>2018</td>\n",
       "      <td>102</td>\n",
       "      <td>Drama</td>\n",
       "      <td>7.3</td>\n",
       "      <td>280</td>\n",
       "      <td>While gay rights and marriage equality has bee...</td>\n",
       "      <td>Under the 'Evening Shadows'  truth often plays...</td>\n",
       "      <td>NaN</td>\n",
       "      <td>Mona Ambegaonkar|Ananth Narayan Mahadevan|Deva...</td>\n",
       "      <td>17 wins &amp; 1 nomination</td>\n",
       "      <td>11 January 2019 (India)</td>\n",
       "    </tr>\n",
       "    <tr>\n",
       "      <th>3</th>\n",
       "      <td>Why Cheat India</td>\n",
       "      <td>tt8108208</td>\n",
       "      <td>https://upload.wikimedia.org/wikipedia/en/thum...</td>\n",
       "      <td>https://en.wikipedia.org/wiki/Why_Cheat_India</td>\n",
       "      <td>Why Cheat India</td>\n",
       "      <td>Why Cheat India</td>\n",
       "      <td>0</td>\n",
       "      <td>2019</td>\n",
       "      <td>121</td>\n",
       "      <td>Crime|Drama</td>\n",
       "      <td>6.0</td>\n",
       "      <td>1891</td>\n",
       "      <td>The movie focuses on existing malpractices in ...</td>\n",
       "      <td>The movie focuses on existing malpractices in ...</td>\n",
       "      <td>NaN</td>\n",
       "      <td>Emraan Hashmi|Shreya Dhanwanthary|Snighdadeep ...</td>\n",
       "      <td>NaN</td>\n",
       "      <td>18 January 2019 (USA)</td>\n",
       "    </tr>\n",
       "    <tr>\n",
       "      <th>2</th>\n",
       "      <td>The Accidental Prime Minister (film)</td>\n",
       "      <td>tt6986710</td>\n",
       "      <td>https://upload.wikimedia.org/wikipedia/en/thum...</td>\n",
       "      <td>https://en.wikipedia.org/wiki/The_Accidental_P...</td>\n",
       "      <td>The Accidental Prime Minister</td>\n",
       "      <td>The Accidental Prime Minister</td>\n",
       "      <td>0</td>\n",
       "      <td>2019</td>\n",
       "      <td>112</td>\n",
       "      <td>Biography|Drama</td>\n",
       "      <td>6.1</td>\n",
       "      <td>5549</td>\n",
       "      <td>Based on the memoir by Indian policy analyst S...</td>\n",
       "      <td>Explores Manmohan Singh's tenure as the Prime ...</td>\n",
       "      <td>NaN</td>\n",
       "      <td>Anupam Kher|Akshaye Khanna|Aahana Kumra|Atul S...</td>\n",
       "      <td>NaN</td>\n",
       "      <td>11 January 2019 (USA)</td>\n",
       "    </tr>\n",
       "    <tr>\n",
       "      <th>1</th>\n",
       "      <td>Battalion 609</td>\n",
       "      <td>tt9472208</td>\n",
       "      <td>NaN</td>\n",
       "      <td>https://en.wikipedia.org/wiki/Battalion_609</td>\n",
       "      <td>Battalion 609</td>\n",
       "      <td>Battalion 609</td>\n",
       "      <td>0</td>\n",
       "      <td>2019</td>\n",
       "      <td>131</td>\n",
       "      <td>War</td>\n",
       "      <td>4.1</td>\n",
       "      <td>73</td>\n",
       "      <td>The story revolves around a cricket match betw...</td>\n",
       "      <td>The story of Battalion 609 revolves around a c...</td>\n",
       "      <td>NaN</td>\n",
       "      <td>Vicky Ahuja|Shoaib Ibrahim|Shrikant Kamat|Elen...</td>\n",
       "      <td>NaN</td>\n",
       "      <td>11 January 2019 (India)</td>\n",
       "    </tr>\n",
       "    <tr>\n",
       "      <th>0</th>\n",
       "      <td>Uri: The Surgical Strike</td>\n",
       "      <td>tt8291224</td>\n",
       "      <td>https://upload.wikimedia.org/wikipedia/en/thum...</td>\n",
       "      <td>https://en.wikipedia.org/wiki/Uri:_The_Surgica...</td>\n",
       "      <td>Uri: The Surgical Strike</td>\n",
       "      <td>Uri: The Surgical Strike</td>\n",
       "      <td>0</td>\n",
       "      <td>2019</td>\n",
       "      <td>138</td>\n",
       "      <td>Action|Drama|War</td>\n",
       "      <td>8.4</td>\n",
       "      <td>35112</td>\n",
       "      <td>Divided over five chapters  the film chronicle...</td>\n",
       "      <td>Indian army special forces execute a covert op...</td>\n",
       "      <td>NaN</td>\n",
       "      <td>Vicky Kaushal|Paresh Rawal|Mohit Raina|Yami Ga...</td>\n",
       "      <td>4 wins</td>\n",
       "      <td>11 January 2019 (USA)</td>\n",
       "    </tr>\n",
       "  </tbody>\n",
       "</table>\n",
       "<p>1629 rows × 18 columns</p>\n",
       "</div>"
      ],
      "text/plain": [
       "                                   title_x     imdb_id  \\\n",
       "1628                              Humsafar   tt2403201   \n",
       "1627                                 Daaka  tt10833860   \n",
       "1626                       Sabse Bada Sukh   tt0069204   \n",
       "1625                  Yeh Zindagi Ka Safar   tt0298607   \n",
       "1624                 Tera Mera Saath Rahen   tt0301250   \n",
       "...                                    ...         ...   \n",
       "4                          Evening Shadows   tt6028796   \n",
       "3                          Why Cheat India   tt8108208   \n",
       "2     The Accidental Prime Minister (film)   tt6986710   \n",
       "1                            Battalion 609   tt9472208   \n",
       "0                 Uri: The Surgical Strike   tt8291224   \n",
       "\n",
       "                                            poster_path  \\\n",
       "1628  https://upload.wikimedia.org/wikipedia/en/thum...   \n",
       "1627  https://upload.wikimedia.org/wikipedia/en/thum...   \n",
       "1626                                                NaN   \n",
       "1625  https://upload.wikimedia.org/wikipedia/en/thum...   \n",
       "1624  https://upload.wikimedia.org/wikipedia/en/2/2b...   \n",
       "...                                                 ...   \n",
       "4                                                   NaN   \n",
       "3     https://upload.wikimedia.org/wikipedia/en/thum...   \n",
       "2     https://upload.wikimedia.org/wikipedia/en/thum...   \n",
       "1                                                   NaN   \n",
       "0     https://upload.wikimedia.org/wikipedia/en/thum...   \n",
       "\n",
       "                                              wiki_link  \\\n",
       "1628             https://en.wikipedia.org/wiki/Humsafar   \n",
       "1627                https://en.wikipedia.org/wiki/Daaka   \n",
       "1626      https://en.wikipedia.org/wiki/Sabse_Bada_Sukh   \n",
       "1625  https://en.wikipedia.org/wiki/Yeh_Zindagi_Ka_S...   \n",
       "1624  https://en.wikipedia.org/wiki/Tera_Mera_Saath_...   \n",
       "...                                                 ...   \n",
       "4         https://en.wikipedia.org/wiki/Evening_Shadows   \n",
       "3         https://en.wikipedia.org/wiki/Why_Cheat_India   \n",
       "2     https://en.wikipedia.org/wiki/The_Accidental_P...   \n",
       "1           https://en.wikipedia.org/wiki/Battalion_609   \n",
       "0     https://en.wikipedia.org/wiki/Uri:_The_Surgica...   \n",
       "\n",
       "                            title_y                 original_title  is_adult  \\\n",
       "1628                       Humsafar                       Humsafar         0   \n",
       "1627                          Daaka                          Daaka         0   \n",
       "1626                Sabse Bada Sukh                Sabse Bada Sukh         0   \n",
       "1625           Yeh Zindagi Ka Safar           Yeh Zindagi Ka Safar         0   \n",
       "1624          Tera Mera Saath Rahen          Tera Mera Saath Rahen         0   \n",
       "...                             ...                            ...       ...   \n",
       "4                   Evening Shadows                Evening Shadows         0   \n",
       "3                   Why Cheat India                Why Cheat India         0   \n",
       "2     The Accidental Prime Minister  The Accidental Prime Minister         0   \n",
       "1                     Battalion 609                  Battalion 609         0   \n",
       "0          Uri: The Surgical Strike       Uri: The Surgical Strike         0   \n",
       "\n",
       "      year_of_release runtime            genres  imdb_rating  imdb_votes  \\\n",
       "1628             2011      35     Drama|Romance          9.0        2968   \n",
       "1627             2019     136            Action          7.4          38   \n",
       "1626             2018      \\N      Comedy|Drama          6.1          13   \n",
       "1625             2001     146             Drama          3.0         133   \n",
       "1624             2001     148             Drama          4.9         278   \n",
       "...               ...     ...               ...          ...         ...   \n",
       "4                2018     102             Drama          7.3         280   \n",
       "3                2019     121       Crime|Drama          6.0        1891   \n",
       "2                2019     112   Biography|Drama          6.1        5549   \n",
       "1                2019     131               War          4.1          73   \n",
       "0                2019     138  Action|Drama|War          8.4       35112   \n",
       "\n",
       "                                                  story  \\\n",
       "1628  Sara and Ashar are childhood friends who share...   \n",
       "1627  Shinda tries robbing a bank so he can be wealt...   \n",
       "1626  Village born Lalloo re-locates to Bombay  and ...   \n",
       "1625  Hindi pop-star  Sarina Devan  lives a wealthy ...   \n",
       "1624  Raj Dixit lives with his younger brother  Rahu...   \n",
       "...                                                 ...   \n",
       "4     While gay rights and marriage equality has bee...   \n",
       "3     The movie focuses on existing malpractices in ...   \n",
       "2     Based on the memoir by Indian policy analyst S...   \n",
       "1     The story revolves around a cricket match betw...   \n",
       "0     Divided over five chapters  the film chronicle...   \n",
       "\n",
       "                                                summary tagline  \\\n",
       "1628  Ashar and Khirad are forced to get married due...     NaN   \n",
       "1627  Shinda tries robbing a bank so he can be wealt...     NaN   \n",
       "1626  Village born Lalloo re-locates to Bombay  and ...     NaN   \n",
       "1625  A singer finds out she was adopted when the ed...     NaN   \n",
       "1624  A man is torn between his handicapped brother ...     NaN   \n",
       "...                                                 ...     ...   \n",
       "4     Under the 'Evening Shadows'  truth often plays...     NaN   \n",
       "3     The movie focuses on existing malpractices in ...     NaN   \n",
       "2     Explores Manmohan Singh's tenure as the Prime ...     NaN   \n",
       "1     The story of Battalion 609 revolves around a c...     NaN   \n",
       "0     Indian army special forces execute a covert op...     NaN   \n",
       "\n",
       "                                                 actors  \\\n",
       "1628                                        Fawad Khan|   \n",
       "1627                          Gippy Grewal|Zareen Khan|   \n",
       "1626  Vijay Arora|Asrani|Rajni Bala|Kumud Damle|Utpa...   \n",
       "1625  Ameesha Patel|Jimmy Sheirgill|Nafisa Ali|Gulsh...   \n",
       "1624  Ajay Devgn|Sonali Bendre|Namrata Shirodkar|Pre...   \n",
       "...                                                 ...   \n",
       "4     Mona Ambegaonkar|Ananth Narayan Mahadevan|Deva...   \n",
       "3     Emraan Hashmi|Shreya Dhanwanthary|Snighdadeep ...   \n",
       "2     Anupam Kher|Akshaye Khanna|Aahana Kumra|Atul S...   \n",
       "1     Vicky Ahuja|Shoaib Ibrahim|Shrikant Kamat|Elen...   \n",
       "0     Vicky Kaushal|Paresh Rawal|Mohit Raina|Yami Ga...   \n",
       "\n",
       "            wins_nominations              release_date  \n",
       "1628                     NaN     TV Series (2011–2012)  \n",
       "1627                     NaN     1 November 2019 (USA)  \n",
       "1626                     NaN                       NaN  \n",
       "1625                     NaN  16 November 2001 (India)  \n",
       "1624                     NaN   7 November 2001 (India)  \n",
       "...                      ...                       ...  \n",
       "4     17 wins & 1 nomination   11 January 2019 (India)  \n",
       "3                        NaN     18 January 2019 (USA)  \n",
       "2                        NaN     11 January 2019 (USA)  \n",
       "1                        NaN   11 January 2019 (India)  \n",
       "0                     4 wins     11 January 2019 (USA)  \n",
       "\n",
       "[1629 rows x 18 columns]"
      ]
     },
     "execution_count": 28,
     "metadata": {},
     "output_type": "execute_result"
    }
   ],
   "source": [
    "movies.sort_index(ascending=False)"
   ]
  },
  {
   "cell_type": "code",
   "execution_count": 29,
   "metadata": {
    "id": "SUMW3wTWPnA1"
   },
   "outputs": [],
   "source": [
    "# set_index(dataframe) -> inplace\n",
    "batsman.set_index('batter',inplace=True)  # set 'batter' column as index and modify the original DataFrame"
   ]
  },
  {
   "cell_type": "code",
   "execution_count": 30,
   "metadata": {
    "colab": {
     "base_uri": "https://localhost:8080/",
     "height": 455
    },
    "id": "efTH7QG6XetU",
    "outputId": "f09b8fee-73df-42d6-a3a4-40ce45f2248e"
   },
   "outputs": [
    {
     "data": {
      "application/vnd.microsoft.datawrangler.viewer.v0+json": {
       "columns": [
        {
         "name": "batter",
         "rawType": "object",
         "type": "string"
        },
        {
         "name": "batsman_run",
         "rawType": "int64",
         "type": "integer"
        },
        {
         "name": "batting_rank",
         "rawType": "float64",
         "type": "float"
        }
       ],
       "ref": "b6c9723c-759e-4eac-8c45-f6e25291ce53",
       "rows": [
        [
         "A Ashish Reddy",
         "280",
         "166.5"
        ],
        [
         "A Badoni",
         "161",
         "226.0"
        ],
        [
         "A Chandila",
         "4",
         "535.0"
        ],
        [
         "A Chopra",
         "53",
         "329.0"
        ],
        [
         "A Choudhary",
         "25",
         "402.5"
        ],
        [
         "A Dananjaya",
         "4",
         "535.0"
        ],
        [
         "A Flintoff",
         "62",
         "319.0"
        ],
        [
         "A Kumble",
         "35",
         "371.0"
        ],
        [
         "A Manohar",
         "108",
         "262.5"
        ],
        [
         "A Mishra",
         "362",
         "145.0"
        ],
        [
         "A Mithun",
         "34",
         "374.5"
        ],
        [
         "A Mukund",
         "19",
         "431.5"
        ],
        [
         "A Nehra",
         "41",
         "352.0"
        ],
        [
         "A Nortje",
         "8",
         "497.5"
        ],
        [
         "A Singh",
         "2",
         "561.5"
        ],
        [
         "A Symonds",
         "974",
         "87.0"
        ],
        [
         "A Tomar",
         "4",
         "535.0"
        ],
        [
         "A Uniyal",
         "4",
         "535.0"
        ],
        [
         "A Zampa",
         "5",
         "524.0"
        ],
        [
         "AA Bilakhia",
         "69",
         "307.0"
        ],
        [
         "AA Chavan",
         "12",
         "470.5"
        ],
        [
         "AA Jhunjhunwala",
         "217",
         "189.0"
        ],
        [
         "AA Noffke",
         "9",
         "490.5"
        ],
        [
         "AB Agarkar",
         "179",
         "212.5"
        ],
        [
         "AB Barath",
         "42",
         "350.5"
        ],
        [
         "AB Dinda",
         "26",
         "397.5"
        ],
        [
         "AB McDonald",
         "123",
         "249.0"
        ],
        [
         "AB de Villiers",
         "5181",
         "6.0"
        ],
        [
         "AC Blizzard",
         "120",
         "253.5"
        ],
        [
         "AC Gilchrist",
         "2069",
         "45.0"
        ],
        [
         "AC Thomas",
         "20",
         "424.0"
        ],
        [
         "AC Voges",
         "181",
         "209.5"
        ],
        [
         "AD Hales",
         "148",
         "230.0"
        ],
        [
         "AD Mascarenhas",
         "79",
         "294.5"
        ],
        [
         "AD Mathews",
         "724",
         "102.0"
        ],
        [
         "AD Nath",
         "90",
         "283.0"
        ],
        [
         "AD Russell",
         "2039",
         "46.0"
        ],
        [
         "AF Milne",
         "23",
         "410.5"
        ],
        [
         "AG Murtaza",
         "10",
         "484.5"
        ],
        [
         "AG Paunikar",
         "49",
         "341.0"
        ],
        [
         "AJ Finch",
         "2092",
         "44.0"
        ],
        [
         "AJ Turner",
         "3",
         "547.5"
        ],
        [
         "AJ Tye",
         "91",
         "281.0"
        ],
        [
         "AK Markram",
         "527",
         "120.5"
        ],
        [
         "AL Menaria",
         "401",
         "136.0"
        ],
        [
         "AM Nayar",
         "672",
         "105.0"
        ],
        [
         "AM Rahane",
         "4074",
         "13.0"
        ],
        [
         "AN Ahmed",
         "36",
         "366.5"
        ],
        [
         "AN Ghosh",
         "7",
         "508.0"
        ],
        [
         "AP Dole",
         "34",
         "374.5"
        ]
       ],
       "shape": {
        "columns": 2,
        "rows": 605
       }
      },
      "text/html": [
       "<div>\n",
       "<style scoped>\n",
       "    .dataframe tbody tr th:only-of-type {\n",
       "        vertical-align: middle;\n",
       "    }\n",
       "\n",
       "    .dataframe tbody tr th {\n",
       "        vertical-align: top;\n",
       "    }\n",
       "\n",
       "    .dataframe thead th {\n",
       "        text-align: right;\n",
       "    }\n",
       "</style>\n",
       "<table border=\"1\" class=\"dataframe\">\n",
       "  <thead>\n",
       "    <tr style=\"text-align: right;\">\n",
       "      <th></th>\n",
       "      <th>batsman_run</th>\n",
       "      <th>batting_rank</th>\n",
       "    </tr>\n",
       "    <tr>\n",
       "      <th>batter</th>\n",
       "      <th></th>\n",
       "      <th></th>\n",
       "    </tr>\n",
       "  </thead>\n",
       "  <tbody>\n",
       "    <tr>\n",
       "      <th>A Ashish Reddy</th>\n",
       "      <td>280</td>\n",
       "      <td>166.5</td>\n",
       "    </tr>\n",
       "    <tr>\n",
       "      <th>A Badoni</th>\n",
       "      <td>161</td>\n",
       "      <td>226.0</td>\n",
       "    </tr>\n",
       "    <tr>\n",
       "      <th>A Chandila</th>\n",
       "      <td>4</td>\n",
       "      <td>535.0</td>\n",
       "    </tr>\n",
       "    <tr>\n",
       "      <th>A Chopra</th>\n",
       "      <td>53</td>\n",
       "      <td>329.0</td>\n",
       "    </tr>\n",
       "    <tr>\n",
       "      <th>A Choudhary</th>\n",
       "      <td>25</td>\n",
       "      <td>402.5</td>\n",
       "    </tr>\n",
       "    <tr>\n",
       "      <th>...</th>\n",
       "      <td>...</td>\n",
       "      <td>...</td>\n",
       "    </tr>\n",
       "    <tr>\n",
       "      <th>Yash Dayal</th>\n",
       "      <td>0</td>\n",
       "      <td>594.0</td>\n",
       "    </tr>\n",
       "    <tr>\n",
       "      <th>Yashpal Singh</th>\n",
       "      <td>47</td>\n",
       "      <td>343.0</td>\n",
       "    </tr>\n",
       "    <tr>\n",
       "      <th>Younis Khan</th>\n",
       "      <td>3</td>\n",
       "      <td>547.5</td>\n",
       "    </tr>\n",
       "    <tr>\n",
       "      <th>Yuvraj Singh</th>\n",
       "      <td>2754</td>\n",
       "      <td>27.0</td>\n",
       "    </tr>\n",
       "    <tr>\n",
       "      <th>Z Khan</th>\n",
       "      <td>117</td>\n",
       "      <td>256.0</td>\n",
       "    </tr>\n",
       "  </tbody>\n",
       "</table>\n",
       "<p>605 rows × 2 columns</p>\n",
       "</div>"
      ],
      "text/plain": [
       "                batsman_run  batting_rank\n",
       "batter                                   \n",
       "A Ashish Reddy          280         166.5\n",
       "A Badoni                161         226.0\n",
       "A Chandila                4         535.0\n",
       "A Chopra                 53         329.0\n",
       "A Choudhary              25         402.5\n",
       "...                     ...           ...\n",
       "Yash Dayal                0         594.0\n",
       "Yashpal Singh            47         343.0\n",
       "Younis Khan               3         547.5\n",
       "Yuvraj Singh           2754          27.0\n",
       "Z Khan                  117         256.0\n",
       "\n",
       "[605 rows x 2 columns]"
      ]
     },
     "execution_count": 30,
     "metadata": {},
     "output_type": "execute_result"
    }
   ],
   "source": [
    "batsman"
   ]
  },
  {
   "cell_type": "code",
   "execution_count": 31,
   "metadata": {
    "colab": {
     "base_uri": "https://localhost:8080/",
     "height": 424
    },
    "id": "l0YXu8glPs6C",
    "outputId": "e7d65464-0a49-4a51-8268-1e9f6844d66f"
   },
   "outputs": [],
   "source": [
    "# reset_index(series + dataframe) -> drop parameter\n",
    "batsman.reset_index(inplace=True) #"
   ]
  },
  {
   "cell_type": "code",
   "execution_count": null,
   "metadata": {
    "colab": {
     "base_uri": "https://localhost:8080/",
     "height": 455
    },
    "id": "jT6ZoXxaX7NX",
    "outputId": "a25df4bf-7d56-4c46-e4b8-3e45977e82b5"
   },
   "outputs": [
    {
     "data": {
      "text/html": [
       "\n",
       "  <div id=\"df-3258e82e-c34c-4f9a-8fc7-6116b665c2cd\">\n",
       "    <div class=\"colab-df-container\">\n",
       "      <div>\n",
       "<style scoped>\n",
       "    .dataframe tbody tr th:only-of-type {\n",
       "        vertical-align: middle;\n",
       "    }\n",
       "\n",
       "    .dataframe tbody tr th {\n",
       "        vertical-align: top;\n",
       "    }\n",
       "\n",
       "    .dataframe thead th {\n",
       "        text-align: right;\n",
       "    }\n",
       "</style>\n",
       "<table border=\"1\" class=\"dataframe\">\n",
       "  <thead>\n",
       "    <tr style=\"text-align: right;\">\n",
       "      <th></th>\n",
       "      <th>batsman_run</th>\n",
       "      <th>batting_rank</th>\n",
       "    </tr>\n",
       "    <tr>\n",
       "      <th>batter</th>\n",
       "      <th></th>\n",
       "      <th></th>\n",
       "    </tr>\n",
       "  </thead>\n",
       "  <tbody>\n",
       "    <tr>\n",
       "      <th>A Ashish Reddy</th>\n",
       "      <td>280</td>\n",
       "      <td>166.5</td>\n",
       "    </tr>\n",
       "    <tr>\n",
       "      <th>A Badoni</th>\n",
       "      <td>161</td>\n",
       "      <td>226.0</td>\n",
       "    </tr>\n",
       "    <tr>\n",
       "      <th>A Chandila</th>\n",
       "      <td>4</td>\n",
       "      <td>535.0</td>\n",
       "    </tr>\n",
       "    <tr>\n",
       "      <th>A Chopra</th>\n",
       "      <td>53</td>\n",
       "      <td>329.0</td>\n",
       "    </tr>\n",
       "    <tr>\n",
       "      <th>A Choudhary</th>\n",
       "      <td>25</td>\n",
       "      <td>402.5</td>\n",
       "    </tr>\n",
       "    <tr>\n",
       "      <th>...</th>\n",
       "      <td>...</td>\n",
       "      <td>...</td>\n",
       "    </tr>\n",
       "    <tr>\n",
       "      <th>Yash Dayal</th>\n",
       "      <td>0</td>\n",
       "      <td>594.0</td>\n",
       "    </tr>\n",
       "    <tr>\n",
       "      <th>Yashpal Singh</th>\n",
       "      <td>47</td>\n",
       "      <td>343.0</td>\n",
       "    </tr>\n",
       "    <tr>\n",
       "      <th>Younis Khan</th>\n",
       "      <td>3</td>\n",
       "      <td>547.5</td>\n",
       "    </tr>\n",
       "    <tr>\n",
       "      <th>Yuvraj Singh</th>\n",
       "      <td>2754</td>\n",
       "      <td>27.0</td>\n",
       "    </tr>\n",
       "    <tr>\n",
       "      <th>Z Khan</th>\n",
       "      <td>117</td>\n",
       "      <td>256.0</td>\n",
       "    </tr>\n",
       "  </tbody>\n",
       "</table>\n",
       "<p>605 rows × 2 columns</p>\n",
       "</div>\n",
       "      <button class=\"colab-df-convert\" onclick=\"convertToInteractive('df-3258e82e-c34c-4f9a-8fc7-6116b665c2cd')\"\n",
       "              title=\"Convert this dataframe to an interactive table.\"\n",
       "              style=\"display:none;\">\n",
       "        \n",
       "  <svg xmlns=\"http://www.w3.org/2000/svg\" height=\"24px\"viewBox=\"0 0 24 24\"\n",
       "       width=\"24px\">\n",
       "    <path d=\"M0 0h24v24H0V0z\" fill=\"none\"/>\n",
       "    <path d=\"M18.56 5.44l.94 2.06.94-2.06 2.06-.94-2.06-.94-.94-2.06-.94 2.06-2.06.94zm-11 1L8.5 8.5l.94-2.06 2.06-.94-2.06-.94L8.5 2.5l-.94 2.06-2.06.94zm10 10l.94 2.06.94-2.06 2.06-.94-2.06-.94-.94-2.06-.94 2.06-2.06.94z\"/><path d=\"M17.41 7.96l-1.37-1.37c-.4-.4-.92-.59-1.43-.59-.52 0-1.04.2-1.43.59L10.3 9.45l-7.72 7.72c-.78.78-.78 2.05 0 2.83L4 21.41c.39.39.9.59 1.41.59.51 0 1.02-.2 1.41-.59l7.78-7.78 2.81-2.81c.8-.78.8-2.07 0-2.86zM5.41 20L4 18.59l7.72-7.72 1.47 1.35L5.41 20z\"/>\n",
       "  </svg>\n",
       "      </button>\n",
       "      \n",
       "  <style>\n",
       "    .colab-df-container {\n",
       "      display:flex;\n",
       "      flex-wrap:wrap;\n",
       "      gap: 12px;\n",
       "    }\n",
       "\n",
       "    .colab-df-convert {\n",
       "      background-color: #E8F0FE;\n",
       "      border: none;\n",
       "      border-radius: 50%;\n",
       "      cursor: pointer;\n",
       "      display: none;\n",
       "      fill: #1967D2;\n",
       "      height: 32px;\n",
       "      padding: 0 0 0 0;\n",
       "      width: 32px;\n",
       "    }\n",
       "\n",
       "    .colab-df-convert:hover {\n",
       "      background-color: #E2EBFA;\n",
       "      box-shadow: 0px 1px 2px rgba(60, 64, 67, 0.3), 0px 1px 3px 1px rgba(60, 64, 67, 0.15);\n",
       "      fill: #174EA6;\n",
       "    }\n",
       "\n",
       "    [theme=dark] .colab-df-convert {\n",
       "      background-color: #3B4455;\n",
       "      fill: #D2E3FC;\n",
       "    }\n",
       "\n",
       "    [theme=dark] .colab-df-convert:hover {\n",
       "      background-color: #434B5C;\n",
       "      box-shadow: 0px 1px 3px 1px rgba(0, 0, 0, 0.15);\n",
       "      filter: drop-shadow(0px 1px 2px rgba(0, 0, 0, 0.3));\n",
       "      fill: #FFFFFF;\n",
       "    }\n",
       "  </style>\n",
       "\n",
       "      <script>\n",
       "        const buttonEl =\n",
       "          document.querySelector('#df-3258e82e-c34c-4f9a-8fc7-6116b665c2cd button.colab-df-convert');\n",
       "        buttonEl.style.display =\n",
       "          google.colab.kernel.accessAllowed ? 'block' : 'none';\n",
       "\n",
       "        async function convertToInteractive(key) {\n",
       "          const element = document.querySelector('#df-3258e82e-c34c-4f9a-8fc7-6116b665c2cd');\n",
       "          const dataTable =\n",
       "            await google.colab.kernel.invokeFunction('convertToInteractive',\n",
       "                                                     [key], {});\n",
       "          if (!dataTable) return;\n",
       "\n",
       "          const docLinkHtml = 'Like what you see? Visit the ' +\n",
       "            '<a target=\"_blank\" href=https://colab.research.google.com/notebooks/data_table.ipynb>data table notebook</a>'\n",
       "            + ' to learn more about interactive tables.';\n",
       "          element.innerHTML = '';\n",
       "          dataTable['output_type'] = 'display_data';\n",
       "          await google.colab.output.renderOutput(dataTable, element);\n",
       "          const docLink = document.createElement('div');\n",
       "          docLink.innerHTML = docLinkHtml;\n",
       "          element.appendChild(docLink);\n",
       "        }\n",
       "      </script>\n",
       "    </div>\n",
       "  </div>\n",
       "  "
      ],
      "text/plain": [
       "                batsman_run  batting_rank\n",
       "batter                                   \n",
       "A Ashish Reddy          280         166.5\n",
       "A Badoni                161         226.0\n",
       "A Chandila                4         535.0\n",
       "A Chopra                 53         329.0\n",
       "A Choudhary              25         402.5\n",
       "...                     ...           ...\n",
       "Yash Dayal                0         594.0\n",
       "Yashpal Singh            47         343.0\n",
       "Younis Khan               3         547.5\n",
       "Yuvraj Singh           2754          27.0\n",
       "Z Khan                  117         256.0\n",
       "\n",
       "[605 rows x 2 columns]"
      ]
     },
     "execution_count": 170,
     "metadata": {},
     "output_type": "execute_result"
    }
   ],
   "source": [
    "batsman"
   ]
  },
  {
   "cell_type": "code",
   "execution_count": null,
   "metadata": {
    "colab": {
     "base_uri": "https://localhost:8080/",
     "height": 455
    },
    "id": "_I9ofkl2Puf7",
    "outputId": "d2dd8c81-2b57-4763-f750-77cdcafed33c"
   },
   "outputs": [
    {
     "data": {
      "text/html": [
       "\n",
       "  <div id=\"df-9dd3a076-4fbe-4d6b-90ed-60f9d8f31da5\">\n",
       "    <div class=\"colab-df-container\">\n",
       "      <div>\n",
       "<style scoped>\n",
       "    .dataframe tbody tr th:only-of-type {\n",
       "        vertical-align: middle;\n",
       "    }\n",
       "\n",
       "    .dataframe tbody tr th {\n",
       "        vertical-align: top;\n",
       "    }\n",
       "\n",
       "    .dataframe thead th {\n",
       "        text-align: right;\n",
       "    }\n",
       "</style>\n",
       "<table border=\"1\" class=\"dataframe\">\n",
       "  <thead>\n",
       "    <tr style=\"text-align: right;\">\n",
       "      <th></th>\n",
       "      <th>batter</th>\n",
       "      <th>batsman_run</th>\n",
       "    </tr>\n",
       "    <tr>\n",
       "      <th>batting_rank</th>\n",
       "      <th></th>\n",
       "      <th></th>\n",
       "    </tr>\n",
       "  </thead>\n",
       "  <tbody>\n",
       "    <tr>\n",
       "      <th>166.5</th>\n",
       "      <td>A Ashish Reddy</td>\n",
       "      <td>280</td>\n",
       "    </tr>\n",
       "    <tr>\n",
       "      <th>226.0</th>\n",
       "      <td>A Badoni</td>\n",
       "      <td>161</td>\n",
       "    </tr>\n",
       "    <tr>\n",
       "      <th>535.0</th>\n",
       "      <td>A Chandila</td>\n",
       "      <td>4</td>\n",
       "    </tr>\n",
       "    <tr>\n",
       "      <th>329.0</th>\n",
       "      <td>A Chopra</td>\n",
       "      <td>53</td>\n",
       "    </tr>\n",
       "    <tr>\n",
       "      <th>402.5</th>\n",
       "      <td>A Choudhary</td>\n",
       "      <td>25</td>\n",
       "    </tr>\n",
       "    <tr>\n",
       "      <th>...</th>\n",
       "      <td>...</td>\n",
       "      <td>...</td>\n",
       "    </tr>\n",
       "    <tr>\n",
       "      <th>594.0</th>\n",
       "      <td>Yash Dayal</td>\n",
       "      <td>0</td>\n",
       "    </tr>\n",
       "    <tr>\n",
       "      <th>343.0</th>\n",
       "      <td>Yashpal Singh</td>\n",
       "      <td>47</td>\n",
       "    </tr>\n",
       "    <tr>\n",
       "      <th>547.5</th>\n",
       "      <td>Younis Khan</td>\n",
       "      <td>3</td>\n",
       "    </tr>\n",
       "    <tr>\n",
       "      <th>27.0</th>\n",
       "      <td>Yuvraj Singh</td>\n",
       "      <td>2754</td>\n",
       "    </tr>\n",
       "    <tr>\n",
       "      <th>256.0</th>\n",
       "      <td>Z Khan</td>\n",
       "      <td>117</td>\n",
       "    </tr>\n",
       "  </tbody>\n",
       "</table>\n",
       "<p>605 rows × 2 columns</p>\n",
       "</div>\n",
       "      <button class=\"colab-df-convert\" onclick=\"convertToInteractive('df-9dd3a076-4fbe-4d6b-90ed-60f9d8f31da5')\"\n",
       "              title=\"Convert this dataframe to an interactive table.\"\n",
       "              style=\"display:none;\">\n",
       "        \n",
       "  <svg xmlns=\"http://www.w3.org/2000/svg\" height=\"24px\"viewBox=\"0 0 24 24\"\n",
       "       width=\"24px\">\n",
       "    <path d=\"M0 0h24v24H0V0z\" fill=\"none\"/>\n",
       "    <path d=\"M18.56 5.44l.94 2.06.94-2.06 2.06-.94-2.06-.94-.94-2.06-.94 2.06-2.06.94zm-11 1L8.5 8.5l.94-2.06 2.06-.94-2.06-.94L8.5 2.5l-.94 2.06-2.06.94zm10 10l.94 2.06.94-2.06 2.06-.94-2.06-.94-.94-2.06-.94 2.06-2.06.94z\"/><path d=\"M17.41 7.96l-1.37-1.37c-.4-.4-.92-.59-1.43-.59-.52 0-1.04.2-1.43.59L10.3 9.45l-7.72 7.72c-.78.78-.78 2.05 0 2.83L4 21.41c.39.39.9.59 1.41.59.51 0 1.02-.2 1.41-.59l7.78-7.78 2.81-2.81c.8-.78.8-2.07 0-2.86zM5.41 20L4 18.59l7.72-7.72 1.47 1.35L5.41 20z\"/>\n",
       "  </svg>\n",
       "      </button>\n",
       "      \n",
       "  <style>\n",
       "    .colab-df-container {\n",
       "      display:flex;\n",
       "      flex-wrap:wrap;\n",
       "      gap: 12px;\n",
       "    }\n",
       "\n",
       "    .colab-df-convert {\n",
       "      background-color: #E8F0FE;\n",
       "      border: none;\n",
       "      border-radius: 50%;\n",
       "      cursor: pointer;\n",
       "      display: none;\n",
       "      fill: #1967D2;\n",
       "      height: 32px;\n",
       "      padding: 0 0 0 0;\n",
       "      width: 32px;\n",
       "    }\n",
       "\n",
       "    .colab-df-convert:hover {\n",
       "      background-color: #E2EBFA;\n",
       "      box-shadow: 0px 1px 2px rgba(60, 64, 67, 0.3), 0px 1px 3px 1px rgba(60, 64, 67, 0.15);\n",
       "      fill: #174EA6;\n",
       "    }\n",
       "\n",
       "    [theme=dark] .colab-df-convert {\n",
       "      background-color: #3B4455;\n",
       "      fill: #D2E3FC;\n",
       "    }\n",
       "\n",
       "    [theme=dark] .colab-df-convert:hover {\n",
       "      background-color: #434B5C;\n",
       "      box-shadow: 0px 1px 3px 1px rgba(0, 0, 0, 0.15);\n",
       "      filter: drop-shadow(0px 1px 2px rgba(0, 0, 0, 0.3));\n",
       "      fill: #FFFFFF;\n",
       "    }\n",
       "  </style>\n",
       "\n",
       "      <script>\n",
       "        const buttonEl =\n",
       "          document.querySelector('#df-9dd3a076-4fbe-4d6b-90ed-60f9d8f31da5 button.colab-df-convert');\n",
       "        buttonEl.style.display =\n",
       "          google.colab.kernel.accessAllowed ? 'block' : 'none';\n",
       "\n",
       "        async function convertToInteractive(key) {\n",
       "          const element = document.querySelector('#df-9dd3a076-4fbe-4d6b-90ed-60f9d8f31da5');\n",
       "          const dataTable =\n",
       "            await google.colab.kernel.invokeFunction('convertToInteractive',\n",
       "                                                     [key], {});\n",
       "          if (!dataTable) return;\n",
       "\n",
       "          const docLinkHtml = 'Like what you see? Visit the ' +\n",
       "            '<a target=\"_blank\" href=https://colab.research.google.com/notebooks/data_table.ipynb>data table notebook</a>'\n",
       "            + ' to learn more about interactive tables.';\n",
       "          element.innerHTML = '';\n",
       "          dataTable['output_type'] = 'display_data';\n",
       "          await google.colab.output.renderOutput(dataTable, element);\n",
       "          const docLink = document.createElement('div');\n",
       "          docLink.innerHTML = docLinkHtml;\n",
       "          element.appendChild(docLink);\n",
       "        }\n",
       "      </script>\n",
       "    </div>\n",
       "  </div>\n",
       "  "
      ],
      "text/plain": [
       "                      batter  batsman_run\n",
       "batting_rank                             \n",
       "166.5         A Ashish Reddy          280\n",
       "226.0               A Badoni          161\n",
       "535.0             A Chandila            4\n",
       "329.0               A Chopra           53\n",
       "402.5            A Choudhary           25\n",
       "...                      ...          ...\n",
       "594.0             Yash Dayal            0\n",
       "343.0          Yashpal Singh           47\n",
       "547.5            Younis Khan            3\n",
       "27.0            Yuvraj Singh         2754\n",
       "256.0                 Z Khan          117\n",
       "\n",
       "[605 rows x 2 columns]"
      ]
     },
     "execution_count": 174,
     "metadata": {},
     "output_type": "execute_result"
    }
   ],
   "source": [
    "# how to replace existing index without loosing\n",
    "batsman.reset_index().set_index('batting_rank')"
   ]
  },
  {
   "cell_type": "code",
   "execution_count": 32,
   "metadata": {
    "colab": {
     "base_uri": "https://localhost:8080/",
     "height": 175
    },
    "id": "-UfAG2wVP0TA",
    "outputId": "c6ef86ef-bcf7-4dcd-b541-8a2ee081c67d"
   },
   "outputs": [
    {
     "data": {
      "application/vnd.microsoft.datawrangler.viewer.v0+json": {
       "columns": [
        {
         "name": "index",
         "rawType": "int64",
         "type": "integer"
        },
        {
         "name": "index",
         "rawType": "object",
         "type": "string"
        },
        {
         "name": "0",
         "rawType": "int64",
         "type": "integer"
        }
       ],
       "ref": "c8dce258-3047-4b2e-8d70-f379b985b6c7",
       "rows": [
        [
         "0",
         "maths",
         "67"
        ],
        [
         "1",
         "english",
         "57"
        ],
        [
         "2",
         "science",
         "89"
        ],
        [
         "3",
         "hindi",
         "100"
        ]
       ],
       "shape": {
        "columns": 2,
        "rows": 4
       }
      },
      "text/html": [
       "<div>\n",
       "<style scoped>\n",
       "    .dataframe tbody tr th:only-of-type {\n",
       "        vertical-align: middle;\n",
       "    }\n",
       "\n",
       "    .dataframe tbody tr th {\n",
       "        vertical-align: top;\n",
       "    }\n",
       "\n",
       "    .dataframe thead th {\n",
       "        text-align: right;\n",
       "    }\n",
       "</style>\n",
       "<table border=\"1\" class=\"dataframe\">\n",
       "  <thead>\n",
       "    <tr style=\"text-align: right;\">\n",
       "      <th></th>\n",
       "      <th>index</th>\n",
       "      <th>0</th>\n",
       "    </tr>\n",
       "  </thead>\n",
       "  <tbody>\n",
       "    <tr>\n",
       "      <th>0</th>\n",
       "      <td>maths</td>\n",
       "      <td>67</td>\n",
       "    </tr>\n",
       "    <tr>\n",
       "      <th>1</th>\n",
       "      <td>english</td>\n",
       "      <td>57</td>\n",
       "    </tr>\n",
       "    <tr>\n",
       "      <th>2</th>\n",
       "      <td>science</td>\n",
       "      <td>89</td>\n",
       "    </tr>\n",
       "    <tr>\n",
       "      <th>3</th>\n",
       "      <td>hindi</td>\n",
       "      <td>100</td>\n",
       "    </tr>\n",
       "  </tbody>\n",
       "</table>\n",
       "</div>"
      ],
      "text/plain": [
       "     index    0\n",
       "0    maths   67\n",
       "1  english   57\n",
       "2  science   89\n",
       "3    hindi  100"
      ]
     },
     "execution_count": 32,
     "metadata": {},
     "output_type": "execute_result"
    }
   ],
   "source": [
    "# series to dataframe using reset_index\n",
    "marks_series.reset_index()  "
   ]
  },
  {
   "cell_type": "code",
   "execution_count": null,
   "metadata": {
    "id": "NU8hWAHMP5hP"
   },
   "outputs": [],
   "source": [
    "# rename(dataframe) -> index"
   ]
  },
  {
   "cell_type": "code",
   "execution_count": 33,
   "metadata": {
    "id": "v16dzAaznTuj"
   },
   "outputs": [],
   "source": [
    "movies.set_index('title_x',inplace=True)"
   ]
  },
  {
   "cell_type": "code",
   "execution_count": 34,
   "metadata": {
    "id": "n1lzS_PXZW1-"
   },
   "outputs": [],
   "source": [
    "movies.rename(columns={'imdb_id':'imdb','poster_path':'link'},inplace=True)"
   ]
  },
  {
   "cell_type": "code",
   "execution_count": 35,
   "metadata": {
    "colab": {
     "base_uri": "https://localhost:8080/",
     "height": 1000
    },
    "id": "2HheqRNuZsEf",
    "outputId": "4d71f7aa-cdc0-42ca-c9d8-6fa452a70f5b"
   },
   "outputs": [
    {
     "data": {
      "application/vnd.microsoft.datawrangler.viewer.v0+json": {
       "columns": [
        {
         "name": "title_x",
         "rawType": "object",
         "type": "string"
        },
        {
         "name": "imdb",
         "rawType": "object",
         "type": "string"
        },
        {
         "name": "link",
         "rawType": "object",
         "type": "unknown"
        },
        {
         "name": "wiki_link",
         "rawType": "object",
         "type": "string"
        },
        {
         "name": "title_y",
         "rawType": "object",
         "type": "string"
        },
        {
         "name": "original_title",
         "rawType": "object",
         "type": "string"
        },
        {
         "name": "is_adult",
         "rawType": "int64",
         "type": "integer"
        },
        {
         "name": "year_of_release",
         "rawType": "int64",
         "type": "integer"
        },
        {
         "name": "runtime",
         "rawType": "object",
         "type": "string"
        },
        {
         "name": "genres",
         "rawType": "object",
         "type": "string"
        },
        {
         "name": "imdb_rating",
         "rawType": "float64",
         "type": "float"
        },
        {
         "name": "imdb_votes",
         "rawType": "int64",
         "type": "integer"
        },
        {
         "name": "story",
         "rawType": "object",
         "type": "unknown"
        },
        {
         "name": "summary",
         "rawType": "object",
         "type": "string"
        },
        {
         "name": "tagline",
         "rawType": "object",
         "type": "unknown"
        },
        {
         "name": "actors",
         "rawType": "object",
         "type": "unknown"
        },
        {
         "name": "wins_nominations",
         "rawType": "object",
         "type": "unknown"
        },
        {
         "name": "release_date",
         "rawType": "object",
         "type": "unknown"
        }
       ],
       "ref": "c4e278eb-da57-446c-a576-b0380909c3c9",
       "rows": [
        [
         "Uri",
         "tt8291224",
         "https://upload.wikimedia.org/wikipedia/en/thumb/3/3b/URI_-_New_poster.jpg/220px-URI_-_New_poster.jpg",
         "https://en.wikipedia.org/wiki/Uri:_The_Surgical_Strike",
         "Uri: The Surgical Strike",
         "Uri: The Surgical Strike",
         "0",
         "2019",
         "138",
         "Action|Drama|War",
         "8.4",
         "35112",
         "Divided over five chapters  the film chronicles the events of the surgical strike conducted by the Indian military against suspected militants in Pakistan occupied Kashmir. It tells the story of the 11 tumultuous events over which the operation was carried out. Indian army special forces carry out a covert operation to avenge the killing of fellow army men at their base by a terrorist group.",
         "Indian army special forces execute a covert operation  avenging the killing of fellow army men at their base by a terrorist group.",
         null,
         "Vicky Kaushal|Paresh Rawal|Mohit Raina|Yami Gautam|Kirti Kulhari|Rajit Kapoor|Ivan Rodrigues|Manasi Parekh|Swaroop Sampat|Riva Arora|Yogesh Soman|Fareed Ahmed|Akashdeep Arora|Kallol Banerjee|",
         "4 wins",
         "11 January 2019 (USA)"
        ],
        [
         "Battalion",
         "tt9472208",
         null,
         "https://en.wikipedia.org/wiki/Battalion_609",
         "Battalion 609",
         "Battalion 609",
         "0",
         "2019",
         "131",
         "War",
         "4.1",
         "73",
         "The story revolves around a cricket match between the Indian Army and the Pakistan Army gone wrong and narrates the tale of the soldiers of Battalion 609 putting up a fight with Taliban. After an attack on Indian Army that is Battalion 609 near the LOC  the match which was to be played between India and Pakistan is cancelled. Anwar Hussein  a Pakistani soldier who is very fond of cricket and was looking forward to the match  throws a cricket bat at the other end of the LOC and calls the Indian army and Indians a bunch of cowards. In anger  the Indian army throws a ball towards them. Soon  a verbal fight breaks between them which leads to the two teams deciding to play a cricket match. The losing team will take their post eighteen kilometres back.",
         "The story of Battalion 609 revolves around a cricket match between the Indian Army and the Pakistan army gone wrong and narrates the tale of the brave soldiers of Battalion 609 putting up a fight with the mighty Taliban.",
         null,
         "Vicky Ahuja|Shoaib Ibrahim|Shrikant Kamat|Elena Kazan|Vishwas Kini|Major Kishore|Jashn Kohli|Rammy C. Pandey|Manish Sharma|Sparsh Sharma|Farnaz Shetty|Vikas Shrivastav|Chandraprakash Thakur|Brajesh Tiwari|",
         null,
         "11 January 2019 (India)"
        ],
        [
         "The Accidental Prime Minister (film)",
         "tt6986710",
         "https://upload.wikimedia.org/wikipedia/en/thumb/a/a1/The_Accidental_Prime_Minister_film.jpg/220px-The_Accidental_Prime_Minister_film.jpg",
         "https://en.wikipedia.org/wiki/The_Accidental_Prime_Minister_(film)",
         "The Accidental Prime Minister",
         "The Accidental Prime Minister",
         "0",
         "2019",
         "112",
         "Biography|Drama",
         "6.1",
         "5549",
         "Based on the memoir by Indian policy analyst Sanjaya Baru  The Accidental Prime Minister explores Manmohan Singh's tenure as the Prime Minister of India  and the interference of Congress Party in contradicting his decisions during his first tenure. He details how Singh fell a victim to Congress Party's dynastic approach. It highlights how Manmohan Singh was constantly ignored by Congress to maintain turf for Rahul Gandhi  the son of Sonia Gandhi and Rajiv Gandhi.",
         "Explores Manmohan Singh's tenure as the Prime Minister of India and the kind of control he had over the cabinet and the country.",
         null,
         "Anupam Kher|Akshaye Khanna|Aahana Kumra|Atul Sharma|Manoj Anand|Arjun Mathur|Suzanne Bernert|Abdul Quadir Amin|Bharat Mistri|Divya Seth|Anil Rastogi|Ramesh Bhatkar|Parrgash Kaur|Jess Kaur|",
         null,
         "11 January 2019 (USA)"
        ],
        [
         "Why Cheat India",
         "tt8108208",
         "https://upload.wikimedia.org/wikipedia/en/thumb/a/a2/Why_Cheat_India_poster.jpg/220px-Why_Cheat_India_poster.jpg",
         "https://en.wikipedia.org/wiki/Why_Cheat_India",
         "Why Cheat India",
         "Why Cheat India",
         "0",
         "2019",
         "121",
         "Crime|Drama",
         "6.0",
         "1891",
         "The movie focuses on existing malpractices in country's education system  the whole concept of buying your way through education  jobs and earnings. Even with an evolving education system  the country faces scams like SSC and HSC paper leaks  CBSE re-examination  Vyaapam  etc. The movie tries to shift the attention of people to understand the vulnerability of hardworking and gifted students who get left out.",
         "The movie focuses on existing malpractices in country's education system  the whole concept of buying your way through education  jobs and earnings. Even with an evolving education system  ...                    ",
         null,
         "Emraan Hashmi|Shreya Dhanwanthary|Snighdadeep Chatterji|Navneet Srivastava|Nanda Yadav|",
         null,
         "18 January 2019 (USA)"
        ],
        [
         "Evening Shadows",
         "tt6028796",
         null,
         "https://en.wikipedia.org/wiki/Evening_Shadows",
         "Evening Shadows",
         "Evening Shadows",
         "0",
         "2018",
         "102",
         "Drama",
         "7.3",
         "280",
         "While gay rights and marriage equality has been embraced by most countries  a small town in Southern India lives within a cocoon of traditions and social morality. In such a milieu when a young gay man Kartik  comes out to his mother Vasudha  her entire world comes crashing down. She has no one to turn to dispel her fears and doubts  to understand her loving son's truth. Moreover as a woman  trapped within a patriarchal conservative society  her biggest challenge is to deal with her dogmatic husband Damodar  and the conservative society around her. 'Evening Shadows' is a universal story about a mother-son bonding and its emotional strength to withstand the ravages of time and harsh realities.",
         "Under the 'Evening Shadows'  truth often plays hide and seek. Set in South India and Mumbai  'Evening Shadows' is a tender heartwarming story about a mother-son bond that has to withstand the ravages of time  distance and truths.",
         null,
         "Mona Ambegaonkar|Ananth Narayan Mahadevan|Devansh Doshi|Arpit Chaudhary|Yamini Singh|Abhay Kulkarni|Veena Nair|Disha Thakur|Kala Ramanathan|Sushant Divgikar|",
         "17 wins & 1 nomination",
         "11 January 2019 (India)"
        ],
        [
         "Soni (film)",
         "tt6078866",
         "https://upload.wikimedia.org/wikipedia/en/thumb/d/de/Soni_India_Netflix_Movie_Poster.jpg/220px-Soni_India_Netflix_Movie_Poster.jpg",
         "https://en.wikipedia.org/wiki/Soni_(film)",
         "Soni",
         "Soni",
         "0",
         "2018",
         "97",
         "Drama",
         "7.2",
         "1595",
         "Soni  a young policewoman in Delhi  and her superintendent  Kalpana  have collectively taken on a growing crisis of violent crimes against women. However  their alliance suffers a major setback when Soni is transferred out for alleged misconduct on duty.",
         "While fighting crimes against women in Delhi  a short-fused policewoman and her level-headed female boss grapple with gender issues in their own lives.",
         null,
         "Geetika Vidya Ohlyan|Saloni Batra|Vikas Shukla|Mohit Chauhan|Himanshu Kohli|Gauri Chakraborty|Mohinder Gujral|Upasya Goswami|Simrat Kaur|Dimple Kaur|Prateek Pachori|Kalpana Jha|Samar|",
         "3 wins & 5 nominations",
         "18 January 2019 (USA)"
        ],
        [
         "Fraud Saiyaan",
         "tt5013008",
         "https://upload.wikimedia.org/wikipedia/en/thumb/4/48/Fraud_Saiyyan_film_poster.jpg/220px-Fraud_Saiyyan_film_poster.jpg",
         "https://en.wikipedia.org/wiki/Fraud_Saiyaan",
         "Fraud Saiyaan",
         "Fraud Saiyyan",
         "0",
         "2019",
         "109",
         "Comedy|Drama",
         "4.2",
         "504",
         "Fraud Saiyyan is the story of a con artist in North India who convinces women to marry him just so he can live off their money.",
         "Fraud Saiyyan is the story of a con artist in North India who convinces women to marry him just so he can live off their money.",
         null,
         "Arshad Warsi|Saurabh Shukla|Flora Saini|Sara Loren|Varun Badola|Deepali Pansare|Nivedita Tiwari|Peeyush Suhaney|Preeti Sood|Parag Tyagi|Anangsha Biswas|Amanda Rosario|Elli Avrram|",
         null,
         "18 January 2019 (India)"
        ],
        [
         "Bombairiya",
         "tt4971258",
         "https://upload.wikimedia.org/wikipedia/en/thumb/b/bb/Bombairiya_poster.jpg/220px-Bombairiya_poster.jpg",
         "https://en.wikipedia.org/wiki/Bombairiya",
         "Bombairiya",
         "Bombairiya",
         "0",
         "2019",
         "104",
         "Comedy|Crime|Drama",
         "4.3",
         "295",
         "It follows the story of Meghna  who gets embroiled in a series of events after her phone gets stolen.",
         "It follows the story of Meghna  who gets embroiled in a series of events after her phone gets stolen.",
         "They didn't mean to change the world.",
         "Radhika Apte|Akshay Oberoi|Siddhanth Kapoor|Ravi Kishan|Adil Hussain|Shilpa Shukla|Ajinkya Deo|Amit Sial|",
         null,
         "18 January 2019 (India)"
        ],
        [
         "Manikarnika: The Queen of Jhansi",
         "tt6903440",
         "https://upload.wikimedia.org/wikipedia/en/thumb/4/44/Manikarnika_Poster.jpg/220px-Manikarnika_Poster.jpg",
         "https://en.wikipedia.org/wiki/Manikarnika:_The_Queen_of_Jhansi",
         "Manikarnika: The Queen of Jhansi",
         "Manikarnika: The Queen of Jhansi",
         "0",
         "2019",
         "148",
         "Action|Biography|Drama",
         "6.5",
         "7361",
         "Manikarnika born in Varanasi when Dixt a minister in Jhansi princely state sees her he proposes her marriage to Gangadar Rao prince of Jhansi.Sadashiv Rao plots along with British officers to conquer Jhansi as he Is promised a stake in it after conquering Jhansi.After the birth of Lakshmi and Gangadar Rao's son Sadashiv Rao sees his place in fear and poison the holy water during the naming ceremony of the child following which he passes away and also leaves Gangadar Rao on death bed.Gangadar Rao decides to adopt a son and Sadashiv Rao feels guilty of not adopting his son instead a toddler who comes running to Lakshmi Bai.After death of Gangadar Rao.The East India Company decides to conquer on Jhansi as there is no male ruler.But Lakshmi Bai decides to take the throne on herself and fight for Jhansi.",
         "Story of Rani Lakshmibai  one of the leading figures of the Indian Rebellion of 1857 and her resistance to the British Rule.",
         null,
         "Kangana Ranaut|Rimi Sen|Atul Kulkarni|Nalneesh Neel|Danny Denzongpa|Mishti|Kulbhushan Kharbanda|Mohammed Zeeshan Ayyub|Anil George|Vikram Kochhar|Edward Sonnenblick|Ankita Lokhande|Richard Keep|Jishu Sengupta|",
         null,
         "25 January 2019 (USA)"
        ],
        [
         "Thackeray (film)",
         "tt7777196",
         "https://upload.wikimedia.org/wikipedia/en/thumb/8/8e/Thackeray_film_poster.jpeg/220px-Thackeray_film_poster.jpeg",
         "https://en.wikipedia.org/wiki/Thackeray_(film)",
         "Thackeray",
         "Thackeray",
         "0",
         "2019",
         "120",
         "Biography|Drama",
         "5.1",
         "2301",
         "Balasaheb Thackrey works as a cartoonist for a newspaper. But his editor isn't happy with it as he creates cartoons of politician which affects the sales of his paper.He is asked to try something else but he quits his job and now his only aim is to fight for the rights of Marathi people. He sees that Marathi people don't have any respect and are made to do all odd works. With a few people  he starts to help the needy and gains respect. To fight for the rights he also goes against the law and comes in the eye of politics. After entering politics he starts his own party named after Shivaji Maharaj as Shiv Sena. After giving Marathi Manoos his equal rights his only wish is that one day the Chief Minister of Maharashtra should be a Marathi Manoos.",
         "Biographical account of Shiv Sena Supremo  Balasaheb Thackeray.",
         null,
         "Nawazuddin Siddiqui|Amrita Rao|Abdul Quadir Amin|Sanjay Narvekar|Prakash Belawadi|Vineet Sharma|Radha Sagar|Sonamoni Jayant Gadekar|Satish Alekar|Micky Makhija|Nikhil Mahajan|Resh Lamba|Jaywant Wadkar|Laxman Singh Rajput|",
         null,
         "25 January 2019 (India)"
        ],
        [
         "Amavas",
         "tt8396186",
         "https://upload.wikimedia.org/wikipedia/en/thumb/b/b3/Amavas_official_poster.jpg/220px-Amavas_official_poster.jpg",
         "https://en.wikipedia.org/wiki/Amavas",
         "Amavas",
         "Amavas",
         "0",
         "2019",
         "134",
         "Horror|Thriller",
         "2.8",
         "235",
         "Far away from the bustle of the city  a young couple is looking forward to their stay in a once-abandoned palatial mansion. But their lives are about to turn into a nightmare  as dark forces lie in wait beneath the shadows of the haunted bungalow.",
         "The lives of a couple turn into a nightmare  as dark forces lie in wait beneath the shadows of the haunted bungalow in which they have decided to stay.",
         null,
         "Ali Asgar|Vivan Bhatena|Nargis Fakhri|Sachiin Joshi|Shabnam Karimzada|Kevin Matadeen|",
         null,
         "8 February 2019 (India)"
        ],
        [
         "Gully Boy",
         "tt2395469",
         "https://upload.wikimedia.org/wikipedia/en/thumb/0/07/Gully_Boy_poster.jpg/220px-Gully_Boy_poster.jpg",
         "https://en.wikipedia.org/wiki/Gully_Boy",
         "Gully Boy",
         "Gully Boy",
         "0",
         "2019",
         "153",
         "Drama|Music",
         "8.2",
         "22440",
         "Gully Boy is a film about a 22-year-old boy \"Murad\" from a ghetto in Mumbai  India. The son of a driver  his parents worked hard to get him educated so that he could have a white collar job. Meanwhile  Murad realizes his calling to be a rapper. Authentic Hip Hop in India is a recent phenomenon and like anywhere else in the world  is rising from the streets. Art is a distant dream for the colonized poor of India and this story is about Murad's journey from realizing his love for rap and chasing his dream to inadvertently transcending his class. The film showcases street rap from the crevices of Mumbai's by lanes. The poetry is conscious of the city's socio-economic fabric and highlights the challenges faced by the disenfranchised youth in the minority population.",
         "A coming-of-age story based on the lives of street rappers in Mumbai.",
         "Apna Time Aayega!",
         "Ranveer Singh|Alia Bhatt|Siddhant Chaturvedi|Vijay Raaz|Amruta Subhash|Vijay Varma|Kalki Koechlin|Ikhlaque Khan|Sheeba Chaddha|Jyoti Subhash|Rahul Piske|Nakul Sachdeva|Shruti Chauhan|Aishwarya Desai|",
         "6 wins & 3 nominations",
         "14 February 2019 (USA)"
        ],
        [
         "Hum Chaar",
         "tt9319812",
         "https://upload.wikimedia.org/wikipedia/en/thumb/8/88/Hum_Chaar_poster.jpg/220px-Hum_Chaar_poster.jpg",
         "https://en.wikipedia.org/wiki/Hum_Chaar",
         "Hum chaar",
         "Hum chaar",
         "0",
         "2019",
         "143",
         "Drama",
         "5.6",
         "183",
         "The story of the film revolves around four college friends went their own direction in life  but remained inseparable from each other.",
         "The story of the film revolves around four college friends went their own direction in life  but remained inseparable from each other.",
         null,
         "Prit Kamani|Simran Sharma|Anshuman Malhotra|Tushar Pandey|Vibha Anand|Jatin Goswami|Jagat Rawat|Sonal Jha|Shailesh Datar|Jayshankar Tripathi|Alok Pandey|Sushant Mohindru|Shahnawaz Pradhan|Amit Kumar Jha|",
         null,
         "15 February 2019 (India)"
        ],
        [
         "Total Dhamaal",
         "tt7639372",
         "https://upload.wikimedia.org/wikipedia/en/thumb/e/e7/Total_Dhamaal_poster.jpg/220px-Total_Dhamaal_poster.jpg",
         "https://en.wikipedia.org/wiki/Total_Dhamaal",
         "Total Dhamaal",
         "Total Dhamaal",
         "0",
         "2019",
         "130",
         "Action|Adventure|Comedy",
         "4.3",
         "4817",
         "Total Dhamaal is the third instalment in the Dhamaal franchise. A hidden booty of 50 crore leads to a mad chase amongst a bunch of greedy and eccentric characters. In them  are a bickering couple on the verge of a divorce  greedy siblings  local goons  a police commissioner and the mastermind of the loot. Will they finally discover the hidden treasure?",
         "A group of people learn about a hidden treasure and then they race to find it and claim it.",
         "The Wildest Adventure Ever",
         "Ajay Devgn|Madhuri Dixit|Anil Kapoor|Riteish Deshmukh|Arshad Warsi|Javed Jaffrey|Esha Gupta|Boman Irani|Sanjay Mishra|Vijay Patkar|Pitobash|Mahesh Manjrekar|Ali|",
         null,
         "22 February 2019 (India)"
        ],
        [
         "Sonchiriya",
         "tt8108200",
         "https://upload.wikimedia.org/wikipedia/en/thumb/4/46/Sonchiriya_poster.jpg/220px-Sonchiriya_poster.jpg",
         "https://en.wikipedia.org/wiki/Sonchiriya",
         "Sonchiriya",
         "Sonchiriya",
         "0",
         "2019",
         "143",
         "Action|Crime|Drama",
         "7.5",
         "2322",
         "This is the story of a group of rebels in Chambal. The year is 1975. The Prime Minister  Indira Gandhi  has declared Emergency in the country. Man Singh (Manoj Bajpayee) meanwhile leads a gang in Chambal  a region that more or less is lawless. Vakil Singh (Ranvir Shorey) and Lakhna (Sushant Singh Rajput) are important members of this gang. Man Singh is in need of money to procure new arms. Based on a tip from Lacchu (Jaspal Sharma)  he and his men descend to Brahmpuri village. A marriage is taking place in this hamlet where the groom is about to get a huge amount of gold and cash. Man Singh and his gang reaches the marriage venue in order to loot this wealth. However  the cops  led by Virender Gujjar (Ashutosh Rana) ambush the gang. In the tough fight  Man Singh and half of the gang get killed. Vakil  Lakhna and others escape. Vakil  now the leader of the gang  accuses Lakhna of betraying them and calling the cops. Lakhna is fed up of being a rebel and wants to surrender. Meanwhile  ...",
         "Set in the Chambal valley  the film follows the story of a legion of dreaded  warring dacoits who once terrorized the Indian heartlands.",
         null,
         "Sushant Singh Rajput|Bhumi Pednekar|Manoj Bajpayee|Ranvir Shorey|Ashutosh Rana|Gagandev Riar|",
         null,
         "1 March 2019 (India)"
        ],
        [
         "Badla (2019 film)",
         "tt8130968",
         "https://upload.wikimedia.org/wikipedia/en/0/0c/Badla_poster.jpg",
         "https://en.wikipedia.org/wiki/Badla_(2019_film)",
         "Badla",
         "Badla",
         "0",
         "2019",
         "118",
         "Crime|Drama|Mystery",
         "7.9",
         "15499",
         "Naina Sethi a successful entrepreneur finds herself locked in a hotel room.When she gains conscious she finds herself lying to corpse of her lover Arjun she is arrested for the murder.But left on bail her lawyer Jimmy hires a defense lawyer Badal Gupta who hasn't lost a case since last 40 years.Badal and Naina discuss about the events that happened during that day.But Badal feels that there are lot many loopholes in Naina's story.",
         "A dynamic young entrepreneur finds herself locked in a hotel room with the corpse of her dead lover. She hires a prestigious lawyer to defend her and they work together to figure out what actually happened.",
         null,
         "Amitabh Bachchan|Taapsee Pannu|Amrita Singh|Antonio Aakeel|Tony Luke|Tanveer Ghani|Tariqsafdar Hussain|Mark Mansfield|",
         "1 win",
         "8 March 2019 (India)"
        ],
        [
         "Mard Ko Dard Nahi Hota",
         "tt8055888",
         "https://upload.wikimedia.org/wikipedia/en/thumb/e/ef/Mard_Ko_Dard_Nahi_Hota.jpg/220px-Mard_Ko_Dard_Nahi_Hota.jpg",
         "https://en.wikipedia.org/wiki/Mard_Ko_Dard_Nahi_Hota",
         "Mard Ko Dard Nahin Hota",
         "Mard Ko Dard Nahin Hota",
         "0",
         "2018",
         "134",
         "Action|Comedy",
         "7.4",
         "3969",
         "It is a story of a young boy Surya who has a rare condition of Congenital Insensitivity to pain meaning he can not feel pain  and he sets out to learn martial arts and hunt down muggers.",
         "It is a story of a young boy Surya who has a rare condition of Congenital Insensitivity to pain meaning he can not feel pain  and he sets out to learn martial arts and hunt down muggers.",
         null,
         "Abhimanyu Dasani|Radhika Madan|Prateek Parmar|Satyajit Ganu|",
         "2 wins & 2 nominations",
         "22 March 2019 (USA)"
        ],
        [
         "Hamid (film)",
         "tt7527082",
         "https://upload.wikimedia.org/wikipedia/en/thumb/8/87/Hamid_film_poster.jpg/220px-Hamid_film_poster.jpg",
         "https://en.wikipedia.org/wiki/Hamid_(film)",
         "Hamid",
         "Hamid",
         "0",
         "2018",
         "108",
         "Drama",
         "7.7",
         "560",
         "Hamid's (8) father has gone missing. His mother Ishrat has turned indifferent towards Hamid and the entire world after the incident. Neglected and lonely  with a heart searching for answers  Hamid star gazes in the hope of meeting his father. The number 786 always bewildered Hamid. One day a teacher tells Hamid that this is God's number. Using his father's old mobile phone  after trying different combinations  he finally manages to connect to a person  who he is convinced is God. On the other side is Abhay  a hard-knuckled CRPF Jawaan. Hamid's phone call  though surprising at first  intrigues Abhay who engages in humouring Hamid. These two  unknowingly and unintentionally  change each other's world for the better.",
         "Eight year-old Hamid learns that 786 is God's number and decides to try and reach out to God  by dialing this number. He wants to talk to his father  who his mother tells him has gone to Allah. One fine day the phone call is answered.",
         null,
         "Talha Arshad Reshi|Vikas Kumar|Rasika Dugal|Sumit Kaul|Bashir Lone|Gurveer Singh|Ashraf Nagoo|Mir Sarwar|Qazi Faiz|Umar Adil|",
         null,
         "15 March 2019 (India)"
        ],
        [
         "Photograph (film)",
         "tt7778680",
         "https://upload.wikimedia.org/wikipedia/en/7/71/Photograph_%282019_poster%29.png",
         "https://en.wikipedia.org/wiki/Photograph_(film)",
         "Photograph",
         "Photograph",
         "0",
         "2019",
         "110",
         "Drama|Romance",
         "6.9",
         "2391",
         "Two lives intersect in Mumbai and go along together. A struggling street photographer  pressured to marry by his grandmother  convinces a shy stranger to pose as his fiancée. The pair develops a connection that transforms them in ways that they could not expect. From Ritesh Batra (The Lunchbox).",
         "A struggling street photographer in Mumbai  pressured to marry by his grandmother  convinces a shy stranger to pose as his fiancée. The pair develop a connection that transforms them in ways they could not expect.",
         null,
         "Nawazuddin Siddiqui|Sanya Malhotra|Sachin Khedekar|Denzil Smith|Brinda Trivedi|Lubna Salim|Rajesh Kumar Sharma|Shihaan Bakshi|Akash Sinha|Seema Pravin Shende|Robin Das|Bhagwan Das Patel|Ashok Pathak|Amarjeet Singh|",
         null,
         "17 May 2019 (USA)"
        ],
        [
         "Risknamaa",
         "tt9795264",
         null,
         "https://en.wikipedia.org/wiki/Risknamaa",
         "Risknamaa",
         "Risknamaa",
         "0",
         "2019",
         "123",
         "Thriller",
         "6.7",
         "11",
         "Sher Singh is the Sarpanch of his village. Whose same order for all  that whoever loves  will get the death punishment only. In this way Sher Singh has killed so many boys and girls  who loves each other. But one day that Sarpanch also falls in love and the girl whom Sher Singh loves  that girl is the wife of her younger brother.",
         "Sher Singh is the Sarpanch of his village. Whose same order for all  that whoever loves  will get the death punishment only. In this way Sher Singh has killed so many boys and girls  who ...                    ",
         null,
         "Garima Agarwal|Anupama|Parveen Bansala|Mahaveer Singh Fauji|Javed Haider|Shahbaaz Khan|Sachin Khari|Pramod Moutho|Aarun Nagar|Khyati Sharma|Ravi Sharma|Shashikant Sharma|",
         null,
         "15 March 2019 (India)"
        ],
        [
         "Mere Pyare Prime Minister",
         "tt8207768",
         "https://upload.wikimedia.org/wikipedia/en/thumb/2/24/Mere_Pyare_Prime_Minister_poster.jpg/220px-Mere_Pyare_Prime_Minister_poster.jpg",
         "https://en.wikipedia.org/wiki/Mere_Pyare_Prime_Minister",
         "Mere Pyare Prime Minister",
         "Mere Pyare Prime Minister",
         "0",
         "2018",
         "104",
         "Drama",
         "6.8",
         "344",
         "A story about four children living in a Mumbai slum in India. An eight-year old Kanhu writes a letter to the Prime Minister after a dramatic incident with his mother. A small boy has to achieve the impossible.",
         "A story about four children living in a Mumbai slum in India. An eight-year old Kanhu writes a letter to the Prime Minister after a dramatic incident with his mother. A small boy has to achieve the impossible.",
         "Meri Ek Arzi Sun Lo Zara",
         "Rasika Agashe|Sonia Albizuri|Syna Anand|Adarsh Bharti|Makrand Deshpande|Om Kanojiya|Atul Kulkarni|Anjali Patil|Prasad|Nachiket Purnapatre|Niteesh Wadhwa|",
         null,
         "15 March 2019 (India)"
        ],
        [
         "22 Yards",
         "tt9496212",
         "https://upload.wikimedia.org/wikipedia/en/thumb/f/f2/22_Yards_film_poster.jpeg/220px-22_Yards_film_poster.jpeg",
         "https://en.wikipedia.org/wiki/22_Yards",
         "22 Yards",
         "22 Yards",
         "0",
         "2019",
         "126",
         "Sport",
         "5.3",
         "124",
         "A dramatic portrayal of a victorious tale of a fallen cricket agent and a young cricketer.",
         "A dramatic portrayal of a victorious tale of a fallen cricket agent and a young cricketer.",
         null,
         "Barun Sobti|Rajit Kapur|Panchhi Bora|Kartikey Tripathi|",
         null,
         "15 March 2019 (India)"
        ],
        [
         "Kesari (film)",
         "tt6264938",
         "https://upload.wikimedia.org/wikipedia/en/thumb/c/c4/Kesari_poster.jpg/220px-Kesari_poster.jpg",
         "https://en.wikipedia.org/wiki/Kesari_(film)",
         "Kesari",
         "Kesari",
         "0",
         "2019",
         "150",
         "Action|Drama|History",
         "7.4",
         "10653",
         "This period war-drama showcases the 1897 Battle of Saragarhi. The plot focuses on Havildar Ishar Singh who led a platoon of 21 Sikhs against an invading army of 10 000 Afghans to defend the North-West Frontier Province. The event is considered as one of the greatest last-stands in history.",
         "Based on an incredible true story of the Battle of Saragarhi in which an army of 21 Sikhs fought against 10 000 Afghans in 1897.",
         null,
         "Akshay Kumar|Parineeti Chopra|Suvinder Vicky|Vansh Bhardwaj|Sumeet Basran|Ajit Singh|Sandeep Nahar|Harwinder Singh Aujla|Rakesh Sharma|Adhrit Sharma|Vivek Saini|Harbhagwan Singh|Rajdeep Singh Dhaliwal|Gurpreet Toti|",
         null,
         "21 March 2019 (USA)"
        ],
        [
         "Notebook (2019 film)",
         "tt9105014",
         "https://upload.wikimedia.org/wikipedia/en/thumb/7/7f/Notebook_film_poster.jpg/220px-Notebook_film_poster.jpg",
         "https://en.wikipedia.org/wiki/Notebook_(2019_film)",
         "Notebook",
         "Notebook",
         "0",
         "2019",
         "115",
         "Drama|Romance",
         "6.8",
         "1335",
         "In the Kashmir valley Kabir a former army officer comes as a teacher in a school which was once run by his father.The school has no facilities and is soon to be shut without a teacher.After finding about the new teacher students start to attend the school. But the they don't like Kabir as he is strict.Kabir then comes across the diary of previous teacher Firdaus and adopts her way of teaching and becomes friend of the students.He gets to know more about Firdaus and wants to know where and what she is doing presently.",
         "An ex-army officer  Kabir  becomes a teacher in Kashmir in a school that is in a miserable condition. Things take a turn when Kabir finds a notebook  left behind by the previous year's teacher Firdaus (Pranutan Bahl).",
         null,
         "Zaheer Iqbal|Pranutan Bahl|Mir Mohammed Mehroos|Mir Mohammed Zayan|Soliha Maqbool|Baba Hatim|Adiba Bhat|Hafsa Ashraf|Madikha|Bareen|Mozim Bhat|Mir Sarwar|Hemant Kher|Shrysh Zutshi|",
         null,
         "29 March 2019 (USA)"
        ],
        [
         "Junglee (2019 film)",
         "tt7463730",
         "https://upload.wikimedia.org/wikipedia/en/e/e2/Junglee_film_poster.jpg",
         "https://en.wikipedia.org/wiki/Junglee_(2019_film)",
         "Junglee",
         "Junglee",
         "0",
         "2019",
         "115",
         "Action|Adventure",
         "5.3",
         "1064",
         "Dipankar Nair runs a Elephant sanctuary but things have turned bad as hunters are frequently killing Elephants for their tusks.His son Raj a Vet in Mumbai arrives for 10th death anniversary of his mother befriends his childhood animals Bhola and Didi.Keshav an hunter has an eye on huge tusks of Bhola which could fetch good money.Keshav kills Bhola for his tusks and also Dipankar who tries to save him.The cops arrive at funeral of Dipankar and falsely implicate him of being with hunters and also frame Raj for it.",
         "The story revolves around a vet  who on his homecoming to his father's elephant reserve  encounters and fights an international poachers racket.",
         null,
         "Vidyut Jammwal|Lars Kjeldsen|",
         null,
         "29 March 2019 (USA)"
        ],
        [
         "Gone Kesh",
         "tt10017956",
         "https://upload.wikimedia.org/wikipedia/en/thumb/d/d1/Gone_Kesh_film_poster.jpg/220px-Gone_Kesh_film_poster.jpg",
         "https://en.wikipedia.org/wiki/Gone_Kesh",
         "Gone Kesh",
         "Gone Kesh",
         "0",
         "2019",
         "110",
         "Drama",
         "7.1",
         "178",
         "Enakshi is diagnosed with Alopecia  where she begins to lose hair from her scalp. Although she finds her temporary fix to this  it begins to steal previous years of her youth and takes her life by a storm. Will she be able to find a cure?",
         "Enakshi is diagnosed with Alopecia  where she begins to lose hair from her scalp. Although she finds her temporary fix to this  it begins to steal previous years of her youth and takes her life by a storm. Will she be able to find a cure?",
         null,
         "Deepika Amin|Kumar Kanchan Ghosh|Brijendra Kala|Jitendra Kumar|Mukesh Pandey|Santosh Rai|Vipin Sharma|",
         "9 wins",
         "29 March 2019 (India)"
        ],
        [
         "Albert Pinto Ko Gussa Kyun Aata Hai?",
         "tt4355838",
         "https://upload.wikimedia.org/wikipedia/en/thumb/f/f5/Albert_Pinto_Ko_Gussa_Kyun_Aata_Hai_film_poster.jpg/220px-Albert_Pinto_Ko_Gussa_Kyun_Aata_Hai_film_poster.jpg",
         "https://en.wikipedia.org/wiki/Albert_Pinto_Ko_Gussa_Kyun_Aata_Hai%3F",
         "Albert Pinto Ko Gussa Kyun Aata Hai?",
         "Albert Pinto Ko Gussa Kyun Aata Hai?",
         "0",
         "2019",
         "100",
         "Drama",
         "4.8",
         "56",
         "Albert leaves his house one morning without telling anyone where he is going. His girlfriend Stella files a complaint with the police and when he doesn't return after days  she begins to fear. What she doesn't know is that Albert is traversing a road journey from Mumbai to Goa. Nayar who drives the vehicle accompanies him on his mission. Punctuating their cynical  witty and devastating conversations  we see Albert's flashbacks of a world where he and Stella try and weave a life together. Albert's anger stems from experiences that life has presented to him. It is this anger that is taking him on a journey to settle a score and enable him to lead a life of dignity and hope.",
         "Albert Pinto goes missing one day and his girlfriend and family start making rounds at the police station to track him down. Unknown to them  he is on his way to Goa to carry out his first assignment as a hitman.",
         null,
         "Manav Kaul|Nandita Das|",
         null,
         "12 April 2019 (India)"
        ],
        [
         "The Tashkent Files",
         "tt8108268",
         "https://upload.wikimedia.org/wikipedia/en/7/79/The_Tashkent_Files_poster.jpg",
         "https://en.wikipedia.org/wiki/The_Tashkent_Files",
         "The Tashkent Files",
         "The Tashkent Files",
         "0",
         "2019",
         "134",
         "Drama|Mystery|Thriller",
         "8.0",
         "5524",
         "The Tashkent Files is a thriller that revolves around the mysterious death of India's 2nd Prime Minister Shri Lal Bahadur Shastri and attempts to uncover if he had actually died a natural death  or  as alleged  was assassinated.",
         "The Tashkent Files is a thriller that revolves around the mysterious death of India's 2nd Prime Minister Shri Lal Bahadur Shastri and attempts to uncover if he had actually died a natural death  or  as alleged  was assassinated.",
         null,
         "Naseeruddin Shah|Mithun Chakraborty|Shweta Basu Prasad|Pankaj Tripathi|Vinay Pathak|Mandira Bedi|Rajesh Sharma|Prakash Belawadi|Ankur Rathee|",
         null,
         "12 April 2019 (India)"
        ],
        [
         "Kalank",
         "tt6988116",
         "https://upload.wikimedia.org/wikipedia/en/thumb/8/80/Kalank_Poster.jpg/220px-Kalank_Poster.jpg",
         "https://en.wikipedia.org/wiki/Kalank",
         "Kalank",
         "Kalank",
         "0",
         "2019",
         "166",
         "Drama|Romance",
         "3.6",
         "9106",
         "Set in 1945  in Pre-Independent India  the elite  opulent and solemn world of the Chaudhry family  and the wild  mysterious and musical underbelly of the town  Hira Mandi  clash when Roop Chaudhry encounters Zafar  a daredevil from Hira Mandi  unleashing deep-buried truths  secrets of betrayal and affairs that threaten to bring the both worlds crashing down.",
         "The lives of six enigmatic characters become entangled whilst in search of love  but separated by the dichotomy between the two worlds of Husnabad  a town in North India.",
         null,
         "Varun Dhawan|Alia Bhatt|Aditya Roy Kapoor|Madhuri Dixit|Sonakshi Sinha|Sanjay Dutt|Kunal Khemu|Pawan Chopra|",
         null,
         "17 April 2019 (USA)"
        ],
        [
         "Setters (film)",
         "tt9239772",
         "https://upload.wikimedia.org/wikipedia/en/thumb/0/08/Setters_Official_Poster.png/220px-Setters_Official_Poster.png",
         "https://en.wikipedia.org/wiki/Setters_(film)",
         "Setters",
         "Setters",
         "0",
         "2019",
         "126",
         "Thriller",
         "5.1",
         "158",
         "A thriller set in Benares  Jaipur  Mumbai and Delhi  Setters is about a racket profiteering from academic scams. The film follows a cat-and-mouse game between two good friends: one a cop  and the other a \"setter\" who arranges brilliant students in place of weak students to appear in examinations.",
         "A thriller set in Benares  Jaipur  Mumbai and Delhi  Setters is about a racket profiteering from academic scams. The film follows a cat-and-mouse game between two good friends: one a cop  ...                    ",
         null,
         "Shreyas Talpade|Aftab Shivdasani|Sonnalli Seygall|Ishita Dutta|Pavan Malhotra|Vijay Raaz|Manu Rishi Chadha|Anil Charanjeett|Pankaj Jha|Jameel Khan|Niharika Kundu|Tanuka Laghate|Venus Singh|Neeraj Sood|",
         null,
         "3 May 2019 (India)"
        ],
        [
         "Student of the Year 2",
         "tt7255568",
         "https://upload.wikimedia.org/wikipedia/en/thumb/3/3c/Student_of_the_year_2_Poster.jpg/220px-Student_of_the_year_2_Poster.jpg",
         "https://en.wikipedia.org/wiki/Student_of_the_Year_2",
         "Student of the Year 2",
         "Student of the Year 2",
         "0",
         "2019",
         "146",
         "Drama|Romance|Sport",
         "2.5",
         "12671",
         "A student must face off against bullies and overcome hurdles  both academic and romantic  to win his college's coveted Student of the Year trophy.",
         "A student must face off against bullies and overcome hurdles  both academic and romantic  to win his college's coveted Student of the Year trophy.",
         null,
         "Tiger Shroff|Ananya Panday|Tara Sutaria|Aditya Seal|Manoj Pahwa|Ayesha Raza|Rajesh Kumar|Manasi Joshi Roy|Samir Soni|Gul Panag|Manjot Singh|Sahil Anand|Harsh Beniwal|Daljeet Singh Gujral|",
         null,
         "10 May 2019 (USA)"
        ],
        [
         "PM Narendra Modi",
         "tt9558612",
         "https://upload.wikimedia.org/wikipedia/en/thumb/8/80/PM_Narendra_Modi.jpg/220px-PM_Narendra_Modi.jpg",
         "https://en.wikipedia.org/wiki/PM_Narendra_Modi",
         "PM Narendra Modi",
         "PM Narendra Modi",
         "0",
         "2019",
         "136",
         "Biography|Drama",
         "3.3",
         "4484",
         "Biography of India's Prime Minister Shri Narendra Modi.",
         "Biography of India's Prime Minister Shri Narendra Modi.",
         null,
         "Boman Irani|Vivek Oberoi|Barkha Bisht|Darshan Kumaar|Zarina Wahab|Manoj Joshi|Suresh Oberoi|Prashant Narayanan|Yatin Karyekar|Rajendra Gupta|Anjan Srivastav|Imran Hasnee|Jay Bhatt|Akshat R Saluja|",
         null,
         "24 May 2019 (USA)"
        ],
        [
         "De De Pyaar De",
         "tt8647400",
         "https://upload.wikimedia.org/wikipedia/en/thumb/c/c4/De_De_Pyaar_De_Poster.jpg/220px-De_De_Pyaar_De_Poster.jpg",
         "https://en.wikipedia.org/wiki/De_De_Pyaar_De",
         "De De Pyaar De",
         "De De Pyaar De",
         "0",
         "2019",
         "135",
         "Comedy|Romance",
         "6.6",
         "5387",
         "a 50 year old Aashish living London away from his family fro many years He falls in love with a 26 year Ayesha.Thou officially not divorced from his first wife Manju.Aashish wants her permission to get married to Ayesha.Upon reaching his house in India  Ayesha finds that Aashish kids are of the same age as her.Aashish introduces Ayesha as his secretary to his family he also finds that his daughter is about to get married and VK whose become close family friend is trying to woo her Manju.",
         "A 50-year-old single father faces disapproval from his family and his ex-wife when he falls in love with a 26-year-old woman.",
         null,
         "Ajay Devgn|Tabu|Rakul Preet Singh|Jimmy Sheirgill|Alok Nath|Madhumalti Kapoor|Harry Anton|Gergo Baranyi|Sammy John Heaney|Bhavin Bhanushali|Gandharv Dewan|Gulnaaz Khan|Kumud Mishra|Sunny Singh Nijjar|",
         null,
         "17 May 2019 (USA)"
        ],
        [
         "India's Most Wanted (film)",
         "tt8484942",
         "https://upload.wikimedia.org/wikipedia/en/a/ae/India%27s_Most_Wanted_poster.jpg",
         "https://en.wikipedia.org/wiki/India%27s_Most_Wanted_(film)",
         "India's Most Wanted",
         "India's Most Wanted",
         "0",
         "2019",
         "123",
         "Action|Thriller",
         "4.4",
         "1449",
         "India's Most Wanted is a Bollywood action thriller film directed by Raj Kumar Gupta and starring Arjun Kapoor. The film is about tracking a terrorist in a secret mission and arresting him without firing bullets. It pays tribute to unsung heroes of our society.",
         "A group of intelligence officers embark on a top secret mission to track down a wanted international criminal.",
         null,
         "Arjun Kapoor|Sudev Nair|Rajesh Sharma|Prasanth|Santilal Mukherjee|",
         null,
         "24 May 2019 (USA)"
        ],
        [
         "Yeh Hai India",
         "tt5525846",
         "https://upload.wikimedia.org/wikipedia/en/thumb/d/db/Yeh_Hai_India_Official_Poster.jpg/220px-Yeh_Hai_India_Official_Poster.jpg",
         "https://en.wikipedia.org/wiki/Yeh_Hai_India",
         "Yeh Hai India",
         "Yeh Hai India",
         "0",
         "2017",
         "128",
         "Action|Adventure|Drama",
         "5.7",
         "169",
         "Yeh Hai India  follows the story of a 25 years old NRI  who is born and brought up in U.K and shares the same stereotype views of India  which is known for its vast population  pollution and poverty. However protagonist finds new development in media or probably an 'other side of same coin' of India  which is also known for successful mars mission in first attempt  a nation which proudly holds title 'God of Cricket' for Sachin Tendulkar  who is again an Indian and a nation which is known for its holy generosity with icons like Mother Teresa\".",
         "Yeh Hai India  follows the story of a 25 years old NRI  who is born and brought up in UK. He shares the same stereotypical views about India that most NRIs have and how his perception changes.",
         "A Film for Every Indian",
         "Gavie Chahal|Mohan Agashe|Mohan Joshi|Lom Harsh|",
         "2 wins & 1 nomination",
         "24 May 2019 (India)"
        ],
        [
         "Khamoshi (2019 film)",
         "tt8268972",
         "https://upload.wikimedia.org/wikipedia/en/e/ef/Khamoshi_2019.jpg",
         "https://en.wikipedia.org/wiki/Khamoshi_(2019_film)",
         "Khamoshi",
         "Khamoshi",
         "0",
         "2019",
         "96",
         "Horror|Thriller",
         "3.7",
         "153",
         "A remake of an English movie Hush (2016)  where a deaf and mute girl must fight for her life when a killer appears at her door.",
         "A remake of an English movie Hush (2016)  where a deaf and mute girl must fight for her life when a killer appears at her door.",
         null,
         "Prabhu Deva|Tamannaah Bhatia|Bhoomika Chawla|",
         null,
         "14 June 2019 (India)"
        ],
        [
         "Kabir Singh",
         "tt8983202",
         "https://upload.wikimedia.org/wikipedia/en/thumb/d/dc/Kabir_Singh.jpg/220px-Kabir_Singh.jpg",
         "https://en.wikipedia.org/wiki/Kabir_Singh",
         "Kabir Singh",
         "Kabir Singh",
         "0",
         "2019",
         "173",
         "Drama|Romance",
         "7.2",
         "20535",
         "This Sandeep Vanga directorial is a remake of the 2017 Telugu movie Arjun Reddy. The plot revolves around an alcoholic surgeon battling temper issues. Things get worse as he watches the love of his life marry another man. High on emotions coupled with impressive action the film promises an intense watch.",
         "Kabir Singh is a remake of a Telugu movie Arjun Reddy (2017)  where a short-tempered house surgeon gets used to drugs and drinks when his girlfriend is forced to marry another person.",
         null,
         "Shahid Kapoor|Kiara Advani|Soham Majumdar|Arjan Bajwa|Suresh Oberoi|Kamini Kaushal|Adil Hussain|Nikita Dutta|Amit Sharma|Anurag Arora|Dolly Mattoo|Aanchal Chauhan|Suparna Marwah|Swati Seth|",
         null,
         "20 June 2019 (USA)"
        ],
        [
         "Article 15 (film)",
         "tt10324144",
         "https://upload.wikimedia.org/wikipedia/en/thumb/1/11/Article_15_Poster.jpg/220px-Article_15_Poster.jpg",
         "https://en.wikipedia.org/wiki/Article_15_(film)",
         "Article 15",
         "Article 15",
         "0",
         "2019",
         "130",
         "Crime|Drama",
         "8.3",
         "13417",
         "In the rural heartlands of India  an upright police officer sets out on a crusade against violent caste-based crimes and discrimination.",
         "In the rural heartlands of India  an upright police officer sets out on a crusade against violent caste-based crimes and discrimination.",
         "Farq Bahut Kar Liya| Ab Farq Laayenge.",
         "Ayushmann Khurrana|Nassar|Manoj Pahwa|Kumud Mishra|Isha Talwar|Sayani Gupta|Mohammed Zeeshan Ayyub|Subhrajyoti Barat|Sushil Pandey|Aakash Dabhade|Ashish Verma|Ronjini Chakraborty|Veen|Sumbul Touqueer|",
         "1 win",
         "28 June 2019 (USA)"
        ],
        [
         "One Day: Justice Delivered",
         "tt8130558",
         "https://upload.wikimedia.org/wikipedia/en/f/f7/One_Day-_Justice_Delivered.jpg",
         "https://en.wikipedia.org/wiki/One_Day:_Justice_Delivered",
         "One Day: Justice Delivered",
         "One Day: Justice Delivered",
         "0",
         "2019",
         "124",
         "Action|Crime|Thriller",
         "6.8",
         "590",
         "A Crime Branch Special Officer Investigates the Serial disappearance of high profile individuals in a state capital.",
         "A Crime Branch Special Officer Investigates the Serial disappearance of high profile individuals in a state capital.",
         null,
         "Anupam Kher|Kumud Mishra|Esha Gupta|Zakir Hussain|Rajesh Sharma|Murli Sharma|Deepshika Nagpal|",
         null,
         "5 July 2019 (India)"
        ],
        [
         "Hume Tumse Pyaar Kitna",
         "tt6862542",
         "https://upload.wikimedia.org/wikipedia/en/thumb/2/2c/Hume_Tumse_Pyaar_Kitna.jpg/220px-Hume_Tumse_Pyaar_Kitna.jpg",
         "https://en.wikipedia.org/wiki/Hume_Tumse_Pyaar_Kitna",
         "Hume Tumse Pyaar Kitna",
         "Hume Tumse Pyaar Kitna",
         "0",
         "2019",
         "91",
         "Action|Drama|Romance",
         "7.4",
         "85",
         "It is about limerence of Dhruv (played by Bohra) resulting from an obsessive attraction to Ananya (played by Banerjee).",
         "It is about limerence of Dhruv (played by Bohra) resulting from an obsessive attraction to Ananya (played by Banerjee).",
         null,
         "Karanvir Bohra|Priya Banerjee|",
         null,
         "5 July 2019 (India)"
        ],
        [
         "Super 30 (film)",
         "tt7485048",
         "https://upload.wikimedia.org/wikipedia/en/thumb/2/29/Super_30_The_Film.jpg/220px-Super_30_The_Film.jpg",
         "https://en.wikipedia.org/wiki/Super_30_(film)",
         "Super 30",
         "Super 30",
         "0",
         "2019",
         "154",
         "Biography|Drama",
         "8.2",
         "13972",
         "Anand Kumar  a Mathematics genius from a modest family in Bihar who is made to believe that only a King's son can become a king is on a mission to prove that even the poor man can create some of the world's most genius minds. He starts a training program named 'Super 30' to help 30 IIT aspirants crack the entrance test and make them highly successful professionals.",
         "Based on life of Patna-based mathematician Anand Kumar who runs the famed Super 30 program for IIT aspirants in Patna.",
         "Inspired by the Life of Anand Kumar & His Students",
         "Hrithik Roshan|Mrunal Thakur|Nandish Singh|Virendra Saxena|Sadhana Singh|Aditya Srivastava|Sanket Deshpande|Pankaj Tripathi|Vaibhav Gupta|Ali Haji|Rajesh Sharma|Deepali Kumar|Chittaranjan Giri|Ganesh Kumar|",
         null,
         "12 July 2019 (USA)"
        ],
        [
         "Family of Thakurganj",
         "tt8897986",
         "https://upload.wikimedia.org/wikipedia/en/9/99/Family_of_Thakurganj.jpg",
         "https://en.wikipedia.org/wiki/Family_of_Thakurganj",
         "Family of Thakurganj",
         "Family of Thakurganj",
         "0",
         "2019",
         "127",
         "Action|Drama",
         "9.4",
         "895",
         "The film is based on small town of North India. Film's story is about confrontation of love and thoughts. Along with entertainment.",
         "The film is based on small town of North India. Film's story is about confrontation of love and thoughts. Along with entertainment.",
         null,
         "Jimmy Sheirgill|Mahie Gill|Nandish Singh|Pranati Rai Prakash|Saurabh Shukla|Sudhir Pandey|Supriya Pilgaonkar|Pavan Malhotra|Yashpal Sharma|Mukesh Tiwari|Raj Zutshi|Salil Acharya|Shivika Rishi|Lokesh Tilakdhari|",
         null,
         "19 July 2019 (India)"
        ],
        [
         "Batla House",
         "tt8869978",
         "https://upload.wikimedia.org/wikipedia/en/e/ed/Batla_House_poster.jpg",
         "https://en.wikipedia.org/wiki/Batla_House",
         "Batla House",
         "Batla House",
         "0",
         "2019",
         "146",
         "Action|Drama|Thriller",
         "7.3",
         "5556",
         "This action thriller is based on the real-life incident of 'Batla House Encounter'  officially known as Operation Batla House  to the silver screen. The incident took place on September 19  2008  against Indian Mujahideen (IM) terrorists in Batla House locality in Jamia Nagar  Delhi.",
         "After a deadly encounter  a police officer works to prove that the police acted lawfully.",
         "The Story of India's Most Decorated / Controversial Cop",
         "John Abraham|Nora Fatehi|Mrunal Thakur|Rajesh Sharma|Ravi Kishan|Sonam Arora|Sahidur Rahaman|Manish Chaudhary|Anil Rastogi|Kranti Prakash Jha|Amruta Sant|Anil Khopkar|Aditi Gulati|Jitendra Trehan|",
         null,
         "15 August 2019 (USA)"
        ],
        [
         "Jhootha Kahin Ka",
         "tt8206760",
         "https://upload.wikimedia.org/wikipedia/en/a/a6/Jhootha_Kahin_Ka_Poster.jpg",
         "https://en.wikipedia.org/wiki/Jhootha_Kahin_Ka",
         "Jhootha Kahin Ka",
         "Jhootha Kahin Ka",
         "0",
         "2019",
         "133",
         "Comedy",
         "4.8",
         "215",
         "Two boys go to Mauritius to study and love it so much there  that they are reluctant to return home. Rishi plays Omkar's dad who turns up from the village to surprise him and is in turn surprised by his son's lifestyle.",
         "Two boys go to Mauritius to study and love it so much there  that they are reluctant to return home. Rishi plays Omkar's dad who turns up from the village to surprise him and is in turn surprised by his son's lifestyle.",
         null,
         "Rishi Kapoor|Jimmy Sheirgill|Sunny Singh Nijjar|Omkar Kapoor|Nimisha Mehta|Rucha Vaidya|Manoj Joshi|Lillete Dubey|Rajesh Sharma|Gurbachan Singh|Rakesh Bedi|Neelu Kohli|Shobha Singh|Sunny Leone|",
         null,
         "19 July 2019 (India)"
        ],
        [
         "Judgementall Hai Kya",
         "tt8108196",
         "https://upload.wikimedia.org/wikipedia/en/c/c8/Judgementall_Hai_Kya_poster.jpg",
         "https://en.wikipedia.org/wiki/Judgementall_Hai_Kya",
         "Judgementall Hai Kya",
         "Judgementall Hai Kya",
         "0",
         "2019",
         "121",
         "Comedy|Drama|Thriller",
         "6.0",
         "3269",
         "Following the story of two quirky individuals whose lives pivot between reality and illusions.",
         "Following the story of two quirky individuals whose lives pivot between reality and illusions.",
         null,
         "Kangana Ranaut|Rajkummar Rao|Amyra Dastur|Amrita Puri|Jimmy Sheirgill|",
         null,
         "26 July 2019 (USA)"
        ],
        [
         "Chicken Curry Law",
         "tt7189494",
         "https://upload.wikimedia.org/wikipedia/en/thumb/4/4d/Chicken_Curry_Law_Poster.jpg/220px-Chicken_Curry_Law_Poster.jpg",
         "https://en.wikipedia.org/wiki/Chicken_Curry_Law",
         "Chicken Curry Law",
         "Chicken Curry Law",
         "0",
         "2019",
         "127",
         "Drama",
         "6.0",
         "19",
         "Maya a foreigner who comes to India for her career gets kidnapped and raped by two politically influential men Makiya and Nana. She is left on the streets of Mumbai half naked by them. She is helped by Satya Deshmukh  a local social activist. Satya Deshmukh helps Maya find Sitapati Shukla who fights her case in the court against the political goons. But in every step  Maya is proven wrong and her behaviour is blamed for being raped. With all the drama unfolding  Sitapati tries to find the proof against Makiya and Nana. With an interesting and unexpected climax  will Maya get justice? Ashutosh Rana  Nivedita Bhattacharya  Makarand Deshpande  Zakir Hussain  Aman Verma  and Polish actress  Nataliya Janoszek star in this tale to shatter stereotypical assumptions faced by foreign women in India and upholds our cultural tradition of Atithi Devo Bhava.",
         "An ambitious and innocent girl falls prey to the power of money and politics.",
         null,
         "Natalia Janoszek|Ashutosh Rana|Makrand Deshpande|Nivedita Bhattacharya|Mukesh Hariawala|Zakir Hussain|Aman Verma|",
         null,
         "9 August 2019 (India)"
        ],
        [
         "Arjun Patiala",
         "tt7881524",
         "https://upload.wikimedia.org/wikipedia/en/thumb/8/83/Arjun_Patiala_poster.jpg/220px-Arjun_Patiala_poster.jpg",
         "https://en.wikipedia.org/wiki/Arjun_Patiala",
         "Arjun Patiala",
         "Arjun Patiala",
         "0",
         "2019",
         "107",
         "Action|Comedy",
         "4.1",
         "676",
         "Arjun Patiala(Diljit Dosanjh)has recently been initiated into the police service. A man who has spend most of his early life disciplining himself in Judo and getting into the forces now decides its time to take it easy. He's introduced to his loyal \"chita munshi\" who soon turns into a confidant- Onida Singh. ( Varun Sharma) We quickly realise Arjun Patiala's quirks - That he is fond of women  and even fonder of his drink. But his quirky  original and unusual ideas help him reduce the crime rate in the city without even moving a finger. Along the way Arjun falls in love with a firebrand news reporter - Ritu Randhawa (Kriti Sanon) who might pull the curtain on his deeds. A laugh riot film  Arjun Patiala will leave you in splits.These unforgettable characters are definitely here to stay.",
         "This spoof comedy narrates the story of a cop Arjun Patiala (Diljit Dosanjh) and his sidekick Onidda Singh (Varun Sharma). Together  will they be able to accomplish their mission of a crime-free town with their goofy style of policing?",
         null,
         "Diljit Dosanjh|Kriti Sanon|Varun Sharma|Ronit Roy|Seema Bhargava|Mohammed Zeeshan Ayyub|Amit Mehra|",
         null,
         "26 July 2019 (USA)"
        ],
        [
         "Jabariya Jodi",
         "tt8785426",
         "https://upload.wikimedia.org/wikipedia/en/9/97/Jabariya_Jodi_poster.jpg",
         "https://en.wikipedia.org/wiki/Jabariya_Jodi",
         "Jabariya Jodi",
         "Jabariya Jodi",
         "0",
         "2019",
         "125",
         "Action|Comedy|Drama",
         "4.2",
         "767",
         "A thug helps kidnap grooms in order to avoid paying out dowries for their upcoming marriage.",
         "A thug helps kidnap grooms in order to avoid paying out dowries for their upcoming marriage.",
         null,
         "Sidharth Malhotra|Parineeti Chopra|Javed Jaffrey|Sanjay Mishra|Aparshakti Khurana|",
         null,
         "9 August 2019 (USA)"
        ],
        [
         "Pranaam",
         "tt7228072",
         "https://upload.wikimedia.org/wikipedia/en/thumb/0/09/Pranaam_poster.jpg/220px-Pranaam_poster.jpg",
         "https://en.wikipedia.org/wiki/Pranaam",
         "Pranaam",
         "Pranaam",
         "0",
         "2019",
         "\\N",
         "Action|Crime|Drama",
         "7.0",
         "43",
         "A peon's son who is an aspiring IAS officer is compelled to change his path leading him to turn into a gangster.",
         "A peon's son who is an aspiring IAS officer is compelled to change his path leading him to turn into a gangster.",
         null,
         "Rajeev Khandelwal|Atul Kulkarni|Abhimanyu Singh|Sameksha|Vikram Gokhale|Aniruddh Dave|Apoorva Arora|S.M. Zaheer|",
         null,
         null
        ],
        [
         "The Sky Is Pink",
         "tt8902990",
         "https://upload.wikimedia.org/wikipedia/en/thumb/9/93/The_Sky_Is_Pink.jpg/220px-The_Sky_Is_Pink.jpg",
         "https://en.wikipedia.org/wiki/The_Sky_Is_Pink",
         "The Sky Is Pink",
         "The Sky Is Pink",
         "0",
         "2019",
         "143",
         "Drama|Family|Romance",
         "6.6",
         "1659",
         "The Sky Is Pink is the incredible love story of a couple spanning 25 years  told through the lens of their teenage daughter. She is sassy  sardonic  spunky and also...dead. A fact she nonchalantly mentions at the very outset. \"Get over it. It's quite cool actually. You'll see when you get here (which you do know you will right?!)\" Unexpectedly humorous  warm and heart wrenching all at once as the magic of life and beauty of death manifest in one family's unusual  courageous journey in this 100% true story.",
         "It is based on the love story of a couple spanning 25 years  told through the lens of their spunky teenage daughter Aisha Chaudhary  who was diagnosed with a Pulmonary fibrosis .",
         "Har Ek Ka Apna Sky Hota Hain",
         "Zaira Wasim|Priyanka Chopra|Farhan Akhtar|Rohit Saraf|",
         null,
         "11 October 2019 (USA)"
        ]
       ],
       "shape": {
        "columns": 17,
        "rows": 1629
       }
      },
      "text/html": [
       "<div>\n",
       "<style scoped>\n",
       "    .dataframe tbody tr th:only-of-type {\n",
       "        vertical-align: middle;\n",
       "    }\n",
       "\n",
       "    .dataframe tbody tr th {\n",
       "        vertical-align: top;\n",
       "    }\n",
       "\n",
       "    .dataframe thead th {\n",
       "        text-align: right;\n",
       "    }\n",
       "</style>\n",
       "<table border=\"1\" class=\"dataframe\">\n",
       "  <thead>\n",
       "    <tr style=\"text-align: right;\">\n",
       "      <th></th>\n",
       "      <th>imdb</th>\n",
       "      <th>link</th>\n",
       "      <th>wiki_link</th>\n",
       "      <th>title_y</th>\n",
       "      <th>original_title</th>\n",
       "      <th>is_adult</th>\n",
       "      <th>year_of_release</th>\n",
       "      <th>runtime</th>\n",
       "      <th>genres</th>\n",
       "      <th>imdb_rating</th>\n",
       "      <th>imdb_votes</th>\n",
       "      <th>story</th>\n",
       "      <th>summary</th>\n",
       "      <th>tagline</th>\n",
       "      <th>actors</th>\n",
       "      <th>wins_nominations</th>\n",
       "      <th>release_date</th>\n",
       "    </tr>\n",
       "    <tr>\n",
       "      <th>title_x</th>\n",
       "      <th></th>\n",
       "      <th></th>\n",
       "      <th></th>\n",
       "      <th></th>\n",
       "      <th></th>\n",
       "      <th></th>\n",
       "      <th></th>\n",
       "      <th></th>\n",
       "      <th></th>\n",
       "      <th></th>\n",
       "      <th></th>\n",
       "      <th></th>\n",
       "      <th></th>\n",
       "      <th></th>\n",
       "      <th></th>\n",
       "      <th></th>\n",
       "      <th></th>\n",
       "    </tr>\n",
       "  </thead>\n",
       "  <tbody>\n",
       "    <tr>\n",
       "      <th>Uri</th>\n",
       "      <td>tt8291224</td>\n",
       "      <td>https://upload.wikimedia.org/wikipedia/en/thum...</td>\n",
       "      <td>https://en.wikipedia.org/wiki/Uri:_The_Surgica...</td>\n",
       "      <td>Uri: The Surgical Strike</td>\n",
       "      <td>Uri: The Surgical Strike</td>\n",
       "      <td>0</td>\n",
       "      <td>2019</td>\n",
       "      <td>138</td>\n",
       "      <td>Action|Drama|War</td>\n",
       "      <td>8.4</td>\n",
       "      <td>35112</td>\n",
       "      <td>Divided over five chapters  the film chronicle...</td>\n",
       "      <td>Indian army special forces execute a covert op...</td>\n",
       "      <td>NaN</td>\n",
       "      <td>Vicky Kaushal|Paresh Rawal|Mohit Raina|Yami Ga...</td>\n",
       "      <td>4 wins</td>\n",
       "      <td>11 January 2019 (USA)</td>\n",
       "    </tr>\n",
       "    <tr>\n",
       "      <th>Battalion</th>\n",
       "      <td>tt9472208</td>\n",
       "      <td>NaN</td>\n",
       "      <td>https://en.wikipedia.org/wiki/Battalion_609</td>\n",
       "      <td>Battalion 609</td>\n",
       "      <td>Battalion 609</td>\n",
       "      <td>0</td>\n",
       "      <td>2019</td>\n",
       "      <td>131</td>\n",
       "      <td>War</td>\n",
       "      <td>4.1</td>\n",
       "      <td>73</td>\n",
       "      <td>The story revolves around a cricket match betw...</td>\n",
       "      <td>The story of Battalion 609 revolves around a c...</td>\n",
       "      <td>NaN</td>\n",
       "      <td>Vicky Ahuja|Shoaib Ibrahim|Shrikant Kamat|Elen...</td>\n",
       "      <td>NaN</td>\n",
       "      <td>11 January 2019 (India)</td>\n",
       "    </tr>\n",
       "    <tr>\n",
       "      <th>The Accidental Prime Minister (film)</th>\n",
       "      <td>tt6986710</td>\n",
       "      <td>https://upload.wikimedia.org/wikipedia/en/thum...</td>\n",
       "      <td>https://en.wikipedia.org/wiki/The_Accidental_P...</td>\n",
       "      <td>The Accidental Prime Minister</td>\n",
       "      <td>The Accidental Prime Minister</td>\n",
       "      <td>0</td>\n",
       "      <td>2019</td>\n",
       "      <td>112</td>\n",
       "      <td>Biography|Drama</td>\n",
       "      <td>6.1</td>\n",
       "      <td>5549</td>\n",
       "      <td>Based on the memoir by Indian policy analyst S...</td>\n",
       "      <td>Explores Manmohan Singh's tenure as the Prime ...</td>\n",
       "      <td>NaN</td>\n",
       "      <td>Anupam Kher|Akshaye Khanna|Aahana Kumra|Atul S...</td>\n",
       "      <td>NaN</td>\n",
       "      <td>11 January 2019 (USA)</td>\n",
       "    </tr>\n",
       "    <tr>\n",
       "      <th>Why Cheat India</th>\n",
       "      <td>tt8108208</td>\n",
       "      <td>https://upload.wikimedia.org/wikipedia/en/thum...</td>\n",
       "      <td>https://en.wikipedia.org/wiki/Why_Cheat_India</td>\n",
       "      <td>Why Cheat India</td>\n",
       "      <td>Why Cheat India</td>\n",
       "      <td>0</td>\n",
       "      <td>2019</td>\n",
       "      <td>121</td>\n",
       "      <td>Crime|Drama</td>\n",
       "      <td>6.0</td>\n",
       "      <td>1891</td>\n",
       "      <td>The movie focuses on existing malpractices in ...</td>\n",
       "      <td>The movie focuses on existing malpractices in ...</td>\n",
       "      <td>NaN</td>\n",
       "      <td>Emraan Hashmi|Shreya Dhanwanthary|Snighdadeep ...</td>\n",
       "      <td>NaN</td>\n",
       "      <td>18 January 2019 (USA)</td>\n",
       "    </tr>\n",
       "    <tr>\n",
       "      <th>Evening Shadows</th>\n",
       "      <td>tt6028796</td>\n",
       "      <td>NaN</td>\n",
       "      <td>https://en.wikipedia.org/wiki/Evening_Shadows</td>\n",
       "      <td>Evening Shadows</td>\n",
       "      <td>Evening Shadows</td>\n",
       "      <td>0</td>\n",
       "      <td>2018</td>\n",
       "      <td>102</td>\n",
       "      <td>Drama</td>\n",
       "      <td>7.3</td>\n",
       "      <td>280</td>\n",
       "      <td>While gay rights and marriage equality has bee...</td>\n",
       "      <td>Under the 'Evening Shadows'  truth often plays...</td>\n",
       "      <td>NaN</td>\n",
       "      <td>Mona Ambegaonkar|Ananth Narayan Mahadevan|Deva...</td>\n",
       "      <td>17 wins &amp; 1 nomination</td>\n",
       "      <td>11 January 2019 (India)</td>\n",
       "    </tr>\n",
       "    <tr>\n",
       "      <th>...</th>\n",
       "      <td>...</td>\n",
       "      <td>...</td>\n",
       "      <td>...</td>\n",
       "      <td>...</td>\n",
       "      <td>...</td>\n",
       "      <td>...</td>\n",
       "      <td>...</td>\n",
       "      <td>...</td>\n",
       "      <td>...</td>\n",
       "      <td>...</td>\n",
       "      <td>...</td>\n",
       "      <td>...</td>\n",
       "      <td>...</td>\n",
       "      <td>...</td>\n",
       "      <td>...</td>\n",
       "      <td>...</td>\n",
       "      <td>...</td>\n",
       "    </tr>\n",
       "    <tr>\n",
       "      <th>Tera Mera Saath Rahen</th>\n",
       "      <td>tt0301250</td>\n",
       "      <td>https://upload.wikimedia.org/wikipedia/en/2/2b...</td>\n",
       "      <td>https://en.wikipedia.org/wiki/Tera_Mera_Saath_...</td>\n",
       "      <td>Tera Mera Saath Rahen</td>\n",
       "      <td>Tera Mera Saath Rahen</td>\n",
       "      <td>0</td>\n",
       "      <td>2001</td>\n",
       "      <td>148</td>\n",
       "      <td>Drama</td>\n",
       "      <td>4.9</td>\n",
       "      <td>278</td>\n",
       "      <td>Raj Dixit lives with his younger brother  Rahu...</td>\n",
       "      <td>A man is torn between his handicapped brother ...</td>\n",
       "      <td>NaN</td>\n",
       "      <td>Ajay Devgn|Sonali Bendre|Namrata Shirodkar|Pre...</td>\n",
       "      <td>NaN</td>\n",
       "      <td>7 November 2001 (India)</td>\n",
       "    </tr>\n",
       "    <tr>\n",
       "      <th>Yeh Zindagi Ka Safar</th>\n",
       "      <td>tt0298607</td>\n",
       "      <td>https://upload.wikimedia.org/wikipedia/en/thum...</td>\n",
       "      <td>https://en.wikipedia.org/wiki/Yeh_Zindagi_Ka_S...</td>\n",
       "      <td>Yeh Zindagi Ka Safar</td>\n",
       "      <td>Yeh Zindagi Ka Safar</td>\n",
       "      <td>0</td>\n",
       "      <td>2001</td>\n",
       "      <td>146</td>\n",
       "      <td>Drama</td>\n",
       "      <td>3.0</td>\n",
       "      <td>133</td>\n",
       "      <td>Hindi pop-star  Sarina Devan  lives a wealthy ...</td>\n",
       "      <td>A singer finds out she was adopted when the ed...</td>\n",
       "      <td>NaN</td>\n",
       "      <td>Ameesha Patel|Jimmy Sheirgill|Nafisa Ali|Gulsh...</td>\n",
       "      <td>NaN</td>\n",
       "      <td>16 November 2001 (India)</td>\n",
       "    </tr>\n",
       "    <tr>\n",
       "      <th>Sabse Bada Sukh</th>\n",
       "      <td>tt0069204</td>\n",
       "      <td>NaN</td>\n",
       "      <td>https://en.wikipedia.org/wiki/Sabse_Bada_Sukh</td>\n",
       "      <td>Sabse Bada Sukh</td>\n",
       "      <td>Sabse Bada Sukh</td>\n",
       "      <td>0</td>\n",
       "      <td>2018</td>\n",
       "      <td>\\N</td>\n",
       "      <td>Comedy|Drama</td>\n",
       "      <td>6.1</td>\n",
       "      <td>13</td>\n",
       "      <td>Village born Lalloo re-locates to Bombay  and ...</td>\n",
       "      <td>Village born Lalloo re-locates to Bombay  and ...</td>\n",
       "      <td>NaN</td>\n",
       "      <td>Vijay Arora|Asrani|Rajni Bala|Kumud Damle|Utpa...</td>\n",
       "      <td>NaN</td>\n",
       "      <td>NaN</td>\n",
       "    </tr>\n",
       "    <tr>\n",
       "      <th>Daaka</th>\n",
       "      <td>tt10833860</td>\n",
       "      <td>https://upload.wikimedia.org/wikipedia/en/thum...</td>\n",
       "      <td>https://en.wikipedia.org/wiki/Daaka</td>\n",
       "      <td>Daaka</td>\n",
       "      <td>Daaka</td>\n",
       "      <td>0</td>\n",
       "      <td>2019</td>\n",
       "      <td>136</td>\n",
       "      <td>Action</td>\n",
       "      <td>7.4</td>\n",
       "      <td>38</td>\n",
       "      <td>Shinda tries robbing a bank so he can be wealt...</td>\n",
       "      <td>Shinda tries robbing a bank so he can be wealt...</td>\n",
       "      <td>NaN</td>\n",
       "      <td>Gippy Grewal|Zareen Khan|</td>\n",
       "      <td>NaN</td>\n",
       "      <td>1 November 2019 (USA)</td>\n",
       "    </tr>\n",
       "    <tr>\n",
       "      <th>Humsafar</th>\n",
       "      <td>tt2403201</td>\n",
       "      <td>https://upload.wikimedia.org/wikipedia/en/thum...</td>\n",
       "      <td>https://en.wikipedia.org/wiki/Humsafar</td>\n",
       "      <td>Humsafar</td>\n",
       "      <td>Humsafar</td>\n",
       "      <td>0</td>\n",
       "      <td>2011</td>\n",
       "      <td>35</td>\n",
       "      <td>Drama|Romance</td>\n",
       "      <td>9.0</td>\n",
       "      <td>2968</td>\n",
       "      <td>Sara and Ashar are childhood friends who share...</td>\n",
       "      <td>Ashar and Khirad are forced to get married due...</td>\n",
       "      <td>NaN</td>\n",
       "      <td>Fawad Khan|</td>\n",
       "      <td>NaN</td>\n",
       "      <td>TV Series (2011–2012)</td>\n",
       "    </tr>\n",
       "  </tbody>\n",
       "</table>\n",
       "<p>1629 rows × 17 columns</p>\n",
       "</div>"
      ],
      "text/plain": [
       "                                            imdb  \\\n",
       "title_x                                            \n",
       "Uri                                    tt8291224   \n",
       "Battalion                              tt9472208   \n",
       "The Accidental Prime Minister (film)   tt6986710   \n",
       "Why Cheat India                        tt8108208   \n",
       "Evening Shadows                        tt6028796   \n",
       "...                                          ...   \n",
       "Tera Mera Saath Rahen                  tt0301250   \n",
       "Yeh Zindagi Ka Safar                   tt0298607   \n",
       "Sabse Bada Sukh                        tt0069204   \n",
       "Daaka                                 tt10833860   \n",
       "Humsafar                               tt2403201   \n",
       "\n",
       "                                                                                   link  \\\n",
       "title_x                                                                                   \n",
       "Uri                                   https://upload.wikimedia.org/wikipedia/en/thum...   \n",
       "Battalion                                                                           NaN   \n",
       "The Accidental Prime Minister (film)  https://upload.wikimedia.org/wikipedia/en/thum...   \n",
       "Why Cheat India                       https://upload.wikimedia.org/wikipedia/en/thum...   \n",
       "Evening Shadows                                                                     NaN   \n",
       "...                                                                                 ...   \n",
       "Tera Mera Saath Rahen                 https://upload.wikimedia.org/wikipedia/en/2/2b...   \n",
       "Yeh Zindagi Ka Safar                  https://upload.wikimedia.org/wikipedia/en/thum...   \n",
       "Sabse Bada Sukh                                                                     NaN   \n",
       "Daaka                                 https://upload.wikimedia.org/wikipedia/en/thum...   \n",
       "Humsafar                              https://upload.wikimedia.org/wikipedia/en/thum...   \n",
       "\n",
       "                                                                              wiki_link  \\\n",
       "title_x                                                                                   \n",
       "Uri                                   https://en.wikipedia.org/wiki/Uri:_The_Surgica...   \n",
       "Battalion                                   https://en.wikipedia.org/wiki/Battalion_609   \n",
       "The Accidental Prime Minister (film)  https://en.wikipedia.org/wiki/The_Accidental_P...   \n",
       "Why Cheat India                           https://en.wikipedia.org/wiki/Why_Cheat_India   \n",
       "Evening Shadows                           https://en.wikipedia.org/wiki/Evening_Shadows   \n",
       "...                                                                                 ...   \n",
       "Tera Mera Saath Rahen                 https://en.wikipedia.org/wiki/Tera_Mera_Saath_...   \n",
       "Yeh Zindagi Ka Safar                  https://en.wikipedia.org/wiki/Yeh_Zindagi_Ka_S...   \n",
       "Sabse Bada Sukh                           https://en.wikipedia.org/wiki/Sabse_Bada_Sukh   \n",
       "Daaka                                               https://en.wikipedia.org/wiki/Daaka   \n",
       "Humsafar                                         https://en.wikipedia.org/wiki/Humsafar   \n",
       "\n",
       "                                                            title_y  \\\n",
       "title_x                                                               \n",
       "Uri                                        Uri: The Surgical Strike   \n",
       "Battalion                                             Battalion 609   \n",
       "The Accidental Prime Minister (film)  The Accidental Prime Minister   \n",
       "Why Cheat India                                     Why Cheat India   \n",
       "Evening Shadows                                     Evening Shadows   \n",
       "...                                                             ...   \n",
       "Tera Mera Saath Rahen                         Tera Mera Saath Rahen   \n",
       "Yeh Zindagi Ka Safar                           Yeh Zindagi Ka Safar   \n",
       "Sabse Bada Sukh                                     Sabse Bada Sukh   \n",
       "Daaka                                                         Daaka   \n",
       "Humsafar                                                   Humsafar   \n",
       "\n",
       "                                                     original_title  is_adult  \\\n",
       "title_x                                                                         \n",
       "Uri                                        Uri: The Surgical Strike         0   \n",
       "Battalion                                             Battalion 609         0   \n",
       "The Accidental Prime Minister (film)  The Accidental Prime Minister         0   \n",
       "Why Cheat India                                     Why Cheat India         0   \n",
       "Evening Shadows                                     Evening Shadows         0   \n",
       "...                                                             ...       ...   \n",
       "Tera Mera Saath Rahen                         Tera Mera Saath Rahen         0   \n",
       "Yeh Zindagi Ka Safar                           Yeh Zindagi Ka Safar         0   \n",
       "Sabse Bada Sukh                                     Sabse Bada Sukh         0   \n",
       "Daaka                                                         Daaka         0   \n",
       "Humsafar                                                   Humsafar         0   \n",
       "\n",
       "                                      year_of_release runtime  \\\n",
       "title_x                                                         \n",
       "Uri                                              2019     138   \n",
       "Battalion                                        2019     131   \n",
       "The Accidental Prime Minister (film)             2019     112   \n",
       "Why Cheat India                                  2019     121   \n",
       "Evening Shadows                                  2018     102   \n",
       "...                                               ...     ...   \n",
       "Tera Mera Saath Rahen                            2001     148   \n",
       "Yeh Zindagi Ka Safar                             2001     146   \n",
       "Sabse Bada Sukh                                  2018      \\N   \n",
       "Daaka                                            2019     136   \n",
       "Humsafar                                         2011      35   \n",
       "\n",
       "                                                genres  imdb_rating  \\\n",
       "title_x                                                               \n",
       "Uri                                   Action|Drama|War          8.4   \n",
       "Battalion                                          War          4.1   \n",
       "The Accidental Prime Minister (film)   Biography|Drama          6.1   \n",
       "Why Cheat India                            Crime|Drama          6.0   \n",
       "Evening Shadows                                  Drama          7.3   \n",
       "...                                                ...          ...   \n",
       "Tera Mera Saath Rahen                            Drama          4.9   \n",
       "Yeh Zindagi Ka Safar                             Drama          3.0   \n",
       "Sabse Bada Sukh                           Comedy|Drama          6.1   \n",
       "Daaka                                           Action          7.4   \n",
       "Humsafar                                 Drama|Romance          9.0   \n",
       "\n",
       "                                      imdb_votes  \\\n",
       "title_x                                            \n",
       "Uri                                        35112   \n",
       "Battalion                                     73   \n",
       "The Accidental Prime Minister (film)        5549   \n",
       "Why Cheat India                             1891   \n",
       "Evening Shadows                              280   \n",
       "...                                          ...   \n",
       "Tera Mera Saath Rahen                        278   \n",
       "Yeh Zindagi Ka Safar                         133   \n",
       "Sabse Bada Sukh                               13   \n",
       "Daaka                                         38   \n",
       "Humsafar                                    2968   \n",
       "\n",
       "                                                                                  story  \\\n",
       "title_x                                                                                   \n",
       "Uri                                   Divided over five chapters  the film chronicle...   \n",
       "Battalion                             The story revolves around a cricket match betw...   \n",
       "The Accidental Prime Minister (film)  Based on the memoir by Indian policy analyst S...   \n",
       "Why Cheat India                       The movie focuses on existing malpractices in ...   \n",
       "Evening Shadows                       While gay rights and marriage equality has bee...   \n",
       "...                                                                                 ...   \n",
       "Tera Mera Saath Rahen                 Raj Dixit lives with his younger brother  Rahu...   \n",
       "Yeh Zindagi Ka Safar                  Hindi pop-star  Sarina Devan  lives a wealthy ...   \n",
       "Sabse Bada Sukh                       Village born Lalloo re-locates to Bombay  and ...   \n",
       "Daaka                                 Shinda tries robbing a bank so he can be wealt...   \n",
       "Humsafar                              Sara and Ashar are childhood friends who share...   \n",
       "\n",
       "                                                                                summary  \\\n",
       "title_x                                                                                   \n",
       "Uri                                   Indian army special forces execute a covert op...   \n",
       "Battalion                             The story of Battalion 609 revolves around a c...   \n",
       "The Accidental Prime Minister (film)  Explores Manmohan Singh's tenure as the Prime ...   \n",
       "Why Cheat India                       The movie focuses on existing malpractices in ...   \n",
       "Evening Shadows                       Under the 'Evening Shadows'  truth often plays...   \n",
       "...                                                                                 ...   \n",
       "Tera Mera Saath Rahen                 A man is torn between his handicapped brother ...   \n",
       "Yeh Zindagi Ka Safar                  A singer finds out she was adopted when the ed...   \n",
       "Sabse Bada Sukh                       Village born Lalloo re-locates to Bombay  and ...   \n",
       "Daaka                                 Shinda tries robbing a bank so he can be wealt...   \n",
       "Humsafar                              Ashar and Khirad are forced to get married due...   \n",
       "\n",
       "                                     tagline  \\\n",
       "title_x                                        \n",
       "Uri                                      NaN   \n",
       "Battalion                                NaN   \n",
       "The Accidental Prime Minister (film)     NaN   \n",
       "Why Cheat India                          NaN   \n",
       "Evening Shadows                          NaN   \n",
       "...                                      ...   \n",
       "Tera Mera Saath Rahen                    NaN   \n",
       "Yeh Zindagi Ka Safar                     NaN   \n",
       "Sabse Bada Sukh                          NaN   \n",
       "Daaka                                    NaN   \n",
       "Humsafar                                 NaN   \n",
       "\n",
       "                                                                                 actors  \\\n",
       "title_x                                                                                   \n",
       "Uri                                   Vicky Kaushal|Paresh Rawal|Mohit Raina|Yami Ga...   \n",
       "Battalion                             Vicky Ahuja|Shoaib Ibrahim|Shrikant Kamat|Elen...   \n",
       "The Accidental Prime Minister (film)  Anupam Kher|Akshaye Khanna|Aahana Kumra|Atul S...   \n",
       "Why Cheat India                       Emraan Hashmi|Shreya Dhanwanthary|Snighdadeep ...   \n",
       "Evening Shadows                       Mona Ambegaonkar|Ananth Narayan Mahadevan|Deva...   \n",
       "...                                                                                 ...   \n",
       "Tera Mera Saath Rahen                 Ajay Devgn|Sonali Bendre|Namrata Shirodkar|Pre...   \n",
       "Yeh Zindagi Ka Safar                  Ameesha Patel|Jimmy Sheirgill|Nafisa Ali|Gulsh...   \n",
       "Sabse Bada Sukh                       Vijay Arora|Asrani|Rajni Bala|Kumud Damle|Utpa...   \n",
       "Daaka                                                         Gippy Grewal|Zareen Khan|   \n",
       "Humsafar                                                                    Fawad Khan|   \n",
       "\n",
       "                                            wins_nominations  \\\n",
       "title_x                                                        \n",
       "Uri                                                   4 wins   \n",
       "Battalion                                                NaN   \n",
       "The Accidental Prime Minister (film)                     NaN   \n",
       "Why Cheat India                                          NaN   \n",
       "Evening Shadows                       17 wins & 1 nomination   \n",
       "...                                                      ...   \n",
       "Tera Mera Saath Rahen                                    NaN   \n",
       "Yeh Zindagi Ka Safar                                     NaN   \n",
       "Sabse Bada Sukh                                          NaN   \n",
       "Daaka                                                    NaN   \n",
       "Humsafar                                                 NaN   \n",
       "\n",
       "                                                  release_date  \n",
       "title_x                                                         \n",
       "Uri                                      11 January 2019 (USA)  \n",
       "Battalion                              11 January 2019 (India)  \n",
       "The Accidental Prime Minister (film)     11 January 2019 (USA)  \n",
       "Why Cheat India                          18 January 2019 (USA)  \n",
       "Evening Shadows                        11 January 2019 (India)  \n",
       "...                                                        ...  \n",
       "Tera Mera Saath Rahen                  7 November 2001 (India)  \n",
       "Yeh Zindagi Ka Safar                  16 November 2001 (India)  \n",
       "Sabse Bada Sukh                                            NaN  \n",
       "Daaka                                    1 November 2019 (USA)  \n",
       "Humsafar                                 TV Series (2011–2012)  \n",
       "\n",
       "[1629 rows x 17 columns]"
      ]
     },
     "execution_count": 35,
     "metadata": {},
     "output_type": "execute_result"
    }
   ],
   "source": [
    "movies.rename(index={'Uri: The Surgical Strike':'Uri','Battalion 609':'Battalion'})"
   ]
  },
  {
   "cell_type": "code",
   "execution_count": 36,
   "metadata": {
    "colab": {
     "base_uri": "https://localhost:8080/"
    },
    "id": "GagYsIZZQK4o",
    "outputId": "33361077-2cc9-4c4c-d992-5050aa425a94"
   },
   "outputs": [
    {
     "name": "stdout",
     "output_type": "stream",
     "text": [
      "0     1.0\n",
      "1     1.0\n",
      "2     2.0\n",
      "3     2.0\n",
      "4     3.0\n",
      "5     3.0\n",
      "6     4.0\n",
      "7     4.0\n",
      "8     5.0\n",
      "9     5.0\n",
      "10    NaN\n",
      "11    NaN\n",
      "dtype: float64\n"
     ]
    }
   ],
   "source": [
    "# unique(series)\n",
    "temp = pd.Series([1,1,2,2,3,3,4,4,5,5,np.nan,np.nan])\n",
    "print(temp)"
   ]
  },
  {
   "cell_type": "code",
   "execution_count": 37,
   "metadata": {
    "colab": {
     "base_uri": "https://localhost:8080/"
    },
    "id": "NWe9wG82a_bq",
    "outputId": "1be4bb02-9cc0-4b41-9b91-85cd05ab0d50"
   },
   "outputs": [
    {
     "data": {
      "text/plain": [
       "6"
      ]
     },
     "execution_count": 37,
     "metadata": {},
     "output_type": "execute_result"
    }
   ],
   "source": [
    "len(temp.unique())"
   ]
  },
  {
   "cell_type": "code",
   "execution_count": 38,
   "metadata": {
    "colab": {
     "base_uri": "https://localhost:8080/"
    },
    "id": "DG9ijZAobDuj",
    "outputId": "5320465e-2a84-4fc3-e070-bd5b473cfb1d"
   },
   "outputs": [
    {
     "data": {
      "text/plain": [
       "5"
      ]
     },
     "execution_count": 38,
     "metadata": {},
     "output_type": "execute_result"
    }
   ],
   "source": [
    "temp.nunique()"
   ]
  },
  {
   "cell_type": "code",
   "execution_count": 39,
   "metadata": {
    "colab": {
     "base_uri": "https://localhost:8080/"
    },
    "id": "9J2T615Eaf1b",
    "outputId": "0c756ea3-4429-43c0-98d1-79362e93fdaf"
   },
   "outputs": [
    {
     "data": {
      "text/plain": [
       "15"
      ]
     },
     "execution_count": 39,
     "metadata": {},
     "output_type": "execute_result"
    }
   ],
   "source": [
    "len(ipl['Season'].unique())"
   ]
  },
  {
   "cell_type": "code",
   "execution_count": 40,
   "metadata": {
    "colab": {
     "base_uri": "https://localhost:8080/"
    },
    "id": "hiX_j-rTQNS5",
    "outputId": "f3a076d7-65f9-49e8-bb92-1f4a56315837"
   },
   "outputs": [
    {
     "data": {
      "text/plain": [
       "15"
      ]
     },
     "execution_count": 40,
     "metadata": {},
     "output_type": "execute_result"
    }
   ],
   "source": [
    "# nunique(series + dataframe) -> does not count nan -> dropna parameter\n",
    "ipl['Season'].nunique()  #gives number of unique values in 'Season' column, excluding NaN values"
   ]
  },
  {
   "cell_type": "code",
   "execution_count": 41,
   "metadata": {
    "colab": {
     "base_uri": "https://localhost:8080/"
    },
    "id": "4g5WbZuSQ0lC",
    "outputId": "7eb66452-303b-49a6-be59-15e03bcb95c7"
   },
   "outputs": [
    {
     "data": {
      "application/vnd.microsoft.datawrangler.viewer.v0+json": {
       "columns": [
        {
         "name": "index",
         "rawType": "int64",
         "type": "integer"
        },
        {
         "name": "name",
         "rawType": "object",
         "type": "unknown"
        }
       ],
       "ref": "b5a20bc5-1fbb-45c6-9928-07727a2f3f29",
       "rows": [
        [
         "3",
         null
        ],
        [
         "5",
         null
        ],
        [
         "7",
         null
        ],
        [
         "9",
         null
        ]
       ],
       "shape": {
        "columns": 1,
        "rows": 4
       }
      },
      "text/plain": [
       "3    NaN\n",
       "5    NaN\n",
       "7    NaN\n",
       "9    NaN\n",
       "Name: name, dtype: object"
      ]
     },
     "execution_count": 41,
     "metadata": {},
     "output_type": "execute_result"
    }
   ],
   "source": [
    "# isnull(series + dataframe)\n",
    "students['name'][students['name'].isnull()] # gives all the NaN values in 'name' column"
   ]
  },
  {
   "cell_type": "code",
   "execution_count": 42,
   "metadata": {
    "colab": {
     "base_uri": "https://localhost:8080/"
    },
    "id": "iJ-7VqopQ2Tt",
    "outputId": "010b1d5e-d802-4a6a-b1f9-88d34c4a077f"
   },
   "outputs": [
    {
     "data": {
      "application/vnd.microsoft.datawrangler.viewer.v0+json": {
       "columns": [
        {
         "name": "index",
         "rawType": "int64",
         "type": "integer"
        },
        {
         "name": "name",
         "rawType": "object",
         "type": "string"
        }
       ],
       "ref": "a4ccaca2-a07e-4d4a-a0b2-435656edddc0",
       "rows": [
        [
         "0",
         "nitish"
        ],
        [
         "1",
         "ankit"
        ],
        [
         "2",
         "rupesh"
        ],
        [
         "4",
         "mrityunjay"
        ],
        [
         "6",
         "rishabh"
        ],
        [
         "8",
         "aditya"
        ]
       ],
       "shape": {
        "columns": 1,
        "rows": 6
       }
      },
      "text/plain": [
       "0        nitish\n",
       "1         ankit\n",
       "2        rupesh\n",
       "4    mrityunjay\n",
       "6       rishabh\n",
       "8        aditya\n",
       "Name: name, dtype: object"
      ]
     },
     "execution_count": 42,
     "metadata": {},
     "output_type": "execute_result"
    }
   ],
   "source": [
    "# notnull(series + dataframe)\n",
    "students['name'][students['name'].notnull()]"
   ]
  },
  {
   "cell_type": "code",
   "execution_count": 43,
   "metadata": {
    "colab": {
     "base_uri": "https://localhost:8080/"
    },
    "id": "GH7I6KsFQ2c7",
    "outputId": "4f657a06-e855-419e-96aa-be5c8693adfb"
   },
   "outputs": [
    {
     "data": {
      "text/plain": [
       "True"
      ]
     },
     "execution_count": 43,
     "metadata": {},
     "output_type": "execute_result"
    }
   ],
   "source": [
    "# hasnans(series)\n",
    "students['name'].hasnans"
   ]
  },
  {
   "cell_type": "code",
   "execution_count": 44,
   "metadata": {
    "colab": {
     "base_uri": "https://localhost:8080/",
     "height": 363
    },
    "id": "qVuMAhc3Q9oQ",
    "outputId": "0ecfe342-a6c5-4b4b-e2e6-c4d6cb4db8a3"
   },
   "outputs": [
    {
     "data": {
      "application/vnd.microsoft.datawrangler.viewer.v0+json": {
       "columns": [
        {
         "name": "index",
         "rawType": "int64",
         "type": "integer"
        },
        {
         "name": "name",
         "rawType": "object",
         "type": "unknown"
        },
        {
         "name": "college",
         "rawType": "object",
         "type": "unknown"
        },
        {
         "name": "branch",
         "rawType": "object",
         "type": "unknown"
        },
        {
         "name": "cgpa",
         "rawType": "float64",
         "type": "float"
        },
        {
         "name": "package",
         "rawType": "float64",
         "type": "float"
        }
       ],
       "ref": "def790ab-e99c-43ab-9a5d-bbc1f10390b8",
       "rows": [
        [
         "0",
         "nitish",
         "bit",
         "eee",
         "6.66",
         "4.0"
        ],
        [
         "1",
         "ankit",
         "iit",
         "it",
         "8.25",
         "5.0"
        ],
        [
         "2",
         "rupesh",
         "vit",
         "cse",
         "6.41",
         "6.0"
        ],
        [
         "3",
         null,
         null,
         null,
         null,
         null
        ],
        [
         "4",
         "mrityunjay",
         null,
         "me",
         "5.6",
         "6.0"
        ],
        [
         "5",
         null,
         "vlsi",
         "ce",
         "9.0",
         "7.0"
        ],
        [
         "6",
         "rishabh",
         "ssit",
         "civ",
         "7.4",
         "8.0"
        ],
        [
         "7",
         null,
         null,
         "cse",
         "10.0",
         "9.0"
        ],
        [
         "8",
         "aditya",
         null,
         "bio",
         "7.4",
         null
        ],
        [
         "9",
         null,
         "git",
         null,
         null,
         null
        ]
       ],
       "shape": {
        "columns": 5,
        "rows": 10
       }
      },
      "text/html": [
       "<div>\n",
       "<style scoped>\n",
       "    .dataframe tbody tr th:only-of-type {\n",
       "        vertical-align: middle;\n",
       "    }\n",
       "\n",
       "    .dataframe tbody tr th {\n",
       "        vertical-align: top;\n",
       "    }\n",
       "\n",
       "    .dataframe thead th {\n",
       "        text-align: right;\n",
       "    }\n",
       "</style>\n",
       "<table border=\"1\" class=\"dataframe\">\n",
       "  <thead>\n",
       "    <tr style=\"text-align: right;\">\n",
       "      <th></th>\n",
       "      <th>name</th>\n",
       "      <th>college</th>\n",
       "      <th>branch</th>\n",
       "      <th>cgpa</th>\n",
       "      <th>package</th>\n",
       "    </tr>\n",
       "  </thead>\n",
       "  <tbody>\n",
       "    <tr>\n",
       "      <th>0</th>\n",
       "      <td>nitish</td>\n",
       "      <td>bit</td>\n",
       "      <td>eee</td>\n",
       "      <td>6.66</td>\n",
       "      <td>4.0</td>\n",
       "    </tr>\n",
       "    <tr>\n",
       "      <th>1</th>\n",
       "      <td>ankit</td>\n",
       "      <td>iit</td>\n",
       "      <td>it</td>\n",
       "      <td>8.25</td>\n",
       "      <td>5.0</td>\n",
       "    </tr>\n",
       "    <tr>\n",
       "      <th>2</th>\n",
       "      <td>rupesh</td>\n",
       "      <td>vit</td>\n",
       "      <td>cse</td>\n",
       "      <td>6.41</td>\n",
       "      <td>6.0</td>\n",
       "    </tr>\n",
       "    <tr>\n",
       "      <th>3</th>\n",
       "      <td>NaN</td>\n",
       "      <td>NaN</td>\n",
       "      <td>NaN</td>\n",
       "      <td>NaN</td>\n",
       "      <td>NaN</td>\n",
       "    </tr>\n",
       "    <tr>\n",
       "      <th>4</th>\n",
       "      <td>mrityunjay</td>\n",
       "      <td>NaN</td>\n",
       "      <td>me</td>\n",
       "      <td>5.60</td>\n",
       "      <td>6.0</td>\n",
       "    </tr>\n",
       "    <tr>\n",
       "      <th>5</th>\n",
       "      <td>NaN</td>\n",
       "      <td>vlsi</td>\n",
       "      <td>ce</td>\n",
       "      <td>9.00</td>\n",
       "      <td>7.0</td>\n",
       "    </tr>\n",
       "    <tr>\n",
       "      <th>6</th>\n",
       "      <td>rishabh</td>\n",
       "      <td>ssit</td>\n",
       "      <td>civ</td>\n",
       "      <td>7.40</td>\n",
       "      <td>8.0</td>\n",
       "    </tr>\n",
       "    <tr>\n",
       "      <th>7</th>\n",
       "      <td>NaN</td>\n",
       "      <td>NaN</td>\n",
       "      <td>cse</td>\n",
       "      <td>10.00</td>\n",
       "      <td>9.0</td>\n",
       "    </tr>\n",
       "    <tr>\n",
       "      <th>8</th>\n",
       "      <td>aditya</td>\n",
       "      <td>NaN</td>\n",
       "      <td>bio</td>\n",
       "      <td>7.40</td>\n",
       "      <td>NaN</td>\n",
       "    </tr>\n",
       "    <tr>\n",
       "      <th>9</th>\n",
       "      <td>NaN</td>\n",
       "      <td>git</td>\n",
       "      <td>NaN</td>\n",
       "      <td>NaN</td>\n",
       "      <td>NaN</td>\n",
       "    </tr>\n",
       "  </tbody>\n",
       "</table>\n",
       "</div>"
      ],
      "text/plain": [
       "         name college branch   cgpa  package\n",
       "0      nitish     bit    eee   6.66      4.0\n",
       "1       ankit     iit     it   8.25      5.0\n",
       "2      rupesh     vit    cse   6.41      6.0\n",
       "3         NaN     NaN    NaN    NaN      NaN\n",
       "4  mrityunjay     NaN     me   5.60      6.0\n",
       "5         NaN    vlsi     ce   9.00      7.0\n",
       "6     rishabh    ssit    civ   7.40      8.0\n",
       "7         NaN     NaN    cse  10.00      9.0\n",
       "8      aditya     NaN    bio   7.40      NaN\n",
       "9         NaN     git    NaN    NaN      NaN"
      ]
     },
     "execution_count": 44,
     "metadata": {},
     "output_type": "execute_result"
    }
   ],
   "source": [
    "students"
   ]
  },
  {
   "cell_type": "code",
   "execution_count": 45,
   "metadata": {
    "colab": {
     "base_uri": "https://localhost:8080/",
     "height": 363
    },
    "id": "bN4cuHbPcjmk",
    "outputId": "1ede4141-dbfa-4f52-f84c-ed8538083c94"
   },
   "outputs": [
    {
     "data": {
      "application/vnd.microsoft.datawrangler.viewer.v0+json": {
       "columns": [
        {
         "name": "index",
         "rawType": "int64",
         "type": "integer"
        },
        {
         "name": "name",
         "rawType": "bool",
         "type": "boolean"
        },
        {
         "name": "college",
         "rawType": "bool",
         "type": "boolean"
        },
        {
         "name": "branch",
         "rawType": "bool",
         "type": "boolean"
        },
        {
         "name": "cgpa",
         "rawType": "bool",
         "type": "boolean"
        },
        {
         "name": "package",
         "rawType": "bool",
         "type": "boolean"
        }
       ],
       "ref": "dd4951db-e4cb-437b-8b67-3a9920e0f626",
       "rows": [
        [
         "0",
         "False",
         "False",
         "False",
         "False",
         "False"
        ],
        [
         "1",
         "False",
         "False",
         "False",
         "False",
         "False"
        ],
        [
         "2",
         "False",
         "False",
         "False",
         "False",
         "False"
        ],
        [
         "3",
         "True",
         "True",
         "True",
         "True",
         "True"
        ],
        [
         "4",
         "False",
         "True",
         "False",
         "False",
         "False"
        ],
        [
         "5",
         "True",
         "False",
         "False",
         "False",
         "False"
        ],
        [
         "6",
         "False",
         "False",
         "False",
         "False",
         "False"
        ],
        [
         "7",
         "True",
         "True",
         "False",
         "False",
         "False"
        ],
        [
         "8",
         "False",
         "True",
         "False",
         "False",
         "True"
        ],
        [
         "9",
         "True",
         "False",
         "True",
         "True",
         "True"
        ]
       ],
       "shape": {
        "columns": 5,
        "rows": 10
       }
      },
      "text/html": [
       "<div>\n",
       "<style scoped>\n",
       "    .dataframe tbody tr th:only-of-type {\n",
       "        vertical-align: middle;\n",
       "    }\n",
       "\n",
       "    .dataframe tbody tr th {\n",
       "        vertical-align: top;\n",
       "    }\n",
       "\n",
       "    .dataframe thead th {\n",
       "        text-align: right;\n",
       "    }\n",
       "</style>\n",
       "<table border=\"1\" class=\"dataframe\">\n",
       "  <thead>\n",
       "    <tr style=\"text-align: right;\">\n",
       "      <th></th>\n",
       "      <th>name</th>\n",
       "      <th>college</th>\n",
       "      <th>branch</th>\n",
       "      <th>cgpa</th>\n",
       "      <th>package</th>\n",
       "    </tr>\n",
       "  </thead>\n",
       "  <tbody>\n",
       "    <tr>\n",
       "      <th>0</th>\n",
       "      <td>False</td>\n",
       "      <td>False</td>\n",
       "      <td>False</td>\n",
       "      <td>False</td>\n",
       "      <td>False</td>\n",
       "    </tr>\n",
       "    <tr>\n",
       "      <th>1</th>\n",
       "      <td>False</td>\n",
       "      <td>False</td>\n",
       "      <td>False</td>\n",
       "      <td>False</td>\n",
       "      <td>False</td>\n",
       "    </tr>\n",
       "    <tr>\n",
       "      <th>2</th>\n",
       "      <td>False</td>\n",
       "      <td>False</td>\n",
       "      <td>False</td>\n",
       "      <td>False</td>\n",
       "      <td>False</td>\n",
       "    </tr>\n",
       "    <tr>\n",
       "      <th>3</th>\n",
       "      <td>True</td>\n",
       "      <td>True</td>\n",
       "      <td>True</td>\n",
       "      <td>True</td>\n",
       "      <td>True</td>\n",
       "    </tr>\n",
       "    <tr>\n",
       "      <th>4</th>\n",
       "      <td>False</td>\n",
       "      <td>True</td>\n",
       "      <td>False</td>\n",
       "      <td>False</td>\n",
       "      <td>False</td>\n",
       "    </tr>\n",
       "    <tr>\n",
       "      <th>5</th>\n",
       "      <td>True</td>\n",
       "      <td>False</td>\n",
       "      <td>False</td>\n",
       "      <td>False</td>\n",
       "      <td>False</td>\n",
       "    </tr>\n",
       "    <tr>\n",
       "      <th>6</th>\n",
       "      <td>False</td>\n",
       "      <td>False</td>\n",
       "      <td>False</td>\n",
       "      <td>False</td>\n",
       "      <td>False</td>\n",
       "    </tr>\n",
       "    <tr>\n",
       "      <th>7</th>\n",
       "      <td>True</td>\n",
       "      <td>True</td>\n",
       "      <td>False</td>\n",
       "      <td>False</td>\n",
       "      <td>False</td>\n",
       "    </tr>\n",
       "    <tr>\n",
       "      <th>8</th>\n",
       "      <td>False</td>\n",
       "      <td>True</td>\n",
       "      <td>False</td>\n",
       "      <td>False</td>\n",
       "      <td>True</td>\n",
       "    </tr>\n",
       "    <tr>\n",
       "      <th>9</th>\n",
       "      <td>True</td>\n",
       "      <td>False</td>\n",
       "      <td>True</td>\n",
       "      <td>True</td>\n",
       "      <td>True</td>\n",
       "    </tr>\n",
       "  </tbody>\n",
       "</table>\n",
       "</div>"
      ],
      "text/plain": [
       "    name  college  branch   cgpa  package\n",
       "0  False    False   False  False    False\n",
       "1  False    False   False  False    False\n",
       "2  False    False   False  False    False\n",
       "3   True     True    True   True     True\n",
       "4  False     True   False  False    False\n",
       "5   True    False   False  False    False\n",
       "6  False    False   False  False    False\n",
       "7   True     True   False  False    False\n",
       "8  False     True   False  False     True\n",
       "9   True    False    True   True     True"
      ]
     },
     "execution_count": 45,
     "metadata": {},
     "output_type": "execute_result"
    }
   ],
   "source": [
    "students.isnull()"
   ]
  },
  {
   "cell_type": "code",
   "execution_count": 46,
   "metadata": {
    "colab": {
     "base_uri": "https://localhost:8080/",
     "height": 363
    },
    "id": "2AclH6odcrdA",
    "outputId": "b5ccab0b-254e-4169-de2b-ef639b70d94c"
   },
   "outputs": [
    {
     "data": {
      "application/vnd.microsoft.datawrangler.viewer.v0+json": {
       "columns": [
        {
         "name": "index",
         "rawType": "int64",
         "type": "integer"
        },
        {
         "name": "name",
         "rawType": "bool",
         "type": "boolean"
        },
        {
         "name": "college",
         "rawType": "bool",
         "type": "boolean"
        },
        {
         "name": "branch",
         "rawType": "bool",
         "type": "boolean"
        },
        {
         "name": "cgpa",
         "rawType": "bool",
         "type": "boolean"
        },
        {
         "name": "package",
         "rawType": "bool",
         "type": "boolean"
        }
       ],
       "ref": "f9062c25-ef23-48bc-a82f-37c40262d83b",
       "rows": [
        [
         "0",
         "True",
         "True",
         "True",
         "True",
         "True"
        ],
        [
         "1",
         "True",
         "True",
         "True",
         "True",
         "True"
        ],
        [
         "2",
         "True",
         "True",
         "True",
         "True",
         "True"
        ],
        [
         "3",
         "False",
         "False",
         "False",
         "False",
         "False"
        ],
        [
         "4",
         "True",
         "False",
         "True",
         "True",
         "True"
        ],
        [
         "5",
         "False",
         "True",
         "True",
         "True",
         "True"
        ],
        [
         "6",
         "True",
         "True",
         "True",
         "True",
         "True"
        ],
        [
         "7",
         "False",
         "False",
         "True",
         "True",
         "True"
        ],
        [
         "8",
         "True",
         "False",
         "True",
         "True",
         "False"
        ],
        [
         "9",
         "False",
         "True",
         "False",
         "False",
         "False"
        ]
       ],
       "shape": {
        "columns": 5,
        "rows": 10
       }
      },
      "text/html": [
       "<div>\n",
       "<style scoped>\n",
       "    .dataframe tbody tr th:only-of-type {\n",
       "        vertical-align: middle;\n",
       "    }\n",
       "\n",
       "    .dataframe tbody tr th {\n",
       "        vertical-align: top;\n",
       "    }\n",
       "\n",
       "    .dataframe thead th {\n",
       "        text-align: right;\n",
       "    }\n",
       "</style>\n",
       "<table border=\"1\" class=\"dataframe\">\n",
       "  <thead>\n",
       "    <tr style=\"text-align: right;\">\n",
       "      <th></th>\n",
       "      <th>name</th>\n",
       "      <th>college</th>\n",
       "      <th>branch</th>\n",
       "      <th>cgpa</th>\n",
       "      <th>package</th>\n",
       "    </tr>\n",
       "  </thead>\n",
       "  <tbody>\n",
       "    <tr>\n",
       "      <th>0</th>\n",
       "      <td>True</td>\n",
       "      <td>True</td>\n",
       "      <td>True</td>\n",
       "      <td>True</td>\n",
       "      <td>True</td>\n",
       "    </tr>\n",
       "    <tr>\n",
       "      <th>1</th>\n",
       "      <td>True</td>\n",
       "      <td>True</td>\n",
       "      <td>True</td>\n",
       "      <td>True</td>\n",
       "      <td>True</td>\n",
       "    </tr>\n",
       "    <tr>\n",
       "      <th>2</th>\n",
       "      <td>True</td>\n",
       "      <td>True</td>\n",
       "      <td>True</td>\n",
       "      <td>True</td>\n",
       "      <td>True</td>\n",
       "    </tr>\n",
       "    <tr>\n",
       "      <th>3</th>\n",
       "      <td>False</td>\n",
       "      <td>False</td>\n",
       "      <td>False</td>\n",
       "      <td>False</td>\n",
       "      <td>False</td>\n",
       "    </tr>\n",
       "    <tr>\n",
       "      <th>4</th>\n",
       "      <td>True</td>\n",
       "      <td>False</td>\n",
       "      <td>True</td>\n",
       "      <td>True</td>\n",
       "      <td>True</td>\n",
       "    </tr>\n",
       "    <tr>\n",
       "      <th>5</th>\n",
       "      <td>False</td>\n",
       "      <td>True</td>\n",
       "      <td>True</td>\n",
       "      <td>True</td>\n",
       "      <td>True</td>\n",
       "    </tr>\n",
       "    <tr>\n",
       "      <th>6</th>\n",
       "      <td>True</td>\n",
       "      <td>True</td>\n",
       "      <td>True</td>\n",
       "      <td>True</td>\n",
       "      <td>True</td>\n",
       "    </tr>\n",
       "    <tr>\n",
       "      <th>7</th>\n",
       "      <td>False</td>\n",
       "      <td>False</td>\n",
       "      <td>True</td>\n",
       "      <td>True</td>\n",
       "      <td>True</td>\n",
       "    </tr>\n",
       "    <tr>\n",
       "      <th>8</th>\n",
       "      <td>True</td>\n",
       "      <td>False</td>\n",
       "      <td>True</td>\n",
       "      <td>True</td>\n",
       "      <td>False</td>\n",
       "    </tr>\n",
       "    <tr>\n",
       "      <th>9</th>\n",
       "      <td>False</td>\n",
       "      <td>True</td>\n",
       "      <td>False</td>\n",
       "      <td>False</td>\n",
       "      <td>False</td>\n",
       "    </tr>\n",
       "  </tbody>\n",
       "</table>\n",
       "</div>"
      ],
      "text/plain": [
       "    name  college  branch   cgpa  package\n",
       "0   True     True    True   True     True\n",
       "1   True     True    True   True     True\n",
       "2   True     True    True   True     True\n",
       "3  False    False   False  False    False\n",
       "4   True    False    True   True     True\n",
       "5  False     True    True   True     True\n",
       "6   True     True    True   True     True\n",
       "7  False    False    True   True     True\n",
       "8   True    False    True   True    False\n",
       "9  False     True   False  False    False"
      ]
     },
     "execution_count": 46,
     "metadata": {},
     "output_type": "execute_result"
    }
   ],
   "source": [
    "students.notnull()  #gives boolean DataFrame indicating whether each element is not null"
   ]
  },
  {
   "cell_type": "code",
   "execution_count": 47,
   "metadata": {
    "colab": {
     "base_uri": "https://localhost:8080/"
    },
    "id": "rpPj3JtpThgN",
    "outputId": "ef48d2e8-802c-40ed-85ae-fe87b4804404"
   },
   "outputs": [
    {
     "data": {
      "application/vnd.microsoft.datawrangler.viewer.v0+json": {
       "columns": [
        {
         "name": "index",
         "rawType": "int64",
         "type": "integer"
        },
        {
         "name": "name",
         "rawType": "object",
         "type": "string"
        }
       ],
       "ref": "4cc8e880-5e6e-4aff-a08c-3b23c85b2a49",
       "rows": [
        [
         "0",
         "nitish"
        ],
        [
         "1",
         "ankit"
        ],
        [
         "2",
         "rupesh"
        ],
        [
         "4",
         "mrityunjay"
        ],
        [
         "6",
         "rishabh"
        ],
        [
         "8",
         "aditya"
        ]
       ],
       "shape": {
        "columns": 1,
        "rows": 6
       }
      },
      "text/plain": [
       "0        nitish\n",
       "1         ankit\n",
       "2        rupesh\n",
       "4    mrityunjay\n",
       "6       rishabh\n",
       "8        aditya\n",
       "Name: name, dtype: object"
      ]
     },
     "execution_count": 47,
     "metadata": {},
     "output_type": "execute_result"
    }
   ],
   "source": [
    "# dropna(series + dataframe) -> how parameter -> works like or\n",
    "students['name'].dropna() # gives all the non-null values in 'name' column"
   ]
  },
  {
   "cell_type": "code",
   "execution_count": 48,
   "metadata": {
    "colab": {
     "base_uri": "https://localhost:8080/",
     "height": 363
    },
    "id": "bOGltM7vdTss",
    "outputId": "f7e444e2-6658-434c-ddb7-95ac296fe9df"
   },
   "outputs": [
    {
     "data": {
      "application/vnd.microsoft.datawrangler.viewer.v0+json": {
       "columns": [
        {
         "name": "index",
         "rawType": "int64",
         "type": "integer"
        },
        {
         "name": "name",
         "rawType": "object",
         "type": "unknown"
        },
        {
         "name": "college",
         "rawType": "object",
         "type": "unknown"
        },
        {
         "name": "branch",
         "rawType": "object",
         "type": "unknown"
        },
        {
         "name": "cgpa",
         "rawType": "float64",
         "type": "float"
        },
        {
         "name": "package",
         "rawType": "float64",
         "type": "float"
        }
       ],
       "ref": "b1a8773f-99fb-403d-bd1b-ca8970b52345",
       "rows": [
        [
         "0",
         "nitish",
         "bit",
         "eee",
         "6.66",
         "4.0"
        ],
        [
         "1",
         "ankit",
         "iit",
         "it",
         "8.25",
         "5.0"
        ],
        [
         "2",
         "rupesh",
         "vit",
         "cse",
         "6.41",
         "6.0"
        ],
        [
         "3",
         null,
         null,
         null,
         null,
         null
        ],
        [
         "4",
         "mrityunjay",
         null,
         "me",
         "5.6",
         "6.0"
        ],
        [
         "5",
         null,
         "vlsi",
         "ce",
         "9.0",
         "7.0"
        ],
        [
         "6",
         "rishabh",
         "ssit",
         "civ",
         "7.4",
         "8.0"
        ],
        [
         "7",
         null,
         null,
         "cse",
         "10.0",
         "9.0"
        ],
        [
         "8",
         "aditya",
         null,
         "bio",
         "7.4",
         null
        ],
        [
         "9",
         null,
         "git",
         null,
         null,
         null
        ]
       ],
       "shape": {
        "columns": 5,
        "rows": 10
       }
      },
      "text/html": [
       "<div>\n",
       "<style scoped>\n",
       "    .dataframe tbody tr th:only-of-type {\n",
       "        vertical-align: middle;\n",
       "    }\n",
       "\n",
       "    .dataframe tbody tr th {\n",
       "        vertical-align: top;\n",
       "    }\n",
       "\n",
       "    .dataframe thead th {\n",
       "        text-align: right;\n",
       "    }\n",
       "</style>\n",
       "<table border=\"1\" class=\"dataframe\">\n",
       "  <thead>\n",
       "    <tr style=\"text-align: right;\">\n",
       "      <th></th>\n",
       "      <th>name</th>\n",
       "      <th>college</th>\n",
       "      <th>branch</th>\n",
       "      <th>cgpa</th>\n",
       "      <th>package</th>\n",
       "    </tr>\n",
       "  </thead>\n",
       "  <tbody>\n",
       "    <tr>\n",
       "      <th>0</th>\n",
       "      <td>nitish</td>\n",
       "      <td>bit</td>\n",
       "      <td>eee</td>\n",
       "      <td>6.66</td>\n",
       "      <td>4.0</td>\n",
       "    </tr>\n",
       "    <tr>\n",
       "      <th>1</th>\n",
       "      <td>ankit</td>\n",
       "      <td>iit</td>\n",
       "      <td>it</td>\n",
       "      <td>8.25</td>\n",
       "      <td>5.0</td>\n",
       "    </tr>\n",
       "    <tr>\n",
       "      <th>2</th>\n",
       "      <td>rupesh</td>\n",
       "      <td>vit</td>\n",
       "      <td>cse</td>\n",
       "      <td>6.41</td>\n",
       "      <td>6.0</td>\n",
       "    </tr>\n",
       "    <tr>\n",
       "      <th>3</th>\n",
       "      <td>NaN</td>\n",
       "      <td>NaN</td>\n",
       "      <td>NaN</td>\n",
       "      <td>NaN</td>\n",
       "      <td>NaN</td>\n",
       "    </tr>\n",
       "    <tr>\n",
       "      <th>4</th>\n",
       "      <td>mrityunjay</td>\n",
       "      <td>NaN</td>\n",
       "      <td>me</td>\n",
       "      <td>5.60</td>\n",
       "      <td>6.0</td>\n",
       "    </tr>\n",
       "    <tr>\n",
       "      <th>5</th>\n",
       "      <td>NaN</td>\n",
       "      <td>vlsi</td>\n",
       "      <td>ce</td>\n",
       "      <td>9.00</td>\n",
       "      <td>7.0</td>\n",
       "    </tr>\n",
       "    <tr>\n",
       "      <th>6</th>\n",
       "      <td>rishabh</td>\n",
       "      <td>ssit</td>\n",
       "      <td>civ</td>\n",
       "      <td>7.40</td>\n",
       "      <td>8.0</td>\n",
       "    </tr>\n",
       "    <tr>\n",
       "      <th>7</th>\n",
       "      <td>NaN</td>\n",
       "      <td>NaN</td>\n",
       "      <td>cse</td>\n",
       "      <td>10.00</td>\n",
       "      <td>9.0</td>\n",
       "    </tr>\n",
       "    <tr>\n",
       "      <th>8</th>\n",
       "      <td>aditya</td>\n",
       "      <td>NaN</td>\n",
       "      <td>bio</td>\n",
       "      <td>7.40</td>\n",
       "      <td>NaN</td>\n",
       "    </tr>\n",
       "    <tr>\n",
       "      <th>9</th>\n",
       "      <td>NaN</td>\n",
       "      <td>git</td>\n",
       "      <td>NaN</td>\n",
       "      <td>NaN</td>\n",
       "      <td>NaN</td>\n",
       "    </tr>\n",
       "  </tbody>\n",
       "</table>\n",
       "</div>"
      ],
      "text/plain": [
       "         name college branch   cgpa  package\n",
       "0      nitish     bit    eee   6.66      4.0\n",
       "1       ankit     iit     it   8.25      5.0\n",
       "2      rupesh     vit    cse   6.41      6.0\n",
       "3         NaN     NaN    NaN    NaN      NaN\n",
       "4  mrityunjay     NaN     me   5.60      6.0\n",
       "5         NaN    vlsi     ce   9.00      7.0\n",
       "6     rishabh    ssit    civ   7.40      8.0\n",
       "7         NaN     NaN    cse  10.00      9.0\n",
       "8      aditya     NaN    bio   7.40      NaN\n",
       "9         NaN     git    NaN    NaN      NaN"
      ]
     },
     "execution_count": 48,
     "metadata": {},
     "output_type": "execute_result"
    }
   ],
   "source": [
    "students"
   ]
  },
  {
   "cell_type": "code",
   "execution_count": 49,
   "metadata": {
    "colab": {
     "base_uri": "https://localhost:8080/",
     "height": 175
    },
    "id": "arSWeXMtdYzv",
    "outputId": "85dcbefb-6e4d-45e7-b909-2e68ff28282b"
   },
   "outputs": [
    {
     "data": {
      "application/vnd.microsoft.datawrangler.viewer.v0+json": {
       "columns": [
        {
         "name": "index",
         "rawType": "int64",
         "type": "integer"
        },
        {
         "name": "name",
         "rawType": "object",
         "type": "string"
        },
        {
         "name": "college",
         "rawType": "object",
         "type": "string"
        },
        {
         "name": "branch",
         "rawType": "object",
         "type": "string"
        },
        {
         "name": "cgpa",
         "rawType": "float64",
         "type": "float"
        },
        {
         "name": "package",
         "rawType": "float64",
         "type": "float"
        }
       ],
       "ref": "8705a83f-285c-4272-9931-d60112054422",
       "rows": [
        [
         "0",
         "nitish",
         "bit",
         "eee",
         "6.66",
         "4.0"
        ],
        [
         "1",
         "ankit",
         "iit",
         "it",
         "8.25",
         "5.0"
        ],
        [
         "2",
         "rupesh",
         "vit",
         "cse",
         "6.41",
         "6.0"
        ],
        [
         "6",
         "rishabh",
         "ssit",
         "civ",
         "7.4",
         "8.0"
        ]
       ],
       "shape": {
        "columns": 5,
        "rows": 4
       }
      },
      "text/html": [
       "<div>\n",
       "<style scoped>\n",
       "    .dataframe tbody tr th:only-of-type {\n",
       "        vertical-align: middle;\n",
       "    }\n",
       "\n",
       "    .dataframe tbody tr th {\n",
       "        vertical-align: top;\n",
       "    }\n",
       "\n",
       "    .dataframe thead th {\n",
       "        text-align: right;\n",
       "    }\n",
       "</style>\n",
       "<table border=\"1\" class=\"dataframe\">\n",
       "  <thead>\n",
       "    <tr style=\"text-align: right;\">\n",
       "      <th></th>\n",
       "      <th>name</th>\n",
       "      <th>college</th>\n",
       "      <th>branch</th>\n",
       "      <th>cgpa</th>\n",
       "      <th>package</th>\n",
       "    </tr>\n",
       "  </thead>\n",
       "  <tbody>\n",
       "    <tr>\n",
       "      <th>0</th>\n",
       "      <td>nitish</td>\n",
       "      <td>bit</td>\n",
       "      <td>eee</td>\n",
       "      <td>6.66</td>\n",
       "      <td>4.0</td>\n",
       "    </tr>\n",
       "    <tr>\n",
       "      <th>1</th>\n",
       "      <td>ankit</td>\n",
       "      <td>iit</td>\n",
       "      <td>it</td>\n",
       "      <td>8.25</td>\n",
       "      <td>5.0</td>\n",
       "    </tr>\n",
       "    <tr>\n",
       "      <th>2</th>\n",
       "      <td>rupesh</td>\n",
       "      <td>vit</td>\n",
       "      <td>cse</td>\n",
       "      <td>6.41</td>\n",
       "      <td>6.0</td>\n",
       "    </tr>\n",
       "    <tr>\n",
       "      <th>6</th>\n",
       "      <td>rishabh</td>\n",
       "      <td>ssit</td>\n",
       "      <td>civ</td>\n",
       "      <td>7.40</td>\n",
       "      <td>8.0</td>\n",
       "    </tr>\n",
       "  </tbody>\n",
       "</table>\n",
       "</div>"
      ],
      "text/plain": [
       "      name college branch  cgpa  package\n",
       "0   nitish     bit    eee  6.66      4.0\n",
       "1    ankit     iit     it  8.25      5.0\n",
       "2   rupesh     vit    cse  6.41      6.0\n",
       "6  rishabh    ssit    civ  7.40      8.0"
      ]
     },
     "execution_count": 49,
     "metadata": {},
     "output_type": "execute_result"
    }
   ],
   "source": [
    "students.dropna(how='any')  # drops rows with any NaN values"
   ]
  },
  {
   "cell_type": "code",
   "execution_count": 50,
   "metadata": {
    "colab": {
     "base_uri": "https://localhost:8080/",
     "height": 332
    },
    "id": "3X9ljZeLd4UK",
    "outputId": "845dc8fa-bab8-406e-bbe9-ccb2e3d5bbc1"
   },
   "outputs": [
    {
     "data": {
      "application/vnd.microsoft.datawrangler.viewer.v0+json": {
       "columns": [
        {
         "name": "index",
         "rawType": "int64",
         "type": "integer"
        },
        {
         "name": "name",
         "rawType": "object",
         "type": "unknown"
        },
        {
         "name": "college",
         "rawType": "object",
         "type": "unknown"
        },
        {
         "name": "branch",
         "rawType": "object",
         "type": "unknown"
        },
        {
         "name": "cgpa",
         "rawType": "float64",
         "type": "float"
        },
        {
         "name": "package",
         "rawType": "float64",
         "type": "float"
        }
       ],
       "ref": "8261c9a3-119b-4440-8acf-35ebde739478",
       "rows": [
        [
         "0",
         "nitish",
         "bit",
         "eee",
         "6.66",
         "4.0"
        ],
        [
         "1",
         "ankit",
         "iit",
         "it",
         "8.25",
         "5.0"
        ],
        [
         "2",
         "rupesh",
         "vit",
         "cse",
         "6.41",
         "6.0"
        ],
        [
         "4",
         "mrityunjay",
         null,
         "me",
         "5.6",
         "6.0"
        ],
        [
         "5",
         null,
         "vlsi",
         "ce",
         "9.0",
         "7.0"
        ],
        [
         "6",
         "rishabh",
         "ssit",
         "civ",
         "7.4",
         "8.0"
        ],
        [
         "7",
         null,
         null,
         "cse",
         "10.0",
         "9.0"
        ],
        [
         "8",
         "aditya",
         null,
         "bio",
         "7.4",
         null
        ],
        [
         "9",
         null,
         "git",
         null,
         null,
         null
        ]
       ],
       "shape": {
        "columns": 5,
        "rows": 9
       }
      },
      "text/html": [
       "<div>\n",
       "<style scoped>\n",
       "    .dataframe tbody tr th:only-of-type {\n",
       "        vertical-align: middle;\n",
       "    }\n",
       "\n",
       "    .dataframe tbody tr th {\n",
       "        vertical-align: top;\n",
       "    }\n",
       "\n",
       "    .dataframe thead th {\n",
       "        text-align: right;\n",
       "    }\n",
       "</style>\n",
       "<table border=\"1\" class=\"dataframe\">\n",
       "  <thead>\n",
       "    <tr style=\"text-align: right;\">\n",
       "      <th></th>\n",
       "      <th>name</th>\n",
       "      <th>college</th>\n",
       "      <th>branch</th>\n",
       "      <th>cgpa</th>\n",
       "      <th>package</th>\n",
       "    </tr>\n",
       "  </thead>\n",
       "  <tbody>\n",
       "    <tr>\n",
       "      <th>0</th>\n",
       "      <td>nitish</td>\n",
       "      <td>bit</td>\n",
       "      <td>eee</td>\n",
       "      <td>6.66</td>\n",
       "      <td>4.0</td>\n",
       "    </tr>\n",
       "    <tr>\n",
       "      <th>1</th>\n",
       "      <td>ankit</td>\n",
       "      <td>iit</td>\n",
       "      <td>it</td>\n",
       "      <td>8.25</td>\n",
       "      <td>5.0</td>\n",
       "    </tr>\n",
       "    <tr>\n",
       "      <th>2</th>\n",
       "      <td>rupesh</td>\n",
       "      <td>vit</td>\n",
       "      <td>cse</td>\n",
       "      <td>6.41</td>\n",
       "      <td>6.0</td>\n",
       "    </tr>\n",
       "    <tr>\n",
       "      <th>4</th>\n",
       "      <td>mrityunjay</td>\n",
       "      <td>NaN</td>\n",
       "      <td>me</td>\n",
       "      <td>5.60</td>\n",
       "      <td>6.0</td>\n",
       "    </tr>\n",
       "    <tr>\n",
       "      <th>5</th>\n",
       "      <td>NaN</td>\n",
       "      <td>vlsi</td>\n",
       "      <td>ce</td>\n",
       "      <td>9.00</td>\n",
       "      <td>7.0</td>\n",
       "    </tr>\n",
       "    <tr>\n",
       "      <th>6</th>\n",
       "      <td>rishabh</td>\n",
       "      <td>ssit</td>\n",
       "      <td>civ</td>\n",
       "      <td>7.40</td>\n",
       "      <td>8.0</td>\n",
       "    </tr>\n",
       "    <tr>\n",
       "      <th>7</th>\n",
       "      <td>NaN</td>\n",
       "      <td>NaN</td>\n",
       "      <td>cse</td>\n",
       "      <td>10.00</td>\n",
       "      <td>9.0</td>\n",
       "    </tr>\n",
       "    <tr>\n",
       "      <th>8</th>\n",
       "      <td>aditya</td>\n",
       "      <td>NaN</td>\n",
       "      <td>bio</td>\n",
       "      <td>7.40</td>\n",
       "      <td>NaN</td>\n",
       "    </tr>\n",
       "    <tr>\n",
       "      <th>9</th>\n",
       "      <td>NaN</td>\n",
       "      <td>git</td>\n",
       "      <td>NaN</td>\n",
       "      <td>NaN</td>\n",
       "      <td>NaN</td>\n",
       "    </tr>\n",
       "  </tbody>\n",
       "</table>\n",
       "</div>"
      ],
      "text/plain": [
       "         name college branch   cgpa  package\n",
       "0      nitish     bit    eee   6.66      4.0\n",
       "1       ankit     iit     it   8.25      5.0\n",
       "2      rupesh     vit    cse   6.41      6.0\n",
       "4  mrityunjay     NaN     me   5.60      6.0\n",
       "5         NaN    vlsi     ce   9.00      7.0\n",
       "6     rishabh    ssit    civ   7.40      8.0\n",
       "7         NaN     NaN    cse  10.00      9.0\n",
       "8      aditya     NaN    bio   7.40      NaN\n",
       "9         NaN     git    NaN    NaN      NaN"
      ]
     },
     "execution_count": 50,
     "metadata": {},
     "output_type": "execute_result"
    }
   ],
   "source": [
    "students.dropna(how='all')  # drops rows with all NaN values"
   ]
  },
  {
   "cell_type": "code",
   "execution_count": 51,
   "metadata": {
    "colab": {
     "base_uri": "https://localhost:8080/",
     "height": 238
    },
    "id": "LFhSmSL5eKMl",
    "outputId": "844cdc93-d9ec-4fd9-fcb9-360fa4f5156a"
   },
   "outputs": [
    {
     "data": {
      "application/vnd.microsoft.datawrangler.viewer.v0+json": {
       "columns": [
        {
         "name": "index",
         "rawType": "int64",
         "type": "integer"
        },
        {
         "name": "name",
         "rawType": "object",
         "type": "string"
        },
        {
         "name": "college",
         "rawType": "object",
         "type": "unknown"
        },
        {
         "name": "branch",
         "rawType": "object",
         "type": "string"
        },
        {
         "name": "cgpa",
         "rawType": "float64",
         "type": "float"
        },
        {
         "name": "package",
         "rawType": "float64",
         "type": "float"
        }
       ],
       "ref": "95cf20c4-3194-4b42-a761-6692f0598d56",
       "rows": [
        [
         "0",
         "nitish",
         "bit",
         "eee",
         "6.66",
         "4.0"
        ],
        [
         "1",
         "ankit",
         "iit",
         "it",
         "8.25",
         "5.0"
        ],
        [
         "2",
         "rupesh",
         "vit",
         "cse",
         "6.41",
         "6.0"
        ],
        [
         "4",
         "mrityunjay",
         null,
         "me",
         "5.6",
         "6.0"
        ],
        [
         "6",
         "rishabh",
         "ssit",
         "civ",
         "7.4",
         "8.0"
        ],
        [
         "8",
         "aditya",
         null,
         "bio",
         "7.4",
         null
        ]
       ],
       "shape": {
        "columns": 5,
        "rows": 6
       }
      },
      "text/html": [
       "<div>\n",
       "<style scoped>\n",
       "    .dataframe tbody tr th:only-of-type {\n",
       "        vertical-align: middle;\n",
       "    }\n",
       "\n",
       "    .dataframe tbody tr th {\n",
       "        vertical-align: top;\n",
       "    }\n",
       "\n",
       "    .dataframe thead th {\n",
       "        text-align: right;\n",
       "    }\n",
       "</style>\n",
       "<table border=\"1\" class=\"dataframe\">\n",
       "  <thead>\n",
       "    <tr style=\"text-align: right;\">\n",
       "      <th></th>\n",
       "      <th>name</th>\n",
       "      <th>college</th>\n",
       "      <th>branch</th>\n",
       "      <th>cgpa</th>\n",
       "      <th>package</th>\n",
       "    </tr>\n",
       "  </thead>\n",
       "  <tbody>\n",
       "    <tr>\n",
       "      <th>0</th>\n",
       "      <td>nitish</td>\n",
       "      <td>bit</td>\n",
       "      <td>eee</td>\n",
       "      <td>6.66</td>\n",
       "      <td>4.0</td>\n",
       "    </tr>\n",
       "    <tr>\n",
       "      <th>1</th>\n",
       "      <td>ankit</td>\n",
       "      <td>iit</td>\n",
       "      <td>it</td>\n",
       "      <td>8.25</td>\n",
       "      <td>5.0</td>\n",
       "    </tr>\n",
       "    <tr>\n",
       "      <th>2</th>\n",
       "      <td>rupesh</td>\n",
       "      <td>vit</td>\n",
       "      <td>cse</td>\n",
       "      <td>6.41</td>\n",
       "      <td>6.0</td>\n",
       "    </tr>\n",
       "    <tr>\n",
       "      <th>4</th>\n",
       "      <td>mrityunjay</td>\n",
       "      <td>NaN</td>\n",
       "      <td>me</td>\n",
       "      <td>5.60</td>\n",
       "      <td>6.0</td>\n",
       "    </tr>\n",
       "    <tr>\n",
       "      <th>6</th>\n",
       "      <td>rishabh</td>\n",
       "      <td>ssit</td>\n",
       "      <td>civ</td>\n",
       "      <td>7.40</td>\n",
       "      <td>8.0</td>\n",
       "    </tr>\n",
       "    <tr>\n",
       "      <th>8</th>\n",
       "      <td>aditya</td>\n",
       "      <td>NaN</td>\n",
       "      <td>bio</td>\n",
       "      <td>7.40</td>\n",
       "      <td>NaN</td>\n",
       "    </tr>\n",
       "  </tbody>\n",
       "</table>\n",
       "</div>"
      ],
      "text/plain": [
       "         name college branch  cgpa  package\n",
       "0      nitish     bit    eee  6.66      4.0\n",
       "1       ankit     iit     it  8.25      5.0\n",
       "2      rupesh     vit    cse  6.41      6.0\n",
       "4  mrityunjay     NaN     me  5.60      6.0\n",
       "6     rishabh    ssit    civ  7.40      8.0\n",
       "8      aditya     NaN    bio  7.40      NaN"
      ]
     },
     "execution_count": 51,
     "metadata": {},
     "output_type": "execute_result"
    }
   ],
   "source": [
    "students.dropna(subset=['name'])   # drops rows where 'name' column has NaN values"
   ]
  },
  {
   "cell_type": "code",
   "execution_count": 52,
   "metadata": {
    "colab": {
     "base_uri": "https://localhost:8080/",
     "height": 175
    },
    "id": "Mm-89hI0edOj",
    "outputId": "f422fdc8-e144-497c-a177-f78cab315c6e"
   },
   "outputs": [
    {
     "data": {
      "application/vnd.microsoft.datawrangler.viewer.v0+json": {
       "columns": [
        {
         "name": "index",
         "rawType": "int64",
         "type": "integer"
        },
        {
         "name": "name",
         "rawType": "object",
         "type": "string"
        },
        {
         "name": "college",
         "rawType": "object",
         "type": "string"
        },
        {
         "name": "branch",
         "rawType": "object",
         "type": "string"
        },
        {
         "name": "cgpa",
         "rawType": "float64",
         "type": "float"
        },
        {
         "name": "package",
         "rawType": "float64",
         "type": "float"
        }
       ],
       "ref": "5cac7817-57e5-4a94-a083-4bc9f09799cc",
       "rows": [
        [
         "0",
         "nitish",
         "bit",
         "eee",
         "6.66",
         "4.0"
        ],
        [
         "1",
         "ankit",
         "iit",
         "it",
         "8.25",
         "5.0"
        ],
        [
         "2",
         "rupesh",
         "vit",
         "cse",
         "6.41",
         "6.0"
        ],
        [
         "6",
         "rishabh",
         "ssit",
         "civ",
         "7.4",
         "8.0"
        ]
       ],
       "shape": {
        "columns": 5,
        "rows": 4
       }
      },
      "text/html": [
       "<div>\n",
       "<style scoped>\n",
       "    .dataframe tbody tr th:only-of-type {\n",
       "        vertical-align: middle;\n",
       "    }\n",
       "\n",
       "    .dataframe tbody tr th {\n",
       "        vertical-align: top;\n",
       "    }\n",
       "\n",
       "    .dataframe thead th {\n",
       "        text-align: right;\n",
       "    }\n",
       "</style>\n",
       "<table border=\"1\" class=\"dataframe\">\n",
       "  <thead>\n",
       "    <tr style=\"text-align: right;\">\n",
       "      <th></th>\n",
       "      <th>name</th>\n",
       "      <th>college</th>\n",
       "      <th>branch</th>\n",
       "      <th>cgpa</th>\n",
       "      <th>package</th>\n",
       "    </tr>\n",
       "  </thead>\n",
       "  <tbody>\n",
       "    <tr>\n",
       "      <th>0</th>\n",
       "      <td>nitish</td>\n",
       "      <td>bit</td>\n",
       "      <td>eee</td>\n",
       "      <td>6.66</td>\n",
       "      <td>4.0</td>\n",
       "    </tr>\n",
       "    <tr>\n",
       "      <th>1</th>\n",
       "      <td>ankit</td>\n",
       "      <td>iit</td>\n",
       "      <td>it</td>\n",
       "      <td>8.25</td>\n",
       "      <td>5.0</td>\n",
       "    </tr>\n",
       "    <tr>\n",
       "      <th>2</th>\n",
       "      <td>rupesh</td>\n",
       "      <td>vit</td>\n",
       "      <td>cse</td>\n",
       "      <td>6.41</td>\n",
       "      <td>6.0</td>\n",
       "    </tr>\n",
       "    <tr>\n",
       "      <th>6</th>\n",
       "      <td>rishabh</td>\n",
       "      <td>ssit</td>\n",
       "      <td>civ</td>\n",
       "      <td>7.40</td>\n",
       "      <td>8.0</td>\n",
       "    </tr>\n",
       "  </tbody>\n",
       "</table>\n",
       "</div>"
      ],
      "text/plain": [
       "      name college branch  cgpa  package\n",
       "0   nitish     bit    eee  6.66      4.0\n",
       "1    ankit     iit     it  8.25      5.0\n",
       "2   rupesh     vit    cse  6.41      6.0\n",
       "6  rishabh    ssit    civ  7.40      8.0"
      ]
     },
     "execution_count": 52,
     "metadata": {},
     "output_type": "execute_result"
    }
   ],
   "source": [
    "students.dropna(subset=['name','college'])  # drops rows where 'name' or 'college' column has NaN values"
   ]
  },
  {
   "cell_type": "code",
   "execution_count": 53,
   "metadata": {
    "colab": {
     "base_uri": "https://localhost:8080/",
     "height": 363
    },
    "id": "-PbkdgyMeq9A",
    "outputId": "f3a80cc2-929d-4103-922e-3ddad691990c"
   },
   "outputs": [],
   "source": [
    "students.dropna(inplace=True) #drops all rows with NaN values and modifies the original DataFrame"
   ]
  },
  {
   "cell_type": "code",
   "execution_count": null,
   "metadata": {
    "colab": {
     "base_uri": "https://localhost:8080/"
    },
    "id": "JgBwIs6mUFae",
    "outputId": "2d6affbe-bedd-489f-ffed-10121ed07fbe"
   },
   "outputs": [
    {
     "data": {
      "text/plain": [
       "0        nitish\n",
       "1         ankit\n",
       "2        rupesh\n",
       "3       unknown\n",
       "4    mrityunjay\n",
       "5       unknown\n",
       "6       rishabh\n",
       "7       unknown\n",
       "8        aditya\n",
       "9       unknown\n",
       "Name: name, dtype: object"
      ]
     },
     "execution_count": 222,
     "metadata": {},
     "output_type": "execute_result"
    }
   ],
   "source": [
    "# fillna(series + dataframe)\n",
    "students['name'].fillna('unknown')"
   ]
  },
  {
   "cell_type": "code",
   "execution_count": null,
   "metadata": {
    "colab": {
     "base_uri": "https://localhost:8080/",
     "height": 363
    },
    "id": "I5oN2BBvfaKl",
    "outputId": "d2c7128d-78b4-4305-a1ad-cc419fb25681"
   },
   "outputs": [
    {
     "data": {
      "text/html": [
       "\n",
       "  <div id=\"df-98209382-b7a3-457c-83bd-b0b4d2af8016\">\n",
       "    <div class=\"colab-df-container\">\n",
       "      <div>\n",
       "<style scoped>\n",
       "    .dataframe tbody tr th:only-of-type {\n",
       "        vertical-align: middle;\n",
       "    }\n",
       "\n",
       "    .dataframe tbody tr th {\n",
       "        vertical-align: top;\n",
       "    }\n",
       "\n",
       "    .dataframe thead th {\n",
       "        text-align: right;\n",
       "    }\n",
       "</style>\n",
       "<table border=\"1\" class=\"dataframe\">\n",
       "  <thead>\n",
       "    <tr style=\"text-align: right;\">\n",
       "      <th></th>\n",
       "      <th>name</th>\n",
       "      <th>college</th>\n",
       "      <th>branch</th>\n",
       "      <th>cgpa</th>\n",
       "      <th>package</th>\n",
       "    </tr>\n",
       "  </thead>\n",
       "  <tbody>\n",
       "    <tr>\n",
       "      <th>0</th>\n",
       "      <td>nitish</td>\n",
       "      <td>bit</td>\n",
       "      <td>eee</td>\n",
       "      <td>6.66</td>\n",
       "      <td>4.0</td>\n",
       "    </tr>\n",
       "    <tr>\n",
       "      <th>1</th>\n",
       "      <td>ankit</td>\n",
       "      <td>iit</td>\n",
       "      <td>it</td>\n",
       "      <td>8.25</td>\n",
       "      <td>5.0</td>\n",
       "    </tr>\n",
       "    <tr>\n",
       "      <th>2</th>\n",
       "      <td>rupesh</td>\n",
       "      <td>vit</td>\n",
       "      <td>cse</td>\n",
       "      <td>6.41</td>\n",
       "      <td>6.0</td>\n",
       "    </tr>\n",
       "    <tr>\n",
       "      <th>3</th>\n",
       "      <td>NaN</td>\n",
       "      <td>NaN</td>\n",
       "      <td>NaN</td>\n",
       "      <td>NaN</td>\n",
       "      <td>NaN</td>\n",
       "    </tr>\n",
       "    <tr>\n",
       "      <th>4</th>\n",
       "      <td>mrityunjay</td>\n",
       "      <td>NaN</td>\n",
       "      <td>me</td>\n",
       "      <td>5.60</td>\n",
       "      <td>6.0</td>\n",
       "    </tr>\n",
       "    <tr>\n",
       "      <th>5</th>\n",
       "      <td>NaN</td>\n",
       "      <td>vlsi</td>\n",
       "      <td>ce</td>\n",
       "      <td>9.00</td>\n",
       "      <td>7.0</td>\n",
       "    </tr>\n",
       "    <tr>\n",
       "      <th>6</th>\n",
       "      <td>rishabh</td>\n",
       "      <td>ssit</td>\n",
       "      <td>civ</td>\n",
       "      <td>7.40</td>\n",
       "      <td>8.0</td>\n",
       "    </tr>\n",
       "    <tr>\n",
       "      <th>7</th>\n",
       "      <td>NaN</td>\n",
       "      <td>NaN</td>\n",
       "      <td>cse</td>\n",
       "      <td>10.00</td>\n",
       "      <td>9.0</td>\n",
       "    </tr>\n",
       "    <tr>\n",
       "      <th>8</th>\n",
       "      <td>aditya</td>\n",
       "      <td>NaN</td>\n",
       "      <td>bio</td>\n",
       "      <td>7.40</td>\n",
       "      <td>NaN</td>\n",
       "    </tr>\n",
       "    <tr>\n",
       "      <th>9</th>\n",
       "      <td>NaN</td>\n",
       "      <td>git</td>\n",
       "      <td>NaN</td>\n",
       "      <td>NaN</td>\n",
       "      <td>NaN</td>\n",
       "    </tr>\n",
       "  </tbody>\n",
       "</table>\n",
       "</div>\n",
       "      <button class=\"colab-df-convert\" onclick=\"convertToInteractive('df-98209382-b7a3-457c-83bd-b0b4d2af8016')\"\n",
       "              title=\"Convert this dataframe to an interactive table.\"\n",
       "              style=\"display:none;\">\n",
       "        \n",
       "  <svg xmlns=\"http://www.w3.org/2000/svg\" height=\"24px\"viewBox=\"0 0 24 24\"\n",
       "       width=\"24px\">\n",
       "    <path d=\"M0 0h24v24H0V0z\" fill=\"none\"/>\n",
       "    <path d=\"M18.56 5.44l.94 2.06.94-2.06 2.06-.94-2.06-.94-.94-2.06-.94 2.06-2.06.94zm-11 1L8.5 8.5l.94-2.06 2.06-.94-2.06-.94L8.5 2.5l-.94 2.06-2.06.94zm10 10l.94 2.06.94-2.06 2.06-.94-2.06-.94-.94-2.06-.94 2.06-2.06.94z\"/><path d=\"M17.41 7.96l-1.37-1.37c-.4-.4-.92-.59-1.43-.59-.52 0-1.04.2-1.43.59L10.3 9.45l-7.72 7.72c-.78.78-.78 2.05 0 2.83L4 21.41c.39.39.9.59 1.41.59.51 0 1.02-.2 1.41-.59l7.78-7.78 2.81-2.81c.8-.78.8-2.07 0-2.86zM5.41 20L4 18.59l7.72-7.72 1.47 1.35L5.41 20z\"/>\n",
       "  </svg>\n",
       "      </button>\n",
       "      \n",
       "  <style>\n",
       "    .colab-df-container {\n",
       "      display:flex;\n",
       "      flex-wrap:wrap;\n",
       "      gap: 12px;\n",
       "    }\n",
       "\n",
       "    .colab-df-convert {\n",
       "      background-color: #E8F0FE;\n",
       "      border: none;\n",
       "      border-radius: 50%;\n",
       "      cursor: pointer;\n",
       "      display: none;\n",
       "      fill: #1967D2;\n",
       "      height: 32px;\n",
       "      padding: 0 0 0 0;\n",
       "      width: 32px;\n",
       "    }\n",
       "\n",
       "    .colab-df-convert:hover {\n",
       "      background-color: #E2EBFA;\n",
       "      box-shadow: 0px 1px 2px rgba(60, 64, 67, 0.3), 0px 1px 3px 1px rgba(60, 64, 67, 0.15);\n",
       "      fill: #174EA6;\n",
       "    }\n",
       "\n",
       "    [theme=dark] .colab-df-convert {\n",
       "      background-color: #3B4455;\n",
       "      fill: #D2E3FC;\n",
       "    }\n",
       "\n",
       "    [theme=dark] .colab-df-convert:hover {\n",
       "      background-color: #434B5C;\n",
       "      box-shadow: 0px 1px 3px 1px rgba(0, 0, 0, 0.15);\n",
       "      filter: drop-shadow(0px 1px 2px rgba(0, 0, 0, 0.3));\n",
       "      fill: #FFFFFF;\n",
       "    }\n",
       "  </style>\n",
       "\n",
       "      <script>\n",
       "        const buttonEl =\n",
       "          document.querySelector('#df-98209382-b7a3-457c-83bd-b0b4d2af8016 button.colab-df-convert');\n",
       "        buttonEl.style.display =\n",
       "          google.colab.kernel.accessAllowed ? 'block' : 'none';\n",
       "\n",
       "        async function convertToInteractive(key) {\n",
       "          const element = document.querySelector('#df-98209382-b7a3-457c-83bd-b0b4d2af8016');\n",
       "          const dataTable =\n",
       "            await google.colab.kernel.invokeFunction('convertToInteractive',\n",
       "                                                     [key], {});\n",
       "          if (!dataTable) return;\n",
       "\n",
       "          const docLinkHtml = 'Like what you see? Visit the ' +\n",
       "            '<a target=\"_blank\" href=https://colab.research.google.com/notebooks/data_table.ipynb>data table notebook</a>'\n",
       "            + ' to learn more about interactive tables.';\n",
       "          element.innerHTML = '';\n",
       "          dataTable['output_type'] = 'display_data';\n",
       "          await google.colab.output.renderOutput(dataTable, element);\n",
       "          const docLink = document.createElement('div');\n",
       "          docLink.innerHTML = docLinkHtml;\n",
       "          element.appendChild(docLink);\n",
       "        }\n",
       "      </script>\n",
       "    </div>\n",
       "  </div>\n",
       "  "
      ],
      "text/plain": [
       "         name college branch   cgpa  package\n",
       "0      nitish     bit    eee   6.66      4.0\n",
       "1       ankit     iit     it   8.25      5.0\n",
       "2      rupesh     vit    cse   6.41      6.0\n",
       "3         NaN     NaN    NaN    NaN      NaN\n",
       "4  mrityunjay     NaN     me   5.60      6.0\n",
       "5         NaN    vlsi     ce   9.00      7.0\n",
       "6     rishabh    ssit    civ   7.40      8.0\n",
       "7         NaN     NaN    cse  10.00      9.0\n",
       "8      aditya     NaN    bio   7.40      NaN\n",
       "9         NaN     git    NaN    NaN      NaN"
      ]
     },
     "execution_count": 223,
     "metadata": {},
     "output_type": "execute_result"
    }
   ],
   "source": [
    "students"
   ]
  },
  {
   "cell_type": "code",
   "execution_count": 54,
   "metadata": {
    "colab": {
     "base_uri": "https://localhost:8080/"
    },
    "id": "mQ3aVH6Pfgqf",
    "outputId": "a0962449-1805-4057-9696-a5d17af7050f"
   },
   "outputs": [
    {
     "data": {
      "application/vnd.microsoft.datawrangler.viewer.v0+json": {
       "columns": [
        {
         "name": "index",
         "rawType": "int64",
         "type": "integer"
        },
        {
         "name": "package",
         "rawType": "float64",
         "type": "float"
        }
       ],
       "ref": "3b17ebfa-3045-44f9-a8a0-005320a3d7d9",
       "rows": [
        [
         "0",
         "4.0"
        ],
        [
         "1",
         "5.0"
        ],
        [
         "2",
         "6.0"
        ],
        [
         "6",
         "8.0"
        ]
       ],
       "shape": {
        "columns": 1,
        "rows": 4
       }
      },
      "text/plain": [
       "0    4.0\n",
       "1    5.0\n",
       "2    6.0\n",
       "6    8.0\n",
       "Name: package, dtype: float64"
      ]
     },
     "execution_count": 54,
     "metadata": {},
     "output_type": "execute_result"
    }
   ],
   "source": [
    "students['package'].fillna(students['package'].mean())   # # fill NaN values in 'package' column with the mean of the column"
   ]
  },
  {
   "cell_type": "code",
   "execution_count": 55,
   "metadata": {
    "colab": {
     "base_uri": "https://localhost:8080/"
    },
    "id": "v1xwVI8Sf9Pc",
    "outputId": "d36e9188-a2b0-4cc3-cf1d-b20357fbfeb3"
   },
   "outputs": [
    {
     "name": "stderr",
     "output_type": "stream",
     "text": [
      "C:\\Users\\User\\AppData\\Local\\Temp\\ipykernel_19956\\546722620.py:1: FutureWarning: Series.fillna with 'method' is deprecated and will raise in a future version. Use obj.ffill() or obj.bfill() instead.\n",
      "  students['name'].fillna(method='bfill')  # fill NaN values in 'name' column using backward fill method\n"
     ]
    },
    {
     "data": {
      "application/vnd.microsoft.datawrangler.viewer.v0+json": {
       "columns": [
        {
         "name": "index",
         "rawType": "int64",
         "type": "integer"
        },
        {
         "name": "name",
         "rawType": "object",
         "type": "string"
        }
       ],
       "ref": "bf55a79f-e6cc-4792-b5e6-84008ede0780",
       "rows": [
        [
         "0",
         "nitish"
        ],
        [
         "1",
         "ankit"
        ],
        [
         "2",
         "rupesh"
        ],
        [
         "6",
         "rishabh"
        ]
       ],
       "shape": {
        "columns": 1,
        "rows": 4
       }
      },
      "text/plain": [
       "0     nitish\n",
       "1      ankit\n",
       "2     rupesh\n",
       "6    rishabh\n",
       "Name: name, dtype: object"
      ]
     },
     "execution_count": 55,
     "metadata": {},
     "output_type": "execute_result"
    }
   ],
   "source": [
    "students['name'].fillna(method='bfill')  # fill NaN values in 'name' column using backward fill method"
   ]
  },
  {
   "cell_type": "code",
   "execution_count": null,
   "metadata": {
    "id": "PCMDqTW8dA_o"
   },
   "outputs": [],
   "source": [
    "# drop_duplicates(series + dataframe) -> works like and -> duplicated()"
   ]
  },
  {
   "cell_type": "code",
   "execution_count": 56,
   "metadata": {
    "colab": {
     "base_uri": "https://localhost:8080/"
    },
    "id": "77UU4W7yfeHx",
    "outputId": "93f00155-1201-4e6b-94c6-e597933cf520"
   },
   "outputs": [
    {
     "data": {
      "application/vnd.microsoft.datawrangler.viewer.v0+json": {
       "columns": [
        {
         "name": "index",
         "rawType": "int64",
         "type": "integer"
        },
        {
         "name": "0",
         "rawType": "int64",
         "type": "integer"
        }
       ],
       "ref": "d2d2e555-d295-4228-8115-ae1e1b2d8301",
       "rows": [
        [
         "0",
         "1"
        ],
        [
         "3",
         "2"
        ],
        [
         "4",
         "3"
        ],
        [
         "6",
         "4"
        ]
       ],
       "shape": {
        "columns": 1,
        "rows": 4
       }
      },
      "text/plain": [
       "0    1\n",
       "3    2\n",
       "4    3\n",
       "6    4\n",
       "dtype: int64"
      ]
     },
     "execution_count": 56,
     "metadata": {},
     "output_type": "execute_result"
    }
   ],
   "source": [
    "temp = pd.Series([1,1,1,2,3,3,4,4])\n",
    "temp.drop_duplicates()  # gives unique values in the series, removing duplicates"
   ]
  },
  {
   "cell_type": "code",
   "execution_count": 57,
   "metadata": {
    "colab": {
     "base_uri": "https://localhost:8080/",
     "height": 175
    },
    "id": "wjihxgavg6Ls",
    "outputId": "beb98133-9aad-4356-fc34-619c8315e1fe"
   },
   "outputs": [
    {
     "ename": "AttributeError",
     "evalue": "'dict' object has no attribute 'drop_duplicates'",
     "output_type": "error",
     "traceback": [
      "\u001b[1;31m---------------------------------------------------------------------------\u001b[0m",
      "\u001b[1;31mAttributeError\u001b[0m                            Traceback (most recent call last)",
      "Cell \u001b[1;32mIn[57], line 1\u001b[0m\n\u001b[1;32m----> 1\u001b[0m marks\u001b[38;5;241m.\u001b[39mdrop_duplicates(keep\u001b[38;5;241m=\u001b[39m\u001b[38;5;124m'\u001b[39m\u001b[38;5;124mlast\u001b[39m\u001b[38;5;124m'\u001b[39m)\n",
      "\u001b[1;31mAttributeError\u001b[0m: 'dict' object has no attribute 'drop_duplicates'"
     ]
    }
   ],
   "source": [
    "marks.drop_duplicates(keep='last')  # drops duplicate rows in the DataFrame, keeping the last occurrence"
   ]
  },
  {
   "cell_type": "code",
   "execution_count": 58,
   "metadata": {
    "colab": {
     "base_uri": "https://localhost:8080/",
     "height": 595
    },
    "id": "Rr2yJC-Mx6GM",
    "outputId": "71fece6a-12db-444e-f2db-fd9356e24d65"
   },
   "outputs": [
    {
     "data": {
      "application/vnd.microsoft.datawrangler.viewer.v0+json": {
       "columns": [
        {
         "name": "index",
         "rawType": "int64",
         "type": "integer"
        },
        {
         "name": "ID",
         "rawType": "int64",
         "type": "integer"
        },
        {
         "name": "City",
         "rawType": "object",
         "type": "string"
        },
        {
         "name": "Date",
         "rawType": "object",
         "type": "string"
        },
        {
         "name": "Season",
         "rawType": "object",
         "type": "string"
        },
        {
         "name": "MatchNumber",
         "rawType": "object",
         "type": "string"
        },
        {
         "name": "Team1",
         "rawType": "object",
         "type": "string"
        },
        {
         "name": "Team2",
         "rawType": "object",
         "type": "string"
        },
        {
         "name": "Venue",
         "rawType": "object",
         "type": "string"
        },
        {
         "name": "TossWinner",
         "rawType": "object",
         "type": "string"
        },
        {
         "name": "TossDecision",
         "rawType": "object",
         "type": "string"
        },
        {
         "name": "SuperOver",
         "rawType": "object",
         "type": "string"
        },
        {
         "name": "WinningTeam",
         "rawType": "object",
         "type": "string"
        },
        {
         "name": "WonBy",
         "rawType": "object",
         "type": "string"
        },
        {
         "name": "Margin",
         "rawType": "float64",
         "type": "float"
        },
        {
         "name": "method",
         "rawType": "object",
         "type": "unknown"
        },
        {
         "name": "Player_of_Match",
         "rawType": "object",
         "type": "string"
        },
        {
         "name": "Team1Players",
         "rawType": "object",
         "type": "string"
        },
        {
         "name": "Team2Players",
         "rawType": "object",
         "type": "string"
        },
        {
         "name": "Umpire1",
         "rawType": "object",
         "type": "string"
        },
        {
         "name": "Umpire2",
         "rawType": "object",
         "type": "string"
        },
        {
         "name": "all_players",
         "rawType": "object",
         "type": "string"
        }
       ],
       "ref": "529d0af1-4dec-4a10-a605-27526436a505",
       "rows": [
        [
         "0",
         "1312200",
         "Ahmedabad",
         "2022-05-29",
         "2022",
         "Final",
         "Rajasthan Royals",
         "Gujarat Titans",
         "Narendra Modi Stadium, Ahmedabad",
         "Rajasthan Royals",
         "bat",
         "N",
         "Gujarat Titans",
         "Wickets",
         "7.0",
         null,
         "HH Pandya",
         "['YBK Jaiswal', 'JC Buttler', 'SV Samson', 'D Padikkal', 'SO Hetmyer', 'R Ashwin', 'R Parag', 'TA Boult', 'OC McCoy', 'M Prasidh Krishna', 'YS Chahal']",
         "['WP Saha', 'Shubman Gill', 'MS Wade', 'HH Pandya', 'DA Miller', 'R Tewatia', 'Rashid Khan', 'R Sai Kishore', 'LH Ferguson', 'Yash Dayal', 'Mohammed Shami']",
         "CB Gaffaney",
         "Nitin Menon",
         "['YBK Jaiswal', 'JC Buttler', 'SV Samson', 'D Padikkal', 'SO Hetmyer', 'R Ashwin', 'R Parag', 'TA Boult', 'OC McCoy', 'M Prasidh Krishna', 'YS Chahal']['WP Saha', 'Shubman Gill', 'MS Wade', 'HH Pandya', 'DA Miller', 'R Tewatia', 'Rashid Khan', 'R Sai Kishore', 'LH Ferguson', 'Yash Dayal', 'Mohammed Shami']"
        ],
        [
         "1",
         "1312199",
         "Ahmedabad",
         "2022-05-27",
         "2022",
         "Qualifier 2",
         "Royal Challengers Bangalore",
         "Rajasthan Royals",
         "Narendra Modi Stadium, Ahmedabad",
         "Rajasthan Royals",
         "field",
         "N",
         "Rajasthan Royals",
         "Wickets",
         "7.0",
         null,
         "JC Buttler",
         "['V Kohli', 'F du Plessis', 'RM Patidar', 'GJ Maxwell', 'MK Lomror', 'KD Karthik', 'Shahbaz Ahmed', 'PWH de Silva', 'HV Patel', 'JR Hazlewood', 'Mohammed Siraj']",
         "['YBK Jaiswal', 'JC Buttler', 'SV Samson', 'D Padikkal', 'SO Hetmyer', 'R Parag', 'R Ashwin', 'TA Boult', 'YS Chahal', 'M Prasidh Krishna', 'OC McCoy']",
         "CB Gaffaney",
         "Nitin Menon",
         "['V Kohli', 'F du Plessis', 'RM Patidar', 'GJ Maxwell', 'MK Lomror', 'KD Karthik', 'Shahbaz Ahmed', 'PWH de Silva', 'HV Patel', 'JR Hazlewood', 'Mohammed Siraj']['YBK Jaiswal', 'JC Buttler', 'SV Samson', 'D Padikkal', 'SO Hetmyer', 'R Parag', 'R Ashwin', 'TA Boult', 'YS Chahal', 'M Prasidh Krishna', 'OC McCoy']"
        ],
        [
         "2",
         "1312198",
         "Kolkata",
         "2022-05-25",
         "2022",
         "Eliminator",
         "Royal Challengers Bangalore",
         "Lucknow Super Giants",
         "Eden Gardens, Kolkata",
         "Lucknow Super Giants",
         "field",
         "N",
         "Royal Challengers Bangalore",
         "Runs",
         "14.0",
         null,
         "RM Patidar",
         "['V Kohli', 'F du Plessis', 'RM Patidar', 'GJ Maxwell', 'MK Lomror', 'KD Karthik', 'Shahbaz Ahmed', 'HV Patel', 'PWH de Silva', 'JR Hazlewood', 'Mohammed Siraj']",
         "['Q de Kock', 'KL Rahul', 'M Vohra', 'DJ Hooda', 'MP Stoinis', 'E Lewis', 'KH Pandya', 'PVD Chameera', 'Mohsin Khan', 'Avesh Khan', 'Ravi Bishnoi']",
         "J Madanagopal",
         "MA Gough",
         "['V Kohli', 'F du Plessis', 'RM Patidar', 'GJ Maxwell', 'MK Lomror', 'KD Karthik', 'Shahbaz Ahmed', 'HV Patel', 'PWH de Silva', 'JR Hazlewood', 'Mohammed Siraj']['Q de Kock', 'KL Rahul', 'M Vohra', 'DJ Hooda', 'MP Stoinis', 'E Lewis', 'KH Pandya', 'PVD Chameera', 'Mohsin Khan', 'Avesh Khan', 'Ravi Bishnoi']"
        ],
        [
         "3",
         "1312197",
         "Kolkata",
         "2022-05-24",
         "2022",
         "Qualifier 1",
         "Rajasthan Royals",
         "Gujarat Titans",
         "Eden Gardens, Kolkata",
         "Gujarat Titans",
         "field",
         "N",
         "Gujarat Titans",
         "Wickets",
         "7.0",
         null,
         "DA Miller",
         "['YBK Jaiswal', 'JC Buttler', 'SV Samson', 'D Padikkal', 'SO Hetmyer', 'R Parag', 'R Ashwin', 'TA Boult', 'YS Chahal', 'M Prasidh Krishna', 'OC McCoy']",
         "['WP Saha', 'Shubman Gill', 'MS Wade', 'HH Pandya', 'DA Miller', 'R Tewatia', 'Rashid Khan', 'R Sai Kishore', 'AS Joseph', 'Yash Dayal', 'Mohammed Shami']",
         "BNJ Oxenford",
         "VK Sharma",
         "['YBK Jaiswal', 'JC Buttler', 'SV Samson', 'D Padikkal', 'SO Hetmyer', 'R Parag', 'R Ashwin', 'TA Boult', 'YS Chahal', 'M Prasidh Krishna', 'OC McCoy']['WP Saha', 'Shubman Gill', 'MS Wade', 'HH Pandya', 'DA Miller', 'R Tewatia', 'Rashid Khan', 'R Sai Kishore', 'AS Joseph', 'Yash Dayal', 'Mohammed Shami']"
        ],
        [
         "4",
         "1304116",
         "Mumbai",
         "2022-05-22",
         "2022",
         "70",
         "Sunrisers Hyderabad",
         "Punjab Kings",
         "Wankhede Stadium, Mumbai",
         "Sunrisers Hyderabad",
         "bat",
         "N",
         "Punjab Kings",
         "Wickets",
         "5.0",
         null,
         "Harpreet Brar",
         "['PK Garg', 'Abhishek Sharma', 'RA Tripathi', 'AK Markram', 'N Pooran', 'Washington Sundar', 'R Shepherd', 'J Suchith', 'B Kumar', 'Umran Malik', 'Fazalhaq Farooqi']",
         "['JM Bairstow', 'S Dhawan', 'M Shahrukh Khan', 'MA Agarwal', 'LS Livingstone', 'JM Sharma', 'PN Mankad', 'Harpreet Brar', 'K Rabada', 'NT Ellis', 'Arshdeep Singh']",
         "AK Chaudhary",
         "NA Patwardhan",
         "['PK Garg', 'Abhishek Sharma', 'RA Tripathi', 'AK Markram', 'N Pooran', 'Washington Sundar', 'R Shepherd', 'J Suchith', 'B Kumar', 'Umran Malik', 'Fazalhaq Farooqi']['JM Bairstow', 'S Dhawan', 'M Shahrukh Khan', 'MA Agarwal', 'LS Livingstone', 'JM Sharma', 'PN Mankad', 'Harpreet Brar', 'K Rabada', 'NT Ellis', 'Arshdeep Singh']"
        ]
       ],
       "shape": {
        "columns": 21,
        "rows": 5
       }
      },
      "text/html": [
       "<div>\n",
       "<style scoped>\n",
       "    .dataframe tbody tr th:only-of-type {\n",
       "        vertical-align: middle;\n",
       "    }\n",
       "\n",
       "    .dataframe tbody tr th {\n",
       "        vertical-align: top;\n",
       "    }\n",
       "\n",
       "    .dataframe thead th {\n",
       "        text-align: right;\n",
       "    }\n",
       "</style>\n",
       "<table border=\"1\" class=\"dataframe\">\n",
       "  <thead>\n",
       "    <tr style=\"text-align: right;\">\n",
       "      <th></th>\n",
       "      <th>ID</th>\n",
       "      <th>City</th>\n",
       "      <th>Date</th>\n",
       "      <th>Season</th>\n",
       "      <th>MatchNumber</th>\n",
       "      <th>Team1</th>\n",
       "      <th>Team2</th>\n",
       "      <th>Venue</th>\n",
       "      <th>TossWinner</th>\n",
       "      <th>TossDecision</th>\n",
       "      <th>...</th>\n",
       "      <th>WinningTeam</th>\n",
       "      <th>WonBy</th>\n",
       "      <th>Margin</th>\n",
       "      <th>method</th>\n",
       "      <th>Player_of_Match</th>\n",
       "      <th>Team1Players</th>\n",
       "      <th>Team2Players</th>\n",
       "      <th>Umpire1</th>\n",
       "      <th>Umpire2</th>\n",
       "      <th>all_players</th>\n",
       "    </tr>\n",
       "  </thead>\n",
       "  <tbody>\n",
       "    <tr>\n",
       "      <th>0</th>\n",
       "      <td>1312200</td>\n",
       "      <td>Ahmedabad</td>\n",
       "      <td>2022-05-29</td>\n",
       "      <td>2022</td>\n",
       "      <td>Final</td>\n",
       "      <td>Rajasthan Royals</td>\n",
       "      <td>Gujarat Titans</td>\n",
       "      <td>Narendra Modi Stadium, Ahmedabad</td>\n",
       "      <td>Rajasthan Royals</td>\n",
       "      <td>bat</td>\n",
       "      <td>...</td>\n",
       "      <td>Gujarat Titans</td>\n",
       "      <td>Wickets</td>\n",
       "      <td>7.0</td>\n",
       "      <td>NaN</td>\n",
       "      <td>HH Pandya</td>\n",
       "      <td>['YBK Jaiswal', 'JC Buttler', 'SV Samson', 'D ...</td>\n",
       "      <td>['WP Saha', 'Shubman Gill', 'MS Wade', 'HH Pan...</td>\n",
       "      <td>CB Gaffaney</td>\n",
       "      <td>Nitin Menon</td>\n",
       "      <td>['YBK Jaiswal', 'JC Buttler', 'SV Samson', 'D ...</td>\n",
       "    </tr>\n",
       "    <tr>\n",
       "      <th>1</th>\n",
       "      <td>1312199</td>\n",
       "      <td>Ahmedabad</td>\n",
       "      <td>2022-05-27</td>\n",
       "      <td>2022</td>\n",
       "      <td>Qualifier 2</td>\n",
       "      <td>Royal Challengers Bangalore</td>\n",
       "      <td>Rajasthan Royals</td>\n",
       "      <td>Narendra Modi Stadium, Ahmedabad</td>\n",
       "      <td>Rajasthan Royals</td>\n",
       "      <td>field</td>\n",
       "      <td>...</td>\n",
       "      <td>Rajasthan Royals</td>\n",
       "      <td>Wickets</td>\n",
       "      <td>7.0</td>\n",
       "      <td>NaN</td>\n",
       "      <td>JC Buttler</td>\n",
       "      <td>['V Kohli', 'F du Plessis', 'RM Patidar', 'GJ ...</td>\n",
       "      <td>['YBK Jaiswal', 'JC Buttler', 'SV Samson', 'D ...</td>\n",
       "      <td>CB Gaffaney</td>\n",
       "      <td>Nitin Menon</td>\n",
       "      <td>['V Kohli', 'F du Plessis', 'RM Patidar', 'GJ ...</td>\n",
       "    </tr>\n",
       "    <tr>\n",
       "      <th>2</th>\n",
       "      <td>1312198</td>\n",
       "      <td>Kolkata</td>\n",
       "      <td>2022-05-25</td>\n",
       "      <td>2022</td>\n",
       "      <td>Eliminator</td>\n",
       "      <td>Royal Challengers Bangalore</td>\n",
       "      <td>Lucknow Super Giants</td>\n",
       "      <td>Eden Gardens, Kolkata</td>\n",
       "      <td>Lucknow Super Giants</td>\n",
       "      <td>field</td>\n",
       "      <td>...</td>\n",
       "      <td>Royal Challengers Bangalore</td>\n",
       "      <td>Runs</td>\n",
       "      <td>14.0</td>\n",
       "      <td>NaN</td>\n",
       "      <td>RM Patidar</td>\n",
       "      <td>['V Kohli', 'F du Plessis', 'RM Patidar', 'GJ ...</td>\n",
       "      <td>['Q de Kock', 'KL Rahul', 'M Vohra', 'DJ Hooda...</td>\n",
       "      <td>J Madanagopal</td>\n",
       "      <td>MA Gough</td>\n",
       "      <td>['V Kohli', 'F du Plessis', 'RM Patidar', 'GJ ...</td>\n",
       "    </tr>\n",
       "    <tr>\n",
       "      <th>3</th>\n",
       "      <td>1312197</td>\n",
       "      <td>Kolkata</td>\n",
       "      <td>2022-05-24</td>\n",
       "      <td>2022</td>\n",
       "      <td>Qualifier 1</td>\n",
       "      <td>Rajasthan Royals</td>\n",
       "      <td>Gujarat Titans</td>\n",
       "      <td>Eden Gardens, Kolkata</td>\n",
       "      <td>Gujarat Titans</td>\n",
       "      <td>field</td>\n",
       "      <td>...</td>\n",
       "      <td>Gujarat Titans</td>\n",
       "      <td>Wickets</td>\n",
       "      <td>7.0</td>\n",
       "      <td>NaN</td>\n",
       "      <td>DA Miller</td>\n",
       "      <td>['YBK Jaiswal', 'JC Buttler', 'SV Samson', 'D ...</td>\n",
       "      <td>['WP Saha', 'Shubman Gill', 'MS Wade', 'HH Pan...</td>\n",
       "      <td>BNJ Oxenford</td>\n",
       "      <td>VK Sharma</td>\n",
       "      <td>['YBK Jaiswal', 'JC Buttler', 'SV Samson', 'D ...</td>\n",
       "    </tr>\n",
       "    <tr>\n",
       "      <th>4</th>\n",
       "      <td>1304116</td>\n",
       "      <td>Mumbai</td>\n",
       "      <td>2022-05-22</td>\n",
       "      <td>2022</td>\n",
       "      <td>70</td>\n",
       "      <td>Sunrisers Hyderabad</td>\n",
       "      <td>Punjab Kings</td>\n",
       "      <td>Wankhede Stadium, Mumbai</td>\n",
       "      <td>Sunrisers Hyderabad</td>\n",
       "      <td>bat</td>\n",
       "      <td>...</td>\n",
       "      <td>Punjab Kings</td>\n",
       "      <td>Wickets</td>\n",
       "      <td>5.0</td>\n",
       "      <td>NaN</td>\n",
       "      <td>Harpreet Brar</td>\n",
       "      <td>['PK Garg', 'Abhishek Sharma', 'RA Tripathi', ...</td>\n",
       "      <td>['JM Bairstow', 'S Dhawan', 'M Shahrukh Khan',...</td>\n",
       "      <td>AK Chaudhary</td>\n",
       "      <td>NA Patwardhan</td>\n",
       "      <td>['PK Garg', 'Abhishek Sharma', 'RA Tripathi', ...</td>\n",
       "    </tr>\n",
       "  </tbody>\n",
       "</table>\n",
       "<p>5 rows × 21 columns</p>\n",
       "</div>"
      ],
      "text/plain": [
       "        ID       City        Date Season  MatchNumber  \\\n",
       "0  1312200  Ahmedabad  2022-05-29   2022        Final   \n",
       "1  1312199  Ahmedabad  2022-05-27   2022  Qualifier 2   \n",
       "2  1312198    Kolkata  2022-05-25   2022   Eliminator   \n",
       "3  1312197    Kolkata  2022-05-24   2022  Qualifier 1   \n",
       "4  1304116     Mumbai  2022-05-22   2022           70   \n",
       "\n",
       "                         Team1                 Team2  \\\n",
       "0             Rajasthan Royals        Gujarat Titans   \n",
       "1  Royal Challengers Bangalore      Rajasthan Royals   \n",
       "2  Royal Challengers Bangalore  Lucknow Super Giants   \n",
       "3             Rajasthan Royals        Gujarat Titans   \n",
       "4          Sunrisers Hyderabad          Punjab Kings   \n",
       "\n",
       "                              Venue            TossWinner TossDecision  ...  \\\n",
       "0  Narendra Modi Stadium, Ahmedabad      Rajasthan Royals          bat  ...   \n",
       "1  Narendra Modi Stadium, Ahmedabad      Rajasthan Royals        field  ...   \n",
       "2             Eden Gardens, Kolkata  Lucknow Super Giants        field  ...   \n",
       "3             Eden Gardens, Kolkata        Gujarat Titans        field  ...   \n",
       "4          Wankhede Stadium, Mumbai   Sunrisers Hyderabad          bat  ...   \n",
       "\n",
       "                   WinningTeam    WonBy Margin  method Player_of_Match  \\\n",
       "0               Gujarat Titans  Wickets    7.0     NaN       HH Pandya   \n",
       "1             Rajasthan Royals  Wickets    7.0     NaN      JC Buttler   \n",
       "2  Royal Challengers Bangalore     Runs   14.0     NaN      RM Patidar   \n",
       "3               Gujarat Titans  Wickets    7.0     NaN       DA Miller   \n",
       "4                 Punjab Kings  Wickets    5.0     NaN   Harpreet Brar   \n",
       "\n",
       "                                        Team1Players  \\\n",
       "0  ['YBK Jaiswal', 'JC Buttler', 'SV Samson', 'D ...   \n",
       "1  ['V Kohli', 'F du Plessis', 'RM Patidar', 'GJ ...   \n",
       "2  ['V Kohli', 'F du Plessis', 'RM Patidar', 'GJ ...   \n",
       "3  ['YBK Jaiswal', 'JC Buttler', 'SV Samson', 'D ...   \n",
       "4  ['PK Garg', 'Abhishek Sharma', 'RA Tripathi', ...   \n",
       "\n",
       "                                        Team2Players        Umpire1  \\\n",
       "0  ['WP Saha', 'Shubman Gill', 'MS Wade', 'HH Pan...    CB Gaffaney   \n",
       "1  ['YBK Jaiswal', 'JC Buttler', 'SV Samson', 'D ...    CB Gaffaney   \n",
       "2  ['Q de Kock', 'KL Rahul', 'M Vohra', 'DJ Hooda...  J Madanagopal   \n",
       "3  ['WP Saha', 'Shubman Gill', 'MS Wade', 'HH Pan...   BNJ Oxenford   \n",
       "4  ['JM Bairstow', 'S Dhawan', 'M Shahrukh Khan',...   AK Chaudhary   \n",
       "\n",
       "         Umpire2                                        all_players  \n",
       "0    Nitin Menon  ['YBK Jaiswal', 'JC Buttler', 'SV Samson', 'D ...  \n",
       "1    Nitin Menon  ['V Kohli', 'F du Plessis', 'RM Patidar', 'GJ ...  \n",
       "2       MA Gough  ['V Kohli', 'F du Plessis', 'RM Patidar', 'GJ ...  \n",
       "3      VK Sharma  ['YBK Jaiswal', 'JC Buttler', 'SV Samson', 'D ...  \n",
       "4  NA Patwardhan  ['PK Garg', 'Abhishek Sharma', 'RA Tripathi', ...  \n",
       "\n",
       "[5 rows x 21 columns]"
      ]
     },
     "execution_count": 58,
     "metadata": {},
     "output_type": "execute_result"
    }
   ],
   "source": [
    "# find the last match played by virat kohli in Delhi\n",
    "ipl['all_players'] = ipl['Team1Players'] + ipl['Team2Players']\n",
    "ipl.head()"
   ]
  },
  {
   "cell_type": "code",
   "execution_count": 59,
   "metadata": {
    "id": "D1AVaT9riAb8"
   },
   "outputs": [],
   "source": [
    "def did_kohli_play(players_list):\n",
    "  return 'V Kohli' in players_list"
   ]
  },
  {
   "cell_type": "code",
   "execution_count": 60,
   "metadata": {
    "colab": {
     "base_uri": "https://localhost:8080/",
     "height": 226
    },
    "id": "LVhe_jDeiKEe",
    "outputId": "cd1afc7c-b1ef-4b70-ed76-072af294e82f"
   },
   "outputs": [
    {
     "data": {
      "application/vnd.microsoft.datawrangler.viewer.v0+json": {
       "columns": [
        {
         "name": "index",
         "rawType": "int64",
         "type": "integer"
        },
        {
         "name": "ID",
         "rawType": "int64",
         "type": "integer"
        },
        {
         "name": "City",
         "rawType": "object",
         "type": "string"
        },
        {
         "name": "Date",
         "rawType": "object",
         "type": "string"
        },
        {
         "name": "Season",
         "rawType": "object",
         "type": "string"
        },
        {
         "name": "MatchNumber",
         "rawType": "object",
         "type": "string"
        },
        {
         "name": "Team1",
         "rawType": "object",
         "type": "string"
        },
        {
         "name": "Team2",
         "rawType": "object",
         "type": "string"
        },
        {
         "name": "Venue",
         "rawType": "object",
         "type": "string"
        },
        {
         "name": "TossWinner",
         "rawType": "object",
         "type": "string"
        },
        {
         "name": "TossDecision",
         "rawType": "object",
         "type": "string"
        },
        {
         "name": "SuperOver",
         "rawType": "object",
         "type": "string"
        },
        {
         "name": "WinningTeam",
         "rawType": "object",
         "type": "string"
        },
        {
         "name": "WonBy",
         "rawType": "object",
         "type": "string"
        },
        {
         "name": "Margin",
         "rawType": "float64",
         "type": "float"
        },
        {
         "name": "method",
         "rawType": "object",
         "type": "unknown"
        },
        {
         "name": "Player_of_Match",
         "rawType": "object",
         "type": "string"
        },
        {
         "name": "Team1Players",
         "rawType": "object",
         "type": "string"
        },
        {
         "name": "Team2Players",
         "rawType": "object",
         "type": "string"
        },
        {
         "name": "Umpire1",
         "rawType": "object",
         "type": "string"
        },
        {
         "name": "Umpire2",
         "rawType": "object",
         "type": "string"
        },
        {
         "name": "all_players",
         "rawType": "object",
         "type": "string"
        },
        {
         "name": "did_kohli_play",
         "rawType": "bool",
         "type": "boolean"
        }
       ],
       "ref": "c7d7ceb9-9e97-444c-ae28-c4299e7e85e8",
       "rows": [
        [
         "208",
         "1178421",
         "Delhi",
         "2019-04-28",
         "2019",
         "46",
         "Delhi Capitals",
         "Royal Challengers Bangalore",
         "Arun Jaitley Stadium",
         "Delhi Capitals",
         "bat",
         "N",
         "Delhi Capitals",
         "Runs",
         "16.0",
         null,
         "S Dhawan",
         "['PP Shaw', 'S Dhawan', 'SS Iyer', 'RR Pant', 'CA Ingram', 'SE Rutherford', 'AR Patel', 'S Lamichhane', 'A Mishra', 'K Rabada', 'I Sharma']",
         "['PA Patel', 'V Kohli', 'AB de Villiers', 'S Dube', 'H Klaasen', 'Gurkeerat Singh', 'MP Stoinis', 'Washington Sundar', 'UT Yadav', 'YS Chahal', 'Navdeep Saini']",
         "BNJ Oxenford",
         "KN Ananthapadmanabhan",
         "['PP Shaw', 'S Dhawan', 'SS Iyer', 'RR Pant', 'CA Ingram', 'SE Rutherford', 'AR Patel', 'S Lamichhane', 'A Mishra', 'K Rabada', 'I Sharma']['PA Patel', 'V Kohli', 'AB de Villiers', 'S Dube', 'H Klaasen', 'Gurkeerat Singh', 'MP Stoinis', 'Washington Sundar', 'UT Yadav', 'YS Chahal', 'Navdeep Saini']",
         "True"
        ]
       ],
       "shape": {
        "columns": 22,
        "rows": 1
       }
      },
      "text/html": [
       "<div>\n",
       "<style scoped>\n",
       "    .dataframe tbody tr th:only-of-type {\n",
       "        vertical-align: middle;\n",
       "    }\n",
       "\n",
       "    .dataframe tbody tr th {\n",
       "        vertical-align: top;\n",
       "    }\n",
       "\n",
       "    .dataframe thead th {\n",
       "        text-align: right;\n",
       "    }\n",
       "</style>\n",
       "<table border=\"1\" class=\"dataframe\">\n",
       "  <thead>\n",
       "    <tr style=\"text-align: right;\">\n",
       "      <th></th>\n",
       "      <th>ID</th>\n",
       "      <th>City</th>\n",
       "      <th>Date</th>\n",
       "      <th>Season</th>\n",
       "      <th>MatchNumber</th>\n",
       "      <th>Team1</th>\n",
       "      <th>Team2</th>\n",
       "      <th>Venue</th>\n",
       "      <th>TossWinner</th>\n",
       "      <th>TossDecision</th>\n",
       "      <th>...</th>\n",
       "      <th>WonBy</th>\n",
       "      <th>Margin</th>\n",
       "      <th>method</th>\n",
       "      <th>Player_of_Match</th>\n",
       "      <th>Team1Players</th>\n",
       "      <th>Team2Players</th>\n",
       "      <th>Umpire1</th>\n",
       "      <th>Umpire2</th>\n",
       "      <th>all_players</th>\n",
       "      <th>did_kohli_play</th>\n",
       "    </tr>\n",
       "  </thead>\n",
       "  <tbody>\n",
       "    <tr>\n",
       "      <th>208</th>\n",
       "      <td>1178421</td>\n",
       "      <td>Delhi</td>\n",
       "      <td>2019-04-28</td>\n",
       "      <td>2019</td>\n",
       "      <td>46</td>\n",
       "      <td>Delhi Capitals</td>\n",
       "      <td>Royal Challengers Bangalore</td>\n",
       "      <td>Arun Jaitley Stadium</td>\n",
       "      <td>Delhi Capitals</td>\n",
       "      <td>bat</td>\n",
       "      <td>...</td>\n",
       "      <td>Runs</td>\n",
       "      <td>16.0</td>\n",
       "      <td>NaN</td>\n",
       "      <td>S Dhawan</td>\n",
       "      <td>['PP Shaw', 'S Dhawan', 'SS Iyer', 'RR Pant', ...</td>\n",
       "      <td>['PA Patel', 'V Kohli', 'AB de Villiers', 'S D...</td>\n",
       "      <td>BNJ Oxenford</td>\n",
       "      <td>KN Ananthapadmanabhan</td>\n",
       "      <td>['PP Shaw', 'S Dhawan', 'SS Iyer', 'RR Pant', ...</td>\n",
       "      <td>True</td>\n",
       "    </tr>\n",
       "  </tbody>\n",
       "</table>\n",
       "<p>1 rows × 22 columns</p>\n",
       "</div>"
      ],
      "text/plain": [
       "          ID   City        Date Season MatchNumber           Team1  \\\n",
       "208  1178421  Delhi  2019-04-28   2019          46  Delhi Capitals   \n",
       "\n",
       "                           Team2                 Venue      TossWinner  \\\n",
       "208  Royal Challengers Bangalore  Arun Jaitley Stadium  Delhi Capitals   \n",
       "\n",
       "    TossDecision  ... WonBy Margin method  Player_of_Match  \\\n",
       "208          bat  ...  Runs   16.0    NaN         S Dhawan   \n",
       "\n",
       "                                          Team1Players  \\\n",
       "208  ['PP Shaw', 'S Dhawan', 'SS Iyer', 'RR Pant', ...   \n",
       "\n",
       "                                          Team2Players       Umpire1  \\\n",
       "208  ['PA Patel', 'V Kohli', 'AB de Villiers', 'S D...  BNJ Oxenford   \n",
       "\n",
       "                   Umpire2                                        all_players  \\\n",
       "208  KN Ananthapadmanabhan  ['PP Shaw', 'S Dhawan', 'SS Iyer', 'RR Pant', ...   \n",
       "\n",
       "    did_kohli_play  \n",
       "208           True  \n",
       "\n",
       "[1 rows x 22 columns]"
      ]
     },
     "execution_count": 60,
     "metadata": {},
     "output_type": "execute_result"
    }
   ],
   "source": [
    "ipl['did_kohli_play'] = ipl['all_players'].apply(did_kohli_play)\n",
    "ipl[(ipl['City'] == 'Delhi') & (ipl['did_kohli_play'] == True)].drop_duplicates(subset=['City','did_kohli_play'],keep='first')  # gives the last match played by Virat Kohli in Delhi, dropping duplicates based on 'City' and 'did_kohli_play' columns, keeping the first occurrence"
   ]
  },
  {
   "cell_type": "code",
   "execution_count": 61,
   "metadata": {
    "id": "xaeLIE7djliq"
   },
   "outputs": [
    {
     "data": {
      "application/vnd.microsoft.datawrangler.viewer.v0+json": {
       "columns": [
        {
         "name": "index",
         "rawType": "int64",
         "type": "integer"
        },
        {
         "name": "name",
         "rawType": "object",
         "type": "string"
        },
        {
         "name": "college",
         "rawType": "object",
         "type": "string"
        },
        {
         "name": "branch",
         "rawType": "object",
         "type": "string"
        },
        {
         "name": "cgpa",
         "rawType": "float64",
         "type": "float"
        },
        {
         "name": "package",
         "rawType": "float64",
         "type": "float"
        }
       ],
       "ref": "c7bce833-55c1-413c-b8ce-3ebef3c5ec97",
       "rows": [
        [
         "0",
         "nitish",
         "bit",
         "eee",
         "6.66",
         "4.0"
        ],
        [
         "1",
         "ankit",
         "iit",
         "it",
         "8.25",
         "5.0"
        ],
        [
         "2",
         "rupesh",
         "vit",
         "cse",
         "6.41",
         "6.0"
        ],
        [
         "6",
         "rishabh",
         "ssit",
         "civ",
         "7.4",
         "8.0"
        ]
       ],
       "shape": {
        "columns": 5,
        "rows": 4
       }
      },
      "text/html": [
       "<div>\n",
       "<style scoped>\n",
       "    .dataframe tbody tr th:only-of-type {\n",
       "        vertical-align: middle;\n",
       "    }\n",
       "\n",
       "    .dataframe tbody tr th {\n",
       "        vertical-align: top;\n",
       "    }\n",
       "\n",
       "    .dataframe thead th {\n",
       "        text-align: right;\n",
       "    }\n",
       "</style>\n",
       "<table border=\"1\" class=\"dataframe\">\n",
       "  <thead>\n",
       "    <tr style=\"text-align: right;\">\n",
       "      <th></th>\n",
       "      <th>name</th>\n",
       "      <th>college</th>\n",
       "      <th>branch</th>\n",
       "      <th>cgpa</th>\n",
       "      <th>package</th>\n",
       "    </tr>\n",
       "  </thead>\n",
       "  <tbody>\n",
       "    <tr>\n",
       "      <th>0</th>\n",
       "      <td>nitish</td>\n",
       "      <td>bit</td>\n",
       "      <td>eee</td>\n",
       "      <td>6.66</td>\n",
       "      <td>4.0</td>\n",
       "    </tr>\n",
       "    <tr>\n",
       "      <th>1</th>\n",
       "      <td>ankit</td>\n",
       "      <td>iit</td>\n",
       "      <td>it</td>\n",
       "      <td>8.25</td>\n",
       "      <td>5.0</td>\n",
       "    </tr>\n",
       "    <tr>\n",
       "      <th>2</th>\n",
       "      <td>rupesh</td>\n",
       "      <td>vit</td>\n",
       "      <td>cse</td>\n",
       "      <td>6.41</td>\n",
       "      <td>6.0</td>\n",
       "    </tr>\n",
       "    <tr>\n",
       "      <th>6</th>\n",
       "      <td>rishabh</td>\n",
       "      <td>ssit</td>\n",
       "      <td>civ</td>\n",
       "      <td>7.40</td>\n",
       "      <td>8.0</td>\n",
       "    </tr>\n",
       "  </tbody>\n",
       "</table>\n",
       "</div>"
      ],
      "text/plain": [
       "      name college branch  cgpa  package\n",
       "0   nitish     bit    eee  6.66      4.0\n",
       "1    ankit     iit     it  8.25      5.0\n",
       "2   rupesh     vit    cse  6.41      6.0\n",
       "6  rishabh    ssit    civ  7.40      8.0"
      ]
     },
     "execution_count": 61,
     "metadata": {},
     "output_type": "execute_result"
    }
   ],
   "source": [
    "students.drop_duplicates()"
   ]
  },
  {
   "cell_type": "code",
   "execution_count": 62,
   "metadata": {
    "colab": {
     "base_uri": "https://localhost:8080/"
    },
    "id": "AbhwaQ4zdE_O",
    "outputId": "3757e328-94be-4c6c-9df4-3e228f3a103e"
   },
   "outputs": [
    {
     "data": {
      "application/vnd.microsoft.datawrangler.viewer.v0+json": {
       "columns": [
        {
         "name": "index",
         "rawType": "int64",
         "type": "integer"
        },
        {
         "name": "0",
         "rawType": "int64",
         "type": "integer"
        }
       ],
       "ref": "0f913af4-c3af-4779-89c3-0c89e18d59fd",
       "rows": [
        [
         "0",
         "10"
        ],
        [
         "1",
         "2"
        ],
        [
         "2",
         "3"
        ],
        [
         "3",
         "16"
        ],
        [
         "4",
         "45"
        ],
        [
         "5",
         "78"
        ],
        [
         "6",
         "10"
        ]
       ],
       "shape": {
        "columns": 1,
        "rows": 7
       }
      },
      "text/plain": [
       "0    10\n",
       "1     2\n",
       "2     3\n",
       "3    16\n",
       "4    45\n",
       "5    78\n",
       "6    10\n",
       "dtype: int64"
      ]
     },
     "execution_count": 62,
     "metadata": {},
     "output_type": "execute_result"
    }
   ],
   "source": [
    "# drop(series + dataframe)\n",
    "temp = pd.Series([10,2,3,16,45,78,10])\n",
    "temp  #.drop(2)  # drops the element at index 2"
   ]
  },
  {
   "cell_type": "code",
   "execution_count": 63,
   "metadata": {
    "colab": {
     "base_uri": "https://localhost:8080/"
    },
    "id": "qCnmQfTPkL0w",
    "outputId": "d2535f47-00e9-4486-9a64-72ab90bfcb0e"
   },
   "outputs": [
    {
     "data": {
      "application/vnd.microsoft.datawrangler.viewer.v0+json": {
       "columns": [
        {
         "name": "index",
         "rawType": "int64",
         "type": "integer"
        },
        {
         "name": "0",
         "rawType": "int64",
         "type": "integer"
        }
       ],
       "ref": "16083319-8737-4d37-bf71-2d7d4339715e",
       "rows": [
        [
         "1",
         "2"
        ],
        [
         "2",
         "3"
        ],
        [
         "3",
         "16"
        ],
        [
         "4",
         "45"
        ],
        [
         "5",
         "78"
        ]
       ],
       "shape": {
        "columns": 1,
        "rows": 5
       }
      },
      "text/plain": [
       "1     2\n",
       "2     3\n",
       "3    16\n",
       "4    45\n",
       "5    78\n",
       "dtype: int64"
      ]
     },
     "execution_count": 63,
     "metadata": {},
     "output_type": "execute_result"
    }
   ],
   "source": [
    "temp.drop(index=[0,6]) # drops the elements at index 0 and 6"
   ]
  },
  {
   "cell_type": "code",
   "execution_count": 64,
   "metadata": {
    "colab": {
     "base_uri": "https://localhost:8080/",
     "height": 363
    },
    "id": "GpFipY9SkVwy",
    "outputId": "a50a8467-8aad-4a83-8360-022f9ce8808c"
   },
   "outputs": [
    {
     "data": {
      "application/vnd.microsoft.datawrangler.viewer.v0+json": {
       "columns": [
        {
         "name": "index",
         "rawType": "int64",
         "type": "integer"
        },
        {
         "name": "name",
         "rawType": "object",
         "type": "string"
        },
        {
         "name": "college",
         "rawType": "object",
         "type": "string"
        },
        {
         "name": "branch",
         "rawType": "object",
         "type": "string"
        },
        {
         "name": "cgpa",
         "rawType": "float64",
         "type": "float"
        },
        {
         "name": "package",
         "rawType": "float64",
         "type": "float"
        }
       ],
       "ref": "3b4999e7-015d-4042-9fcb-9a4b90504204",
       "rows": [
        [
         "0",
         "nitish",
         "bit",
         "eee",
         "6.66",
         "4.0"
        ],
        [
         "1",
         "ankit",
         "iit",
         "it",
         "8.25",
         "5.0"
        ],
        [
         "2",
         "rupesh",
         "vit",
         "cse",
         "6.41",
         "6.0"
        ],
        [
         "6",
         "rishabh",
         "ssit",
         "civ",
         "7.4",
         "8.0"
        ]
       ],
       "shape": {
        "columns": 5,
        "rows": 4
       }
      },
      "text/html": [
       "<div>\n",
       "<style scoped>\n",
       "    .dataframe tbody tr th:only-of-type {\n",
       "        vertical-align: middle;\n",
       "    }\n",
       "\n",
       "    .dataframe tbody tr th {\n",
       "        vertical-align: top;\n",
       "    }\n",
       "\n",
       "    .dataframe thead th {\n",
       "        text-align: right;\n",
       "    }\n",
       "</style>\n",
       "<table border=\"1\" class=\"dataframe\">\n",
       "  <thead>\n",
       "    <tr style=\"text-align: right;\">\n",
       "      <th></th>\n",
       "      <th>name</th>\n",
       "      <th>college</th>\n",
       "      <th>branch</th>\n",
       "      <th>cgpa</th>\n",
       "      <th>package</th>\n",
       "    </tr>\n",
       "  </thead>\n",
       "  <tbody>\n",
       "    <tr>\n",
       "      <th>0</th>\n",
       "      <td>nitish</td>\n",
       "      <td>bit</td>\n",
       "      <td>eee</td>\n",
       "      <td>6.66</td>\n",
       "      <td>4.0</td>\n",
       "    </tr>\n",
       "    <tr>\n",
       "      <th>1</th>\n",
       "      <td>ankit</td>\n",
       "      <td>iit</td>\n",
       "      <td>it</td>\n",
       "      <td>8.25</td>\n",
       "      <td>5.0</td>\n",
       "    </tr>\n",
       "    <tr>\n",
       "      <th>2</th>\n",
       "      <td>rupesh</td>\n",
       "      <td>vit</td>\n",
       "      <td>cse</td>\n",
       "      <td>6.41</td>\n",
       "      <td>6.0</td>\n",
       "    </tr>\n",
       "    <tr>\n",
       "      <th>6</th>\n",
       "      <td>rishabh</td>\n",
       "      <td>ssit</td>\n",
       "      <td>civ</td>\n",
       "      <td>7.40</td>\n",
       "      <td>8.0</td>\n",
       "    </tr>\n",
       "  </tbody>\n",
       "</table>\n",
       "</div>"
      ],
      "text/plain": [
       "      name college branch  cgpa  package\n",
       "0   nitish     bit    eee  6.66      4.0\n",
       "1    ankit     iit     it  8.25      5.0\n",
       "2   rupesh     vit    cse  6.41      6.0\n",
       "6  rishabh    ssit    civ  7.40      8.0"
      ]
     },
     "execution_count": 64,
     "metadata": {},
     "output_type": "execute_result"
    }
   ],
   "source": [
    "students"
   ]
  },
  {
   "cell_type": "code",
   "execution_count": 65,
   "metadata": {
    "colab": {
     "base_uri": "https://localhost:8080/",
     "height": 363
    },
    "id": "l52NuwJWkgVW",
    "outputId": "dc3dddeb-7026-444f-ae1d-76b79fc9bfdb"
   },
   "outputs": [],
   "source": [
    "students.drop(columns=['branch','cgpa'],inplace=True)  #"
   ]
  },
  {
   "cell_type": "code",
   "execution_count": 66,
   "metadata": {
    "colab": {
     "base_uri": "https://localhost:8080/",
     "height": 332
    },
    "id": "k8UrDhrxkw5r",
    "outputId": "7e147774-f3ad-47a1-bf83-cbd6bbdd520a"
   },
   "outputs": [
    {
     "ename": "KeyError",
     "evalue": "\"['aditya'] not found in axis\"",
     "output_type": "error",
     "traceback": [
      "\u001b[1;31m---------------------------------------------------------------------------\u001b[0m",
      "\u001b[1;31mKeyError\u001b[0m                                  Traceback (most recent call last)",
      "Cell \u001b[1;32mIn[66], line 1\u001b[0m\n\u001b[1;32m----> 1\u001b[0m students\u001b[38;5;241m.\u001b[39mset_index(\u001b[38;5;124m'\u001b[39m\u001b[38;5;124mname\u001b[39m\u001b[38;5;124m'\u001b[39m)\u001b[38;5;241m.\u001b[39mdrop(index\u001b[38;5;241m=\u001b[39m[\u001b[38;5;124m'\u001b[39m\u001b[38;5;124mnitish\u001b[39m\u001b[38;5;124m'\u001b[39m,\u001b[38;5;124m'\u001b[39m\u001b[38;5;124maditya\u001b[39m\u001b[38;5;124m'\u001b[39m])\n",
      "File \u001b[1;32mc:\\Users\\User\\anaconda3\\Lib\\site-packages\\pandas\\core\\frame.py:5581\u001b[0m, in \u001b[0;36mDataFrame.drop\u001b[1;34m(self, labels, axis, index, columns, level, inplace, errors)\u001b[0m\n\u001b[0;32m   5433\u001b[0m \u001b[38;5;28;01mdef\u001b[39;00m \u001b[38;5;21mdrop\u001b[39m(\n\u001b[0;32m   5434\u001b[0m     \u001b[38;5;28mself\u001b[39m,\n\u001b[0;32m   5435\u001b[0m     labels: IndexLabel \u001b[38;5;241m|\u001b[39m \u001b[38;5;28;01mNone\u001b[39;00m \u001b[38;5;241m=\u001b[39m \u001b[38;5;28;01mNone\u001b[39;00m,\n\u001b[1;32m   (...)\u001b[0m\n\u001b[0;32m   5442\u001b[0m     errors: IgnoreRaise \u001b[38;5;241m=\u001b[39m \u001b[38;5;124m\"\u001b[39m\u001b[38;5;124mraise\u001b[39m\u001b[38;5;124m\"\u001b[39m,\n\u001b[0;32m   5443\u001b[0m ) \u001b[38;5;241m-\u001b[39m\u001b[38;5;241m>\u001b[39m DataFrame \u001b[38;5;241m|\u001b[39m \u001b[38;5;28;01mNone\u001b[39;00m:\n\u001b[0;32m   5444\u001b[0m \u001b[38;5;250m    \u001b[39m\u001b[38;5;124;03m\"\"\"\u001b[39;00m\n\u001b[0;32m   5445\u001b[0m \u001b[38;5;124;03m    Drop specified labels from rows or columns.\u001b[39;00m\n\u001b[0;32m   5446\u001b[0m \n\u001b[1;32m   (...)\u001b[0m\n\u001b[0;32m   5579\u001b[0m \u001b[38;5;124;03m            weight  1.0     0.8\u001b[39;00m\n\u001b[0;32m   5580\u001b[0m \u001b[38;5;124;03m    \"\"\"\u001b[39;00m\n\u001b[1;32m-> 5581\u001b[0m     \u001b[38;5;28;01mreturn\u001b[39;00m \u001b[38;5;28msuper\u001b[39m()\u001b[38;5;241m.\u001b[39mdrop(\n\u001b[0;32m   5582\u001b[0m         labels\u001b[38;5;241m=\u001b[39mlabels,\n\u001b[0;32m   5583\u001b[0m         axis\u001b[38;5;241m=\u001b[39maxis,\n\u001b[0;32m   5584\u001b[0m         index\u001b[38;5;241m=\u001b[39mindex,\n\u001b[0;32m   5585\u001b[0m         columns\u001b[38;5;241m=\u001b[39mcolumns,\n\u001b[0;32m   5586\u001b[0m         level\u001b[38;5;241m=\u001b[39mlevel,\n\u001b[0;32m   5587\u001b[0m         inplace\u001b[38;5;241m=\u001b[39minplace,\n\u001b[0;32m   5588\u001b[0m         errors\u001b[38;5;241m=\u001b[39merrors,\n\u001b[0;32m   5589\u001b[0m     )\n",
      "File \u001b[1;32mc:\\Users\\User\\anaconda3\\Lib\\site-packages\\pandas\\core\\generic.py:4788\u001b[0m, in \u001b[0;36mNDFrame.drop\u001b[1;34m(self, labels, axis, index, columns, level, inplace, errors)\u001b[0m\n\u001b[0;32m   4786\u001b[0m \u001b[38;5;28;01mfor\u001b[39;00m axis, labels \u001b[38;5;129;01min\u001b[39;00m axes\u001b[38;5;241m.\u001b[39mitems():\n\u001b[0;32m   4787\u001b[0m     \u001b[38;5;28;01mif\u001b[39;00m labels \u001b[38;5;129;01mis\u001b[39;00m \u001b[38;5;129;01mnot\u001b[39;00m \u001b[38;5;28;01mNone\u001b[39;00m:\n\u001b[1;32m-> 4788\u001b[0m         obj \u001b[38;5;241m=\u001b[39m obj\u001b[38;5;241m.\u001b[39m_drop_axis(labels, axis, level\u001b[38;5;241m=\u001b[39mlevel, errors\u001b[38;5;241m=\u001b[39merrors)\n\u001b[0;32m   4790\u001b[0m \u001b[38;5;28;01mif\u001b[39;00m inplace:\n\u001b[0;32m   4791\u001b[0m     \u001b[38;5;28mself\u001b[39m\u001b[38;5;241m.\u001b[39m_update_inplace(obj)\n",
      "File \u001b[1;32mc:\\Users\\User\\anaconda3\\Lib\\site-packages\\pandas\\core\\generic.py:4830\u001b[0m, in \u001b[0;36mNDFrame._drop_axis\u001b[1;34m(self, labels, axis, level, errors, only_slice)\u001b[0m\n\u001b[0;32m   4828\u001b[0m         new_axis \u001b[38;5;241m=\u001b[39m axis\u001b[38;5;241m.\u001b[39mdrop(labels, level\u001b[38;5;241m=\u001b[39mlevel, errors\u001b[38;5;241m=\u001b[39merrors)\n\u001b[0;32m   4829\u001b[0m     \u001b[38;5;28;01melse\u001b[39;00m:\n\u001b[1;32m-> 4830\u001b[0m         new_axis \u001b[38;5;241m=\u001b[39m axis\u001b[38;5;241m.\u001b[39mdrop(labels, errors\u001b[38;5;241m=\u001b[39merrors)\n\u001b[0;32m   4831\u001b[0m     indexer \u001b[38;5;241m=\u001b[39m axis\u001b[38;5;241m.\u001b[39mget_indexer(new_axis)\n\u001b[0;32m   4833\u001b[0m \u001b[38;5;66;03m# Case for non-unique axis\u001b[39;00m\n\u001b[0;32m   4834\u001b[0m \u001b[38;5;28;01melse\u001b[39;00m:\n",
      "File \u001b[1;32mc:\\Users\\User\\anaconda3\\Lib\\site-packages\\pandas\\core\\indexes\\base.py:7070\u001b[0m, in \u001b[0;36mIndex.drop\u001b[1;34m(self, labels, errors)\u001b[0m\n\u001b[0;32m   7068\u001b[0m \u001b[38;5;28;01mif\u001b[39;00m mask\u001b[38;5;241m.\u001b[39many():\n\u001b[0;32m   7069\u001b[0m     \u001b[38;5;28;01mif\u001b[39;00m errors \u001b[38;5;241m!=\u001b[39m \u001b[38;5;124m\"\u001b[39m\u001b[38;5;124mignore\u001b[39m\u001b[38;5;124m\"\u001b[39m:\n\u001b[1;32m-> 7070\u001b[0m         \u001b[38;5;28;01mraise\u001b[39;00m \u001b[38;5;167;01mKeyError\u001b[39;00m(\u001b[38;5;124mf\u001b[39m\u001b[38;5;124m\"\u001b[39m\u001b[38;5;132;01m{\u001b[39;00mlabels[mask]\u001b[38;5;241m.\u001b[39mtolist()\u001b[38;5;132;01m}\u001b[39;00m\u001b[38;5;124m not found in axis\u001b[39m\u001b[38;5;124m\"\u001b[39m)\n\u001b[0;32m   7071\u001b[0m     indexer \u001b[38;5;241m=\u001b[39m indexer[\u001b[38;5;241m~\u001b[39mmask]\n\u001b[0;32m   7072\u001b[0m \u001b[38;5;28;01mreturn\u001b[39;00m \u001b[38;5;28mself\u001b[39m\u001b[38;5;241m.\u001b[39mdelete(indexer)\n",
      "\u001b[1;31mKeyError\u001b[0m: \"['aditya'] not found in axis\""
     ]
    }
   ],
   "source": [
    "students.set_index('name').drop(index=['nitish','aditya']) # drops the rows with index 'nitish' and 'aditya' in the DataFrame after setting 'name' as index"
   ]
  },
  {
   "cell_type": "code",
   "execution_count": null,
   "metadata": {
    "colab": {
     "base_uri": "https://localhost:8080/"
    },
    "id": "VkG-j3F8dH63",
    "outputId": "702dfff4-f1a1-430a-a7f9-cdd669099eef"
   },
   "outputs": [
    {
     "data": {
      "text/plain": [
       "0    10\n",
       "1    20\n",
       "2    30\n",
       "3    40\n",
       "4    50\n",
       "dtype: int64"
      ]
     },
     "execution_count": 257,
     "metadata": {},
     "output_type": "execute_result"
    }
   ],
   "source": [
    "# apply(series + dataframe)\n",
    "temp = pd.Series([10,20,30,40,50])\n",
    "\n",
    "temp"
   ]
  },
  {
   "cell_type": "code",
   "execution_count": null,
   "metadata": {
    "id": "ItBi1nfilifX"
   },
   "outputs": [],
   "source": [
    "def sigmoid(value):\n",
    "  return 1/1+np.exp(-value)"
   ]
  },
  {
   "cell_type": "code",
   "execution_count": null,
   "metadata": {
    "colab": {
     "base_uri": "https://localhost:8080/"
    },
    "id": "6SnDZfgwlp44",
    "outputId": "1bc0662b-9608-4789-b215-7916253f2da5"
   },
   "outputs": [
    {
     "data": {
      "text/plain": [
       "0    1.000045\n",
       "1    1.000000\n",
       "2    1.000000\n",
       "3    1.000000\n",
       "4    1.000000\n",
       "dtype: float64"
      ]
     },
     "execution_count": 259,
     "metadata": {},
     "output_type": "execute_result"
    }
   ],
   "source": [
    "temp.apply(sigmoid)"
   ]
  },
  {
   "cell_type": "code",
   "execution_count": null,
   "metadata": {
    "colab": {
     "base_uri": "https://localhost:8080/",
     "height": 206
    },
    "id": "XR2VChWwsk0l",
    "outputId": "206f6286-2b94-4625-8903-86c607f7aff9"
   },
   "outputs": [
    {
     "data": {
      "text/html": [
       "\n",
       "  <div id=\"df-c19f0e05-cd99-4c4b-bdc3-93b0d4f638e2\">\n",
       "    <div class=\"colab-df-container\">\n",
       "      <div>\n",
       "<style scoped>\n",
       "    .dataframe tbody tr th:only-of-type {\n",
       "        vertical-align: middle;\n",
       "    }\n",
       "\n",
       "    .dataframe tbody tr th {\n",
       "        vertical-align: top;\n",
       "    }\n",
       "\n",
       "    .dataframe thead th {\n",
       "        text-align: right;\n",
       "    }\n",
       "</style>\n",
       "<table border=\"1\" class=\"dataframe\">\n",
       "  <thead>\n",
       "    <tr style=\"text-align: right;\">\n",
       "      <th></th>\n",
       "      <th>1st point</th>\n",
       "      <th>2nd point</th>\n",
       "    </tr>\n",
       "  </thead>\n",
       "  <tbody>\n",
       "    <tr>\n",
       "      <th>0</th>\n",
       "      <td>(3, 4)</td>\n",
       "      <td>(-3, 4)</td>\n",
       "    </tr>\n",
       "    <tr>\n",
       "      <th>1</th>\n",
       "      <td>(-6, 5)</td>\n",
       "      <td>(0, 0)</td>\n",
       "    </tr>\n",
       "    <tr>\n",
       "      <th>2</th>\n",
       "      <td>(0, 0)</td>\n",
       "      <td>(2, 2)</td>\n",
       "    </tr>\n",
       "    <tr>\n",
       "      <th>3</th>\n",
       "      <td>(-10, 1)</td>\n",
       "      <td>(10, 10)</td>\n",
       "    </tr>\n",
       "    <tr>\n",
       "      <th>4</th>\n",
       "      <td>(4, 5)</td>\n",
       "      <td>(1, 1)</td>\n",
       "    </tr>\n",
       "  </tbody>\n",
       "</table>\n",
       "</div>\n",
       "      <button class=\"colab-df-convert\" onclick=\"convertToInteractive('df-c19f0e05-cd99-4c4b-bdc3-93b0d4f638e2')\"\n",
       "              title=\"Convert this dataframe to an interactive table.\"\n",
       "              style=\"display:none;\">\n",
       "        \n",
       "  <svg xmlns=\"http://www.w3.org/2000/svg\" height=\"24px\"viewBox=\"0 0 24 24\"\n",
       "       width=\"24px\">\n",
       "    <path d=\"M0 0h24v24H0V0z\" fill=\"none\"/>\n",
       "    <path d=\"M18.56 5.44l.94 2.06.94-2.06 2.06-.94-2.06-.94-.94-2.06-.94 2.06-2.06.94zm-11 1L8.5 8.5l.94-2.06 2.06-.94-2.06-.94L8.5 2.5l-.94 2.06-2.06.94zm10 10l.94 2.06.94-2.06 2.06-.94-2.06-.94-.94-2.06-.94 2.06-2.06.94z\"/><path d=\"M17.41 7.96l-1.37-1.37c-.4-.4-.92-.59-1.43-.59-.52 0-1.04.2-1.43.59L10.3 9.45l-7.72 7.72c-.78.78-.78 2.05 0 2.83L4 21.41c.39.39.9.59 1.41.59.51 0 1.02-.2 1.41-.59l7.78-7.78 2.81-2.81c.8-.78.8-2.07 0-2.86zM5.41 20L4 18.59l7.72-7.72 1.47 1.35L5.41 20z\"/>\n",
       "  </svg>\n",
       "      </button>\n",
       "      \n",
       "  <style>\n",
       "    .colab-df-container {\n",
       "      display:flex;\n",
       "      flex-wrap:wrap;\n",
       "      gap: 12px;\n",
       "    }\n",
       "\n",
       "    .colab-df-convert {\n",
       "      background-color: #E8F0FE;\n",
       "      border: none;\n",
       "      border-radius: 50%;\n",
       "      cursor: pointer;\n",
       "      display: none;\n",
       "      fill: #1967D2;\n",
       "      height: 32px;\n",
       "      padding: 0 0 0 0;\n",
       "      width: 32px;\n",
       "    }\n",
       "\n",
       "    .colab-df-convert:hover {\n",
       "      background-color: #E2EBFA;\n",
       "      box-shadow: 0px 1px 2px rgba(60, 64, 67, 0.3), 0px 1px 3px 1px rgba(60, 64, 67, 0.15);\n",
       "      fill: #174EA6;\n",
       "    }\n",
       "\n",
       "    [theme=dark] .colab-df-convert {\n",
       "      background-color: #3B4455;\n",
       "      fill: #D2E3FC;\n",
       "    }\n",
       "\n",
       "    [theme=dark] .colab-df-convert:hover {\n",
       "      background-color: #434B5C;\n",
       "      box-shadow: 0px 1px 3px 1px rgba(0, 0, 0, 0.15);\n",
       "      filter: drop-shadow(0px 1px 2px rgba(0, 0, 0, 0.3));\n",
       "      fill: #FFFFFF;\n",
       "    }\n",
       "  </style>\n",
       "\n",
       "      <script>\n",
       "        const buttonEl =\n",
       "          document.querySelector('#df-c19f0e05-cd99-4c4b-bdc3-93b0d4f638e2 button.colab-df-convert');\n",
       "        buttonEl.style.display =\n",
       "          google.colab.kernel.accessAllowed ? 'block' : 'none';\n",
       "\n",
       "        async function convertToInteractive(key) {\n",
       "          const element = document.querySelector('#df-c19f0e05-cd99-4c4b-bdc3-93b0d4f638e2');\n",
       "          const dataTable =\n",
       "            await google.colab.kernel.invokeFunction('convertToInteractive',\n",
       "                                                     [key], {});\n",
       "          if (!dataTable) return;\n",
       "\n",
       "          const docLinkHtml = 'Like what you see? Visit the ' +\n",
       "            '<a target=\"_blank\" href=https://colab.research.google.com/notebooks/data_table.ipynb>data table notebook</a>'\n",
       "            + ' to learn more about interactive tables.';\n",
       "          element.innerHTML = '';\n",
       "          dataTable['output_type'] = 'display_data';\n",
       "          await google.colab.output.renderOutput(dataTable, element);\n",
       "          const docLink = document.createElement('div');\n",
       "          docLink.innerHTML = docLinkHtml;\n",
       "          element.appendChild(docLink);\n",
       "        }\n",
       "      </script>\n",
       "    </div>\n",
       "  </div>\n",
       "  "
      ],
      "text/plain": [
       "  1st point 2nd point\n",
       "0    (3, 4)   (-3, 4)\n",
       "1   (-6, 5)    (0, 0)\n",
       "2    (0, 0)    (2, 2)\n",
       "3  (-10, 1)  (10, 10)\n",
       "4    (4, 5)    (1, 1)"
      ]
     },
     "execution_count": 85,
     "metadata": {},
     "output_type": "execute_result"
    }
   ],
   "source": [
    "points_df = pd.DataFrame(\n",
    "    {\n",
    "        '1st point':[(3,4),(-6,5),(0,0),(-10,1),(4,5)],\n",
    "        '2nd point':[(-3,4),(0,0),(2,2),(10,10),(1,1)]\n",
    "    }\n",
    ")\n",
    "\n",
    "points_df"
   ]
  },
  {
   "cell_type": "code",
   "execution_count": null,
   "metadata": {
    "id": "433L0BROwez1"
   },
   "outputs": [],
   "source": [
    "def euclidean(row):\n",
    "  pt_A = row['1st point']\n",
    "  pt_B = row['2nd point']\n",
    "\n",
    "  return ((pt_A[0] - pt_B[0])**2 + (pt_A[1] - pt_B[1])**2)**0.5"
   ]
  },
  {
   "cell_type": "code",
   "execution_count": null,
   "metadata": {
    "colab": {
     "base_uri": "https://localhost:8080/",
     "height": 206
    },
    "id": "nayU_FCJwa9y",
    "outputId": "4a3dd087-aca7-4045-b1df-6c82bd8462c4"
   },
   "outputs": [
    {
     "data": {
      "text/html": [
       "\n",
       "  <div id=\"df-aa6f89aa-e43b-4382-9d2a-ef27bb26ff77\">\n",
       "    <div class=\"colab-df-container\">\n",
       "      <div>\n",
       "<style scoped>\n",
       "    .dataframe tbody tr th:only-of-type {\n",
       "        vertical-align: middle;\n",
       "    }\n",
       "\n",
       "    .dataframe tbody tr th {\n",
       "        vertical-align: top;\n",
       "    }\n",
       "\n",
       "    .dataframe thead th {\n",
       "        text-align: right;\n",
       "    }\n",
       "</style>\n",
       "<table border=\"1\" class=\"dataframe\">\n",
       "  <thead>\n",
       "    <tr style=\"text-align: right;\">\n",
       "      <th></th>\n",
       "      <th>1st point</th>\n",
       "      <th>2nd point</th>\n",
       "      <th>distance</th>\n",
       "    </tr>\n",
       "  </thead>\n",
       "  <tbody>\n",
       "    <tr>\n",
       "      <th>0</th>\n",
       "      <td>(3, 4)</td>\n",
       "      <td>(-3, 4)</td>\n",
       "      <td>6.000000</td>\n",
       "    </tr>\n",
       "    <tr>\n",
       "      <th>1</th>\n",
       "      <td>(-6, 5)</td>\n",
       "      <td>(0, 0)</td>\n",
       "      <td>7.810250</td>\n",
       "    </tr>\n",
       "    <tr>\n",
       "      <th>2</th>\n",
       "      <td>(0, 0)</td>\n",
       "      <td>(2, 2)</td>\n",
       "      <td>2.828427</td>\n",
       "    </tr>\n",
       "    <tr>\n",
       "      <th>3</th>\n",
       "      <td>(-10, 1)</td>\n",
       "      <td>(10, 10)</td>\n",
       "      <td>21.931712</td>\n",
       "    </tr>\n",
       "    <tr>\n",
       "      <th>4</th>\n",
       "      <td>(4, 5)</td>\n",
       "      <td>(1, 1)</td>\n",
       "      <td>5.000000</td>\n",
       "    </tr>\n",
       "  </tbody>\n",
       "</table>\n",
       "</div>\n",
       "      <button class=\"colab-df-convert\" onclick=\"convertToInteractive('df-aa6f89aa-e43b-4382-9d2a-ef27bb26ff77')\"\n",
       "              title=\"Convert this dataframe to an interactive table.\"\n",
       "              style=\"display:none;\">\n",
       "        \n",
       "  <svg xmlns=\"http://www.w3.org/2000/svg\" height=\"24px\"viewBox=\"0 0 24 24\"\n",
       "       width=\"24px\">\n",
       "    <path d=\"M0 0h24v24H0V0z\" fill=\"none\"/>\n",
       "    <path d=\"M18.56 5.44l.94 2.06.94-2.06 2.06-.94-2.06-.94-.94-2.06-.94 2.06-2.06.94zm-11 1L8.5 8.5l.94-2.06 2.06-.94-2.06-.94L8.5 2.5l-.94 2.06-2.06.94zm10 10l.94 2.06.94-2.06 2.06-.94-2.06-.94-.94-2.06-.94 2.06-2.06.94z\"/><path d=\"M17.41 7.96l-1.37-1.37c-.4-.4-.92-.59-1.43-.59-.52 0-1.04.2-1.43.59L10.3 9.45l-7.72 7.72c-.78.78-.78 2.05 0 2.83L4 21.41c.39.39.9.59 1.41.59.51 0 1.02-.2 1.41-.59l7.78-7.78 2.81-2.81c.8-.78.8-2.07 0-2.86zM5.41 20L4 18.59l7.72-7.72 1.47 1.35L5.41 20z\"/>\n",
       "  </svg>\n",
       "      </button>\n",
       "      \n",
       "  <style>\n",
       "    .colab-df-container {\n",
       "      display:flex;\n",
       "      flex-wrap:wrap;\n",
       "      gap: 12px;\n",
       "    }\n",
       "\n",
       "    .colab-df-convert {\n",
       "      background-color: #E8F0FE;\n",
       "      border: none;\n",
       "      border-radius: 50%;\n",
       "      cursor: pointer;\n",
       "      display: none;\n",
       "      fill: #1967D2;\n",
       "      height: 32px;\n",
       "      padding: 0 0 0 0;\n",
       "      width: 32px;\n",
       "    }\n",
       "\n",
       "    .colab-df-convert:hover {\n",
       "      background-color: #E2EBFA;\n",
       "      box-shadow: 0px 1px 2px rgba(60, 64, 67, 0.3), 0px 1px 3px 1px rgba(60, 64, 67, 0.15);\n",
       "      fill: #174EA6;\n",
       "    }\n",
       "\n",
       "    [theme=dark] .colab-df-convert {\n",
       "      background-color: #3B4455;\n",
       "      fill: #D2E3FC;\n",
       "    }\n",
       "\n",
       "    [theme=dark] .colab-df-convert:hover {\n",
       "      background-color: #434B5C;\n",
       "      box-shadow: 0px 1px 3px 1px rgba(0, 0, 0, 0.15);\n",
       "      filter: drop-shadow(0px 1px 2px rgba(0, 0, 0, 0.3));\n",
       "      fill: #FFFFFF;\n",
       "    }\n",
       "  </style>\n",
       "\n",
       "      <script>\n",
       "        const buttonEl =\n",
       "          document.querySelector('#df-aa6f89aa-e43b-4382-9d2a-ef27bb26ff77 button.colab-df-convert');\n",
       "        buttonEl.style.display =\n",
       "          google.colab.kernel.accessAllowed ? 'block' : 'none';\n",
       "\n",
       "        async function convertToInteractive(key) {\n",
       "          const element = document.querySelector('#df-aa6f89aa-e43b-4382-9d2a-ef27bb26ff77');\n",
       "          const dataTable =\n",
       "            await google.colab.kernel.invokeFunction('convertToInteractive',\n",
       "                                                     [key], {});\n",
       "          if (!dataTable) return;\n",
       "\n",
       "          const docLinkHtml = 'Like what you see? Visit the ' +\n",
       "            '<a target=\"_blank\" href=https://colab.research.google.com/notebooks/data_table.ipynb>data table notebook</a>'\n",
       "            + ' to learn more about interactive tables.';\n",
       "          element.innerHTML = '';\n",
       "          dataTable['output_type'] = 'display_data';\n",
       "          await google.colab.output.renderOutput(dataTable, element);\n",
       "          const docLink = document.createElement('div');\n",
       "          docLink.innerHTML = docLinkHtml;\n",
       "          element.appendChild(docLink);\n",
       "        }\n",
       "      </script>\n",
       "    </div>\n",
       "  </div>\n",
       "  "
      ],
      "text/plain": [
       "  1st point 2nd point   distance\n",
       "0    (3, 4)   (-3, 4)   6.000000\n",
       "1   (-6, 5)    (0, 0)   7.810250\n",
       "2    (0, 0)    (2, 2)   2.828427\n",
       "3  (-10, 1)  (10, 10)  21.931712\n",
       "4    (4, 5)    (1, 1)   5.000000"
      ]
     },
     "execution_count": 265,
     "metadata": {},
     "output_type": "execute_result"
    }
   ],
   "source": [
    "points_df['distance'] = points_df.apply(euclidean,axis=1)\n",
    "points_df"
   ]
  },
  {
   "cell_type": "code",
   "execution_count": null,
   "metadata": {
    "id": "wsSKjfcydWVN"
   },
   "outputs": [],
   "source": [
    "# isin(series)"
   ]
  },
  {
   "cell_type": "code",
   "execution_count": null,
   "metadata": {
    "id": "ARh8vDLSseKF"
   },
   "outputs": [],
   "source": []
  },
  {
   "cell_type": "code",
   "execution_count": null,
   "metadata": {
    "id": "AWAdysi4dd1M"
   },
   "outputs": [],
   "source": [
    "# corr"
   ]
  },
  {
   "cell_type": "code",
   "execution_count": null,
   "metadata": {
    "id": "Z0qHNEJRscCN"
   },
   "outputs": [],
   "source": []
  },
  {
   "cell_type": "code",
   "execution_count": null,
   "metadata": {
    "id": "MPF8Pn6MomTo"
   },
   "outputs": [],
   "source": []
  },
  {
   "cell_type": "code",
   "execution_count": null,
   "metadata": {
    "id": "XRG3dD2pedKK"
   },
   "outputs": [],
   "source": [
    "# nlargest and nsmallest(series and dataframe)"
   ]
  },
  {
   "cell_type": "code",
   "execution_count": null,
   "metadata": {
    "id": "stQY7t9ln_xH"
   },
   "outputs": [],
   "source": [
    "# insert(dataframe)\n"
   ]
  },
  {
   "cell_type": "code",
   "execution_count": null,
   "metadata": {
    "id": "F_wK8QGM55eB"
   },
   "outputs": [],
   "source": []
  },
  {
   "cell_type": "code",
   "execution_count": null,
   "metadata": {
    "id": "XryRkCyjes0C"
   },
   "outputs": [],
   "source": [
    "# copy(series + dataframe)"
   ]
  },
  {
   "cell_type": "code",
   "execution_count": null,
   "metadata": {
    "id": "n0L2Z15Ye2wn"
   },
   "outputs": [],
   "source": []
  }
 ],
 "metadata": {
  "colab": {
   "provenance": []
  },
  "kernelspec": {
   "display_name": "base",
   "language": "python",
   "name": "python3"
  },
  "language_info": {
   "codemirror_mode": {
    "name": "ipython",
    "version": 3
   },
   "file_extension": ".py",
   "mimetype": "text/x-python",
   "name": "python",
   "nbconvert_exporter": "python",
   "pygments_lexer": "ipython3",
   "version": "3.12.7"
  }
 },
 "nbformat": 4,
 "nbformat_minor": 0
}
