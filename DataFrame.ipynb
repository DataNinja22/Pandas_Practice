{
  "cells": [
    {
      "cell_type": "code",
      "execution_count": null,
      "metadata": {
        "id": "2F2xS5YbuND2"
      },
      "outputs": [],
      "source": [
        "# Importing numpy for numerical operations\n",
        "import numpy as np\n",
        "# Importing pandas for data manipulation and analysis\n",
        "import pandas as pd"
      ]
    },
    {
      "cell_type": "markdown",
      "metadata": {
        "id": "sdRBNhTluaKV"
      },
      "source": [
        "### Creating DataFrame"
      ]
    },
    {
      "cell_type": "code",
      "execution_count": null,
      "metadata": {
        "colab": {
          "base_uri": "https://localhost:8080/",
          "height": 175
        },
        "id": "FAC5HfAaub7q",
        "outputId": "aaedf44b-1208-4039-d971-89ddd59dd66b"
      },
      "outputs": [
        {
          "data": {
            "application/vnd.microsoft.datawrangler.viewer.v0+json": {
              "columns": [
                {
                  "name": "index",
                  "rawType": "int64",
                  "type": "integer"
                },
                {
                  "name": "iq",
                  "rawType": "int64",
                  "type": "integer"
                },
                {
                  "name": "marks",
                  "rawType": "int64",
                  "type": "integer"
                },
                {
                  "name": "package",
                  "rawType": "int64",
                  "type": "integer"
                }
              ],
              "ref": "4f02e70e-86df-46a7-938a-9c8c7e1e7a0a",
              "rows": [
                [
                  "0",
                  "100",
                  "80",
                  "10"
                ],
                [
                  "1",
                  "90",
                  "70",
                  "7"
                ],
                [
                  "2",
                  "120",
                  "100",
                  "14"
                ],
                [
                  "3",
                  "80",
                  "50",
                  "2"
                ]
              ],
              "shape": {
                "columns": 3,
                "rows": 4
              }
            },
            "text/html": [
              "<div>\n",
              "<style scoped>\n",
              "    .dataframe tbody tr th:only-of-type {\n",
              "        vertical-align: middle;\n",
              "    }\n",
              "\n",
              "    .dataframe tbody tr th {\n",
              "        vertical-align: top;\n",
              "    }\n",
              "\n",
              "    .dataframe thead th {\n",
              "        text-align: right;\n",
              "    }\n",
              "</style>\n",
              "<table border=\"1\" class=\"dataframe\">\n",
              "  <thead>\n",
              "    <tr style=\"text-align: right;\">\n",
              "      <th></th>\n",
              "      <th>iq</th>\n",
              "      <th>marks</th>\n",
              "      <th>package</th>\n",
              "    </tr>\n",
              "  </thead>\n",
              "  <tbody>\n",
              "    <tr>\n",
              "      <th>0</th>\n",
              "      <td>100</td>\n",
              "      <td>80</td>\n",
              "      <td>10</td>\n",
              "    </tr>\n",
              "    <tr>\n",
              "      <th>1</th>\n",
              "      <td>90</td>\n",
              "      <td>70</td>\n",
              "      <td>7</td>\n",
              "    </tr>\n",
              "    <tr>\n",
              "      <th>2</th>\n",
              "      <td>120</td>\n",
              "      <td>100</td>\n",
              "      <td>14</td>\n",
              "    </tr>\n",
              "    <tr>\n",
              "      <th>3</th>\n",
              "      <td>80</td>\n",
              "      <td>50</td>\n",
              "      <td>2</td>\n",
              "    </tr>\n",
              "  </tbody>\n",
              "</table>\n",
              "</div>"
            ],
            "text/plain": [
              "    iq  marks  package\n",
              "0  100     80       10\n",
              "1   90     70        7\n",
              "2  120    100       14\n",
              "3   80     50        2"
            ]
          },
          "execution_count": 2,
          "metadata": {},
          "output_type": "execute_result"
        }
      ],
      "source": [
        "# Creating a DataFrame using a list of lists\n",
        "student_data = [\n",
        "    [100,80,10],\n",
        "    [90,70,7],\n",
        "    [120,100,14],\n",
        "    [80,50,2]\n",
        "# Each inner list represents a row: [iq, marks, package]\n",
        " ]\n",
        "\n",
        "# Creating DataFrame and assigning column names\n",
        "pd.DataFrame(student_data,columns=['iq','marks','package']) # DataFrame is a 2D data structure in pandas, similar to a table in a database or a spreadsheet"
      ]
    },
    {
      "cell_type": "code",
      "execution_count": null,
      "metadata": {
        "colab": {
          "base_uri": "https://localhost:8080/",
          "height": 269
        },
        "id": "StK0mYCHudKC",
        "outputId": "7806cb67-4034-4e75-eceb-46d0f810f6d9"
      },
      "outputs": [
        {
          "data": {
            "application/vnd.microsoft.datawrangler.viewer.v0+json": {
              "columns": [
                {
                  "name": "name",
                  "rawType": "object",
                  "type": "string"
                },
                {
                  "name": "iq",
                  "rawType": "int64",
                  "type": "integer"
                },
                {
                  "name": "marks",
                  "rawType": "int64",
                  "type": "integer"
                },
                {
                  "name": "package",
                  "rawType": "int64",
                  "type": "integer"
                }
              ],
              "ref": "8643f7c2-15c6-46a4-bb00-4af0a1756860",
              "rows": [
                [
                  "nitish",
                  "100",
                  "80",
                  "10"
                ],
                [
                  "ankit",
                  "90",
                  "70",
                  "7"
                ],
                [
                  "rupesh",
                  "120",
                  "100",
                  "14"
                ],
                [
                  "rishabh",
                  "80",
                  "50",
                  "2"
                ],
                [
                  "amit",
                  "0",
                  "0",
                  "0"
                ],
                [
                  "ankita",
                  "0",
                  "0",
                  "0"
                ]
              ],
              "shape": {
                "columns": 3,
                "rows": 6
              }
            },
            "text/html": [
              "<div>\n",
              "<style scoped>\n",
              "    .dataframe tbody tr th:only-of-type {\n",
              "        vertical-align: middle;\n",
              "    }\n",
              "\n",
              "    .dataframe tbody tr th {\n",
              "        vertical-align: top;\n",
              "    }\n",
              "\n",
              "    .dataframe thead th {\n",
              "        text-align: right;\n",
              "    }\n",
              "</style>\n",
              "<table border=\"1\" class=\"dataframe\">\n",
              "  <thead>\n",
              "    <tr style=\"text-align: right;\">\n",
              "      <th></th>\n",
              "      <th>iq</th>\n",
              "      <th>marks</th>\n",
              "      <th>package</th>\n",
              "    </tr>\n",
              "    <tr>\n",
              "      <th>name</th>\n",
              "      <th></th>\n",
              "      <th></th>\n",
              "      <th></th>\n",
              "    </tr>\n",
              "  </thead>\n",
              "  <tbody>\n",
              "    <tr>\n",
              "      <th>nitish</th>\n",
              "      <td>100</td>\n",
              "      <td>80</td>\n",
              "      <td>10</td>\n",
              "    </tr>\n",
              "    <tr>\n",
              "      <th>ankit</th>\n",
              "      <td>90</td>\n",
              "      <td>70</td>\n",
              "      <td>7</td>\n",
              "    </tr>\n",
              "    <tr>\n",
              "      <th>rupesh</th>\n",
              "      <td>120</td>\n",
              "      <td>100</td>\n",
              "      <td>14</td>\n",
              "    </tr>\n",
              "    <tr>\n",
              "      <th>rishabh</th>\n",
              "      <td>80</td>\n",
              "      <td>50</td>\n",
              "      <td>2</td>\n",
              "    </tr>\n",
              "    <tr>\n",
              "      <th>amit</th>\n",
              "      <td>0</td>\n",
              "      <td>0</td>\n",
              "      <td>0</td>\n",
              "    </tr>\n",
              "    <tr>\n",
              "      <th>ankita</th>\n",
              "      <td>0</td>\n",
              "      <td>0</td>\n",
              "      <td>0</td>\n",
              "    </tr>\n",
              "  </tbody>\n",
              "</table>\n",
              "</div>"
            ],
            "text/plain": [
              "          iq  marks  package\n",
              "name                        \n",
              "nitish   100     80       10\n",
              "ankit     90     70        7\n",
              "rupesh   120    100       14\n",
              "rishabh   80     50        2\n",
              "amit       0      0        0\n",
              "ankita     0      0        0"
            ]
          },
          "execution_count": 3,
          "metadata": {},
          "output_type": "execute_result"
        }
      ],
      "source": [
        "# using dicts\n",
        "\n",
        "# Creating a DataFrame using a dictionary\n",
        "student_dict = {\n",
        "    'name':['nitish','ankit','rupesh','rishabh','amit','ankita'],\n",
        "    'iq':[100,90,120,80,0,0],\n",
        "    'marks':[80,70,100,50,0,0],\n",
        "    'package':[10,7,14,2,0,0]\n",
        "# Each key is a column name, and the value is a list of column values\n",
        "}\n",
        "\n",
        "# Creating DataFrame from dictionary\n",
        "students = pd.DataFrame(student_dict)\n",
        "# Setting the index to 'name' column for easier row access by name\n",
        "students.set_index('name',inplace=True)\n",
        "students"
      ]
    },
    {
      "cell_type": "code",
      "execution_count": null,
      "metadata": {
        "colab": {
          "base_uri": "https://localhost:8080/",
          "height": 1000
        },
        "id": "EF_2ly2HuePm",
        "outputId": "019279d7-a1b2-4cb9-db18-277614c3c6f0"
      },
      "outputs": [
        {
          "data": {
            "application/vnd.microsoft.datawrangler.viewer.v0+json": {
              "columns": [
                {
                  "name": "index",
                  "rawType": "int64",
                  "type": "integer"
                },
                {
                  "name": "title_x",
                  "rawType": "object",
                  "type": "string"
                },
                {
                  "name": "imdb_id",
                  "rawType": "object",
                  "type": "string"
                },
                {
                  "name": "poster_path",
                  "rawType": "object",
                  "type": "unknown"
                },
                {
                  "name": "wiki_link",
                  "rawType": "object",
                  "type": "string"
                },
                {
                  "name": "title_y",
                  "rawType": "object",
                  "type": "string"
                },
                {
                  "name": "original_title",
                  "rawType": "object",
                  "type": "string"
                },
                {
                  "name": "is_adult",
                  "rawType": "int64",
                  "type": "integer"
                },
                {
                  "name": "year_of_release",
                  "rawType": "int64",
                  "type": "integer"
                },
                {
                  "name": "runtime",
                  "rawType": "object",
                  "type": "string"
                },
                {
                  "name": "genres",
                  "rawType": "object",
                  "type": "string"
                },
                {
                  "name": "imdb_rating",
                  "rawType": "float64",
                  "type": "float"
                },
                {
                  "name": "imdb_votes",
                  "rawType": "int64",
                  "type": "integer"
                },
                {
                  "name": "story",
                  "rawType": "object",
                  "type": "unknown"
                },
                {
                  "name": "summary",
                  "rawType": "object",
                  "type": "string"
                },
                {
                  "name": "tagline",
                  "rawType": "object",
                  "type": "unknown"
                },
                {
                  "name": "actors",
                  "rawType": "object",
                  "type": "unknown"
                },
                {
                  "name": "wins_nominations",
                  "rawType": "object",
                  "type": "unknown"
                },
                {
                  "name": "release_date",
                  "rawType": "object",
                  "type": "unknown"
                }
              ],
              "ref": "c3a71f16-cc99-447b-9cdd-c23a0979658b",
              "rows": [
                [
                  "0",
                  "Uri: The Surgical Strike",
                  "tt8291224",
                  "https://upload.wikimedia.org/wikipedia/en/thumb/3/3b/URI_-_New_poster.jpg/220px-URI_-_New_poster.jpg",
                  "https://en.wikipedia.org/wiki/Uri:_The_Surgical_Strike",
                  "Uri: The Surgical Strike",
                  "Uri: The Surgical Strike",
                  "0",
                  "2019",
                  "138",
                  "Action|Drama|War",
                  "8.4",
                  "35112",
                  "Divided over five chapters  the film chronicles the events of the surgical strike conducted by the Indian military against suspected militants in Pakistan occupied Kashmir. It tells the story of the 11 tumultuous events over which the operation was carried out. Indian army special forces carry out a covert operation to avenge the killing of fellow army men at their base by a terrorist group.",
                  "Indian army special forces execute a covert operation  avenging the killing of fellow army men at their base by a terrorist group.",
                  null,
                  "Vicky Kaushal|Paresh Rawal|Mohit Raina|Yami Gautam|Kirti Kulhari|Rajit Kapoor|Ivan Rodrigues|Manasi Parekh|Swaroop Sampat|Riva Arora|Yogesh Soman|Fareed Ahmed|Akashdeep Arora|Kallol Banerjee|",
                  "4 wins",
                  "11 January 2019 (USA)"
                ],
                [
                  "1",
                  "Battalion 609",
                  "tt9472208",
                  null,
                  "https://en.wikipedia.org/wiki/Battalion_609",
                  "Battalion 609",
                  "Battalion 609",
                  "0",
                  "2019",
                  "131",
                  "War",
                  "4.1",
                  "73",
                  "The story revolves around a cricket match between the Indian Army and the Pakistan Army gone wrong and narrates the tale of the soldiers of Battalion 609 putting up a fight with Taliban. After an attack on Indian Army that is Battalion 609 near the LOC  the match which was to be played between India and Pakistan is cancelled. Anwar Hussein  a Pakistani soldier who is very fond of cricket and was looking forward to the match  throws a cricket bat at the other end of the LOC and calls the Indian army and Indians a bunch of cowards. In anger  the Indian army throws a ball towards them. Soon  a verbal fight breaks between them which leads to the two teams deciding to play a cricket match. The losing team will take their post eighteen kilometres back.",
                  "The story of Battalion 609 revolves around a cricket match between the Indian Army and the Pakistan army gone wrong and narrates the tale of the brave soldiers of Battalion 609 putting up a fight with the mighty Taliban.",
                  null,
                  "Vicky Ahuja|Shoaib Ibrahim|Shrikant Kamat|Elena Kazan|Vishwas Kini|Major Kishore|Jashn Kohli|Rammy C. Pandey|Manish Sharma|Sparsh Sharma|Farnaz Shetty|Vikas Shrivastav|Chandraprakash Thakur|Brajesh Tiwari|",
                  null,
                  "11 January 2019 (India)"
                ],
                [
                  "2",
                  "The Accidental Prime Minister (film)",
                  "tt6986710",
                  "https://upload.wikimedia.org/wikipedia/en/thumb/a/a1/The_Accidental_Prime_Minister_film.jpg/220px-The_Accidental_Prime_Minister_film.jpg",
                  "https://en.wikipedia.org/wiki/The_Accidental_Prime_Minister_(film)",
                  "The Accidental Prime Minister",
                  "The Accidental Prime Minister",
                  "0",
                  "2019",
                  "112",
                  "Biography|Drama",
                  "6.1",
                  "5549",
                  "Based on the memoir by Indian policy analyst Sanjaya Baru  The Accidental Prime Minister explores Manmohan Singh's tenure as the Prime Minister of India  and the interference of Congress Party in contradicting his decisions during his first tenure. He details how Singh fell a victim to Congress Party's dynastic approach. It highlights how Manmohan Singh was constantly ignored by Congress to maintain turf for Rahul Gandhi  the son of Sonia Gandhi and Rajiv Gandhi.",
                  "Explores Manmohan Singh's tenure as the Prime Minister of India and the kind of control he had over the cabinet and the country.",
                  null,
                  "Anupam Kher|Akshaye Khanna|Aahana Kumra|Atul Sharma|Manoj Anand|Arjun Mathur|Suzanne Bernert|Abdul Quadir Amin|Bharat Mistri|Divya Seth|Anil Rastogi|Ramesh Bhatkar|Parrgash Kaur|Jess Kaur|",
                  null,
                  "11 January 2019 (USA)"
                ],
                [
                  "3",
                  "Why Cheat India",
                  "tt8108208",
                  "https://upload.wikimedia.org/wikipedia/en/thumb/a/a2/Why_Cheat_India_poster.jpg/220px-Why_Cheat_India_poster.jpg",
                  "https://en.wikipedia.org/wiki/Why_Cheat_India",
                  "Why Cheat India",
                  "Why Cheat India",
                  "0",
                  "2019",
                  "121",
                  "Crime|Drama",
                  "6.0",
                  "1891",
                  "The movie focuses on existing malpractices in country's education system  the whole concept of buying your way through education  jobs and earnings. Even with an evolving education system  the country faces scams like SSC and HSC paper leaks  CBSE re-examination  Vyaapam  etc. The movie tries to shift the attention of people to understand the vulnerability of hardworking and gifted students who get left out.",
                  "The movie focuses on existing malpractices in country's education system  the whole concept of buying your way through education  jobs and earnings. Even with an evolving education system  ...                    ",
                  null,
                  "Emraan Hashmi|Shreya Dhanwanthary|Snighdadeep Chatterji|Navneet Srivastava|Nanda Yadav|",
                  null,
                  "18 January 2019 (USA)"
                ],
                [
                  "4",
                  "Evening Shadows",
                  "tt6028796",
                  null,
                  "https://en.wikipedia.org/wiki/Evening_Shadows",
                  "Evening Shadows",
                  "Evening Shadows",
                  "0",
                  "2018",
                  "102",
                  "Drama",
                  "7.3",
                  "280",
                  "While gay rights and marriage equality has been embraced by most countries  a small town in Southern India lives within a cocoon of traditions and social morality. In such a milieu when a young gay man Kartik  comes out to his mother Vasudha  her entire world comes crashing down. She has no one to turn to dispel her fears and doubts  to understand her loving son's truth. Moreover as a woman  trapped within a patriarchal conservative society  her biggest challenge is to deal with her dogmatic husband Damodar  and the conservative society around her. 'Evening Shadows' is a universal story about a mother-son bonding and its emotional strength to withstand the ravages of time and harsh realities.",
                  "Under the 'Evening Shadows'  truth often plays hide and seek. Set in South India and Mumbai  'Evening Shadows' is a tender heartwarming story about a mother-son bond that has to withstand the ravages of time  distance and truths.",
                  null,
                  "Mona Ambegaonkar|Ananth Narayan Mahadevan|Devansh Doshi|Arpit Chaudhary|Yamini Singh|Abhay Kulkarni|Veena Nair|Disha Thakur|Kala Ramanathan|Sushant Divgikar|",
                  "17 wins & 1 nomination",
                  "11 January 2019 (India)"
                ],
                [
                  "5",
                  "Soni (film)",
                  "tt6078866",
                  "https://upload.wikimedia.org/wikipedia/en/thumb/d/de/Soni_India_Netflix_Movie_Poster.jpg/220px-Soni_India_Netflix_Movie_Poster.jpg",
                  "https://en.wikipedia.org/wiki/Soni_(film)",
                  "Soni",
                  "Soni",
                  "0",
                  "2018",
                  "97",
                  "Drama",
                  "7.2",
                  "1595",
                  "Soni  a young policewoman in Delhi  and her superintendent  Kalpana  have collectively taken on a growing crisis of violent crimes against women. However  their alliance suffers a major setback when Soni is transferred out for alleged misconduct on duty.",
                  "While fighting crimes against women in Delhi  a short-fused policewoman and her level-headed female boss grapple with gender issues in their own lives.",
                  null,
                  "Geetika Vidya Ohlyan|Saloni Batra|Vikas Shukla|Mohit Chauhan|Himanshu Kohli|Gauri Chakraborty|Mohinder Gujral|Upasya Goswami|Simrat Kaur|Dimple Kaur|Prateek Pachori|Kalpana Jha|Samar|",
                  "3 wins & 5 nominations",
                  "18 January 2019 (USA)"
                ],
                [
                  "6",
                  "Fraud Saiyaan",
                  "tt5013008",
                  "https://upload.wikimedia.org/wikipedia/en/thumb/4/48/Fraud_Saiyyan_film_poster.jpg/220px-Fraud_Saiyyan_film_poster.jpg",
                  "https://en.wikipedia.org/wiki/Fraud_Saiyaan",
                  "Fraud Saiyaan",
                  "Fraud Saiyyan",
                  "0",
                  "2019",
                  "109",
                  "Comedy|Drama",
                  "4.2",
                  "504",
                  "Fraud Saiyyan is the story of a con artist in North India who convinces women to marry him just so he can live off their money.",
                  "Fraud Saiyyan is the story of a con artist in North India who convinces women to marry him just so he can live off their money.",
                  null,
                  "Arshad Warsi|Saurabh Shukla|Flora Saini|Sara Loren|Varun Badola|Deepali Pansare|Nivedita Tiwari|Peeyush Suhaney|Preeti Sood|Parag Tyagi|Anangsha Biswas|Amanda Rosario|Elli Avrram|",
                  null,
                  "18 January 2019 (India)"
                ],
                [
                  "7",
                  "Bombairiya",
                  "tt4971258",
                  "https://upload.wikimedia.org/wikipedia/en/thumb/b/bb/Bombairiya_poster.jpg/220px-Bombairiya_poster.jpg",
                  "https://en.wikipedia.org/wiki/Bombairiya",
                  "Bombairiya",
                  "Bombairiya",
                  "0",
                  "2019",
                  "104",
                  "Comedy|Crime|Drama",
                  "4.3",
                  "295",
                  "It follows the story of Meghna  who gets embroiled in a series of events after her phone gets stolen.",
                  "It follows the story of Meghna  who gets embroiled in a series of events after her phone gets stolen.",
                  "They didn't mean to change the world.",
                  "Radhika Apte|Akshay Oberoi|Siddhanth Kapoor|Ravi Kishan|Adil Hussain|Shilpa Shukla|Ajinkya Deo|Amit Sial|",
                  null,
                  "18 January 2019 (India)"
                ],
                [
                  "8",
                  "Manikarnika: The Queen of Jhansi",
                  "tt6903440",
                  "https://upload.wikimedia.org/wikipedia/en/thumb/4/44/Manikarnika_Poster.jpg/220px-Manikarnika_Poster.jpg",
                  "https://en.wikipedia.org/wiki/Manikarnika:_The_Queen_of_Jhansi",
                  "Manikarnika: The Queen of Jhansi",
                  "Manikarnika: The Queen of Jhansi",
                  "0",
                  "2019",
                  "148",
                  "Action|Biography|Drama",
                  "6.5",
                  "7361",
                  "Manikarnika born in Varanasi when Dixt a minister in Jhansi princely state sees her he proposes her marriage to Gangadar Rao prince of Jhansi.Sadashiv Rao plots along with British officers to conquer Jhansi as he Is promised a stake in it after conquering Jhansi.After the birth of Lakshmi and Gangadar Rao's son Sadashiv Rao sees his place in fear and poison the holy water during the naming ceremony of the child following which he passes away and also leaves Gangadar Rao on death bed.Gangadar Rao decides to adopt a son and Sadashiv Rao feels guilty of not adopting his son instead a toddler who comes running to Lakshmi Bai.After death of Gangadar Rao.The East India Company decides to conquer on Jhansi as there is no male ruler.But Lakshmi Bai decides to take the throne on herself and fight for Jhansi.",
                  "Story of Rani Lakshmibai  one of the leading figures of the Indian Rebellion of 1857 and her resistance to the British Rule.",
                  null,
                  "Kangana Ranaut|Rimi Sen|Atul Kulkarni|Nalneesh Neel|Danny Denzongpa|Mishti|Kulbhushan Kharbanda|Mohammed Zeeshan Ayyub|Anil George|Vikram Kochhar|Edward Sonnenblick|Ankita Lokhande|Richard Keep|Jishu Sengupta|",
                  null,
                  "25 January 2019 (USA)"
                ],
                [
                  "9",
                  "Thackeray (film)",
                  "tt7777196",
                  "https://upload.wikimedia.org/wikipedia/en/thumb/8/8e/Thackeray_film_poster.jpeg/220px-Thackeray_film_poster.jpeg",
                  "https://en.wikipedia.org/wiki/Thackeray_(film)",
                  "Thackeray",
                  "Thackeray",
                  "0",
                  "2019",
                  "120",
                  "Biography|Drama",
                  "5.1",
                  "2301",
                  "Balasaheb Thackrey works as a cartoonist for a newspaper. But his editor isn't happy with it as he creates cartoons of politician which affects the sales of his paper.He is asked to try something else but he quits his job and now his only aim is to fight for the rights of Marathi people. He sees that Marathi people don't have any respect and are made to do all odd works. With a few people  he starts to help the needy and gains respect. To fight for the rights he also goes against the law and comes in the eye of politics. After entering politics he starts his own party named after Shivaji Maharaj as Shiv Sena. After giving Marathi Manoos his equal rights his only wish is that one day the Chief Minister of Maharashtra should be a Marathi Manoos.",
                  "Biographical account of Shiv Sena Supremo  Balasaheb Thackeray.",
                  null,
                  "Nawazuddin Siddiqui|Amrita Rao|Abdul Quadir Amin|Sanjay Narvekar|Prakash Belawadi|Vineet Sharma|Radha Sagar|Sonamoni Jayant Gadekar|Satish Alekar|Micky Makhija|Nikhil Mahajan|Resh Lamba|Jaywant Wadkar|Laxman Singh Rajput|",
                  null,
                  "25 January 2019 (India)"
                ],
                [
                  "10",
                  "Amavas",
                  "tt8396186",
                  "https://upload.wikimedia.org/wikipedia/en/thumb/b/b3/Amavas_official_poster.jpg/220px-Amavas_official_poster.jpg",
                  "https://en.wikipedia.org/wiki/Amavas",
                  "Amavas",
                  "Amavas",
                  "0",
                  "2019",
                  "134",
                  "Horror|Thriller",
                  "2.8",
                  "235",
                  "Far away from the bustle of the city  a young couple is looking forward to their stay in a once-abandoned palatial mansion. But their lives are about to turn into a nightmare  as dark forces lie in wait beneath the shadows of the haunted bungalow.",
                  "The lives of a couple turn into a nightmare  as dark forces lie in wait beneath the shadows of the haunted bungalow in which they have decided to stay.",
                  null,
                  "Ali Asgar|Vivan Bhatena|Nargis Fakhri|Sachiin Joshi|Shabnam Karimzada|Kevin Matadeen|",
                  null,
                  "8 February 2019 (India)"
                ],
                [
                  "11",
                  "Gully Boy",
                  "tt2395469",
                  "https://upload.wikimedia.org/wikipedia/en/thumb/0/07/Gully_Boy_poster.jpg/220px-Gully_Boy_poster.jpg",
                  "https://en.wikipedia.org/wiki/Gully_Boy",
                  "Gully Boy",
                  "Gully Boy",
                  "0",
                  "2019",
                  "153",
                  "Drama|Music",
                  "8.2",
                  "22440",
                  "Gully Boy is a film about a 22-year-old boy \"Murad\" from a ghetto in Mumbai  India. The son of a driver  his parents worked hard to get him educated so that he could have a white collar job. Meanwhile  Murad realizes his calling to be a rapper. Authentic Hip Hop in India is a recent phenomenon and like anywhere else in the world  is rising from the streets. Art is a distant dream for the colonized poor of India and this story is about Murad's journey from realizing his love for rap and chasing his dream to inadvertently transcending his class. The film showcases street rap from the crevices of Mumbai's by lanes. The poetry is conscious of the city's socio-economic fabric and highlights the challenges faced by the disenfranchised youth in the minority population.",
                  "A coming-of-age story based on the lives of street rappers in Mumbai.",
                  "Apna Time Aayega!",
                  "Ranveer Singh|Alia Bhatt|Siddhant Chaturvedi|Vijay Raaz|Amruta Subhash|Vijay Varma|Kalki Koechlin|Ikhlaque Khan|Sheeba Chaddha|Jyoti Subhash|Rahul Piske|Nakul Sachdeva|Shruti Chauhan|Aishwarya Desai|",
                  "6 wins & 3 nominations",
                  "14 February 2019 (USA)"
                ],
                [
                  "12",
                  "Hum Chaar",
                  "tt9319812",
                  "https://upload.wikimedia.org/wikipedia/en/thumb/8/88/Hum_Chaar_poster.jpg/220px-Hum_Chaar_poster.jpg",
                  "https://en.wikipedia.org/wiki/Hum_Chaar",
                  "Hum chaar",
                  "Hum chaar",
                  "0",
                  "2019",
                  "143",
                  "Drama",
                  "5.6",
                  "183",
                  "The story of the film revolves around four college friends went their own direction in life  but remained inseparable from each other.",
                  "The story of the film revolves around four college friends went their own direction in life  but remained inseparable from each other.",
                  null,
                  "Prit Kamani|Simran Sharma|Anshuman Malhotra|Tushar Pandey|Vibha Anand|Jatin Goswami|Jagat Rawat|Sonal Jha|Shailesh Datar|Jayshankar Tripathi|Alok Pandey|Sushant Mohindru|Shahnawaz Pradhan|Amit Kumar Jha|",
                  null,
                  "15 February 2019 (India)"
                ],
                [
                  "13",
                  "Total Dhamaal",
                  "tt7639372",
                  "https://upload.wikimedia.org/wikipedia/en/thumb/e/e7/Total_Dhamaal_poster.jpg/220px-Total_Dhamaal_poster.jpg",
                  "https://en.wikipedia.org/wiki/Total_Dhamaal",
                  "Total Dhamaal",
                  "Total Dhamaal",
                  "0",
                  "2019",
                  "130",
                  "Action|Adventure|Comedy",
                  "4.3",
                  "4817",
                  "Total Dhamaal is the third instalment in the Dhamaal franchise. A hidden booty of 50 crore leads to a mad chase amongst a bunch of greedy and eccentric characters. In them  are a bickering couple on the verge of a divorce  greedy siblings  local goons  a police commissioner and the mastermind of the loot. Will they finally discover the hidden treasure?",
                  "A group of people learn about a hidden treasure and then they race to find it and claim it.",
                  "The Wildest Adventure Ever",
                  "Ajay Devgn|Madhuri Dixit|Anil Kapoor|Riteish Deshmukh|Arshad Warsi|Javed Jaffrey|Esha Gupta|Boman Irani|Sanjay Mishra|Vijay Patkar|Pitobash|Mahesh Manjrekar|Ali|",
                  null,
                  "22 February 2019 (India)"
                ],
                [
                  "14",
                  "Sonchiriya",
                  "tt8108200",
                  "https://upload.wikimedia.org/wikipedia/en/thumb/4/46/Sonchiriya_poster.jpg/220px-Sonchiriya_poster.jpg",
                  "https://en.wikipedia.org/wiki/Sonchiriya",
                  "Sonchiriya",
                  "Sonchiriya",
                  "0",
                  "2019",
                  "143",
                  "Action|Crime|Drama",
                  "7.5",
                  "2322",
                  "This is the story of a group of rebels in Chambal. The year is 1975. The Prime Minister  Indira Gandhi  has declared Emergency in the country. Man Singh (Manoj Bajpayee) meanwhile leads a gang in Chambal  a region that more or less is lawless. Vakil Singh (Ranvir Shorey) and Lakhna (Sushant Singh Rajput) are important members of this gang. Man Singh is in need of money to procure new arms. Based on a tip from Lacchu (Jaspal Sharma)  he and his men descend to Brahmpuri village. A marriage is taking place in this hamlet where the groom is about to get a huge amount of gold and cash. Man Singh and his gang reaches the marriage venue in order to loot this wealth. However  the cops  led by Virender Gujjar (Ashutosh Rana) ambush the gang. In the tough fight  Man Singh and half of the gang get killed. Vakil  Lakhna and others escape. Vakil  now the leader of the gang  accuses Lakhna of betraying them and calling the cops. Lakhna is fed up of being a rebel and wants to surrender. Meanwhile  ...",
                  "Set in the Chambal valley  the film follows the story of a legion of dreaded  warring dacoits who once terrorized the Indian heartlands.",
                  null,
                  "Sushant Singh Rajput|Bhumi Pednekar|Manoj Bajpayee|Ranvir Shorey|Ashutosh Rana|Gagandev Riar|",
                  null,
                  "1 March 2019 (India)"
                ],
                [
                  "15",
                  "Badla (2019 film)",
                  "tt8130968",
                  "https://upload.wikimedia.org/wikipedia/en/0/0c/Badla_poster.jpg",
                  "https://en.wikipedia.org/wiki/Badla_(2019_film)",
                  "Badla",
                  "Badla",
                  "0",
                  "2019",
                  "118",
                  "Crime|Drama|Mystery",
                  "7.9",
                  "15499",
                  "Naina Sethi a successful entrepreneur finds herself locked in a hotel room.When she gains conscious she finds herself lying to corpse of her lover Arjun she is arrested for the murder.But left on bail her lawyer Jimmy hires a defense lawyer Badal Gupta who hasn't lost a case since last 40 years.Badal and Naina discuss about the events that happened during that day.But Badal feels that there are lot many loopholes in Naina's story.",
                  "A dynamic young entrepreneur finds herself locked in a hotel room with the corpse of her dead lover. She hires a prestigious lawyer to defend her and they work together to figure out what actually happened.",
                  null,
                  "Amitabh Bachchan|Taapsee Pannu|Amrita Singh|Antonio Aakeel|Tony Luke|Tanveer Ghani|Tariqsafdar Hussain|Mark Mansfield|",
                  "1 win",
                  "8 March 2019 (India)"
                ],
                [
                  "16",
                  "Mard Ko Dard Nahi Hota",
                  "tt8055888",
                  "https://upload.wikimedia.org/wikipedia/en/thumb/e/ef/Mard_Ko_Dard_Nahi_Hota.jpg/220px-Mard_Ko_Dard_Nahi_Hota.jpg",
                  "https://en.wikipedia.org/wiki/Mard_Ko_Dard_Nahi_Hota",
                  "Mard Ko Dard Nahin Hota",
                  "Mard Ko Dard Nahin Hota",
                  "0",
                  "2018",
                  "134",
                  "Action|Comedy",
                  "7.4",
                  "3969",
                  "It is a story of a young boy Surya who has a rare condition of Congenital Insensitivity to pain meaning he can not feel pain  and he sets out to learn martial arts and hunt down muggers.",
                  "It is a story of a young boy Surya who has a rare condition of Congenital Insensitivity to pain meaning he can not feel pain  and he sets out to learn martial arts and hunt down muggers.",
                  null,
                  "Abhimanyu Dasani|Radhika Madan|Prateek Parmar|Satyajit Ganu|",
                  "2 wins & 2 nominations",
                  "22 March 2019 (USA)"
                ],
                [
                  "17",
                  "Hamid (film)",
                  "tt7527082",
                  "https://upload.wikimedia.org/wikipedia/en/thumb/8/87/Hamid_film_poster.jpg/220px-Hamid_film_poster.jpg",
                  "https://en.wikipedia.org/wiki/Hamid_(film)",
                  "Hamid",
                  "Hamid",
                  "0",
                  "2018",
                  "108",
                  "Drama",
                  "7.7",
                  "560",
                  "Hamid's (8) father has gone missing. His mother Ishrat has turned indifferent towards Hamid and the entire world after the incident. Neglected and lonely  with a heart searching for answers  Hamid star gazes in the hope of meeting his father. The number 786 always bewildered Hamid. One day a teacher tells Hamid that this is God's number. Using his father's old mobile phone  after trying different combinations  he finally manages to connect to a person  who he is convinced is God. On the other side is Abhay  a hard-knuckled CRPF Jawaan. Hamid's phone call  though surprising at first  intrigues Abhay who engages in humouring Hamid. These two  unknowingly and unintentionally  change each other's world for the better.",
                  "Eight year-old Hamid learns that 786 is God's number and decides to try and reach out to God  by dialing this number. He wants to talk to his father  who his mother tells him has gone to Allah. One fine day the phone call is answered.",
                  null,
                  "Talha Arshad Reshi|Vikas Kumar|Rasika Dugal|Sumit Kaul|Bashir Lone|Gurveer Singh|Ashraf Nagoo|Mir Sarwar|Qazi Faiz|Umar Adil|",
                  null,
                  "15 March 2019 (India)"
                ],
                [
                  "18",
                  "Photograph (film)",
                  "tt7778680",
                  "https://upload.wikimedia.org/wikipedia/en/7/71/Photograph_%282019_poster%29.png",
                  "https://en.wikipedia.org/wiki/Photograph_(film)",
                  "Photograph",
                  "Photograph",
                  "0",
                  "2019",
                  "110",
                  "Drama|Romance",
                  "6.9",
                  "2391",
                  "Two lives intersect in Mumbai and go along together. A struggling street photographer  pressured to marry by his grandmother  convinces a shy stranger to pose as his fiancée. The pair develops a connection that transforms them in ways that they could not expect. From Ritesh Batra (The Lunchbox).",
                  "A struggling street photographer in Mumbai  pressured to marry by his grandmother  convinces a shy stranger to pose as his fiancée. The pair develop a connection that transforms them in ways they could not expect.",
                  null,
                  "Nawazuddin Siddiqui|Sanya Malhotra|Sachin Khedekar|Denzil Smith|Brinda Trivedi|Lubna Salim|Rajesh Kumar Sharma|Shihaan Bakshi|Akash Sinha|Seema Pravin Shende|Robin Das|Bhagwan Das Patel|Ashok Pathak|Amarjeet Singh|",
                  null,
                  "17 May 2019 (USA)"
                ],
                [
                  "19",
                  "Risknamaa",
                  "tt9795264",
                  null,
                  "https://en.wikipedia.org/wiki/Risknamaa",
                  "Risknamaa",
                  "Risknamaa",
                  "0",
                  "2019",
                  "123",
                  "Thriller",
                  "6.7",
                  "11",
                  "Sher Singh is the Sarpanch of his village. Whose same order for all  that whoever loves  will get the death punishment only. In this way Sher Singh has killed so many boys and girls  who loves each other. But one day that Sarpanch also falls in love and the girl whom Sher Singh loves  that girl is the wife of her younger brother.",
                  "Sher Singh is the Sarpanch of his village. Whose same order for all  that whoever loves  will get the death punishment only. In this way Sher Singh has killed so many boys and girls  who ...                    ",
                  null,
                  "Garima Agarwal|Anupama|Parveen Bansala|Mahaveer Singh Fauji|Javed Haider|Shahbaaz Khan|Sachin Khari|Pramod Moutho|Aarun Nagar|Khyati Sharma|Ravi Sharma|Shashikant Sharma|",
                  null,
                  "15 March 2019 (India)"
                ],
                [
                  "20",
                  "Mere Pyare Prime Minister",
                  "tt8207768",
                  "https://upload.wikimedia.org/wikipedia/en/thumb/2/24/Mere_Pyare_Prime_Minister_poster.jpg/220px-Mere_Pyare_Prime_Minister_poster.jpg",
                  "https://en.wikipedia.org/wiki/Mere_Pyare_Prime_Minister",
                  "Mere Pyare Prime Minister",
                  "Mere Pyare Prime Minister",
                  "0",
                  "2018",
                  "104",
                  "Drama",
                  "6.8",
                  "344",
                  "A story about four children living in a Mumbai slum in India. An eight-year old Kanhu writes a letter to the Prime Minister after a dramatic incident with his mother. A small boy has to achieve the impossible.",
                  "A story about four children living in a Mumbai slum in India. An eight-year old Kanhu writes a letter to the Prime Minister after a dramatic incident with his mother. A small boy has to achieve the impossible.",
                  "Meri Ek Arzi Sun Lo Zara",
                  "Rasika Agashe|Sonia Albizuri|Syna Anand|Adarsh Bharti|Makrand Deshpande|Om Kanojiya|Atul Kulkarni|Anjali Patil|Prasad|Nachiket Purnapatre|Niteesh Wadhwa|",
                  null,
                  "15 March 2019 (India)"
                ],
                [
                  "21",
                  "22 Yards",
                  "tt9496212",
                  "https://upload.wikimedia.org/wikipedia/en/thumb/f/f2/22_Yards_film_poster.jpeg/220px-22_Yards_film_poster.jpeg",
                  "https://en.wikipedia.org/wiki/22_Yards",
                  "22 Yards",
                  "22 Yards",
                  "0",
                  "2019",
                  "126",
                  "Sport",
                  "5.3",
                  "124",
                  "A dramatic portrayal of a victorious tale of a fallen cricket agent and a young cricketer.",
                  "A dramatic portrayal of a victorious tale of a fallen cricket agent and a young cricketer.",
                  null,
                  "Barun Sobti|Rajit Kapur|Panchhi Bora|Kartikey Tripathi|",
                  null,
                  "15 March 2019 (India)"
                ],
                [
                  "22",
                  "Kesari (film)",
                  "tt6264938",
                  "https://upload.wikimedia.org/wikipedia/en/thumb/c/c4/Kesari_poster.jpg/220px-Kesari_poster.jpg",
                  "https://en.wikipedia.org/wiki/Kesari_(film)",
                  "Kesari",
                  "Kesari",
                  "0",
                  "2019",
                  "150",
                  "Action|Drama|History",
                  "7.4",
                  "10653",
                  "This period war-drama showcases the 1897 Battle of Saragarhi. The plot focuses on Havildar Ishar Singh who led a platoon of 21 Sikhs against an invading army of 10 000 Afghans to defend the North-West Frontier Province. The event is considered as one of the greatest last-stands in history.",
                  "Based on an incredible true story of the Battle of Saragarhi in which an army of 21 Sikhs fought against 10 000 Afghans in 1897.",
                  null,
                  "Akshay Kumar|Parineeti Chopra|Suvinder Vicky|Vansh Bhardwaj|Sumeet Basran|Ajit Singh|Sandeep Nahar|Harwinder Singh Aujla|Rakesh Sharma|Adhrit Sharma|Vivek Saini|Harbhagwan Singh|Rajdeep Singh Dhaliwal|Gurpreet Toti|",
                  null,
                  "21 March 2019 (USA)"
                ],
                [
                  "23",
                  "Notebook (2019 film)",
                  "tt9105014",
                  "https://upload.wikimedia.org/wikipedia/en/thumb/7/7f/Notebook_film_poster.jpg/220px-Notebook_film_poster.jpg",
                  "https://en.wikipedia.org/wiki/Notebook_(2019_film)",
                  "Notebook",
                  "Notebook",
                  "0",
                  "2019",
                  "115",
                  "Drama|Romance",
                  "6.8",
                  "1335",
                  "In the Kashmir valley Kabir a former army officer comes as a teacher in a school which was once run by his father.The school has no facilities and is soon to be shut without a teacher.After finding about the new teacher students start to attend the school. But the they don't like Kabir as he is strict.Kabir then comes across the diary of previous teacher Firdaus and adopts her way of teaching and becomes friend of the students.He gets to know more about Firdaus and wants to know where and what she is doing presently.",
                  "An ex-army officer  Kabir  becomes a teacher in Kashmir in a school that is in a miserable condition. Things take a turn when Kabir finds a notebook  left behind by the previous year's teacher Firdaus (Pranutan Bahl).",
                  null,
                  "Zaheer Iqbal|Pranutan Bahl|Mir Mohammed Mehroos|Mir Mohammed Zayan|Soliha Maqbool|Baba Hatim|Adiba Bhat|Hafsa Ashraf|Madikha|Bareen|Mozim Bhat|Mir Sarwar|Hemant Kher|Shrysh Zutshi|",
                  null,
                  "29 March 2019 (USA)"
                ],
                [
                  "24",
                  "Junglee (2019 film)",
                  "tt7463730",
                  "https://upload.wikimedia.org/wikipedia/en/e/e2/Junglee_film_poster.jpg",
                  "https://en.wikipedia.org/wiki/Junglee_(2019_film)",
                  "Junglee",
                  "Junglee",
                  "0",
                  "2019",
                  "115",
                  "Action|Adventure",
                  "5.3",
                  "1064",
                  "Dipankar Nair runs a Elephant sanctuary but things have turned bad as hunters are frequently killing Elephants for their tusks.His son Raj a Vet in Mumbai arrives for 10th death anniversary of his mother befriends his childhood animals Bhola and Didi.Keshav an hunter has an eye on huge tusks of Bhola which could fetch good money.Keshav kills Bhola for his tusks and also Dipankar who tries to save him.The cops arrive at funeral of Dipankar and falsely implicate him of being with hunters and also frame Raj for it.",
                  "The story revolves around a vet  who on his homecoming to his father's elephant reserve  encounters and fights an international poachers racket.",
                  null,
                  "Vidyut Jammwal|Lars Kjeldsen|",
                  null,
                  "29 March 2019 (USA)"
                ],
                [
                  "25",
                  "Gone Kesh",
                  "tt10017956",
                  "https://upload.wikimedia.org/wikipedia/en/thumb/d/d1/Gone_Kesh_film_poster.jpg/220px-Gone_Kesh_film_poster.jpg",
                  "https://en.wikipedia.org/wiki/Gone_Kesh",
                  "Gone Kesh",
                  "Gone Kesh",
                  "0",
                  "2019",
                  "110",
                  "Drama",
                  "7.1",
                  "178",
                  "Enakshi is diagnosed with Alopecia  where she begins to lose hair from her scalp. Although she finds her temporary fix to this  it begins to steal previous years of her youth and takes her life by a storm. Will she be able to find a cure?",
                  "Enakshi is diagnosed with Alopecia  where she begins to lose hair from her scalp. Although she finds her temporary fix to this  it begins to steal previous years of her youth and takes her life by a storm. Will she be able to find a cure?",
                  null,
                  "Deepika Amin|Kumar Kanchan Ghosh|Brijendra Kala|Jitendra Kumar|Mukesh Pandey|Santosh Rai|Vipin Sharma|",
                  "9 wins",
                  "29 March 2019 (India)"
                ],
                [
                  "26",
                  "Albert Pinto Ko Gussa Kyun Aata Hai?",
                  "tt4355838",
                  "https://upload.wikimedia.org/wikipedia/en/thumb/f/f5/Albert_Pinto_Ko_Gussa_Kyun_Aata_Hai_film_poster.jpg/220px-Albert_Pinto_Ko_Gussa_Kyun_Aata_Hai_film_poster.jpg",
                  "https://en.wikipedia.org/wiki/Albert_Pinto_Ko_Gussa_Kyun_Aata_Hai%3F",
                  "Albert Pinto Ko Gussa Kyun Aata Hai?",
                  "Albert Pinto Ko Gussa Kyun Aata Hai?",
                  "0",
                  "2019",
                  "100",
                  "Drama",
                  "4.8",
                  "56",
                  "Albert leaves his house one morning without telling anyone where he is going. His girlfriend Stella files a complaint with the police and when he doesn't return after days  she begins to fear. What she doesn't know is that Albert is traversing a road journey from Mumbai to Goa. Nayar who drives the vehicle accompanies him on his mission. Punctuating their cynical  witty and devastating conversations  we see Albert's flashbacks of a world where he and Stella try and weave a life together. Albert's anger stems from experiences that life has presented to him. It is this anger that is taking him on a journey to settle a score and enable him to lead a life of dignity and hope.",
                  "Albert Pinto goes missing one day and his girlfriend and family start making rounds at the police station to track him down. Unknown to them  he is on his way to Goa to carry out his first assignment as a hitman.",
                  null,
                  "Manav Kaul|Nandita Das|",
                  null,
                  "12 April 2019 (India)"
                ],
                [
                  "27",
                  "The Tashkent Files",
                  "tt8108268",
                  "https://upload.wikimedia.org/wikipedia/en/7/79/The_Tashkent_Files_poster.jpg",
                  "https://en.wikipedia.org/wiki/The_Tashkent_Files",
                  "The Tashkent Files",
                  "The Tashkent Files",
                  "0",
                  "2019",
                  "134",
                  "Drama|Mystery|Thriller",
                  "8.0",
                  "5524",
                  "The Tashkent Files is a thriller that revolves around the mysterious death of India's 2nd Prime Minister Shri Lal Bahadur Shastri and attempts to uncover if he had actually died a natural death  or  as alleged  was assassinated.",
                  "The Tashkent Files is a thriller that revolves around the mysterious death of India's 2nd Prime Minister Shri Lal Bahadur Shastri and attempts to uncover if he had actually died a natural death  or  as alleged  was assassinated.",
                  null,
                  "Naseeruddin Shah|Mithun Chakraborty|Shweta Basu Prasad|Pankaj Tripathi|Vinay Pathak|Mandira Bedi|Rajesh Sharma|Prakash Belawadi|Ankur Rathee|",
                  null,
                  "12 April 2019 (India)"
                ],
                [
                  "28",
                  "Kalank",
                  "tt6988116",
                  "https://upload.wikimedia.org/wikipedia/en/thumb/8/80/Kalank_Poster.jpg/220px-Kalank_Poster.jpg",
                  "https://en.wikipedia.org/wiki/Kalank",
                  "Kalank",
                  "Kalank",
                  "0",
                  "2019",
                  "166",
                  "Drama|Romance",
                  "3.6",
                  "9106",
                  "Set in 1945  in Pre-Independent India  the elite  opulent and solemn world of the Chaudhry family  and the wild  mysterious and musical underbelly of the town  Hira Mandi  clash when Roop Chaudhry encounters Zafar  a daredevil from Hira Mandi  unleashing deep-buried truths  secrets of betrayal and affairs that threaten to bring the both worlds crashing down.",
                  "The lives of six enigmatic characters become entangled whilst in search of love  but separated by the dichotomy between the two worlds of Husnabad  a town in North India.",
                  null,
                  "Varun Dhawan|Alia Bhatt|Aditya Roy Kapoor|Madhuri Dixit|Sonakshi Sinha|Sanjay Dutt|Kunal Khemu|Pawan Chopra|",
                  null,
                  "17 April 2019 (USA)"
                ],
                [
                  "29",
                  "Setters (film)",
                  "tt9239772",
                  "https://upload.wikimedia.org/wikipedia/en/thumb/0/08/Setters_Official_Poster.png/220px-Setters_Official_Poster.png",
                  "https://en.wikipedia.org/wiki/Setters_(film)",
                  "Setters",
                  "Setters",
                  "0",
                  "2019",
                  "126",
                  "Thriller",
                  "5.1",
                  "158",
                  "A thriller set in Benares  Jaipur  Mumbai and Delhi  Setters is about a racket profiteering from academic scams. The film follows a cat-and-mouse game between two good friends: one a cop  and the other a \"setter\" who arranges brilliant students in place of weak students to appear in examinations.",
                  "A thriller set in Benares  Jaipur  Mumbai and Delhi  Setters is about a racket profiteering from academic scams. The film follows a cat-and-mouse game between two good friends: one a cop  ...                    ",
                  null,
                  "Shreyas Talpade|Aftab Shivdasani|Sonnalli Seygall|Ishita Dutta|Pavan Malhotra|Vijay Raaz|Manu Rishi Chadha|Anil Charanjeett|Pankaj Jha|Jameel Khan|Niharika Kundu|Tanuka Laghate|Venus Singh|Neeraj Sood|",
                  null,
                  "3 May 2019 (India)"
                ],
                [
                  "30",
                  "Student of the Year 2",
                  "tt7255568",
                  "https://upload.wikimedia.org/wikipedia/en/thumb/3/3c/Student_of_the_year_2_Poster.jpg/220px-Student_of_the_year_2_Poster.jpg",
                  "https://en.wikipedia.org/wiki/Student_of_the_Year_2",
                  "Student of the Year 2",
                  "Student of the Year 2",
                  "0",
                  "2019",
                  "146",
                  "Drama|Romance|Sport",
                  "2.5",
                  "12671",
                  "A student must face off against bullies and overcome hurdles  both academic and romantic  to win his college's coveted Student of the Year trophy.",
                  "A student must face off against bullies and overcome hurdles  both academic and romantic  to win his college's coveted Student of the Year trophy.",
                  null,
                  "Tiger Shroff|Ananya Panday|Tara Sutaria|Aditya Seal|Manoj Pahwa|Ayesha Raza|Rajesh Kumar|Manasi Joshi Roy|Samir Soni|Gul Panag|Manjot Singh|Sahil Anand|Harsh Beniwal|Daljeet Singh Gujral|",
                  null,
                  "10 May 2019 (USA)"
                ],
                [
                  "31",
                  "PM Narendra Modi",
                  "tt9558612",
                  "https://upload.wikimedia.org/wikipedia/en/thumb/8/80/PM_Narendra_Modi.jpg/220px-PM_Narendra_Modi.jpg",
                  "https://en.wikipedia.org/wiki/PM_Narendra_Modi",
                  "PM Narendra Modi",
                  "PM Narendra Modi",
                  "0",
                  "2019",
                  "136",
                  "Biography|Drama",
                  "3.3",
                  "4484",
                  "Biography of India's Prime Minister Shri Narendra Modi.",
                  "Biography of India's Prime Minister Shri Narendra Modi.",
                  null,
                  "Boman Irani|Vivek Oberoi|Barkha Bisht|Darshan Kumaar|Zarina Wahab|Manoj Joshi|Suresh Oberoi|Prashant Narayanan|Yatin Karyekar|Rajendra Gupta|Anjan Srivastav|Imran Hasnee|Jay Bhatt|Akshat R Saluja|",
                  null,
                  "24 May 2019 (USA)"
                ],
                [
                  "32",
                  "De De Pyaar De",
                  "tt8647400",
                  "https://upload.wikimedia.org/wikipedia/en/thumb/c/c4/De_De_Pyaar_De_Poster.jpg/220px-De_De_Pyaar_De_Poster.jpg",
                  "https://en.wikipedia.org/wiki/De_De_Pyaar_De",
                  "De De Pyaar De",
                  "De De Pyaar De",
                  "0",
                  "2019",
                  "135",
                  "Comedy|Romance",
                  "6.6",
                  "5387",
                  "a 50 year old Aashish living London away from his family fro many years He falls in love with a 26 year Ayesha.Thou officially not divorced from his first wife Manju.Aashish wants her permission to get married to Ayesha.Upon reaching his house in India  Ayesha finds that Aashish kids are of the same age as her.Aashish introduces Ayesha as his secretary to his family he also finds that his daughter is about to get married and VK whose become close family friend is trying to woo her Manju.",
                  "A 50-year-old single father faces disapproval from his family and his ex-wife when he falls in love with a 26-year-old woman.",
                  null,
                  "Ajay Devgn|Tabu|Rakul Preet Singh|Jimmy Sheirgill|Alok Nath|Madhumalti Kapoor|Harry Anton|Gergo Baranyi|Sammy John Heaney|Bhavin Bhanushali|Gandharv Dewan|Gulnaaz Khan|Kumud Mishra|Sunny Singh Nijjar|",
                  null,
                  "17 May 2019 (USA)"
                ],
                [
                  "33",
                  "India's Most Wanted (film)",
                  "tt8484942",
                  "https://upload.wikimedia.org/wikipedia/en/a/ae/India%27s_Most_Wanted_poster.jpg",
                  "https://en.wikipedia.org/wiki/India%27s_Most_Wanted_(film)",
                  "India's Most Wanted",
                  "India's Most Wanted",
                  "0",
                  "2019",
                  "123",
                  "Action|Thriller",
                  "4.4",
                  "1449",
                  "India's Most Wanted is a Bollywood action thriller film directed by Raj Kumar Gupta and starring Arjun Kapoor. The film is about tracking a terrorist in a secret mission and arresting him without firing bullets. It pays tribute to unsung heroes of our society.",
                  "A group of intelligence officers embark on a top secret mission to track down a wanted international criminal.",
                  null,
                  "Arjun Kapoor|Sudev Nair|Rajesh Sharma|Prasanth|Santilal Mukherjee|",
                  null,
                  "24 May 2019 (USA)"
                ],
                [
                  "34",
                  "Yeh Hai India",
                  "tt5525846",
                  "https://upload.wikimedia.org/wikipedia/en/thumb/d/db/Yeh_Hai_India_Official_Poster.jpg/220px-Yeh_Hai_India_Official_Poster.jpg",
                  "https://en.wikipedia.org/wiki/Yeh_Hai_India",
                  "Yeh Hai India",
                  "Yeh Hai India",
                  "0",
                  "2017",
                  "128",
                  "Action|Adventure|Drama",
                  "5.7",
                  "169",
                  "Yeh Hai India  follows the story of a 25 years old NRI  who is born and brought up in U.K and shares the same stereotype views of India  which is known for its vast population  pollution and poverty. However protagonist finds new development in media or probably an 'other side of same coin' of India  which is also known for successful mars mission in first attempt  a nation which proudly holds title 'God of Cricket' for Sachin Tendulkar  who is again an Indian and a nation which is known for its holy generosity with icons like Mother Teresa\".",
                  "Yeh Hai India  follows the story of a 25 years old NRI  who is born and brought up in UK. He shares the same stereotypical views about India that most NRIs have and how his perception changes.",
                  "A Film for Every Indian",
                  "Gavie Chahal|Mohan Agashe|Mohan Joshi|Lom Harsh|",
                  "2 wins & 1 nomination",
                  "24 May 2019 (India)"
                ],
                [
                  "35",
                  "Khamoshi (2019 film)",
                  "tt8268972",
                  "https://upload.wikimedia.org/wikipedia/en/e/ef/Khamoshi_2019.jpg",
                  "https://en.wikipedia.org/wiki/Khamoshi_(2019_film)",
                  "Khamoshi",
                  "Khamoshi",
                  "0",
                  "2019",
                  "96",
                  "Horror|Thriller",
                  "3.7",
                  "153",
                  "A remake of an English movie Hush (2016)  where a deaf and mute girl must fight for her life when a killer appears at her door.",
                  "A remake of an English movie Hush (2016)  where a deaf and mute girl must fight for her life when a killer appears at her door.",
                  null,
                  "Prabhu Deva|Tamannaah Bhatia|Bhoomika Chawla|",
                  null,
                  "14 June 2019 (India)"
                ],
                [
                  "36",
                  "Kabir Singh",
                  "tt8983202",
                  "https://upload.wikimedia.org/wikipedia/en/thumb/d/dc/Kabir_Singh.jpg/220px-Kabir_Singh.jpg",
                  "https://en.wikipedia.org/wiki/Kabir_Singh",
                  "Kabir Singh",
                  "Kabir Singh",
                  "0",
                  "2019",
                  "173",
                  "Drama|Romance",
                  "7.2",
                  "20535",
                  "This Sandeep Vanga directorial is a remake of the 2017 Telugu movie Arjun Reddy. The plot revolves around an alcoholic surgeon battling temper issues. Things get worse as he watches the love of his life marry another man. High on emotions coupled with impressive action the film promises an intense watch.",
                  "Kabir Singh is a remake of a Telugu movie Arjun Reddy (2017)  where a short-tempered house surgeon gets used to drugs and drinks when his girlfriend is forced to marry another person.",
                  null,
                  "Shahid Kapoor|Kiara Advani|Soham Majumdar|Arjan Bajwa|Suresh Oberoi|Kamini Kaushal|Adil Hussain|Nikita Dutta|Amit Sharma|Anurag Arora|Dolly Mattoo|Aanchal Chauhan|Suparna Marwah|Swati Seth|",
                  null,
                  "20 June 2019 (USA)"
                ],
                [
                  "37",
                  "Article 15 (film)",
                  "tt10324144",
                  "https://upload.wikimedia.org/wikipedia/en/thumb/1/11/Article_15_Poster.jpg/220px-Article_15_Poster.jpg",
                  "https://en.wikipedia.org/wiki/Article_15_(film)",
                  "Article 15",
                  "Article 15",
                  "0",
                  "2019",
                  "130",
                  "Crime|Drama",
                  "8.3",
                  "13417",
                  "In the rural heartlands of India  an upright police officer sets out on a crusade against violent caste-based crimes and discrimination.",
                  "In the rural heartlands of India  an upright police officer sets out on a crusade against violent caste-based crimes and discrimination.",
                  "Farq Bahut Kar Liya| Ab Farq Laayenge.",
                  "Ayushmann Khurrana|Nassar|Manoj Pahwa|Kumud Mishra|Isha Talwar|Sayani Gupta|Mohammed Zeeshan Ayyub|Subhrajyoti Barat|Sushil Pandey|Aakash Dabhade|Ashish Verma|Ronjini Chakraborty|Veen|Sumbul Touqueer|",
                  "1 win",
                  "28 June 2019 (USA)"
                ],
                [
                  "38",
                  "One Day: Justice Delivered",
                  "tt8130558",
                  "https://upload.wikimedia.org/wikipedia/en/f/f7/One_Day-_Justice_Delivered.jpg",
                  "https://en.wikipedia.org/wiki/One_Day:_Justice_Delivered",
                  "One Day: Justice Delivered",
                  "One Day: Justice Delivered",
                  "0",
                  "2019",
                  "124",
                  "Action|Crime|Thriller",
                  "6.8",
                  "590",
                  "A Crime Branch Special Officer Investigates the Serial disappearance of high profile individuals in a state capital.",
                  "A Crime Branch Special Officer Investigates the Serial disappearance of high profile individuals in a state capital.",
                  null,
                  "Anupam Kher|Kumud Mishra|Esha Gupta|Zakir Hussain|Rajesh Sharma|Murli Sharma|Deepshika Nagpal|",
                  null,
                  "5 July 2019 (India)"
                ],
                [
                  "39",
                  "Hume Tumse Pyaar Kitna",
                  "tt6862542",
                  "https://upload.wikimedia.org/wikipedia/en/thumb/2/2c/Hume_Tumse_Pyaar_Kitna.jpg/220px-Hume_Tumse_Pyaar_Kitna.jpg",
                  "https://en.wikipedia.org/wiki/Hume_Tumse_Pyaar_Kitna",
                  "Hume Tumse Pyaar Kitna",
                  "Hume Tumse Pyaar Kitna",
                  "0",
                  "2019",
                  "91",
                  "Action|Drama|Romance",
                  "7.4",
                  "85",
                  "It is about limerence of Dhruv (played by Bohra) resulting from an obsessive attraction to Ananya (played by Banerjee).",
                  "It is about limerence of Dhruv (played by Bohra) resulting from an obsessive attraction to Ananya (played by Banerjee).",
                  null,
                  "Karanvir Bohra|Priya Banerjee|",
                  null,
                  "5 July 2019 (India)"
                ],
                [
                  "40",
                  "Super 30 (film)",
                  "tt7485048",
                  "https://upload.wikimedia.org/wikipedia/en/thumb/2/29/Super_30_The_Film.jpg/220px-Super_30_The_Film.jpg",
                  "https://en.wikipedia.org/wiki/Super_30_(film)",
                  "Super 30",
                  "Super 30",
                  "0",
                  "2019",
                  "154",
                  "Biography|Drama",
                  "8.2",
                  "13972",
                  "Anand Kumar  a Mathematics genius from a modest family in Bihar who is made to believe that only a King's son can become a king is on a mission to prove that even the poor man can create some of the world's most genius minds. He starts a training program named 'Super 30' to help 30 IIT aspirants crack the entrance test and make them highly successful professionals.",
                  "Based on life of Patna-based mathematician Anand Kumar who runs the famed Super 30 program for IIT aspirants in Patna.",
                  "Inspired by the Life of Anand Kumar & His Students",
                  "Hrithik Roshan|Mrunal Thakur|Nandish Singh|Virendra Saxena|Sadhana Singh|Aditya Srivastava|Sanket Deshpande|Pankaj Tripathi|Vaibhav Gupta|Ali Haji|Rajesh Sharma|Deepali Kumar|Chittaranjan Giri|Ganesh Kumar|",
                  null,
                  "12 July 2019 (USA)"
                ],
                [
                  "41",
                  "Family of Thakurganj",
                  "tt8897986",
                  "https://upload.wikimedia.org/wikipedia/en/9/99/Family_of_Thakurganj.jpg",
                  "https://en.wikipedia.org/wiki/Family_of_Thakurganj",
                  "Family of Thakurganj",
                  "Family of Thakurganj",
                  "0",
                  "2019",
                  "127",
                  "Action|Drama",
                  "9.4",
                  "895",
                  "The film is based on small town of North India. Film's story is about confrontation of love and thoughts. Along with entertainment.",
                  "The film is based on small town of North India. Film's story is about confrontation of love and thoughts. Along with entertainment.",
                  null,
                  "Jimmy Sheirgill|Mahie Gill|Nandish Singh|Pranati Rai Prakash|Saurabh Shukla|Sudhir Pandey|Supriya Pilgaonkar|Pavan Malhotra|Yashpal Sharma|Mukesh Tiwari|Raj Zutshi|Salil Acharya|Shivika Rishi|Lokesh Tilakdhari|",
                  null,
                  "19 July 2019 (India)"
                ],
                [
                  "42",
                  "Batla House",
                  "tt8869978",
                  "https://upload.wikimedia.org/wikipedia/en/e/ed/Batla_House_poster.jpg",
                  "https://en.wikipedia.org/wiki/Batla_House",
                  "Batla House",
                  "Batla House",
                  "0",
                  "2019",
                  "146",
                  "Action|Drama|Thriller",
                  "7.3",
                  "5556",
                  "This action thriller is based on the real-life incident of 'Batla House Encounter'  officially known as Operation Batla House  to the silver screen. The incident took place on September 19  2008  against Indian Mujahideen (IM) terrorists in Batla House locality in Jamia Nagar  Delhi.",
                  "After a deadly encounter  a police officer works to prove that the police acted lawfully.",
                  "The Story of India's Most Decorated / Controversial Cop",
                  "John Abraham|Nora Fatehi|Mrunal Thakur|Rajesh Sharma|Ravi Kishan|Sonam Arora|Sahidur Rahaman|Manish Chaudhary|Anil Rastogi|Kranti Prakash Jha|Amruta Sant|Anil Khopkar|Aditi Gulati|Jitendra Trehan|",
                  null,
                  "15 August 2019 (USA)"
                ],
                [
                  "43",
                  "Jhootha Kahin Ka",
                  "tt8206760",
                  "https://upload.wikimedia.org/wikipedia/en/a/a6/Jhootha_Kahin_Ka_Poster.jpg",
                  "https://en.wikipedia.org/wiki/Jhootha_Kahin_Ka",
                  "Jhootha Kahin Ka",
                  "Jhootha Kahin Ka",
                  "0",
                  "2019",
                  "133",
                  "Comedy",
                  "4.8",
                  "215",
                  "Two boys go to Mauritius to study and love it so much there  that they are reluctant to return home. Rishi plays Omkar's dad who turns up from the village to surprise him and is in turn surprised by his son's lifestyle.",
                  "Two boys go to Mauritius to study and love it so much there  that they are reluctant to return home. Rishi plays Omkar's dad who turns up from the village to surprise him and is in turn surprised by his son's lifestyle.",
                  null,
                  "Rishi Kapoor|Jimmy Sheirgill|Sunny Singh Nijjar|Omkar Kapoor|Nimisha Mehta|Rucha Vaidya|Manoj Joshi|Lillete Dubey|Rajesh Sharma|Gurbachan Singh|Rakesh Bedi|Neelu Kohli|Shobha Singh|Sunny Leone|",
                  null,
                  "19 July 2019 (India)"
                ],
                [
                  "44",
                  "Judgementall Hai Kya",
                  "tt8108196",
                  "https://upload.wikimedia.org/wikipedia/en/c/c8/Judgementall_Hai_Kya_poster.jpg",
                  "https://en.wikipedia.org/wiki/Judgementall_Hai_Kya",
                  "Judgementall Hai Kya",
                  "Judgementall Hai Kya",
                  "0",
                  "2019",
                  "121",
                  "Comedy|Drama|Thriller",
                  "6.0",
                  "3269",
                  "Following the story of two quirky individuals whose lives pivot between reality and illusions.",
                  "Following the story of two quirky individuals whose lives pivot between reality and illusions.",
                  null,
                  "Kangana Ranaut|Rajkummar Rao|Amyra Dastur|Amrita Puri|Jimmy Sheirgill|",
                  null,
                  "26 July 2019 (USA)"
                ],
                [
                  "45",
                  "Chicken Curry Law",
                  "tt7189494",
                  "https://upload.wikimedia.org/wikipedia/en/thumb/4/4d/Chicken_Curry_Law_Poster.jpg/220px-Chicken_Curry_Law_Poster.jpg",
                  "https://en.wikipedia.org/wiki/Chicken_Curry_Law",
                  "Chicken Curry Law",
                  "Chicken Curry Law",
                  "0",
                  "2019",
                  "127",
                  "Drama",
                  "6.0",
                  "19",
                  "Maya a foreigner who comes to India for her career gets kidnapped and raped by two politically influential men Makiya and Nana. She is left on the streets of Mumbai half naked by them. She is helped by Satya Deshmukh  a local social activist. Satya Deshmukh helps Maya find Sitapati Shukla who fights her case in the court against the political goons. But in every step  Maya is proven wrong and her behaviour is blamed for being raped. With all the drama unfolding  Sitapati tries to find the proof against Makiya and Nana. With an interesting and unexpected climax  will Maya get justice? Ashutosh Rana  Nivedita Bhattacharya  Makarand Deshpande  Zakir Hussain  Aman Verma  and Polish actress  Nataliya Janoszek star in this tale to shatter stereotypical assumptions faced by foreign women in India and upholds our cultural tradition of Atithi Devo Bhava.",
                  "An ambitious and innocent girl falls prey to the power of money and politics.",
                  null,
                  "Natalia Janoszek|Ashutosh Rana|Makrand Deshpande|Nivedita Bhattacharya|Mukesh Hariawala|Zakir Hussain|Aman Verma|",
                  null,
                  "9 August 2019 (India)"
                ],
                [
                  "46",
                  "Arjun Patiala",
                  "tt7881524",
                  "https://upload.wikimedia.org/wikipedia/en/thumb/8/83/Arjun_Patiala_poster.jpg/220px-Arjun_Patiala_poster.jpg",
                  "https://en.wikipedia.org/wiki/Arjun_Patiala",
                  "Arjun Patiala",
                  "Arjun Patiala",
                  "0",
                  "2019",
                  "107",
                  "Action|Comedy",
                  "4.1",
                  "676",
                  "Arjun Patiala(Diljit Dosanjh)has recently been initiated into the police service. A man who has spend most of his early life disciplining himself in Judo and getting into the forces now decides its time to take it easy. He's introduced to his loyal \"chita munshi\" who soon turns into a confidant- Onida Singh. ( Varun Sharma) We quickly realise Arjun Patiala's quirks - That he is fond of women  and even fonder of his drink. But his quirky  original and unusual ideas help him reduce the crime rate in the city without even moving a finger. Along the way Arjun falls in love with a firebrand news reporter - Ritu Randhawa (Kriti Sanon) who might pull the curtain on his deeds. A laugh riot film  Arjun Patiala will leave you in splits.These unforgettable characters are definitely here to stay.",
                  "This spoof comedy narrates the story of a cop Arjun Patiala (Diljit Dosanjh) and his sidekick Onidda Singh (Varun Sharma). Together  will they be able to accomplish their mission of a crime-free town with their goofy style of policing?",
                  null,
                  "Diljit Dosanjh|Kriti Sanon|Varun Sharma|Ronit Roy|Seema Bhargava|Mohammed Zeeshan Ayyub|Amit Mehra|",
                  null,
                  "26 July 2019 (USA)"
                ],
                [
                  "47",
                  "Jabariya Jodi",
                  "tt8785426",
                  "https://upload.wikimedia.org/wikipedia/en/9/97/Jabariya_Jodi_poster.jpg",
                  "https://en.wikipedia.org/wiki/Jabariya_Jodi",
                  "Jabariya Jodi",
                  "Jabariya Jodi",
                  "0",
                  "2019",
                  "125",
                  "Action|Comedy|Drama",
                  "4.2",
                  "767",
                  "A thug helps kidnap grooms in order to avoid paying out dowries for their upcoming marriage.",
                  "A thug helps kidnap grooms in order to avoid paying out dowries for their upcoming marriage.",
                  null,
                  "Sidharth Malhotra|Parineeti Chopra|Javed Jaffrey|Sanjay Mishra|Aparshakti Khurana|",
                  null,
                  "9 August 2019 (USA)"
                ],
                [
                  "48",
                  "Pranaam",
                  "tt7228072",
                  "https://upload.wikimedia.org/wikipedia/en/thumb/0/09/Pranaam_poster.jpg/220px-Pranaam_poster.jpg",
                  "https://en.wikipedia.org/wiki/Pranaam",
                  "Pranaam",
                  "Pranaam",
                  "0",
                  "2019",
                  "\\N",
                  "Action|Crime|Drama",
                  "7.0",
                  "43",
                  "A peon's son who is an aspiring IAS officer is compelled to change his path leading him to turn into a gangster.",
                  "A peon's son who is an aspiring IAS officer is compelled to change his path leading him to turn into a gangster.",
                  null,
                  "Rajeev Khandelwal|Atul Kulkarni|Abhimanyu Singh|Sameksha|Vikram Gokhale|Aniruddh Dave|Apoorva Arora|S.M. Zaheer|",
                  null,
                  null
                ],
                [
                  "49",
                  "The Sky Is Pink",
                  "tt8902990",
                  "https://upload.wikimedia.org/wikipedia/en/thumb/9/93/The_Sky_Is_Pink.jpg/220px-The_Sky_Is_Pink.jpg",
                  "https://en.wikipedia.org/wiki/The_Sky_Is_Pink",
                  "The Sky Is Pink",
                  "The Sky Is Pink",
                  "0",
                  "2019",
                  "143",
                  "Drama|Family|Romance",
                  "6.6",
                  "1659",
                  "The Sky Is Pink is the incredible love story of a couple spanning 25 years  told through the lens of their teenage daughter. She is sassy  sardonic  spunky and also...dead. A fact she nonchalantly mentions at the very outset. \"Get over it. It's quite cool actually. You'll see when you get here (which you do know you will right?!)\" Unexpectedly humorous  warm and heart wrenching all at once as the magic of life and beauty of death manifest in one family's unusual  courageous journey in this 100% true story.",
                  "It is based on the love story of a couple spanning 25 years  told through the lens of their spunky teenage daughter Aisha Chaudhary  who was diagnosed with a Pulmonary fibrosis .",
                  "Har Ek Ka Apna Sky Hota Hain",
                  "Zaira Wasim|Priyanka Chopra|Farhan Akhtar|Rohit Saraf|",
                  null,
                  "11 October 2019 (USA)"
                ]
              ],
              "shape": {
                "columns": 18,
                "rows": 1629
              }
            },
            "text/html": [
              "<div>\n",
              "<style scoped>\n",
              "    .dataframe tbody tr th:only-of-type {\n",
              "        vertical-align: middle;\n",
              "    }\n",
              "\n",
              "    .dataframe tbody tr th {\n",
              "        vertical-align: top;\n",
              "    }\n",
              "\n",
              "    .dataframe thead th {\n",
              "        text-align: right;\n",
              "    }\n",
              "</style>\n",
              "<table border=\"1\" class=\"dataframe\">\n",
              "  <thead>\n",
              "    <tr style=\"text-align: right;\">\n",
              "      <th></th>\n",
              "      <th>title_x</th>\n",
              "      <th>imdb_id</th>\n",
              "      <th>poster_path</th>\n",
              "      <th>wiki_link</th>\n",
              "      <th>title_y</th>\n",
              "      <th>original_title</th>\n",
              "      <th>is_adult</th>\n",
              "      <th>year_of_release</th>\n",
              "      <th>runtime</th>\n",
              "      <th>genres</th>\n",
              "      <th>imdb_rating</th>\n",
              "      <th>imdb_votes</th>\n",
              "      <th>story</th>\n",
              "      <th>summary</th>\n",
              "      <th>tagline</th>\n",
              "      <th>actors</th>\n",
              "      <th>wins_nominations</th>\n",
              "      <th>release_date</th>\n",
              "    </tr>\n",
              "  </thead>\n",
              "  <tbody>\n",
              "    <tr>\n",
              "      <th>0</th>\n",
              "      <td>Uri: The Surgical Strike</td>\n",
              "      <td>tt8291224</td>\n",
              "      <td>https://upload.wikimedia.org/wikipedia/en/thum...</td>\n",
              "      <td>https://en.wikipedia.org/wiki/Uri:_The_Surgica...</td>\n",
              "      <td>Uri: The Surgical Strike</td>\n",
              "      <td>Uri: The Surgical Strike</td>\n",
              "      <td>0</td>\n",
              "      <td>2019</td>\n",
              "      <td>138</td>\n",
              "      <td>Action|Drama|War</td>\n",
              "      <td>8.4</td>\n",
              "      <td>35112</td>\n",
              "      <td>Divided over five chapters  the film chronicle...</td>\n",
              "      <td>Indian army special forces execute a covert op...</td>\n",
              "      <td>NaN</td>\n",
              "      <td>Vicky Kaushal|Paresh Rawal|Mohit Raina|Yami Ga...</td>\n",
              "      <td>4 wins</td>\n",
              "      <td>11 January 2019 (USA)</td>\n",
              "    </tr>\n",
              "    <tr>\n",
              "      <th>1</th>\n",
              "      <td>Battalion 609</td>\n",
              "      <td>tt9472208</td>\n",
              "      <td>NaN</td>\n",
              "      <td>https://en.wikipedia.org/wiki/Battalion_609</td>\n",
              "      <td>Battalion 609</td>\n",
              "      <td>Battalion 609</td>\n",
              "      <td>0</td>\n",
              "      <td>2019</td>\n",
              "      <td>131</td>\n",
              "      <td>War</td>\n",
              "      <td>4.1</td>\n",
              "      <td>73</td>\n",
              "      <td>The story revolves around a cricket match betw...</td>\n",
              "      <td>The story of Battalion 609 revolves around a c...</td>\n",
              "      <td>NaN</td>\n",
              "      <td>Vicky Ahuja|Shoaib Ibrahim|Shrikant Kamat|Elen...</td>\n",
              "      <td>NaN</td>\n",
              "      <td>11 January 2019 (India)</td>\n",
              "    </tr>\n",
              "    <tr>\n",
              "      <th>2</th>\n",
              "      <td>The Accidental Prime Minister (film)</td>\n",
              "      <td>tt6986710</td>\n",
              "      <td>https://upload.wikimedia.org/wikipedia/en/thum...</td>\n",
              "      <td>https://en.wikipedia.org/wiki/The_Accidental_P...</td>\n",
              "      <td>The Accidental Prime Minister</td>\n",
              "      <td>The Accidental Prime Minister</td>\n",
              "      <td>0</td>\n",
              "      <td>2019</td>\n",
              "      <td>112</td>\n",
              "      <td>Biography|Drama</td>\n",
              "      <td>6.1</td>\n",
              "      <td>5549</td>\n",
              "      <td>Based on the memoir by Indian policy analyst S...</td>\n",
              "      <td>Explores Manmohan Singh's tenure as the Prime ...</td>\n",
              "      <td>NaN</td>\n",
              "      <td>Anupam Kher|Akshaye Khanna|Aahana Kumra|Atul S...</td>\n",
              "      <td>NaN</td>\n",
              "      <td>11 January 2019 (USA)</td>\n",
              "    </tr>\n",
              "    <tr>\n",
              "      <th>3</th>\n",
              "      <td>Why Cheat India</td>\n",
              "      <td>tt8108208</td>\n",
              "      <td>https://upload.wikimedia.org/wikipedia/en/thum...</td>\n",
              "      <td>https://en.wikipedia.org/wiki/Why_Cheat_India</td>\n",
              "      <td>Why Cheat India</td>\n",
              "      <td>Why Cheat India</td>\n",
              "      <td>0</td>\n",
              "      <td>2019</td>\n",
              "      <td>121</td>\n",
              "      <td>Crime|Drama</td>\n",
              "      <td>6.0</td>\n",
              "      <td>1891</td>\n",
              "      <td>The movie focuses on existing malpractices in ...</td>\n",
              "      <td>The movie focuses on existing malpractices in ...</td>\n",
              "      <td>NaN</td>\n",
              "      <td>Emraan Hashmi|Shreya Dhanwanthary|Snighdadeep ...</td>\n",
              "      <td>NaN</td>\n",
              "      <td>18 January 2019 (USA)</td>\n",
              "    </tr>\n",
              "    <tr>\n",
              "      <th>4</th>\n",
              "      <td>Evening Shadows</td>\n",
              "      <td>tt6028796</td>\n",
              "      <td>NaN</td>\n",
              "      <td>https://en.wikipedia.org/wiki/Evening_Shadows</td>\n",
              "      <td>Evening Shadows</td>\n",
              "      <td>Evening Shadows</td>\n",
              "      <td>0</td>\n",
              "      <td>2018</td>\n",
              "      <td>102</td>\n",
              "      <td>Drama</td>\n",
              "      <td>7.3</td>\n",
              "      <td>280</td>\n",
              "      <td>While gay rights and marriage equality has bee...</td>\n",
              "      <td>Under the 'Evening Shadows'  truth often plays...</td>\n",
              "      <td>NaN</td>\n",
              "      <td>Mona Ambegaonkar|Ananth Narayan Mahadevan|Deva...</td>\n",
              "      <td>17 wins &amp; 1 nomination</td>\n",
              "      <td>11 January 2019 (India)</td>\n",
              "    </tr>\n",
              "    <tr>\n",
              "      <th>...</th>\n",
              "      <td>...</td>\n",
              "      <td>...</td>\n",
              "      <td>...</td>\n",
              "      <td>...</td>\n",
              "      <td>...</td>\n",
              "      <td>...</td>\n",
              "      <td>...</td>\n",
              "      <td>...</td>\n",
              "      <td>...</td>\n",
              "      <td>...</td>\n",
              "      <td>...</td>\n",
              "      <td>...</td>\n",
              "      <td>...</td>\n",
              "      <td>...</td>\n",
              "      <td>...</td>\n",
              "      <td>...</td>\n",
              "      <td>...</td>\n",
              "      <td>...</td>\n",
              "    </tr>\n",
              "    <tr>\n",
              "      <th>1624</th>\n",
              "      <td>Tera Mera Saath Rahen</td>\n",
              "      <td>tt0301250</td>\n",
              "      <td>https://upload.wikimedia.org/wikipedia/en/2/2b...</td>\n",
              "      <td>https://en.wikipedia.org/wiki/Tera_Mera_Saath_...</td>\n",
              "      <td>Tera Mera Saath Rahen</td>\n",
              "      <td>Tera Mera Saath Rahen</td>\n",
              "      <td>0</td>\n",
              "      <td>2001</td>\n",
              "      <td>148</td>\n",
              "      <td>Drama</td>\n",
              "      <td>4.9</td>\n",
              "      <td>278</td>\n",
              "      <td>Raj Dixit lives with his younger brother  Rahu...</td>\n",
              "      <td>A man is torn between his handicapped brother ...</td>\n",
              "      <td>NaN</td>\n",
              "      <td>Ajay Devgn|Sonali Bendre|Namrata Shirodkar|Pre...</td>\n",
              "      <td>NaN</td>\n",
              "      <td>7 November 2001 (India)</td>\n",
              "    </tr>\n",
              "    <tr>\n",
              "      <th>1625</th>\n",
              "      <td>Yeh Zindagi Ka Safar</td>\n",
              "      <td>tt0298607</td>\n",
              "      <td>https://upload.wikimedia.org/wikipedia/en/thum...</td>\n",
              "      <td>https://en.wikipedia.org/wiki/Yeh_Zindagi_Ka_S...</td>\n",
              "      <td>Yeh Zindagi Ka Safar</td>\n",
              "      <td>Yeh Zindagi Ka Safar</td>\n",
              "      <td>0</td>\n",
              "      <td>2001</td>\n",
              "      <td>146</td>\n",
              "      <td>Drama</td>\n",
              "      <td>3.0</td>\n",
              "      <td>133</td>\n",
              "      <td>Hindi pop-star  Sarina Devan  lives a wealthy ...</td>\n",
              "      <td>A singer finds out she was adopted when the ed...</td>\n",
              "      <td>NaN</td>\n",
              "      <td>Ameesha Patel|Jimmy Sheirgill|Nafisa Ali|Gulsh...</td>\n",
              "      <td>NaN</td>\n",
              "      <td>16 November 2001 (India)</td>\n",
              "    </tr>\n",
              "    <tr>\n",
              "      <th>1626</th>\n",
              "      <td>Sabse Bada Sukh</td>\n",
              "      <td>tt0069204</td>\n",
              "      <td>NaN</td>\n",
              "      <td>https://en.wikipedia.org/wiki/Sabse_Bada_Sukh</td>\n",
              "      <td>Sabse Bada Sukh</td>\n",
              "      <td>Sabse Bada Sukh</td>\n",
              "      <td>0</td>\n",
              "      <td>2018</td>\n",
              "      <td>\\N</td>\n",
              "      <td>Comedy|Drama</td>\n",
              "      <td>6.1</td>\n",
              "      <td>13</td>\n",
              "      <td>Village born Lalloo re-locates to Bombay  and ...</td>\n",
              "      <td>Village born Lalloo re-locates to Bombay  and ...</td>\n",
              "      <td>NaN</td>\n",
              "      <td>Vijay Arora|Asrani|Rajni Bala|Kumud Damle|Utpa...</td>\n",
              "      <td>NaN</td>\n",
              "      <td>NaN</td>\n",
              "    </tr>\n",
              "    <tr>\n",
              "      <th>1627</th>\n",
              "      <td>Daaka</td>\n",
              "      <td>tt10833860</td>\n",
              "      <td>https://upload.wikimedia.org/wikipedia/en/thum...</td>\n",
              "      <td>https://en.wikipedia.org/wiki/Daaka</td>\n",
              "      <td>Daaka</td>\n",
              "      <td>Daaka</td>\n",
              "      <td>0</td>\n",
              "      <td>2019</td>\n",
              "      <td>136</td>\n",
              "      <td>Action</td>\n",
              "      <td>7.4</td>\n",
              "      <td>38</td>\n",
              "      <td>Shinda tries robbing a bank so he can be wealt...</td>\n",
              "      <td>Shinda tries robbing a bank so he can be wealt...</td>\n",
              "      <td>NaN</td>\n",
              "      <td>Gippy Grewal|Zareen Khan|</td>\n",
              "      <td>NaN</td>\n",
              "      <td>1 November 2019 (USA)</td>\n",
              "    </tr>\n",
              "    <tr>\n",
              "      <th>1628</th>\n",
              "      <td>Humsafar</td>\n",
              "      <td>tt2403201</td>\n",
              "      <td>https://upload.wikimedia.org/wikipedia/en/thum...</td>\n",
              "      <td>https://en.wikipedia.org/wiki/Humsafar</td>\n",
              "      <td>Humsafar</td>\n",
              "      <td>Humsafar</td>\n",
              "      <td>0</td>\n",
              "      <td>2011</td>\n",
              "      <td>35</td>\n",
              "      <td>Drama|Romance</td>\n",
              "      <td>9.0</td>\n",
              "      <td>2968</td>\n",
              "      <td>Sara and Ashar are childhood friends who share...</td>\n",
              "      <td>Ashar and Khirad are forced to get married due...</td>\n",
              "      <td>NaN</td>\n",
              "      <td>Fawad Khan|</td>\n",
              "      <td>NaN</td>\n",
              "      <td>TV Series (2011–2012)</td>\n",
              "    </tr>\n",
              "  </tbody>\n",
              "</table>\n",
              "<p>1629 rows × 18 columns</p>\n",
              "</div>"
            ],
            "text/plain": [
              "                                   title_x     imdb_id  \\\n",
              "0                 Uri: The Surgical Strike   tt8291224   \n",
              "1                            Battalion 609   tt9472208   \n",
              "2     The Accidental Prime Minister (film)   tt6986710   \n",
              "3                          Why Cheat India   tt8108208   \n",
              "4                          Evening Shadows   tt6028796   \n",
              "...                                    ...         ...   \n",
              "1624                 Tera Mera Saath Rahen   tt0301250   \n",
              "1625                  Yeh Zindagi Ka Safar   tt0298607   \n",
              "1626                       Sabse Bada Sukh   tt0069204   \n",
              "1627                                 Daaka  tt10833860   \n",
              "1628                              Humsafar   tt2403201   \n",
              "\n",
              "                                            poster_path  \\\n",
              "0     https://upload.wikimedia.org/wikipedia/en/thum...   \n",
              "1                                                   NaN   \n",
              "2     https://upload.wikimedia.org/wikipedia/en/thum...   \n",
              "3     https://upload.wikimedia.org/wikipedia/en/thum...   \n",
              "4                                                   NaN   \n",
              "...                                                 ...   \n",
              "1624  https://upload.wikimedia.org/wikipedia/en/2/2b...   \n",
              "1625  https://upload.wikimedia.org/wikipedia/en/thum...   \n",
              "1626                                                NaN   \n",
              "1627  https://upload.wikimedia.org/wikipedia/en/thum...   \n",
              "1628  https://upload.wikimedia.org/wikipedia/en/thum...   \n",
              "\n",
              "                                              wiki_link  \\\n",
              "0     https://en.wikipedia.org/wiki/Uri:_The_Surgica...   \n",
              "1           https://en.wikipedia.org/wiki/Battalion_609   \n",
              "2     https://en.wikipedia.org/wiki/The_Accidental_P...   \n",
              "3         https://en.wikipedia.org/wiki/Why_Cheat_India   \n",
              "4         https://en.wikipedia.org/wiki/Evening_Shadows   \n",
              "...                                                 ...   \n",
              "1624  https://en.wikipedia.org/wiki/Tera_Mera_Saath_...   \n",
              "1625  https://en.wikipedia.org/wiki/Yeh_Zindagi_Ka_S...   \n",
              "1626      https://en.wikipedia.org/wiki/Sabse_Bada_Sukh   \n",
              "1627                https://en.wikipedia.org/wiki/Daaka   \n",
              "1628             https://en.wikipedia.org/wiki/Humsafar   \n",
              "\n",
              "                            title_y                 original_title  is_adult  \\\n",
              "0          Uri: The Surgical Strike       Uri: The Surgical Strike         0   \n",
              "1                     Battalion 609                  Battalion 609         0   \n",
              "2     The Accidental Prime Minister  The Accidental Prime Minister         0   \n",
              "3                   Why Cheat India                Why Cheat India         0   \n",
              "4                   Evening Shadows                Evening Shadows         0   \n",
              "...                             ...                            ...       ...   \n",
              "1624          Tera Mera Saath Rahen          Tera Mera Saath Rahen         0   \n",
              "1625           Yeh Zindagi Ka Safar           Yeh Zindagi Ka Safar         0   \n",
              "1626                Sabse Bada Sukh                Sabse Bada Sukh         0   \n",
              "1627                          Daaka                          Daaka         0   \n",
              "1628                       Humsafar                       Humsafar         0   \n",
              "\n",
              "      year_of_release runtime            genres  imdb_rating  imdb_votes  \\\n",
              "0                2019     138  Action|Drama|War          8.4       35112   \n",
              "1                2019     131               War          4.1          73   \n",
              "2                2019     112   Biography|Drama          6.1        5549   \n",
              "3                2019     121       Crime|Drama          6.0        1891   \n",
              "4                2018     102             Drama          7.3         280   \n",
              "...               ...     ...               ...          ...         ...   \n",
              "1624             2001     148             Drama          4.9         278   \n",
              "1625             2001     146             Drama          3.0         133   \n",
              "1626             2018      \\N      Comedy|Drama          6.1          13   \n",
              "1627             2019     136            Action          7.4          38   \n",
              "1628             2011      35     Drama|Romance          9.0        2968   \n",
              "\n",
              "                                                  story  \\\n",
              "0     Divided over five chapters  the film chronicle...   \n",
              "1     The story revolves around a cricket match betw...   \n",
              "2     Based on the memoir by Indian policy analyst S...   \n",
              "3     The movie focuses on existing malpractices in ...   \n",
              "4     While gay rights and marriage equality has bee...   \n",
              "...                                                 ...   \n",
              "1624  Raj Dixit lives with his younger brother  Rahu...   \n",
              "1625  Hindi pop-star  Sarina Devan  lives a wealthy ...   \n",
              "1626  Village born Lalloo re-locates to Bombay  and ...   \n",
              "1627  Shinda tries robbing a bank so he can be wealt...   \n",
              "1628  Sara and Ashar are childhood friends who share...   \n",
              "\n",
              "                                                summary tagline  \\\n",
              "0     Indian army special forces execute a covert op...     NaN   \n",
              "1     The story of Battalion 609 revolves around a c...     NaN   \n",
              "2     Explores Manmohan Singh's tenure as the Prime ...     NaN   \n",
              "3     The movie focuses on existing malpractices in ...     NaN   \n",
              "4     Under the 'Evening Shadows'  truth often plays...     NaN   \n",
              "...                                                 ...     ...   \n",
              "1624  A man is torn between his handicapped brother ...     NaN   \n",
              "1625  A singer finds out she was adopted when the ed...     NaN   \n",
              "1626  Village born Lalloo re-locates to Bombay  and ...     NaN   \n",
              "1627  Shinda tries robbing a bank so he can be wealt...     NaN   \n",
              "1628  Ashar and Khirad are forced to get married due...     NaN   \n",
              "\n",
              "                                                 actors  \\\n",
              "0     Vicky Kaushal|Paresh Rawal|Mohit Raina|Yami Ga...   \n",
              "1     Vicky Ahuja|Shoaib Ibrahim|Shrikant Kamat|Elen...   \n",
              "2     Anupam Kher|Akshaye Khanna|Aahana Kumra|Atul S...   \n",
              "3     Emraan Hashmi|Shreya Dhanwanthary|Snighdadeep ...   \n",
              "4     Mona Ambegaonkar|Ananth Narayan Mahadevan|Deva...   \n",
              "...                                                 ...   \n",
              "1624  Ajay Devgn|Sonali Bendre|Namrata Shirodkar|Pre...   \n",
              "1625  Ameesha Patel|Jimmy Sheirgill|Nafisa Ali|Gulsh...   \n",
              "1626  Vijay Arora|Asrani|Rajni Bala|Kumud Damle|Utpa...   \n",
              "1627                          Gippy Grewal|Zareen Khan|   \n",
              "1628                                        Fawad Khan|   \n",
              "\n",
              "            wins_nominations              release_date  \n",
              "0                     4 wins     11 January 2019 (USA)  \n",
              "1                        NaN   11 January 2019 (India)  \n",
              "2                        NaN     11 January 2019 (USA)  \n",
              "3                        NaN     18 January 2019 (USA)  \n",
              "4     17 wins & 1 nomination   11 January 2019 (India)  \n",
              "...                      ...                       ...  \n",
              "1624                     NaN   7 November 2001 (India)  \n",
              "1625                     NaN  16 November 2001 (India)  \n",
              "1626                     NaN                       NaN  \n",
              "1627                     NaN     1 November 2019 (USA)  \n",
              "1628                     NaN     TV Series (2011–2012)  \n",
              "\n",
              "[1629 rows x 18 columns]"
            ]
          },
          "execution_count": 4,
          "metadata": {},
          "output_type": "execute_result"
        }
      ],
      "source": [
        "# Reading a CSV file into a DataFrame\n",
        "movies = pd.read_csv('DataSets/datasets-session-17/movies.csv')\n",
        "# Display the DataFrame\n",
        "movies"
      ]
    },
    {
      "cell_type": "code",
      "execution_count": null,
      "metadata": {
        "colab": {
          "base_uri": "https://localhost:8080/",
          "height": 1000
        },
        "id": "_yZQ1Z8eFYA6",
        "outputId": "ac6c2153-94f0-4acf-8e20-cffe373e1ace"
      },
      "outputs": [
        {
          "data": {
            "application/vnd.microsoft.datawrangler.viewer.v0+json": {
              "columns": [
                {
                  "name": "index",
                  "rawType": "int64",
                  "type": "integer"
                },
                {
                  "name": "ID",
                  "rawType": "int64",
                  "type": "integer"
                },
                {
                  "name": "City",
                  "rawType": "object",
                  "type": "unknown"
                },
                {
                  "name": "Date",
                  "rawType": "object",
                  "type": "string"
                },
                {
                  "name": "Season",
                  "rawType": "object",
                  "type": "string"
                },
                {
                  "name": "MatchNumber",
                  "rawType": "object",
                  "type": "string"
                },
                {
                  "name": "Team1",
                  "rawType": "object",
                  "type": "string"
                },
                {
                  "name": "Team2",
                  "rawType": "object",
                  "type": "string"
                },
                {
                  "name": "Venue",
                  "rawType": "object",
                  "type": "string"
                },
                {
                  "name": "TossWinner",
                  "rawType": "object",
                  "type": "string"
                },
                {
                  "name": "TossDecision",
                  "rawType": "object",
                  "type": "string"
                },
                {
                  "name": "SuperOver",
                  "rawType": "object",
                  "type": "unknown"
                },
                {
                  "name": "WinningTeam",
                  "rawType": "object",
                  "type": "unknown"
                },
                {
                  "name": "WonBy",
                  "rawType": "object",
                  "type": "string"
                },
                {
                  "name": "Margin",
                  "rawType": "float64",
                  "type": "float"
                },
                {
                  "name": "method",
                  "rawType": "object",
                  "type": "unknown"
                },
                {
                  "name": "Player_of_Match",
                  "rawType": "object",
                  "type": "unknown"
                },
                {
                  "name": "Team1Players",
                  "rawType": "object",
                  "type": "string"
                },
                {
                  "name": "Team2Players",
                  "rawType": "object",
                  "type": "string"
                },
                {
                  "name": "Umpire1",
                  "rawType": "object",
                  "type": "string"
                },
                {
                  "name": "Umpire2",
                  "rawType": "object",
                  "type": "string"
                }
              ],
              "ref": "99a909fe-6201-4a56-a704-9e2c84388cfa",
              "rows": [
                [
                  "0",
                  "1312200",
                  "Ahmedabad",
                  "2022-05-29",
                  "2022",
                  "Final",
                  "Rajasthan Royals",
                  "Gujarat Titans",
                  "Narendra Modi Stadium, Ahmedabad",
                  "Rajasthan Royals",
                  "bat",
                  "N",
                  "Gujarat Titans",
                  "Wickets",
                  "7.0",
                  null,
                  "HH Pandya",
                  "['YBK Jaiswal', 'JC Buttler', 'SV Samson', 'D Padikkal', 'SO Hetmyer', 'R Ashwin', 'R Parag', 'TA Boult', 'OC McCoy', 'M Prasidh Krishna', 'YS Chahal']",
                  "['WP Saha', 'Shubman Gill', 'MS Wade', 'HH Pandya', 'DA Miller', 'R Tewatia', 'Rashid Khan', 'R Sai Kishore', 'LH Ferguson', 'Yash Dayal', 'Mohammed Shami']",
                  "CB Gaffaney",
                  "Nitin Menon"
                ],
                [
                  "1",
                  "1312199",
                  "Ahmedabad",
                  "2022-05-27",
                  "2022",
                  "Qualifier 2",
                  "Royal Challengers Bangalore",
                  "Rajasthan Royals",
                  "Narendra Modi Stadium, Ahmedabad",
                  "Rajasthan Royals",
                  "field",
                  "N",
                  "Rajasthan Royals",
                  "Wickets",
                  "7.0",
                  null,
                  "JC Buttler",
                  "['V Kohli', 'F du Plessis', 'RM Patidar', 'GJ Maxwell', 'MK Lomror', 'KD Karthik', 'Shahbaz Ahmed', 'PWH de Silva', 'HV Patel', 'JR Hazlewood', 'Mohammed Siraj']",
                  "['YBK Jaiswal', 'JC Buttler', 'SV Samson', 'D Padikkal', 'SO Hetmyer', 'R Parag', 'R Ashwin', 'TA Boult', 'YS Chahal', 'M Prasidh Krishna', 'OC McCoy']",
                  "CB Gaffaney",
                  "Nitin Menon"
                ],
                [
                  "2",
                  "1312198",
                  "Kolkata",
                  "2022-05-25",
                  "2022",
                  "Eliminator",
                  "Royal Challengers Bangalore",
                  "Lucknow Super Giants",
                  "Eden Gardens, Kolkata",
                  "Lucknow Super Giants",
                  "field",
                  "N",
                  "Royal Challengers Bangalore",
                  "Runs",
                  "14.0",
                  null,
                  "RM Patidar",
                  "['V Kohli', 'F du Plessis', 'RM Patidar', 'GJ Maxwell', 'MK Lomror', 'KD Karthik', 'Shahbaz Ahmed', 'HV Patel', 'PWH de Silva', 'JR Hazlewood', 'Mohammed Siraj']",
                  "['Q de Kock', 'KL Rahul', 'M Vohra', 'DJ Hooda', 'MP Stoinis', 'E Lewis', 'KH Pandya', 'PVD Chameera', 'Mohsin Khan', 'Avesh Khan', 'Ravi Bishnoi']",
                  "J Madanagopal",
                  "MA Gough"
                ],
                [
                  "3",
                  "1312197",
                  "Kolkata",
                  "2022-05-24",
                  "2022",
                  "Qualifier 1",
                  "Rajasthan Royals",
                  "Gujarat Titans",
                  "Eden Gardens, Kolkata",
                  "Gujarat Titans",
                  "field",
                  "N",
                  "Gujarat Titans",
                  "Wickets",
                  "7.0",
                  null,
                  "DA Miller",
                  "['YBK Jaiswal', 'JC Buttler', 'SV Samson', 'D Padikkal', 'SO Hetmyer', 'R Parag', 'R Ashwin', 'TA Boult', 'YS Chahal', 'M Prasidh Krishna', 'OC McCoy']",
                  "['WP Saha', 'Shubman Gill', 'MS Wade', 'HH Pandya', 'DA Miller', 'R Tewatia', 'Rashid Khan', 'R Sai Kishore', 'AS Joseph', 'Yash Dayal', 'Mohammed Shami']",
                  "BNJ Oxenford",
                  "VK Sharma"
                ],
                [
                  "4",
                  "1304116",
                  "Mumbai",
                  "2022-05-22",
                  "2022",
                  "70",
                  "Sunrisers Hyderabad",
                  "Punjab Kings",
                  "Wankhede Stadium, Mumbai",
                  "Sunrisers Hyderabad",
                  "bat",
                  "N",
                  "Punjab Kings",
                  "Wickets",
                  "5.0",
                  null,
                  "Harpreet Brar",
                  "['PK Garg', 'Abhishek Sharma', 'RA Tripathi', 'AK Markram', 'N Pooran', 'Washington Sundar', 'R Shepherd', 'J Suchith', 'B Kumar', 'Umran Malik', 'Fazalhaq Farooqi']",
                  "['JM Bairstow', 'S Dhawan', 'M Shahrukh Khan', 'MA Agarwal', 'LS Livingstone', 'JM Sharma', 'PN Mankad', 'Harpreet Brar', 'K Rabada', 'NT Ellis', 'Arshdeep Singh']",
                  "AK Chaudhary",
                  "NA Patwardhan"
                ],
                [
                  "5",
                  "1304115",
                  "Mumbai",
                  "2022-05-21",
                  "2022",
                  "69",
                  "Delhi Capitals",
                  "Mumbai Indians",
                  "Wankhede Stadium, Mumbai",
                  "Mumbai Indians",
                  "field",
                  "N",
                  "Mumbai Indians",
                  "Wickets",
                  "5.0",
                  null,
                  "JJ Bumrah",
                  "['PP Shaw', 'DA Warner', 'MR Marsh', 'RR Pant', 'SN Khan', 'R Powell', 'AR Patel', 'SN Thakur', 'Kuldeep Yadav', 'A Nortje', 'KK Ahmed']",
                  "['Ishan Kishan', 'RG Sharma', 'D Brevis', 'Tilak Varma', 'TH David', 'Ramandeep Singh', 'DR Sams', 'HR Shokeen', 'JJ Bumrah', 'M Markande', 'RP Meredith']",
                  "Nitin Menon",
                  "Tapan Sharma"
                ],
                [
                  "6",
                  "1304114",
                  "Mumbai",
                  "2022-05-20",
                  "2022",
                  "68",
                  "Chennai Super Kings",
                  "Rajasthan Royals",
                  "Brabourne Stadium, Mumbai",
                  "Chennai Super Kings",
                  "bat",
                  "N",
                  "Rajasthan Royals",
                  "Wickets",
                  "5.0",
                  null,
                  "R Ashwin",
                  "['RD Gaikwad', 'DP Conway', 'MM Ali', 'N Jagadeesan', 'AT Rayudu', 'MS Dhoni', 'MJ Santner', 'Simarjeet Singh', 'Mukesh Choudhary', 'PH Solanki', 'M Pathirana']",
                  "['YBK Jaiswal', 'JC Buttler', 'SV Samson', 'D Padikkal', 'R Ashwin', 'SO Hetmyer', 'R Parag', 'TA Boult', 'YS Chahal', 'M Prasidh Krishna', 'OC McCoy']",
                  "CB Gaffaney",
                  "NA Patwardhan"
                ],
                [
                  "7",
                  "1304113",
                  "Mumbai",
                  "2022-05-19",
                  "2022",
                  "67",
                  "Gujarat Titans",
                  "Royal Challengers Bangalore",
                  "Wankhede Stadium, Mumbai",
                  "Gujarat Titans",
                  "bat",
                  "N",
                  "Royal Challengers Bangalore",
                  "Wickets",
                  "8.0",
                  null,
                  "V Kohli",
                  "['WP Saha', 'Shubman Gill', 'MS Wade', 'HH Pandya', 'DA Miller', 'R Tewatia', 'Rashid Khan', 'R Sai Kishore', 'LH Ferguson', 'Yash Dayal', 'Mohammed Shami']",
                  "['V Kohli', 'F du Plessis', 'GJ Maxwell', 'KD Karthik', 'RM Patidar', 'MK Lomror', 'Shahbaz Ahmed', 'HV Patel', 'PWH de Silva', 'JR Hazlewood', 'S Kaul']",
                  "KN Ananthapadmanabhan",
                  "GR Sadashiv Iyer"
                ],
                [
                  "8",
                  "1304112",
                  "Navi Mumbai",
                  "2022-05-18",
                  "2022",
                  "66",
                  "Lucknow Super Giants",
                  "Kolkata Knight Riders",
                  "Dr DY Patil Sports Academy, Mumbai",
                  "Lucknow Super Giants",
                  "bat",
                  "N",
                  "Lucknow Super Giants",
                  "Runs",
                  "2.0",
                  null,
                  "Q de Kock",
                  "['Q de Kock', 'KL Rahul', 'E Lewis', 'DJ Hooda', 'M Vohra', 'MP Stoinis', 'JO Holder', 'K Gowtham', 'Mohsin Khan', 'Avesh Khan', 'Ravi Bishnoi']",
                  "['VR Iyer', 'A Tomar', 'N Rana', 'SS Iyer', 'SW Billings', 'AD Russell', 'RK Singh', 'SP Narine', 'UT Yadav', 'TG Southee', 'CV Varun']",
                  "R Pandit",
                  "YC Barde"
                ],
                [
                  "9",
                  "1304111",
                  "Mumbai",
                  "2022-05-17",
                  "2022",
                  "65",
                  "Sunrisers Hyderabad",
                  "Mumbai Indians",
                  "Wankhede Stadium, Mumbai",
                  "Mumbai Indians",
                  "field",
                  "N",
                  "Sunrisers Hyderabad",
                  "Runs",
                  "3.0",
                  null,
                  "RA Tripathi",
                  "['Abhishek Sharma', 'PK Garg', 'RA Tripathi', 'N Pooran', 'AK Markram', 'KS Williamson', 'Washington Sundar', 'B Kumar', 'Umran Malik', 'T Natarajan', 'Fazalhaq Farooqi']",
                  "['RG Sharma', 'Ishan Kishan', 'DR Sams', 'Tilak Varma', 'TH David', 'T Stubbs', 'Ramandeep Singh', 'R Sanjay Yadav', 'JJ Bumrah', 'M Markande', 'RP Meredith']",
                  "CB Gaffaney",
                  "N Pandit"
                ],
                [
                  "10",
                  "1304110",
                  "Navi Mumbai",
                  "2022-05-16",
                  "2022",
                  "64",
                  "Delhi Capitals",
                  "Punjab Kings",
                  "Dr DY Patil Sports Academy, Mumbai",
                  "Punjab Kings",
                  "field",
                  "N",
                  "Delhi Capitals",
                  "Runs",
                  "17.0",
                  null,
                  "SN Thakur",
                  "['DA Warner', 'SN Khan', 'MR Marsh', 'Lalit Yadav', 'RR Pant', 'R Powell', 'AR Patel', 'SN Thakur', 'Kuldeep Yadav', 'A Nortje', 'KK Ahmed']",
                  "['JM Bairstow', 'S Dhawan', 'PBB Rajapaksa', 'LS Livingstone', 'MA Agarwal', 'JM Sharma', 'Harpreet Brar', 'R Dhawan', 'RD Chahar', 'K Rabada', 'Arshdeep Singh']",
                  "GR Sadashiv Iyer",
                  "Nitin Menon"
                ],
                [
                  "11",
                  "1304109",
                  "Mumbai",
                  "2022-05-15",
                  "2022",
                  "63",
                  "Rajasthan Royals",
                  "Lucknow Super Giants",
                  "Brabourne Stadium, Mumbai",
                  "Rajasthan Royals",
                  "bat",
                  "N",
                  "Rajasthan Royals",
                  "Runs",
                  "24.0",
                  null,
                  "TA Boult",
                  "['YBK Jaiswal', 'JC Buttler', 'SV Samson', 'D Padikkal', 'R Parag', 'JDS Neesham', 'R Ashwin', 'TA Boult', 'M Prasidh Krishna', 'YS Chahal', 'OC McCoy']",
                  "['Q de Kock', 'KL Rahul', 'A Badoni', 'DJ Hooda', 'KH Pandya', 'MP Stoinis', 'JO Holder', 'PVD Chameera', 'Mohsin Khan', 'Avesh Khan', 'Ravi Bishnoi']",
                  "PG Pathak",
                  "Tapan Sharma"
                ],
                [
                  "12",
                  "1304108",
                  "Mumbai",
                  "2022-05-15",
                  "2022",
                  "62",
                  "Chennai Super Kings",
                  "Gujarat Titans",
                  "Wankhede Stadium, Mumbai",
                  "Chennai Super Kings",
                  "bat",
                  "N",
                  "Gujarat Titans",
                  "Wickets",
                  "7.0",
                  null,
                  "WP Saha",
                  "['RD Gaikwad', 'DP Conway', 'MM Ali', 'N Jagadeesan', 'S Dube', 'MS Dhoni', 'MJ Santner', 'PH Solanki', 'Simarjeet Singh', 'M Pathirana', 'Mukesh Choudhary']",
                  "['WP Saha', 'Shubman Gill', 'MS Wade', 'HH Pandya', 'DA Miller', 'R Tewatia', 'Rashid Khan', 'R Sai Kishore', 'AS Joseph', 'Yash Dayal', 'Mohammed Shami']",
                  "R Pandit",
                  "VK Sharma"
                ],
                [
                  "13",
                  "1304107",
                  "Pune",
                  "2022-05-14",
                  "2022",
                  "61",
                  "Kolkata Knight Riders",
                  "Sunrisers Hyderabad",
                  "Maharashtra Cricket Association Stadium, Pune",
                  "Kolkata Knight Riders",
                  "bat",
                  "N",
                  "Kolkata Knight Riders",
                  "Runs",
                  "54.0",
                  null,
                  "AD Russell",
                  "['VR Iyer', 'AM Rahane', 'N Rana', 'SS Iyer', 'SW Billings', 'RK Singh', 'AD Russell', 'SP Narine', 'UT Yadav', 'TG Southee', 'CV Varun']",
                  "['Abhishek Sharma', 'KS Williamson', 'RA Tripathi', 'AK Markram', 'N Pooran', 'Washington Sundar', 'Shashank Singh', 'M Jansen', 'B Kumar', 'Umran Malik', 'T Natarajan']",
                  "AK Chaudhary",
                  "KN Ananthapadmanabhan"
                ],
                [
                  "14",
                  "1304106",
                  "Mumbai",
                  "2022-05-13",
                  "2022",
                  "60",
                  "Punjab Kings",
                  "Royal Challengers Bangalore",
                  "Brabourne Stadium, Mumbai",
                  "Royal Challengers Bangalore",
                  "field",
                  "N",
                  "Punjab Kings",
                  "Runs",
                  "54.0",
                  null,
                  "JM Bairstow",
                  "['JM Bairstow', 'S Dhawan', 'PBB Rajapaksa', 'LS Livingstone', 'MA Agarwal', 'JM Sharma', 'Harpreet Brar', 'R Dhawan', 'RD Chahar', 'K Rabada', 'Arshdeep Singh']",
                  "['V Kohli', 'F du Plessis', 'RM Patidar', 'MK Lomror', 'GJ Maxwell', 'KD Karthik', 'Shahbaz Ahmed', 'HV Patel', 'PWH de Silva', 'Mohammed Siraj', 'JR Hazlewood']",
                  "J Madanagopal",
                  "N Pandit"
                ],
                [
                  "15",
                  "1304105",
                  "Mumbai",
                  "2022-05-12",
                  "2022",
                  "59",
                  "Chennai Super Kings",
                  "Mumbai Indians",
                  "Wankhede Stadium, Mumbai",
                  "Mumbai Indians",
                  "field",
                  "N",
                  "Mumbai Indians",
                  "Wickets",
                  "5.0",
                  null,
                  "DR Sams",
                  "['RD Gaikwad', 'DP Conway', 'MM Ali', 'RV Uthappa', 'AT Rayudu', 'MS Dhoni', 'S Dube', 'DJ Bravo', 'Simarjeet Singh', 'M Theekshana', 'Mukesh Choudhary']",
                  "['Ishan Kishan', 'RG Sharma', 'DR Sams', 'Tilak Varma', 'T Stubbs', 'HR Shokeen', 'TH David', 'Ramandeep Singh', 'JJ Bumrah', 'RP Meredith', 'K Kartikeya']",
                  "Chirra Ravikanthreddy",
                  "CB Gaffaney"
                ],
                [
                  "16",
                  "1304104",
                  "Navi Mumbai",
                  "2022-05-11",
                  "2022",
                  "58",
                  "Rajasthan Royals",
                  "Delhi Capitals",
                  "Dr DY Patil Sports Academy, Mumbai",
                  "Delhi Capitals",
                  "field",
                  "N",
                  "Delhi Capitals",
                  "Wickets",
                  "8.0",
                  null,
                  "MR Marsh",
                  "['YBK Jaiswal', 'JC Buttler', 'R Ashwin', 'D Padikkal', 'SV Samson', 'R Parag', 'HE van der Dussen', 'TA Boult', 'M Prasidh Krishna', 'YS Chahal', 'KR Sen']",
                  "['KS Bharat', 'DA Warner', 'MR Marsh', 'RR Pant', 'R Powell', 'Lalit Yadav', 'AR Patel', 'SN Thakur', 'Kuldeep Yadav', 'A Nortje', 'C Sakariya']",
                  "NA Patwardhan",
                  "Nitin Menon"
                ],
                [
                  "17",
                  "1304103",
                  "Pune",
                  "2022-05-10",
                  "2022",
                  "57",
                  "Gujarat Titans",
                  "Lucknow Super Giants",
                  "Maharashtra Cricket Association Stadium, Pune",
                  "Gujarat Titans",
                  "bat",
                  "N",
                  "Gujarat Titans",
                  "Runs",
                  "62.0",
                  null,
                  "Shubman Gill",
                  "['WP Saha', 'Shubman Gill', 'MS Wade', 'HH Pandya', 'DA Miller', 'R Tewatia', 'Rashid Khan', 'R Sai Kishore', 'AS Joseph', 'Yash Dayal', 'Mohammed Shami']",
                  "['Q de Kock', 'KL Rahul', 'DJ Hooda', 'KS Sharma', 'KH Pandya', 'A Badoni', 'MP Stoinis', 'JO Holder', 'Mohsin Khan', 'PVD Chameera', 'Avesh Khan']",
                  "KN Ananthapadmanabhan",
                  "MA Gough"
                ],
                [
                  "18",
                  "1304102",
                  "Navi Mumbai",
                  "2022-05-09",
                  "2022",
                  "56",
                  "Kolkata Knight Riders",
                  "Mumbai Indians",
                  "Dr DY Patil Sports Academy, Mumbai",
                  "Mumbai Indians",
                  "field",
                  "N",
                  "Kolkata Knight Riders",
                  "Runs",
                  "52.0",
                  null,
                  "JJ Bumrah",
                  "['VR Iyer', 'AM Rahane', 'N Rana', 'SS Iyer', 'AD Russell', 'RK Singh', 'SP Jackson', 'PJ Cummins', 'SP Narine', 'TG Southee', 'CV Varun']",
                  "['RG Sharma', 'Ishan Kishan', 'Tilak Varma', 'Ramandeep Singh', 'TH David', 'KA Pollard', 'DR Sams', 'M Ashwin', 'K Kartikeya', 'JJ Bumrah', 'RP Meredith']",
                  "CB Gaffaney",
                  "GR Sadashiv Iyer"
                ],
                [
                  "19",
                  "1304101",
                  "Navi Mumbai",
                  "2022-05-08",
                  "2022",
                  "55",
                  "Chennai Super Kings",
                  "Delhi Capitals",
                  "Dr DY Patil Sports Academy, Mumbai",
                  "Delhi Capitals",
                  "field",
                  "N",
                  "Chennai Super Kings",
                  "Runs",
                  "91.0",
                  null,
                  "DP Conway",
                  "['RD Gaikwad', 'DP Conway', 'S Dube', 'AT Rayudu', 'MS Dhoni', 'MM Ali', 'RV Uthappa', 'DJ Bravo', 'Simarjeet Singh', 'M Theekshana', 'Mukesh Choudhary']",
                  "['DA Warner', 'KS Bharat', 'MR Marsh', 'RR Pant', 'R Powell', 'RV Patel', 'AR Patel', 'SN Thakur', 'Kuldeep Yadav', 'A Nortje', 'KK Ahmed']",
                  "Nitin Menon",
                  "R Pandit"
                ],
                [
                  "20",
                  "1304100",
                  "Mumbai",
                  "2022-05-08",
                  "2022",
                  "54",
                  "Royal Challengers Bangalore",
                  "Sunrisers Hyderabad",
                  "Wankhede Stadium, Mumbai",
                  "Royal Challengers Bangalore",
                  "bat",
                  "N",
                  "Royal Challengers Bangalore",
                  "Runs",
                  "67.0",
                  null,
                  "PWH de Silva",
                  "['V Kohli', 'F du Plessis', 'RM Patidar', 'GJ Maxwell', 'KD Karthik', 'MK Lomror', 'Shahbaz Ahmed', 'PWH de Silva', 'HV Patel', 'JR Hazlewood', 'Mohammed Siraj']",
                  "['Abhishek Sharma', 'KS Williamson', 'RA Tripathi', 'AK Markram', 'N Pooran', 'J Suchith', 'Shashank Singh', 'Kartik Tyagi', 'B Kumar', 'Umran Malik', 'Fazalhaq Farooqi']",
                  "BNJ Oxenford",
                  "N Pandit"
                ],
                [
                  "21",
                  "1304099",
                  "Pune",
                  "2022-05-07",
                  "2022",
                  "53",
                  "Lucknow Super Giants",
                  "Kolkata Knight Riders",
                  "Maharashtra Cricket Association Stadium, Pune",
                  "Kolkata Knight Riders",
                  "field",
                  "N",
                  "Lucknow Super Giants",
                  "Runs",
                  "75.0",
                  null,
                  "Avesh Khan",
                  "['Q de Kock', 'KL Rahul', 'DJ Hooda', 'KH Pandya', 'A Badoni', 'MP Stoinis', 'JO Holder', 'PVD Chameera', 'Avesh Khan', 'Mohsin Khan', 'Ravi Bishnoi']",
                  "['B Indrajith', 'AJ Finch', 'SS Iyer', 'N Rana', 'RK Singh', 'AD Russell', 'SP Narine', 'AS Roy', 'Shivam Mavi', 'TG Southee', 'Harshit Rana']",
                  "AK Chaudhary",
                  "MA Gough"
                ],
                [
                  "22",
                  "1304098",
                  "Mumbai",
                  "2022-05-07",
                  "2022",
                  "52",
                  "Punjab Kings",
                  "Rajasthan Royals",
                  "Wankhede Stadium, Mumbai",
                  "Punjab Kings",
                  "bat",
                  "N",
                  "Rajasthan Royals",
                  "Wickets",
                  "6.0",
                  null,
                  "YBK Jaiswal",
                  "['JM Bairstow', 'S Dhawan', 'PBB Rajapaksa', 'MA Agarwal', 'JM Sharma', 'LS Livingstone', 'R Dhawan', 'K Rabada', 'RD Chahar', 'Arshdeep Singh', 'Sandeep Sharma']",
                  "['YBK Jaiswal', 'JC Buttler', 'SV Samson', 'D Padikkal', 'SO Hetmyer', 'R Parag', 'R Ashwin', 'TA Boult', 'M Prasidh Krishna', 'YS Chahal', 'KR Sen']",
                  "Chirra Ravikanthreddy",
                  "YC Barde"
                ],
                [
                  "23",
                  "1304097",
                  "Mumbai",
                  "2022-05-06",
                  "2022",
                  "51",
                  "Mumbai Indians",
                  "Gujarat Titans",
                  "Brabourne Stadium, Mumbai",
                  "Gujarat Titans",
                  "field",
                  "N",
                  "Mumbai Indians",
                  "Runs",
                  "5.0",
                  null,
                  "TH David",
                  "['Ishan Kishan', 'RG Sharma', 'SA Yadav', 'Tilak Varma', 'KA Pollard', 'TH David', 'DR Sams', 'M Ashwin', 'K Kartikeya', 'JJ Bumrah', 'RP Meredith']",
                  "['WP Saha', 'Shubman Gill', 'HH Pandya', 'B Sai Sudharsan', 'DA Miller', 'R Tewatia', 'Rashid Khan', 'PJ Sangwan', 'LH Ferguson', 'AS Joseph', 'Mohammed Shami']",
                  "J Madanagopal",
                  "GR Sadashiv Iyer"
                ],
                [
                  "24",
                  "1304096",
                  "Mumbai",
                  "2022-05-05",
                  "2022",
                  "50",
                  "Delhi Capitals",
                  "Sunrisers Hyderabad",
                  "Brabourne Stadium, Mumbai",
                  "Sunrisers Hyderabad",
                  "field",
                  "N",
                  "Delhi Capitals",
                  "Runs",
                  "21.0",
                  null,
                  "DA Warner",
                  "['Mandeep Singh', 'DA Warner', 'MR Marsh', 'RR Pant', 'R Powell', 'Lalit Yadav', 'RV Patel', 'SN Thakur', 'Kuldeep Yadav', 'A Nortje', 'KK Ahmed']",
                  "['Abhishek Sharma', 'KS Williamson', 'RA Tripathi', 'AK Markram', 'N Pooran', 'Shashank Singh', 'SA Abbott', 'S Gopal', 'Kartik Tyagi', 'B Kumar', 'Umran Malik']",
                  "Navdeep Singh",
                  "NA Patwardhan"
                ],
                [
                  "25",
                  "1304095",
                  "Pune",
                  "2022-05-04",
                  "2022",
                  "49",
                  "Royal Challengers Bangalore",
                  "Chennai Super Kings",
                  "Maharashtra Cricket Association Stadium, Pune",
                  "Chennai Super Kings",
                  "field",
                  "N",
                  "Royal Challengers Bangalore",
                  "Runs",
                  "13.0",
                  null,
                  "HV Patel",
                  "['V Kohli', 'F du Plessis', 'GJ Maxwell', 'MK Lomror', 'RM Patidar', 'KD Karthik', 'PWH de Silva', 'Shahbaz Ahmed', 'HV Patel', 'Mohammed Siraj', 'JR Hazlewood']",
                  "['RD Gaikwad', 'DP Conway', 'RV Uthappa', 'AT Rayudu', 'MM Ali', 'RA Jadeja', 'MS Dhoni', 'D Pretorius', 'Simarjeet Singh', 'M Theekshana', 'Mukesh Choudhary']",
                  "KN Ananthapadmanabhan",
                  "MA Gough"
                ],
                [
                  "26",
                  "1304094",
                  "Navi Mumbai",
                  "2022-05-03",
                  "2022",
                  "48",
                  "Gujarat Titans",
                  "Punjab Kings",
                  "Dr DY Patil Sports Academy, Mumbai",
                  "Gujarat Titans",
                  "bat",
                  "N",
                  "Punjab Kings",
                  "Wickets",
                  "8.0",
                  null,
                  "K Rabada",
                  "['WP Saha', 'Shubman Gill', 'B Sai Sudharsan', 'HH Pandya', 'DA Miller', 'R Tewatia', 'Rashid Khan', 'PJ Sangwan', 'LH Ferguson', 'AS Joseph', 'Mohammed Shami']",
                  "['JM Bairstow', 'S Dhawan', 'PBB Rajapaksa', 'LS Livingstone', 'MA Agarwal', 'JM Sharma', 'R Dhawan', 'K Rabada', 'RD Chahar', 'Arshdeep Singh', 'Sandeep Sharma']",
                  "R Pandit",
                  "VK Sharma"
                ],
                [
                  "27",
                  "1304093",
                  "Mumbai",
                  "2022-05-02",
                  "2022",
                  "47",
                  "Rajasthan Royals",
                  "Kolkata Knight Riders",
                  "Wankhede Stadium, Mumbai",
                  "Kolkata Knight Riders",
                  "field",
                  "N",
                  "Kolkata Knight Riders",
                  "Wickets",
                  "7.0",
                  null,
                  "RK Singh",
                  "['JC Buttler', 'D Padikkal', 'SV Samson', 'KK Nair', 'R Parag', 'SO Hetmyer', 'R Ashwin', 'TA Boult', 'M Prasidh Krishna', 'YS Chahal', 'KR Sen']",
                  "['B Indrajith', 'AJ Finch', 'SS Iyer', 'N Rana', 'RK Singh', 'AS Roy', 'AD Russell', 'SP Narine', 'UT Yadav', 'TG Southee', 'Shivam Mavi']",
                  "J Madanagopal",
                  "N Pandit"
                ],
                [
                  "28",
                  "1304092",
                  "Pune",
                  "2022-05-01",
                  "2022",
                  "46",
                  "Chennai Super Kings",
                  "Sunrisers Hyderabad",
                  "Maharashtra Cricket Association Stadium, Pune",
                  "Sunrisers Hyderabad",
                  "field",
                  "N",
                  "Chennai Super Kings",
                  "Runs",
                  "13.0",
                  null,
                  "RD Gaikwad",
                  "['RD Gaikwad', 'DP Conway', 'MS Dhoni', 'RA Jadeja', 'RV Uthappa', 'AT Rayudu', 'Simarjeet Singh', 'MJ Santner', 'D Pretorius', 'Mukesh Choudhary', 'M Theekshana']",
                  "['Abhishek Sharma', 'KS Williamson', 'RA Tripathi', 'AK Markram', 'N Pooran', 'Shashank Singh', 'Washington Sundar', 'M Jansen', 'B Kumar', 'T Natarajan', 'Umran Malik']",
                  "AK Chaudhary",
                  "KN Ananthapadmanabhan"
                ],
                [
                  "29",
                  "1304091",
                  "Mumbai",
                  "2022-05-01",
                  "2022",
                  "45",
                  "Lucknow Super Giants",
                  "Delhi Capitals",
                  "Wankhede Stadium, Mumbai",
                  "Lucknow Super Giants",
                  "bat",
                  "N",
                  "Lucknow Super Giants",
                  "Runs",
                  "6.0",
                  null,
                  "Mohsin Khan",
                  "['Q de Kock', 'KL Rahul', 'DJ Hooda', 'MP Stoinis', 'KH Pandya', 'A Badoni', 'JO Holder', 'Mohsin Khan', 'K Gowtham', 'PVD Chameera', 'Ravi Bishnoi']",
                  "['PP Shaw', 'DA Warner', 'MR Marsh', 'RR Pant', 'Lalit Yadav', 'R Powell', 'AR Patel', 'SN Thakur', 'Kuldeep Yadav', 'Mustafizur Rahman', 'C Sakariya']",
                  "Chirra Ravikanthreddy",
                  "CB Gaffaney"
                ],
                [
                  "30",
                  "1304090",
                  "Navi Mumbai",
                  "2022-04-30",
                  "2022",
                  "44",
                  "Rajasthan Royals",
                  "Mumbai Indians",
                  "Dr DY Patil Sports Academy, Mumbai",
                  "Mumbai Indians",
                  "field",
                  "N",
                  "Mumbai Indians",
                  "Wickets",
                  "5.0",
                  null,
                  "SA Yadav",
                  "['JC Buttler', 'D Padikkal', 'SV Samson', 'DJ Mitchell', 'SO Hetmyer', 'R Parag', 'R Ashwin', 'TA Boult', 'M Prasidh Krishna', 'YS Chahal', 'KR Sen']",
                  "['RG Sharma', 'Ishan Kishan', 'SA Yadav', 'Tilak Varma', 'KA Pollard', 'TH David', 'DR Sams', 'HR Shokeen', 'K Kartikeya', 'JJ Bumrah', 'RP Meredith']",
                  "BNJ Oxenford",
                  "YC Barde"
                ],
                [
                  "31",
                  "1304089",
                  "Mumbai",
                  "2022-04-30",
                  "2022",
                  "43",
                  "Royal Challengers Bangalore",
                  "Gujarat Titans",
                  "Brabourne Stadium, Mumbai",
                  "Royal Challengers Bangalore",
                  "bat",
                  "N",
                  "Gujarat Titans",
                  "Wickets",
                  "6.0",
                  null,
                  "R Tewatia",
                  "['V Kohli', 'F du Plessis', 'RM Patidar', 'GJ Maxwell', 'KD Karthik', 'Shahbaz Ahmed', 'MK Lomror', 'PWH de Silva', 'HV Patel', 'JR Hazlewood', 'Mohammed Siraj']",
                  "['WP Saha', 'Shubman Gill', 'B Sai Sudharsan', 'HH Pandya', 'DA Miller', 'R Tewatia', 'Rashid Khan', 'PJ Sangwan', 'AS Joseph', 'LH Ferguson', 'Mohammed Shami']",
                  "HAS Khalid",
                  "VK Sharma"
                ],
                [
                  "32",
                  "1304088",
                  "Pune",
                  "2022-04-29",
                  "2022",
                  "42",
                  "Lucknow Super Giants",
                  "Punjab Kings",
                  "Maharashtra Cricket Association Stadium, Pune",
                  "Punjab Kings",
                  "field",
                  "N",
                  "Lucknow Super Giants",
                  "Runs",
                  "20.0",
                  null,
                  "KH Pandya",
                  "['Q de Kock', 'KL Rahul', 'DJ Hooda', 'KH Pandya', 'MP Stoinis', 'A Badoni', 'JO Holder', 'PVD Chameera', 'Mohsin Khan', 'Avesh Khan', 'Ravi Bishnoi']",
                  "['MA Agarwal', 'S Dhawan', 'JM Bairstow', 'PBB Rajapaksa', 'LS Livingstone', 'JM Sharma', 'R Dhawan', 'K Rabada', 'RD Chahar', 'Arshdeep Singh', 'Sandeep Sharma']",
                  "MA Gough",
                  "UV Gandhe"
                ],
                [
                  "33",
                  "1304087",
                  "Mumbai",
                  "2022-04-28",
                  "2022",
                  "41",
                  "Kolkata Knight Riders",
                  "Delhi Capitals",
                  "Wankhede Stadium, Mumbai",
                  "Delhi Capitals",
                  "field",
                  "N",
                  "Delhi Capitals",
                  "Wickets",
                  "4.0",
                  null,
                  "Kuldeep Yadav",
                  "['AJ Finch', 'VR Iyer', 'SS Iyer', 'B Indrajith', 'SP Narine', 'N Rana', 'AD Russell', 'RK Singh', 'UT Yadav', 'TG Southee', 'Harshit Rana']",
                  "['PP Shaw', 'DA Warner', 'MR Marsh', 'Lalit Yadav', 'RR Pant', 'R Powell', 'AR Patel', 'SN Thakur', 'Kuldeep Yadav', 'Mustafizur Rahman', 'C Sakariya']",
                  "AK Chaudhary",
                  "PG Pathak"
                ],
                [
                  "34",
                  "1304086",
                  "Mumbai",
                  "2022-04-27",
                  "2022",
                  "40",
                  "Sunrisers Hyderabad",
                  "Gujarat Titans",
                  "Wankhede Stadium, Mumbai",
                  "Gujarat Titans",
                  "field",
                  "N",
                  "Gujarat Titans",
                  "Wickets",
                  "5.0",
                  null,
                  "Umran Malik",
                  "['Abhishek Sharma', 'KS Williamson', 'RA Tripathi', 'AK Markram', 'N Pooran', 'Washington Sundar', 'Shashank Singh', 'M Jansen', 'B Kumar', 'T Natarajan', 'Umran Malik']",
                  "['WP Saha', 'Shubman Gill', 'HH Pandya', 'DA Miller', 'R Tewatia', 'A Manohar', 'Rashid Khan', 'LH Ferguson', 'AS Joseph', 'Yash Dayal', 'Mohammed Shami']",
                  "CB Gaffaney",
                  "Navdeep Singh"
                ],
                [
                  "35",
                  "1304085",
                  "Pune",
                  "2022-04-26",
                  "2022",
                  "39",
                  "Rajasthan Royals",
                  "Royal Challengers Bangalore",
                  "Maharashtra Cricket Association Stadium, Pune",
                  "Royal Challengers Bangalore",
                  "field",
                  "N",
                  "Rajasthan Royals",
                  "Runs",
                  "29.0",
                  null,
                  "R Parag",
                  "['JC Buttler', 'D Padikkal', 'R Ashwin', 'SV Samson', 'DJ Mitchell', 'R Parag', 'SO Hetmyer', 'TA Boult', 'M Prasidh Krishna', 'YS Chahal', 'KR Sen']",
                  "['V Kohli', 'F du Plessis', 'RM Patidar', 'GJ Maxwell', 'Shahbaz Ahmed', 'SS Prabhudessai', 'KD Karthik', 'PWH de Silva', 'HV Patel', 'Mohammed Siraj', 'JR Hazlewood']",
                  "BNJ Oxenford",
                  "KN Ananthapadmanabhan"
                ],
                [
                  "36",
                  "1304084",
                  "Mumbai",
                  "2022-04-25",
                  "2022",
                  "38",
                  "Punjab Kings",
                  "Chennai Super Kings",
                  "Wankhede Stadium, Mumbai",
                  "Chennai Super Kings",
                  "field",
                  "N",
                  "Punjab Kings",
                  "Runs",
                  "11.0",
                  null,
                  "S Dhawan",
                  "['MA Agarwal', 'S Dhawan', 'PBB Rajapaksa', 'LS Livingstone', 'JM Bairstow', 'JM Sharma', 'R Dhawan', 'K Rabada', 'RD Chahar', 'Arshdeep Singh', 'Sandeep Sharma']",
                  "['RD Gaikwad', 'RV Uthappa', 'MJ Santner', 'S Dube', 'AT Rayudu', 'RA Jadeja', 'MS Dhoni', 'D Pretorius', 'DJ Bravo', 'Mukesh Choudhary', 'M Theekshana']",
                  "M Erasmus",
                  "Tapan Sharma"
                ],
                [
                  "37",
                  "1304083",
                  "Mumbai",
                  "2022-04-24",
                  "2022",
                  "37",
                  "Lucknow Super Giants",
                  "Mumbai Indians",
                  "Wankhede Stadium, Mumbai",
                  "Mumbai Indians",
                  "field",
                  "N",
                  "Lucknow Super Giants",
                  "Runs",
                  "36.0",
                  null,
                  "KL Rahul",
                  "['Q de Kock', 'KL Rahul', 'MK Pandey', 'MP Stoinis', 'KH Pandya', 'DJ Hooda', 'A Badoni', 'JO Holder', 'PVD Chameera', 'Ravi Bishnoi', 'Mohsin Khan']",
                  "['Ishan Kishan', 'RG Sharma', 'D Brevis', 'SA Yadav', 'Tilak Varma', 'KA Pollard', 'DR Sams', 'JD Unadkat', 'HR Shokeen', 'JJ Bumrah', 'RP Meredith']",
                  "M Erasmus",
                  "HAS Khalid"
                ],
                [
                  "38",
                  "1304082",
                  "Mumbai",
                  "2022-04-23",
                  "2022",
                  "36",
                  "Royal Challengers Bangalore",
                  "Sunrisers Hyderabad",
                  "Brabourne Stadium, Mumbai",
                  "Sunrisers Hyderabad",
                  "field",
                  "N",
                  "Sunrisers Hyderabad",
                  "Wickets",
                  "9.0",
                  null,
                  "M Jansen",
                  "['F du Plessis', 'Anuj Rawat', 'V Kohli', 'GJ Maxwell', 'SS Prabhudessai', 'Shahbaz Ahmed', 'KD Karthik', 'HV Patel', 'PWH de Silva', 'JR Hazlewood', 'Mohammed Siraj']",
                  "['Abhishek Sharma', 'KS Williamson', 'RA Tripathi', 'AK Markram', 'N Pooran', 'Shashank Singh', 'J Suchith', 'B Kumar', 'M Jansen', 'T Natarajan', 'Umran Malik']",
                  "Chirra Ravikanthreddy",
                  "J Madanagopal"
                ],
                [
                  "39",
                  "1304081",
                  "Navi Mumbai",
                  "2022-04-23",
                  "2022",
                  "35",
                  "Gujarat Titans",
                  "Kolkata Knight Riders",
                  "Dr DY Patil Sports Academy, Mumbai",
                  "Gujarat Titans",
                  "bat",
                  "N",
                  "Gujarat Titans",
                  "Runs",
                  "8.0",
                  null,
                  "Rashid Khan",
                  "['WP Saha', 'Shubman Gill', 'HH Pandya', 'DA Miller', 'R Tewatia', 'Rashid Khan', 'A Manohar', 'LH Ferguson', 'AS Joseph', 'Yash Dayal', 'Mohammed Shami']",
                  "['SW Billings', 'SP Narine', 'SS Iyer', 'N Rana', 'RK Singh', 'VR Iyer', 'AD Russell', 'Shivam Mavi', 'UT Yadav', 'TG Southee', 'CV Varun']",
                  "KN Ananthapadmanabhan",
                  "UV Gandhe"
                ],
                [
                  "40",
                  "1304080",
                  "Mumbai",
                  "2022-04-22",
                  "2022",
                  "34",
                  "Rajasthan Royals",
                  "Delhi Capitals",
                  "Wankhede Stadium, Mumbai",
                  "Delhi Capitals",
                  "field",
                  "N",
                  "Rajasthan Royals",
                  "Runs",
                  "15.0",
                  null,
                  "JC Buttler",
                  "['JC Buttler', 'D Padikkal', 'SV Samson', 'SO Hetmyer', 'R Parag', 'KK Nair', 'R Ashwin', 'TA Boult', 'OC McCoy', 'M Prasidh Krishna', 'YS Chahal']",
                  "['PP Shaw', 'DA Warner', 'SN Khan', 'RR Pant', 'Lalit Yadav', 'AR Patel', 'SN Thakur', 'R Powell', 'Kuldeep Yadav', 'Mustafizur Rahman', 'KK Ahmed']",
                  "NA Patwardhan",
                  "Nitin Menon"
                ],
                [
                  "41",
                  "1304079",
                  "Navi Mumbai",
                  "2022-04-21",
                  "2022",
                  "33",
                  "Mumbai Indians",
                  "Chennai Super Kings",
                  "Dr DY Patil Sports Academy, Mumbai",
                  "Chennai Super Kings",
                  "field",
                  "N",
                  "Chennai Super Kings",
                  "Wickets",
                  "3.0",
                  null,
                  "Mukesh Choudhary",
                  "['RG Sharma', 'Ishan Kishan', 'D Brevis', 'SA Yadav', 'Tilak Varma', 'HR Shokeen', 'KA Pollard', 'DR Sams', 'JD Unadkat', 'RP Meredith', 'JJ Bumrah']",
                  "['RD Gaikwad', 'RV Uthappa', 'MJ Santner', 'AT Rayudu', 'S Dube', 'RA Jadeja', 'MS Dhoni', 'D Pretorius', 'DJ Bravo', 'Mukesh Choudhary', 'M Theekshana']",
                  "BNJ Oxenford",
                  "UV Gandhe"
                ],
                [
                  "42",
                  "1304078",
                  "Mumbai",
                  "2022-04-20",
                  "2022",
                  "32",
                  "Punjab Kings",
                  "Delhi Capitals",
                  "Brabourne Stadium, Mumbai",
                  "Delhi Capitals",
                  "field",
                  "N",
                  "Delhi Capitals",
                  "Wickets",
                  "9.0",
                  null,
                  "Kuldeep Yadav",
                  "['MA Agarwal', 'S Dhawan', 'JM Bairstow', 'LS Livingstone', 'JM Sharma', 'M Shahrukh Khan', 'K Rabada', 'NT Ellis', 'RD Chahar', 'Arshdeep Singh', 'VG Arora']",
                  "['PP Shaw', 'DA Warner', 'SN Khan', 'RR Pant', 'R Powell', 'Lalit Yadav', 'SN Thakur', 'AR Patel', 'Kuldeep Yadav', 'Mustafizur Rahman', 'KK Ahmed']",
                  "RJ Tucker",
                  "Tapan Sharma"
                ],
                [
                  "43",
                  "1304077",
                  "Mumbai",
                  "2022-04-19",
                  "2022",
                  "31",
                  "Royal Challengers Bangalore",
                  "Lucknow Super Giants",
                  "Dr DY Patil Sports Academy, Mumbai",
                  "Lucknow Super Giants",
                  "field",
                  "N",
                  "Royal Challengers Bangalore",
                  "Runs",
                  "18.0",
                  null,
                  "F du Plessis",
                  "['Anuj Rawat', 'F du Plessis', 'V Kohli', 'GJ Maxwell', 'SS Prabhudessai', 'Shahbaz Ahmed', 'KD Karthik', 'HV Patel', 'PWH de Silva', 'JR Hazlewood', 'Mohammed Siraj']",
                  "['Q de Kock', 'KL Rahul', 'MK Pandey', 'KH Pandya', 'DJ Hooda', 'A Badoni', 'MP Stoinis', 'JO Holder', 'PVD Chameera', 'Ravi Bishnoi', 'Avesh Khan']",
                  "CB Gaffaney",
                  "N Pandit"
                ],
                [
                  "44",
                  "1304076",
                  "Mumbai",
                  "2022-04-18",
                  "2022",
                  "30",
                  "Rajasthan Royals",
                  "Kolkata Knight Riders",
                  "Brabourne Stadium, Mumbai",
                  "Kolkata Knight Riders",
                  "field",
                  "N",
                  "Rajasthan Royals",
                  "Runs",
                  "7.0",
                  null,
                  "YS Chahal",
                  "['JC Buttler', 'D Padikkal', 'SV Samson', 'SO Hetmyer', 'R Parag', 'KK Nair', 'R Ashwin', 'TA Boult', 'OC McCoy', 'M Prasidh Krishna', 'YS Chahal']",
                  "['AJ Finch', 'SP Narine', 'SS Iyer', 'N Rana', 'AD Russell', 'VR Iyer', 'SP Jackson', 'Shivam Mavi', 'PJ Cummins', 'UT Yadav', 'CV Varun']",
                  "GR Sadashiv Iyer",
                  "VK Sharma"
                ],
                [
                  "45",
                  "1304075",
                  "Pune",
                  "2022-04-17",
                  "2022",
                  "29",
                  "Chennai Super Kings",
                  "Gujarat Titans",
                  "Maharashtra Cricket Association Stadium, Pune",
                  "Gujarat Titans",
                  "field",
                  "N",
                  "Gujarat Titans",
                  "Wickets",
                  "3.0",
                  null,
                  "DA Miller",
                  "['RD Gaikwad', 'RV Uthappa', 'MM Ali', 'AT Rayudu', 'S Dube', 'RA Jadeja', 'MS Dhoni', 'DJ Bravo', 'CJ Jordan', 'M Theekshana', 'Mukesh Choudhary']",
                  "['WP Saha', 'Shubman Gill', 'V Shankar', 'A Manohar', 'DA Miller', 'R Tewatia', 'Rashid Khan', 'AS Joseph', 'LH Ferguson', 'Mohammed Shami', 'Yash Dayal']",
                  "KN Ananthapadmanabhan",
                  "UV Gandhe"
                ],
                [
                  "46",
                  "1304074",
                  "Mumbai",
                  "2022-04-17",
                  "2022",
                  "28",
                  "Punjab Kings",
                  "Sunrisers Hyderabad",
                  "Dr DY Patil Sports Academy, Mumbai",
                  "Sunrisers Hyderabad",
                  "field",
                  "N",
                  "Sunrisers Hyderabad",
                  "Wickets",
                  "7.0",
                  null,
                  "Umran Malik",
                  "['S Dhawan', 'P Simran Singh', 'JM Bairstow', 'LS Livingstone', 'JM Sharma', 'M Shahrukh Khan', 'OF Smith', 'K Rabada', 'RD Chahar', 'VG Arora', 'Arshdeep Singh']",
                  "['Abhishek Sharma', 'KS Williamson', 'RA Tripathi', 'AK Markram', 'N Pooran', 'Shashank Singh', 'J Suchith', 'B Kumar', 'M Jansen', 'T Natarajan', 'Umran Malik']",
                  "PG Pathak",
                  "R Pandit"
                ],
                [
                  "47",
                  "1304073",
                  "Mumbai",
                  "2022-04-16",
                  "2022",
                  "27",
                  "Royal Challengers Bangalore",
                  "Delhi Capitals",
                  "Wankhede Stadium, Mumbai",
                  "Delhi Capitals",
                  "field",
                  "N",
                  "Royal Challengers Bangalore",
                  "Runs",
                  "16.0",
                  null,
                  "KD Karthik",
                  "['F du Plessis', 'Anuj Rawat', 'V Kohli', 'GJ Maxwell', 'SS Prabhudessai', 'Shahbaz Ahmed', 'KD Karthik', 'PWH de Silva', 'Mohammed Siraj', 'HV Patel', 'JR Hazlewood']",
                  "['PP Shaw', 'DA Warner', 'MR Marsh', 'RR Pant', 'R Powell', 'Lalit Yadav', 'SN Thakur', 'AR Patel', 'Kuldeep Yadav', 'Mustafizur Rahman', 'KK Ahmed']",
                  "Chirra Ravikanthreddy",
                  "J Madanagopal"
                ],
                [
                  "48",
                  "1304072",
                  "Mumbai",
                  "2022-04-16",
                  "2022",
                  "26",
                  "Lucknow Super Giants",
                  "Mumbai Indians",
                  "Brabourne Stadium, Mumbai",
                  "Mumbai Indians",
                  "field",
                  "N",
                  "Lucknow Super Giants",
                  "Runs",
                  "18.0",
                  null,
                  "KL Rahul",
                  "['KL Rahul', 'Q de Kock', 'MK Pandey', 'MP Stoinis', 'DJ Hooda', 'KH Pandya', 'A Badoni', 'JO Holder', 'PVD Chameera', 'Avesh Khan', 'Ravi Bishnoi']",
                  "['Ishan Kishan', 'RG Sharma', 'D Brevis', 'SA Yadav', 'Tilak Varma', 'KA Pollard', 'FA Allen', 'JD Unadkat', 'M Ashwin', 'JJ Bumrah', 'TS Mills']",
                  "AK Chaudhary",
                  "NA Patwardhan"
                ],
                [
                  "49",
                  "1304071",
                  "Mumbai",
                  "2022-04-15",
                  "2022",
                  "25",
                  "Kolkata Knight Riders",
                  "Sunrisers Hyderabad",
                  "Brabourne Stadium, Mumbai",
                  "Sunrisers Hyderabad",
                  "field",
                  "N",
                  "Sunrisers Hyderabad",
                  "Wickets",
                  "7.0",
                  null,
                  "RA Tripathi",
                  "['VR Iyer', 'AJ Finch', 'SS Iyer', 'SP Narine', 'N Rana', 'SP Jackson', 'AD Russell', 'PJ Cummins', 'Aman Hakim Khan', 'UT Yadav', 'CV Varun']",
                  "['Abhishek Sharma', 'KS Williamson', 'RA Tripathi', 'AK Markram', 'N Pooran', 'Shashank Singh', 'J Suchith', 'M Jansen', 'B Kumar', 'T Natarajan', 'Umran Malik']",
                  "GR Sadashiv Iyer",
                  "VK Sharma"
                ]
              ],
              "shape": {
                "columns": 20,
                "rows": 950
              }
            },
            "text/html": [
              "<div>\n",
              "<style scoped>\n",
              "    .dataframe tbody tr th:only-of-type {\n",
              "        vertical-align: middle;\n",
              "    }\n",
              "\n",
              "    .dataframe tbody tr th {\n",
              "        vertical-align: top;\n",
              "    }\n",
              "\n",
              "    .dataframe thead th {\n",
              "        text-align: right;\n",
              "    }\n",
              "</style>\n",
              "<table border=\"1\" class=\"dataframe\">\n",
              "  <thead>\n",
              "    <tr style=\"text-align: right;\">\n",
              "      <th></th>\n",
              "      <th>ID</th>\n",
              "      <th>City</th>\n",
              "      <th>Date</th>\n",
              "      <th>Season</th>\n",
              "      <th>MatchNumber</th>\n",
              "      <th>Team1</th>\n",
              "      <th>Team2</th>\n",
              "      <th>Venue</th>\n",
              "      <th>TossWinner</th>\n",
              "      <th>TossDecision</th>\n",
              "      <th>SuperOver</th>\n",
              "      <th>WinningTeam</th>\n",
              "      <th>WonBy</th>\n",
              "      <th>Margin</th>\n",
              "      <th>method</th>\n",
              "      <th>Player_of_Match</th>\n",
              "      <th>Team1Players</th>\n",
              "      <th>Team2Players</th>\n",
              "      <th>Umpire1</th>\n",
              "      <th>Umpire2</th>\n",
              "    </tr>\n",
              "  </thead>\n",
              "  <tbody>\n",
              "    <tr>\n",
              "      <th>0</th>\n",
              "      <td>1312200</td>\n",
              "      <td>Ahmedabad</td>\n",
              "      <td>2022-05-29</td>\n",
              "      <td>2022</td>\n",
              "      <td>Final</td>\n",
              "      <td>Rajasthan Royals</td>\n",
              "      <td>Gujarat Titans</td>\n",
              "      <td>Narendra Modi Stadium, Ahmedabad</td>\n",
              "      <td>Rajasthan Royals</td>\n",
              "      <td>bat</td>\n",
              "      <td>N</td>\n",
              "      <td>Gujarat Titans</td>\n",
              "      <td>Wickets</td>\n",
              "      <td>7.0</td>\n",
              "      <td>NaN</td>\n",
              "      <td>HH Pandya</td>\n",
              "      <td>['YBK Jaiswal', 'JC Buttler', 'SV Samson', 'D ...</td>\n",
              "      <td>['WP Saha', 'Shubman Gill', 'MS Wade', 'HH Pan...</td>\n",
              "      <td>CB Gaffaney</td>\n",
              "      <td>Nitin Menon</td>\n",
              "    </tr>\n",
              "    <tr>\n",
              "      <th>1</th>\n",
              "      <td>1312199</td>\n",
              "      <td>Ahmedabad</td>\n",
              "      <td>2022-05-27</td>\n",
              "      <td>2022</td>\n",
              "      <td>Qualifier 2</td>\n",
              "      <td>Royal Challengers Bangalore</td>\n",
              "      <td>Rajasthan Royals</td>\n",
              "      <td>Narendra Modi Stadium, Ahmedabad</td>\n",
              "      <td>Rajasthan Royals</td>\n",
              "      <td>field</td>\n",
              "      <td>N</td>\n",
              "      <td>Rajasthan Royals</td>\n",
              "      <td>Wickets</td>\n",
              "      <td>7.0</td>\n",
              "      <td>NaN</td>\n",
              "      <td>JC Buttler</td>\n",
              "      <td>['V Kohli', 'F du Plessis', 'RM Patidar', 'GJ ...</td>\n",
              "      <td>['YBK Jaiswal', 'JC Buttler', 'SV Samson', 'D ...</td>\n",
              "      <td>CB Gaffaney</td>\n",
              "      <td>Nitin Menon</td>\n",
              "    </tr>\n",
              "    <tr>\n",
              "      <th>2</th>\n",
              "      <td>1312198</td>\n",
              "      <td>Kolkata</td>\n",
              "      <td>2022-05-25</td>\n",
              "      <td>2022</td>\n",
              "      <td>Eliminator</td>\n",
              "      <td>Royal Challengers Bangalore</td>\n",
              "      <td>Lucknow Super Giants</td>\n",
              "      <td>Eden Gardens, Kolkata</td>\n",
              "      <td>Lucknow Super Giants</td>\n",
              "      <td>field</td>\n",
              "      <td>N</td>\n",
              "      <td>Royal Challengers Bangalore</td>\n",
              "      <td>Runs</td>\n",
              "      <td>14.0</td>\n",
              "      <td>NaN</td>\n",
              "      <td>RM Patidar</td>\n",
              "      <td>['V Kohli', 'F du Plessis', 'RM Patidar', 'GJ ...</td>\n",
              "      <td>['Q de Kock', 'KL Rahul', 'M Vohra', 'DJ Hooda...</td>\n",
              "      <td>J Madanagopal</td>\n",
              "      <td>MA Gough</td>\n",
              "    </tr>\n",
              "    <tr>\n",
              "      <th>3</th>\n",
              "      <td>1312197</td>\n",
              "      <td>Kolkata</td>\n",
              "      <td>2022-05-24</td>\n",
              "      <td>2022</td>\n",
              "      <td>Qualifier 1</td>\n",
              "      <td>Rajasthan Royals</td>\n",
              "      <td>Gujarat Titans</td>\n",
              "      <td>Eden Gardens, Kolkata</td>\n",
              "      <td>Gujarat Titans</td>\n",
              "      <td>field</td>\n",
              "      <td>N</td>\n",
              "      <td>Gujarat Titans</td>\n",
              "      <td>Wickets</td>\n",
              "      <td>7.0</td>\n",
              "      <td>NaN</td>\n",
              "      <td>DA Miller</td>\n",
              "      <td>['YBK Jaiswal', 'JC Buttler', 'SV Samson', 'D ...</td>\n",
              "      <td>['WP Saha', 'Shubman Gill', 'MS Wade', 'HH Pan...</td>\n",
              "      <td>BNJ Oxenford</td>\n",
              "      <td>VK Sharma</td>\n",
              "    </tr>\n",
              "    <tr>\n",
              "      <th>4</th>\n",
              "      <td>1304116</td>\n",
              "      <td>Mumbai</td>\n",
              "      <td>2022-05-22</td>\n",
              "      <td>2022</td>\n",
              "      <td>70</td>\n",
              "      <td>Sunrisers Hyderabad</td>\n",
              "      <td>Punjab Kings</td>\n",
              "      <td>Wankhede Stadium, Mumbai</td>\n",
              "      <td>Sunrisers Hyderabad</td>\n",
              "      <td>bat</td>\n",
              "      <td>N</td>\n",
              "      <td>Punjab Kings</td>\n",
              "      <td>Wickets</td>\n",
              "      <td>5.0</td>\n",
              "      <td>NaN</td>\n",
              "      <td>Harpreet Brar</td>\n",
              "      <td>['PK Garg', 'Abhishek Sharma', 'RA Tripathi', ...</td>\n",
              "      <td>['JM Bairstow', 'S Dhawan', 'M Shahrukh Khan',...</td>\n",
              "      <td>AK Chaudhary</td>\n",
              "      <td>NA Patwardhan</td>\n",
              "    </tr>\n",
              "    <tr>\n",
              "      <th>...</th>\n",
              "      <td>...</td>\n",
              "      <td>...</td>\n",
              "      <td>...</td>\n",
              "      <td>...</td>\n",
              "      <td>...</td>\n",
              "      <td>...</td>\n",
              "      <td>...</td>\n",
              "      <td>...</td>\n",
              "      <td>...</td>\n",
              "      <td>...</td>\n",
              "      <td>...</td>\n",
              "      <td>...</td>\n",
              "      <td>...</td>\n",
              "      <td>...</td>\n",
              "      <td>...</td>\n",
              "      <td>...</td>\n",
              "      <td>...</td>\n",
              "      <td>...</td>\n",
              "      <td>...</td>\n",
              "      <td>...</td>\n",
              "    </tr>\n",
              "    <tr>\n",
              "      <th>945</th>\n",
              "      <td>335986</td>\n",
              "      <td>Kolkata</td>\n",
              "      <td>2008-04-20</td>\n",
              "      <td>2007/08</td>\n",
              "      <td>4</td>\n",
              "      <td>Kolkata Knight Riders</td>\n",
              "      <td>Deccan Chargers</td>\n",
              "      <td>Eden Gardens</td>\n",
              "      <td>Deccan Chargers</td>\n",
              "      <td>bat</td>\n",
              "      <td>N</td>\n",
              "      <td>Kolkata Knight Riders</td>\n",
              "      <td>Wickets</td>\n",
              "      <td>5.0</td>\n",
              "      <td>NaN</td>\n",
              "      <td>DJ Hussey</td>\n",
              "      <td>['WP Saha', 'BB McCullum', 'RT Ponting', 'SC G...</td>\n",
              "      <td>['AC Gilchrist', 'Y Venugopal Rao', 'VVS Laxma...</td>\n",
              "      <td>BF Bowden</td>\n",
              "      <td>K Hariharan</td>\n",
              "    </tr>\n",
              "    <tr>\n",
              "      <th>946</th>\n",
              "      <td>335985</td>\n",
              "      <td>Mumbai</td>\n",
              "      <td>2008-04-20</td>\n",
              "      <td>2007/08</td>\n",
              "      <td>5</td>\n",
              "      <td>Mumbai Indians</td>\n",
              "      <td>Royal Challengers Bangalore</td>\n",
              "      <td>Wankhede Stadium</td>\n",
              "      <td>Mumbai Indians</td>\n",
              "      <td>bat</td>\n",
              "      <td>N</td>\n",
              "      <td>Royal Challengers Bangalore</td>\n",
              "      <td>Wickets</td>\n",
              "      <td>5.0</td>\n",
              "      <td>NaN</td>\n",
              "      <td>MV Boucher</td>\n",
              "      <td>['L Ronchi', 'ST Jayasuriya', 'DJ Thornely', '...</td>\n",
              "      <td>['S Chanderpaul', 'R Dravid', 'LRPL Taylor', '...</td>\n",
              "      <td>SJ Davis</td>\n",
              "      <td>DJ Harper</td>\n",
              "    </tr>\n",
              "    <tr>\n",
              "      <th>947</th>\n",
              "      <td>335984</td>\n",
              "      <td>Delhi</td>\n",
              "      <td>2008-04-19</td>\n",
              "      <td>2007/08</td>\n",
              "      <td>3</td>\n",
              "      <td>Delhi Daredevils</td>\n",
              "      <td>Rajasthan Royals</td>\n",
              "      <td>Feroz Shah Kotla</td>\n",
              "      <td>Rajasthan Royals</td>\n",
              "      <td>bat</td>\n",
              "      <td>N</td>\n",
              "      <td>Delhi Daredevils</td>\n",
              "      <td>Wickets</td>\n",
              "      <td>9.0</td>\n",
              "      <td>NaN</td>\n",
              "      <td>MF Maharoof</td>\n",
              "      <td>['G Gambhir', 'V Sehwag', 'S Dhawan', 'MK Tiwa...</td>\n",
              "      <td>['T Kohli', 'YK Pathan', 'SR Watson', 'M Kaif'...</td>\n",
              "      <td>Aleem Dar</td>\n",
              "      <td>GA Pratapkumar</td>\n",
              "    </tr>\n",
              "    <tr>\n",
              "      <th>948</th>\n",
              "      <td>335983</td>\n",
              "      <td>Chandigarh</td>\n",
              "      <td>2008-04-19</td>\n",
              "      <td>2007/08</td>\n",
              "      <td>2</td>\n",
              "      <td>Kings XI Punjab</td>\n",
              "      <td>Chennai Super Kings</td>\n",
              "      <td>Punjab Cricket Association Stadium, Mohali</td>\n",
              "      <td>Chennai Super Kings</td>\n",
              "      <td>bat</td>\n",
              "      <td>N</td>\n",
              "      <td>Chennai Super Kings</td>\n",
              "      <td>Runs</td>\n",
              "      <td>33.0</td>\n",
              "      <td>NaN</td>\n",
              "      <td>MEK Hussey</td>\n",
              "      <td>['K Goel', 'JR Hopes', 'KC Sangakkara', 'Yuvra...</td>\n",
              "      <td>['PA Patel', 'ML Hayden', 'MEK Hussey', 'MS Dh...</td>\n",
              "      <td>MR Benson</td>\n",
              "      <td>SL Shastri</td>\n",
              "    </tr>\n",
              "    <tr>\n",
              "      <th>949</th>\n",
              "      <td>335982</td>\n",
              "      <td>Bangalore</td>\n",
              "      <td>2008-04-18</td>\n",
              "      <td>2007/08</td>\n",
              "      <td>1</td>\n",
              "      <td>Royal Challengers Bangalore</td>\n",
              "      <td>Kolkata Knight Riders</td>\n",
              "      <td>M Chinnaswamy Stadium</td>\n",
              "      <td>Royal Challengers Bangalore</td>\n",
              "      <td>field</td>\n",
              "      <td>N</td>\n",
              "      <td>Kolkata Knight Riders</td>\n",
              "      <td>Runs</td>\n",
              "      <td>140.0</td>\n",
              "      <td>NaN</td>\n",
              "      <td>BB McCullum</td>\n",
              "      <td>['R Dravid', 'W Jaffer', 'V Kohli', 'JH Kallis...</td>\n",
              "      <td>['SC Ganguly', 'BB McCullum', 'RT Ponting', 'D...</td>\n",
              "      <td>Asad Rauf</td>\n",
              "      <td>RE Koertzen</td>\n",
              "    </tr>\n",
              "  </tbody>\n",
              "</table>\n",
              "<p>950 rows × 20 columns</p>\n",
              "</div>"
            ],
            "text/plain": [
              "          ID        City        Date   Season  MatchNumber  \\\n",
              "0    1312200   Ahmedabad  2022-05-29     2022        Final   \n",
              "1    1312199   Ahmedabad  2022-05-27     2022  Qualifier 2   \n",
              "2    1312198     Kolkata  2022-05-25     2022   Eliminator   \n",
              "3    1312197     Kolkata  2022-05-24     2022  Qualifier 1   \n",
              "4    1304116      Mumbai  2022-05-22     2022           70   \n",
              "..       ...         ...         ...      ...          ...   \n",
              "945   335986     Kolkata  2008-04-20  2007/08            4   \n",
              "946   335985      Mumbai  2008-04-20  2007/08            5   \n",
              "947   335984       Delhi  2008-04-19  2007/08            3   \n",
              "948   335983  Chandigarh  2008-04-19  2007/08            2   \n",
              "949   335982   Bangalore  2008-04-18  2007/08            1   \n",
              "\n",
              "                           Team1                        Team2  \\\n",
              "0               Rajasthan Royals               Gujarat Titans   \n",
              "1    Royal Challengers Bangalore             Rajasthan Royals   \n",
              "2    Royal Challengers Bangalore         Lucknow Super Giants   \n",
              "3               Rajasthan Royals               Gujarat Titans   \n",
              "4            Sunrisers Hyderabad                 Punjab Kings   \n",
              "..                           ...                          ...   \n",
              "945        Kolkata Knight Riders              Deccan Chargers   \n",
              "946               Mumbai Indians  Royal Challengers Bangalore   \n",
              "947             Delhi Daredevils             Rajasthan Royals   \n",
              "948              Kings XI Punjab          Chennai Super Kings   \n",
              "949  Royal Challengers Bangalore        Kolkata Knight Riders   \n",
              "\n",
              "                                          Venue                   TossWinner  \\\n",
              "0              Narendra Modi Stadium, Ahmedabad             Rajasthan Royals   \n",
              "1              Narendra Modi Stadium, Ahmedabad             Rajasthan Royals   \n",
              "2                         Eden Gardens, Kolkata         Lucknow Super Giants   \n",
              "3                         Eden Gardens, Kolkata               Gujarat Titans   \n",
              "4                      Wankhede Stadium, Mumbai          Sunrisers Hyderabad   \n",
              "..                                          ...                          ...   \n",
              "945                                Eden Gardens              Deccan Chargers   \n",
              "946                            Wankhede Stadium               Mumbai Indians   \n",
              "947                            Feroz Shah Kotla             Rajasthan Royals   \n",
              "948  Punjab Cricket Association Stadium, Mohali          Chennai Super Kings   \n",
              "949                       M Chinnaswamy Stadium  Royal Challengers Bangalore   \n",
              "\n",
              "    TossDecision SuperOver                  WinningTeam    WonBy  Margin  \\\n",
              "0            bat         N               Gujarat Titans  Wickets     7.0   \n",
              "1          field         N             Rajasthan Royals  Wickets     7.0   \n",
              "2          field         N  Royal Challengers Bangalore     Runs    14.0   \n",
              "3          field         N               Gujarat Titans  Wickets     7.0   \n",
              "4            bat         N                 Punjab Kings  Wickets     5.0   \n",
              "..           ...       ...                          ...      ...     ...   \n",
              "945          bat         N        Kolkata Knight Riders  Wickets     5.0   \n",
              "946          bat         N  Royal Challengers Bangalore  Wickets     5.0   \n",
              "947          bat         N             Delhi Daredevils  Wickets     9.0   \n",
              "948          bat         N          Chennai Super Kings     Runs    33.0   \n",
              "949        field         N        Kolkata Knight Riders     Runs   140.0   \n",
              "\n",
              "    method Player_of_Match                                       Team1Players  \\\n",
              "0      NaN       HH Pandya  ['YBK Jaiswal', 'JC Buttler', 'SV Samson', 'D ...   \n",
              "1      NaN      JC Buttler  ['V Kohli', 'F du Plessis', 'RM Patidar', 'GJ ...   \n",
              "2      NaN      RM Patidar  ['V Kohli', 'F du Plessis', 'RM Patidar', 'GJ ...   \n",
              "3      NaN       DA Miller  ['YBK Jaiswal', 'JC Buttler', 'SV Samson', 'D ...   \n",
              "4      NaN   Harpreet Brar  ['PK Garg', 'Abhishek Sharma', 'RA Tripathi', ...   \n",
              "..     ...             ...                                                ...   \n",
              "945    NaN       DJ Hussey  ['WP Saha', 'BB McCullum', 'RT Ponting', 'SC G...   \n",
              "946    NaN      MV Boucher  ['L Ronchi', 'ST Jayasuriya', 'DJ Thornely', '...   \n",
              "947    NaN     MF Maharoof  ['G Gambhir', 'V Sehwag', 'S Dhawan', 'MK Tiwa...   \n",
              "948    NaN      MEK Hussey  ['K Goel', 'JR Hopes', 'KC Sangakkara', 'Yuvra...   \n",
              "949    NaN     BB McCullum  ['R Dravid', 'W Jaffer', 'V Kohli', 'JH Kallis...   \n",
              "\n",
              "                                          Team2Players        Umpire1  \\\n",
              "0    ['WP Saha', 'Shubman Gill', 'MS Wade', 'HH Pan...    CB Gaffaney   \n",
              "1    ['YBK Jaiswal', 'JC Buttler', 'SV Samson', 'D ...    CB Gaffaney   \n",
              "2    ['Q de Kock', 'KL Rahul', 'M Vohra', 'DJ Hooda...  J Madanagopal   \n",
              "3    ['WP Saha', 'Shubman Gill', 'MS Wade', 'HH Pan...   BNJ Oxenford   \n",
              "4    ['JM Bairstow', 'S Dhawan', 'M Shahrukh Khan',...   AK Chaudhary   \n",
              "..                                                 ...            ...   \n",
              "945  ['AC Gilchrist', 'Y Venugopal Rao', 'VVS Laxma...      BF Bowden   \n",
              "946  ['S Chanderpaul', 'R Dravid', 'LRPL Taylor', '...       SJ Davis   \n",
              "947  ['T Kohli', 'YK Pathan', 'SR Watson', 'M Kaif'...      Aleem Dar   \n",
              "948  ['PA Patel', 'ML Hayden', 'MEK Hussey', 'MS Dh...      MR Benson   \n",
              "949  ['SC Ganguly', 'BB McCullum', 'RT Ponting', 'D...      Asad Rauf   \n",
              "\n",
              "            Umpire2  \n",
              "0       Nitin Menon  \n",
              "1       Nitin Menon  \n",
              "2          MA Gough  \n",
              "3         VK Sharma  \n",
              "4     NA Patwardhan  \n",
              "..              ...  \n",
              "945     K Hariharan  \n",
              "946       DJ Harper  \n",
              "947  GA Pratapkumar  \n",
              "948      SL Shastri  \n",
              "949     RE Koertzen  \n",
              "\n",
              "[950 rows x 20 columns]"
            ]
          },
          "execution_count": 5,
          "metadata": {},
          "output_type": "execute_result"
        }
      ],
      "source": [
        "# Reading IPL matches data from CSV (2008 to 2022)\n",
        "ipl = pd.read_csv('DataSets/datasets-session-17/ipl-matches.csv')\n",
        "ipl"
      ]
    },
    {
      "cell_type": "markdown",
      "metadata": {
        "id": "WpiZf0HmvGkY"
      },
      "source": [
        "### DataFrame Attributes and Methods"
      ]
    },
    {
      "cell_type": "code",
      "execution_count": null,
      "metadata": {
        "colab": {
          "base_uri": "https://localhost:8080/"
        },
        "id": "IWTFNOmavKGd",
        "outputId": "2b26c1df-27e6-4623-e2bc-7a6797f35fa5"
      },
      "outputs": [
        {
          "data": {
            "text/plain": [
              "(1629, 18)"
            ]
          },
          "execution_count": 6,
          "metadata": {},
          "output_type": "execute_result"
        }
      ],
      "source": [
        "# shape attribute returns a tuple (number of rows, number of columns)\n",
        "# Example: 1629 rows and 15 columns in movies DataFrame\n",
        "movies.shape"
      ]
    },
    {
      "cell_type": "code",
      "execution_count": null,
      "metadata": {},
      "outputs": [
        {
          "data": {
            "text/plain": [
              "(950, 20)"
            ]
          },
          "execution_count": 7,
          "metadata": {},
          "output_type": "execute_result"
        }
      ],
      "source": [
        "# shape attribute for IPL DataFrame (number of matches, number of columns)\n",
        "# Example: 814 matches and 17 columns\n",
        "ipl.shape"
      ]
    },
    {
      "cell_type": "code",
      "execution_count": null,
      "metadata": {
        "colab": {
          "base_uri": "https://localhost:8080/"
        },
        "id": "G6eWCQUlvLBk",
        "outputId": "d6f5c1ea-1e1a-4e48-a1b7-cbcef5d4d634"
      },
      "outputs": [
        {
          "data": {
            "application/vnd.microsoft.datawrangler.viewer.v0+json": {
              "columns": [
                {
                  "name": "index",
                  "rawType": "object",
                  "type": "string"
                },
                {
                  "name": "0",
                  "rawType": "object",
                  "type": "unknown"
                }
              ],
              "ref": "065f5a35-8156-4061-a1c2-bac92f91357e",
              "rows": [
                [
                  "ID",
                  "int64"
                ],
                [
                  "City",
                  "object"
                ],
                [
                  "Date",
                  "object"
                ],
                [
                  "Season",
                  "object"
                ],
                [
                  "MatchNumber",
                  "object"
                ],
                [
                  "Team1",
                  "object"
                ],
                [
                  "Team2",
                  "object"
                ],
                [
                  "Venue",
                  "object"
                ],
                [
                  "TossWinner",
                  "object"
                ],
                [
                  "TossDecision",
                  "object"
                ],
                [
                  "SuperOver",
                  "object"
                ],
                [
                  "WinningTeam",
                  "object"
                ],
                [
                  "WonBy",
                  "object"
                ],
                [
                  "Margin",
                  "float64"
                ],
                [
                  "method",
                  "object"
                ],
                [
                  "Player_of_Match",
                  "object"
                ],
                [
                  "Team1Players",
                  "object"
                ],
                [
                  "Team2Players",
                  "object"
                ],
                [
                  "Umpire1",
                  "object"
                ],
                [
                  "Umpire2",
                  "object"
                ]
              ],
              "shape": {
                "columns": 1,
                "rows": 20
              }
            },
            "text/plain": [
              "ID                   int64\n",
              "City                object\n",
              "Date                object\n",
              "Season              object\n",
              "MatchNumber         object\n",
              "Team1               object\n",
              "Team2               object\n",
              "Venue               object\n",
              "TossWinner          object\n",
              "TossDecision        object\n",
              "SuperOver           object\n",
              "WinningTeam         object\n",
              "WonBy               object\n",
              "Margin             float64\n",
              "method              object\n",
              "Player_of_Match     object\n",
              "Team1Players        object\n",
              "Team2Players        object\n",
              "Umpire1             object\n",
              "Umpire2             object\n",
              "dtype: object"
            ]
          },
          "execution_count": 9,
          "metadata": {},
          "output_type": "execute_result"
        }
      ],
      "source": [
        "# dtypes attribute returns the data types of each column in the DataFrame\n",
        "movies.dtypes  # Data types for movies DataFrame\n",
        "ipl.dtypes     # Data types for IPL DataFrame"
      ]
    },
    {
      "cell_type": "code",
      "execution_count": null,
      "metadata": {},
      "outputs": [],
      "source": []
    },
    {
      "cell_type": "code",
      "execution_count": null,
      "metadata": {
        "colab": {
          "base_uri": "https://localhost:8080/"
        },
        "id": "WEQltw3hvrwj",
        "outputId": "6b6c3d7d-a376-4072-dabf-488a0d5e5133"
      },
      "outputs": [
        {
          "data": {
            "text/plain": [
              "RangeIndex(start=0, stop=950, step=1)"
            ]
          },
          "execution_count": 10,
          "metadata": {},
          "output_type": "execute_result"
        }
      ],
      "source": [
        "# index attribute returns the index (row labels) of the DataFrame\n",
        "# By default, this is a RangeIndex (0 to n-1)\n",
        "movies.index\n",
        "ipl.index"
      ]
    },
    {
      "cell_type": "code",
      "execution_count": null,
      "metadata": {},
      "outputs": [
        {
          "data": {
            "text/plain": [
              "RangeIndex(start=0, stop=950, step=1)"
            ]
          },
          "execution_count": 11,
          "metadata": {},
          "output_type": "execute_result"
        }
      ],
      "source": [
        "# Display the index of the IPL DataFrame\n",
        "ipl.index"
      ]
    },
    {
      "cell_type": "code",
      "execution_count": null,
      "metadata": {
        "colab": {
          "base_uri": "https://localhost:8080/"
        },
        "id": "yfzmkEZCvNNU",
        "outputId": "0e8acc8e-98d3-4053-e828-d30341e52f44"
      },
      "outputs": [
        {
          "data": {
            "text/plain": [
              "Index(['iq', 'marks', 'package'], dtype='object')"
            ]
          },
          "execution_count": 12,
          "metadata": {},
          "output_type": "execute_result"
        }
      ],
      "source": [
        "# columns attribute fetches all the column names of the DataFrame\n",
        "movies.columns  # Column names in movies DataFrame\n",
        "ipl.columns     # Column names in IPL DataFrame\n",
        "students.columns # Column names in students DataFrame"
      ]
    },
    {
      "cell_type": "code",
      "execution_count": null,
      "metadata": {
        "colab": {
          "base_uri": "https://localhost:8080/"
        },
        "id": "uVzQeTwfvO8h",
        "outputId": "de070a5f-4061-4613-cfdc-363c40f88819"
      },
      "outputs": [
        {
          "data": {
            "application/vnd.microsoft.datawrangler.viewer.v0+json": {
              "columns": [
                {
                  "name": "index",
                  "rawType": "int64",
                  "type": "integer"
                },
                {
                  "name": "0",
                  "rawType": "int64",
                  "type": "integer"
                },
                {
                  "name": "1",
                  "rawType": "int64",
                  "type": "integer"
                },
                {
                  "name": "2",
                  "rawType": "int64",
                  "type": "integer"
                }
              ],
              "ref": "56168d63-04a9-4406-b183-5ac07270edaa",
              "rows": [
                [
                  "0",
                  "100",
                  "80",
                  "10"
                ],
                [
                  "1",
                  "90",
                  "70",
                  "7"
                ],
                [
                  "2",
                  "120",
                  "100",
                  "14"
                ],
                [
                  "3",
                  "80",
                  "50",
                  "2"
                ],
                [
                  "4",
                  "0",
                  "0",
                  "0"
                ],
                [
                  "5",
                  "0",
                  "0",
                  "0"
                ]
              ],
              "shape": {
                "columns": 3,
                "rows": 6
              }
            },
            "text/plain": [
              "array([[100,  80,  10],\n",
              "       [ 90,  70,   7],\n",
              "       [120, 100,  14],\n",
              "       [ 80,  50,   2],\n",
              "       [  0,   0,   0],\n",
              "       [  0,   0,   0]], dtype=int64)"
            ]
          },
          "execution_count": 15,
          "metadata": {},
          "output_type": "execute_result"
        }
      ],
      "source": [
        "# values attribute returns the values of the DataFrame as a NumPy array\n",
        "students.values"
      ]
    },
    {
      "cell_type": "code",
      "execution_count": null,
      "metadata": {},
      "outputs": [
        {
          "data": {
            "application/vnd.microsoft.datawrangler.viewer.v0+json": {
              "columns": [
                {
                  "name": "index",
                  "rawType": "int64",
                  "type": "integer"
                },
                {
                  "name": "0",
                  "rawType": "object",
                  "type": "unknown"
                },
                {
                  "name": "1",
                  "rawType": "object",
                  "type": "unknown"
                },
                {
                  "name": "2",
                  "rawType": "object",
                  "type": "string"
                },
                {
                  "name": "3",
                  "rawType": "object",
                  "type": "string"
                },
                {
                  "name": "4",
                  "rawType": "object",
                  "type": "string"
                },
                {
                  "name": "5",
                  "rawType": "object",
                  "type": "string"
                },
                {
                  "name": "6",
                  "rawType": "object",
                  "type": "string"
                },
                {
                  "name": "7",
                  "rawType": "object",
                  "type": "string"
                },
                {
                  "name": "8",
                  "rawType": "object",
                  "type": "string"
                },
                {
                  "name": "9",
                  "rawType": "object",
                  "type": "string"
                },
                {
                  "name": "10",
                  "rawType": "object",
                  "type": "unknown"
                },
                {
                  "name": "11",
                  "rawType": "object",
                  "type": "unknown"
                },
                {
                  "name": "12",
                  "rawType": "object",
                  "type": "string"
                },
                {
                  "name": "13",
                  "rawType": "object",
                  "type": "unknown"
                },
                {
                  "name": "14",
                  "rawType": "object",
                  "type": "unknown"
                },
                {
                  "name": "15",
                  "rawType": "object",
                  "type": "unknown"
                },
                {
                  "name": "16",
                  "rawType": "object",
                  "type": "string"
                },
                {
                  "name": "17",
                  "rawType": "object",
                  "type": "string"
                },
                {
                  "name": "18",
                  "rawType": "object",
                  "type": "string"
                },
                {
                  "name": "19",
                  "rawType": "object",
                  "type": "string"
                }
              ],
              "ref": "7ec69b4b-809a-4323-9d92-6a579e8424be",
              "rows": [
                [
                  "0",
                  "1312200",
                  "Ahmedabad",
                  "2022-05-29",
                  "2022",
                  "Final",
                  "Rajasthan Royals",
                  "Gujarat Titans",
                  "Narendra Modi Stadium, Ahmedabad",
                  "Rajasthan Royals",
                  "bat",
                  "N",
                  "Gujarat Titans",
                  "Wickets",
                  "7.0",
                  null,
                  "HH Pandya",
                  "['YBK Jaiswal', 'JC Buttler', 'SV Samson', 'D Padikkal', 'SO Hetmyer', 'R Ashwin', 'R Parag', 'TA Boult', 'OC McCoy', 'M Prasidh Krishna', 'YS Chahal']",
                  "['WP Saha', 'Shubman Gill', 'MS Wade', 'HH Pandya', 'DA Miller', 'R Tewatia', 'Rashid Khan', 'R Sai Kishore', 'LH Ferguson', 'Yash Dayal', 'Mohammed Shami']",
                  "CB Gaffaney",
                  "Nitin Menon"
                ],
                [
                  "1",
                  "1312199",
                  "Ahmedabad",
                  "2022-05-27",
                  "2022",
                  "Qualifier 2",
                  "Royal Challengers Bangalore",
                  "Rajasthan Royals",
                  "Narendra Modi Stadium, Ahmedabad",
                  "Rajasthan Royals",
                  "field",
                  "N",
                  "Rajasthan Royals",
                  "Wickets",
                  "7.0",
                  null,
                  "JC Buttler",
                  "['V Kohli', 'F du Plessis', 'RM Patidar', 'GJ Maxwell', 'MK Lomror', 'KD Karthik', 'Shahbaz Ahmed', 'PWH de Silva', 'HV Patel', 'JR Hazlewood', 'Mohammed Siraj']",
                  "['YBK Jaiswal', 'JC Buttler', 'SV Samson', 'D Padikkal', 'SO Hetmyer', 'R Parag', 'R Ashwin', 'TA Boult', 'YS Chahal', 'M Prasidh Krishna', 'OC McCoy']",
                  "CB Gaffaney",
                  "Nitin Menon"
                ],
                [
                  "2",
                  "1312198",
                  "Kolkata",
                  "2022-05-25",
                  "2022",
                  "Eliminator",
                  "Royal Challengers Bangalore",
                  "Lucknow Super Giants",
                  "Eden Gardens, Kolkata",
                  "Lucknow Super Giants",
                  "field",
                  "N",
                  "Royal Challengers Bangalore",
                  "Runs",
                  "14.0",
                  null,
                  "RM Patidar",
                  "['V Kohli', 'F du Plessis', 'RM Patidar', 'GJ Maxwell', 'MK Lomror', 'KD Karthik', 'Shahbaz Ahmed', 'HV Patel', 'PWH de Silva', 'JR Hazlewood', 'Mohammed Siraj']",
                  "['Q de Kock', 'KL Rahul', 'M Vohra', 'DJ Hooda', 'MP Stoinis', 'E Lewis', 'KH Pandya', 'PVD Chameera', 'Mohsin Khan', 'Avesh Khan', 'Ravi Bishnoi']",
                  "J Madanagopal",
                  "MA Gough"
                ],
                [
                  "3",
                  "1312197",
                  "Kolkata",
                  "2022-05-24",
                  "2022",
                  "Qualifier 1",
                  "Rajasthan Royals",
                  "Gujarat Titans",
                  "Eden Gardens, Kolkata",
                  "Gujarat Titans",
                  "field",
                  "N",
                  "Gujarat Titans",
                  "Wickets",
                  "7.0",
                  null,
                  "DA Miller",
                  "['YBK Jaiswal', 'JC Buttler', 'SV Samson', 'D Padikkal', 'SO Hetmyer', 'R Parag', 'R Ashwin', 'TA Boult', 'YS Chahal', 'M Prasidh Krishna', 'OC McCoy']",
                  "['WP Saha', 'Shubman Gill', 'MS Wade', 'HH Pandya', 'DA Miller', 'R Tewatia', 'Rashid Khan', 'R Sai Kishore', 'AS Joseph', 'Yash Dayal', 'Mohammed Shami']",
                  "BNJ Oxenford",
                  "VK Sharma"
                ],
                [
                  "4",
                  "1304116",
                  "Mumbai",
                  "2022-05-22",
                  "2022",
                  "70",
                  "Sunrisers Hyderabad",
                  "Punjab Kings",
                  "Wankhede Stadium, Mumbai",
                  "Sunrisers Hyderabad",
                  "bat",
                  "N",
                  "Punjab Kings",
                  "Wickets",
                  "5.0",
                  null,
                  "Harpreet Brar",
                  "['PK Garg', 'Abhishek Sharma', 'RA Tripathi', 'AK Markram', 'N Pooran', 'Washington Sundar', 'R Shepherd', 'J Suchith', 'B Kumar', 'Umran Malik', 'Fazalhaq Farooqi']",
                  "['JM Bairstow', 'S Dhawan', 'M Shahrukh Khan', 'MA Agarwal', 'LS Livingstone', 'JM Sharma', 'PN Mankad', 'Harpreet Brar', 'K Rabada', 'NT Ellis', 'Arshdeep Singh']",
                  "AK Chaudhary",
                  "NA Patwardhan"
                ],
                [
                  "5",
                  "1304115",
                  "Mumbai",
                  "2022-05-21",
                  "2022",
                  "69",
                  "Delhi Capitals",
                  "Mumbai Indians",
                  "Wankhede Stadium, Mumbai",
                  "Mumbai Indians",
                  "field",
                  "N",
                  "Mumbai Indians",
                  "Wickets",
                  "5.0",
                  null,
                  "JJ Bumrah",
                  "['PP Shaw', 'DA Warner', 'MR Marsh', 'RR Pant', 'SN Khan', 'R Powell', 'AR Patel', 'SN Thakur', 'Kuldeep Yadav', 'A Nortje', 'KK Ahmed']",
                  "['Ishan Kishan', 'RG Sharma', 'D Brevis', 'Tilak Varma', 'TH David', 'Ramandeep Singh', 'DR Sams', 'HR Shokeen', 'JJ Bumrah', 'M Markande', 'RP Meredith']",
                  "Nitin Menon",
                  "Tapan Sharma"
                ],
                [
                  "6",
                  "1304114",
                  "Mumbai",
                  "2022-05-20",
                  "2022",
                  "68",
                  "Chennai Super Kings",
                  "Rajasthan Royals",
                  "Brabourne Stadium, Mumbai",
                  "Chennai Super Kings",
                  "bat",
                  "N",
                  "Rajasthan Royals",
                  "Wickets",
                  "5.0",
                  null,
                  "R Ashwin",
                  "['RD Gaikwad', 'DP Conway', 'MM Ali', 'N Jagadeesan', 'AT Rayudu', 'MS Dhoni', 'MJ Santner', 'Simarjeet Singh', 'Mukesh Choudhary', 'PH Solanki', 'M Pathirana']",
                  "['YBK Jaiswal', 'JC Buttler', 'SV Samson', 'D Padikkal', 'R Ashwin', 'SO Hetmyer', 'R Parag', 'TA Boult', 'YS Chahal', 'M Prasidh Krishna', 'OC McCoy']",
                  "CB Gaffaney",
                  "NA Patwardhan"
                ],
                [
                  "7",
                  "1304113",
                  "Mumbai",
                  "2022-05-19",
                  "2022",
                  "67",
                  "Gujarat Titans",
                  "Royal Challengers Bangalore",
                  "Wankhede Stadium, Mumbai",
                  "Gujarat Titans",
                  "bat",
                  "N",
                  "Royal Challengers Bangalore",
                  "Wickets",
                  "8.0",
                  null,
                  "V Kohli",
                  "['WP Saha', 'Shubman Gill', 'MS Wade', 'HH Pandya', 'DA Miller', 'R Tewatia', 'Rashid Khan', 'R Sai Kishore', 'LH Ferguson', 'Yash Dayal', 'Mohammed Shami']",
                  "['V Kohli', 'F du Plessis', 'GJ Maxwell', 'KD Karthik', 'RM Patidar', 'MK Lomror', 'Shahbaz Ahmed', 'HV Patel', 'PWH de Silva', 'JR Hazlewood', 'S Kaul']",
                  "KN Ananthapadmanabhan",
                  "GR Sadashiv Iyer"
                ],
                [
                  "8",
                  "1304112",
                  "Navi Mumbai",
                  "2022-05-18",
                  "2022",
                  "66",
                  "Lucknow Super Giants",
                  "Kolkata Knight Riders",
                  "Dr DY Patil Sports Academy, Mumbai",
                  "Lucknow Super Giants",
                  "bat",
                  "N",
                  "Lucknow Super Giants",
                  "Runs",
                  "2.0",
                  null,
                  "Q de Kock",
                  "['Q de Kock', 'KL Rahul', 'E Lewis', 'DJ Hooda', 'M Vohra', 'MP Stoinis', 'JO Holder', 'K Gowtham', 'Mohsin Khan', 'Avesh Khan', 'Ravi Bishnoi']",
                  "['VR Iyer', 'A Tomar', 'N Rana', 'SS Iyer', 'SW Billings', 'AD Russell', 'RK Singh', 'SP Narine', 'UT Yadav', 'TG Southee', 'CV Varun']",
                  "R Pandit",
                  "YC Barde"
                ],
                [
                  "9",
                  "1304111",
                  "Mumbai",
                  "2022-05-17",
                  "2022",
                  "65",
                  "Sunrisers Hyderabad",
                  "Mumbai Indians",
                  "Wankhede Stadium, Mumbai",
                  "Mumbai Indians",
                  "field",
                  "N",
                  "Sunrisers Hyderabad",
                  "Runs",
                  "3.0",
                  null,
                  "RA Tripathi",
                  "['Abhishek Sharma', 'PK Garg', 'RA Tripathi', 'N Pooran', 'AK Markram', 'KS Williamson', 'Washington Sundar', 'B Kumar', 'Umran Malik', 'T Natarajan', 'Fazalhaq Farooqi']",
                  "['RG Sharma', 'Ishan Kishan', 'DR Sams', 'Tilak Varma', 'TH David', 'T Stubbs', 'Ramandeep Singh', 'R Sanjay Yadav', 'JJ Bumrah', 'M Markande', 'RP Meredith']",
                  "CB Gaffaney",
                  "N Pandit"
                ],
                [
                  "10",
                  "1304110",
                  "Navi Mumbai",
                  "2022-05-16",
                  "2022",
                  "64",
                  "Delhi Capitals",
                  "Punjab Kings",
                  "Dr DY Patil Sports Academy, Mumbai",
                  "Punjab Kings",
                  "field",
                  "N",
                  "Delhi Capitals",
                  "Runs",
                  "17.0",
                  null,
                  "SN Thakur",
                  "['DA Warner', 'SN Khan', 'MR Marsh', 'Lalit Yadav', 'RR Pant', 'R Powell', 'AR Patel', 'SN Thakur', 'Kuldeep Yadav', 'A Nortje', 'KK Ahmed']",
                  "['JM Bairstow', 'S Dhawan', 'PBB Rajapaksa', 'LS Livingstone', 'MA Agarwal', 'JM Sharma', 'Harpreet Brar', 'R Dhawan', 'RD Chahar', 'K Rabada', 'Arshdeep Singh']",
                  "GR Sadashiv Iyer",
                  "Nitin Menon"
                ],
                [
                  "11",
                  "1304109",
                  "Mumbai",
                  "2022-05-15",
                  "2022",
                  "63",
                  "Rajasthan Royals",
                  "Lucknow Super Giants",
                  "Brabourne Stadium, Mumbai",
                  "Rajasthan Royals",
                  "bat",
                  "N",
                  "Rajasthan Royals",
                  "Runs",
                  "24.0",
                  null,
                  "TA Boult",
                  "['YBK Jaiswal', 'JC Buttler', 'SV Samson', 'D Padikkal', 'R Parag', 'JDS Neesham', 'R Ashwin', 'TA Boult', 'M Prasidh Krishna', 'YS Chahal', 'OC McCoy']",
                  "['Q de Kock', 'KL Rahul', 'A Badoni', 'DJ Hooda', 'KH Pandya', 'MP Stoinis', 'JO Holder', 'PVD Chameera', 'Mohsin Khan', 'Avesh Khan', 'Ravi Bishnoi']",
                  "PG Pathak",
                  "Tapan Sharma"
                ],
                [
                  "12",
                  "1304108",
                  "Mumbai",
                  "2022-05-15",
                  "2022",
                  "62",
                  "Chennai Super Kings",
                  "Gujarat Titans",
                  "Wankhede Stadium, Mumbai",
                  "Chennai Super Kings",
                  "bat",
                  "N",
                  "Gujarat Titans",
                  "Wickets",
                  "7.0",
                  null,
                  "WP Saha",
                  "['RD Gaikwad', 'DP Conway', 'MM Ali', 'N Jagadeesan', 'S Dube', 'MS Dhoni', 'MJ Santner', 'PH Solanki', 'Simarjeet Singh', 'M Pathirana', 'Mukesh Choudhary']",
                  "['WP Saha', 'Shubman Gill', 'MS Wade', 'HH Pandya', 'DA Miller', 'R Tewatia', 'Rashid Khan', 'R Sai Kishore', 'AS Joseph', 'Yash Dayal', 'Mohammed Shami']",
                  "R Pandit",
                  "VK Sharma"
                ],
                [
                  "13",
                  "1304107",
                  "Pune",
                  "2022-05-14",
                  "2022",
                  "61",
                  "Kolkata Knight Riders",
                  "Sunrisers Hyderabad",
                  "Maharashtra Cricket Association Stadium, Pune",
                  "Kolkata Knight Riders",
                  "bat",
                  "N",
                  "Kolkata Knight Riders",
                  "Runs",
                  "54.0",
                  null,
                  "AD Russell",
                  "['VR Iyer', 'AM Rahane', 'N Rana', 'SS Iyer', 'SW Billings', 'RK Singh', 'AD Russell', 'SP Narine', 'UT Yadav', 'TG Southee', 'CV Varun']",
                  "['Abhishek Sharma', 'KS Williamson', 'RA Tripathi', 'AK Markram', 'N Pooran', 'Washington Sundar', 'Shashank Singh', 'M Jansen', 'B Kumar', 'Umran Malik', 'T Natarajan']",
                  "AK Chaudhary",
                  "KN Ananthapadmanabhan"
                ],
                [
                  "14",
                  "1304106",
                  "Mumbai",
                  "2022-05-13",
                  "2022",
                  "60",
                  "Punjab Kings",
                  "Royal Challengers Bangalore",
                  "Brabourne Stadium, Mumbai",
                  "Royal Challengers Bangalore",
                  "field",
                  "N",
                  "Punjab Kings",
                  "Runs",
                  "54.0",
                  null,
                  "JM Bairstow",
                  "['JM Bairstow', 'S Dhawan', 'PBB Rajapaksa', 'LS Livingstone', 'MA Agarwal', 'JM Sharma', 'Harpreet Brar', 'R Dhawan', 'RD Chahar', 'K Rabada', 'Arshdeep Singh']",
                  "['V Kohli', 'F du Plessis', 'RM Patidar', 'MK Lomror', 'GJ Maxwell', 'KD Karthik', 'Shahbaz Ahmed', 'HV Patel', 'PWH de Silva', 'Mohammed Siraj', 'JR Hazlewood']",
                  "J Madanagopal",
                  "N Pandit"
                ],
                [
                  "15",
                  "1304105",
                  "Mumbai",
                  "2022-05-12",
                  "2022",
                  "59",
                  "Chennai Super Kings",
                  "Mumbai Indians",
                  "Wankhede Stadium, Mumbai",
                  "Mumbai Indians",
                  "field",
                  "N",
                  "Mumbai Indians",
                  "Wickets",
                  "5.0",
                  null,
                  "DR Sams",
                  "['RD Gaikwad', 'DP Conway', 'MM Ali', 'RV Uthappa', 'AT Rayudu', 'MS Dhoni', 'S Dube', 'DJ Bravo', 'Simarjeet Singh', 'M Theekshana', 'Mukesh Choudhary']",
                  "['Ishan Kishan', 'RG Sharma', 'DR Sams', 'Tilak Varma', 'T Stubbs', 'HR Shokeen', 'TH David', 'Ramandeep Singh', 'JJ Bumrah', 'RP Meredith', 'K Kartikeya']",
                  "Chirra Ravikanthreddy",
                  "CB Gaffaney"
                ],
                [
                  "16",
                  "1304104",
                  "Navi Mumbai",
                  "2022-05-11",
                  "2022",
                  "58",
                  "Rajasthan Royals",
                  "Delhi Capitals",
                  "Dr DY Patil Sports Academy, Mumbai",
                  "Delhi Capitals",
                  "field",
                  "N",
                  "Delhi Capitals",
                  "Wickets",
                  "8.0",
                  null,
                  "MR Marsh",
                  "['YBK Jaiswal', 'JC Buttler', 'R Ashwin', 'D Padikkal', 'SV Samson', 'R Parag', 'HE van der Dussen', 'TA Boult', 'M Prasidh Krishna', 'YS Chahal', 'KR Sen']",
                  "['KS Bharat', 'DA Warner', 'MR Marsh', 'RR Pant', 'R Powell', 'Lalit Yadav', 'AR Patel', 'SN Thakur', 'Kuldeep Yadav', 'A Nortje', 'C Sakariya']",
                  "NA Patwardhan",
                  "Nitin Menon"
                ],
                [
                  "17",
                  "1304103",
                  "Pune",
                  "2022-05-10",
                  "2022",
                  "57",
                  "Gujarat Titans",
                  "Lucknow Super Giants",
                  "Maharashtra Cricket Association Stadium, Pune",
                  "Gujarat Titans",
                  "bat",
                  "N",
                  "Gujarat Titans",
                  "Runs",
                  "62.0",
                  null,
                  "Shubman Gill",
                  "['WP Saha', 'Shubman Gill', 'MS Wade', 'HH Pandya', 'DA Miller', 'R Tewatia', 'Rashid Khan', 'R Sai Kishore', 'AS Joseph', 'Yash Dayal', 'Mohammed Shami']",
                  "['Q de Kock', 'KL Rahul', 'DJ Hooda', 'KS Sharma', 'KH Pandya', 'A Badoni', 'MP Stoinis', 'JO Holder', 'Mohsin Khan', 'PVD Chameera', 'Avesh Khan']",
                  "KN Ananthapadmanabhan",
                  "MA Gough"
                ],
                [
                  "18",
                  "1304102",
                  "Navi Mumbai",
                  "2022-05-09",
                  "2022",
                  "56",
                  "Kolkata Knight Riders",
                  "Mumbai Indians",
                  "Dr DY Patil Sports Academy, Mumbai",
                  "Mumbai Indians",
                  "field",
                  "N",
                  "Kolkata Knight Riders",
                  "Runs",
                  "52.0",
                  null,
                  "JJ Bumrah",
                  "['VR Iyer', 'AM Rahane', 'N Rana', 'SS Iyer', 'AD Russell', 'RK Singh', 'SP Jackson', 'PJ Cummins', 'SP Narine', 'TG Southee', 'CV Varun']",
                  "['RG Sharma', 'Ishan Kishan', 'Tilak Varma', 'Ramandeep Singh', 'TH David', 'KA Pollard', 'DR Sams', 'M Ashwin', 'K Kartikeya', 'JJ Bumrah', 'RP Meredith']",
                  "CB Gaffaney",
                  "GR Sadashiv Iyer"
                ],
                [
                  "19",
                  "1304101",
                  "Navi Mumbai",
                  "2022-05-08",
                  "2022",
                  "55",
                  "Chennai Super Kings",
                  "Delhi Capitals",
                  "Dr DY Patil Sports Academy, Mumbai",
                  "Delhi Capitals",
                  "field",
                  "N",
                  "Chennai Super Kings",
                  "Runs",
                  "91.0",
                  null,
                  "DP Conway",
                  "['RD Gaikwad', 'DP Conway', 'S Dube', 'AT Rayudu', 'MS Dhoni', 'MM Ali', 'RV Uthappa', 'DJ Bravo', 'Simarjeet Singh', 'M Theekshana', 'Mukesh Choudhary']",
                  "['DA Warner', 'KS Bharat', 'MR Marsh', 'RR Pant', 'R Powell', 'RV Patel', 'AR Patel', 'SN Thakur', 'Kuldeep Yadav', 'A Nortje', 'KK Ahmed']",
                  "Nitin Menon",
                  "R Pandit"
                ],
                [
                  "20",
                  "1304100",
                  "Mumbai",
                  "2022-05-08",
                  "2022",
                  "54",
                  "Royal Challengers Bangalore",
                  "Sunrisers Hyderabad",
                  "Wankhede Stadium, Mumbai",
                  "Royal Challengers Bangalore",
                  "bat",
                  "N",
                  "Royal Challengers Bangalore",
                  "Runs",
                  "67.0",
                  null,
                  "PWH de Silva",
                  "['V Kohli', 'F du Plessis', 'RM Patidar', 'GJ Maxwell', 'KD Karthik', 'MK Lomror', 'Shahbaz Ahmed', 'PWH de Silva', 'HV Patel', 'JR Hazlewood', 'Mohammed Siraj']",
                  "['Abhishek Sharma', 'KS Williamson', 'RA Tripathi', 'AK Markram', 'N Pooran', 'J Suchith', 'Shashank Singh', 'Kartik Tyagi', 'B Kumar', 'Umran Malik', 'Fazalhaq Farooqi']",
                  "BNJ Oxenford",
                  "N Pandit"
                ],
                [
                  "21",
                  "1304099",
                  "Pune",
                  "2022-05-07",
                  "2022",
                  "53",
                  "Lucknow Super Giants",
                  "Kolkata Knight Riders",
                  "Maharashtra Cricket Association Stadium, Pune",
                  "Kolkata Knight Riders",
                  "field",
                  "N",
                  "Lucknow Super Giants",
                  "Runs",
                  "75.0",
                  null,
                  "Avesh Khan",
                  "['Q de Kock', 'KL Rahul', 'DJ Hooda', 'KH Pandya', 'A Badoni', 'MP Stoinis', 'JO Holder', 'PVD Chameera', 'Avesh Khan', 'Mohsin Khan', 'Ravi Bishnoi']",
                  "['B Indrajith', 'AJ Finch', 'SS Iyer', 'N Rana', 'RK Singh', 'AD Russell', 'SP Narine', 'AS Roy', 'Shivam Mavi', 'TG Southee', 'Harshit Rana']",
                  "AK Chaudhary",
                  "MA Gough"
                ],
                [
                  "22",
                  "1304098",
                  "Mumbai",
                  "2022-05-07",
                  "2022",
                  "52",
                  "Punjab Kings",
                  "Rajasthan Royals",
                  "Wankhede Stadium, Mumbai",
                  "Punjab Kings",
                  "bat",
                  "N",
                  "Rajasthan Royals",
                  "Wickets",
                  "6.0",
                  null,
                  "YBK Jaiswal",
                  "['JM Bairstow', 'S Dhawan', 'PBB Rajapaksa', 'MA Agarwal', 'JM Sharma', 'LS Livingstone', 'R Dhawan', 'K Rabada', 'RD Chahar', 'Arshdeep Singh', 'Sandeep Sharma']",
                  "['YBK Jaiswal', 'JC Buttler', 'SV Samson', 'D Padikkal', 'SO Hetmyer', 'R Parag', 'R Ashwin', 'TA Boult', 'M Prasidh Krishna', 'YS Chahal', 'KR Sen']",
                  "Chirra Ravikanthreddy",
                  "YC Barde"
                ],
                [
                  "23",
                  "1304097",
                  "Mumbai",
                  "2022-05-06",
                  "2022",
                  "51",
                  "Mumbai Indians",
                  "Gujarat Titans",
                  "Brabourne Stadium, Mumbai",
                  "Gujarat Titans",
                  "field",
                  "N",
                  "Mumbai Indians",
                  "Runs",
                  "5.0",
                  null,
                  "TH David",
                  "['Ishan Kishan', 'RG Sharma', 'SA Yadav', 'Tilak Varma', 'KA Pollard', 'TH David', 'DR Sams', 'M Ashwin', 'K Kartikeya', 'JJ Bumrah', 'RP Meredith']",
                  "['WP Saha', 'Shubman Gill', 'HH Pandya', 'B Sai Sudharsan', 'DA Miller', 'R Tewatia', 'Rashid Khan', 'PJ Sangwan', 'LH Ferguson', 'AS Joseph', 'Mohammed Shami']",
                  "J Madanagopal",
                  "GR Sadashiv Iyer"
                ],
                [
                  "24",
                  "1304096",
                  "Mumbai",
                  "2022-05-05",
                  "2022",
                  "50",
                  "Delhi Capitals",
                  "Sunrisers Hyderabad",
                  "Brabourne Stadium, Mumbai",
                  "Sunrisers Hyderabad",
                  "field",
                  "N",
                  "Delhi Capitals",
                  "Runs",
                  "21.0",
                  null,
                  "DA Warner",
                  "['Mandeep Singh', 'DA Warner', 'MR Marsh', 'RR Pant', 'R Powell', 'Lalit Yadav', 'RV Patel', 'SN Thakur', 'Kuldeep Yadav', 'A Nortje', 'KK Ahmed']",
                  "['Abhishek Sharma', 'KS Williamson', 'RA Tripathi', 'AK Markram', 'N Pooran', 'Shashank Singh', 'SA Abbott', 'S Gopal', 'Kartik Tyagi', 'B Kumar', 'Umran Malik']",
                  "Navdeep Singh",
                  "NA Patwardhan"
                ],
                [
                  "25",
                  "1304095",
                  "Pune",
                  "2022-05-04",
                  "2022",
                  "49",
                  "Royal Challengers Bangalore",
                  "Chennai Super Kings",
                  "Maharashtra Cricket Association Stadium, Pune",
                  "Chennai Super Kings",
                  "field",
                  "N",
                  "Royal Challengers Bangalore",
                  "Runs",
                  "13.0",
                  null,
                  "HV Patel",
                  "['V Kohli', 'F du Plessis', 'GJ Maxwell', 'MK Lomror', 'RM Patidar', 'KD Karthik', 'PWH de Silva', 'Shahbaz Ahmed', 'HV Patel', 'Mohammed Siraj', 'JR Hazlewood']",
                  "['RD Gaikwad', 'DP Conway', 'RV Uthappa', 'AT Rayudu', 'MM Ali', 'RA Jadeja', 'MS Dhoni', 'D Pretorius', 'Simarjeet Singh', 'M Theekshana', 'Mukesh Choudhary']",
                  "KN Ananthapadmanabhan",
                  "MA Gough"
                ],
                [
                  "26",
                  "1304094",
                  "Navi Mumbai",
                  "2022-05-03",
                  "2022",
                  "48",
                  "Gujarat Titans",
                  "Punjab Kings",
                  "Dr DY Patil Sports Academy, Mumbai",
                  "Gujarat Titans",
                  "bat",
                  "N",
                  "Punjab Kings",
                  "Wickets",
                  "8.0",
                  null,
                  "K Rabada",
                  "['WP Saha', 'Shubman Gill', 'B Sai Sudharsan', 'HH Pandya', 'DA Miller', 'R Tewatia', 'Rashid Khan', 'PJ Sangwan', 'LH Ferguson', 'AS Joseph', 'Mohammed Shami']",
                  "['JM Bairstow', 'S Dhawan', 'PBB Rajapaksa', 'LS Livingstone', 'MA Agarwal', 'JM Sharma', 'R Dhawan', 'K Rabada', 'RD Chahar', 'Arshdeep Singh', 'Sandeep Sharma']",
                  "R Pandit",
                  "VK Sharma"
                ],
                [
                  "27",
                  "1304093",
                  "Mumbai",
                  "2022-05-02",
                  "2022",
                  "47",
                  "Rajasthan Royals",
                  "Kolkata Knight Riders",
                  "Wankhede Stadium, Mumbai",
                  "Kolkata Knight Riders",
                  "field",
                  "N",
                  "Kolkata Knight Riders",
                  "Wickets",
                  "7.0",
                  null,
                  "RK Singh",
                  "['JC Buttler', 'D Padikkal', 'SV Samson', 'KK Nair', 'R Parag', 'SO Hetmyer', 'R Ashwin', 'TA Boult', 'M Prasidh Krishna', 'YS Chahal', 'KR Sen']",
                  "['B Indrajith', 'AJ Finch', 'SS Iyer', 'N Rana', 'RK Singh', 'AS Roy', 'AD Russell', 'SP Narine', 'UT Yadav', 'TG Southee', 'Shivam Mavi']",
                  "J Madanagopal",
                  "N Pandit"
                ],
                [
                  "28",
                  "1304092",
                  "Pune",
                  "2022-05-01",
                  "2022",
                  "46",
                  "Chennai Super Kings",
                  "Sunrisers Hyderabad",
                  "Maharashtra Cricket Association Stadium, Pune",
                  "Sunrisers Hyderabad",
                  "field",
                  "N",
                  "Chennai Super Kings",
                  "Runs",
                  "13.0",
                  null,
                  "RD Gaikwad",
                  "['RD Gaikwad', 'DP Conway', 'MS Dhoni', 'RA Jadeja', 'RV Uthappa', 'AT Rayudu', 'Simarjeet Singh', 'MJ Santner', 'D Pretorius', 'Mukesh Choudhary', 'M Theekshana']",
                  "['Abhishek Sharma', 'KS Williamson', 'RA Tripathi', 'AK Markram', 'N Pooran', 'Shashank Singh', 'Washington Sundar', 'M Jansen', 'B Kumar', 'T Natarajan', 'Umran Malik']",
                  "AK Chaudhary",
                  "KN Ananthapadmanabhan"
                ],
                [
                  "29",
                  "1304091",
                  "Mumbai",
                  "2022-05-01",
                  "2022",
                  "45",
                  "Lucknow Super Giants",
                  "Delhi Capitals",
                  "Wankhede Stadium, Mumbai",
                  "Lucknow Super Giants",
                  "bat",
                  "N",
                  "Lucknow Super Giants",
                  "Runs",
                  "6.0",
                  null,
                  "Mohsin Khan",
                  "['Q de Kock', 'KL Rahul', 'DJ Hooda', 'MP Stoinis', 'KH Pandya', 'A Badoni', 'JO Holder', 'Mohsin Khan', 'K Gowtham', 'PVD Chameera', 'Ravi Bishnoi']",
                  "['PP Shaw', 'DA Warner', 'MR Marsh', 'RR Pant', 'Lalit Yadav', 'R Powell', 'AR Patel', 'SN Thakur', 'Kuldeep Yadav', 'Mustafizur Rahman', 'C Sakariya']",
                  "Chirra Ravikanthreddy",
                  "CB Gaffaney"
                ],
                [
                  "30",
                  "1304090",
                  "Navi Mumbai",
                  "2022-04-30",
                  "2022",
                  "44",
                  "Rajasthan Royals",
                  "Mumbai Indians",
                  "Dr DY Patil Sports Academy, Mumbai",
                  "Mumbai Indians",
                  "field",
                  "N",
                  "Mumbai Indians",
                  "Wickets",
                  "5.0",
                  null,
                  "SA Yadav",
                  "['JC Buttler', 'D Padikkal', 'SV Samson', 'DJ Mitchell', 'SO Hetmyer', 'R Parag', 'R Ashwin', 'TA Boult', 'M Prasidh Krishna', 'YS Chahal', 'KR Sen']",
                  "['RG Sharma', 'Ishan Kishan', 'SA Yadav', 'Tilak Varma', 'KA Pollard', 'TH David', 'DR Sams', 'HR Shokeen', 'K Kartikeya', 'JJ Bumrah', 'RP Meredith']",
                  "BNJ Oxenford",
                  "YC Barde"
                ],
                [
                  "31",
                  "1304089",
                  "Mumbai",
                  "2022-04-30",
                  "2022",
                  "43",
                  "Royal Challengers Bangalore",
                  "Gujarat Titans",
                  "Brabourne Stadium, Mumbai",
                  "Royal Challengers Bangalore",
                  "bat",
                  "N",
                  "Gujarat Titans",
                  "Wickets",
                  "6.0",
                  null,
                  "R Tewatia",
                  "['V Kohli', 'F du Plessis', 'RM Patidar', 'GJ Maxwell', 'KD Karthik', 'Shahbaz Ahmed', 'MK Lomror', 'PWH de Silva', 'HV Patel', 'JR Hazlewood', 'Mohammed Siraj']",
                  "['WP Saha', 'Shubman Gill', 'B Sai Sudharsan', 'HH Pandya', 'DA Miller', 'R Tewatia', 'Rashid Khan', 'PJ Sangwan', 'AS Joseph', 'LH Ferguson', 'Mohammed Shami']",
                  "HAS Khalid",
                  "VK Sharma"
                ],
                [
                  "32",
                  "1304088",
                  "Pune",
                  "2022-04-29",
                  "2022",
                  "42",
                  "Lucknow Super Giants",
                  "Punjab Kings",
                  "Maharashtra Cricket Association Stadium, Pune",
                  "Punjab Kings",
                  "field",
                  "N",
                  "Lucknow Super Giants",
                  "Runs",
                  "20.0",
                  null,
                  "KH Pandya",
                  "['Q de Kock', 'KL Rahul', 'DJ Hooda', 'KH Pandya', 'MP Stoinis', 'A Badoni', 'JO Holder', 'PVD Chameera', 'Mohsin Khan', 'Avesh Khan', 'Ravi Bishnoi']",
                  "['MA Agarwal', 'S Dhawan', 'JM Bairstow', 'PBB Rajapaksa', 'LS Livingstone', 'JM Sharma', 'R Dhawan', 'K Rabada', 'RD Chahar', 'Arshdeep Singh', 'Sandeep Sharma']",
                  "MA Gough",
                  "UV Gandhe"
                ],
                [
                  "33",
                  "1304087",
                  "Mumbai",
                  "2022-04-28",
                  "2022",
                  "41",
                  "Kolkata Knight Riders",
                  "Delhi Capitals",
                  "Wankhede Stadium, Mumbai",
                  "Delhi Capitals",
                  "field",
                  "N",
                  "Delhi Capitals",
                  "Wickets",
                  "4.0",
                  null,
                  "Kuldeep Yadav",
                  "['AJ Finch', 'VR Iyer', 'SS Iyer', 'B Indrajith', 'SP Narine', 'N Rana', 'AD Russell', 'RK Singh', 'UT Yadav', 'TG Southee', 'Harshit Rana']",
                  "['PP Shaw', 'DA Warner', 'MR Marsh', 'Lalit Yadav', 'RR Pant', 'R Powell', 'AR Patel', 'SN Thakur', 'Kuldeep Yadav', 'Mustafizur Rahman', 'C Sakariya']",
                  "AK Chaudhary",
                  "PG Pathak"
                ],
                [
                  "34",
                  "1304086",
                  "Mumbai",
                  "2022-04-27",
                  "2022",
                  "40",
                  "Sunrisers Hyderabad",
                  "Gujarat Titans",
                  "Wankhede Stadium, Mumbai",
                  "Gujarat Titans",
                  "field",
                  "N",
                  "Gujarat Titans",
                  "Wickets",
                  "5.0",
                  null,
                  "Umran Malik",
                  "['Abhishek Sharma', 'KS Williamson', 'RA Tripathi', 'AK Markram', 'N Pooran', 'Washington Sundar', 'Shashank Singh', 'M Jansen', 'B Kumar', 'T Natarajan', 'Umran Malik']",
                  "['WP Saha', 'Shubman Gill', 'HH Pandya', 'DA Miller', 'R Tewatia', 'A Manohar', 'Rashid Khan', 'LH Ferguson', 'AS Joseph', 'Yash Dayal', 'Mohammed Shami']",
                  "CB Gaffaney",
                  "Navdeep Singh"
                ],
                [
                  "35",
                  "1304085",
                  "Pune",
                  "2022-04-26",
                  "2022",
                  "39",
                  "Rajasthan Royals",
                  "Royal Challengers Bangalore",
                  "Maharashtra Cricket Association Stadium, Pune",
                  "Royal Challengers Bangalore",
                  "field",
                  "N",
                  "Rajasthan Royals",
                  "Runs",
                  "29.0",
                  null,
                  "R Parag",
                  "['JC Buttler', 'D Padikkal', 'R Ashwin', 'SV Samson', 'DJ Mitchell', 'R Parag', 'SO Hetmyer', 'TA Boult', 'M Prasidh Krishna', 'YS Chahal', 'KR Sen']",
                  "['V Kohli', 'F du Plessis', 'RM Patidar', 'GJ Maxwell', 'Shahbaz Ahmed', 'SS Prabhudessai', 'KD Karthik', 'PWH de Silva', 'HV Patel', 'Mohammed Siraj', 'JR Hazlewood']",
                  "BNJ Oxenford",
                  "KN Ananthapadmanabhan"
                ],
                [
                  "36",
                  "1304084",
                  "Mumbai",
                  "2022-04-25",
                  "2022",
                  "38",
                  "Punjab Kings",
                  "Chennai Super Kings",
                  "Wankhede Stadium, Mumbai",
                  "Chennai Super Kings",
                  "field",
                  "N",
                  "Punjab Kings",
                  "Runs",
                  "11.0",
                  null,
                  "S Dhawan",
                  "['MA Agarwal', 'S Dhawan', 'PBB Rajapaksa', 'LS Livingstone', 'JM Bairstow', 'JM Sharma', 'R Dhawan', 'K Rabada', 'RD Chahar', 'Arshdeep Singh', 'Sandeep Sharma']",
                  "['RD Gaikwad', 'RV Uthappa', 'MJ Santner', 'S Dube', 'AT Rayudu', 'RA Jadeja', 'MS Dhoni', 'D Pretorius', 'DJ Bravo', 'Mukesh Choudhary', 'M Theekshana']",
                  "M Erasmus",
                  "Tapan Sharma"
                ],
                [
                  "37",
                  "1304083",
                  "Mumbai",
                  "2022-04-24",
                  "2022",
                  "37",
                  "Lucknow Super Giants",
                  "Mumbai Indians",
                  "Wankhede Stadium, Mumbai",
                  "Mumbai Indians",
                  "field",
                  "N",
                  "Lucknow Super Giants",
                  "Runs",
                  "36.0",
                  null,
                  "KL Rahul",
                  "['Q de Kock', 'KL Rahul', 'MK Pandey', 'MP Stoinis', 'KH Pandya', 'DJ Hooda', 'A Badoni', 'JO Holder', 'PVD Chameera', 'Ravi Bishnoi', 'Mohsin Khan']",
                  "['Ishan Kishan', 'RG Sharma', 'D Brevis', 'SA Yadav', 'Tilak Varma', 'KA Pollard', 'DR Sams', 'JD Unadkat', 'HR Shokeen', 'JJ Bumrah', 'RP Meredith']",
                  "M Erasmus",
                  "HAS Khalid"
                ],
                [
                  "38",
                  "1304082",
                  "Mumbai",
                  "2022-04-23",
                  "2022",
                  "36",
                  "Royal Challengers Bangalore",
                  "Sunrisers Hyderabad",
                  "Brabourne Stadium, Mumbai",
                  "Sunrisers Hyderabad",
                  "field",
                  "N",
                  "Sunrisers Hyderabad",
                  "Wickets",
                  "9.0",
                  null,
                  "M Jansen",
                  "['F du Plessis', 'Anuj Rawat', 'V Kohli', 'GJ Maxwell', 'SS Prabhudessai', 'Shahbaz Ahmed', 'KD Karthik', 'HV Patel', 'PWH de Silva', 'JR Hazlewood', 'Mohammed Siraj']",
                  "['Abhishek Sharma', 'KS Williamson', 'RA Tripathi', 'AK Markram', 'N Pooran', 'Shashank Singh', 'J Suchith', 'B Kumar', 'M Jansen', 'T Natarajan', 'Umran Malik']",
                  "Chirra Ravikanthreddy",
                  "J Madanagopal"
                ],
                [
                  "39",
                  "1304081",
                  "Navi Mumbai",
                  "2022-04-23",
                  "2022",
                  "35",
                  "Gujarat Titans",
                  "Kolkata Knight Riders",
                  "Dr DY Patil Sports Academy, Mumbai",
                  "Gujarat Titans",
                  "bat",
                  "N",
                  "Gujarat Titans",
                  "Runs",
                  "8.0",
                  null,
                  "Rashid Khan",
                  "['WP Saha', 'Shubman Gill', 'HH Pandya', 'DA Miller', 'R Tewatia', 'Rashid Khan', 'A Manohar', 'LH Ferguson', 'AS Joseph', 'Yash Dayal', 'Mohammed Shami']",
                  "['SW Billings', 'SP Narine', 'SS Iyer', 'N Rana', 'RK Singh', 'VR Iyer', 'AD Russell', 'Shivam Mavi', 'UT Yadav', 'TG Southee', 'CV Varun']",
                  "KN Ananthapadmanabhan",
                  "UV Gandhe"
                ],
                [
                  "40",
                  "1304080",
                  "Mumbai",
                  "2022-04-22",
                  "2022",
                  "34",
                  "Rajasthan Royals",
                  "Delhi Capitals",
                  "Wankhede Stadium, Mumbai",
                  "Delhi Capitals",
                  "field",
                  "N",
                  "Rajasthan Royals",
                  "Runs",
                  "15.0",
                  null,
                  "JC Buttler",
                  "['JC Buttler', 'D Padikkal', 'SV Samson', 'SO Hetmyer', 'R Parag', 'KK Nair', 'R Ashwin', 'TA Boult', 'OC McCoy', 'M Prasidh Krishna', 'YS Chahal']",
                  "['PP Shaw', 'DA Warner', 'SN Khan', 'RR Pant', 'Lalit Yadav', 'AR Patel', 'SN Thakur', 'R Powell', 'Kuldeep Yadav', 'Mustafizur Rahman', 'KK Ahmed']",
                  "NA Patwardhan",
                  "Nitin Menon"
                ],
                [
                  "41",
                  "1304079",
                  "Navi Mumbai",
                  "2022-04-21",
                  "2022",
                  "33",
                  "Mumbai Indians",
                  "Chennai Super Kings",
                  "Dr DY Patil Sports Academy, Mumbai",
                  "Chennai Super Kings",
                  "field",
                  "N",
                  "Chennai Super Kings",
                  "Wickets",
                  "3.0",
                  null,
                  "Mukesh Choudhary",
                  "['RG Sharma', 'Ishan Kishan', 'D Brevis', 'SA Yadav', 'Tilak Varma', 'HR Shokeen', 'KA Pollard', 'DR Sams', 'JD Unadkat', 'RP Meredith', 'JJ Bumrah']",
                  "['RD Gaikwad', 'RV Uthappa', 'MJ Santner', 'AT Rayudu', 'S Dube', 'RA Jadeja', 'MS Dhoni', 'D Pretorius', 'DJ Bravo', 'Mukesh Choudhary', 'M Theekshana']",
                  "BNJ Oxenford",
                  "UV Gandhe"
                ],
                [
                  "42",
                  "1304078",
                  "Mumbai",
                  "2022-04-20",
                  "2022",
                  "32",
                  "Punjab Kings",
                  "Delhi Capitals",
                  "Brabourne Stadium, Mumbai",
                  "Delhi Capitals",
                  "field",
                  "N",
                  "Delhi Capitals",
                  "Wickets",
                  "9.0",
                  null,
                  "Kuldeep Yadav",
                  "['MA Agarwal', 'S Dhawan', 'JM Bairstow', 'LS Livingstone', 'JM Sharma', 'M Shahrukh Khan', 'K Rabada', 'NT Ellis', 'RD Chahar', 'Arshdeep Singh', 'VG Arora']",
                  "['PP Shaw', 'DA Warner', 'SN Khan', 'RR Pant', 'R Powell', 'Lalit Yadav', 'SN Thakur', 'AR Patel', 'Kuldeep Yadav', 'Mustafizur Rahman', 'KK Ahmed']",
                  "RJ Tucker",
                  "Tapan Sharma"
                ],
                [
                  "43",
                  "1304077",
                  "Mumbai",
                  "2022-04-19",
                  "2022",
                  "31",
                  "Royal Challengers Bangalore",
                  "Lucknow Super Giants",
                  "Dr DY Patil Sports Academy, Mumbai",
                  "Lucknow Super Giants",
                  "field",
                  "N",
                  "Royal Challengers Bangalore",
                  "Runs",
                  "18.0",
                  null,
                  "F du Plessis",
                  "['Anuj Rawat', 'F du Plessis', 'V Kohli', 'GJ Maxwell', 'SS Prabhudessai', 'Shahbaz Ahmed', 'KD Karthik', 'HV Patel', 'PWH de Silva', 'JR Hazlewood', 'Mohammed Siraj']",
                  "['Q de Kock', 'KL Rahul', 'MK Pandey', 'KH Pandya', 'DJ Hooda', 'A Badoni', 'MP Stoinis', 'JO Holder', 'PVD Chameera', 'Ravi Bishnoi', 'Avesh Khan']",
                  "CB Gaffaney",
                  "N Pandit"
                ],
                [
                  "44",
                  "1304076",
                  "Mumbai",
                  "2022-04-18",
                  "2022",
                  "30",
                  "Rajasthan Royals",
                  "Kolkata Knight Riders",
                  "Brabourne Stadium, Mumbai",
                  "Kolkata Knight Riders",
                  "field",
                  "N",
                  "Rajasthan Royals",
                  "Runs",
                  "7.0",
                  null,
                  "YS Chahal",
                  "['JC Buttler', 'D Padikkal', 'SV Samson', 'SO Hetmyer', 'R Parag', 'KK Nair', 'R Ashwin', 'TA Boult', 'OC McCoy', 'M Prasidh Krishna', 'YS Chahal']",
                  "['AJ Finch', 'SP Narine', 'SS Iyer', 'N Rana', 'AD Russell', 'VR Iyer', 'SP Jackson', 'Shivam Mavi', 'PJ Cummins', 'UT Yadav', 'CV Varun']",
                  "GR Sadashiv Iyer",
                  "VK Sharma"
                ],
                [
                  "45",
                  "1304075",
                  "Pune",
                  "2022-04-17",
                  "2022",
                  "29",
                  "Chennai Super Kings",
                  "Gujarat Titans",
                  "Maharashtra Cricket Association Stadium, Pune",
                  "Gujarat Titans",
                  "field",
                  "N",
                  "Gujarat Titans",
                  "Wickets",
                  "3.0",
                  null,
                  "DA Miller",
                  "['RD Gaikwad', 'RV Uthappa', 'MM Ali', 'AT Rayudu', 'S Dube', 'RA Jadeja', 'MS Dhoni', 'DJ Bravo', 'CJ Jordan', 'M Theekshana', 'Mukesh Choudhary']",
                  "['WP Saha', 'Shubman Gill', 'V Shankar', 'A Manohar', 'DA Miller', 'R Tewatia', 'Rashid Khan', 'AS Joseph', 'LH Ferguson', 'Mohammed Shami', 'Yash Dayal']",
                  "KN Ananthapadmanabhan",
                  "UV Gandhe"
                ],
                [
                  "46",
                  "1304074",
                  "Mumbai",
                  "2022-04-17",
                  "2022",
                  "28",
                  "Punjab Kings",
                  "Sunrisers Hyderabad",
                  "Dr DY Patil Sports Academy, Mumbai",
                  "Sunrisers Hyderabad",
                  "field",
                  "N",
                  "Sunrisers Hyderabad",
                  "Wickets",
                  "7.0",
                  null,
                  "Umran Malik",
                  "['S Dhawan', 'P Simran Singh', 'JM Bairstow', 'LS Livingstone', 'JM Sharma', 'M Shahrukh Khan', 'OF Smith', 'K Rabada', 'RD Chahar', 'VG Arora', 'Arshdeep Singh']",
                  "['Abhishek Sharma', 'KS Williamson', 'RA Tripathi', 'AK Markram', 'N Pooran', 'Shashank Singh', 'J Suchith', 'B Kumar', 'M Jansen', 'T Natarajan', 'Umran Malik']",
                  "PG Pathak",
                  "R Pandit"
                ],
                [
                  "47",
                  "1304073",
                  "Mumbai",
                  "2022-04-16",
                  "2022",
                  "27",
                  "Royal Challengers Bangalore",
                  "Delhi Capitals",
                  "Wankhede Stadium, Mumbai",
                  "Delhi Capitals",
                  "field",
                  "N",
                  "Royal Challengers Bangalore",
                  "Runs",
                  "16.0",
                  null,
                  "KD Karthik",
                  "['F du Plessis', 'Anuj Rawat', 'V Kohli', 'GJ Maxwell', 'SS Prabhudessai', 'Shahbaz Ahmed', 'KD Karthik', 'PWH de Silva', 'Mohammed Siraj', 'HV Patel', 'JR Hazlewood']",
                  "['PP Shaw', 'DA Warner', 'MR Marsh', 'RR Pant', 'R Powell', 'Lalit Yadav', 'SN Thakur', 'AR Patel', 'Kuldeep Yadav', 'Mustafizur Rahman', 'KK Ahmed']",
                  "Chirra Ravikanthreddy",
                  "J Madanagopal"
                ],
                [
                  "48",
                  "1304072",
                  "Mumbai",
                  "2022-04-16",
                  "2022",
                  "26",
                  "Lucknow Super Giants",
                  "Mumbai Indians",
                  "Brabourne Stadium, Mumbai",
                  "Mumbai Indians",
                  "field",
                  "N",
                  "Lucknow Super Giants",
                  "Runs",
                  "18.0",
                  null,
                  "KL Rahul",
                  "['KL Rahul', 'Q de Kock', 'MK Pandey', 'MP Stoinis', 'DJ Hooda', 'KH Pandya', 'A Badoni', 'JO Holder', 'PVD Chameera', 'Avesh Khan', 'Ravi Bishnoi']",
                  "['Ishan Kishan', 'RG Sharma', 'D Brevis', 'SA Yadav', 'Tilak Varma', 'KA Pollard', 'FA Allen', 'JD Unadkat', 'M Ashwin', 'JJ Bumrah', 'TS Mills']",
                  "AK Chaudhary",
                  "NA Patwardhan"
                ],
                [
                  "49",
                  "1304071",
                  "Mumbai",
                  "2022-04-15",
                  "2022",
                  "25",
                  "Kolkata Knight Riders",
                  "Sunrisers Hyderabad",
                  "Brabourne Stadium, Mumbai",
                  "Sunrisers Hyderabad",
                  "field",
                  "N",
                  "Sunrisers Hyderabad",
                  "Wickets",
                  "7.0",
                  null,
                  "RA Tripathi",
                  "['VR Iyer', 'AJ Finch', 'SS Iyer', 'SP Narine', 'N Rana', 'SP Jackson', 'AD Russell', 'PJ Cummins', 'Aman Hakim Khan', 'UT Yadav', 'CV Varun']",
                  "['Abhishek Sharma', 'KS Williamson', 'RA Tripathi', 'AK Markram', 'N Pooran', 'Shashank Singh', 'J Suchith', 'M Jansen', 'B Kumar', 'T Natarajan', 'Umran Malik']",
                  "GR Sadashiv Iyer",
                  "VK Sharma"
                ]
              ],
              "shape": {
                "columns": 20,
                "rows": 950
              }
            },
            "text/plain": [
              "array([[1312200, 'Ahmedabad', '2022-05-29', ...,\n",
              "        \"['WP Saha', 'Shubman Gill', 'MS Wade', 'HH Pandya', 'DA Miller', 'R Tewatia', 'Rashid Khan', 'R Sai Kishore', 'LH Ferguson', 'Yash Dayal', 'Mohammed Shami']\",\n",
              "        'CB Gaffaney', 'Nitin Menon'],\n",
              "       [1312199, 'Ahmedabad', '2022-05-27', ...,\n",
              "        \"['YBK Jaiswal', 'JC Buttler', 'SV Samson', 'D Padikkal', 'SO Hetmyer', 'R Parag', 'R Ashwin', 'TA Boult', 'YS Chahal', 'M Prasidh Krishna', 'OC McCoy']\",\n",
              "        'CB Gaffaney', 'Nitin Menon'],\n",
              "       [1312198, 'Kolkata', '2022-05-25', ...,\n",
              "        \"['Q de Kock', 'KL Rahul', 'M Vohra', 'DJ Hooda', 'MP Stoinis', 'E Lewis', 'KH Pandya', 'PVD Chameera', 'Mohsin Khan', 'Avesh Khan', 'Ravi Bishnoi']\",\n",
              "        'J Madanagopal', 'MA Gough'],\n",
              "       ...,\n",
              "       [335984, 'Delhi', '2008-04-19', ...,\n",
              "        \"['T Kohli', 'YK Pathan', 'SR Watson', 'M Kaif', 'DS Lehmann', 'RA Jadeja', 'M Rawat', 'D Salunkhe', 'SK Warne', 'SK Trivedi', 'MM Patel']\",\n",
              "        'Aleem Dar', 'GA Pratapkumar'],\n",
              "       [335983, 'Chandigarh', '2008-04-19', ...,\n",
              "        \"['PA Patel', 'ML Hayden', 'MEK Hussey', 'MS Dhoni', 'SK Raina', 'JDP Oram', 'S Badrinath', 'Joginder Sharma', 'P Amarnath', 'MS Gony', 'M Muralitharan']\",\n",
              "        'MR Benson', 'SL Shastri'],\n",
              "       [335982, 'Bangalore', '2008-04-18', ...,\n",
              "        \"['SC Ganguly', 'BB McCullum', 'RT Ponting', 'DJ Hussey', 'Mohammad Hafeez', 'LR Shukla', 'WP Saha', 'AB Agarkar', 'AB Dinda', 'M Kartik', 'I Sharma']\",\n",
              "        'Asad Rauf', 'RE Koertzen']], dtype=object)"
            ]
          },
          "execution_count": 14,
          "metadata": {},
          "output_type": "execute_result"
        }
      ],
      "source": [
        "# values attribute returns the values of the DataFrame as a NumPy array\n",
        "ipl.values"
      ]
    },
    {
      "cell_type": "code",
      "execution_count": null,
      "metadata": {
        "colab": {
          "base_uri": "https://localhost:8080/",
          "height": 384
        },
        "id": "g6v9O1JuvPxO",
        "outputId": "81bb0f71-1ba0-4cfa-f34a-93f30bef2e6b"
      },
      "outputs": [
        {
          "data": {
            "application/vnd.microsoft.datawrangler.viewer.v0+json": {
              "columns": [
                {
                  "name": "index",
                  "rawType": "int64",
                  "type": "integer"
                },
                {
                  "name": "title_x",
                  "rawType": "object",
                  "type": "string"
                },
                {
                  "name": "imdb_id",
                  "rawType": "object",
                  "type": "string"
                },
                {
                  "name": "poster_path",
                  "rawType": "object",
                  "type": "unknown"
                },
                {
                  "name": "wiki_link",
                  "rawType": "object",
                  "type": "string"
                },
                {
                  "name": "title_y",
                  "rawType": "object",
                  "type": "string"
                },
                {
                  "name": "original_title",
                  "rawType": "object",
                  "type": "string"
                },
                {
                  "name": "is_adult",
                  "rawType": "int64",
                  "type": "integer"
                },
                {
                  "name": "year_of_release",
                  "rawType": "int64",
                  "type": "integer"
                },
                {
                  "name": "runtime",
                  "rawType": "object",
                  "type": "string"
                },
                {
                  "name": "genres",
                  "rawType": "object",
                  "type": "string"
                },
                {
                  "name": "imdb_rating",
                  "rawType": "float64",
                  "type": "float"
                },
                {
                  "name": "imdb_votes",
                  "rawType": "int64",
                  "type": "integer"
                },
                {
                  "name": "story",
                  "rawType": "object",
                  "type": "string"
                },
                {
                  "name": "summary",
                  "rawType": "object",
                  "type": "string"
                },
                {
                  "name": "tagline",
                  "rawType": "object",
                  "type": "unknown"
                },
                {
                  "name": "actors",
                  "rawType": "object",
                  "type": "string"
                },
                {
                  "name": "wins_nominations",
                  "rawType": "object",
                  "type": "unknown"
                },
                {
                  "name": "release_date",
                  "rawType": "object",
                  "type": "string"
                }
              ],
              "ref": "76d3338e-6474-48ad-adf9-fc2eee5d0d08",
              "rows": [
                [
                  "0",
                  "Uri: The Surgical Strike",
                  "tt8291224",
                  "https://upload.wikimedia.org/wikipedia/en/thumb/3/3b/URI_-_New_poster.jpg/220px-URI_-_New_poster.jpg",
                  "https://en.wikipedia.org/wiki/Uri:_The_Surgical_Strike",
                  "Uri: The Surgical Strike",
                  "Uri: The Surgical Strike",
                  "0",
                  "2019",
                  "138",
                  "Action|Drama|War",
                  "8.4",
                  "35112",
                  "Divided over five chapters  the film chronicles the events of the surgical strike conducted by the Indian military against suspected militants in Pakistan occupied Kashmir. It tells the story of the 11 tumultuous events over which the operation was carried out. Indian army special forces carry out a covert operation to avenge the killing of fellow army men at their base by a terrorist group.",
                  "Indian army special forces execute a covert operation  avenging the killing of fellow army men at their base by a terrorist group.",
                  null,
                  "Vicky Kaushal|Paresh Rawal|Mohit Raina|Yami Gautam|Kirti Kulhari|Rajit Kapoor|Ivan Rodrigues|Manasi Parekh|Swaroop Sampat|Riva Arora|Yogesh Soman|Fareed Ahmed|Akashdeep Arora|Kallol Banerjee|",
                  "4 wins",
                  "11 January 2019 (USA)"
                ],
                [
                  "1",
                  "Battalion 609",
                  "tt9472208",
                  null,
                  "https://en.wikipedia.org/wiki/Battalion_609",
                  "Battalion 609",
                  "Battalion 609",
                  "0",
                  "2019",
                  "131",
                  "War",
                  "4.1",
                  "73",
                  "The story revolves around a cricket match between the Indian Army and the Pakistan Army gone wrong and narrates the tale of the soldiers of Battalion 609 putting up a fight with Taliban. After an attack on Indian Army that is Battalion 609 near the LOC  the match which was to be played between India and Pakistan is cancelled. Anwar Hussein  a Pakistani soldier who is very fond of cricket and was looking forward to the match  throws a cricket bat at the other end of the LOC and calls the Indian army and Indians a bunch of cowards. In anger  the Indian army throws a ball towards them. Soon  a verbal fight breaks between them which leads to the two teams deciding to play a cricket match. The losing team will take their post eighteen kilometres back.",
                  "The story of Battalion 609 revolves around a cricket match between the Indian Army and the Pakistan army gone wrong and narrates the tale of the brave soldiers of Battalion 609 putting up a fight with the mighty Taliban.",
                  null,
                  "Vicky Ahuja|Shoaib Ibrahim|Shrikant Kamat|Elena Kazan|Vishwas Kini|Major Kishore|Jashn Kohli|Rammy C. Pandey|Manish Sharma|Sparsh Sharma|Farnaz Shetty|Vikas Shrivastav|Chandraprakash Thakur|Brajesh Tiwari|",
                  null,
                  "11 January 2019 (India)"
                ]
              ],
              "shape": {
                "columns": 18,
                "rows": 2
              }
            },
            "text/html": [
              "<div>\n",
              "<style scoped>\n",
              "    .dataframe tbody tr th:only-of-type {\n",
              "        vertical-align: middle;\n",
              "    }\n",
              "\n",
              "    .dataframe tbody tr th {\n",
              "        vertical-align: top;\n",
              "    }\n",
              "\n",
              "    .dataframe thead th {\n",
              "        text-align: right;\n",
              "    }\n",
              "</style>\n",
              "<table border=\"1\" class=\"dataframe\">\n",
              "  <thead>\n",
              "    <tr style=\"text-align: right;\">\n",
              "      <th></th>\n",
              "      <th>title_x</th>\n",
              "      <th>imdb_id</th>\n",
              "      <th>poster_path</th>\n",
              "      <th>wiki_link</th>\n",
              "      <th>title_y</th>\n",
              "      <th>original_title</th>\n",
              "      <th>is_adult</th>\n",
              "      <th>year_of_release</th>\n",
              "      <th>runtime</th>\n",
              "      <th>genres</th>\n",
              "      <th>imdb_rating</th>\n",
              "      <th>imdb_votes</th>\n",
              "      <th>story</th>\n",
              "      <th>summary</th>\n",
              "      <th>tagline</th>\n",
              "      <th>actors</th>\n",
              "      <th>wins_nominations</th>\n",
              "      <th>release_date</th>\n",
              "    </tr>\n",
              "  </thead>\n",
              "  <tbody>\n",
              "    <tr>\n",
              "      <th>0</th>\n",
              "      <td>Uri: The Surgical Strike</td>\n",
              "      <td>tt8291224</td>\n",
              "      <td>https://upload.wikimedia.org/wikipedia/en/thum...</td>\n",
              "      <td>https://en.wikipedia.org/wiki/Uri:_The_Surgica...</td>\n",
              "      <td>Uri: The Surgical Strike</td>\n",
              "      <td>Uri: The Surgical Strike</td>\n",
              "      <td>0</td>\n",
              "      <td>2019</td>\n",
              "      <td>138</td>\n",
              "      <td>Action|Drama|War</td>\n",
              "      <td>8.4</td>\n",
              "      <td>35112</td>\n",
              "      <td>Divided over five chapters  the film chronicle...</td>\n",
              "      <td>Indian army special forces execute a covert op...</td>\n",
              "      <td>NaN</td>\n",
              "      <td>Vicky Kaushal|Paresh Rawal|Mohit Raina|Yami Ga...</td>\n",
              "      <td>4 wins</td>\n",
              "      <td>11 January 2019 (USA)</td>\n",
              "    </tr>\n",
              "    <tr>\n",
              "      <th>1</th>\n",
              "      <td>Battalion 609</td>\n",
              "      <td>tt9472208</td>\n",
              "      <td>NaN</td>\n",
              "      <td>https://en.wikipedia.org/wiki/Battalion_609</td>\n",
              "      <td>Battalion 609</td>\n",
              "      <td>Battalion 609</td>\n",
              "      <td>0</td>\n",
              "      <td>2019</td>\n",
              "      <td>131</td>\n",
              "      <td>War</td>\n",
              "      <td>4.1</td>\n",
              "      <td>73</td>\n",
              "      <td>The story revolves around a cricket match betw...</td>\n",
              "      <td>The story of Battalion 609 revolves around a c...</td>\n",
              "      <td>NaN</td>\n",
              "      <td>Vicky Ahuja|Shoaib Ibrahim|Shrikant Kamat|Elen...</td>\n",
              "      <td>NaN</td>\n",
              "      <td>11 January 2019 (India)</td>\n",
              "    </tr>\n",
              "  </tbody>\n",
              "</table>\n",
              "</div>"
            ],
            "text/plain": [
              "                    title_x    imdb_id  \\\n",
              "0  Uri: The Surgical Strike  tt8291224   \n",
              "1             Battalion 609  tt9472208   \n",
              "\n",
              "                                         poster_path  \\\n",
              "0  https://upload.wikimedia.org/wikipedia/en/thum...   \n",
              "1                                                NaN   \n",
              "\n",
              "                                           wiki_link  \\\n",
              "0  https://en.wikipedia.org/wiki/Uri:_The_Surgica...   \n",
              "1        https://en.wikipedia.org/wiki/Battalion_609   \n",
              "\n",
              "                    title_y            original_title  is_adult  \\\n",
              "0  Uri: The Surgical Strike  Uri: The Surgical Strike         0   \n",
              "1             Battalion 609             Battalion 609         0   \n",
              "\n",
              "   year_of_release runtime            genres  imdb_rating  imdb_votes  \\\n",
              "0             2019     138  Action|Drama|War          8.4       35112   \n",
              "1             2019     131               War          4.1          73   \n",
              "\n",
              "                                               story  \\\n",
              "0  Divided over five chapters  the film chronicle...   \n",
              "1  The story revolves around a cricket match betw...   \n",
              "\n",
              "                                             summary tagline  \\\n",
              "0  Indian army special forces execute a covert op...     NaN   \n",
              "1  The story of Battalion 609 revolves around a c...     NaN   \n",
              "\n",
              "                                              actors wins_nominations  \\\n",
              "0  Vicky Kaushal|Paresh Rawal|Mohit Raina|Yami Ga...           4 wins   \n",
              "1  Vicky Ahuja|Shoaib Ibrahim|Shrikant Kamat|Elen...              NaN   \n",
              "\n",
              "              release_date  \n",
              "0    11 January 2019 (USA)  \n",
              "1  11 January 2019 (India)  "
            ]
          },
          "execution_count": 16,
          "metadata": {},
          "output_type": "execute_result"
        }
      ],
      "source": [
        "# head and tail\n",
        "# head() returns the first n rows of the DataFrame (default n=5)\n",
        "movies.head(2)  # returns the first 2 rows of the DataFrame"
      ]
    },
    {
      "cell_type": "code",
      "execution_count": null,
      "metadata": {
        "colab": {
          "base_uri": "https://localhost:8080/",
          "height": 315
        },
        "id": "t0d_xl44Hbzt",
        "outputId": "897f7bb3-93b6-4cd4-9168-e6a0ff083601"
      },
      "outputs": [
        {
          "data": {
            "application/vnd.microsoft.datawrangler.viewer.v0+json": {
              "columns": [
                {
                  "name": "index",
                  "rawType": "int64",
                  "type": "integer"
                },
                {
                  "name": "ID",
                  "rawType": "int64",
                  "type": "integer"
                },
                {
                  "name": "City",
                  "rawType": "object",
                  "type": "string"
                },
                {
                  "name": "Date",
                  "rawType": "object",
                  "type": "string"
                },
                {
                  "name": "Season",
                  "rawType": "object",
                  "type": "string"
                },
                {
                  "name": "MatchNumber",
                  "rawType": "object",
                  "type": "string"
                },
                {
                  "name": "Team1",
                  "rawType": "object",
                  "type": "string"
                },
                {
                  "name": "Team2",
                  "rawType": "object",
                  "type": "string"
                },
                {
                  "name": "Venue",
                  "rawType": "object",
                  "type": "string"
                },
                {
                  "name": "TossWinner",
                  "rawType": "object",
                  "type": "string"
                },
                {
                  "name": "TossDecision",
                  "rawType": "object",
                  "type": "string"
                },
                {
                  "name": "SuperOver",
                  "rawType": "object",
                  "type": "string"
                },
                {
                  "name": "WinningTeam",
                  "rawType": "object",
                  "type": "string"
                },
                {
                  "name": "WonBy",
                  "rawType": "object",
                  "type": "string"
                },
                {
                  "name": "Margin",
                  "rawType": "float64",
                  "type": "float"
                },
                {
                  "name": "method",
                  "rawType": "object",
                  "type": "unknown"
                },
                {
                  "name": "Player_of_Match",
                  "rawType": "object",
                  "type": "string"
                },
                {
                  "name": "Team1Players",
                  "rawType": "object",
                  "type": "string"
                },
                {
                  "name": "Team2Players",
                  "rawType": "object",
                  "type": "string"
                },
                {
                  "name": "Umpire1",
                  "rawType": "object",
                  "type": "string"
                },
                {
                  "name": "Umpire2",
                  "rawType": "object",
                  "type": "string"
                }
              ],
              "ref": "d1ff09da-1b74-4af3-8688-3fd2184e5165",
              "rows": [
                [
                  "948",
                  "335983",
                  "Chandigarh",
                  "2008-04-19",
                  "2007/08",
                  "2",
                  "Kings XI Punjab",
                  "Chennai Super Kings",
                  "Punjab Cricket Association Stadium, Mohali",
                  "Chennai Super Kings",
                  "bat",
                  "N",
                  "Chennai Super Kings",
                  "Runs",
                  "33.0",
                  null,
                  "MEK Hussey",
                  "['K Goel', 'JR Hopes', 'KC Sangakkara', 'Yuvraj Singh', 'SM Katich', 'IK Pathan', 'P Dharmani', 'B Lee', 'PP Chawla', 'WA Mota', 'S Sreesanth']",
                  "['PA Patel', 'ML Hayden', 'MEK Hussey', 'MS Dhoni', 'SK Raina', 'JDP Oram', 'S Badrinath', 'Joginder Sharma', 'P Amarnath', 'MS Gony', 'M Muralitharan']",
                  "MR Benson",
                  "SL Shastri"
                ],
                [
                  "949",
                  "335982",
                  "Bangalore",
                  "2008-04-18",
                  "2007/08",
                  "1",
                  "Royal Challengers Bangalore",
                  "Kolkata Knight Riders",
                  "M Chinnaswamy Stadium",
                  "Royal Challengers Bangalore",
                  "field",
                  "N",
                  "Kolkata Knight Riders",
                  "Runs",
                  "140.0",
                  null,
                  "BB McCullum",
                  "['R Dravid', 'W Jaffer', 'V Kohli', 'JH Kallis', 'CL White', 'MV Boucher', 'B Akhil', 'AA Noffke', 'P Kumar', 'Z Khan', 'SB Joshi']",
                  "['SC Ganguly', 'BB McCullum', 'RT Ponting', 'DJ Hussey', 'Mohammad Hafeez', 'LR Shukla', 'WP Saha', 'AB Agarkar', 'AB Dinda', 'M Kartik', 'I Sharma']",
                  "Asad Rauf",
                  "RE Koertzen"
                ]
              ],
              "shape": {
                "columns": 20,
                "rows": 2
              }
            },
            "text/html": [
              "<div>\n",
              "<style scoped>\n",
              "    .dataframe tbody tr th:only-of-type {\n",
              "        vertical-align: middle;\n",
              "    }\n",
              "\n",
              "    .dataframe tbody tr th {\n",
              "        vertical-align: top;\n",
              "    }\n",
              "\n",
              "    .dataframe thead th {\n",
              "        text-align: right;\n",
              "    }\n",
              "</style>\n",
              "<table border=\"1\" class=\"dataframe\">\n",
              "  <thead>\n",
              "    <tr style=\"text-align: right;\">\n",
              "      <th></th>\n",
              "      <th>ID</th>\n",
              "      <th>City</th>\n",
              "      <th>Date</th>\n",
              "      <th>Season</th>\n",
              "      <th>MatchNumber</th>\n",
              "      <th>Team1</th>\n",
              "      <th>Team2</th>\n",
              "      <th>Venue</th>\n",
              "      <th>TossWinner</th>\n",
              "      <th>TossDecision</th>\n",
              "      <th>SuperOver</th>\n",
              "      <th>WinningTeam</th>\n",
              "      <th>WonBy</th>\n",
              "      <th>Margin</th>\n",
              "      <th>method</th>\n",
              "      <th>Player_of_Match</th>\n",
              "      <th>Team1Players</th>\n",
              "      <th>Team2Players</th>\n",
              "      <th>Umpire1</th>\n",
              "      <th>Umpire2</th>\n",
              "    </tr>\n",
              "  </thead>\n",
              "  <tbody>\n",
              "    <tr>\n",
              "      <th>948</th>\n",
              "      <td>335983</td>\n",
              "      <td>Chandigarh</td>\n",
              "      <td>2008-04-19</td>\n",
              "      <td>2007/08</td>\n",
              "      <td>2</td>\n",
              "      <td>Kings XI Punjab</td>\n",
              "      <td>Chennai Super Kings</td>\n",
              "      <td>Punjab Cricket Association Stadium, Mohali</td>\n",
              "      <td>Chennai Super Kings</td>\n",
              "      <td>bat</td>\n",
              "      <td>N</td>\n",
              "      <td>Chennai Super Kings</td>\n",
              "      <td>Runs</td>\n",
              "      <td>33.0</td>\n",
              "      <td>NaN</td>\n",
              "      <td>MEK Hussey</td>\n",
              "      <td>['K Goel', 'JR Hopes', 'KC Sangakkara', 'Yuvra...</td>\n",
              "      <td>['PA Patel', 'ML Hayden', 'MEK Hussey', 'MS Dh...</td>\n",
              "      <td>MR Benson</td>\n",
              "      <td>SL Shastri</td>\n",
              "    </tr>\n",
              "    <tr>\n",
              "      <th>949</th>\n",
              "      <td>335982</td>\n",
              "      <td>Bangalore</td>\n",
              "      <td>2008-04-18</td>\n",
              "      <td>2007/08</td>\n",
              "      <td>1</td>\n",
              "      <td>Royal Challengers Bangalore</td>\n",
              "      <td>Kolkata Knight Riders</td>\n",
              "      <td>M Chinnaswamy Stadium</td>\n",
              "      <td>Royal Challengers Bangalore</td>\n",
              "      <td>field</td>\n",
              "      <td>N</td>\n",
              "      <td>Kolkata Knight Riders</td>\n",
              "      <td>Runs</td>\n",
              "      <td>140.0</td>\n",
              "      <td>NaN</td>\n",
              "      <td>BB McCullum</td>\n",
              "      <td>['R Dravid', 'W Jaffer', 'V Kohli', 'JH Kallis...</td>\n",
              "      <td>['SC Ganguly', 'BB McCullum', 'RT Ponting', 'D...</td>\n",
              "      <td>Asad Rauf</td>\n",
              "      <td>RE Koertzen</td>\n",
              "    </tr>\n",
              "  </tbody>\n",
              "</table>\n",
              "</div>"
            ],
            "text/plain": [
              "         ID        City        Date   Season MatchNumber  \\\n",
              "948  335983  Chandigarh  2008-04-19  2007/08           2   \n",
              "949  335982   Bangalore  2008-04-18  2007/08           1   \n",
              "\n",
              "                           Team1                  Team2  \\\n",
              "948              Kings XI Punjab    Chennai Super Kings   \n",
              "949  Royal Challengers Bangalore  Kolkata Knight Riders   \n",
              "\n",
              "                                          Venue                   TossWinner  \\\n",
              "948  Punjab Cricket Association Stadium, Mohali          Chennai Super Kings   \n",
              "949                       M Chinnaswamy Stadium  Royal Challengers Bangalore   \n",
              "\n",
              "    TossDecision SuperOver            WinningTeam WonBy  Margin method  \\\n",
              "948          bat         N    Chennai Super Kings  Runs    33.0    NaN   \n",
              "949        field         N  Kolkata Knight Riders  Runs   140.0    NaN   \n",
              "\n",
              "    Player_of_Match                                       Team1Players  \\\n",
              "948      MEK Hussey  ['K Goel', 'JR Hopes', 'KC Sangakkara', 'Yuvra...   \n",
              "949     BB McCullum  ['R Dravid', 'W Jaffer', 'V Kohli', 'JH Kallis...   \n",
              "\n",
              "                                          Team2Players    Umpire1      Umpire2  \n",
              "948  ['PA Patel', 'ML Hayden', 'MEK Hussey', 'MS Dh...  MR Benson   SL Shastri  \n",
              "949  ['SC Ganguly', 'BB McCullum', 'RT Ponting', 'D...  Asad Rauf  RE Koertzen  "
            ]
          },
          "execution_count": 17,
          "metadata": {},
          "output_type": "execute_result"
        }
      ],
      "source": [
        "# tail() returns the last n rows of the DataFrame (default n=5)\n",
        "ipl.tail(2) # returns the last 2 rows of the DataFrame"
      ]
    },
    {
      "cell_type": "code",
      "execution_count": null,
      "metadata": {
        "colab": {
          "base_uri": "https://localhost:8080/",
          "height": 583
        },
        "id": "QhIqN122vZyF",
        "outputId": "9d1bb788-1613-404e-98b7-221cf96dbe31"
      },
      "outputs": [
        {
          "data": {
            "application/vnd.microsoft.datawrangler.viewer.v0+json": {
              "columns": [
                {
                  "name": "index",
                  "rawType": "int64",
                  "type": "integer"
                },
                {
                  "name": "ID",
                  "rawType": "int64",
                  "type": "integer"
                },
                {
                  "name": "City",
                  "rawType": "object",
                  "type": "string"
                },
                {
                  "name": "Date",
                  "rawType": "object",
                  "type": "string"
                },
                {
                  "name": "Season",
                  "rawType": "object",
                  "type": "string"
                },
                {
                  "name": "MatchNumber",
                  "rawType": "object",
                  "type": "string"
                },
                {
                  "name": "Team1",
                  "rawType": "object",
                  "type": "string"
                },
                {
                  "name": "Team2",
                  "rawType": "object",
                  "type": "string"
                },
                {
                  "name": "Venue",
                  "rawType": "object",
                  "type": "string"
                },
                {
                  "name": "TossWinner",
                  "rawType": "object",
                  "type": "string"
                },
                {
                  "name": "TossDecision",
                  "rawType": "object",
                  "type": "string"
                },
                {
                  "name": "SuperOver",
                  "rawType": "object",
                  "type": "string"
                },
                {
                  "name": "WinningTeam",
                  "rawType": "object",
                  "type": "string"
                },
                {
                  "name": "WonBy",
                  "rawType": "object",
                  "type": "string"
                },
                {
                  "name": "Margin",
                  "rawType": "float64",
                  "type": "float"
                },
                {
                  "name": "method",
                  "rawType": "object",
                  "type": "unknown"
                },
                {
                  "name": "Player_of_Match",
                  "rawType": "object",
                  "type": "string"
                },
                {
                  "name": "Team1Players",
                  "rawType": "object",
                  "type": "string"
                },
                {
                  "name": "Team2Players",
                  "rawType": "object",
                  "type": "string"
                },
                {
                  "name": "Umpire1",
                  "rawType": "object",
                  "type": "string"
                },
                {
                  "name": "Umpire2",
                  "rawType": "object",
                  "type": "string"
                }
              ],
              "ref": "11db9de8-efe2-4470-982e-11ba95ccaa20",
              "rows": [
                [
                  "893",
                  "336039",
                  "Mumbai",
                  "2008-05-31",
                  "2007/08",
                  "Semi Final",
                  "Chennai Super Kings",
                  "Kings XI Punjab",
                  "Wankhede Stadium",
                  "Kings XI Punjab",
                  "bat",
                  "N",
                  "Chennai Super Kings",
                  "Wickets",
                  "9.0",
                  null,
                  "M Ntini",
                  "['PA Patel', 'S Vidyut', 'SK Raina', 'MS Dhoni', 'CK Kapugedera', 'S Badrinath', 'JA Morkel', 'MS Gony', 'L Balaji', 'M Muralitharan', 'M Ntini']",
                  "['SE Marsh', 'JR Hopes', 'KC Sangakkara', 'Yuvraj Singh', 'DPMD Jayawardene', 'IK Pathan', 'WA Mota', 'PP Chawla', 'RR Powar', 'S Sreesanth', 'VRV Singh']",
                  "Asad Rauf",
                  "DJ Harper"
                ],
                [
                  "21",
                  "1304099",
                  "Pune",
                  "2022-05-07",
                  "2022",
                  "53",
                  "Lucknow Super Giants",
                  "Kolkata Knight Riders",
                  "Maharashtra Cricket Association Stadium, Pune",
                  "Kolkata Knight Riders",
                  "field",
                  "N",
                  "Lucknow Super Giants",
                  "Runs",
                  "75.0",
                  null,
                  "Avesh Khan",
                  "['Q de Kock', 'KL Rahul', 'DJ Hooda', 'KH Pandya', 'A Badoni', 'MP Stoinis', 'JO Holder', 'PVD Chameera', 'Avesh Khan', 'Mohsin Khan', 'Ravi Bishnoi']",
                  "['B Indrajith', 'AJ Finch', 'SS Iyer', 'N Rana', 'RK Singh', 'AD Russell', 'SP Narine', 'AS Roy', 'Shivam Mavi', 'TG Southee', 'Harshit Rana']",
                  "AK Chaudhary",
                  "MA Gough"
                ],
                [
                  "814",
                  "419125",
                  "Mumbai",
                  "2010-03-25",
                  "2009/10",
                  "21",
                  "Chennai Super Kings",
                  "Mumbai Indians",
                  "Brabourne Stadium, Mumbai",
                  "Mumbai Indians",
                  "field",
                  "N",
                  "Mumbai Indians",
                  "Wickets",
                  "5.0",
                  null,
                  "SR Tendulkar",
                  "['PA Patel', 'ML Hayden', 'SK Raina', 'S Badrinath', 'MS Dhoni', 'JA Morkel', 'NLTC Perera', 'Joginder Sharma', 'L Balaji', 'M Muralitharan', 'SB Jakati']",
                  "['S Dhawan', 'SR Tendulkar', 'SS Tiwary', 'R Sathish', 'KA Pollard', 'DJ Bravo', 'R McLaren', 'AP Tare', 'Harbhajan Singh', 'Z Khan', 'SL Malinga']",
                  "AM Saheba",
                  "BF Bowden"
                ],
                [
                  "354",
                  "1082608",
                  "Delhi",
                  "2017-04-17",
                  "2017",
                  "18",
                  "Delhi Daredevils",
                  "Kolkata Knight Riders",
                  "Feroz Shah Kotla",
                  "Delhi Daredevils",
                  "bat",
                  "N",
                  "Kolkata Knight Riders",
                  "Wickets",
                  "4.0",
                  null,
                  "NM Coulter-Nile",
                  "['SV Samson', 'SW Billings', 'KK Nair', 'SS Iyer', 'RR Pant', 'AD Mathews', 'CH Morris', 'PJ Cummins', 'Mohammed Shami', 'A Mishra', 'Z Khan']",
                  "['G Gambhir', 'C de Grandhomme', 'RV Uthappa', 'MK Pandey', 'YK Pathan', 'SA Yadav', 'CR Woakes', 'SP Narine', 'NM Coulter-Nile', 'Kuldeep Yadav', 'UT Yadav']",
                  "Nitin Menon",
                  "CK Nandan"
                ],
                [
                  "571",
                  "598054",
                  "Delhi",
                  "2013-05-10",
                  "2013",
                  "57",
                  "Delhi Daredevils",
                  "Royal Challengers Bangalore",
                  "Feroz Shah Kotla",
                  "Delhi Daredevils",
                  "field",
                  "N",
                  "Royal Challengers Bangalore",
                  "Runs",
                  "4.0",
                  null,
                  "JD Unadkat",
                  "['DPMD Jayawardene', 'V Sehwag', 'UBT Chand', 'DA Warner', 'BJ Rohrer', 'KM Jadhav', 'IK Pathan', 'M Morkel', 'UT Yadav', 'S Nadeem', 'S Kaul']",
                  "['CA Pujara', 'CH Gayle', 'V Kohli', 'MC Henriques', 'AB de Villiers', 'SS Tiwary', 'J Syed Mohammad', 'R Vinay Kumar', 'R Rampaul', 'M Kartik', 'JD Unadkat']",
                  "NJ Llong",
                  "K Srinath"
                ]
              ],
              "shape": {
                "columns": 20,
                "rows": 5
              }
            },
            "text/html": [
              "<div>\n",
              "<style scoped>\n",
              "    .dataframe tbody tr th:only-of-type {\n",
              "        vertical-align: middle;\n",
              "    }\n",
              "\n",
              "    .dataframe tbody tr th {\n",
              "        vertical-align: top;\n",
              "    }\n",
              "\n",
              "    .dataframe thead th {\n",
              "        text-align: right;\n",
              "    }\n",
              "</style>\n",
              "<table border=\"1\" class=\"dataframe\">\n",
              "  <thead>\n",
              "    <tr style=\"text-align: right;\">\n",
              "      <th></th>\n",
              "      <th>ID</th>\n",
              "      <th>City</th>\n",
              "      <th>Date</th>\n",
              "      <th>Season</th>\n",
              "      <th>MatchNumber</th>\n",
              "      <th>Team1</th>\n",
              "      <th>Team2</th>\n",
              "      <th>Venue</th>\n",
              "      <th>TossWinner</th>\n",
              "      <th>TossDecision</th>\n",
              "      <th>SuperOver</th>\n",
              "      <th>WinningTeam</th>\n",
              "      <th>WonBy</th>\n",
              "      <th>Margin</th>\n",
              "      <th>method</th>\n",
              "      <th>Player_of_Match</th>\n",
              "      <th>Team1Players</th>\n",
              "      <th>Team2Players</th>\n",
              "      <th>Umpire1</th>\n",
              "      <th>Umpire2</th>\n",
              "    </tr>\n",
              "  </thead>\n",
              "  <tbody>\n",
              "    <tr>\n",
              "      <th>893</th>\n",
              "      <td>336039</td>\n",
              "      <td>Mumbai</td>\n",
              "      <td>2008-05-31</td>\n",
              "      <td>2007/08</td>\n",
              "      <td>Semi Final</td>\n",
              "      <td>Chennai Super Kings</td>\n",
              "      <td>Kings XI Punjab</td>\n",
              "      <td>Wankhede Stadium</td>\n",
              "      <td>Kings XI Punjab</td>\n",
              "      <td>bat</td>\n",
              "      <td>N</td>\n",
              "      <td>Chennai Super Kings</td>\n",
              "      <td>Wickets</td>\n",
              "      <td>9.0</td>\n",
              "      <td>NaN</td>\n",
              "      <td>M Ntini</td>\n",
              "      <td>['PA Patel', 'S Vidyut', 'SK Raina', 'MS Dhoni...</td>\n",
              "      <td>['SE Marsh', 'JR Hopes', 'KC Sangakkara', 'Yuv...</td>\n",
              "      <td>Asad Rauf</td>\n",
              "      <td>DJ Harper</td>\n",
              "    </tr>\n",
              "    <tr>\n",
              "      <th>21</th>\n",
              "      <td>1304099</td>\n",
              "      <td>Pune</td>\n",
              "      <td>2022-05-07</td>\n",
              "      <td>2022</td>\n",
              "      <td>53</td>\n",
              "      <td>Lucknow Super Giants</td>\n",
              "      <td>Kolkata Knight Riders</td>\n",
              "      <td>Maharashtra Cricket Association Stadium, Pune</td>\n",
              "      <td>Kolkata Knight Riders</td>\n",
              "      <td>field</td>\n",
              "      <td>N</td>\n",
              "      <td>Lucknow Super Giants</td>\n",
              "      <td>Runs</td>\n",
              "      <td>75.0</td>\n",
              "      <td>NaN</td>\n",
              "      <td>Avesh Khan</td>\n",
              "      <td>['Q de Kock', 'KL Rahul', 'DJ Hooda', 'KH Pand...</td>\n",
              "      <td>['B Indrajith', 'AJ Finch', 'SS Iyer', 'N Rana...</td>\n",
              "      <td>AK Chaudhary</td>\n",
              "      <td>MA Gough</td>\n",
              "    </tr>\n",
              "    <tr>\n",
              "      <th>814</th>\n",
              "      <td>419125</td>\n",
              "      <td>Mumbai</td>\n",
              "      <td>2010-03-25</td>\n",
              "      <td>2009/10</td>\n",
              "      <td>21</td>\n",
              "      <td>Chennai Super Kings</td>\n",
              "      <td>Mumbai Indians</td>\n",
              "      <td>Brabourne Stadium, Mumbai</td>\n",
              "      <td>Mumbai Indians</td>\n",
              "      <td>field</td>\n",
              "      <td>N</td>\n",
              "      <td>Mumbai Indians</td>\n",
              "      <td>Wickets</td>\n",
              "      <td>5.0</td>\n",
              "      <td>NaN</td>\n",
              "      <td>SR Tendulkar</td>\n",
              "      <td>['PA Patel', 'ML Hayden', 'SK Raina', 'S Badri...</td>\n",
              "      <td>['S Dhawan', 'SR Tendulkar', 'SS Tiwary', 'R S...</td>\n",
              "      <td>AM Saheba</td>\n",
              "      <td>BF Bowden</td>\n",
              "    </tr>\n",
              "    <tr>\n",
              "      <th>354</th>\n",
              "      <td>1082608</td>\n",
              "      <td>Delhi</td>\n",
              "      <td>2017-04-17</td>\n",
              "      <td>2017</td>\n",
              "      <td>18</td>\n",
              "      <td>Delhi Daredevils</td>\n",
              "      <td>Kolkata Knight Riders</td>\n",
              "      <td>Feroz Shah Kotla</td>\n",
              "      <td>Delhi Daredevils</td>\n",
              "      <td>bat</td>\n",
              "      <td>N</td>\n",
              "      <td>Kolkata Knight Riders</td>\n",
              "      <td>Wickets</td>\n",
              "      <td>4.0</td>\n",
              "      <td>NaN</td>\n",
              "      <td>NM Coulter-Nile</td>\n",
              "      <td>['SV Samson', 'SW Billings', 'KK Nair', 'SS Iy...</td>\n",
              "      <td>['G Gambhir', 'C de Grandhomme', 'RV Uthappa',...</td>\n",
              "      <td>Nitin Menon</td>\n",
              "      <td>CK Nandan</td>\n",
              "    </tr>\n",
              "    <tr>\n",
              "      <th>571</th>\n",
              "      <td>598054</td>\n",
              "      <td>Delhi</td>\n",
              "      <td>2013-05-10</td>\n",
              "      <td>2013</td>\n",
              "      <td>57</td>\n",
              "      <td>Delhi Daredevils</td>\n",
              "      <td>Royal Challengers Bangalore</td>\n",
              "      <td>Feroz Shah Kotla</td>\n",
              "      <td>Delhi Daredevils</td>\n",
              "      <td>field</td>\n",
              "      <td>N</td>\n",
              "      <td>Royal Challengers Bangalore</td>\n",
              "      <td>Runs</td>\n",
              "      <td>4.0</td>\n",
              "      <td>NaN</td>\n",
              "      <td>JD Unadkat</td>\n",
              "      <td>['DPMD Jayawardene', 'V Sehwag', 'UBT Chand', ...</td>\n",
              "      <td>['CA Pujara', 'CH Gayle', 'V Kohli', 'MC Henri...</td>\n",
              "      <td>NJ Llong</td>\n",
              "      <td>K Srinath</td>\n",
              "    </tr>\n",
              "  </tbody>\n",
              "</table>\n",
              "</div>"
            ],
            "text/plain": [
              "          ID    City        Date   Season MatchNumber                 Team1  \\\n",
              "893   336039  Mumbai  2008-05-31  2007/08  Semi Final   Chennai Super Kings   \n",
              "21   1304099    Pune  2022-05-07     2022          53  Lucknow Super Giants   \n",
              "814   419125  Mumbai  2010-03-25  2009/10          21   Chennai Super Kings   \n",
              "354  1082608   Delhi  2017-04-17     2017          18      Delhi Daredevils   \n",
              "571   598054   Delhi  2013-05-10     2013          57      Delhi Daredevils   \n",
              "\n",
              "                           Team2  \\\n",
              "893              Kings XI Punjab   \n",
              "21         Kolkata Knight Riders   \n",
              "814               Mumbai Indians   \n",
              "354        Kolkata Knight Riders   \n",
              "571  Royal Challengers Bangalore   \n",
              "\n",
              "                                             Venue             TossWinner  \\\n",
              "893                               Wankhede Stadium        Kings XI Punjab   \n",
              "21   Maharashtra Cricket Association Stadium, Pune  Kolkata Knight Riders   \n",
              "814                      Brabourne Stadium, Mumbai         Mumbai Indians   \n",
              "354                               Feroz Shah Kotla       Delhi Daredevils   \n",
              "571                               Feroz Shah Kotla       Delhi Daredevils   \n",
              "\n",
              "    TossDecision SuperOver                  WinningTeam    WonBy  Margin  \\\n",
              "893          bat         N          Chennai Super Kings  Wickets     9.0   \n",
              "21         field         N         Lucknow Super Giants     Runs    75.0   \n",
              "814        field         N               Mumbai Indians  Wickets     5.0   \n",
              "354          bat         N        Kolkata Knight Riders  Wickets     4.0   \n",
              "571        field         N  Royal Challengers Bangalore     Runs     4.0   \n",
              "\n",
              "    method  Player_of_Match  \\\n",
              "893    NaN          M Ntini   \n",
              "21     NaN       Avesh Khan   \n",
              "814    NaN     SR Tendulkar   \n",
              "354    NaN  NM Coulter-Nile   \n",
              "571    NaN       JD Unadkat   \n",
              "\n",
              "                                          Team1Players  \\\n",
              "893  ['PA Patel', 'S Vidyut', 'SK Raina', 'MS Dhoni...   \n",
              "21   ['Q de Kock', 'KL Rahul', 'DJ Hooda', 'KH Pand...   \n",
              "814  ['PA Patel', 'ML Hayden', 'SK Raina', 'S Badri...   \n",
              "354  ['SV Samson', 'SW Billings', 'KK Nair', 'SS Iy...   \n",
              "571  ['DPMD Jayawardene', 'V Sehwag', 'UBT Chand', ...   \n",
              "\n",
              "                                          Team2Players       Umpire1  \\\n",
              "893  ['SE Marsh', 'JR Hopes', 'KC Sangakkara', 'Yuv...     Asad Rauf   \n",
              "21   ['B Indrajith', 'AJ Finch', 'SS Iyer', 'N Rana...  AK Chaudhary   \n",
              "814  ['S Dhawan', 'SR Tendulkar', 'SS Tiwary', 'R S...     AM Saheba   \n",
              "354  ['G Gambhir', 'C de Grandhomme', 'RV Uthappa',...   Nitin Menon   \n",
              "571  ['CA Pujara', 'CH Gayle', 'V Kohli', 'MC Henri...      NJ Llong   \n",
              "\n",
              "       Umpire2  \n",
              "893  DJ Harper  \n",
              "21    MA Gough  \n",
              "814  BF Bowden  \n",
              "354  CK Nandan  \n",
              "571  K Srinath  "
            ]
          },
          "execution_count": 18,
          "metadata": {},
          "output_type": "execute_result"
        }
      ],
      "source": [
        "# sample() returns a random sample of rows from the DataFrame\n",
        "ipl.sample(5)  # returns 5 random rows from the DataFrame"
      ]
    },
    {
      "cell_type": "code",
      "execution_count": null,
      "metadata": {
        "colab": {
          "base_uri": "https://localhost:8080/"
        },
        "id": "rKJeok4Qvaig",
        "outputId": "2afd9b94-65e0-42eb-fa4d-07ff6eecb8e2"
      },
      "outputs": [
        {
          "name": "stdout",
          "output_type": "stream",
          "text": [
            "<class 'pandas.core.frame.DataFrame'>\n",
            "RangeIndex: 1629 entries, 0 to 1628\n",
            "Data columns (total 18 columns):\n",
            " #   Column            Non-Null Count  Dtype  \n",
            "---  ------            --------------  -----  \n",
            " 0   title_x           1629 non-null   object \n",
            " 1   imdb_id           1629 non-null   object \n",
            " 2   poster_path       1526 non-null   object \n",
            " 3   wiki_link         1629 non-null   object \n",
            " 4   title_y           1629 non-null   object \n",
            " 5   original_title    1629 non-null   object \n",
            " 6   is_adult          1629 non-null   int64  \n",
            " 7   year_of_release   1629 non-null   int64  \n",
            " 8   runtime           1629 non-null   object \n",
            " 9   genres            1629 non-null   object \n",
            " 10  imdb_rating       1629 non-null   float64\n",
            " 11  imdb_votes        1629 non-null   int64  \n",
            " 12  story             1609 non-null   object \n",
            " 13  summary           1629 non-null   object \n",
            " 14  tagline           557 non-null    object \n",
            " 15  actors            1624 non-null   object \n",
            " 16  wins_nominations  707 non-null    object \n",
            " 17  release_date      1522 non-null   object \n",
            "dtypes: float64(1), int64(3), object(14)\n",
            "memory usage: 229.2+ KB\n"
          ]
        }
      ],
      "source": [
        "# info\n",
        "movies.info()  # returns a concise summary of the DataFrame, including the number of non-null values and data types of each column\n",
        "\n",
        "# Find how many super over finishes have occurred in IPL\n",
        "# Filter rows where 'SuperOver' is 'Y' and count them\n",
        "ipl[ipl['SuperOver'] == 'Y'].shape[0] #(tuple ka 0th value)# returns the number of rows where 'SuperOver' is 'Y', indicating a super over finish"
      ]
    },
    {
      "cell_type": "code",
      "execution_count": 20,
      "metadata": {
        "colab": {
          "base_uri": "https://localhost:8080/"
        },
        "id": "ETfjOEfIINwA",
        "outputId": "d8010ea1-d515-4872-f55d-5ab05ac77359"
      },
      "outputs": [
        {
          "name": "stdout",
          "output_type": "stream",
          "text": [
            "<class 'pandas.core.frame.DataFrame'>\n",
            "RangeIndex: 950 entries, 0 to 949\n",
            "Data columns (total 20 columns):\n",
            " #   Column           Non-Null Count  Dtype  \n",
            "---  ------           --------------  -----  \n",
            " 0   ID               950 non-null    int64  \n",
            " 1   City             899 non-null    object \n",
            " 2   Date             950 non-null    object \n",
            " 3   Season           950 non-null    object \n",
            " 4   MatchNumber      950 non-null    object \n",
            " 5   Team1            950 non-null    object \n",
            " 6   Team2            950 non-null    object \n",
            " 7   Venue            950 non-null    object \n",
            " 8   TossWinner       950 non-null    object \n",
            " 9   TossDecision     950 non-null    object \n",
            " 10  SuperOver        946 non-null    object \n",
            " 11  WinningTeam      946 non-null    object \n",
            " 12  WonBy            950 non-null    object \n",
            " 13  Margin           932 non-null    float64\n",
            " 14  method           19 non-null     object \n",
            " 15  Player_of_Match  946 non-null    object \n",
            " 16  Team1Players     950 non-null    object \n",
            " 17  Team2Players     950 non-null    object \n",
            " 18  Umpire1          950 non-null    object \n",
            " 19  Umpire2          950 non-null    object \n",
            "dtypes: float64(1), int64(1), object(18)\n",
            "memory usage: 148.6+ KB\n"
          ]
        }
      ],
      "source": [
        "ipl.info()  # returns a concise summary of the DataFrame, including the number of non-null values and data types of each column"
      ]
    },
    {
      "cell_type": "code",
      "execution_count": 21,
      "metadata": {
        "colab": {
          "base_uri": "https://localhost:8080/",
          "height": 300
        },
        "id": "OikkCRPevgK5",
        "outputId": "619a60a9-1ea8-4744-bf0f-d9db2161d233"
      },
      "outputs": [
        {
          "data": {
            "application/vnd.microsoft.datawrangler.viewer.v0+json": {
              "columns": [
                {
                  "name": "index",
                  "rawType": "object",
                  "type": "string"
                },
                {
                  "name": "is_adult",
                  "rawType": "float64",
                  "type": "float"
                },
                {
                  "name": "year_of_release",
                  "rawType": "float64",
                  "type": "float"
                },
                {
                  "name": "imdb_rating",
                  "rawType": "float64",
                  "type": "float"
                },
                {
                  "name": "imdb_votes",
                  "rawType": "float64",
                  "type": "float"
                }
              ],
              "ref": "be103300-6cd8-45a3-98bb-9e700a8349bb",
              "rows": [
                [
                  "count",
                  "1629.0",
                  "1629.0",
                  "1629.0",
                  "1629.0"
                ],
                [
                  "mean",
                  "0.0",
                  "2010.2639656230817",
                  "5.557458563535911",
                  "5384.26335174954"
                ],
                [
                  "std",
                  "0.0",
                  "5.381541775447027",
                  "1.5676086026928115",
                  "14552.103230503055"
                ],
                [
                  "min",
                  "0.0",
                  "2001.0",
                  "0.0",
                  "0.0"
                ],
                [
                  "25%",
                  "0.0",
                  "2005.0",
                  "4.4",
                  "233.0"
                ],
                [
                  "50%",
                  "0.0",
                  "2011.0",
                  "5.6",
                  "1000.0"
                ],
                [
                  "75%",
                  "0.0",
                  "2015.0",
                  "6.8",
                  "4287.0"
                ],
                [
                  "max",
                  "0.0",
                  "2019.0",
                  "9.4",
                  "310481.0"
                ]
              ],
              "shape": {
                "columns": 4,
                "rows": 8
              }
            },
            "text/html": [
              "<div>\n",
              "<style scoped>\n",
              "    .dataframe tbody tr th:only-of-type {\n",
              "        vertical-align: middle;\n",
              "    }\n",
              "\n",
              "    .dataframe tbody tr th {\n",
              "        vertical-align: top;\n",
              "    }\n",
              "\n",
              "    .dataframe thead th {\n",
              "        text-align: right;\n",
              "    }\n",
              "</style>\n",
              "<table border=\"1\" class=\"dataframe\">\n",
              "  <thead>\n",
              "    <tr style=\"text-align: right;\">\n",
              "      <th></th>\n",
              "      <th>is_adult</th>\n",
              "      <th>year_of_release</th>\n",
              "      <th>imdb_rating</th>\n",
              "      <th>imdb_votes</th>\n",
              "    </tr>\n",
              "  </thead>\n",
              "  <tbody>\n",
              "    <tr>\n",
              "      <th>count</th>\n",
              "      <td>1629.0</td>\n",
              "      <td>1629.000000</td>\n",
              "      <td>1629.000000</td>\n",
              "      <td>1629.000000</td>\n",
              "    </tr>\n",
              "    <tr>\n",
              "      <th>mean</th>\n",
              "      <td>0.0</td>\n",
              "      <td>2010.263966</td>\n",
              "      <td>5.557459</td>\n",
              "      <td>5384.263352</td>\n",
              "    </tr>\n",
              "    <tr>\n",
              "      <th>std</th>\n",
              "      <td>0.0</td>\n",
              "      <td>5.381542</td>\n",
              "      <td>1.567609</td>\n",
              "      <td>14552.103231</td>\n",
              "    </tr>\n",
              "    <tr>\n",
              "      <th>min</th>\n",
              "      <td>0.0</td>\n",
              "      <td>2001.000000</td>\n",
              "      <td>0.000000</td>\n",
              "      <td>0.000000</td>\n",
              "    </tr>\n",
              "    <tr>\n",
              "      <th>25%</th>\n",
              "      <td>0.0</td>\n",
              "      <td>2005.000000</td>\n",
              "      <td>4.400000</td>\n",
              "      <td>233.000000</td>\n",
              "    </tr>\n",
              "    <tr>\n",
              "      <th>50%</th>\n",
              "      <td>0.0</td>\n",
              "      <td>2011.000000</td>\n",
              "      <td>5.600000</td>\n",
              "      <td>1000.000000</td>\n",
              "    </tr>\n",
              "    <tr>\n",
              "      <th>75%</th>\n",
              "      <td>0.0</td>\n",
              "      <td>2015.000000</td>\n",
              "      <td>6.800000</td>\n",
              "      <td>4287.000000</td>\n",
              "    </tr>\n",
              "    <tr>\n",
              "      <th>max</th>\n",
              "      <td>0.0</td>\n",
              "      <td>2019.000000</td>\n",
              "      <td>9.400000</td>\n",
              "      <td>310481.000000</td>\n",
              "    </tr>\n",
              "  </tbody>\n",
              "</table>\n",
              "</div>"
            ],
            "text/plain": [
              "       is_adult  year_of_release  imdb_rating     imdb_votes\n",
              "count    1629.0      1629.000000  1629.000000    1629.000000\n",
              "mean        0.0      2010.263966     5.557459    5384.263352\n",
              "std         0.0         5.381542     1.567609   14552.103231\n",
              "min         0.0      2001.000000     0.000000       0.000000\n",
              "25%         0.0      2005.000000     4.400000     233.000000\n",
              "50%         0.0      2011.000000     5.600000    1000.000000\n",
              "75%         0.0      2015.000000     6.800000    4287.000000\n",
              "max         0.0      2019.000000     9.400000  310481.000000"
            ]
          },
          "execution_count": 21,
          "metadata": {},
          "output_type": "execute_result"
        }
      ],
      "source": [
        "# describe\n",
        "movies.describe()  # returns a statistical summary of the DataFrame, including count, mean, std, min, 25%, 50%, 75%, and max for numeric columns"
      ]
    },
    {
      "cell_type": "code",
      "execution_count": 22,
      "metadata": {
        "colab": {
          "base_uri": "https://localhost:8080/",
          "height": 300
        },
        "id": "tuxfdf8tI9Z2",
        "outputId": "c546a524-e9b1-4e64-cfee-2e622361536b"
      },
      "outputs": [
        {
          "data": {
            "application/vnd.microsoft.datawrangler.viewer.v0+json": {
              "columns": [
                {
                  "name": "index",
                  "rawType": "object",
                  "type": "string"
                },
                {
                  "name": "ID",
                  "rawType": "float64",
                  "type": "float"
                },
                {
                  "name": "Margin",
                  "rawType": "float64",
                  "type": "float"
                }
              ],
              "ref": "b8c952db-5eeb-4f8a-9c0a-2b3e82e80575",
              "rows": [
                [
                  "count",
                  "950.0",
                  "932.0"
                ],
                [
                  "mean",
                  "830485.247368421",
                  "17.0568669527897"
                ],
                [
                  "std",
                  "337567.8294944939",
                  "21.6331087018689"
                ],
                [
                  "min",
                  "335982.0",
                  "1.0"
                ],
                [
                  "25%",
                  "501261.25",
                  "6.0"
                ],
                [
                  "50%",
                  "829738.0",
                  "8.0"
                ],
                [
                  "75%",
                  "1175371.75",
                  "19.0"
                ],
                [
                  "max",
                  "1312200.0",
                  "146.0"
                ]
              ],
              "shape": {
                "columns": 2,
                "rows": 8
              }
            },
            "text/html": [
              "<div>\n",
              "<style scoped>\n",
              "    .dataframe tbody tr th:only-of-type {\n",
              "        vertical-align: middle;\n",
              "    }\n",
              "\n",
              "    .dataframe tbody tr th {\n",
              "        vertical-align: top;\n",
              "    }\n",
              "\n",
              "    .dataframe thead th {\n",
              "        text-align: right;\n",
              "    }\n",
              "</style>\n",
              "<table border=\"1\" class=\"dataframe\">\n",
              "  <thead>\n",
              "    <tr style=\"text-align: right;\">\n",
              "      <th></th>\n",
              "      <th>ID</th>\n",
              "      <th>Margin</th>\n",
              "    </tr>\n",
              "  </thead>\n",
              "  <tbody>\n",
              "    <tr>\n",
              "      <th>count</th>\n",
              "      <td>9.500000e+02</td>\n",
              "      <td>932.000000</td>\n",
              "    </tr>\n",
              "    <tr>\n",
              "      <th>mean</th>\n",
              "      <td>8.304852e+05</td>\n",
              "      <td>17.056867</td>\n",
              "    </tr>\n",
              "    <tr>\n",
              "      <th>std</th>\n",
              "      <td>3.375678e+05</td>\n",
              "      <td>21.633109</td>\n",
              "    </tr>\n",
              "    <tr>\n",
              "      <th>min</th>\n",
              "      <td>3.359820e+05</td>\n",
              "      <td>1.000000</td>\n",
              "    </tr>\n",
              "    <tr>\n",
              "      <th>25%</th>\n",
              "      <td>5.012612e+05</td>\n",
              "      <td>6.000000</td>\n",
              "    </tr>\n",
              "    <tr>\n",
              "      <th>50%</th>\n",
              "      <td>8.297380e+05</td>\n",
              "      <td>8.000000</td>\n",
              "    </tr>\n",
              "    <tr>\n",
              "      <th>75%</th>\n",
              "      <td>1.175372e+06</td>\n",
              "      <td>19.000000</td>\n",
              "    </tr>\n",
              "    <tr>\n",
              "      <th>max</th>\n",
              "      <td>1.312200e+06</td>\n",
              "      <td>146.000000</td>\n",
              "    </tr>\n",
              "  </tbody>\n",
              "</table>\n",
              "</div>"
            ],
            "text/plain": [
              "                 ID      Margin\n",
              "count  9.500000e+02  932.000000\n",
              "mean   8.304852e+05   17.056867\n",
              "std    3.375678e+05   21.633109\n",
              "min    3.359820e+05    1.000000\n",
              "25%    5.012612e+05    6.000000\n",
              "50%    8.297380e+05    8.000000\n",
              "75%    1.175372e+06   19.000000\n",
              "max    1.312200e+06  146.000000"
            ]
          },
          "execution_count": 22,
          "metadata": {},
          "output_type": "execute_result"
        }
      ],
      "source": [
        "ipl.describe()# returns a statistical summary of the DataFrame, including count, mean, std, min, 25%, 50%, 75%, and max for numeric columns"
      ]
    },
    {
      "cell_type": "code",
      "execution_count": 23,
      "metadata": {
        "colab": {
          "base_uri": "https://localhost:8080/"
        },
        "id": "cffM8jnww3GV",
        "outputId": "c8ebd656-b4e8-4b2b-9416-368564a940ef"
      },
      "outputs": [
        {
          "data": {
            "application/vnd.microsoft.datawrangler.viewer.v0+json": {
              "columns": [
                {
                  "name": "index",
                  "rawType": "object",
                  "type": "string"
                },
                {
                  "name": "0",
                  "rawType": "int64",
                  "type": "integer"
                }
              ],
              "ref": "2811f2f7-1e93-4822-a2cd-52e799514fa6",
              "rows": [
                [
                  "title_x",
                  "0"
                ],
                [
                  "imdb_id",
                  "0"
                ],
                [
                  "poster_path",
                  "103"
                ],
                [
                  "wiki_link",
                  "0"
                ],
                [
                  "title_y",
                  "0"
                ],
                [
                  "original_title",
                  "0"
                ],
                [
                  "is_adult",
                  "0"
                ],
                [
                  "year_of_release",
                  "0"
                ],
                [
                  "runtime",
                  "0"
                ],
                [
                  "genres",
                  "0"
                ],
                [
                  "imdb_rating",
                  "0"
                ],
                [
                  "imdb_votes",
                  "0"
                ],
                [
                  "story",
                  "20"
                ],
                [
                  "summary",
                  "0"
                ],
                [
                  "tagline",
                  "1072"
                ],
                [
                  "actors",
                  "5"
                ],
                [
                  "wins_nominations",
                  "922"
                ],
                [
                  "release_date",
                  "107"
                ]
              ],
              "shape": {
                "columns": 1,
                "rows": 18
              }
            },
            "text/plain": [
              "title_x                0\n",
              "imdb_id                0\n",
              "poster_path          103\n",
              "wiki_link              0\n",
              "title_y                0\n",
              "original_title         0\n",
              "is_adult               0\n",
              "year_of_release        0\n",
              "runtime                0\n",
              "genres                 0\n",
              "imdb_rating            0\n",
              "imdb_votes             0\n",
              "story                 20\n",
              "summary                0\n",
              "tagline             1072\n",
              "actors                 5\n",
              "wins_nominations     922\n",
              "release_date         107\n",
              "dtype: int64"
            ]
          },
          "execution_count": 23,
          "metadata": {},
          "output_type": "execute_result"
        }
      ],
      "source": [
        "# isnull\n",
        "movies.isnull().sum()  # returns the number of null values in each column of the DataFrame"
      ]
    },
    {
      "cell_type": "code",
      "execution_count": 24,
      "metadata": {
        "colab": {
          "base_uri": "https://localhost:8080/"
        },
        "id": "vGdYd3F8w4Kl",
        "outputId": "196e32c0-636b-401a-e91c-86494a833403"
      },
      "outputs": [
        {
          "data": {
            "text/plain": [
              "0"
            ]
          },
          "execution_count": 24,
          "metadata": {},
          "output_type": "execute_result"
        }
      ],
      "source": [
        "# duplicated\n",
        "movies.duplicated().sum()  # returns the number of duplicate rows in the DataFrame"
      ]
    },
    {
      "cell_type": "code",
      "execution_count": 25,
      "metadata": {
        "colab": {
          "base_uri": "https://localhost:8080/"
        },
        "id": "gabFmEQaJ9Ns",
        "outputId": "9ad8cf45-f24d-4e89-b522-7a562cdc6052"
      },
      "outputs": [
        {
          "data": {
            "text/plain": [
              "1"
            ]
          },
          "execution_count": 25,
          "metadata": {},
          "output_type": "execute_result"
        }
      ],
      "source": [
        "students.duplicated().sum()   # returns the number of duplicate rows in the DataFrame"
      ]
    },
    {
      "cell_type": "code",
      "execution_count": 26,
      "metadata": {
        "colab": {
          "base_uri": "https://localhost:8080/",
          "height": 238
        },
        "id": "2Qpru22QFYrI",
        "outputId": "2f4694e9-7e2c-4d67-e268-dc4863811beb"
      },
      "outputs": [
        {
          "data": {
            "application/vnd.microsoft.datawrangler.viewer.v0+json": {
              "columns": [
                {
                  "name": "name",
                  "rawType": "object",
                  "type": "string"
                },
                {
                  "name": "iq",
                  "rawType": "int64",
                  "type": "integer"
                },
                {
                  "name": "marks",
                  "rawType": "int64",
                  "type": "integer"
                },
                {
                  "name": "package",
                  "rawType": "int64",
                  "type": "integer"
                }
              ],
              "ref": "10d5e962-b8f5-4d27-b060-ef2fe974191c",
              "rows": [
                [
                  "nitish",
                  "100",
                  "80",
                  "10"
                ],
                [
                  "ankit",
                  "90",
                  "70",
                  "7"
                ],
                [
                  "rupesh",
                  "120",
                  "100",
                  "14"
                ],
                [
                  "rishabh",
                  "80",
                  "50",
                  "2"
                ],
                [
                  "amit",
                  "0",
                  "0",
                  "0"
                ],
                [
                  "ankita",
                  "0",
                  "0",
                  "0"
                ]
              ],
              "shape": {
                "columns": 3,
                "rows": 6
              }
            },
            "text/html": [
              "<div>\n",
              "<style scoped>\n",
              "    .dataframe tbody tr th:only-of-type {\n",
              "        vertical-align: middle;\n",
              "    }\n",
              "\n",
              "    .dataframe tbody tr th {\n",
              "        vertical-align: top;\n",
              "    }\n",
              "\n",
              "    .dataframe thead th {\n",
              "        text-align: right;\n",
              "    }\n",
              "</style>\n",
              "<table border=\"1\" class=\"dataframe\">\n",
              "  <thead>\n",
              "    <tr style=\"text-align: right;\">\n",
              "      <th></th>\n",
              "      <th>iq</th>\n",
              "      <th>marks</th>\n",
              "      <th>package</th>\n",
              "    </tr>\n",
              "    <tr>\n",
              "      <th>name</th>\n",
              "      <th></th>\n",
              "      <th></th>\n",
              "      <th></th>\n",
              "    </tr>\n",
              "  </thead>\n",
              "  <tbody>\n",
              "    <tr>\n",
              "      <th>nitish</th>\n",
              "      <td>100</td>\n",
              "      <td>80</td>\n",
              "      <td>10</td>\n",
              "    </tr>\n",
              "    <tr>\n",
              "      <th>ankit</th>\n",
              "      <td>90</td>\n",
              "      <td>70</td>\n",
              "      <td>7</td>\n",
              "    </tr>\n",
              "    <tr>\n",
              "      <th>rupesh</th>\n",
              "      <td>120</td>\n",
              "      <td>100</td>\n",
              "      <td>14</td>\n",
              "    </tr>\n",
              "    <tr>\n",
              "      <th>rishabh</th>\n",
              "      <td>80</td>\n",
              "      <td>50</td>\n",
              "      <td>2</td>\n",
              "    </tr>\n",
              "    <tr>\n",
              "      <th>amit</th>\n",
              "      <td>0</td>\n",
              "      <td>0</td>\n",
              "      <td>0</td>\n",
              "    </tr>\n",
              "    <tr>\n",
              "      <th>ankita</th>\n",
              "      <td>0</td>\n",
              "      <td>0</td>\n",
              "      <td>0</td>\n",
              "    </tr>\n",
              "  </tbody>\n",
              "</table>\n",
              "</div>"
            ],
            "text/plain": [
              "          iq  marks  package\n",
              "name                        \n",
              "nitish   100     80       10\n",
              "ankit     90     70        7\n",
              "rupesh   120    100       14\n",
              "rishabh   80     50        2\n",
              "amit       0      0        0\n",
              "ankita     0      0        0"
            ]
          },
          "execution_count": 26,
          "metadata": {},
          "output_type": "execute_result"
        }
      ],
      "source": [
        "# rename\n",
        "students   "
      ]
    },
    {
      "cell_type": "code",
      "execution_count": 27,
      "metadata": {
        "id": "uEnGueRIKOLh"
      },
      "outputs": [],
      "source": [
        "students.rename(columns={'marks':'percent','package':'lpa'},inplace=True)  # renaming columns 'marks' to 'percent' and 'package' to 'lpa'"
      ]
    },
    {
      "cell_type": "markdown",
      "metadata": {
        "id": "OQ-A3XU-06KG"
      },
      "source": [
        "### Math Methods"
      ]
    },
    {
      "cell_type": "code",
      "execution_count": 28,
      "metadata": {
        "colab": {
          "base_uri": "https://localhost:8080/"
        },
        "id": "9agZIP-z0lc9",
        "outputId": "6f4ca547-c59f-437e-d6c3-7d523df4a2a0"
      },
      "outputs": [
        {
          "data": {
            "application/vnd.microsoft.datawrangler.viewer.v0+json": {
              "columns": [
                {
                  "name": "index",
                  "rawType": "object",
                  "type": "string"
                },
                {
                  "name": "0",
                  "rawType": "int64",
                  "type": "integer"
                }
              ],
              "ref": "3e5c0df6-48e2-4345-8dc8-1eb619f97e0e",
              "rows": [
                [
                  "iq",
                  "390"
                ],
                [
                  "percent",
                  "300"
                ],
                [
                  "lpa",
                  "33"
                ]
              ],
              "shape": {
                "columns": 1,
                "rows": 3
              }
            },
            "text/plain": [
              "iq         390\n",
              "percent    300\n",
              "lpa         33\n",
              "dtype: int64"
            ]
          },
          "execution_count": 28,
          "metadata": {},
          "output_type": "execute_result"
        }
      ],
      "source": [
        "# sum -> axis argument\n",
        "students.sum(axis=0)  # returns the sum of each column (default axis=0)"
      ]
    },
    {
      "cell_type": "code",
      "execution_count": 29,
      "metadata": {
        "colab": {
          "base_uri": "https://localhost:8080/"
        },
        "id": "bPN2x2-xLitU",
        "outputId": "f6dab3eb-ac81-47fd-8ad2-fd35c4cc6b42"
      },
      "outputs": [
        {
          "data": {
            "application/vnd.microsoft.datawrangler.viewer.v0+json": {
              "columns": [
                {
                  "name": "name",
                  "rawType": "object",
                  "type": "string"
                },
                {
                  "name": "0",
                  "rawType": "float64",
                  "type": "float"
                }
              ],
              "ref": "d5915b7d-ff25-4c39-a67d-613c085ba0a5",
              "rows": [
                [
                  "nitish",
                  "63.333333333333336"
                ],
                [
                  "ankit",
                  "55.666666666666664"
                ],
                [
                  "rupesh",
                  "78.0"
                ],
                [
                  "rishabh",
                  "44.0"
                ],
                [
                  "amit",
                  "0.0"
                ],
                [
                  "ankita",
                  "0.0"
                ]
              ],
              "shape": {
                "columns": 1,
                "rows": 6
              }
            },
            "text/plain": [
              "name\n",
              "nitish     63.333333\n",
              "ankit      55.666667\n",
              "rupesh     78.000000\n",
              "rishabh    44.000000\n",
              "amit        0.000000\n",
              "ankita      0.000000\n",
              "dtype: float64"
            ]
          },
          "execution_count": 29,
          "metadata": {},
          "output_type": "execute_result"
        }
      ],
      "source": [
        "students.mean(axis=1)  # returns the mean of each row (axis=1)"
      ]
    },
    {
      "cell_type": "code",
      "execution_count": 30,
      "metadata": {
        "colab": {
          "base_uri": "https://localhost:8080/"
        },
        "id": "AEWWvGRCLi8-",
        "outputId": "3e6ceb29-4e5d-4674-d331-0592ec83105c"
      },
      "outputs": [
        {
          "data": {
            "application/vnd.microsoft.datawrangler.viewer.v0+json": {
              "columns": [
                {
                  "name": "index",
                  "rawType": "object",
                  "type": "string"
                },
                {
                  "name": "0",
                  "rawType": "float64",
                  "type": "float"
                }
              ],
              "ref": "056c3850-5f50-46b9-92bc-2beb2dbb94af",
              "rows": [
                [
                  "iq",
                  "2710.0"
                ],
                [
                  "percent",
                  "1760.0"
                ],
                [
                  "lpa",
                  "33.5"
                ]
              ],
              "shape": {
                "columns": 1,
                "rows": 3
              }
            },
            "text/plain": [
              "iq         2710.0\n",
              "percent    1760.0\n",
              "lpa          33.5\n",
              "dtype: float64"
            ]
          },
          "execution_count": 30,
          "metadata": {},
          "output_type": "execute_result"
        }
      ],
      "source": [
        "students.var()  # returns the variance of each column (default axis=0)"
      ]
    },
    {
      "cell_type": "code",
      "execution_count": null,
      "metadata": {
        "id": "xiAUpMgxLjK8"
      },
      "outputs": [],
      "source": []
    },
    {
      "cell_type": "markdown",
      "metadata": {
        "id": "PaOsDoR01EVm"
      },
      "source": [
        "### Selecting cols from a DataFrame"
      ]
    },
    {
      "cell_type": "code",
      "execution_count": 31,
      "metadata": {
        "colab": {
          "base_uri": "https://localhost:8080/"
        },
        "id": "GFYaWcxk1H3H",
        "outputId": "d049cd3e-9cc0-4952-88fb-009598f8bd5f"
      },
      "outputs": [
        {
          "data": {
            "application/vnd.microsoft.datawrangler.viewer.v0+json": {
              "columns": [
                {
                  "name": "index",
                  "rawType": "int64",
                  "type": "integer"
                },
                {
                  "name": "title_x",
                  "rawType": "object",
                  "type": "string"
                }
              ],
              "ref": "19f7b03e-a3b0-45f3-a151-02c6604dee52",
              "rows": [
                [
                  "0",
                  "Uri: The Surgical Strike"
                ],
                [
                  "1",
                  "Battalion 609"
                ],
                [
                  "2",
                  "The Accidental Prime Minister (film)"
                ],
                [
                  "3",
                  "Why Cheat India"
                ],
                [
                  "4",
                  "Evening Shadows"
                ],
                [
                  "5",
                  "Soni (film)"
                ],
                [
                  "6",
                  "Fraud Saiyaan"
                ],
                [
                  "7",
                  "Bombairiya"
                ],
                [
                  "8",
                  "Manikarnika: The Queen of Jhansi"
                ],
                [
                  "9",
                  "Thackeray (film)"
                ],
                [
                  "10",
                  "Amavas"
                ],
                [
                  "11",
                  "Gully Boy"
                ],
                [
                  "12",
                  "Hum Chaar"
                ],
                [
                  "13",
                  "Total Dhamaal"
                ],
                [
                  "14",
                  "Sonchiriya"
                ],
                [
                  "15",
                  "Badla (2019 film)"
                ],
                [
                  "16",
                  "Mard Ko Dard Nahi Hota"
                ],
                [
                  "17",
                  "Hamid (film)"
                ],
                [
                  "18",
                  "Photograph (film)"
                ],
                [
                  "19",
                  "Risknamaa"
                ],
                [
                  "20",
                  "Mere Pyare Prime Minister"
                ],
                [
                  "21",
                  "22 Yards"
                ],
                [
                  "22",
                  "Kesari (film)"
                ],
                [
                  "23",
                  "Notebook (2019 film)"
                ],
                [
                  "24",
                  "Junglee (2019 film)"
                ],
                [
                  "25",
                  "Gone Kesh"
                ],
                [
                  "26",
                  "Albert Pinto Ko Gussa Kyun Aata Hai?"
                ],
                [
                  "27",
                  "The Tashkent Files"
                ],
                [
                  "28",
                  "Kalank"
                ],
                [
                  "29",
                  "Setters (film)"
                ],
                [
                  "30",
                  "Student of the Year 2"
                ],
                [
                  "31",
                  "PM Narendra Modi"
                ],
                [
                  "32",
                  "De De Pyaar De"
                ],
                [
                  "33",
                  "India's Most Wanted (film)"
                ],
                [
                  "34",
                  "Yeh Hai India"
                ],
                [
                  "35",
                  "Khamoshi (2019 film)"
                ],
                [
                  "36",
                  "Kabir Singh"
                ],
                [
                  "37",
                  "Article 15 (film)"
                ],
                [
                  "38",
                  "One Day: Justice Delivered"
                ],
                [
                  "39",
                  "Hume Tumse Pyaar Kitna"
                ],
                [
                  "40",
                  "Super 30 (film)"
                ],
                [
                  "41",
                  "Family of Thakurganj"
                ],
                [
                  "42",
                  "Batla House"
                ],
                [
                  "43",
                  "Jhootha Kahin Ka"
                ],
                [
                  "44",
                  "Judgementall Hai Kya"
                ],
                [
                  "45",
                  "Chicken Curry Law"
                ],
                [
                  "46",
                  "Arjun Patiala"
                ],
                [
                  "47",
                  "Jabariya Jodi"
                ],
                [
                  "48",
                  "Pranaam"
                ],
                [
                  "49",
                  "The Sky Is Pink"
                ]
              ],
              "shape": {
                "columns": 1,
                "rows": 1629
              }
            },
            "text/plain": [
              "0                   Uri: The Surgical Strike\n",
              "1                              Battalion 609\n",
              "2       The Accidental Prime Minister (film)\n",
              "3                            Why Cheat India\n",
              "4                            Evening Shadows\n",
              "                        ...                 \n",
              "1624                   Tera Mera Saath Rahen\n",
              "1625                    Yeh Zindagi Ka Safar\n",
              "1626                         Sabse Bada Sukh\n",
              "1627                                   Daaka\n",
              "1628                                Humsafar\n",
              "Name: title_x, Length: 1629, dtype: object"
            ]
          },
          "execution_count": 31,
          "metadata": {},
          "output_type": "execute_result"
        }
      ],
      "source": [
        "# single cols\n",
        "movies['title_x']  # returns the 'title_x' column of the DataFrame"
      ]
    },
    {
      "cell_type": "code",
      "execution_count": 32,
      "metadata": {
        "colab": {
          "base_uri": "https://localhost:8080/"
        },
        "id": "4hePxZN6NNrc",
        "outputId": "a8c80192-3601-4384-f10a-4bf50656efbe"
      },
      "outputs": [
        {
          "data": {
            "application/vnd.microsoft.datawrangler.viewer.v0+json": {
              "columns": [
                {
                  "name": "index",
                  "rawType": "int64",
                  "type": "integer"
                },
                {
                  "name": "Venue",
                  "rawType": "object",
                  "type": "string"
                }
              ],
              "ref": "b98ffd8f-2826-4b4e-a24a-75a3ae3bf04a",
              "rows": [
                [
                  "0",
                  "Narendra Modi Stadium, Ahmedabad"
                ],
                [
                  "1",
                  "Narendra Modi Stadium, Ahmedabad"
                ],
                [
                  "2",
                  "Eden Gardens, Kolkata"
                ],
                [
                  "3",
                  "Eden Gardens, Kolkata"
                ],
                [
                  "4",
                  "Wankhede Stadium, Mumbai"
                ],
                [
                  "5",
                  "Wankhede Stadium, Mumbai"
                ],
                [
                  "6",
                  "Brabourne Stadium, Mumbai"
                ],
                [
                  "7",
                  "Wankhede Stadium, Mumbai"
                ],
                [
                  "8",
                  "Dr DY Patil Sports Academy, Mumbai"
                ],
                [
                  "9",
                  "Wankhede Stadium, Mumbai"
                ],
                [
                  "10",
                  "Dr DY Patil Sports Academy, Mumbai"
                ],
                [
                  "11",
                  "Brabourne Stadium, Mumbai"
                ],
                [
                  "12",
                  "Wankhede Stadium, Mumbai"
                ],
                [
                  "13",
                  "Maharashtra Cricket Association Stadium, Pune"
                ],
                [
                  "14",
                  "Brabourne Stadium, Mumbai"
                ],
                [
                  "15",
                  "Wankhede Stadium, Mumbai"
                ],
                [
                  "16",
                  "Dr DY Patil Sports Academy, Mumbai"
                ],
                [
                  "17",
                  "Maharashtra Cricket Association Stadium, Pune"
                ],
                [
                  "18",
                  "Dr DY Patil Sports Academy, Mumbai"
                ],
                [
                  "19",
                  "Dr DY Patil Sports Academy, Mumbai"
                ],
                [
                  "20",
                  "Wankhede Stadium, Mumbai"
                ],
                [
                  "21",
                  "Maharashtra Cricket Association Stadium, Pune"
                ],
                [
                  "22",
                  "Wankhede Stadium, Mumbai"
                ],
                [
                  "23",
                  "Brabourne Stadium, Mumbai"
                ],
                [
                  "24",
                  "Brabourne Stadium, Mumbai"
                ],
                [
                  "25",
                  "Maharashtra Cricket Association Stadium, Pune"
                ],
                [
                  "26",
                  "Dr DY Patil Sports Academy, Mumbai"
                ],
                [
                  "27",
                  "Wankhede Stadium, Mumbai"
                ],
                [
                  "28",
                  "Maharashtra Cricket Association Stadium, Pune"
                ],
                [
                  "29",
                  "Wankhede Stadium, Mumbai"
                ],
                [
                  "30",
                  "Dr DY Patil Sports Academy, Mumbai"
                ],
                [
                  "31",
                  "Brabourne Stadium, Mumbai"
                ],
                [
                  "32",
                  "Maharashtra Cricket Association Stadium, Pune"
                ],
                [
                  "33",
                  "Wankhede Stadium, Mumbai"
                ],
                [
                  "34",
                  "Wankhede Stadium, Mumbai"
                ],
                [
                  "35",
                  "Maharashtra Cricket Association Stadium, Pune"
                ],
                [
                  "36",
                  "Wankhede Stadium, Mumbai"
                ],
                [
                  "37",
                  "Wankhede Stadium, Mumbai"
                ],
                [
                  "38",
                  "Brabourne Stadium, Mumbai"
                ],
                [
                  "39",
                  "Dr DY Patil Sports Academy, Mumbai"
                ],
                [
                  "40",
                  "Wankhede Stadium, Mumbai"
                ],
                [
                  "41",
                  "Dr DY Patil Sports Academy, Mumbai"
                ],
                [
                  "42",
                  "Brabourne Stadium, Mumbai"
                ],
                [
                  "43",
                  "Dr DY Patil Sports Academy, Mumbai"
                ],
                [
                  "44",
                  "Brabourne Stadium, Mumbai"
                ],
                [
                  "45",
                  "Maharashtra Cricket Association Stadium, Pune"
                ],
                [
                  "46",
                  "Dr DY Patil Sports Academy, Mumbai"
                ],
                [
                  "47",
                  "Wankhede Stadium, Mumbai"
                ],
                [
                  "48",
                  "Brabourne Stadium, Mumbai"
                ],
                [
                  "49",
                  "Brabourne Stadium, Mumbai"
                ]
              ],
              "shape": {
                "columns": 1,
                "rows": 950
              }
            },
            "text/plain": [
              "0                Narendra Modi Stadium, Ahmedabad\n",
              "1                Narendra Modi Stadium, Ahmedabad\n",
              "2                           Eden Gardens, Kolkata\n",
              "3                           Eden Gardens, Kolkata\n",
              "4                        Wankhede Stadium, Mumbai\n",
              "                          ...                    \n",
              "945                                  Eden Gardens\n",
              "946                              Wankhede Stadium\n",
              "947                              Feroz Shah Kotla\n",
              "948    Punjab Cricket Association Stadium, Mohali\n",
              "949                         M Chinnaswamy Stadium\n",
              "Name: Venue, Length: 950, dtype: object"
            ]
          },
          "execution_count": 32,
          "metadata": {},
          "output_type": "execute_result"
        }
      ],
      "source": [
        "ipl['Venue']  # returns the 'Venue' column of the DataFrame"
      ]
    },
    {
      "cell_type": "code",
      "execution_count": 33,
      "metadata": {
        "colab": {
          "base_uri": "https://localhost:8080/",
          "height": 424
        },
        "id": "fBmf-wef1KsY",
        "outputId": "f2fd08f5-6265-40ff-95cb-d565acafa802"
      },
      "outputs": [
        {
          "data": {
            "application/vnd.microsoft.datawrangler.viewer.v0+json": {
              "columns": [
                {
                  "name": "index",
                  "rawType": "int64",
                  "type": "integer"
                },
                {
                  "name": "year_of_release",
                  "rawType": "int64",
                  "type": "integer"
                },
                {
                  "name": "actors",
                  "rawType": "object",
                  "type": "unknown"
                },
                {
                  "name": "title_x",
                  "rawType": "object",
                  "type": "string"
                }
              ],
              "ref": "4a1ad485-7674-4daa-ad8c-69a024d5e766",
              "rows": [
                [
                  "0",
                  "2019",
                  "Vicky Kaushal|Paresh Rawal|Mohit Raina|Yami Gautam|Kirti Kulhari|Rajit Kapoor|Ivan Rodrigues|Manasi Parekh|Swaroop Sampat|Riva Arora|Yogesh Soman|Fareed Ahmed|Akashdeep Arora|Kallol Banerjee|",
                  "Uri: The Surgical Strike"
                ],
                [
                  "1",
                  "2019",
                  "Vicky Ahuja|Shoaib Ibrahim|Shrikant Kamat|Elena Kazan|Vishwas Kini|Major Kishore|Jashn Kohli|Rammy C. Pandey|Manish Sharma|Sparsh Sharma|Farnaz Shetty|Vikas Shrivastav|Chandraprakash Thakur|Brajesh Tiwari|",
                  "Battalion 609"
                ],
                [
                  "2",
                  "2019",
                  "Anupam Kher|Akshaye Khanna|Aahana Kumra|Atul Sharma|Manoj Anand|Arjun Mathur|Suzanne Bernert|Abdul Quadir Amin|Bharat Mistri|Divya Seth|Anil Rastogi|Ramesh Bhatkar|Parrgash Kaur|Jess Kaur|",
                  "The Accidental Prime Minister (film)"
                ],
                [
                  "3",
                  "2019",
                  "Emraan Hashmi|Shreya Dhanwanthary|Snighdadeep Chatterji|Navneet Srivastava|Nanda Yadav|",
                  "Why Cheat India"
                ],
                [
                  "4",
                  "2018",
                  "Mona Ambegaonkar|Ananth Narayan Mahadevan|Devansh Doshi|Arpit Chaudhary|Yamini Singh|Abhay Kulkarni|Veena Nair|Disha Thakur|Kala Ramanathan|Sushant Divgikar|",
                  "Evening Shadows"
                ],
                [
                  "5",
                  "2018",
                  "Geetika Vidya Ohlyan|Saloni Batra|Vikas Shukla|Mohit Chauhan|Himanshu Kohli|Gauri Chakraborty|Mohinder Gujral|Upasya Goswami|Simrat Kaur|Dimple Kaur|Prateek Pachori|Kalpana Jha|Samar|",
                  "Soni (film)"
                ],
                [
                  "6",
                  "2019",
                  "Arshad Warsi|Saurabh Shukla|Flora Saini|Sara Loren|Varun Badola|Deepali Pansare|Nivedita Tiwari|Peeyush Suhaney|Preeti Sood|Parag Tyagi|Anangsha Biswas|Amanda Rosario|Elli Avrram|",
                  "Fraud Saiyaan"
                ],
                [
                  "7",
                  "2019",
                  "Radhika Apte|Akshay Oberoi|Siddhanth Kapoor|Ravi Kishan|Adil Hussain|Shilpa Shukla|Ajinkya Deo|Amit Sial|",
                  "Bombairiya"
                ],
                [
                  "8",
                  "2019",
                  "Kangana Ranaut|Rimi Sen|Atul Kulkarni|Nalneesh Neel|Danny Denzongpa|Mishti|Kulbhushan Kharbanda|Mohammed Zeeshan Ayyub|Anil George|Vikram Kochhar|Edward Sonnenblick|Ankita Lokhande|Richard Keep|Jishu Sengupta|",
                  "Manikarnika: The Queen of Jhansi"
                ],
                [
                  "9",
                  "2019",
                  "Nawazuddin Siddiqui|Amrita Rao|Abdul Quadir Amin|Sanjay Narvekar|Prakash Belawadi|Vineet Sharma|Radha Sagar|Sonamoni Jayant Gadekar|Satish Alekar|Micky Makhija|Nikhil Mahajan|Resh Lamba|Jaywant Wadkar|Laxman Singh Rajput|",
                  "Thackeray (film)"
                ],
                [
                  "10",
                  "2019",
                  "Ali Asgar|Vivan Bhatena|Nargis Fakhri|Sachiin Joshi|Shabnam Karimzada|Kevin Matadeen|",
                  "Amavas"
                ],
                [
                  "11",
                  "2019",
                  "Ranveer Singh|Alia Bhatt|Siddhant Chaturvedi|Vijay Raaz|Amruta Subhash|Vijay Varma|Kalki Koechlin|Ikhlaque Khan|Sheeba Chaddha|Jyoti Subhash|Rahul Piske|Nakul Sachdeva|Shruti Chauhan|Aishwarya Desai|",
                  "Gully Boy"
                ],
                [
                  "12",
                  "2019",
                  "Prit Kamani|Simran Sharma|Anshuman Malhotra|Tushar Pandey|Vibha Anand|Jatin Goswami|Jagat Rawat|Sonal Jha|Shailesh Datar|Jayshankar Tripathi|Alok Pandey|Sushant Mohindru|Shahnawaz Pradhan|Amit Kumar Jha|",
                  "Hum Chaar"
                ],
                [
                  "13",
                  "2019",
                  "Ajay Devgn|Madhuri Dixit|Anil Kapoor|Riteish Deshmukh|Arshad Warsi|Javed Jaffrey|Esha Gupta|Boman Irani|Sanjay Mishra|Vijay Patkar|Pitobash|Mahesh Manjrekar|Ali|",
                  "Total Dhamaal"
                ],
                [
                  "14",
                  "2019",
                  "Sushant Singh Rajput|Bhumi Pednekar|Manoj Bajpayee|Ranvir Shorey|Ashutosh Rana|Gagandev Riar|",
                  "Sonchiriya"
                ],
                [
                  "15",
                  "2019",
                  "Amitabh Bachchan|Taapsee Pannu|Amrita Singh|Antonio Aakeel|Tony Luke|Tanveer Ghani|Tariqsafdar Hussain|Mark Mansfield|",
                  "Badla (2019 film)"
                ],
                [
                  "16",
                  "2018",
                  "Abhimanyu Dasani|Radhika Madan|Prateek Parmar|Satyajit Ganu|",
                  "Mard Ko Dard Nahi Hota"
                ],
                [
                  "17",
                  "2018",
                  "Talha Arshad Reshi|Vikas Kumar|Rasika Dugal|Sumit Kaul|Bashir Lone|Gurveer Singh|Ashraf Nagoo|Mir Sarwar|Qazi Faiz|Umar Adil|",
                  "Hamid (film)"
                ],
                [
                  "18",
                  "2019",
                  "Nawazuddin Siddiqui|Sanya Malhotra|Sachin Khedekar|Denzil Smith|Brinda Trivedi|Lubna Salim|Rajesh Kumar Sharma|Shihaan Bakshi|Akash Sinha|Seema Pravin Shende|Robin Das|Bhagwan Das Patel|Ashok Pathak|Amarjeet Singh|",
                  "Photograph (film)"
                ],
                [
                  "19",
                  "2019",
                  "Garima Agarwal|Anupama|Parveen Bansala|Mahaveer Singh Fauji|Javed Haider|Shahbaaz Khan|Sachin Khari|Pramod Moutho|Aarun Nagar|Khyati Sharma|Ravi Sharma|Shashikant Sharma|",
                  "Risknamaa"
                ],
                [
                  "20",
                  "2018",
                  "Rasika Agashe|Sonia Albizuri|Syna Anand|Adarsh Bharti|Makrand Deshpande|Om Kanojiya|Atul Kulkarni|Anjali Patil|Prasad|Nachiket Purnapatre|Niteesh Wadhwa|",
                  "Mere Pyare Prime Minister"
                ],
                [
                  "21",
                  "2019",
                  "Barun Sobti|Rajit Kapur|Panchhi Bora|Kartikey Tripathi|",
                  "22 Yards"
                ],
                [
                  "22",
                  "2019",
                  "Akshay Kumar|Parineeti Chopra|Suvinder Vicky|Vansh Bhardwaj|Sumeet Basran|Ajit Singh|Sandeep Nahar|Harwinder Singh Aujla|Rakesh Sharma|Adhrit Sharma|Vivek Saini|Harbhagwan Singh|Rajdeep Singh Dhaliwal|Gurpreet Toti|",
                  "Kesari (film)"
                ],
                [
                  "23",
                  "2019",
                  "Zaheer Iqbal|Pranutan Bahl|Mir Mohammed Mehroos|Mir Mohammed Zayan|Soliha Maqbool|Baba Hatim|Adiba Bhat|Hafsa Ashraf|Madikha|Bareen|Mozim Bhat|Mir Sarwar|Hemant Kher|Shrysh Zutshi|",
                  "Notebook (2019 film)"
                ],
                [
                  "24",
                  "2019",
                  "Vidyut Jammwal|Lars Kjeldsen|",
                  "Junglee (2019 film)"
                ],
                [
                  "25",
                  "2019",
                  "Deepika Amin|Kumar Kanchan Ghosh|Brijendra Kala|Jitendra Kumar|Mukesh Pandey|Santosh Rai|Vipin Sharma|",
                  "Gone Kesh"
                ],
                [
                  "26",
                  "2019",
                  "Manav Kaul|Nandita Das|",
                  "Albert Pinto Ko Gussa Kyun Aata Hai?"
                ],
                [
                  "27",
                  "2019",
                  "Naseeruddin Shah|Mithun Chakraborty|Shweta Basu Prasad|Pankaj Tripathi|Vinay Pathak|Mandira Bedi|Rajesh Sharma|Prakash Belawadi|Ankur Rathee|",
                  "The Tashkent Files"
                ],
                [
                  "28",
                  "2019",
                  "Varun Dhawan|Alia Bhatt|Aditya Roy Kapoor|Madhuri Dixit|Sonakshi Sinha|Sanjay Dutt|Kunal Khemu|Pawan Chopra|",
                  "Kalank"
                ],
                [
                  "29",
                  "2019",
                  "Shreyas Talpade|Aftab Shivdasani|Sonnalli Seygall|Ishita Dutta|Pavan Malhotra|Vijay Raaz|Manu Rishi Chadha|Anil Charanjeett|Pankaj Jha|Jameel Khan|Niharika Kundu|Tanuka Laghate|Venus Singh|Neeraj Sood|",
                  "Setters (film)"
                ],
                [
                  "30",
                  "2019",
                  "Tiger Shroff|Ananya Panday|Tara Sutaria|Aditya Seal|Manoj Pahwa|Ayesha Raza|Rajesh Kumar|Manasi Joshi Roy|Samir Soni|Gul Panag|Manjot Singh|Sahil Anand|Harsh Beniwal|Daljeet Singh Gujral|",
                  "Student of the Year 2"
                ],
                [
                  "31",
                  "2019",
                  "Boman Irani|Vivek Oberoi|Barkha Bisht|Darshan Kumaar|Zarina Wahab|Manoj Joshi|Suresh Oberoi|Prashant Narayanan|Yatin Karyekar|Rajendra Gupta|Anjan Srivastav|Imran Hasnee|Jay Bhatt|Akshat R Saluja|",
                  "PM Narendra Modi"
                ],
                [
                  "32",
                  "2019",
                  "Ajay Devgn|Tabu|Rakul Preet Singh|Jimmy Sheirgill|Alok Nath|Madhumalti Kapoor|Harry Anton|Gergo Baranyi|Sammy John Heaney|Bhavin Bhanushali|Gandharv Dewan|Gulnaaz Khan|Kumud Mishra|Sunny Singh Nijjar|",
                  "De De Pyaar De"
                ],
                [
                  "33",
                  "2019",
                  "Arjun Kapoor|Sudev Nair|Rajesh Sharma|Prasanth|Santilal Mukherjee|",
                  "India's Most Wanted (film)"
                ],
                [
                  "34",
                  "2017",
                  "Gavie Chahal|Mohan Agashe|Mohan Joshi|Lom Harsh|",
                  "Yeh Hai India"
                ],
                [
                  "35",
                  "2019",
                  "Prabhu Deva|Tamannaah Bhatia|Bhoomika Chawla|",
                  "Khamoshi (2019 film)"
                ],
                [
                  "36",
                  "2019",
                  "Shahid Kapoor|Kiara Advani|Soham Majumdar|Arjan Bajwa|Suresh Oberoi|Kamini Kaushal|Adil Hussain|Nikita Dutta|Amit Sharma|Anurag Arora|Dolly Mattoo|Aanchal Chauhan|Suparna Marwah|Swati Seth|",
                  "Kabir Singh"
                ],
                [
                  "37",
                  "2019",
                  "Ayushmann Khurrana|Nassar|Manoj Pahwa|Kumud Mishra|Isha Talwar|Sayani Gupta|Mohammed Zeeshan Ayyub|Subhrajyoti Barat|Sushil Pandey|Aakash Dabhade|Ashish Verma|Ronjini Chakraborty|Veen|Sumbul Touqueer|",
                  "Article 15 (film)"
                ],
                [
                  "38",
                  "2019",
                  "Anupam Kher|Kumud Mishra|Esha Gupta|Zakir Hussain|Rajesh Sharma|Murli Sharma|Deepshika Nagpal|",
                  "One Day: Justice Delivered"
                ],
                [
                  "39",
                  "2019",
                  "Karanvir Bohra|Priya Banerjee|",
                  "Hume Tumse Pyaar Kitna"
                ],
                [
                  "40",
                  "2019",
                  "Hrithik Roshan|Mrunal Thakur|Nandish Singh|Virendra Saxena|Sadhana Singh|Aditya Srivastava|Sanket Deshpande|Pankaj Tripathi|Vaibhav Gupta|Ali Haji|Rajesh Sharma|Deepali Kumar|Chittaranjan Giri|Ganesh Kumar|",
                  "Super 30 (film)"
                ],
                [
                  "41",
                  "2019",
                  "Jimmy Sheirgill|Mahie Gill|Nandish Singh|Pranati Rai Prakash|Saurabh Shukla|Sudhir Pandey|Supriya Pilgaonkar|Pavan Malhotra|Yashpal Sharma|Mukesh Tiwari|Raj Zutshi|Salil Acharya|Shivika Rishi|Lokesh Tilakdhari|",
                  "Family of Thakurganj"
                ],
                [
                  "42",
                  "2019",
                  "John Abraham|Nora Fatehi|Mrunal Thakur|Rajesh Sharma|Ravi Kishan|Sonam Arora|Sahidur Rahaman|Manish Chaudhary|Anil Rastogi|Kranti Prakash Jha|Amruta Sant|Anil Khopkar|Aditi Gulati|Jitendra Trehan|",
                  "Batla House"
                ],
                [
                  "43",
                  "2019",
                  "Rishi Kapoor|Jimmy Sheirgill|Sunny Singh Nijjar|Omkar Kapoor|Nimisha Mehta|Rucha Vaidya|Manoj Joshi|Lillete Dubey|Rajesh Sharma|Gurbachan Singh|Rakesh Bedi|Neelu Kohli|Shobha Singh|Sunny Leone|",
                  "Jhootha Kahin Ka"
                ],
                [
                  "44",
                  "2019",
                  "Kangana Ranaut|Rajkummar Rao|Amyra Dastur|Amrita Puri|Jimmy Sheirgill|",
                  "Judgementall Hai Kya"
                ],
                [
                  "45",
                  "2019",
                  "Natalia Janoszek|Ashutosh Rana|Makrand Deshpande|Nivedita Bhattacharya|Mukesh Hariawala|Zakir Hussain|Aman Verma|",
                  "Chicken Curry Law"
                ],
                [
                  "46",
                  "2019",
                  "Diljit Dosanjh|Kriti Sanon|Varun Sharma|Ronit Roy|Seema Bhargava|Mohammed Zeeshan Ayyub|Amit Mehra|",
                  "Arjun Patiala"
                ],
                [
                  "47",
                  "2019",
                  "Sidharth Malhotra|Parineeti Chopra|Javed Jaffrey|Sanjay Mishra|Aparshakti Khurana|",
                  "Jabariya Jodi"
                ],
                [
                  "48",
                  "2019",
                  "Rajeev Khandelwal|Atul Kulkarni|Abhimanyu Singh|Sameksha|Vikram Gokhale|Aniruddh Dave|Apoorva Arora|S.M. Zaheer|",
                  "Pranaam"
                ],
                [
                  "49",
                  "2019",
                  "Zaira Wasim|Priyanka Chopra|Farhan Akhtar|Rohit Saraf|",
                  "The Sky Is Pink"
                ]
              ],
              "shape": {
                "columns": 3,
                "rows": 1629
              }
            },
            "text/html": [
              "<div>\n",
              "<style scoped>\n",
              "    .dataframe tbody tr th:only-of-type {\n",
              "        vertical-align: middle;\n",
              "    }\n",
              "\n",
              "    .dataframe tbody tr th {\n",
              "        vertical-align: top;\n",
              "    }\n",
              "\n",
              "    .dataframe thead th {\n",
              "        text-align: right;\n",
              "    }\n",
              "</style>\n",
              "<table border=\"1\" class=\"dataframe\">\n",
              "  <thead>\n",
              "    <tr style=\"text-align: right;\">\n",
              "      <th></th>\n",
              "      <th>year_of_release</th>\n",
              "      <th>actors</th>\n",
              "      <th>title_x</th>\n",
              "    </tr>\n",
              "  </thead>\n",
              "  <tbody>\n",
              "    <tr>\n",
              "      <th>0</th>\n",
              "      <td>2019</td>\n",
              "      <td>Vicky Kaushal|Paresh Rawal|Mohit Raina|Yami Ga...</td>\n",
              "      <td>Uri: The Surgical Strike</td>\n",
              "    </tr>\n",
              "    <tr>\n",
              "      <th>1</th>\n",
              "      <td>2019</td>\n",
              "      <td>Vicky Ahuja|Shoaib Ibrahim|Shrikant Kamat|Elen...</td>\n",
              "      <td>Battalion 609</td>\n",
              "    </tr>\n",
              "    <tr>\n",
              "      <th>2</th>\n",
              "      <td>2019</td>\n",
              "      <td>Anupam Kher|Akshaye Khanna|Aahana Kumra|Atul S...</td>\n",
              "      <td>The Accidental Prime Minister (film)</td>\n",
              "    </tr>\n",
              "    <tr>\n",
              "      <th>3</th>\n",
              "      <td>2019</td>\n",
              "      <td>Emraan Hashmi|Shreya Dhanwanthary|Snighdadeep ...</td>\n",
              "      <td>Why Cheat India</td>\n",
              "    </tr>\n",
              "    <tr>\n",
              "      <th>4</th>\n",
              "      <td>2018</td>\n",
              "      <td>Mona Ambegaonkar|Ananth Narayan Mahadevan|Deva...</td>\n",
              "      <td>Evening Shadows</td>\n",
              "    </tr>\n",
              "    <tr>\n",
              "      <th>...</th>\n",
              "      <td>...</td>\n",
              "      <td>...</td>\n",
              "      <td>...</td>\n",
              "    </tr>\n",
              "    <tr>\n",
              "      <th>1624</th>\n",
              "      <td>2001</td>\n",
              "      <td>Ajay Devgn|Sonali Bendre|Namrata Shirodkar|Pre...</td>\n",
              "      <td>Tera Mera Saath Rahen</td>\n",
              "    </tr>\n",
              "    <tr>\n",
              "      <th>1625</th>\n",
              "      <td>2001</td>\n",
              "      <td>Ameesha Patel|Jimmy Sheirgill|Nafisa Ali|Gulsh...</td>\n",
              "      <td>Yeh Zindagi Ka Safar</td>\n",
              "    </tr>\n",
              "    <tr>\n",
              "      <th>1626</th>\n",
              "      <td>2018</td>\n",
              "      <td>Vijay Arora|Asrani|Rajni Bala|Kumud Damle|Utpa...</td>\n",
              "      <td>Sabse Bada Sukh</td>\n",
              "    </tr>\n",
              "    <tr>\n",
              "      <th>1627</th>\n",
              "      <td>2019</td>\n",
              "      <td>Gippy Grewal|Zareen Khan|</td>\n",
              "      <td>Daaka</td>\n",
              "    </tr>\n",
              "    <tr>\n",
              "      <th>1628</th>\n",
              "      <td>2011</td>\n",
              "      <td>Fawad Khan|</td>\n",
              "      <td>Humsafar</td>\n",
              "    </tr>\n",
              "  </tbody>\n",
              "</table>\n",
              "<p>1629 rows × 3 columns</p>\n",
              "</div>"
            ],
            "text/plain": [
              "      year_of_release                                             actors  \\\n",
              "0                2019  Vicky Kaushal|Paresh Rawal|Mohit Raina|Yami Ga...   \n",
              "1                2019  Vicky Ahuja|Shoaib Ibrahim|Shrikant Kamat|Elen...   \n",
              "2                2019  Anupam Kher|Akshaye Khanna|Aahana Kumra|Atul S...   \n",
              "3                2019  Emraan Hashmi|Shreya Dhanwanthary|Snighdadeep ...   \n",
              "4                2018  Mona Ambegaonkar|Ananth Narayan Mahadevan|Deva...   \n",
              "...               ...                                                ...   \n",
              "1624             2001  Ajay Devgn|Sonali Bendre|Namrata Shirodkar|Pre...   \n",
              "1625             2001  Ameesha Patel|Jimmy Sheirgill|Nafisa Ali|Gulsh...   \n",
              "1626             2018  Vijay Arora|Asrani|Rajni Bala|Kumud Damle|Utpa...   \n",
              "1627             2019                          Gippy Grewal|Zareen Khan|   \n",
              "1628             2011                                        Fawad Khan|   \n",
              "\n",
              "                                   title_x  \n",
              "0                 Uri: The Surgical Strike  \n",
              "1                            Battalion 609  \n",
              "2     The Accidental Prime Minister (film)  \n",
              "3                          Why Cheat India  \n",
              "4                          Evening Shadows  \n",
              "...                                    ...  \n",
              "1624                 Tera Mera Saath Rahen  \n",
              "1625                  Yeh Zindagi Ka Safar  \n",
              "1626                       Sabse Bada Sukh  \n",
              "1627                                 Daaka  \n",
              "1628                              Humsafar  \n",
              "\n",
              "[1629 rows x 3 columns]"
            ]
          },
          "execution_count": 33,
          "metadata": {},
          "output_type": "execute_result"
        }
      ],
      "source": [
        "# multiple cols\n",
        "movies[['year_of_release','actors','title_x']]  # returns the 'year_of_release', 'actors', and 'title_x' columns of the DataFrame"
      ]
    },
    {
      "cell_type": "code",
      "execution_count": 34,
      "metadata": {
        "colab": {
          "base_uri": "https://localhost:8080/",
          "height": 424
        },
        "id": "s3mf9nuYN-J6",
        "outputId": "630ec525-28a1-434c-cb99-784f82980bd3"
      },
      "outputs": [
        {
          "data": {
            "application/vnd.microsoft.datawrangler.viewer.v0+json": {
              "columns": [
                {
                  "name": "index",
                  "rawType": "int64",
                  "type": "integer"
                },
                {
                  "name": "Team1",
                  "rawType": "object",
                  "type": "string"
                },
                {
                  "name": "Team2",
                  "rawType": "object",
                  "type": "string"
                },
                {
                  "name": "WinningTeam",
                  "rawType": "object",
                  "type": "unknown"
                }
              ],
              "ref": "0cd581f6-6241-4937-9780-93132bfd6e7c",
              "rows": [
                [
                  "0",
                  "Rajasthan Royals",
                  "Gujarat Titans",
                  "Gujarat Titans"
                ],
                [
                  "1",
                  "Royal Challengers Bangalore",
                  "Rajasthan Royals",
                  "Rajasthan Royals"
                ],
                [
                  "2",
                  "Royal Challengers Bangalore",
                  "Lucknow Super Giants",
                  "Royal Challengers Bangalore"
                ],
                [
                  "3",
                  "Rajasthan Royals",
                  "Gujarat Titans",
                  "Gujarat Titans"
                ],
                [
                  "4",
                  "Sunrisers Hyderabad",
                  "Punjab Kings",
                  "Punjab Kings"
                ],
                [
                  "5",
                  "Delhi Capitals",
                  "Mumbai Indians",
                  "Mumbai Indians"
                ],
                [
                  "6",
                  "Chennai Super Kings",
                  "Rajasthan Royals",
                  "Rajasthan Royals"
                ],
                [
                  "7",
                  "Gujarat Titans",
                  "Royal Challengers Bangalore",
                  "Royal Challengers Bangalore"
                ],
                [
                  "8",
                  "Lucknow Super Giants",
                  "Kolkata Knight Riders",
                  "Lucknow Super Giants"
                ],
                [
                  "9",
                  "Sunrisers Hyderabad",
                  "Mumbai Indians",
                  "Sunrisers Hyderabad"
                ],
                [
                  "10",
                  "Delhi Capitals",
                  "Punjab Kings",
                  "Delhi Capitals"
                ],
                [
                  "11",
                  "Rajasthan Royals",
                  "Lucknow Super Giants",
                  "Rajasthan Royals"
                ],
                [
                  "12",
                  "Chennai Super Kings",
                  "Gujarat Titans",
                  "Gujarat Titans"
                ],
                [
                  "13",
                  "Kolkata Knight Riders",
                  "Sunrisers Hyderabad",
                  "Kolkata Knight Riders"
                ],
                [
                  "14",
                  "Punjab Kings",
                  "Royal Challengers Bangalore",
                  "Punjab Kings"
                ],
                [
                  "15",
                  "Chennai Super Kings",
                  "Mumbai Indians",
                  "Mumbai Indians"
                ],
                [
                  "16",
                  "Rajasthan Royals",
                  "Delhi Capitals",
                  "Delhi Capitals"
                ],
                [
                  "17",
                  "Gujarat Titans",
                  "Lucknow Super Giants",
                  "Gujarat Titans"
                ],
                [
                  "18",
                  "Kolkata Knight Riders",
                  "Mumbai Indians",
                  "Kolkata Knight Riders"
                ],
                [
                  "19",
                  "Chennai Super Kings",
                  "Delhi Capitals",
                  "Chennai Super Kings"
                ],
                [
                  "20",
                  "Royal Challengers Bangalore",
                  "Sunrisers Hyderabad",
                  "Royal Challengers Bangalore"
                ],
                [
                  "21",
                  "Lucknow Super Giants",
                  "Kolkata Knight Riders",
                  "Lucknow Super Giants"
                ],
                [
                  "22",
                  "Punjab Kings",
                  "Rajasthan Royals",
                  "Rajasthan Royals"
                ],
                [
                  "23",
                  "Mumbai Indians",
                  "Gujarat Titans",
                  "Mumbai Indians"
                ],
                [
                  "24",
                  "Delhi Capitals",
                  "Sunrisers Hyderabad",
                  "Delhi Capitals"
                ],
                [
                  "25",
                  "Royal Challengers Bangalore",
                  "Chennai Super Kings",
                  "Royal Challengers Bangalore"
                ],
                [
                  "26",
                  "Gujarat Titans",
                  "Punjab Kings",
                  "Punjab Kings"
                ],
                [
                  "27",
                  "Rajasthan Royals",
                  "Kolkata Knight Riders",
                  "Kolkata Knight Riders"
                ],
                [
                  "28",
                  "Chennai Super Kings",
                  "Sunrisers Hyderabad",
                  "Chennai Super Kings"
                ],
                [
                  "29",
                  "Lucknow Super Giants",
                  "Delhi Capitals",
                  "Lucknow Super Giants"
                ],
                [
                  "30",
                  "Rajasthan Royals",
                  "Mumbai Indians",
                  "Mumbai Indians"
                ],
                [
                  "31",
                  "Royal Challengers Bangalore",
                  "Gujarat Titans",
                  "Gujarat Titans"
                ],
                [
                  "32",
                  "Lucknow Super Giants",
                  "Punjab Kings",
                  "Lucknow Super Giants"
                ],
                [
                  "33",
                  "Kolkata Knight Riders",
                  "Delhi Capitals",
                  "Delhi Capitals"
                ],
                [
                  "34",
                  "Sunrisers Hyderabad",
                  "Gujarat Titans",
                  "Gujarat Titans"
                ],
                [
                  "35",
                  "Rajasthan Royals",
                  "Royal Challengers Bangalore",
                  "Rajasthan Royals"
                ],
                [
                  "36",
                  "Punjab Kings",
                  "Chennai Super Kings",
                  "Punjab Kings"
                ],
                [
                  "37",
                  "Lucknow Super Giants",
                  "Mumbai Indians",
                  "Lucknow Super Giants"
                ],
                [
                  "38",
                  "Royal Challengers Bangalore",
                  "Sunrisers Hyderabad",
                  "Sunrisers Hyderabad"
                ],
                [
                  "39",
                  "Gujarat Titans",
                  "Kolkata Knight Riders",
                  "Gujarat Titans"
                ],
                [
                  "40",
                  "Rajasthan Royals",
                  "Delhi Capitals",
                  "Rajasthan Royals"
                ],
                [
                  "41",
                  "Mumbai Indians",
                  "Chennai Super Kings",
                  "Chennai Super Kings"
                ],
                [
                  "42",
                  "Punjab Kings",
                  "Delhi Capitals",
                  "Delhi Capitals"
                ],
                [
                  "43",
                  "Royal Challengers Bangalore",
                  "Lucknow Super Giants",
                  "Royal Challengers Bangalore"
                ],
                [
                  "44",
                  "Rajasthan Royals",
                  "Kolkata Knight Riders",
                  "Rajasthan Royals"
                ],
                [
                  "45",
                  "Chennai Super Kings",
                  "Gujarat Titans",
                  "Gujarat Titans"
                ],
                [
                  "46",
                  "Punjab Kings",
                  "Sunrisers Hyderabad",
                  "Sunrisers Hyderabad"
                ],
                [
                  "47",
                  "Royal Challengers Bangalore",
                  "Delhi Capitals",
                  "Royal Challengers Bangalore"
                ],
                [
                  "48",
                  "Lucknow Super Giants",
                  "Mumbai Indians",
                  "Lucknow Super Giants"
                ],
                [
                  "49",
                  "Kolkata Knight Riders",
                  "Sunrisers Hyderabad",
                  "Sunrisers Hyderabad"
                ]
              ],
              "shape": {
                "columns": 3,
                "rows": 950
              }
            },
            "text/html": [
              "<div>\n",
              "<style scoped>\n",
              "    .dataframe tbody tr th:only-of-type {\n",
              "        vertical-align: middle;\n",
              "    }\n",
              "\n",
              "    .dataframe tbody tr th {\n",
              "        vertical-align: top;\n",
              "    }\n",
              "\n",
              "    .dataframe thead th {\n",
              "        text-align: right;\n",
              "    }\n",
              "</style>\n",
              "<table border=\"1\" class=\"dataframe\">\n",
              "  <thead>\n",
              "    <tr style=\"text-align: right;\">\n",
              "      <th></th>\n",
              "      <th>Team1</th>\n",
              "      <th>Team2</th>\n",
              "      <th>WinningTeam</th>\n",
              "    </tr>\n",
              "  </thead>\n",
              "  <tbody>\n",
              "    <tr>\n",
              "      <th>0</th>\n",
              "      <td>Rajasthan Royals</td>\n",
              "      <td>Gujarat Titans</td>\n",
              "      <td>Gujarat Titans</td>\n",
              "    </tr>\n",
              "    <tr>\n",
              "      <th>1</th>\n",
              "      <td>Royal Challengers Bangalore</td>\n",
              "      <td>Rajasthan Royals</td>\n",
              "      <td>Rajasthan Royals</td>\n",
              "    </tr>\n",
              "    <tr>\n",
              "      <th>2</th>\n",
              "      <td>Royal Challengers Bangalore</td>\n",
              "      <td>Lucknow Super Giants</td>\n",
              "      <td>Royal Challengers Bangalore</td>\n",
              "    </tr>\n",
              "    <tr>\n",
              "      <th>3</th>\n",
              "      <td>Rajasthan Royals</td>\n",
              "      <td>Gujarat Titans</td>\n",
              "      <td>Gujarat Titans</td>\n",
              "    </tr>\n",
              "    <tr>\n",
              "      <th>4</th>\n",
              "      <td>Sunrisers Hyderabad</td>\n",
              "      <td>Punjab Kings</td>\n",
              "      <td>Punjab Kings</td>\n",
              "    </tr>\n",
              "    <tr>\n",
              "      <th>...</th>\n",
              "      <td>...</td>\n",
              "      <td>...</td>\n",
              "      <td>...</td>\n",
              "    </tr>\n",
              "    <tr>\n",
              "      <th>945</th>\n",
              "      <td>Kolkata Knight Riders</td>\n",
              "      <td>Deccan Chargers</td>\n",
              "      <td>Kolkata Knight Riders</td>\n",
              "    </tr>\n",
              "    <tr>\n",
              "      <th>946</th>\n",
              "      <td>Mumbai Indians</td>\n",
              "      <td>Royal Challengers Bangalore</td>\n",
              "      <td>Royal Challengers Bangalore</td>\n",
              "    </tr>\n",
              "    <tr>\n",
              "      <th>947</th>\n",
              "      <td>Delhi Daredevils</td>\n",
              "      <td>Rajasthan Royals</td>\n",
              "      <td>Delhi Daredevils</td>\n",
              "    </tr>\n",
              "    <tr>\n",
              "      <th>948</th>\n",
              "      <td>Kings XI Punjab</td>\n",
              "      <td>Chennai Super Kings</td>\n",
              "      <td>Chennai Super Kings</td>\n",
              "    </tr>\n",
              "    <tr>\n",
              "      <th>949</th>\n",
              "      <td>Royal Challengers Bangalore</td>\n",
              "      <td>Kolkata Knight Riders</td>\n",
              "      <td>Kolkata Knight Riders</td>\n",
              "    </tr>\n",
              "  </tbody>\n",
              "</table>\n",
              "<p>950 rows × 3 columns</p>\n",
              "</div>"
            ],
            "text/plain": [
              "                           Team1                        Team2  \\\n",
              "0               Rajasthan Royals               Gujarat Titans   \n",
              "1    Royal Challengers Bangalore             Rajasthan Royals   \n",
              "2    Royal Challengers Bangalore         Lucknow Super Giants   \n",
              "3               Rajasthan Royals               Gujarat Titans   \n",
              "4            Sunrisers Hyderabad                 Punjab Kings   \n",
              "..                           ...                          ...   \n",
              "945        Kolkata Knight Riders              Deccan Chargers   \n",
              "946               Mumbai Indians  Royal Challengers Bangalore   \n",
              "947             Delhi Daredevils             Rajasthan Royals   \n",
              "948              Kings XI Punjab          Chennai Super Kings   \n",
              "949  Royal Challengers Bangalore        Kolkata Knight Riders   \n",
              "\n",
              "                     WinningTeam  \n",
              "0                 Gujarat Titans  \n",
              "1               Rajasthan Royals  \n",
              "2    Royal Challengers Bangalore  \n",
              "3                 Gujarat Titans  \n",
              "4                   Punjab Kings  \n",
              "..                           ...  \n",
              "945        Kolkata Knight Riders  \n",
              "946  Royal Challengers Bangalore  \n",
              "947             Delhi Daredevils  \n",
              "948          Chennai Super Kings  \n",
              "949        Kolkata Knight Riders  \n",
              "\n",
              "[950 rows x 3 columns]"
            ]
          },
          "execution_count": 34,
          "metadata": {},
          "output_type": "execute_result"
        }
      ],
      "source": [
        "ipl[['Team1','Team2','WinningTeam']]  # returns the 'Team1', 'Team2', and 'WinningTeam' columns of the DataFrame"
      ]
    },
    {
      "cell_type": "markdown",
      "metadata": {
        "id": "Xfe-uRHn2fnK"
      },
      "source": [
        "### Selecting rows from a DataFrame\n",
        "\n",
        "- **iloc** - searches using index positions\n",
        "- **loc** - searches using index labels"
      ]
    },
    {
      "cell_type": "code",
      "execution_count": 36,
      "metadata": {
        "colab": {
          "base_uri": "https://localhost:8080/"
        },
        "id": "jEpLIQ8o1Lqe",
        "outputId": "5af38c28-7870-4251-f39b-c700931ee2bb"
      },
      "outputs": [
        {
          "data": {
            "application/vnd.microsoft.datawrangler.viewer.v0+json": {
              "columns": [
                {
                  "name": "index",
                  "rawType": "object",
                  "type": "string"
                },
                {
                  "name": "5",
                  "rawType": "object",
                  "type": "unknown"
                }
              ],
              "ref": "f08079e5-e241-4af6-a6b1-3107cf5894d2",
              "rows": [
                [
                  "title_x",
                  "Soni (film)"
                ],
                [
                  "imdb_id",
                  "tt6078866"
                ],
                [
                  "poster_path",
                  "https://upload.wikimedia.org/wikipedia/en/thumb/d/de/Soni_India_Netflix_Movie_Poster.jpg/220px-Soni_India_Netflix_Movie_Poster.jpg"
                ],
                [
                  "wiki_link",
                  "https://en.wikipedia.org/wiki/Soni_(film)"
                ],
                [
                  "title_y",
                  "Soni"
                ],
                [
                  "original_title",
                  "Soni"
                ],
                [
                  "is_adult",
                  "0"
                ],
                [
                  "year_of_release",
                  "2018"
                ],
                [
                  "runtime",
                  "97"
                ],
                [
                  "genres",
                  "Drama"
                ],
                [
                  "imdb_rating",
                  "7.2"
                ],
                [
                  "imdb_votes",
                  "1595"
                ],
                [
                  "story",
                  "Soni  a young policewoman in Delhi  and her superintendent  Kalpana  have collectively taken on a growing crisis of violent crimes against women. However  their alliance suffers a major setback when Soni is transferred out for alleged misconduct on duty."
                ],
                [
                  "summary",
                  "While fighting crimes against women in Delhi  a short-fused policewoman and her level-headed female boss grapple with gender issues in their own lives."
                ],
                [
                  "tagline",
                  null
                ],
                [
                  "actors",
                  "Geetika Vidya Ohlyan|Saloni Batra|Vikas Shukla|Mohit Chauhan|Himanshu Kohli|Gauri Chakraborty|Mohinder Gujral|Upasya Goswami|Simrat Kaur|Dimple Kaur|Prateek Pachori|Kalpana Jha|Samar|"
                ],
                [
                  "wins_nominations",
                  "3 wins & 5 nominations"
                ],
                [
                  "release_date",
                  "18 January 2019 (USA)"
                ]
              ],
              "shape": {
                "columns": 1,
                "rows": 18
              }
            },
            "text/plain": [
              "title_x                                                   Soni (film)\n",
              "imdb_id                                                     tt6078866\n",
              "poster_path         https://upload.wikimedia.org/wikipedia/en/thum...\n",
              "wiki_link                   https://en.wikipedia.org/wiki/Soni_(film)\n",
              "title_y                                                          Soni\n",
              "original_title                                                   Soni\n",
              "is_adult                                                            0\n",
              "year_of_release                                                  2018\n",
              "runtime                                                            97\n",
              "genres                                                          Drama\n",
              "imdb_rating                                                       7.2\n",
              "imdb_votes                                                       1595\n",
              "story               Soni  a young policewoman in Delhi  and her su...\n",
              "summary             While fighting crimes against women in Delhi  ...\n",
              "tagline                                                           NaN\n",
              "actors              Geetika Vidya Ohlyan|Saloni Batra|Vikas Shukla...\n",
              "wins_nominations                               3 wins & 5 nominations\n",
              "release_date                                    18 January 2019 (USA)\n",
              "Name: 5, dtype: object"
            ]
          },
          "execution_count": 36,
          "metadata": {},
          "output_type": "execute_result"
        }
      ],
      "source": [
        "# single row\n",
        "movies.iloc[5]  # returns the 6th row of the DataFrame (index starts from 0)\n",
        "#here we have made index as name, so we can access the row by name"
      ]
    },
    {
      "cell_type": "code",
      "execution_count": 37,
      "metadata": {
        "colab": {
          "base_uri": "https://localhost:8080/",
          "height": 635
        },
        "id": "sZ-9vwck2kWx",
        "outputId": "fca0ca53-62e9-486e-c544-e324463ffb62"
      },
      "outputs": [
        {
          "data": {
            "application/vnd.microsoft.datawrangler.viewer.v0+json": {
              "columns": [
                {
                  "name": "index",
                  "rawType": "int64",
                  "type": "integer"
                },
                {
                  "name": "title_x",
                  "rawType": "object",
                  "type": "string"
                },
                {
                  "name": "imdb_id",
                  "rawType": "object",
                  "type": "string"
                },
                {
                  "name": "poster_path",
                  "rawType": "object",
                  "type": "unknown"
                },
                {
                  "name": "wiki_link",
                  "rawType": "object",
                  "type": "string"
                },
                {
                  "name": "title_y",
                  "rawType": "object",
                  "type": "string"
                },
                {
                  "name": "original_title",
                  "rawType": "object",
                  "type": "string"
                },
                {
                  "name": "is_adult",
                  "rawType": "int64",
                  "type": "integer"
                },
                {
                  "name": "year_of_release",
                  "rawType": "int64",
                  "type": "integer"
                },
                {
                  "name": "runtime",
                  "rawType": "object",
                  "type": "string"
                },
                {
                  "name": "genres",
                  "rawType": "object",
                  "type": "string"
                },
                {
                  "name": "imdb_rating",
                  "rawType": "float64",
                  "type": "float"
                },
                {
                  "name": "imdb_votes",
                  "rawType": "int64",
                  "type": "integer"
                },
                {
                  "name": "story",
                  "rawType": "object",
                  "type": "string"
                },
                {
                  "name": "summary",
                  "rawType": "object",
                  "type": "string"
                },
                {
                  "name": "tagline",
                  "rawType": "object",
                  "type": "unknown"
                },
                {
                  "name": "actors",
                  "rawType": "object",
                  "type": "string"
                },
                {
                  "name": "wins_nominations",
                  "rawType": "object",
                  "type": "unknown"
                },
                {
                  "name": "release_date",
                  "rawType": "object",
                  "type": "string"
                }
              ],
              "ref": "16168b79-ad6e-4c05-b746-1172e86f68cd",
              "rows": [
                [
                  "0",
                  "Uri: The Surgical Strike",
                  "tt8291224",
                  "https://upload.wikimedia.org/wikipedia/en/thumb/3/3b/URI_-_New_poster.jpg/220px-URI_-_New_poster.jpg",
                  "https://en.wikipedia.org/wiki/Uri:_The_Surgical_Strike",
                  "Uri: The Surgical Strike",
                  "Uri: The Surgical Strike",
                  "0",
                  "2019",
                  "138",
                  "Action|Drama|War",
                  "8.4",
                  "35112",
                  "Divided over five chapters  the film chronicles the events of the surgical strike conducted by the Indian military against suspected militants in Pakistan occupied Kashmir. It tells the story of the 11 tumultuous events over which the operation was carried out. Indian army special forces carry out a covert operation to avenge the killing of fellow army men at their base by a terrorist group.",
                  "Indian army special forces execute a covert operation  avenging the killing of fellow army men at their base by a terrorist group.",
                  null,
                  "Vicky Kaushal|Paresh Rawal|Mohit Raina|Yami Gautam|Kirti Kulhari|Rajit Kapoor|Ivan Rodrigues|Manasi Parekh|Swaroop Sampat|Riva Arora|Yogesh Soman|Fareed Ahmed|Akashdeep Arora|Kallol Banerjee|",
                  "4 wins",
                  "11 January 2019 (USA)"
                ],
                [
                  "1",
                  "Battalion 609",
                  "tt9472208",
                  null,
                  "https://en.wikipedia.org/wiki/Battalion_609",
                  "Battalion 609",
                  "Battalion 609",
                  "0",
                  "2019",
                  "131",
                  "War",
                  "4.1",
                  "73",
                  "The story revolves around a cricket match between the Indian Army and the Pakistan Army gone wrong and narrates the tale of the soldiers of Battalion 609 putting up a fight with Taliban. After an attack on Indian Army that is Battalion 609 near the LOC  the match which was to be played between India and Pakistan is cancelled. Anwar Hussein  a Pakistani soldier who is very fond of cricket and was looking forward to the match  throws a cricket bat at the other end of the LOC and calls the Indian army and Indians a bunch of cowards. In anger  the Indian army throws a ball towards them. Soon  a verbal fight breaks between them which leads to the two teams deciding to play a cricket match. The losing team will take their post eighteen kilometres back.",
                  "The story of Battalion 609 revolves around a cricket match between the Indian Army and the Pakistan army gone wrong and narrates the tale of the brave soldiers of Battalion 609 putting up a fight with the mighty Taliban.",
                  null,
                  "Vicky Ahuja|Shoaib Ibrahim|Shrikant Kamat|Elena Kazan|Vishwas Kini|Major Kishore|Jashn Kohli|Rammy C. Pandey|Manish Sharma|Sparsh Sharma|Farnaz Shetty|Vikas Shrivastav|Chandraprakash Thakur|Brajesh Tiwari|",
                  null,
                  "11 January 2019 (India)"
                ],
                [
                  "2",
                  "The Accidental Prime Minister (film)",
                  "tt6986710",
                  "https://upload.wikimedia.org/wikipedia/en/thumb/a/a1/The_Accidental_Prime_Minister_film.jpg/220px-The_Accidental_Prime_Minister_film.jpg",
                  "https://en.wikipedia.org/wiki/The_Accidental_Prime_Minister_(film)",
                  "The Accidental Prime Minister",
                  "The Accidental Prime Minister",
                  "0",
                  "2019",
                  "112",
                  "Biography|Drama",
                  "6.1",
                  "5549",
                  "Based on the memoir by Indian policy analyst Sanjaya Baru  The Accidental Prime Minister explores Manmohan Singh's tenure as the Prime Minister of India  and the interference of Congress Party in contradicting his decisions during his first tenure. He details how Singh fell a victim to Congress Party's dynastic approach. It highlights how Manmohan Singh was constantly ignored by Congress to maintain turf for Rahul Gandhi  the son of Sonia Gandhi and Rajiv Gandhi.",
                  "Explores Manmohan Singh's tenure as the Prime Minister of India and the kind of control he had over the cabinet and the country.",
                  null,
                  "Anupam Kher|Akshaye Khanna|Aahana Kumra|Atul Sharma|Manoj Anand|Arjun Mathur|Suzanne Bernert|Abdul Quadir Amin|Bharat Mistri|Divya Seth|Anil Rastogi|Ramesh Bhatkar|Parrgash Kaur|Jess Kaur|",
                  null,
                  "11 January 2019 (USA)"
                ],
                [
                  "3",
                  "Why Cheat India",
                  "tt8108208",
                  "https://upload.wikimedia.org/wikipedia/en/thumb/a/a2/Why_Cheat_India_poster.jpg/220px-Why_Cheat_India_poster.jpg",
                  "https://en.wikipedia.org/wiki/Why_Cheat_India",
                  "Why Cheat India",
                  "Why Cheat India",
                  "0",
                  "2019",
                  "121",
                  "Crime|Drama",
                  "6.0",
                  "1891",
                  "The movie focuses on existing malpractices in country's education system  the whole concept of buying your way through education  jobs and earnings. Even with an evolving education system  the country faces scams like SSC and HSC paper leaks  CBSE re-examination  Vyaapam  etc. The movie tries to shift the attention of people to understand the vulnerability of hardworking and gifted students who get left out.",
                  "The movie focuses on existing malpractices in country's education system  the whole concept of buying your way through education  jobs and earnings. Even with an evolving education system  ...                    ",
                  null,
                  "Emraan Hashmi|Shreya Dhanwanthary|Snighdadeep Chatterji|Navneet Srivastava|Nanda Yadav|",
                  null,
                  "18 January 2019 (USA)"
                ],
                [
                  "4",
                  "Evening Shadows",
                  "tt6028796",
                  null,
                  "https://en.wikipedia.org/wiki/Evening_Shadows",
                  "Evening Shadows",
                  "Evening Shadows",
                  "0",
                  "2018",
                  "102",
                  "Drama",
                  "7.3",
                  "280",
                  "While gay rights and marriage equality has been embraced by most countries  a small town in Southern India lives within a cocoon of traditions and social morality. In such a milieu when a young gay man Kartik  comes out to his mother Vasudha  her entire world comes crashing down. She has no one to turn to dispel her fears and doubts  to understand her loving son's truth. Moreover as a woman  trapped within a patriarchal conservative society  her biggest challenge is to deal with her dogmatic husband Damodar  and the conservative society around her. 'Evening Shadows' is a universal story about a mother-son bonding and its emotional strength to withstand the ravages of time and harsh realities.",
                  "Under the 'Evening Shadows'  truth often plays hide and seek. Set in South India and Mumbai  'Evening Shadows' is a tender heartwarming story about a mother-son bond that has to withstand the ravages of time  distance and truths.",
                  null,
                  "Mona Ambegaonkar|Ananth Narayan Mahadevan|Devansh Doshi|Arpit Chaudhary|Yamini Singh|Abhay Kulkarni|Veena Nair|Disha Thakur|Kala Ramanathan|Sushant Divgikar|",
                  "17 wins & 1 nomination",
                  "11 January 2019 (India)"
                ]
              ],
              "shape": {
                "columns": 18,
                "rows": 5
              }
            },
            "text/html": [
              "<div>\n",
              "<style scoped>\n",
              "    .dataframe tbody tr th:only-of-type {\n",
              "        vertical-align: middle;\n",
              "    }\n",
              "\n",
              "    .dataframe tbody tr th {\n",
              "        vertical-align: top;\n",
              "    }\n",
              "\n",
              "    .dataframe thead th {\n",
              "        text-align: right;\n",
              "    }\n",
              "</style>\n",
              "<table border=\"1\" class=\"dataframe\">\n",
              "  <thead>\n",
              "    <tr style=\"text-align: right;\">\n",
              "      <th></th>\n",
              "      <th>title_x</th>\n",
              "      <th>imdb_id</th>\n",
              "      <th>poster_path</th>\n",
              "      <th>wiki_link</th>\n",
              "      <th>title_y</th>\n",
              "      <th>original_title</th>\n",
              "      <th>is_adult</th>\n",
              "      <th>year_of_release</th>\n",
              "      <th>runtime</th>\n",
              "      <th>genres</th>\n",
              "      <th>imdb_rating</th>\n",
              "      <th>imdb_votes</th>\n",
              "      <th>story</th>\n",
              "      <th>summary</th>\n",
              "      <th>tagline</th>\n",
              "      <th>actors</th>\n",
              "      <th>wins_nominations</th>\n",
              "      <th>release_date</th>\n",
              "    </tr>\n",
              "  </thead>\n",
              "  <tbody>\n",
              "    <tr>\n",
              "      <th>0</th>\n",
              "      <td>Uri: The Surgical Strike</td>\n",
              "      <td>tt8291224</td>\n",
              "      <td>https://upload.wikimedia.org/wikipedia/en/thum...</td>\n",
              "      <td>https://en.wikipedia.org/wiki/Uri:_The_Surgica...</td>\n",
              "      <td>Uri: The Surgical Strike</td>\n",
              "      <td>Uri: The Surgical Strike</td>\n",
              "      <td>0</td>\n",
              "      <td>2019</td>\n",
              "      <td>138</td>\n",
              "      <td>Action|Drama|War</td>\n",
              "      <td>8.4</td>\n",
              "      <td>35112</td>\n",
              "      <td>Divided over five chapters  the film chronicle...</td>\n",
              "      <td>Indian army special forces execute a covert op...</td>\n",
              "      <td>NaN</td>\n",
              "      <td>Vicky Kaushal|Paresh Rawal|Mohit Raina|Yami Ga...</td>\n",
              "      <td>4 wins</td>\n",
              "      <td>11 January 2019 (USA)</td>\n",
              "    </tr>\n",
              "    <tr>\n",
              "      <th>1</th>\n",
              "      <td>Battalion 609</td>\n",
              "      <td>tt9472208</td>\n",
              "      <td>NaN</td>\n",
              "      <td>https://en.wikipedia.org/wiki/Battalion_609</td>\n",
              "      <td>Battalion 609</td>\n",
              "      <td>Battalion 609</td>\n",
              "      <td>0</td>\n",
              "      <td>2019</td>\n",
              "      <td>131</td>\n",
              "      <td>War</td>\n",
              "      <td>4.1</td>\n",
              "      <td>73</td>\n",
              "      <td>The story revolves around a cricket match betw...</td>\n",
              "      <td>The story of Battalion 609 revolves around a c...</td>\n",
              "      <td>NaN</td>\n",
              "      <td>Vicky Ahuja|Shoaib Ibrahim|Shrikant Kamat|Elen...</td>\n",
              "      <td>NaN</td>\n",
              "      <td>11 January 2019 (India)</td>\n",
              "    </tr>\n",
              "    <tr>\n",
              "      <th>2</th>\n",
              "      <td>The Accidental Prime Minister (film)</td>\n",
              "      <td>tt6986710</td>\n",
              "      <td>https://upload.wikimedia.org/wikipedia/en/thum...</td>\n",
              "      <td>https://en.wikipedia.org/wiki/The_Accidental_P...</td>\n",
              "      <td>The Accidental Prime Minister</td>\n",
              "      <td>The Accidental Prime Minister</td>\n",
              "      <td>0</td>\n",
              "      <td>2019</td>\n",
              "      <td>112</td>\n",
              "      <td>Biography|Drama</td>\n",
              "      <td>6.1</td>\n",
              "      <td>5549</td>\n",
              "      <td>Based on the memoir by Indian policy analyst S...</td>\n",
              "      <td>Explores Manmohan Singh's tenure as the Prime ...</td>\n",
              "      <td>NaN</td>\n",
              "      <td>Anupam Kher|Akshaye Khanna|Aahana Kumra|Atul S...</td>\n",
              "      <td>NaN</td>\n",
              "      <td>11 January 2019 (USA)</td>\n",
              "    </tr>\n",
              "    <tr>\n",
              "      <th>3</th>\n",
              "      <td>Why Cheat India</td>\n",
              "      <td>tt8108208</td>\n",
              "      <td>https://upload.wikimedia.org/wikipedia/en/thum...</td>\n",
              "      <td>https://en.wikipedia.org/wiki/Why_Cheat_India</td>\n",
              "      <td>Why Cheat India</td>\n",
              "      <td>Why Cheat India</td>\n",
              "      <td>0</td>\n",
              "      <td>2019</td>\n",
              "      <td>121</td>\n",
              "      <td>Crime|Drama</td>\n",
              "      <td>6.0</td>\n",
              "      <td>1891</td>\n",
              "      <td>The movie focuses on existing malpractices in ...</td>\n",
              "      <td>The movie focuses on existing malpractices in ...</td>\n",
              "      <td>NaN</td>\n",
              "      <td>Emraan Hashmi|Shreya Dhanwanthary|Snighdadeep ...</td>\n",
              "      <td>NaN</td>\n",
              "      <td>18 January 2019 (USA)</td>\n",
              "    </tr>\n",
              "    <tr>\n",
              "      <th>4</th>\n",
              "      <td>Evening Shadows</td>\n",
              "      <td>tt6028796</td>\n",
              "      <td>NaN</td>\n",
              "      <td>https://en.wikipedia.org/wiki/Evening_Shadows</td>\n",
              "      <td>Evening Shadows</td>\n",
              "      <td>Evening Shadows</td>\n",
              "      <td>0</td>\n",
              "      <td>2018</td>\n",
              "      <td>102</td>\n",
              "      <td>Drama</td>\n",
              "      <td>7.3</td>\n",
              "      <td>280</td>\n",
              "      <td>While gay rights and marriage equality has bee...</td>\n",
              "      <td>Under the 'Evening Shadows'  truth often plays...</td>\n",
              "      <td>NaN</td>\n",
              "      <td>Mona Ambegaonkar|Ananth Narayan Mahadevan|Deva...</td>\n",
              "      <td>17 wins &amp; 1 nomination</td>\n",
              "      <td>11 January 2019 (India)</td>\n",
              "    </tr>\n",
              "  </tbody>\n",
              "</table>\n",
              "</div>"
            ],
            "text/plain": [
              "                                title_x    imdb_id  \\\n",
              "0              Uri: The Surgical Strike  tt8291224   \n",
              "1                         Battalion 609  tt9472208   \n",
              "2  The Accidental Prime Minister (film)  tt6986710   \n",
              "3                       Why Cheat India  tt8108208   \n",
              "4                       Evening Shadows  tt6028796   \n",
              "\n",
              "                                         poster_path  \\\n",
              "0  https://upload.wikimedia.org/wikipedia/en/thum...   \n",
              "1                                                NaN   \n",
              "2  https://upload.wikimedia.org/wikipedia/en/thum...   \n",
              "3  https://upload.wikimedia.org/wikipedia/en/thum...   \n",
              "4                                                NaN   \n",
              "\n",
              "                                           wiki_link  \\\n",
              "0  https://en.wikipedia.org/wiki/Uri:_The_Surgica...   \n",
              "1        https://en.wikipedia.org/wiki/Battalion_609   \n",
              "2  https://en.wikipedia.org/wiki/The_Accidental_P...   \n",
              "3      https://en.wikipedia.org/wiki/Why_Cheat_India   \n",
              "4      https://en.wikipedia.org/wiki/Evening_Shadows   \n",
              "\n",
              "                         title_y                 original_title  is_adult  \\\n",
              "0       Uri: The Surgical Strike       Uri: The Surgical Strike         0   \n",
              "1                  Battalion 609                  Battalion 609         0   \n",
              "2  The Accidental Prime Minister  The Accidental Prime Minister         0   \n",
              "3                Why Cheat India                Why Cheat India         0   \n",
              "4                Evening Shadows                Evening Shadows         0   \n",
              "\n",
              "   year_of_release runtime            genres  imdb_rating  imdb_votes  \\\n",
              "0             2019     138  Action|Drama|War          8.4       35112   \n",
              "1             2019     131               War          4.1          73   \n",
              "2             2019     112   Biography|Drama          6.1        5549   \n",
              "3             2019     121       Crime|Drama          6.0        1891   \n",
              "4             2018     102             Drama          7.3         280   \n",
              "\n",
              "                                               story  \\\n",
              "0  Divided over five chapters  the film chronicle...   \n",
              "1  The story revolves around a cricket match betw...   \n",
              "2  Based on the memoir by Indian policy analyst S...   \n",
              "3  The movie focuses on existing malpractices in ...   \n",
              "4  While gay rights and marriage equality has bee...   \n",
              "\n",
              "                                             summary tagline  \\\n",
              "0  Indian army special forces execute a covert op...     NaN   \n",
              "1  The story of Battalion 609 revolves around a c...     NaN   \n",
              "2  Explores Manmohan Singh's tenure as the Prime ...     NaN   \n",
              "3  The movie focuses on existing malpractices in ...     NaN   \n",
              "4  Under the 'Evening Shadows'  truth often plays...     NaN   \n",
              "\n",
              "                                              actors        wins_nominations  \\\n",
              "0  Vicky Kaushal|Paresh Rawal|Mohit Raina|Yami Ga...                  4 wins   \n",
              "1  Vicky Ahuja|Shoaib Ibrahim|Shrikant Kamat|Elen...                     NaN   \n",
              "2  Anupam Kher|Akshaye Khanna|Aahana Kumra|Atul S...                     NaN   \n",
              "3  Emraan Hashmi|Shreya Dhanwanthary|Snighdadeep ...                     NaN   \n",
              "4  Mona Ambegaonkar|Ananth Narayan Mahadevan|Deva...  17 wins & 1 nomination   \n",
              "\n",
              "              release_date  \n",
              "0    11 January 2019 (USA)  \n",
              "1  11 January 2019 (India)  \n",
              "2    11 January 2019 (USA)  \n",
              "3    18 January 2019 (USA)  \n",
              "4  11 January 2019 (India)  "
            ]
          },
          "execution_count": 37,
          "metadata": {},
          "output_type": "execute_result"
        }
      ],
      "source": [
        "# multiple row\n",
        "movies.iloc[:5] # returns the first 5 rows of the DataFrame"
      ]
    },
    {
      "cell_type": "code",
      "execution_count": 38,
      "metadata": {
        "colab": {
          "base_uri": "https://localhost:8080/",
          "height": 503
        },
        "id": "jsdmIdyBlFg8",
        "outputId": "cb603511-7e16-4f78-a331-ce6ca3c90918"
      },
      "outputs": [
        {
          "data": {
            "application/vnd.microsoft.datawrangler.viewer.v0+json": {
              "columns": [
                {
                  "name": "index",
                  "rawType": "int64",
                  "type": "integer"
                },
                {
                  "name": "title_x",
                  "rawType": "object",
                  "type": "string"
                },
                {
                  "name": "imdb_id",
                  "rawType": "object",
                  "type": "string"
                },
                {
                  "name": "poster_path",
                  "rawType": "object",
                  "type": "unknown"
                },
                {
                  "name": "wiki_link",
                  "rawType": "object",
                  "type": "string"
                },
                {
                  "name": "title_y",
                  "rawType": "object",
                  "type": "string"
                },
                {
                  "name": "original_title",
                  "rawType": "object",
                  "type": "string"
                },
                {
                  "name": "is_adult",
                  "rawType": "int64",
                  "type": "integer"
                },
                {
                  "name": "year_of_release",
                  "rawType": "int64",
                  "type": "integer"
                },
                {
                  "name": "runtime",
                  "rawType": "object",
                  "type": "string"
                },
                {
                  "name": "genres",
                  "rawType": "object",
                  "type": "string"
                },
                {
                  "name": "imdb_rating",
                  "rawType": "float64",
                  "type": "float"
                },
                {
                  "name": "imdb_votes",
                  "rawType": "int64",
                  "type": "integer"
                },
                {
                  "name": "story",
                  "rawType": "object",
                  "type": "string"
                },
                {
                  "name": "summary",
                  "rawType": "object",
                  "type": "string"
                },
                {
                  "name": "tagline",
                  "rawType": "object",
                  "type": "unknown"
                },
                {
                  "name": "actors",
                  "rawType": "object",
                  "type": "string"
                },
                {
                  "name": "wins_nominations",
                  "rawType": "object",
                  "type": "string"
                },
                {
                  "name": "release_date",
                  "rawType": "object",
                  "type": "string"
                }
              ],
              "ref": "4e4eb77d-5bd1-4de1-8e1f-2bd944332546",
              "rows": [
                [
                  "0",
                  "Uri: The Surgical Strike",
                  "tt8291224",
                  "https://upload.wikimedia.org/wikipedia/en/thumb/3/3b/URI_-_New_poster.jpg/220px-URI_-_New_poster.jpg",
                  "https://en.wikipedia.org/wiki/Uri:_The_Surgical_Strike",
                  "Uri: The Surgical Strike",
                  "Uri: The Surgical Strike",
                  "0",
                  "2019",
                  "138",
                  "Action|Drama|War",
                  "8.4",
                  "35112",
                  "Divided over five chapters  the film chronicles the events of the surgical strike conducted by the Indian military against suspected militants in Pakistan occupied Kashmir. It tells the story of the 11 tumultuous events over which the operation was carried out. Indian army special forces carry out a covert operation to avenge the killing of fellow army men at their base by a terrorist group.",
                  "Indian army special forces execute a covert operation  avenging the killing of fellow army men at their base by a terrorist group.",
                  null,
                  "Vicky Kaushal|Paresh Rawal|Mohit Raina|Yami Gautam|Kirti Kulhari|Rajit Kapoor|Ivan Rodrigues|Manasi Parekh|Swaroop Sampat|Riva Arora|Yogesh Soman|Fareed Ahmed|Akashdeep Arora|Kallol Banerjee|",
                  "4 wins",
                  "11 January 2019 (USA)"
                ],
                [
                  "4",
                  "Evening Shadows",
                  "tt6028796",
                  null,
                  "https://en.wikipedia.org/wiki/Evening_Shadows",
                  "Evening Shadows",
                  "Evening Shadows",
                  "0",
                  "2018",
                  "102",
                  "Drama",
                  "7.3",
                  "280",
                  "While gay rights and marriage equality has been embraced by most countries  a small town in Southern India lives within a cocoon of traditions and social morality. In such a milieu when a young gay man Kartik  comes out to his mother Vasudha  her entire world comes crashing down. She has no one to turn to dispel her fears and doubts  to understand her loving son's truth. Moreover as a woman  trapped within a patriarchal conservative society  her biggest challenge is to deal with her dogmatic husband Damodar  and the conservative society around her. 'Evening Shadows' is a universal story about a mother-son bonding and its emotional strength to withstand the ravages of time and harsh realities.",
                  "Under the 'Evening Shadows'  truth often plays hide and seek. Set in South India and Mumbai  'Evening Shadows' is a tender heartwarming story about a mother-son bond that has to withstand the ravages of time  distance and truths.",
                  null,
                  "Mona Ambegaonkar|Ananth Narayan Mahadevan|Devansh Doshi|Arpit Chaudhary|Yamini Singh|Abhay Kulkarni|Veena Nair|Disha Thakur|Kala Ramanathan|Sushant Divgikar|",
                  "17 wins & 1 nomination",
                  "11 January 2019 (India)"
                ],
                [
                  "5",
                  "Soni (film)",
                  "tt6078866",
                  "https://upload.wikimedia.org/wikipedia/en/thumb/d/de/Soni_India_Netflix_Movie_Poster.jpg/220px-Soni_India_Netflix_Movie_Poster.jpg",
                  "https://en.wikipedia.org/wiki/Soni_(film)",
                  "Soni",
                  "Soni",
                  "0",
                  "2018",
                  "97",
                  "Drama",
                  "7.2",
                  "1595",
                  "Soni  a young policewoman in Delhi  and her superintendent  Kalpana  have collectively taken on a growing crisis of violent crimes against women. However  their alliance suffers a major setback when Soni is transferred out for alleged misconduct on duty.",
                  "While fighting crimes against women in Delhi  a short-fused policewoman and her level-headed female boss grapple with gender issues in their own lives.",
                  null,
                  "Geetika Vidya Ohlyan|Saloni Batra|Vikas Shukla|Mohit Chauhan|Himanshu Kohli|Gauri Chakraborty|Mohinder Gujral|Upasya Goswami|Simrat Kaur|Dimple Kaur|Prateek Pachori|Kalpana Jha|Samar|",
                  "3 wins & 5 nominations",
                  "18 January 2019 (USA)"
                ]
              ],
              "shape": {
                "columns": 18,
                "rows": 3
              }
            },
            "text/html": [
              "<div>\n",
              "<style scoped>\n",
              "    .dataframe tbody tr th:only-of-type {\n",
              "        vertical-align: middle;\n",
              "    }\n",
              "\n",
              "    .dataframe tbody tr th {\n",
              "        vertical-align: top;\n",
              "    }\n",
              "\n",
              "    .dataframe thead th {\n",
              "        text-align: right;\n",
              "    }\n",
              "</style>\n",
              "<table border=\"1\" class=\"dataframe\">\n",
              "  <thead>\n",
              "    <tr style=\"text-align: right;\">\n",
              "      <th></th>\n",
              "      <th>title_x</th>\n",
              "      <th>imdb_id</th>\n",
              "      <th>poster_path</th>\n",
              "      <th>wiki_link</th>\n",
              "      <th>title_y</th>\n",
              "      <th>original_title</th>\n",
              "      <th>is_adult</th>\n",
              "      <th>year_of_release</th>\n",
              "      <th>runtime</th>\n",
              "      <th>genres</th>\n",
              "      <th>imdb_rating</th>\n",
              "      <th>imdb_votes</th>\n",
              "      <th>story</th>\n",
              "      <th>summary</th>\n",
              "      <th>tagline</th>\n",
              "      <th>actors</th>\n",
              "      <th>wins_nominations</th>\n",
              "      <th>release_date</th>\n",
              "    </tr>\n",
              "  </thead>\n",
              "  <tbody>\n",
              "    <tr>\n",
              "      <th>0</th>\n",
              "      <td>Uri: The Surgical Strike</td>\n",
              "      <td>tt8291224</td>\n",
              "      <td>https://upload.wikimedia.org/wikipedia/en/thum...</td>\n",
              "      <td>https://en.wikipedia.org/wiki/Uri:_The_Surgica...</td>\n",
              "      <td>Uri: The Surgical Strike</td>\n",
              "      <td>Uri: The Surgical Strike</td>\n",
              "      <td>0</td>\n",
              "      <td>2019</td>\n",
              "      <td>138</td>\n",
              "      <td>Action|Drama|War</td>\n",
              "      <td>8.4</td>\n",
              "      <td>35112</td>\n",
              "      <td>Divided over five chapters  the film chronicle...</td>\n",
              "      <td>Indian army special forces execute a covert op...</td>\n",
              "      <td>NaN</td>\n",
              "      <td>Vicky Kaushal|Paresh Rawal|Mohit Raina|Yami Ga...</td>\n",
              "      <td>4 wins</td>\n",
              "      <td>11 January 2019 (USA)</td>\n",
              "    </tr>\n",
              "    <tr>\n",
              "      <th>4</th>\n",
              "      <td>Evening Shadows</td>\n",
              "      <td>tt6028796</td>\n",
              "      <td>NaN</td>\n",
              "      <td>https://en.wikipedia.org/wiki/Evening_Shadows</td>\n",
              "      <td>Evening Shadows</td>\n",
              "      <td>Evening Shadows</td>\n",
              "      <td>0</td>\n",
              "      <td>2018</td>\n",
              "      <td>102</td>\n",
              "      <td>Drama</td>\n",
              "      <td>7.3</td>\n",
              "      <td>280</td>\n",
              "      <td>While gay rights and marriage equality has bee...</td>\n",
              "      <td>Under the 'Evening Shadows'  truth often plays...</td>\n",
              "      <td>NaN</td>\n",
              "      <td>Mona Ambegaonkar|Ananth Narayan Mahadevan|Deva...</td>\n",
              "      <td>17 wins &amp; 1 nomination</td>\n",
              "      <td>11 January 2019 (India)</td>\n",
              "    </tr>\n",
              "    <tr>\n",
              "      <th>5</th>\n",
              "      <td>Soni (film)</td>\n",
              "      <td>tt6078866</td>\n",
              "      <td>https://upload.wikimedia.org/wikipedia/en/thum...</td>\n",
              "      <td>https://en.wikipedia.org/wiki/Soni_(film)</td>\n",
              "      <td>Soni</td>\n",
              "      <td>Soni</td>\n",
              "      <td>0</td>\n",
              "      <td>2018</td>\n",
              "      <td>97</td>\n",
              "      <td>Drama</td>\n",
              "      <td>7.2</td>\n",
              "      <td>1595</td>\n",
              "      <td>Soni  a young policewoman in Delhi  and her su...</td>\n",
              "      <td>While fighting crimes against women in Delhi  ...</td>\n",
              "      <td>NaN</td>\n",
              "      <td>Geetika Vidya Ohlyan|Saloni Batra|Vikas Shukla...</td>\n",
              "      <td>3 wins &amp; 5 nominations</td>\n",
              "      <td>18 January 2019 (USA)</td>\n",
              "    </tr>\n",
              "  </tbody>\n",
              "</table>\n",
              "</div>"
            ],
            "text/plain": [
              "                    title_x    imdb_id  \\\n",
              "0  Uri: The Surgical Strike  tt8291224   \n",
              "4           Evening Shadows  tt6028796   \n",
              "5               Soni (film)  tt6078866   \n",
              "\n",
              "                                         poster_path  \\\n",
              "0  https://upload.wikimedia.org/wikipedia/en/thum...   \n",
              "4                                                NaN   \n",
              "5  https://upload.wikimedia.org/wikipedia/en/thum...   \n",
              "\n",
              "                                           wiki_link  \\\n",
              "0  https://en.wikipedia.org/wiki/Uri:_The_Surgica...   \n",
              "4      https://en.wikipedia.org/wiki/Evening_Shadows   \n",
              "5          https://en.wikipedia.org/wiki/Soni_(film)   \n",
              "\n",
              "                    title_y            original_title  is_adult  \\\n",
              "0  Uri: The Surgical Strike  Uri: The Surgical Strike         0   \n",
              "4           Evening Shadows           Evening Shadows         0   \n",
              "5                      Soni                      Soni         0   \n",
              "\n",
              "   year_of_release runtime            genres  imdb_rating  imdb_votes  \\\n",
              "0             2019     138  Action|Drama|War          8.4       35112   \n",
              "4             2018     102             Drama          7.3         280   \n",
              "5             2018      97             Drama          7.2        1595   \n",
              "\n",
              "                                               story  \\\n",
              "0  Divided over five chapters  the film chronicle...   \n",
              "4  While gay rights and marriage equality has bee...   \n",
              "5  Soni  a young policewoman in Delhi  and her su...   \n",
              "\n",
              "                                             summary tagline  \\\n",
              "0  Indian army special forces execute a covert op...     NaN   \n",
              "4  Under the 'Evening Shadows'  truth often plays...     NaN   \n",
              "5  While fighting crimes against women in Delhi  ...     NaN   \n",
              "\n",
              "                                              actors        wins_nominations  \\\n",
              "0  Vicky Kaushal|Paresh Rawal|Mohit Raina|Yami Ga...                  4 wins   \n",
              "4  Mona Ambegaonkar|Ananth Narayan Mahadevan|Deva...  17 wins & 1 nomination   \n",
              "5  Geetika Vidya Ohlyan|Saloni Batra|Vikas Shukla...  3 wins & 5 nominations   \n",
              "\n",
              "              release_date  \n",
              "0    11 January 2019 (USA)  \n",
              "4  11 January 2019 (India)  \n",
              "5    18 January 2019 (USA)  "
            ]
          },
          "execution_count": 38,
          "metadata": {},
          "output_type": "execute_result"
        }
      ],
      "source": [
        "# fancy indexing\n",
        "movies.iloc[[0,4,5]]  # returns the 1st, 5th, and 6th rows of the DataFrame (index starts from 0)"
      ]
    },
    {
      "cell_type": "code",
      "execution_count": 39,
      "metadata": {
        "colab": {
          "base_uri": "https://localhost:8080/",
          "height": 269
        },
        "id": "tzKNGsmAjhpv",
        "outputId": "7411c7c4-c94c-4269-8b18-a8b8715059f0"
      },
      "outputs": [
        {
          "data": {
            "application/vnd.microsoft.datawrangler.viewer.v0+json": {
              "columns": [
                {
                  "name": "name",
                  "rawType": "object",
                  "type": "string"
                },
                {
                  "name": "iq",
                  "rawType": "int64",
                  "type": "integer"
                },
                {
                  "name": "percent",
                  "rawType": "int64",
                  "type": "integer"
                },
                {
                  "name": "lpa",
                  "rawType": "int64",
                  "type": "integer"
                }
              ],
              "ref": "79c9a0e6-0a4e-48d2-9c6e-848955f8d4a5",
              "rows": [
                [
                  "nitish",
                  "100",
                  "80",
                  "10"
                ],
                [
                  "ankit",
                  "90",
                  "70",
                  "7"
                ],
                [
                  "rupesh",
                  "120",
                  "100",
                  "14"
                ],
                [
                  "rishabh",
                  "80",
                  "50",
                  "2"
                ],
                [
                  "amit",
                  "0",
                  "0",
                  "0"
                ],
                [
                  "ankita",
                  "0",
                  "0",
                  "0"
                ]
              ],
              "shape": {
                "columns": 3,
                "rows": 6
              }
            },
            "text/html": [
              "<div>\n",
              "<style scoped>\n",
              "    .dataframe tbody tr th:only-of-type {\n",
              "        vertical-align: middle;\n",
              "    }\n",
              "\n",
              "    .dataframe tbody tr th {\n",
              "        vertical-align: top;\n",
              "    }\n",
              "\n",
              "    .dataframe thead th {\n",
              "        text-align: right;\n",
              "    }\n",
              "</style>\n",
              "<table border=\"1\" class=\"dataframe\">\n",
              "  <thead>\n",
              "    <tr style=\"text-align: right;\">\n",
              "      <th></th>\n",
              "      <th>iq</th>\n",
              "      <th>percent</th>\n",
              "      <th>lpa</th>\n",
              "    </tr>\n",
              "    <tr>\n",
              "      <th>name</th>\n",
              "      <th></th>\n",
              "      <th></th>\n",
              "      <th></th>\n",
              "    </tr>\n",
              "  </thead>\n",
              "  <tbody>\n",
              "    <tr>\n",
              "      <th>nitish</th>\n",
              "      <td>100</td>\n",
              "      <td>80</td>\n",
              "      <td>10</td>\n",
              "    </tr>\n",
              "    <tr>\n",
              "      <th>ankit</th>\n",
              "      <td>90</td>\n",
              "      <td>70</td>\n",
              "      <td>7</td>\n",
              "    </tr>\n",
              "    <tr>\n",
              "      <th>rupesh</th>\n",
              "      <td>120</td>\n",
              "      <td>100</td>\n",
              "      <td>14</td>\n",
              "    </tr>\n",
              "    <tr>\n",
              "      <th>rishabh</th>\n",
              "      <td>80</td>\n",
              "      <td>50</td>\n",
              "      <td>2</td>\n",
              "    </tr>\n",
              "    <tr>\n",
              "      <th>amit</th>\n",
              "      <td>0</td>\n",
              "      <td>0</td>\n",
              "      <td>0</td>\n",
              "    </tr>\n",
              "    <tr>\n",
              "      <th>ankita</th>\n",
              "      <td>0</td>\n",
              "      <td>0</td>\n",
              "      <td>0</td>\n",
              "    </tr>\n",
              "  </tbody>\n",
              "</table>\n",
              "</div>"
            ],
            "text/plain": [
              "          iq  percent  lpa\n",
              "name                      \n",
              "nitish   100       80   10\n",
              "ankit     90       70    7\n",
              "rupesh   120      100   14\n",
              "rishabh   80       50    2\n",
              "amit       0        0    0\n",
              "ankita     0        0    0"
            ]
          },
          "execution_count": 39,
          "metadata": {},
          "output_type": "execute_result"
        }
      ],
      "source": [
        "# loc\n",
        "students # loc['nitish']  # returns the row with index 'nitish'"
      ]
    },
    {
      "cell_type": "code",
      "execution_count": 40,
      "metadata": {
        "colab": {
          "base_uri": "https://localhost:8080/"
        },
        "id": "hyOae7adjh2d",
        "outputId": "e1a31fc3-f7d9-4238-cf9a-fdf0143a1087"
      },
      "outputs": [
        {
          "data": {
            "application/vnd.microsoft.datawrangler.viewer.v0+json": {
              "columns": [
                {
                  "name": "index",
                  "rawType": "object",
                  "type": "string"
                },
                {
                  "name": "nitish",
                  "rawType": "int64",
                  "type": "integer"
                }
              ],
              "ref": "20d7e5c1-b846-41a5-a6ce-b9f1a498854d",
              "rows": [
                [
                  "iq",
                  "100"
                ],
                [
                  "percent",
                  "80"
                ],
                [
                  "lpa",
                  "10"
                ]
              ],
              "shape": {
                "columns": 1,
                "rows": 3
              }
            },
            "text/plain": [
              "iq         100\n",
              "percent     80\n",
              "lpa         10\n",
              "Name: nitish, dtype: int64"
            ]
          },
          "execution_count": 40,
          "metadata": {},
          "output_type": "execute_result"
        }
      ],
      "source": [
        "students.loc['nitish'] # returns the row with index 'nitish'"
      ]
    },
    {
      "cell_type": "code",
      "execution_count": 41,
      "metadata": {
        "colab": {
          "base_uri": "https://localhost:8080/",
          "height": 143
        },
        "id": "tboUtK1djiGQ",
        "outputId": "bf9ecde4-a5bd-425e-eeb9-9509be7e7b79"
      },
      "outputs": [
        {
          "data": {
            "application/vnd.microsoft.datawrangler.viewer.v0+json": {
              "columns": [
                {
                  "name": "name",
                  "rawType": "object",
                  "type": "string"
                },
                {
                  "name": "iq",
                  "rawType": "int64",
                  "type": "integer"
                },
                {
                  "name": "percent",
                  "rawType": "int64",
                  "type": "integer"
                },
                {
                  "name": "lpa",
                  "rawType": "int64",
                  "type": "integer"
                }
              ],
              "ref": "b8c8844d-e9ae-419c-a11b-c7332823e1c8",
              "rows": [
                [
                  "nitish",
                  "100",
                  "80",
                  "10"
                ],
                [
                  "rupesh",
                  "120",
                  "100",
                  "14"
                ]
              ],
              "shape": {
                "columns": 3,
                "rows": 2
              }
            },
            "text/html": [
              "<div>\n",
              "<style scoped>\n",
              "    .dataframe tbody tr th:only-of-type {\n",
              "        vertical-align: middle;\n",
              "    }\n",
              "\n",
              "    .dataframe tbody tr th {\n",
              "        vertical-align: top;\n",
              "    }\n",
              "\n",
              "    .dataframe thead th {\n",
              "        text-align: right;\n",
              "    }\n",
              "</style>\n",
              "<table border=\"1\" class=\"dataframe\">\n",
              "  <thead>\n",
              "    <tr style=\"text-align: right;\">\n",
              "      <th></th>\n",
              "      <th>iq</th>\n",
              "      <th>percent</th>\n",
              "      <th>lpa</th>\n",
              "    </tr>\n",
              "    <tr>\n",
              "      <th>name</th>\n",
              "      <th></th>\n",
              "      <th></th>\n",
              "      <th></th>\n",
              "    </tr>\n",
              "  </thead>\n",
              "  <tbody>\n",
              "    <tr>\n",
              "      <th>nitish</th>\n",
              "      <td>100</td>\n",
              "      <td>80</td>\n",
              "      <td>10</td>\n",
              "    </tr>\n",
              "    <tr>\n",
              "      <th>rupesh</th>\n",
              "      <td>120</td>\n",
              "      <td>100</td>\n",
              "      <td>14</td>\n",
              "    </tr>\n",
              "  </tbody>\n",
              "</table>\n",
              "</div>"
            ],
            "text/plain": [
              "         iq  percent  lpa\n",
              "name                     \n",
              "nitish  100       80   10\n",
              "rupesh  120      100   14"
            ]
          },
          "execution_count": 41,
          "metadata": {},
          "output_type": "execute_result"
        }
      ],
      "source": [
        "students.loc['nitish':'rishabh':2]  # returns every second row from 'nitish' to 'rishabh' (inclusive) in the DataFrame"
      ]
    },
    {
      "cell_type": "code",
      "execution_count": 42,
      "metadata": {
        "colab": {
          "base_uri": "https://localhost:8080/",
          "height": 175
        },
        "id": "WOWnPNp6jiUK",
        "outputId": "b603b597-9bf1-40dc-c51b-c990cc7dc0d1"
      },
      "outputs": [
        {
          "data": {
            "application/vnd.microsoft.datawrangler.viewer.v0+json": {
              "columns": [
                {
                  "name": "name",
                  "rawType": "object",
                  "type": "string"
                },
                {
                  "name": "iq",
                  "rawType": "int64",
                  "type": "integer"
                },
                {
                  "name": "percent",
                  "rawType": "int64",
                  "type": "integer"
                },
                {
                  "name": "lpa",
                  "rawType": "int64",
                  "type": "integer"
                }
              ],
              "ref": "ace4ed6b-afe6-4eb6-9fc7-839f4d34c1ef",
              "rows": [
                [
                  "nitish",
                  "100",
                  "80",
                  "10"
                ],
                [
                  "ankita",
                  "0",
                  "0",
                  "0"
                ],
                [
                  "rupesh",
                  "120",
                  "100",
                  "14"
                ]
              ],
              "shape": {
                "columns": 3,
                "rows": 3
              }
            },
            "text/html": [
              "<div>\n",
              "<style scoped>\n",
              "    .dataframe tbody tr th:only-of-type {\n",
              "        vertical-align: middle;\n",
              "    }\n",
              "\n",
              "    .dataframe tbody tr th {\n",
              "        vertical-align: top;\n",
              "    }\n",
              "\n",
              "    .dataframe thead th {\n",
              "        text-align: right;\n",
              "    }\n",
              "</style>\n",
              "<table border=\"1\" class=\"dataframe\">\n",
              "  <thead>\n",
              "    <tr style=\"text-align: right;\">\n",
              "      <th></th>\n",
              "      <th>iq</th>\n",
              "      <th>percent</th>\n",
              "      <th>lpa</th>\n",
              "    </tr>\n",
              "    <tr>\n",
              "      <th>name</th>\n",
              "      <th></th>\n",
              "      <th></th>\n",
              "      <th></th>\n",
              "    </tr>\n",
              "  </thead>\n",
              "  <tbody>\n",
              "    <tr>\n",
              "      <th>nitish</th>\n",
              "      <td>100</td>\n",
              "      <td>80</td>\n",
              "      <td>10</td>\n",
              "    </tr>\n",
              "    <tr>\n",
              "      <th>ankita</th>\n",
              "      <td>0</td>\n",
              "      <td>0</td>\n",
              "      <td>0</td>\n",
              "    </tr>\n",
              "    <tr>\n",
              "      <th>rupesh</th>\n",
              "      <td>120</td>\n",
              "      <td>100</td>\n",
              "      <td>14</td>\n",
              "    </tr>\n",
              "  </tbody>\n",
              "</table>\n",
              "</div>"
            ],
            "text/plain": [
              "         iq  percent  lpa\n",
              "name                     \n",
              "nitish  100       80   10\n",
              "ankita    0        0    0\n",
              "rupesh  120      100   14"
            ]
          },
          "execution_count": 42,
          "metadata": {},
          "output_type": "execute_result"
        }
      ],
      "source": [
        "students.loc[['nitish','ankita','rupesh']]  # returns the rows with indices 'nitish', 'ankita', and 'rupesh' in the DataFrame"
      ]
    },
    {
      "cell_type": "code",
      "execution_count": 43,
      "metadata": {
        "colab": {
          "base_uri": "https://localhost:8080/",
          "height": 175
        },
        "id": "bEvsiB5wQoqC",
        "outputId": "0d6945ef-d7b0-4f84-cf9d-50e47fb7912e"
      },
      "outputs": [
        {
          "data": {
            "application/vnd.microsoft.datawrangler.viewer.v0+json": {
              "columns": [
                {
                  "name": "name",
                  "rawType": "object",
                  "type": "string"
                },
                {
                  "name": "iq",
                  "rawType": "int64",
                  "type": "integer"
                },
                {
                  "name": "percent",
                  "rawType": "int64",
                  "type": "integer"
                },
                {
                  "name": "lpa",
                  "rawType": "int64",
                  "type": "integer"
                }
              ],
              "ref": "ad67567a-4414-42b9-a593-b21ace53e926",
              "rows": [
                [
                  "nitish",
                  "100",
                  "80",
                  "10"
                ],
                [
                  "rishabh",
                  "80",
                  "50",
                  "2"
                ],
                [
                  "amit",
                  "0",
                  "0",
                  "0"
                ]
              ],
              "shape": {
                "columns": 3,
                "rows": 3
              }
            },
            "text/html": [
              "<div>\n",
              "<style scoped>\n",
              "    .dataframe tbody tr th:only-of-type {\n",
              "        vertical-align: middle;\n",
              "    }\n",
              "\n",
              "    .dataframe tbody tr th {\n",
              "        vertical-align: top;\n",
              "    }\n",
              "\n",
              "    .dataframe thead th {\n",
              "        text-align: right;\n",
              "    }\n",
              "</style>\n",
              "<table border=\"1\" class=\"dataframe\">\n",
              "  <thead>\n",
              "    <tr style=\"text-align: right;\">\n",
              "      <th></th>\n",
              "      <th>iq</th>\n",
              "      <th>percent</th>\n",
              "      <th>lpa</th>\n",
              "    </tr>\n",
              "    <tr>\n",
              "      <th>name</th>\n",
              "      <th></th>\n",
              "      <th></th>\n",
              "      <th></th>\n",
              "    </tr>\n",
              "  </thead>\n",
              "  <tbody>\n",
              "    <tr>\n",
              "      <th>nitish</th>\n",
              "      <td>100</td>\n",
              "      <td>80</td>\n",
              "      <td>10</td>\n",
              "    </tr>\n",
              "    <tr>\n",
              "      <th>rishabh</th>\n",
              "      <td>80</td>\n",
              "      <td>50</td>\n",
              "      <td>2</td>\n",
              "    </tr>\n",
              "    <tr>\n",
              "      <th>amit</th>\n",
              "      <td>0</td>\n",
              "      <td>0</td>\n",
              "      <td>0</td>\n",
              "    </tr>\n",
              "  </tbody>\n",
              "</table>\n",
              "</div>"
            ],
            "text/plain": [
              "          iq  percent  lpa\n",
              "name                      \n",
              "nitish   100       80   10\n",
              "rishabh   80       50    2\n",
              "amit       0        0    0"
            ]
          },
          "execution_count": 43,
          "metadata": {},
          "output_type": "execute_result"
        }
      ],
      "source": [
        "students.iloc[[0,3,4]] # returns the 1st, 4th, and 5th rows of the DataFrame (index starts from 0)"
      ]
    },
    {
      "cell_type": "markdown",
      "metadata": {
        "id": "OP8KFcBiaZt-"
      },
      "source": [
        "### Selecting both rows and cols"
      ]
    },
    {
      "cell_type": "code",
      "execution_count": 44,
      "metadata": {
        "colab": {
          "base_uri": "https://localhost:8080/",
          "height": 143
        },
        "id": "6QUgIi7kad1X",
        "outputId": "c29e9437-37a0-4258-e706-2d6f19aaa80f"
      },
      "outputs": [
        {
          "data": {
            "application/vnd.microsoft.datawrangler.viewer.v0+json": {
              "columns": [
                {
                  "name": "index",
                  "rawType": "int64",
                  "type": "integer"
                },
                {
                  "name": "title_x",
                  "rawType": "object",
                  "type": "string"
                },
                {
                  "name": "imdb_id",
                  "rawType": "object",
                  "type": "string"
                },
                {
                  "name": "poster_path",
                  "rawType": "object",
                  "type": "unknown"
                }
              ],
              "ref": "9faf02ae-6ea3-44b1-a08f-01a9ee867500",
              "rows": [
                [
                  "0",
                  "Uri: The Surgical Strike",
                  "tt8291224",
                  "https://upload.wikimedia.org/wikipedia/en/thumb/3/3b/URI_-_New_poster.jpg/220px-URI_-_New_poster.jpg"
                ],
                [
                  "1",
                  "Battalion 609",
                  "tt9472208",
                  null
                ],
                [
                  "2",
                  "The Accidental Prime Minister (film)",
                  "tt6986710",
                  "https://upload.wikimedia.org/wikipedia/en/thumb/a/a1/The_Accidental_Prime_Minister_film.jpg/220px-The_Accidental_Prime_Minister_film.jpg"
                ]
              ],
              "shape": {
                "columns": 3,
                "rows": 3
              }
            },
            "text/html": [
              "<div>\n",
              "<style scoped>\n",
              "    .dataframe tbody tr th:only-of-type {\n",
              "        vertical-align: middle;\n",
              "    }\n",
              "\n",
              "    .dataframe tbody tr th {\n",
              "        vertical-align: top;\n",
              "    }\n",
              "\n",
              "    .dataframe thead th {\n",
              "        text-align: right;\n",
              "    }\n",
              "</style>\n",
              "<table border=\"1\" class=\"dataframe\">\n",
              "  <thead>\n",
              "    <tr style=\"text-align: right;\">\n",
              "      <th></th>\n",
              "      <th>title_x</th>\n",
              "      <th>imdb_id</th>\n",
              "      <th>poster_path</th>\n",
              "    </tr>\n",
              "  </thead>\n",
              "  <tbody>\n",
              "    <tr>\n",
              "      <th>0</th>\n",
              "      <td>Uri: The Surgical Strike</td>\n",
              "      <td>tt8291224</td>\n",
              "      <td>https://upload.wikimedia.org/wikipedia/en/thum...</td>\n",
              "    </tr>\n",
              "    <tr>\n",
              "      <th>1</th>\n",
              "      <td>Battalion 609</td>\n",
              "      <td>tt9472208</td>\n",
              "      <td>NaN</td>\n",
              "    </tr>\n",
              "    <tr>\n",
              "      <th>2</th>\n",
              "      <td>The Accidental Prime Minister (film)</td>\n",
              "      <td>tt6986710</td>\n",
              "      <td>https://upload.wikimedia.org/wikipedia/en/thum...</td>\n",
              "    </tr>\n",
              "  </tbody>\n",
              "</table>\n",
              "</div>"
            ],
            "text/plain": [
              "                                title_x    imdb_id  \\\n",
              "0              Uri: The Surgical Strike  tt8291224   \n",
              "1                         Battalion 609  tt9472208   \n",
              "2  The Accidental Prime Minister (film)  tt6986710   \n",
              "\n",
              "                                         poster_path  \n",
              "0  https://upload.wikimedia.org/wikipedia/en/thum...  \n",
              "1                                                NaN  \n",
              "2  https://upload.wikimedia.org/wikipedia/en/thum...  "
            ]
          },
          "execution_count": 44,
          "metadata": {},
          "output_type": "execute_result"
        }
      ],
      "source": [
        "movies.iloc[0:3,0:3]  # returns the first 3 rows and first 3 columns of the DataFrame"
      ]
    },
    {
      "cell_type": "code",
      "execution_count": 45,
      "metadata": {
        "colab": {
          "base_uri": "https://localhost:8080/",
          "height": 143
        },
        "id": "LGrzybQ6ad_d",
        "outputId": "75901163-a67b-4a6e-9ec8-88312a35a65e"
      },
      "outputs": [
        {
          "data": {
            "application/vnd.microsoft.datawrangler.viewer.v0+json": {
              "columns": [
                {
                  "name": "index",
                  "rawType": "int64",
                  "type": "integer"
                },
                {
                  "name": "title_x",
                  "rawType": "object",
                  "type": "string"
                },
                {
                  "name": "imdb_id",
                  "rawType": "object",
                  "type": "string"
                },
                {
                  "name": "poster_path",
                  "rawType": "object",
                  "type": "unknown"
                }
              ],
              "ref": "4edf5d58-0b29-430d-b9ae-b64daee12352",
              "rows": [
                [
                  "0",
                  "Uri: The Surgical Strike",
                  "tt8291224",
                  "https://upload.wikimedia.org/wikipedia/en/thumb/3/3b/URI_-_New_poster.jpg/220px-URI_-_New_poster.jpg"
                ],
                [
                  "1",
                  "Battalion 609",
                  "tt9472208",
                  null
                ],
                [
                  "2",
                  "The Accidental Prime Minister (film)",
                  "tt6986710",
                  "https://upload.wikimedia.org/wikipedia/en/thumb/a/a1/The_Accidental_Prime_Minister_film.jpg/220px-The_Accidental_Prime_Minister_film.jpg"
                ]
              ],
              "shape": {
                "columns": 3,
                "rows": 3
              }
            },
            "text/html": [
              "<div>\n",
              "<style scoped>\n",
              "    .dataframe tbody tr th:only-of-type {\n",
              "        vertical-align: middle;\n",
              "    }\n",
              "\n",
              "    .dataframe tbody tr th {\n",
              "        vertical-align: top;\n",
              "    }\n",
              "\n",
              "    .dataframe thead th {\n",
              "        text-align: right;\n",
              "    }\n",
              "</style>\n",
              "<table border=\"1\" class=\"dataframe\">\n",
              "  <thead>\n",
              "    <tr style=\"text-align: right;\">\n",
              "      <th></th>\n",
              "      <th>title_x</th>\n",
              "      <th>imdb_id</th>\n",
              "      <th>poster_path</th>\n",
              "    </tr>\n",
              "  </thead>\n",
              "  <tbody>\n",
              "    <tr>\n",
              "      <th>0</th>\n",
              "      <td>Uri: The Surgical Strike</td>\n",
              "      <td>tt8291224</td>\n",
              "      <td>https://upload.wikimedia.org/wikipedia/en/thum...</td>\n",
              "    </tr>\n",
              "    <tr>\n",
              "      <th>1</th>\n",
              "      <td>Battalion 609</td>\n",
              "      <td>tt9472208</td>\n",
              "      <td>NaN</td>\n",
              "    </tr>\n",
              "    <tr>\n",
              "      <th>2</th>\n",
              "      <td>The Accidental Prime Minister (film)</td>\n",
              "      <td>tt6986710</td>\n",
              "      <td>https://upload.wikimedia.org/wikipedia/en/thum...</td>\n",
              "    </tr>\n",
              "  </tbody>\n",
              "</table>\n",
              "</div>"
            ],
            "text/plain": [
              "                                title_x    imdb_id  \\\n",
              "0              Uri: The Surgical Strike  tt8291224   \n",
              "1                         Battalion 609  tt9472208   \n",
              "2  The Accidental Prime Minister (film)  tt6986710   \n",
              "\n",
              "                                         poster_path  \n",
              "0  https://upload.wikimedia.org/wikipedia/en/thum...  \n",
              "1                                                NaN  \n",
              "2  https://upload.wikimedia.org/wikipedia/en/thum...  "
            ]
          },
          "execution_count": 45,
          "metadata": {},
          "output_type": "execute_result"
        }
      ],
      "source": [
        "movies.loc[0:2,'title_x':'poster_path']  # returns the first 3 rows and columns from 'title_x' to 'poster_path' (inclusive) of the DataFrame"
      ]
    },
    {
      "cell_type": "markdown",
      "metadata": {
        "id": "VRAEYkfSNf9Z"
      },
      "source": [
        "### Filtering a DataFrame"
      ]
    },
    {
      "cell_type": "code",
      "execution_count": 46,
      "metadata": {
        "colab": {
          "base_uri": "https://localhost:8080/",
          "height": 298
        },
        "id": "xLlq8bktvi63",
        "outputId": "e0eb75d4-56ca-4a26-88bd-c111beb56f56"
      },
      "outputs": [
        {
          "data": {
            "application/vnd.microsoft.datawrangler.viewer.v0+json": {
              "columns": [
                {
                  "name": "index",
                  "rawType": "int64",
                  "type": "integer"
                },
                {
                  "name": "ID",
                  "rawType": "int64",
                  "type": "integer"
                },
                {
                  "name": "City",
                  "rawType": "object",
                  "type": "string"
                },
                {
                  "name": "Date",
                  "rawType": "object",
                  "type": "string"
                },
                {
                  "name": "Season",
                  "rawType": "object",
                  "type": "string"
                },
                {
                  "name": "MatchNumber",
                  "rawType": "object",
                  "type": "string"
                },
                {
                  "name": "Team1",
                  "rawType": "object",
                  "type": "string"
                },
                {
                  "name": "Team2",
                  "rawType": "object",
                  "type": "string"
                },
                {
                  "name": "Venue",
                  "rawType": "object",
                  "type": "string"
                },
                {
                  "name": "TossWinner",
                  "rawType": "object",
                  "type": "string"
                },
                {
                  "name": "TossDecision",
                  "rawType": "object",
                  "type": "string"
                },
                {
                  "name": "SuperOver",
                  "rawType": "object",
                  "type": "string"
                },
                {
                  "name": "WinningTeam",
                  "rawType": "object",
                  "type": "string"
                },
                {
                  "name": "WonBy",
                  "rawType": "object",
                  "type": "string"
                },
                {
                  "name": "Margin",
                  "rawType": "float64",
                  "type": "float"
                },
                {
                  "name": "method",
                  "rawType": "object",
                  "type": "unknown"
                },
                {
                  "name": "Player_of_Match",
                  "rawType": "object",
                  "type": "string"
                },
                {
                  "name": "Team1Players",
                  "rawType": "object",
                  "type": "string"
                },
                {
                  "name": "Team2Players",
                  "rawType": "object",
                  "type": "string"
                },
                {
                  "name": "Umpire1",
                  "rawType": "object",
                  "type": "string"
                },
                {
                  "name": "Umpire2",
                  "rawType": "object",
                  "type": "string"
                }
              ],
              "ref": "a7c0ec0c-0a83-4e66-8040-4e0231c8baf0",
              "rows": [
                [
                  "0",
                  "1312200",
                  "Ahmedabad",
                  "2022-05-29",
                  "2022",
                  "Final",
                  "Rajasthan Royals",
                  "Gujarat Titans",
                  "Narendra Modi Stadium, Ahmedabad",
                  "Rajasthan Royals",
                  "bat",
                  "N",
                  "Gujarat Titans",
                  "Wickets",
                  "7.0",
                  null,
                  "HH Pandya",
                  "['YBK Jaiswal', 'JC Buttler', 'SV Samson', 'D Padikkal', 'SO Hetmyer', 'R Ashwin', 'R Parag', 'TA Boult', 'OC McCoy', 'M Prasidh Krishna', 'YS Chahal']",
                  "['WP Saha', 'Shubman Gill', 'MS Wade', 'HH Pandya', 'DA Miller', 'R Tewatia', 'Rashid Khan', 'R Sai Kishore', 'LH Ferguson', 'Yash Dayal', 'Mohammed Shami']",
                  "CB Gaffaney",
                  "Nitin Menon"
                ],
                [
                  "1",
                  "1312199",
                  "Ahmedabad",
                  "2022-05-27",
                  "2022",
                  "Qualifier 2",
                  "Royal Challengers Bangalore",
                  "Rajasthan Royals",
                  "Narendra Modi Stadium, Ahmedabad",
                  "Rajasthan Royals",
                  "field",
                  "N",
                  "Rajasthan Royals",
                  "Wickets",
                  "7.0",
                  null,
                  "JC Buttler",
                  "['V Kohli', 'F du Plessis', 'RM Patidar', 'GJ Maxwell', 'MK Lomror', 'KD Karthik', 'Shahbaz Ahmed', 'PWH de Silva', 'HV Patel', 'JR Hazlewood', 'Mohammed Siraj']",
                  "['YBK Jaiswal', 'JC Buttler', 'SV Samson', 'D Padikkal', 'SO Hetmyer', 'R Parag', 'R Ashwin', 'TA Boult', 'YS Chahal', 'M Prasidh Krishna', 'OC McCoy']",
                  "CB Gaffaney",
                  "Nitin Menon"
                ]
              ],
              "shape": {
                "columns": 20,
                "rows": 2
              }
            },
            "text/html": [
              "<div>\n",
              "<style scoped>\n",
              "    .dataframe tbody tr th:only-of-type {\n",
              "        vertical-align: middle;\n",
              "    }\n",
              "\n",
              "    .dataframe tbody tr th {\n",
              "        vertical-align: top;\n",
              "    }\n",
              "\n",
              "    .dataframe thead th {\n",
              "        text-align: right;\n",
              "    }\n",
              "</style>\n",
              "<table border=\"1\" class=\"dataframe\">\n",
              "  <thead>\n",
              "    <tr style=\"text-align: right;\">\n",
              "      <th></th>\n",
              "      <th>ID</th>\n",
              "      <th>City</th>\n",
              "      <th>Date</th>\n",
              "      <th>Season</th>\n",
              "      <th>MatchNumber</th>\n",
              "      <th>Team1</th>\n",
              "      <th>Team2</th>\n",
              "      <th>Venue</th>\n",
              "      <th>TossWinner</th>\n",
              "      <th>TossDecision</th>\n",
              "      <th>SuperOver</th>\n",
              "      <th>WinningTeam</th>\n",
              "      <th>WonBy</th>\n",
              "      <th>Margin</th>\n",
              "      <th>method</th>\n",
              "      <th>Player_of_Match</th>\n",
              "      <th>Team1Players</th>\n",
              "      <th>Team2Players</th>\n",
              "      <th>Umpire1</th>\n",
              "      <th>Umpire2</th>\n",
              "    </tr>\n",
              "  </thead>\n",
              "  <tbody>\n",
              "    <tr>\n",
              "      <th>0</th>\n",
              "      <td>1312200</td>\n",
              "      <td>Ahmedabad</td>\n",
              "      <td>2022-05-29</td>\n",
              "      <td>2022</td>\n",
              "      <td>Final</td>\n",
              "      <td>Rajasthan Royals</td>\n",
              "      <td>Gujarat Titans</td>\n",
              "      <td>Narendra Modi Stadium, Ahmedabad</td>\n",
              "      <td>Rajasthan Royals</td>\n",
              "      <td>bat</td>\n",
              "      <td>N</td>\n",
              "      <td>Gujarat Titans</td>\n",
              "      <td>Wickets</td>\n",
              "      <td>7.0</td>\n",
              "      <td>NaN</td>\n",
              "      <td>HH Pandya</td>\n",
              "      <td>['YBK Jaiswal', 'JC Buttler', 'SV Samson', 'D ...</td>\n",
              "      <td>['WP Saha', 'Shubman Gill', 'MS Wade', 'HH Pan...</td>\n",
              "      <td>CB Gaffaney</td>\n",
              "      <td>Nitin Menon</td>\n",
              "    </tr>\n",
              "    <tr>\n",
              "      <th>1</th>\n",
              "      <td>1312199</td>\n",
              "      <td>Ahmedabad</td>\n",
              "      <td>2022-05-27</td>\n",
              "      <td>2022</td>\n",
              "      <td>Qualifier 2</td>\n",
              "      <td>Royal Challengers Bangalore</td>\n",
              "      <td>Rajasthan Royals</td>\n",
              "      <td>Narendra Modi Stadium, Ahmedabad</td>\n",
              "      <td>Rajasthan Royals</td>\n",
              "      <td>field</td>\n",
              "      <td>N</td>\n",
              "      <td>Rajasthan Royals</td>\n",
              "      <td>Wickets</td>\n",
              "      <td>7.0</td>\n",
              "      <td>NaN</td>\n",
              "      <td>JC Buttler</td>\n",
              "      <td>['V Kohli', 'F du Plessis', 'RM Patidar', 'GJ ...</td>\n",
              "      <td>['YBK Jaiswal', 'JC Buttler', 'SV Samson', 'D ...</td>\n",
              "      <td>CB Gaffaney</td>\n",
              "      <td>Nitin Menon</td>\n",
              "    </tr>\n",
              "  </tbody>\n",
              "</table>\n",
              "</div>"
            ],
            "text/plain": [
              "        ID       City        Date Season  MatchNumber  \\\n",
              "0  1312200  Ahmedabad  2022-05-29   2022        Final   \n",
              "1  1312199  Ahmedabad  2022-05-27   2022  Qualifier 2   \n",
              "\n",
              "                         Team1             Team2  \\\n",
              "0             Rajasthan Royals    Gujarat Titans   \n",
              "1  Royal Challengers Bangalore  Rajasthan Royals   \n",
              "\n",
              "                              Venue        TossWinner TossDecision SuperOver  \\\n",
              "0  Narendra Modi Stadium, Ahmedabad  Rajasthan Royals          bat         N   \n",
              "1  Narendra Modi Stadium, Ahmedabad  Rajasthan Royals        field         N   \n",
              "\n",
              "        WinningTeam    WonBy  Margin method Player_of_Match  \\\n",
              "0    Gujarat Titans  Wickets     7.0    NaN       HH Pandya   \n",
              "1  Rajasthan Royals  Wickets     7.0    NaN      JC Buttler   \n",
              "\n",
              "                                        Team1Players  \\\n",
              "0  ['YBK Jaiswal', 'JC Buttler', 'SV Samson', 'D ...   \n",
              "1  ['V Kohli', 'F du Plessis', 'RM Patidar', 'GJ ...   \n",
              "\n",
              "                                        Team2Players      Umpire1      Umpire2  \n",
              "0  ['WP Saha', 'Shubman Gill', 'MS Wade', 'HH Pan...  CB Gaffaney  Nitin Menon  \n",
              "1  ['YBK Jaiswal', 'JC Buttler', 'SV Samson', 'D ...  CB Gaffaney  Nitin Menon  "
            ]
          },
          "execution_count": 46,
          "metadata": {},
          "output_type": "execute_result"
        }
      ],
      "source": [
        "ipl.head(2) # returns the first 2 rows of the DataFrame"
      ]
    },
    {
      "cell_type": "code",
      "execution_count": 48,
      "metadata": {
        "colab": {
          "base_uri": "https://localhost:8080/",
          "height": 520
        },
        "id": "zVjGjyx7NjSR",
        "outputId": "19879233-7fff-4c69-e89f-63e984095a18"
      },
      "outputs": [
        {
          "data": {
            "application/vnd.microsoft.datawrangler.viewer.v0+json": {
              "columns": [
                {
                  "name": "index",
                  "rawType": "int64",
                  "type": "integer"
                },
                {
                  "name": "Season",
                  "rawType": "object",
                  "type": "string"
                },
                {
                  "name": "WinningTeam",
                  "rawType": "object",
                  "type": "string"
                }
              ],
              "ref": "77e12d94-45eb-450d-8523-adcf7cd2cc0e",
              "rows": [
                [
                  "0",
                  "2022",
                  "Gujarat Titans"
                ],
                [
                  "74",
                  "2021",
                  "Chennai Super Kings"
                ],
                [
                  "134",
                  "2020/21",
                  "Mumbai Indians"
                ],
                [
                  "194",
                  "2019",
                  "Mumbai Indians"
                ],
                [
                  "254",
                  "2018",
                  "Chennai Super Kings"
                ],
                [
                  "314",
                  "2017",
                  "Mumbai Indians"
                ],
                [
                  "373",
                  "2016",
                  "Sunrisers Hyderabad"
                ],
                [
                  "433",
                  "2015",
                  "Mumbai Indians"
                ],
                [
                  "492",
                  "2014",
                  "Kolkata Knight Riders"
                ],
                [
                  "552",
                  "2013",
                  "Mumbai Indians"
                ],
                [
                  "628",
                  "2012",
                  "Kolkata Knight Riders"
                ],
                [
                  "702",
                  "2011",
                  "Chennai Super Kings"
                ],
                [
                  "775",
                  "2009/10",
                  "Chennai Super Kings"
                ],
                [
                  "835",
                  "2009",
                  "Deccan Chargers"
                ],
                [
                  "892",
                  "2007/08",
                  "Rajasthan Royals"
                ]
              ],
              "shape": {
                "columns": 2,
                "rows": 15
              }
            },
            "text/html": [
              "<div>\n",
              "<style scoped>\n",
              "    .dataframe tbody tr th:only-of-type {\n",
              "        vertical-align: middle;\n",
              "    }\n",
              "\n",
              "    .dataframe tbody tr th {\n",
              "        vertical-align: top;\n",
              "    }\n",
              "\n",
              "    .dataframe thead th {\n",
              "        text-align: right;\n",
              "    }\n",
              "</style>\n",
              "<table border=\"1\" class=\"dataframe\">\n",
              "  <thead>\n",
              "    <tr style=\"text-align: right;\">\n",
              "      <th></th>\n",
              "      <th>Season</th>\n",
              "      <th>WinningTeam</th>\n",
              "    </tr>\n",
              "  </thead>\n",
              "  <tbody>\n",
              "    <tr>\n",
              "      <th>0</th>\n",
              "      <td>2022</td>\n",
              "      <td>Gujarat Titans</td>\n",
              "    </tr>\n",
              "    <tr>\n",
              "      <th>74</th>\n",
              "      <td>2021</td>\n",
              "      <td>Chennai Super Kings</td>\n",
              "    </tr>\n",
              "    <tr>\n",
              "      <th>134</th>\n",
              "      <td>2020/21</td>\n",
              "      <td>Mumbai Indians</td>\n",
              "    </tr>\n",
              "    <tr>\n",
              "      <th>194</th>\n",
              "      <td>2019</td>\n",
              "      <td>Mumbai Indians</td>\n",
              "    </tr>\n",
              "    <tr>\n",
              "      <th>254</th>\n",
              "      <td>2018</td>\n",
              "      <td>Chennai Super Kings</td>\n",
              "    </tr>\n",
              "    <tr>\n",
              "      <th>314</th>\n",
              "      <td>2017</td>\n",
              "      <td>Mumbai Indians</td>\n",
              "    </tr>\n",
              "    <tr>\n",
              "      <th>373</th>\n",
              "      <td>2016</td>\n",
              "      <td>Sunrisers Hyderabad</td>\n",
              "    </tr>\n",
              "    <tr>\n",
              "      <th>433</th>\n",
              "      <td>2015</td>\n",
              "      <td>Mumbai Indians</td>\n",
              "    </tr>\n",
              "    <tr>\n",
              "      <th>492</th>\n",
              "      <td>2014</td>\n",
              "      <td>Kolkata Knight Riders</td>\n",
              "    </tr>\n",
              "    <tr>\n",
              "      <th>552</th>\n",
              "      <td>2013</td>\n",
              "      <td>Mumbai Indians</td>\n",
              "    </tr>\n",
              "    <tr>\n",
              "      <th>628</th>\n",
              "      <td>2012</td>\n",
              "      <td>Kolkata Knight Riders</td>\n",
              "    </tr>\n",
              "    <tr>\n",
              "      <th>702</th>\n",
              "      <td>2011</td>\n",
              "      <td>Chennai Super Kings</td>\n",
              "    </tr>\n",
              "    <tr>\n",
              "      <th>775</th>\n",
              "      <td>2009/10</td>\n",
              "      <td>Chennai Super Kings</td>\n",
              "    </tr>\n",
              "    <tr>\n",
              "      <th>835</th>\n",
              "      <td>2009</td>\n",
              "      <td>Deccan Chargers</td>\n",
              "    </tr>\n",
              "    <tr>\n",
              "      <th>892</th>\n",
              "      <td>2007/08</td>\n",
              "      <td>Rajasthan Royals</td>\n",
              "    </tr>\n",
              "  </tbody>\n",
              "</table>\n",
              "</div>"
            ],
            "text/plain": [
              "      Season            WinningTeam\n",
              "0       2022         Gujarat Titans\n",
              "74      2021    Chennai Super Kings\n",
              "134  2020/21         Mumbai Indians\n",
              "194     2019         Mumbai Indians\n",
              "254     2018    Chennai Super Kings\n",
              "314     2017         Mumbai Indians\n",
              "373     2016    Sunrisers Hyderabad\n",
              "433     2015         Mumbai Indians\n",
              "492     2014  Kolkata Knight Riders\n",
              "552     2013         Mumbai Indians\n",
              "628     2012  Kolkata Knight Riders\n",
              "702     2011    Chennai Super Kings\n",
              "775  2009/10    Chennai Super Kings\n",
              "835     2009        Deccan Chargers\n",
              "892  2007/08       Rajasthan Royals"
            ]
          },
          "execution_count": 48,
          "metadata": {},
          "output_type": "execute_result"
        }
      ],
      "source": [
        "# find all the final winners\n",
        "mask = ipl['MatchNumber'] == 'Final' # boolean mask to filter rows where 'MatchNumber' is 'Final'\n",
        "new_df = ipl[mask]  # filtering the DataFrame to get only the rows where 'MatchNumber' is 'Final'\n",
        "new_df[['Season','WinningTeam']] # returns the 'Season' and 'WinningTeam' columns of the filtered DataFrame \n",
        "\n",
        "ipl[ipl['MatchNumber'] == 'Final'][['Season','WinningTeam']] # returns the 'Season' and 'WinningTeam' columns of the filtered DataFrame using a more concise syntax"
      ]
    },
    {
      "cell_type": "code",
      "execution_count": 50,
      "metadata": {
        "colab": {
          "base_uri": "https://localhost:8080/"
        },
        "id": "BxGq-wpGNjho",
        "outputId": "ffc63ff9-af69-4f93-d4a7-49df211cf8c5"
      },
      "outputs": [
        {
          "data": {
            "text/plain": [
              "14"
            ]
          },
          "execution_count": 50,
          "metadata": {},
          "output_type": "execute_result"
        }
      ],
      "source": [
        "# how many super over finishes have occured\n",
        "ipl[ipl['SuperOver'] == 'Y'].shape[0] #(tuple ka 0th value)# returns the number of rows where 'SuperOver' is 'Y', indicating a super over finish"
      ]
    },
    {
      "cell_type": "code",
      "execution_count": null,
      "metadata": {
        "colab": {
          "base_uri": "https://localhost:8080/"
        },
        "id": "K8V6Z-yKNjpf",
        "outputId": "2e2bf7c2-3628-4649-da11-dbfa5268f8ac"
      },
      "outputs": [
        {
          "data": {
            "text/plain": [
              "5"
            ]
          },
          "execution_count": 51,
          "metadata": {},
          "output_type": "execute_result"
        }
      ],
      "source": [
        "# Find how many matches Chennai Super Kings (CSK) have won in Kolkata\n",
        "# Filter rows where 'City' is 'Kolkata' and 'WinningTeam' is 'Chennai Super Kings' and count them\n",
        "ipl[(ipl['City'] == 'Kolkata') & (ipl['WinningTeam'] == 'Chennai Super Kings')].shape[0]"
      ]
    },
    {
      "cell_type": "code",
      "execution_count": null,
      "metadata": {
        "colab": {
          "base_uri": "https://localhost:8080/"
        },
        "id": "S00UZa5KYBMM",
        "outputId": "c333a177-40a8-442d-c6bc-58e16f23e48f"
      },
      "outputs": [
        {
          "data": {
            "text/plain": [
              "51.473684210526315"
            ]
          },
          "execution_count": 52,
          "metadata": {},
          "output_type": "execute_result"
        }
      ],
      "source": [
        "# Calculate the percentage of matches where the toss winner is also the match winner\n",
        "(ipl[ipl['TossWinner'] == ipl['WinningTeam']].shape[0]/ipl.shape[0])*100 # returns the percentage of matches where the toss winner is also the match winner"
      ]
    },
    {
      "cell_type": "code",
      "execution_count": null,
      "metadata": {
        "colab": {
          "base_uri": "https://localhost:8080/"
        },
        "id": "5tj638VtV0hH",
        "outputId": "eb59452c-072c-45ed-8839-371d3596bf13"
      },
      "outputs": [
        {
          "data": {
            "text/plain": [
              "0"
            ]
          },
          "execution_count": 53,
          "metadata": {},
          "output_type": "execute_result"
        }
      ],
      "source": [
        "# Find number of movies with IMDb rating higher than 8.5 and more than 10,000 votes\n",
        "movies[(movies['imdb_rating'] > 8.5) & (movies['imdb_votes'] > 10000)].shape[0]"
      ]
    },
    {
      "cell_type": "code",
      "execution_count": null,
      "metadata": {
        "colab": {
          "base_uri": "https://localhost:8080/",
          "height": 1000
        },
        "id": "AfoJr1wKNjzw",
        "outputId": "c4fefbdd-5c3a-464a-a1cc-fa54a3cacad1"
      },
      "outputs": [
        {
          "data": {
            "application/vnd.microsoft.datawrangler.viewer.v0+json": {
              "columns": [
                {
                  "name": "index",
                  "rawType": "int64",
                  "type": "integer"
                },
                {
                  "name": "title_x",
                  "rawType": "object",
                  "type": "string"
                },
                {
                  "name": "imdb_id",
                  "rawType": "object",
                  "type": "string"
                },
                {
                  "name": "poster_path",
                  "rawType": "object",
                  "type": "unknown"
                },
                {
                  "name": "wiki_link",
                  "rawType": "object",
                  "type": "string"
                },
                {
                  "name": "title_y",
                  "rawType": "object",
                  "type": "string"
                },
                {
                  "name": "original_title",
                  "rawType": "object",
                  "type": "string"
                },
                {
                  "name": "is_adult",
                  "rawType": "int64",
                  "type": "integer"
                },
                {
                  "name": "year_of_release",
                  "rawType": "int64",
                  "type": "integer"
                },
                {
                  "name": "runtime",
                  "rawType": "object",
                  "type": "string"
                },
                {
                  "name": "genres",
                  "rawType": "object",
                  "type": "string"
                },
                {
                  "name": "imdb_rating",
                  "rawType": "float64",
                  "type": "float"
                },
                {
                  "name": "imdb_votes",
                  "rawType": "int64",
                  "type": "integer"
                },
                {
                  "name": "story",
                  "rawType": "object",
                  "type": "string"
                },
                {
                  "name": "summary",
                  "rawType": "object",
                  "type": "string"
                },
                {
                  "name": "tagline",
                  "rawType": "object",
                  "type": "unknown"
                },
                {
                  "name": "actors",
                  "rawType": "object",
                  "type": "string"
                },
                {
                  "name": "wins_nominations",
                  "rawType": "object",
                  "type": "unknown"
                },
                {
                  "name": "release_date",
                  "rawType": "object",
                  "type": "string"
                }
              ],
              "ref": "bf5f45ed-00d1-484b-9392-cd289231a8ef",
              "rows": [
                [
                  "0",
                  "Uri: The Surgical Strike",
                  "tt8291224",
                  "https://upload.wikimedia.org/wikipedia/en/thumb/3/3b/URI_-_New_poster.jpg/220px-URI_-_New_poster.jpg",
                  "https://en.wikipedia.org/wiki/Uri:_The_Surgical_Strike",
                  "Uri: The Surgical Strike",
                  "Uri: The Surgical Strike",
                  "0",
                  "2019",
                  "138",
                  "Action|Drama|War",
                  "8.4",
                  "35112",
                  "Divided over five chapters  the film chronicles the events of the surgical strike conducted by the Indian military against suspected militants in Pakistan occupied Kashmir. It tells the story of the 11 tumultuous events over which the operation was carried out. Indian army special forces carry out a covert operation to avenge the killing of fellow army men at their base by a terrorist group.",
                  "Indian army special forces execute a covert operation  avenging the killing of fellow army men at their base by a terrorist group.",
                  null,
                  "Vicky Kaushal|Paresh Rawal|Mohit Raina|Yami Gautam|Kirti Kulhari|Rajit Kapoor|Ivan Rodrigues|Manasi Parekh|Swaroop Sampat|Riva Arora|Yogesh Soman|Fareed Ahmed|Akashdeep Arora|Kallol Banerjee|",
                  "4 wins",
                  "11 January 2019 (USA)"
                ],
                [
                  "41",
                  "Family of Thakurganj",
                  "tt8897986",
                  "https://upload.wikimedia.org/wikipedia/en/9/99/Family_of_Thakurganj.jpg",
                  "https://en.wikipedia.org/wiki/Family_of_Thakurganj",
                  "Family of Thakurganj",
                  "Family of Thakurganj",
                  "0",
                  "2019",
                  "127",
                  "Action|Drama",
                  "9.4",
                  "895",
                  "The film is based on small town of North India. Film's story is about confrontation of love and thoughts. Along with entertainment.",
                  "The film is based on small town of North India. Film's story is about confrontation of love and thoughts. Along with entertainment.",
                  null,
                  "Jimmy Sheirgill|Mahie Gill|Nandish Singh|Pranati Rai Prakash|Saurabh Shukla|Sudhir Pandey|Supriya Pilgaonkar|Pavan Malhotra|Yashpal Sharma|Mukesh Tiwari|Raj Zutshi|Salil Acharya|Shivika Rishi|Lokesh Tilakdhari|",
                  null,
                  "19 July 2019 (India)"
                ],
                [
                  "84",
                  "Mukkabaaz",
                  "tt7180544",
                  "https://upload.wikimedia.org/wikipedia/en/thumb/d/dd/Mukkabaaz_poster.jpg/220px-Mukkabaaz_poster.jpg",
                  "https://en.wikipedia.org/wiki/Mukkabaaz",
                  "The Brawler",
                  "Mukkabaaz",
                  "0",
                  "2017",
                  "154",
                  "Action|Drama|Sport",
                  "8.1",
                  "5434",
                  "A boxer (Shravan) belonging to upper cast  trains at a gym controlled by a local Don (Bhagwan Das Mishra). Shravan falls for Mishra's niece (Sunaina). The Don does not approve of this match because of previous scuffle between Bhagwan and Shravan. Shravan strives to win Sunaina's hand in marriage and becomes a successful boxer while trying to avoid retaliation from the Don.",
                  "A boxer struggles to make his mark in the boxing world.",
                  null,
                  "Viineet Kumar|Jimmy Sheirgill|Zoya Hussain|Ravi Kishan|Rajesh Tailang|Shreedhar Dubey|Sadhana Singh|Shakti Kumar|Chittaranjan Tripathy|Sukhesh Mishra|Shikha Chauhan|Abhay Joshi|Nawazuddin Siddiqui|",
                  "3 wins & 6 nominations",
                  "12 January 2018 (USA)"
                ],
                [
                  "106",
                  "Raazi",
                  "tt7098658",
                  "https://upload.wikimedia.org/wikipedia/en/thumb/2/2f/Raazi_-_Poster.jpg/220px-Raazi_-_Poster.jpg",
                  "https://en.wikipedia.org/wiki/Raazi",
                  "Raazi",
                  "Raazi",
                  "0",
                  "2018",
                  "138",
                  "Action|Drama|Thriller",
                  "7.8",
                  "20289",
                  "Hidayat Khan is the son of an Indian freedom fighter and agent posing as an informant for the Pakistani government. He wishes to make his 20-year-old daughter Sehmat an agent and continue the family tradition of being in service to the country. Sehmat leaves college. She is hastily trained by senior RAW officer Khalid Mir. Her father uses his friendship with Brigadier Syed of the Pakistan Army to get Sehmat married to his son  Iqbal Syed  a military officer. Sehmat quickly settles into her married life  she falls in love with Iqbal. But everything starts to complicated.",
                  "A Kashmiri woman agrees to marry a Pakistani army officer in order to spy on Pakistan during the Indo-Pakistan War of 1971.",
                  "An incredible true story",
                  "Alia Bhatt|Vicky Kaushal|Rajit Kapoor|Shishir Sharma|Ashwath Bhatt|Jaideep Ahlawat|Arif Zakaria|Amruta Khanvilkar|Kanwaljit Singh|Aman Vasishth|Veer Samra|Saloni|Deepak Saini|Sima Pari|",
                  "21 wins & 26 nominations",
                  "11 May 2018 (USA)"
                ],
                [
                  "110",
                  "Parmanu: The Story of Pokhran",
                  "tt6826438",
                  "https://upload.wikimedia.org/wikipedia/en/thumb/d/da/Parmanu_film_poster.jpeg/220px-Parmanu_film_poster.jpeg",
                  "https://en.wikipedia.org/wiki/Parmanu:_The_Story_Of_Pokhran",
                  "Parmanu: The Story of Pokhran",
                  "Parmanu: The Story of Pokhran",
                  "0",
                  "2018",
                  "129",
                  "Action|Drama|History",
                  "7.7",
                  "18292",
                  "Captain Ashwat Raina's efforts to turn India into a nuclear state are at first met with criticism and then years later  with an offer from the government. With the help of Himanshu Shukla  the Prime Minister's principal secretary  he leads a team to conduct a second nuclear test series. The only major threat lurking is the American Lacrosse satellite which caught the first test preparations  further causing America to warn India about such future tests. With their patriotic hearts and unbreakable spirits  Ashwat and his team race against time to conduct the tests confidentially while the country's worsening political scenario as well as the presence of spies from US and Pakistan puts them into both mental as well as physical challenges.",
                  "Ashwat Raina and his teammates arrive in Pokhran to re-conduct a confidential nuclear test  where they face challenges from the American Lacrosse satellite and local spies.",
                  "1998| India: one secret operation| six Indians shocked the world| made India proud.",
                  "John Abraham|Boman Irani|Diana Penty|Anuja Sathe|Vikas Kumar|Yogendra Tiku|Aditya Hitkari|Ajay Shankar|Darshan Pandya|Mark Bennington|",
                  null,
                  "25 May 2018 (USA)"
                ],
                [
                  "112",
                  "Bhavesh Joshi Superhero",
                  "tt6129302",
                  "https://upload.wikimedia.org/wikipedia/en/thumb/6/64/Bhavesh_Joshi.jpg/220px-Bhavesh_Joshi.jpg",
                  "https://en.wikipedia.org/wiki/Bhavesh_Joshi_Superhero",
                  "Bhavesh Joshi Superhero",
                  "Bhavesh Joshi Superhero",
                  "0",
                  "2018",
                  "154",
                  "Action|Drama",
                  "7.6",
                  "4928",
                  "Bhavesh Joshi Superhero is an action film about a young man who wants to continue doing the right and challenge the wrong. And on this journey  he discovers that he's destined to do bigger things  which will transform him from a common man into a superhero.",
                  "The origin story of Bhavesh Joshi  an Indian superhero  who sets out to fulfill his slain friend's wish to clean and reform the country  by training himself to fight and wearing a mask.",
                  "This year| justice will have a new name.",
                  "Harshvardhan Kapoor|Priyanshu Painyuli|Ashish Verma|Shreiyah Sabharwal|Pratap Phad|Chinmay Mandlekar|Nishikant Kamat|Ram Kishan Dhakad|Hrishikesh Joshi|",
                  "2 nominations",
                  "1 June 2018 (USA)"
                ],
                [
                  "169",
                  "The Ghazi Attack",
                  "tt6299040",
                  "https://upload.wikimedia.org/wikipedia/en/thumb/e/e7/The_Ghazi_Attack_Poster.jpg/220px-The_Ghazi_Attack_Poster.jpg",
                  "https://en.wikipedia.org/wiki/The_Ghazi_Attack_(film)",
                  "The Ghazi Attack",
                  "The Ghazi Attack",
                  "0",
                  "2017",
                  "116",
                  "Action|Thriller|War",
                  "7.6",
                  "10332",
                  "In 1971  amid rising tensions between India and Pakistan over the liberation war of East Pakistan  Pakistan navy  in a top secret mission  plans an attack on Indian majestic-class aircraft carrier INS Vikrant  to gain control over the waters of Bay of Bengal. They send their best-in-class submarine PNS Ghazi  but are intercepted by an Indian submarine INS Karanj (S21). An underwater attack ensues.",
                  "A Pakistani submarine  Ghazi plans to secretly attack Vizag port. For doing so  it has to get past Indian submarine S21.",
                  "The war you did not know about",
                  "Rana Daggubati|Kay Kay Menon|Atul Kulkarni|Om Puri|Nassar|Rahul Singh|Milind Gunaji|Taapsee Pannu|",
                  "1 win & 7 nominations",
                  "17 February 2017 (USA)"
                ],
                [
                  "219",
                  "Raag Desh (film)",
                  "tt6080746",
                  "https://upload.wikimedia.org/wikipedia/en/thumb/a/ad/Raag_Desh_-_Poster.jpg/220px-Raag_Desh_-_Poster.jpg",
                  "https://en.wikipedia.org/wiki/Raagdesh",
                  "Raag Desh",
                  "Raag Desh",
                  "0",
                  "2017",
                  "135",
                  "Action|Drama|History",
                  "8.3",
                  "341",
                  "A period film based on the historic 1945 Indian National Army Red Fort Trials.",
                  "A period film based on the historic 1945 Indian National Army Red Fort Trials.",
                  null,
                  "Kunal Kapoor|Amit Sadh|Mohit Marwah|Kenneth Desai|Mrudula Murali|Kanwaljit Singh|Kenny Basumatary|Vijay Varma|R. Bhakti Klein|",
                  null,
                  "28 July 2017 (India)"
                ],
                [
                  "258",
                  "Irudhi Suttru",
                  "tt5310090",
                  "https://upload.wikimedia.org/wikipedia/en/f/fe/Irudhi_Suttru.jpg",
                  "https://en.wikipedia.org/wiki/Saala_Khadoos",
                  "Saala Khadoos",
                  "Saala Khadoos",
                  "0",
                  "2016",
                  "109",
                  "Action|Drama|Sport",
                  "7.6",
                  "10507",
                  "An under-fire boxing coach  Prabhu is transferred from Hisar in Haryana to Chennai as his bosses at the Boxing Council do not like his disrespectful rule-breaking unconventional ways. In Chennai  he chances upon the raw fighting talent of Madhi  the sibling of aspiring boxer Lakshmi. He decides to put all his effort to tame Madhie and get her to shine but he is repeatedly put off by her playfulness & distrust.",
                  "The story of a former boxer who quits boxing following a fallout with the authorities over the underlying politics but goes on to coach a fisherwoman to fulfill his dream through her.",
                  null,
                  "Madhavan|Ritika Singh|Mumtaz Sorcar|Nassar|Radha Ravi|Zakir Hussain|Kaali Venkat|Baljinder Kaur|",
                  "9 wins & 2 nominations",
                  "29 January 2016 (USA)"
                ],
                [
                  "280",
                  "Laal Rang",
                  "tt5600714",
                  null,
                  "https://en.wikipedia.org/wiki/Laal_Rang",
                  "Laal Rang",
                  "Laal Rang",
                  "0",
                  "2016",
                  "147",
                  "Action|Crime|Drama",
                  "8.0",
                  "3741",
                  "The friendship of two men is tested when things go wrong in their blood theft business.",
                  "The friendship of two men is tested when things go wrong in their blood theft business.",
                  "Every job good or bad| must be done with honesty.",
                  "Randeep Hooda|Akshay Oberoi|Rajniesh Duggall|Piaa Bajpai|Meenakshi Dixit|Rajendra Sethi|Kumar Saurabh|Jai Hind Kumar|",
                  null,
                  "22 April 2016 (India)"
                ],
                [
                  "297",
                  "Udta Punjab",
                  "tt4434004",
                  "https://upload.wikimedia.org/wikipedia/en/thumb/9/91/Udta_Punjab.jpg/220px-Udta_Punjab.jpg",
                  "https://en.wikipedia.org/wiki/Udta_Punjab",
                  "Udta Punjab",
                  "Udta Punjab",
                  "0",
                  "2016",
                  "148",
                  "Action|Crime|Drama",
                  "7.8",
                  "23995",
                  "What on earth can a rock star  a migrant laborer  a doctor and a cop possibly have in common? Simple  Punjab! 4 lives  1 connection - 'Udta Punjab' takes you on a trip like never before. Shahid Kapoor  Kareena Kapoor  Alia Bhatt and Diljit Dosanjh play characters from different walks of life  fighting the menace of drugs in their own way. The film journeys into the artificial highs and the real lows that they face while treading the paths fraught with mortal dangers. But above all  Udta Punjab is about the famed Punjabi spirit  that despite being fully down  has the audacity of looking you in the eye and saying - Drugs di maa di!",
                  "A story that revolves around drug abuse in the affluent north Indian State of Punjab and how the youth there have succumbed to it en-masse resulting in a socio-economic decline.",
                  null,
                  "Shahid Kapoor|Alia Bhatt|Kareena Kapoor|Diljit Dosanjh|Satish Kaushik|Manav Vij|Vansh Bhardwaj|Suhail Nayyar|Prabhjyot Singh|Rajesh Kumar Sharma|Kamal Tiwari|Mahabir Bhullar|Suvinder Vicky|Dilawar Sidhu|",
                  "11 wins & 19 nominations",
                  "17 June 2016 (USA)"
                ],
                [
                  "354",
                  "Dangal (film)",
                  "tt5074352",
                  "https://upload.wikimedia.org/wikipedia/en/thumb/9/99/Dangal_Poster.jpg/220px-Dangal_Poster.jpg",
                  "https://en.wikipedia.org/wiki/Dangal_(film)",
                  "Dangal",
                  "Dangal",
                  "0",
                  "2016",
                  "161",
                  "Action|Biography|Drama",
                  "8.4",
                  "131338",
                  "Biopic of Mahavir Singh Phogat  who taught wrestling to his daughters Babita Kumari and Geeta Phogat. Geeta Phogat was India's first female wrestler to win at the 2010 Commonwealth Games  where she won the gold medal (55 kg) while her sister Babita Kumari won the silver (51 kg).",
                  "Former wrestler Mahavir Singh Phogat and his two wrestler daughters struggle towards glory at the Commonwealth Games in the face of societal oppression.",
                  "You think our girls are any lesser than boys?",
                  "Aamir Khan|Fatima Sana Shaikh|Sanya Malhotra|Sakshi Tanwar|Aparshakti Khurana|Zaira Wasim|Suhani Bhatnagar|Ritvik Sahore|Girish Kulkarni|",
                  "23 wins & 4 nominations",
                  "21 December 2016 (USA)"
                ],
                [
                  "362",
                  "Bajrangi Bhaijaan",
                  "tt3863552",
                  "https://upload.wikimedia.org/wikipedia/en/thumb/d/dd/Bajrangi_Bhaijaan_Poster.jpg/220px-Bajrangi_Bhaijaan_Poster.jpg",
                  "https://en.wikipedia.org/wiki/Bajrangi_Bhaijaan",
                  "Bajrangi Bhaijaan",
                  "Bajrangi Bhaijaan",
                  "0",
                  "2015",
                  "163",
                  "Action|Comedy|Drama",
                  "8.0",
                  "65877",
                  "A little mute girl from a Pakistani village gets lost on her return back from a trip to India. In Kurukshetra  she meets Pawan - an ardent devotee of Lord Hanuman - who is in the midst of a challenge posed by his lover's father. In trying to discover the girl's parents  he develops an unshakable bond with her. He tries to get into Pakistan through a path righteous to his conscience and later  accompanied with a smart Pakistani news reporter - a story that captures the imagination of the public in both countries.",
                  "An Indian man with a magnanimous heart takes a young mute Pakistani girl back to her homeland to reunite her with her family.",
                  null,
                  "Salman Khan|Harshaali Malhotra|Nawazuddin Siddiqui|Kareena Kapoor|Sharat Saxena|Alka Badola Kaushal|Om Puri|Meher Vij|Rajesh Sharma|Mir Sarwar|Khushaal Pawar|Krunal Pandit|Manoj Bakshi|Mursaleem Qureshi|",
                  "25 wins & 13 nominations",
                  "17 July 2015 (USA)"
                ],
                [
                  "365",
                  "Baby (2015 Hindi film)",
                  "tt3848892",
                  "https://upload.wikimedia.org/wikipedia/en/thumb/d/da/BABY_poster_2015.jpg/220px-BABY_poster_2015.jpg",
                  "https://en.wikipedia.org/wiki/Baby_(2015_Hindi_film)",
                  "Baby",
                  "Baby",
                  "0",
                  "2015",
                  "159",
                  "Action|Thriller",
                  "8.0",
                  "49426",
                  "The country is perpetually under threat from terrorist powers and the common man walks unaware of the threats and the attacks that our Government controls and prevents. While the common Indian fights for everyday issues  there are deeper and bigger threats to him and his family that he will never know exist because it is the men and women in uniform that safeguard them. The men and women who put country before self  the men and women who define our history because they give a damn! Ajay (played by Akshay Kumar) is one such officer who is part of an elite team chosen from amongst the best in the Forces to form a covert Counter Intelligence Unit. In the course of foiling one terrorist attack bid  Ajay discovers a major threat to our nation - a plan to cause damage and strike fear at the heart of our very existence. The plot is masterminded by a maniacal leader whose organization has its tentacles spread across the world. As days progress  the unit goes through escalating challenges with...",
                  "An elite counter-intelligence unit learns of a plot  masterminded by a maniacal madman. With the clock ticking  it's up to them to track the terrorists' international tentacles and prevent them from striking at the heart of India.",
                  "History Is Made By Those Who Give A Damn!",
                  "Akshay Kumar|Danny Denzongpa|Rana Daggubati|Taapsee Pannu|Anupam Kher|Kay Kay Menon|Sushant Singh|Madhurima Tuli|Mikaal Zulfiqar|Hasan Noman|Rasheed Naz|Kerem Sarikaya|Zachary Coffin|",
                  "1 win",
                  "23 January 2015 (India)"
                ],
                [
                  "393",
                  "Detective Byomkesh Bakshy!",
                  "tt3447364",
                  "https://upload.wikimedia.org/wikipedia/en/thumb/9/99/Detective_Byomkesh_Bakshi_poster.jpg/220px-Detective_Byomkesh_Bakshi_poster.jpg",
                  "https://en.wikipedia.org/wiki/Detective_Byomkesh_Bakshy",
                  "Detective Byomkesh Bakshy!",
                  "Detective Byomkesh Bakshy!",
                  "0",
                  "2015",
                  "139",
                  "Action|Mystery|Thriller",
                  "7.6",
                  "14674",
                  "CALCUTTA 1943 A WAR - A MYSTERY - and A DETECTIVE Detective Byomkesh Bakshy is based on the early exploits of India's first true-blue detective  created by Bengali bestseller writer Saradindu Bandyopadhyay. Directed by Dibakar Banerjee  the film is set in the Second World War torn Calcutta during the 1940s and follows the first adventure of Byomkesh Bakshy (Sushant Singh Rajput)  fresh out of college  as he pits himself against an evil genius who is out to destroy the world. Using his wits against the most villainous arch criminal the world has seen  in a world of murder  international political intrigue and seduction.",
                  "While investigating the disappearance of a chemist  a detective uncovers a larger conspiracy to unsettle Calcutta.",
                  "Expect The Unexpected",
                  "Sushant Singh Rajput|Anand Tiwari|Neeraj Kabi|Divya Menon|Swastika Mukherjee|Meiyang Chang|Mark Bennington|Taka Higuchi|Shivam|Kaushik Ghosh|Anindya Pulak Banerjee|Arindol Bagchi|Peter Wong|Pradipto Kumar Chakraborty|",
                  null,
                  "3 April 2015 (USA)"
                ],
                [
                  "449",
                  "Titli (2014 film)",
                  "tt3019620",
                  "https://upload.wikimedia.org/wikipedia/en/thumb/d/d8/Cannes_Titli_Film_Poster.jpg/220px-Cannes_Titli_Film_Poster.jpg",
                  "https://en.wikipedia.org/wiki/Titli_(2014_film)",
                  "Titli",
                  "Titli",
                  "0",
                  "2014",
                  "116",
                  "Action|Drama|Thriller",
                  "7.6",
                  "3677",
                  "In the badlands of Delhi's dystopic underbelly  Titli  the youngest member of a violent car-jacking brotherhood plots a desperate bid to escape the 'family' business. His struggle to do  so is countered at each stage by his indignant brothers  who finally try marrying him off to 'settle' him. Titli finds an unlikely ally in his new wife  Neelu  who nurtures her own set of frustrated dreams. They form a strange  mutually exploitative partnership in a desperate bid to escape the stranglehold of their family roots. But is escape the same as freedom?,Titli  the youngest member of a car-jacking brotherhood wants to escape the family business. He and his wife form a pact to set free from their family roots. But is escape possible?,,Shashank Arora|Ranvir Shorey|Shivani Raghuvanshi|Amit Sial|Lalit Behl|,3 wins & 7 nominations,30 October 2015 (USA)\nYaara Silly Silly,tt5052972,https://upload.wikimedia.org/wikipedia/en/thumb/d/d8/Yaara_Silly_Silly_-_Poster.jpg/220px-Yaara_Silly_Silly_-_Poster.jpg,https://en.wikipedia.org/wiki/Yaara_Silly_Silly,Yaara Silly Silly,Yaara Silly Silly,0,2015,108,Romance,5.6,214,A sex worker and her client meet each other again after having spent a night together before. Through a journey  they discover each other and a relationship that change their lives forever.,A sex worker and her client meet each other again after having spent a night together before. Through a journey  they discover each other and a relationship that change their lives forever.,A love story born on bed...,Parambrata Chattopadhyay|Paoli Dam|Eva Grover|Vidya Malvade|,,6 November 2015 (India)\nCharlie Kay Chakkar Mein,tt2190820,https://upload.wikimedia.org/wikipedia/en/thumb/2/2e/Official_poster_of_Charlie_Kay_Chakkar_Mein.jpg/220px-Official_poster_of_Charlie_Kay_Chakkar_Mein.jpg,https://en.wikipedia.org/wiki/Charlie_Kay_Chakkar_Mein,Charlie Kay Chakkar Mein,Charlie Kay Chakkar Mein,0,2015,102,Thriller,4.6,152,Our life revolves around perception of truth  in our lives we act only on our ability to judge the truth. Truth though is a fickle thing  paradoxically because it only occurs in absolution; rest is only our interpretation that allows us to live in a certain subjective truth. Addl. Commissioner of Police  Sanket Pujari and the rookie officer  Sameera sit across the television screen to decipher a rare case of multiple homicides caught on camera and this case is going to test their fundamental perception of truth.,Our life revolves around perception of truth  in our lives we act only on our ability to judge the truth. Truth though is a fickle thing  paradoxically because it only occurs in absolution;...                    ,,Naseeruddin Shah|Nishant Lal|Disha Arora|Amit Sial|Manasi Rachh|Auroshika Dey|Sandeep Vasudevan|,,6 November 2015 (India)\nMain Aur Charles,tt4024944,https://upload.wikimedia.org/wikipedia/en/thumb/7/70/Main-aur-charles.jpg/220px-Main-aur-charles.jpg,https://en.wikipedia.org/wiki/Main_Aur_Charles,Main Aur Charles,Main Aur Charles,0,2015,119,Action|Biography|Crime,6.3,1488,Meet him once and your life will change forever. The movie revolves around Charles  an enigmatic con man and a vicious killer  and the lives he touched with his inescapable charm and mysterious personality. We follow Charles  who is literally evil personified  as he manipulates innumerable people to facilitate his jail break. The thin line between his victims and accomplices include a copywriter of an international ad agency clinging on to Charles for hope  a royal princess seeking adventure in an otherwise bland life  a young hippie girl hopelessly drawn towards him  and an innocent law student Mira madly in love with the dreams sold by Charles amongst various others - from a financial wizard  an extortionist from Haryana to a helpless prison supervisor. Bit by bit  the character of Charles is revealed through all those who encountered him. Probably the only person who interacted with Charles the least  Commisioner Amod Kant  was affected by him the most. We see the impact of Charles...,After escaping from prison  a notorious serial killer and conman becomes the target of a nationwide manhunt led by an honest police officer determined to catch him.,Worth dying for.,Adil Hussain|Alexx O'Nell|Anastasia Fullfina|Dijana Dejanovic|Kanika Kapoor|Lucky Morani|Mandana Karimi|Nandu Madhav|Randeep Hooda|Richa Chadha|Sandeep Pooniya|Satyakam Gupta|Saurabh Sarkar|Shaanti|,,30 October 2015 (India)\nHate Story 3,tt4865436,https://upload.wikimedia.org/wikipedia/en/thumb/d/df/Hate-Story-3-Poster-New.jpg/220px-Hate-Story-3-Poster-New.jpg,https://en.wikipedia.org/wiki/Hate_Story_3,Hate Story 3,Hate Story 3,0,2015,126,Drama|Thriller,4.5,2775,The couple  Aditya and Siya Singh who control the family business after the sad demise of Aditya's elder brother Vikram. Suddenly  an unknown businessman named Saurav Singhania enters their lives. Saurav  who shows interest in Aditya's company  makes them an unbelievable offer; a deal of spending a night with Siya in return of giving Aditya's company a very big profit. Aditya angrily rejects the offer. What follows is Aditya and Siya's struggle to to uncover Saurav's real intentions. The erotic revenge thriller takes the audience through relationships  love  hatred and vengeance.,A multimillionaire businessman seems to have it all: money  style and love ... until his rivals look to his past to destroy him.,Open love. Hidden hate.,Sharman Joshi|Karan Singh Grover|Zareen Khan|Daisy Shah|Priyanshu Chatterjee|Prithvi Zutshi|Sanjay Gandhi|,,4 December 2015 (India)\nAngry Indian Goddesses,tt3368222,https://upload.wikimedia.org/wikipedia/en/thumb/b/bf/Angry_Indian_Goddesses.jpg/220px-Angry_Indian_Goddesses.jpg,https://en.wikipedia.org/wiki/Angry_Indian_Goddesses,Angry Indian Goddesses,Angry Indian Goddesses,0,2015,115,Comedy|Drama,7,2487,India's FIRST female buddy movie! A power packed comic drama about Indian women finding their hearts and loosing their heads! A wild bunch of girls from all over India descent upon Goa! Their closest friend FREIDA has invited them to her family home for a surprise announcement : she's getting married! Thus begins an impromptu bachelorette. A riotous roller coaster of girl bonding: friendships  breakups  make ups  screw ups  passion  devastation  hesitation  terrorization  realization  boom- explosions! Among the fun and frenzy  heart breaks and heart aches  passion and obsession  youth and innocence  emotions run high and dry and hidden secrets surface. The girls go on living life like there is no tomorrow  oblivious of the impending doom upon them...,A photographer invites her closest friends to vacation at her family's home in Goa in celebration of her upcoming marriage.,,Sarah-Jane Dias|Rajshri Deshpande|Sandhya Mridul|Amrit Maghera|Pavleen Gujral|Anushka Manchanda|Tannishtha Chatterjee|,2 wins & 1 nomination,4 December 2015 (India)\nKajarya,tt3261022,https://upload.wikimedia.org/wikipedia/en/thumb/d/d9/Kajarya_-_Poster_1.jpg/220px-Kajarya_-_Poster_1.jpg,https://en.wikipedia.org/wiki/Kajarya,Kajarya,Kajarya,0,2013,132,Drama,6.6,114,Set in the present times against two backdrops  New Delhi with its shining buildings and apparent cosmopolitan veneer  thinly veils an underbelly of crimes against women and corruption at all levels. And a small village just 80 kilometers from New Delhi that is stuck in a time warp. Kajarya a woman in her early thirties has a strange but important place in the village social structure; she murders unwanted girl infants in the garb of religion. Meera is a rookie reporter. She breezes into the village and the villagers feed her the story of Kajarya being a demonic baby killer. The story is juicy and one sided. Meera gets the front page of the newspaper. Kajarya goes to jail.,Set in the present times against two backdrops  New Delhi with its shining buildings and apparent cosmopolitan veneer  thinly veils an underbelly of crimes against women and corruption at ...                    ,,Meenu Hooda|Ridhima Sud|Kuldeep Ruhil|Shashi Bhushan|Karishma Mathur|Sudheer Chobessy|,,4 December 2015 (India)\nTamasha (2015 film),tt3148502,https://upload.wikimedia.org/wikipedia/en/thumb/0/0c/Tamasha_%28film_poster%29.jpg/220px-Tamasha_%28film_poster%29.jpg,https://en.wikipedia.org/wiki/Tamasha_(2015_film),Tamasha,Tamasha,0,2015,139,Comedy|Drama|Romance,7.2,20610,Tamasha is about the journey of someone who has lost his edge in trying to follow socially acceptable conventions of society. The film is based on the central theme of abrasion and loss of self that happens in an attempt to find oneself.,Tamasha is about the journey of someone who has lost his edge in trying to follow socially acceptable conventions of society. The film is based on the central theme of abrasion and loss of ...                    ,,Deepika Padukone|Ranbir Kapoor|Svetlana Tulasi|Naila Grewal|Piyush Mishra|Vivek Mushran|Sushma Seth|Javed Sheikh|Nikhil Bhagat|Ishwak Singh|Ishtiyak Khan|Sukhesh Arora|Teddy Maurya|Kshitij Sharma|,6 wins & 9 nominations,27 November 2015 (USA)\nFour Pillars of Basement,tt4565796,https://upload.wikimedia.org/wikipedia/en/thumb/6/66/Four_Pillars_of_Basement_-_Poster.jpg/220px-Four_Pillars_of_Basement_-_Poster.jpg,https://en.wikipedia.org/wiki/Four_Pillars_of_Basement,Four Pillars of Basement,Four Pillars of Basement,0,2015,134,Action|Mystery|Thriller,4.9,17,Four Pillars of Basement is a psycho thriller that shows human fragilities and capricious nature. Protagonist Samir is a conniving person and works as a security officer at the mall. He has a crush on Priya  working in one of the offices in the mall. His twin brother  a lunatic and a mad person elopes to the mental hospital to add more confusion to the plot. The movie unfolds dramatically as the heroine is trapped in the basement and is unable to get out. Whosoever comes to help her  meets with a tragic death. In the climax  will the hero of the movie- as the twin lunatic be held responsible? Will the security officer be punished?,FBI comes at the end to do investigation. ..... Another big tycoon intervenes to secure his position,,Shawar Ali|Ravi Gadariya|Zakir Husain|Anant Jao|Ehasan Khan|Imran Khan|Aliya Singh|,,6 November 2015 (India)\nX: Past Is Present,tt5207116,https://upload.wikimedia.org/wikipedia/en/thumb/b/b2/X-The_Film-Poster.jpg/220px-X-The_Film-Poster.jpg,https://en.wikipedia.org/wiki/X_(2014_film),X: Past Is Present,X: Past Is Present,0,2015,105,Drama|Mystery|Romance,5.5,498,A filmmaker with a mid-life crisis meets a mysterious young girl who reminds of every woman in his past.,A filmmaker with a mid-life crisis meets a mysterious young girl who reminds of every woman in his past.,,Rajat Kapoor|Radhika Apte|,,20 November 2015 (India)\nOnce Upon a Time in Bihar,tt3693936,https://upload.wikimedia.org/wikipedia/en/thumb/5/5c/Once_Upon_A_Time_In_Bihar_Poster.jpg/220px-Once_Upon_A_Time_In_Bihar_Poster.jpg,https://en.wikipedia.org/wiki/Once_Upon_A_Time_In_Bihar,Once Upon a Time in Bihar,Once Upon a Time in Bihar,0,2015,122,Thriller,7.2,171,This story is based on real incidents  set in the year 2003 - 2004 in ravenous terrains of Buxar District of Bihar.,This story is based on real incidents  set in the year 2003 - 2004 in ravenous terrains of Buxar District of Bihar.,,Kranti Prakash Jha|Pankaj Jha|Ajay Kumar|Aarti Puri|Deepak Singh|,,30 October 2015 (India)\nMr Joe B. Carvalho,tt2876408,https://upload.wikimedia.org/wikipedia/en/thumb/3/3b/MrJoeB.Carvalhoposter.jpg/220px-MrJoeB.Carvalhoposter.jpg,https://en.wikipedia.org/wiki/Mr_Joe_B._Carvalho,Calling Mr. Joe B Carvalho,Calling Mr. Joe B Carvalho,0,2014,130,Action|Comedy|Mystery,3.6,450,A small time detective is hired to bring back the daughter of a businessman who has run away from home with the house chef.,A small time detective is hired to bring back the daughter of a businessman who has run away from home with the house chef.,,Arshad Warsi|Soha Ali Khan|,,3 January 2014 (India)\nYaariyan (2014 film),tt3382148,https://upload.wikimedia.org/wikipedia/en/thumb/2/21/Yaariyan_%282014_film%29_poster.jpg/220px-Yaariyan_%282014_film%29_poster.jpg,https://en.wikipedia.org/wiki/Yaariyan_(2014_film),Yaariyan,Yaariyan,0,2014,145,Drama|Romance,2.7,2891,A college student must win an inter college competition to save his college from being demolished by property builders.,A college student must win an inter college competition to save his college from being demolished by property builders.,,Himansh Kohli|Rakul Preet Singh|Nicole Faria|Shreyas Porus Pardiwalla|Dev Sharma|Vikas Verma|Jatin Suri|Evelyn Sharma|Deepti Naval|Gulshan Grover|Smita Jaykar|Sayali Bhagat|Serah Singh|Gabriella Giardina|,2 wins,10 January 2014 (India)\nMiss Lovely,tt1629715,https://upload.wikimedia.org/wikipedia/en/thumb/d/df/Miss_Lovely_%282012_film%29.jpg/220px-Miss_Lovely_%282012_film%29.jpg,https://en.wikipedia.org/wiki/Miss_Lovely,Miss Lovely,Miss Lovely,0,2012,113,Crime|Drama|Romance,6.3,2700,A Hindi feature film set in the lower depths of Bombay's C\" grade film industry. Miss Lovely follows the devastating story of two brothers who produce sleazy horror films in the mid-1980s.",
                  "A Hindi feature film set in the lower depths of Bombay's \"C\" grade film industry. Miss Lovely follows the devastating story of two brothers who produce sleazy horror films in the mid-1980s.",
                  "Daring| Desireable| Dangerous",
                  "Nawazuddin Siddiqui|Niharika Singh|Anil George|Zeena Bhatia|Menka Lalwani|Ragesh Asthana|Manoj Bakshi|Avinash Razdan|Premnath Gulati|Kuldeep Rajput|Alka Punewar|Juje|Jackie|Nandu Natekar|",
                  "4 wins & 5 nominations",
                  "20 June 2014 (USA)"
                ],
                [
                  "536",
                  "Haider (film)",
                  "tt3390572",
                  "https://upload.wikimedia.org/wikipedia/en/thumb/f/f1/Haider_Poster.jpg/220px-Haider_Poster.jpg",
                  "https://en.wikipedia.org/wiki/Haider_(film)",
                  "Haider",
                  "Haider",
                  "0",
                  "2014",
                  "160",
                  "Action|Crime|Drama",
                  "8.1",
                  "46912",
                  "Vishal Bhardwaj's adaptation of William Shakespeare's 'Hamlet'  Haider - a young man returns home to Kashmir on receiving news of his father's disappearance. Not only does he learn that security forces have detained his father for harboring militants  but that his mother is in a relationship with his very own uncle. Intense drama follows between mother and son as both struggle to come to terms with news of his father's death. Soon Haider learns that his uncle is responsible for the gruesome murder  what follows is his journey to avenge his father's death.",
                  "A young man returns to Kashmir after his father's disappearance to confront his uncle  whom he suspects of playing a role in his father's fate.",
                  null,
                  "Tabu|Shahid Kapoor|Shraddha Kapoor|Kay Kay Menon|Narendra Jha|Kulbhushan Kharbanda|Lalit Parimoo|Ashish Vidyarthi|Aamir Bashir|Sumit Kaul|Rajat Bhagat|Ashwath Bhatt|Irrfan Khan|Anshuman Malhotra|",
                  "28 wins & 24 nominations",
                  "2 October 2014 (USA)"
                ],
                [
                  "589",
                  "Vishwaroopam",
                  "tt2199711",
                  "https://upload.wikimedia.org/wikipedia/en/thumb/f/f1/Vishwaroopam_poster.jpg/220px-Vishwaroopam_poster.jpg",
                  "https://en.wikipedia.org/wiki/Vishwaroop_(Hindi_film)",
                  "Vishwaroopam",
                  "Vishwaroopam",
                  "0",
                  "2013",
                  "148",
                  "Action|Thriller",
                  "8.2",
                  "38016",
                  "Vishwanathan  a Kathak dance teacher in New York  is in a rather happy marriage with Nirupama who is a nuclear oncologist. She hires a detective to keep a watch on her husband  who apparently ends up in a wrong place that reveals Vishwanathan's true identity.",
                  "When a classical dancer's suspecting wife sets an investigator behind him  a series of violent events are triggered  revealing his real identity and connection to a darker world.",
                  null,
                  "Kamal Haasan|Rahul Bose|Shekhar Kapur|Pooja Kumar|Andrea Jeremiah|Jaideep Ahlawat|Nassar|Zarina Wahab|Samrat Chakrabarti|Miles Anderson|James Babson|Jude S. Walko|Chris Kotcher|Greg Sammis|",
                  "5 wins & 11 nominations",
                  "25 January 2013 (India)"
                ],
                [
                  "625",
                  "Madras Cafe",
                  "tt2855648",
                  "https://upload.wikimedia.org/wikipedia/en/thumb/e/ec/Madras_Cafe_Poster.jpg/220px-Madras_Cafe_Poster.jpg",
                  "https://en.wikipedia.org/wiki/Madras_Cafe",
                  "Madras Cafe",
                  "Madras Cafe",
                  "0",
                  "2013",
                  "130",
                  "Action|Drama|Thriller",
                  "7.7",
                  "21393",
                  "An Indian Intelligence agent (portrayed by John Abraham)[9] journeys into a war torn coastal island  to break a resolute rebel group. He deftly maneuvers his resources to make significant breakthroughs  amidst a scenario where the enemy has no face and the only counsel is 'Don't get caught.' At various junctions  he meets a charismatic and passionate journalist (portrayed by Nargis Fakhri) who is following her will to reflect the truth behind the civil war. The story unfolds as their quest for the truth reveals a deeper conspiracy  by a faceless enemy  united to seize a common nemesis - India.",
                  "An Indian intelligence agent journeys to a war-torn coastal island to break a resolute rebel group and meets a passionate journalist.",
                  null,
                  "John Abraham|Nargis Fakhri|Raashi Khanna|Prakash Belawadi|Vishnu Govindhan|Sanjay Gurbaxani|Dinesh Nair|Avijit Dutt|Aayam Mehta|Kannan Arunachalam|Dibang|Leena Maria Paul|Siddartha Basu|Ajay Ratnam|",
                  "10 wins & 10 nominations",
                  "23 August 2013 (India)"
                ],
                [
                  "668",
                  "Paan Singh Tomar (film)",
                  "tt1620933",
                  "https://upload.wikimedia.org/wikipedia/en/thumb/9/93/Paan_Singh_Tomar_Poster.jpg/220px-Paan_Singh_Tomar_Poster.jpg",
                  "https://en.wikipedia.org/wiki/Paan_Singh_Tomar_(film)",
                  "Paan Singh Tomar",
                  "Paan Singh Tomar",
                  "0",
                  "2012",
                  "135",
                  "Action|Biography|Crime",
                  "8.2",
                  "29994",
                  "Paan Singh Tomar is a Hindi-language film  based on the true story of a runner employed by the Army and has won Gold medal at Indian National Games but forced to become notorious baaghi. It is directed by Tigmanshu Dhulia.",
                  "The story of Paan Singh Tomar  an Indian athlete and seven-time national steeplechase champion who becomes one of the most feared dacoits in Chambal Valley after his retirement.",
                  null,
                  "Irrfan Khan|",
                  "10 wins & 11 nominations",
                  "2 March 2012 (USA)"
                ],
                [
                  "693",
                  "Gangs of Wasseypur",
                  "tt1954470",
                  "https://upload.wikimedia.org/wikipedia/en/thumb/6/62/Gangs_of_wasseypur.jpg/220px-Gangs_of_wasseypur.jpg",
                  "https://en.wikipedia.org/wiki/Gangs_of_Wasseypur",
                  "Gangs of Wasseypur",
                  "Gangs of Wasseypur",
                  "0",
                  "2012",
                  "321",
                  "Action|Comedy|Crime",
                  "8.2",
                  "71636",
                  "Shahid Khan is exiled after impersonating the legendary Sultana Daku in order to rob British trains. Now outcast  Shahid becomes a worker at Ramadhir Singh's colliery  only to spur a revenge battle that passes on to generations. At the turn of the decade  Shahid's son  the philandering Sardar Khan vows to get his father's honor back  becoming the most feared man of Wasseypur.",
                  "A clash between Sultan and Shahid Khan leads to the expulsion of Khan from Wasseypur  and ignites a deadly blood feud spanning three generations.",
                  null,
                  "Manoj Bajpayee|Richa Chadha|Nawazuddin Siddiqui|Tigmanshu Dhulia|Jameel Khan|Piyush Mishra|Jaideep Ahlawat|Huma Qureshi|Zeishan Quadri|Vipin Sharma|Satyakam Anand|Aditya Kumar|Viineet Kumar|Rajkummar Rao|",
                  "12 wins & 43 nominations",
                  "2 August 2012 (Singapore)"
                ],
                [
                  "694",
                  "Gangs of Wasseypur – Part 2",
                  "tt1954470",
                  "https://upload.wikimedia.org/wikipedia/en/thumb/5/58/Gangs_of_wasseypur_II.jpg/220px-Gangs_of_wasseypur_II.jpg",
                  "https://en.wikipedia.org/wiki/Gangs_of_Wasseypur_%E2%80%93_Part_2",
                  "Gangs of Wasseypur",
                  "Gangs of Wasseypur",
                  "0",
                  "2012",
                  "321",
                  "Action|Comedy|Crime",
                  "8.2",
                  "71636",
                  "Shahid Khan is exiled after impersonating the legendary Sultana Daku in order to rob British trains. Now outcast  Shahid becomes a worker at Ramadhir Singh's colliery  only to spur a revenge battle that passes on to generations. At the turn of the decade  Shahid's son  the philandering Sardar Khan vows to get his father's honor back  becoming the most feared man of Wasseypur.",
                  "A clash between Sultan and Shahid Khan leads to the expulsion of Khan from Wasseypur  and ignites a deadly blood feud spanning three generations.",
                  null,
                  "Manoj Bajpayee|Richa Chadha|Nawazuddin Siddiqui|Tigmanshu Dhulia|Jameel Khan|Piyush Mishra|Jaideep Ahlawat|Huma Qureshi|Zeishan Quadri|Vipin Sharma|Satyakam Anand|Aditya Kumar|Viineet Kumar|Rajkummar Rao|",
                  "12 wins & 43 nominations",
                  "2 August 2012 (Singapore)"
                ],
                [
                  "982",
                  "Jodhaa Akbar",
                  "tt0449994",
                  "https://upload.wikimedia.org/wikipedia/en/thumb/0/0e/Jodhaa_akbar.jpg/220px-Jodhaa_akbar.jpg",
                  "https://en.wikipedia.org/wiki/Jodhaa_Akbar",
                  "Jodhaa Akbar",
                  "Jodhaa Akbar",
                  "0",
                  "2008",
                  "213",
                  "Action|Drama|History",
                  "7.6",
                  "27541",
                  "Jodhaa Akbar is a sixteenth century love story about a marriage of alliance that gave birth to true love between a great Mughal Emperor  Akbar and a Rajput princess  Jodhaa. Politically  success knew no bounds for Emperor Akbar  After having secured the Hindu Kush  he furthered his realm by conquest until his empire extended from Afghanistan to the Bay of Bengal  and from the Himalayas to the Godhavari River. Through a shrewd blend of tolerance  generosity and force  Akbar won the allegiance of the Rajputs  the most belligerent Hindus. But little did Akbar know that when he married Jodhaa  a fiery Rajput princess  in order to further strengthen his relations with the Rajputs  he would in turn be embarking upon a new journey - the journey of true love. The daughter of King Bharmal of Amer  Jodhaa resented being reduced to a mere political pawn in this marriage of alliance  and Akbar's biggest challenge now did not merely lie in winning battles  but in winning the love of Jodhaa - a ...",
                  "A sixteenth century love story about a marriage of alliance that gave birth to true love between a great Mughal emperor  Akbar  and a Rajput princess  Jodha.",
                  null,
                  "Hrithik Roshan|Aishwarya Rai Bachchan|Sonu Sood|Poonam Sinha|Suhasini Mulay|Ila Arun|Raza Murad|Kulbhushan Kharbanda|Surendra Pal|Rajesh Vivek|Pramod Moutho|Vishwa Mohan Badola|Manava Naik|Disha Vakani|",
                  "32 wins & 21 nominations",
                  "15 February 2008 (USA)"
                ],
                [
                  "1039",
                  "1971 (2007 film)",
                  "tt0983990",
                  "https://upload.wikimedia.org/wikipedia/en/thumb/b/bc/1971_film_poster.jpg/220px-1971_film_poster.jpg",
                  "https://en.wikipedia.org/wiki/1971_(2007_film)",
                  "1971",
                  "1971",
                  "0",
                  "2007",
                  "160",
                  "Action|Drama|War",
                  "7.9",
                  "1121",
                  "Based on true facts  the film revolves around 6 brave soldiers who escape from the clutches of the Pakistan Army and risk death with honour and courage with sacrifice towards their journey home.",
                  "Based on true facts  the film revolves around 6 brave soldiers who escape from the clutches of the Pakistan Army and risk death with honour and courage with sacrifice towards their journey home.",
                  "Honor the heroes.......",
                  "Manoj Bajpayee|Ravi Kishan|Deepak Dobriyal|",
                  "1 win",
                  "9 March 2007 (India)"
                ],
                [
                  "1058",
                  "Black Friday (2007 film)",
                  "tt0400234",
                  "https://upload.wikimedia.org/wikipedia/en/5/58/Black_Friday_%282007%29.jpg",
                  "https://en.wikipedia.org/wiki/Black_Friday_(2007_film)",
                  "Black Friday",
                  "Black Friday",
                  "0",
                  "2004",
                  "143",
                  "Action|Crime|Drama",
                  "8.5",
                  "16761",
                  "A dramatic presentation of the bomb blasts that rocked Bombay on March 12  1993  displays the police investigation  amidst allegations of human rights violations  led by DCP Rakesh Maria  in tracking down the suspects  especially Bashir Khan. Bashir managed to elude authorities by re-locating to Rajasthan  Uttar Pradesh  Delhi  and West Bengal  after finally being apprehended in Bombay. His confession and subsequent flashbacks showcases the apathy shown by authorities who refused to intervene during the destruction of the sacred Babri Masjid by Hindu Kar Sevaks  and the inability of the police to fulfill their mandate and protect the vulnerable  forcing many to flee to other locations. The subsequent aftermath that succeeded in irreversibly polarizing communities in Bombay; Pakistan's involvement in training and arms' supplies; the main alleged suspects  Dawood Ibrahim  and Mushtaq Memon  sought refuge in Dubai  United Arab Emirates  while Indian politicians made a cosmetic move to ...",
                  "Black Friday is a film about the investigations following the 1993 serial Bombay bomb blasts  told through the different stories of the people involved --police  conspirators  victims  middlemen.",
                  "The story of the Bombay bomb blasts",
                  "Kay Kay Menon|Pavan Malhotra|Aditya Srivastava|Dibyendu Bhattacharya|Kishore Kadam|Gajraj Rao|Zakir Hussain|",
                  "3 nominations",
                  "9 February 2007 (India)"
                ],
                [
                  "1188",
                  "Omkara (2006 film)",
                  "tt0488414",
                  "https://upload.wikimedia.org/wikipedia/en/thumb/9/9d/Omkarapromoposter.jpg/220px-Omkarapromoposter.jpg",
                  "https://en.wikipedia.org/wiki/Omkara_(2006_film)",
                  "Omkara",
                  "Omkara",
                  "0",
                  "2006",
                  "155",
                  "Action|Crime|Drama",
                  "8.1",
                  "17594",
                  "Advocate Raghunath Mishra has arranged the marriage of his daughter  Dolly  with Rajan  knowing fully well that Dolly loves Omkara Shukla. Before the marriage could take place  the groom's party is attacked  they flee  and Dolly is reportedly abducted. Raghunath is able to trace Dolly to Omkara  a criminal and hit-man  a verbal confrontation ensues until Politician Bhaisaab telephonically intervenes  and a crestfallen Raghunath faces the reality that Dolly was not abducted but is here with Omkara by her own free will. He warns Omkara  and departs. Shortly thereafter  Bhaisaab is shot at and wounded  announces that Omkara should stand in the next election  and as a result  Omkara appoints one of his lieutenants'  Keshav Upadhyay in his place as the 'Bahubali\". Omkara realizes that he may have blundered in having Keshav succeed him  as Keshav is unable to control his temper when under the influence of alcohol  which puts him in the bad books of Omkara. Then Omkara suspects that Keshav ...",
                  "A politically-minded enforcer's misguided trust in his lieutenant leads him to suspect his wife of infidelity in this adaptation of Shakespeare's 'Othello'.",
                  null,
                  "Ajay Devgn|Saif Ali Khan|Vivek Oberoi|Kareena Kapoor|Konkona Sen Sharma|Bipasha Basu|Naseeruddin Shah|Deepak Dobriyal|Manav Kaushik|Kamal Tiwari|",
                  "19 wins & 20 nominations",
                  "28 July 2006 (USA)"
                ],
                [
                  "1293",
                  "Sarkar (2005 film)",
                  "tt0432047",
                  "https://upload.wikimedia.org/wikipedia/en/thumb/d/db/Sarkar_movie_poster.jpg/220px-Sarkar_movie_poster.jpg",
                  "https://en.wikipedia.org/wiki/Sarkar_(2005_film)",
                  "Sarkar",
                  "Sarkar",
                  "0",
                  "2005",
                  "124",
                  "Action|Crime|Drama",
                  "7.6",
                  "14694",
                  "Meet Subhash Nagre - a wealthy and influential resident of Bombay. He lives in a palatial house with his wife  Pushpa; sons Vishnu and his wife Amrita and their son; a second son  named Shankar  in the United States. Subhash and his family are thrilled when Shankar returns home  in the company of a gorgeous long-legged young woman named Pooja  who he plans to marry soon. While Subhash adores both his sons  he shows his open disappointment for Vishnu  whose language  childish actions  and his affair with a Bollywood actress named Sapna are just few of his wrong actions. When Vishnu finds out that a Bollywood actor is attempting to start an affair with Sapna  he angrily guns him down in front of several witnesses. Subhash asks Vishnu to leave the house  and thereafter Vishnu is arrested and charged with murder. Then all hell breaks lose in the Nagre household when a politician named Motilal Khurana is killed  and the killer names Subhash as the person who hired him to do this killing. ...",
                  "The authority of a man  who runs a parallel government in Mumbai  is challenged. His son rises to face his enemies.",
                  "'There are no Rights and Wrongs. Only Power' - Sarkar",
                  "Amitabh Bachchan|Abhishek Bachchan|Kay Kay Menon|Supriya Pathak|Katrina Kaif|Tanishaa Mukerji|Rukhsar Rehman|Anupam Kher|Srinivasa Rao Kota|Deepak Shirke|Ishrat Ali|Zakir Hussain|Ravi Kale|Raju Mavani|",
                  "2 wins & 10 nominations",
                  "1 July 2005 (India)"
                ],
                [
                  "1294",
                  "Sehar",
                  "tt0477857",
                  "https://upload.wikimedia.org/wikipedia/en/thumb/3/34/Sehar_poster.jpg/220px-Sehar_poster.jpg",
                  "https://en.wikipedia.org/wiki/Sehar",
                  "Sehar",
                  "Sehar",
                  "0",
                  "2005",
                  "125",
                  "Action|Crime|Drama",
                  "7.8",
                  "1861",
                  "At the tender age of 8 Ajay Kumar is traumatized with the death of his army officer dad  who kills himself with his service revolver as he was being accused of being a deserter  leaving a widowed Prabha to bring up Ajay on her own. Ajay grows up  studies  and successfully becomes an IPS officer with the title of SSP. Due to his honesty  he gets transferred to various states in India. At this new posting in Uttar Pradesh he comes to terms with criminal don and ruthless killer Gajraj Singh. Ajay would like a set up a Special Task Force to deal with Gajraj  however  he does run into problems as Gajraj is politically well-connected. Then a child  who is a close friend of the state Chief Minister's  is kidnapped by Gajraj  and this paves the way for formation of the STF  consisting of about 8 honest and dedicated men  and this does results in the rescue of the child. Gajraj continues to elude the STF  using more modern technology such as the use of cell phones. But the STF bounces back and...",
                  "Ajay Kumar the newly appointed  honest SSP of Lucknow police cracks down on the nefarious cop-mafia nexus in Uttar Pradesh  but finds a cunning and ruthless adversary in Gajraj. Can Ajay win this unjust war ?",
                  null,
                  "Arshad Warsi|Pankaj Kapur|Mahima Chaudhry|Sushant Singh|Naved Aslam|Suhasini Mulay|Rajendra Gupta|",
                  null,
                  "29 July 2005 (India)"
                ],
                [
                  "1361",
                  "Lakshya (film)",
                  "tt0323013",
                  "https://upload.wikimedia.org/wikipedia/en/thumb/6/66/Lakshya.jpg/220px-Lakshya.jpg",
                  "https://en.wikipedia.org/wiki/Lakshya_(film)",
                  "Lakshya",
                  "Lakshya",
                  "0",
                  "2004",
                  "186",
                  "Action|Drama|Romance",
                  "7.9",
                  "18777",
                  "Karan is a lazy good-for-nothing who lives on the generated income of his father and elder brother at their family business. Karan's days: hang out with buddies and romance a woman named Romi. When he watches an action movie  he decides to enlist in the army with a friend  but basic training proves to be too much of a bother and he shortly abandons it  thus making him lose respect on the home front. Romi also stops respecting him. Karan decides he must re-join the army and show his family and Romi that he  too  is focused upon the path he has to take in this lifetime  but will he be resilient enough to carry out this task?",
                  "An aimless  jobless  irresponsible grown man joins the army and matures into a battlefield hero.",
                  "It took him 24 years and 18000 feet to find himself",
                  "Hrithik Roshan|Preity Zinta|Amitabh Bachchan|Om Puri|Sharad S. Kapoor|Raj Zutshi|Sushant Singh|Prashant Chianani|Shakeel Khan|Ranvir Shorey|Arav Chowdharry|Ajai Jose|Aditya Srivastava|Abir Goswami|",
                  "4 wins & 10 nominations",
                  "18 June 2004 (USA)"
                ],
                [
                  "1432",
                  "Gangaajal",
                  "tt0373856",
                  "https://upload.wikimedia.org/wikipedia/en/thumb/4/4f/Gangaajal_poster.jpg/220px-Gangaajal_poster.jpg",
                  "https://en.wikipedia.org/wiki/Gangaajal",
                  "Gangaajal",
                  "Gangaajal",
                  "0",
                  "2003",
                  "157",
                  "Action|Crime|Drama",
                  "7.8",
                  "14295",
                  "An SP Amit Kumar who is given charge of Tezpur police station in Bihar. The area is full of corruption  inefficiency  bribery  nepotism  favoritism and crime with help from the local police. Gradually Amit realizes that the local politician Sadhu Yadav is the one who benefits the most out of it. Amit arrests Sunder Yadav  Sadhu's son. While Sunder is released soon  some police officers  get frustrated with the system  and pour acid into the eyes of two of Yadav's men  blinding them. A hue and cry is raised by the media  crime almost comes to a standstill  and the police are regarded with respect. SP Amit Kumar must now put an end to this kind of situation.",
                  "An IPS officer motivates and leads a dysfunctional  corrupt police force of Tezpur to fight against the corrupt politician.",
                  null,
                  "Ajay Devgn|Gracy Singh|Mohan Joshi|Yashpal Sharma|Akhilendra Mishra|Mukesh Tiwari|Ayub Khan|Chetan Pandit|Anup Soni|Mohan Agashe|Yash Pathak|Payal Srivastava|",
                  "4 wins & 29 nominations",
                  "29 August 2003 (India)"
                ],
                [
                  "1495",
                  "Company (film)",
                  "tt0296574",
                  "https://upload.wikimedia.org/wikipedia/en/thumb/0/0f/CompanyRGVPoster.jpg/220px-CompanyRGVPoster.jpg",
                  "https://en.wikipedia.org/wiki/Company_(film)",
                  "Company",
                  "Company",
                  "0",
                  "2002",
                  "155",
                  "Action|Crime|Drama",
                  "8.0",
                  "13474",
                  "Mallik is a henchman of Aslam Bhai  a Mumbai underworld kingpin. He inducts local hothead Chandu into the gang  and the two of them soon form a formidable faction within the gang  eventually displacing Aslam. As the empire grows  however  the two of them start drifting apart.",
                  "A small-time gangster named Chandu teams up with Malik  a low-level enforcer for a criminal syndicate. Together they eliminate all their enemies  becoming the most feared gangsters in Mumbai.",
                  "A law & order enterprise",
                  "Ajay Devgn|Mohanlal|Manisha Koirala|Seema Biswas|Vivek Oberoi|Antara Mali|Akash Khurana|Madan Joshi|Bharat Dabholkar|Ganesh Yadav|Ashraf Ul Haq|Akshay Verma|Vijay Raaz|Mukesh Bhatt|",
                  "16 wins & 9 nominations",
                  "15 April 2002 (India)"
                ],
                [
                  "1554",
                  "The Legend of Bhagat Singh",
                  "tt0319736",
                  "https://upload.wikimedia.org/wikipedia/en/thumb/c/c5/The_Legend_of_Bhagat_Singh.jpg/220px-The_Legend_of_Bhagat_Singh.jpg",
                  "https://en.wikipedia.org/wiki/The_Legend_of_Bhagat_Singh",
                  "The Legend of Bhagat Singh",
                  "The Legend of Bhagat Singh",
                  "0",
                  "2002",
                  "155",
                  "Action|Biography|Drama",
                  "8.1",
                  "13455",
                  "Bhagat was born in British India during the year 1908. As a child he witnessed numerous atrocities committed on fellow Indians by their British rulers  who came to trade under the guise of the East India Company  but ended up controlling most of the nation  and permitting tyrants such as General Dyer to massacre thousands of innocent men  women and children in Jallianwala Baug. As a child he was impressed by Mohandas K. Gandhi  especially his call to launch the non-cooperation movement  which led to thousands of people burning British-made clothing  giving up schools  & college studies  and government jobs - only to be let down by Gandhi himself when he called off the movement. Undaunted  Bhagat decided to be a revolutionary  starting with getting into petty fights  then as a grown-up joining the Hindustan Republic Association. When Lala Lajpat Rai was beaten to death by the police  Bhagat  along with Shivram Rajguru  Sukhdev  and others daringly carried out the assassination of a ...",
                  "The story of a young revolutionary who raised an armed resistance against the British rule in India.",
                  null,
                  "Ajay Devgn|Sushant Singh|D. Santosh|Akhilendra Mishra|Raj Babbar|Farida Jalal|Amrita Rao|Mukesh Tiwari|Surendra Rajan|Saurabh Dubey|Swaroop Kumar|Arun Patwardhan|Kenneth Desai|Sitaram Panchal|",
                  "11 wins & 5 nominations",
                  "7 June 2002 (India)"
                ],
                [
                  "1607",
                  "Nayak (2001 Hindi film)",
                  "tt0291376",
                  "https://upload.wikimedia.org/wikipedia/en/thumb/e/e8/Nayak_poster.jpg/220px-Nayak_poster.jpg",
                  "https://en.wikipedia.org/wiki/Nayak_(2001_Hindi_film)",
                  "Nayak: The Real Hero",
                  "Nayak: The Real Hero",
                  "0",
                  "2001",
                  "187",
                  "Action|Drama|Thriller",
                  "7.8",
                  "12522",
                  "Employed as a camera-man at a popular television station QTV; Shivaji Rao Gaekwad work his way up and is eventually promoted as a reporter. One of his job involve interviewing the Chief Minister Balraj Chauhan. During the course of the interview he brings to light the true facts of Chauhan to the general public. Agrivated at this Chauhan decides that he will challenge him to become the Chief Minister for a day which he accepts. During his tenure Shivaji attempts to make the wrong right by punishing dishonest people while at the same time ensure that the masses get what they aspire for. But when his life return to normal he will find that nothing is the same anymore as he and his loved ones are made targets by Chauhan's goons this pushes Shivaji to enter politics and eventually elect as the Chief Minister - a Chief Minister who wants to continue the remaining of his day's work.",
                  "A man accepts a challenge by the chief minister of Maharashtra to run the state for one day  and makes such a success of it that soon he is embroiled in political intrigue.",
                  "Fight the power",
                  "Anil Kapoor|Rani Mukerji|Amrish Puri|Johnny Lever|Pooja Batra|Sushmita Sen|",
                  "2 nominations",
                  "7 September 2001 (India)"
                ]
              ],
              "shape": {
                "columns": 18,
                "rows": 33
              }
            },
            "text/html": [
              "<div>\n",
              "<style scoped>\n",
              "    .dataframe tbody tr th:only-of-type {\n",
              "        vertical-align: middle;\n",
              "    }\n",
              "\n",
              "    .dataframe tbody tr th {\n",
              "        vertical-align: top;\n",
              "    }\n",
              "\n",
              "    .dataframe thead th {\n",
              "        text-align: right;\n",
              "    }\n",
              "</style>\n",
              "<table border=\"1\" class=\"dataframe\">\n",
              "  <thead>\n",
              "    <tr style=\"text-align: right;\">\n",
              "      <th></th>\n",
              "      <th>title_x</th>\n",
              "      <th>imdb_id</th>\n",
              "      <th>poster_path</th>\n",
              "      <th>wiki_link</th>\n",
              "      <th>title_y</th>\n",
              "      <th>original_title</th>\n",
              "      <th>is_adult</th>\n",
              "      <th>year_of_release</th>\n",
              "      <th>runtime</th>\n",
              "      <th>genres</th>\n",
              "      <th>imdb_rating</th>\n",
              "      <th>imdb_votes</th>\n",
              "      <th>story</th>\n",
              "      <th>summary</th>\n",
              "      <th>tagline</th>\n",
              "      <th>actors</th>\n",
              "      <th>wins_nominations</th>\n",
              "      <th>release_date</th>\n",
              "    </tr>\n",
              "  </thead>\n",
              "  <tbody>\n",
              "    <tr>\n",
              "      <th>0</th>\n",
              "      <td>Uri: The Surgical Strike</td>\n",
              "      <td>tt8291224</td>\n",
              "      <td>https://upload.wikimedia.org/wikipedia/en/thum...</td>\n",
              "      <td>https://en.wikipedia.org/wiki/Uri:_The_Surgica...</td>\n",
              "      <td>Uri: The Surgical Strike</td>\n",
              "      <td>Uri: The Surgical Strike</td>\n",
              "      <td>0</td>\n",
              "      <td>2019</td>\n",
              "      <td>138</td>\n",
              "      <td>Action|Drama|War</td>\n",
              "      <td>8.4</td>\n",
              "      <td>35112</td>\n",
              "      <td>Divided over five chapters  the film chronicle...</td>\n",
              "      <td>Indian army special forces execute a covert op...</td>\n",
              "      <td>NaN</td>\n",
              "      <td>Vicky Kaushal|Paresh Rawal|Mohit Raina|Yami Ga...</td>\n",
              "      <td>4 wins</td>\n",
              "      <td>11 January 2019 (USA)</td>\n",
              "    </tr>\n",
              "    <tr>\n",
              "      <th>41</th>\n",
              "      <td>Family of Thakurganj</td>\n",
              "      <td>tt8897986</td>\n",
              "      <td>https://upload.wikimedia.org/wikipedia/en/9/99...</td>\n",
              "      <td>https://en.wikipedia.org/wiki/Family_of_Thakur...</td>\n",
              "      <td>Family of Thakurganj</td>\n",
              "      <td>Family of Thakurganj</td>\n",
              "      <td>0</td>\n",
              "      <td>2019</td>\n",
              "      <td>127</td>\n",
              "      <td>Action|Drama</td>\n",
              "      <td>9.4</td>\n",
              "      <td>895</td>\n",
              "      <td>The film is based on small town of North India...</td>\n",
              "      <td>The film is based on small town of North India...</td>\n",
              "      <td>NaN</td>\n",
              "      <td>Jimmy Sheirgill|Mahie Gill|Nandish Singh|Prana...</td>\n",
              "      <td>NaN</td>\n",
              "      <td>19 July 2019 (India)</td>\n",
              "    </tr>\n",
              "    <tr>\n",
              "      <th>84</th>\n",
              "      <td>Mukkabaaz</td>\n",
              "      <td>tt7180544</td>\n",
              "      <td>https://upload.wikimedia.org/wikipedia/en/thum...</td>\n",
              "      <td>https://en.wikipedia.org/wiki/Mukkabaaz</td>\n",
              "      <td>The Brawler</td>\n",
              "      <td>Mukkabaaz</td>\n",
              "      <td>0</td>\n",
              "      <td>2017</td>\n",
              "      <td>154</td>\n",
              "      <td>Action|Drama|Sport</td>\n",
              "      <td>8.1</td>\n",
              "      <td>5434</td>\n",
              "      <td>A boxer (Shravan) belonging to upper cast  tra...</td>\n",
              "      <td>A boxer struggles to make his mark in the boxi...</td>\n",
              "      <td>NaN</td>\n",
              "      <td>Viineet Kumar|Jimmy Sheirgill|Zoya Hussain|Rav...</td>\n",
              "      <td>3 wins &amp; 6 nominations</td>\n",
              "      <td>12 January 2018 (USA)</td>\n",
              "    </tr>\n",
              "    <tr>\n",
              "      <th>106</th>\n",
              "      <td>Raazi</td>\n",
              "      <td>tt7098658</td>\n",
              "      <td>https://upload.wikimedia.org/wikipedia/en/thum...</td>\n",
              "      <td>https://en.wikipedia.org/wiki/Raazi</td>\n",
              "      <td>Raazi</td>\n",
              "      <td>Raazi</td>\n",
              "      <td>0</td>\n",
              "      <td>2018</td>\n",
              "      <td>138</td>\n",
              "      <td>Action|Drama|Thriller</td>\n",
              "      <td>7.8</td>\n",
              "      <td>20289</td>\n",
              "      <td>Hidayat Khan is the son of an Indian freedom f...</td>\n",
              "      <td>A Kashmiri woman agrees to marry a Pakistani a...</td>\n",
              "      <td>An incredible true story</td>\n",
              "      <td>Alia Bhatt|Vicky Kaushal|Rajit Kapoor|Shishir ...</td>\n",
              "      <td>21 wins &amp; 26 nominations</td>\n",
              "      <td>11 May 2018 (USA)</td>\n",
              "    </tr>\n",
              "    <tr>\n",
              "      <th>110</th>\n",
              "      <td>Parmanu: The Story of Pokhran</td>\n",
              "      <td>tt6826438</td>\n",
              "      <td>https://upload.wikimedia.org/wikipedia/en/thum...</td>\n",
              "      <td>https://en.wikipedia.org/wiki/Parmanu:_The_Sto...</td>\n",
              "      <td>Parmanu: The Story of Pokhran</td>\n",
              "      <td>Parmanu: The Story of Pokhran</td>\n",
              "      <td>0</td>\n",
              "      <td>2018</td>\n",
              "      <td>129</td>\n",
              "      <td>Action|Drama|History</td>\n",
              "      <td>7.7</td>\n",
              "      <td>18292</td>\n",
              "      <td>Captain Ashwat Raina's efforts to turn India i...</td>\n",
              "      <td>Ashwat Raina and his teammates arrive in Pokhr...</td>\n",
              "      <td>1998| India: one secret operation| six Indians...</td>\n",
              "      <td>John Abraham|Boman Irani|Diana Penty|Anuja Sat...</td>\n",
              "      <td>NaN</td>\n",
              "      <td>25 May 2018 (USA)</td>\n",
              "    </tr>\n",
              "    <tr>\n",
              "      <th>112</th>\n",
              "      <td>Bhavesh Joshi Superhero</td>\n",
              "      <td>tt6129302</td>\n",
              "      <td>https://upload.wikimedia.org/wikipedia/en/thum...</td>\n",
              "      <td>https://en.wikipedia.org/wiki/Bhavesh_Joshi_Su...</td>\n",
              "      <td>Bhavesh Joshi Superhero</td>\n",
              "      <td>Bhavesh Joshi Superhero</td>\n",
              "      <td>0</td>\n",
              "      <td>2018</td>\n",
              "      <td>154</td>\n",
              "      <td>Action|Drama</td>\n",
              "      <td>7.6</td>\n",
              "      <td>4928</td>\n",
              "      <td>Bhavesh Joshi Superhero is an action film abou...</td>\n",
              "      <td>The origin story of Bhavesh Joshi  an Indian s...</td>\n",
              "      <td>This year| justice will have a new name.</td>\n",
              "      <td>Harshvardhan Kapoor|Priyanshu Painyuli|Ashish ...</td>\n",
              "      <td>2 nominations</td>\n",
              "      <td>1 June 2018 (USA)</td>\n",
              "    </tr>\n",
              "    <tr>\n",
              "      <th>169</th>\n",
              "      <td>The Ghazi Attack</td>\n",
              "      <td>tt6299040</td>\n",
              "      <td>https://upload.wikimedia.org/wikipedia/en/thum...</td>\n",
              "      <td>https://en.wikipedia.org/wiki/The_Ghazi_Attack...</td>\n",
              "      <td>The Ghazi Attack</td>\n",
              "      <td>The Ghazi Attack</td>\n",
              "      <td>0</td>\n",
              "      <td>2017</td>\n",
              "      <td>116</td>\n",
              "      <td>Action|Thriller|War</td>\n",
              "      <td>7.6</td>\n",
              "      <td>10332</td>\n",
              "      <td>In 1971  amid rising tensions between India an...</td>\n",
              "      <td>A Pakistani submarine  Ghazi plans to secretly...</td>\n",
              "      <td>The war you did not know about</td>\n",
              "      <td>Rana Daggubati|Kay Kay Menon|Atul Kulkarni|Om ...</td>\n",
              "      <td>1 win &amp; 7 nominations</td>\n",
              "      <td>17 February 2017 (USA)</td>\n",
              "    </tr>\n",
              "    <tr>\n",
              "      <th>219</th>\n",
              "      <td>Raag Desh (film)</td>\n",
              "      <td>tt6080746</td>\n",
              "      <td>https://upload.wikimedia.org/wikipedia/en/thum...</td>\n",
              "      <td>https://en.wikipedia.org/wiki/Raagdesh</td>\n",
              "      <td>Raag Desh</td>\n",
              "      <td>Raag Desh</td>\n",
              "      <td>0</td>\n",
              "      <td>2017</td>\n",
              "      <td>135</td>\n",
              "      <td>Action|Drama|History</td>\n",
              "      <td>8.3</td>\n",
              "      <td>341</td>\n",
              "      <td>A period film based on the historic 1945 India...</td>\n",
              "      <td>A period film based on the historic 1945 India...</td>\n",
              "      <td>NaN</td>\n",
              "      <td>Kunal Kapoor|Amit Sadh|Mohit Marwah|Kenneth De...</td>\n",
              "      <td>NaN</td>\n",
              "      <td>28 July 2017 (India)</td>\n",
              "    </tr>\n",
              "    <tr>\n",
              "      <th>258</th>\n",
              "      <td>Irudhi Suttru</td>\n",
              "      <td>tt5310090</td>\n",
              "      <td>https://upload.wikimedia.org/wikipedia/en/f/fe...</td>\n",
              "      <td>https://en.wikipedia.org/wiki/Saala_Khadoos</td>\n",
              "      <td>Saala Khadoos</td>\n",
              "      <td>Saala Khadoos</td>\n",
              "      <td>0</td>\n",
              "      <td>2016</td>\n",
              "      <td>109</td>\n",
              "      <td>Action|Drama|Sport</td>\n",
              "      <td>7.6</td>\n",
              "      <td>10507</td>\n",
              "      <td>An under-fire boxing coach  Prabhu is transfer...</td>\n",
              "      <td>The story of a former boxer who quits boxing f...</td>\n",
              "      <td>NaN</td>\n",
              "      <td>Madhavan|Ritika Singh|Mumtaz Sorcar|Nassar|Rad...</td>\n",
              "      <td>9 wins &amp; 2 nominations</td>\n",
              "      <td>29 January 2016 (USA)</td>\n",
              "    </tr>\n",
              "    <tr>\n",
              "      <th>280</th>\n",
              "      <td>Laal Rang</td>\n",
              "      <td>tt5600714</td>\n",
              "      <td>NaN</td>\n",
              "      <td>https://en.wikipedia.org/wiki/Laal_Rang</td>\n",
              "      <td>Laal Rang</td>\n",
              "      <td>Laal Rang</td>\n",
              "      <td>0</td>\n",
              "      <td>2016</td>\n",
              "      <td>147</td>\n",
              "      <td>Action|Crime|Drama</td>\n",
              "      <td>8.0</td>\n",
              "      <td>3741</td>\n",
              "      <td>The friendship of two men is tested when thing...</td>\n",
              "      <td>The friendship of two men is tested when thing...</td>\n",
              "      <td>Every job good or bad| must be done with honesty.</td>\n",
              "      <td>Randeep Hooda|Akshay Oberoi|Rajniesh Duggall|P...</td>\n",
              "      <td>NaN</td>\n",
              "      <td>22 April 2016 (India)</td>\n",
              "    </tr>\n",
              "    <tr>\n",
              "      <th>297</th>\n",
              "      <td>Udta Punjab</td>\n",
              "      <td>tt4434004</td>\n",
              "      <td>https://upload.wikimedia.org/wikipedia/en/thum...</td>\n",
              "      <td>https://en.wikipedia.org/wiki/Udta_Punjab</td>\n",
              "      <td>Udta Punjab</td>\n",
              "      <td>Udta Punjab</td>\n",
              "      <td>0</td>\n",
              "      <td>2016</td>\n",
              "      <td>148</td>\n",
              "      <td>Action|Crime|Drama</td>\n",
              "      <td>7.8</td>\n",
              "      <td>23995</td>\n",
              "      <td>What on earth can a rock star  a migrant labor...</td>\n",
              "      <td>A story that revolves around drug abuse in the...</td>\n",
              "      <td>NaN</td>\n",
              "      <td>Shahid Kapoor|Alia Bhatt|Kareena Kapoor|Diljit...</td>\n",
              "      <td>11 wins &amp; 19 nominations</td>\n",
              "      <td>17 June 2016 (USA)</td>\n",
              "    </tr>\n",
              "    <tr>\n",
              "      <th>354</th>\n",
              "      <td>Dangal (film)</td>\n",
              "      <td>tt5074352</td>\n",
              "      <td>https://upload.wikimedia.org/wikipedia/en/thum...</td>\n",
              "      <td>https://en.wikipedia.org/wiki/Dangal_(film)</td>\n",
              "      <td>Dangal</td>\n",
              "      <td>Dangal</td>\n",
              "      <td>0</td>\n",
              "      <td>2016</td>\n",
              "      <td>161</td>\n",
              "      <td>Action|Biography|Drama</td>\n",
              "      <td>8.4</td>\n",
              "      <td>131338</td>\n",
              "      <td>Biopic of Mahavir Singh Phogat  who taught wre...</td>\n",
              "      <td>Former wrestler Mahavir Singh Phogat and his t...</td>\n",
              "      <td>You think our girls are any lesser than boys?</td>\n",
              "      <td>Aamir Khan|Fatima Sana Shaikh|Sanya Malhotra|S...</td>\n",
              "      <td>23 wins &amp; 4 nominations</td>\n",
              "      <td>21 December 2016 (USA)</td>\n",
              "    </tr>\n",
              "    <tr>\n",
              "      <th>362</th>\n",
              "      <td>Bajrangi Bhaijaan</td>\n",
              "      <td>tt3863552</td>\n",
              "      <td>https://upload.wikimedia.org/wikipedia/en/thum...</td>\n",
              "      <td>https://en.wikipedia.org/wiki/Bajrangi_Bhaijaan</td>\n",
              "      <td>Bajrangi Bhaijaan</td>\n",
              "      <td>Bajrangi Bhaijaan</td>\n",
              "      <td>0</td>\n",
              "      <td>2015</td>\n",
              "      <td>163</td>\n",
              "      <td>Action|Comedy|Drama</td>\n",
              "      <td>8.0</td>\n",
              "      <td>65877</td>\n",
              "      <td>A little mute girl from a Pakistani village ge...</td>\n",
              "      <td>An Indian man with a magnanimous heart takes a...</td>\n",
              "      <td>NaN</td>\n",
              "      <td>Salman Khan|Harshaali Malhotra|Nawazuddin Sidd...</td>\n",
              "      <td>25 wins &amp; 13 nominations</td>\n",
              "      <td>17 July 2015 (USA)</td>\n",
              "    </tr>\n",
              "    <tr>\n",
              "      <th>365</th>\n",
              "      <td>Baby (2015 Hindi film)</td>\n",
              "      <td>tt3848892</td>\n",
              "      <td>https://upload.wikimedia.org/wikipedia/en/thum...</td>\n",
              "      <td>https://en.wikipedia.org/wiki/Baby_(2015_Hindi...</td>\n",
              "      <td>Baby</td>\n",
              "      <td>Baby</td>\n",
              "      <td>0</td>\n",
              "      <td>2015</td>\n",
              "      <td>159</td>\n",
              "      <td>Action|Thriller</td>\n",
              "      <td>8.0</td>\n",
              "      <td>49426</td>\n",
              "      <td>The country is perpetually under threat from t...</td>\n",
              "      <td>An elite counter-intelligence unit learns of a...</td>\n",
              "      <td>History Is Made By Those Who Give A Damn!</td>\n",
              "      <td>Akshay Kumar|Danny Denzongpa|Rana Daggubati|Ta...</td>\n",
              "      <td>1 win</td>\n",
              "      <td>23 January 2015 (India)</td>\n",
              "    </tr>\n",
              "    <tr>\n",
              "      <th>393</th>\n",
              "      <td>Detective Byomkesh Bakshy!</td>\n",
              "      <td>tt3447364</td>\n",
              "      <td>https://upload.wikimedia.org/wikipedia/en/thum...</td>\n",
              "      <td>https://en.wikipedia.org/wiki/Detective_Byomke...</td>\n",
              "      <td>Detective Byomkesh Bakshy!</td>\n",
              "      <td>Detective Byomkesh Bakshy!</td>\n",
              "      <td>0</td>\n",
              "      <td>2015</td>\n",
              "      <td>139</td>\n",
              "      <td>Action|Mystery|Thriller</td>\n",
              "      <td>7.6</td>\n",
              "      <td>14674</td>\n",
              "      <td>CALCUTTA 1943 A WAR - A MYSTERY - and A DETECT...</td>\n",
              "      <td>While investigating the disappearance of a che...</td>\n",
              "      <td>Expect The Unexpected</td>\n",
              "      <td>Sushant Singh Rajput|Anand Tiwari|Neeraj Kabi|...</td>\n",
              "      <td>NaN</td>\n",
              "      <td>3 April 2015 (USA)</td>\n",
              "    </tr>\n",
              "    <tr>\n",
              "      <th>449</th>\n",
              "      <td>Titli (2014 film)</td>\n",
              "      <td>tt3019620</td>\n",
              "      <td>https://upload.wikimedia.org/wikipedia/en/thum...</td>\n",
              "      <td>https://en.wikipedia.org/wiki/Titli_(2014_film)</td>\n",
              "      <td>Titli</td>\n",
              "      <td>Titli</td>\n",
              "      <td>0</td>\n",
              "      <td>2014</td>\n",
              "      <td>116</td>\n",
              "      <td>Action|Drama|Thriller</td>\n",
              "      <td>7.6</td>\n",
              "      <td>3677</td>\n",
              "      <td>In the badlands of Delhi's dystopic underbelly...</td>\n",
              "      <td>A Hindi feature film set in the lower depths o...</td>\n",
              "      <td>Daring| Desireable| Dangerous</td>\n",
              "      <td>Nawazuddin Siddiqui|Niharika Singh|Anil George...</td>\n",
              "      <td>4 wins &amp; 5 nominations</td>\n",
              "      <td>20 June 2014 (USA)</td>\n",
              "    </tr>\n",
              "    <tr>\n",
              "      <th>536</th>\n",
              "      <td>Haider (film)</td>\n",
              "      <td>tt3390572</td>\n",
              "      <td>https://upload.wikimedia.org/wikipedia/en/thum...</td>\n",
              "      <td>https://en.wikipedia.org/wiki/Haider_(film)</td>\n",
              "      <td>Haider</td>\n",
              "      <td>Haider</td>\n",
              "      <td>0</td>\n",
              "      <td>2014</td>\n",
              "      <td>160</td>\n",
              "      <td>Action|Crime|Drama</td>\n",
              "      <td>8.1</td>\n",
              "      <td>46912</td>\n",
              "      <td>Vishal Bhardwaj's adaptation of William Shakes...</td>\n",
              "      <td>A young man returns to Kashmir after his fathe...</td>\n",
              "      <td>NaN</td>\n",
              "      <td>Tabu|Shahid Kapoor|Shraddha Kapoor|Kay Kay Men...</td>\n",
              "      <td>28 wins &amp; 24 nominations</td>\n",
              "      <td>2 October 2014 (USA)</td>\n",
              "    </tr>\n",
              "    <tr>\n",
              "      <th>589</th>\n",
              "      <td>Vishwaroopam</td>\n",
              "      <td>tt2199711</td>\n",
              "      <td>https://upload.wikimedia.org/wikipedia/en/thum...</td>\n",
              "      <td>https://en.wikipedia.org/wiki/Vishwaroop_(Hind...</td>\n",
              "      <td>Vishwaroopam</td>\n",
              "      <td>Vishwaroopam</td>\n",
              "      <td>0</td>\n",
              "      <td>2013</td>\n",
              "      <td>148</td>\n",
              "      <td>Action|Thriller</td>\n",
              "      <td>8.2</td>\n",
              "      <td>38016</td>\n",
              "      <td>Vishwanathan  a Kathak dance teacher in New Yo...</td>\n",
              "      <td>When a classical dancer's suspecting wife sets...</td>\n",
              "      <td>NaN</td>\n",
              "      <td>Kamal Haasan|Rahul Bose|Shekhar Kapur|Pooja Ku...</td>\n",
              "      <td>5 wins &amp; 11 nominations</td>\n",
              "      <td>25 January 2013 (India)</td>\n",
              "    </tr>\n",
              "    <tr>\n",
              "      <th>625</th>\n",
              "      <td>Madras Cafe</td>\n",
              "      <td>tt2855648</td>\n",
              "      <td>https://upload.wikimedia.org/wikipedia/en/thum...</td>\n",
              "      <td>https://en.wikipedia.org/wiki/Madras_Cafe</td>\n",
              "      <td>Madras Cafe</td>\n",
              "      <td>Madras Cafe</td>\n",
              "      <td>0</td>\n",
              "      <td>2013</td>\n",
              "      <td>130</td>\n",
              "      <td>Action|Drama|Thriller</td>\n",
              "      <td>7.7</td>\n",
              "      <td>21393</td>\n",
              "      <td>An Indian Intelligence agent (portrayed by Joh...</td>\n",
              "      <td>An Indian intelligence agent journeys to a war...</td>\n",
              "      <td>NaN</td>\n",
              "      <td>John Abraham|Nargis Fakhri|Raashi Khanna|Praka...</td>\n",
              "      <td>10 wins &amp; 10 nominations</td>\n",
              "      <td>23 August 2013 (India)</td>\n",
              "    </tr>\n",
              "    <tr>\n",
              "      <th>668</th>\n",
              "      <td>Paan Singh Tomar (film)</td>\n",
              "      <td>tt1620933</td>\n",
              "      <td>https://upload.wikimedia.org/wikipedia/en/thum...</td>\n",
              "      <td>https://en.wikipedia.org/wiki/Paan_Singh_Tomar...</td>\n",
              "      <td>Paan Singh Tomar</td>\n",
              "      <td>Paan Singh Tomar</td>\n",
              "      <td>0</td>\n",
              "      <td>2012</td>\n",
              "      <td>135</td>\n",
              "      <td>Action|Biography|Crime</td>\n",
              "      <td>8.2</td>\n",
              "      <td>29994</td>\n",
              "      <td>Paan Singh Tomar is a Hindi-language film  bas...</td>\n",
              "      <td>The story of Paan Singh Tomar  an Indian athle...</td>\n",
              "      <td>NaN</td>\n",
              "      <td>Irrfan Khan|</td>\n",
              "      <td>10 wins &amp; 11 nominations</td>\n",
              "      <td>2 March 2012 (USA)</td>\n",
              "    </tr>\n",
              "    <tr>\n",
              "      <th>693</th>\n",
              "      <td>Gangs of Wasseypur</td>\n",
              "      <td>tt1954470</td>\n",
              "      <td>https://upload.wikimedia.org/wikipedia/en/thum...</td>\n",
              "      <td>https://en.wikipedia.org/wiki/Gangs_of_Wasseypur</td>\n",
              "      <td>Gangs of Wasseypur</td>\n",
              "      <td>Gangs of Wasseypur</td>\n",
              "      <td>0</td>\n",
              "      <td>2012</td>\n",
              "      <td>321</td>\n",
              "      <td>Action|Comedy|Crime</td>\n",
              "      <td>8.2</td>\n",
              "      <td>71636</td>\n",
              "      <td>Shahid Khan is exiled after impersonating the ...</td>\n",
              "      <td>A clash between Sultan and Shahid Khan leads t...</td>\n",
              "      <td>NaN</td>\n",
              "      <td>Manoj Bajpayee|Richa Chadha|Nawazuddin Siddiqu...</td>\n",
              "      <td>12 wins &amp; 43 nominations</td>\n",
              "      <td>2 August 2012 (Singapore)</td>\n",
              "    </tr>\n",
              "    <tr>\n",
              "      <th>694</th>\n",
              "      <td>Gangs of Wasseypur – Part 2</td>\n",
              "      <td>tt1954470</td>\n",
              "      <td>https://upload.wikimedia.org/wikipedia/en/thum...</td>\n",
              "      <td>https://en.wikipedia.org/wiki/Gangs_of_Wasseyp...</td>\n",
              "      <td>Gangs of Wasseypur</td>\n",
              "      <td>Gangs of Wasseypur</td>\n",
              "      <td>0</td>\n",
              "      <td>2012</td>\n",
              "      <td>321</td>\n",
              "      <td>Action|Comedy|Crime</td>\n",
              "      <td>8.2</td>\n",
              "      <td>71636</td>\n",
              "      <td>Shahid Khan is exiled after impersonating the ...</td>\n",
              "      <td>A clash between Sultan and Shahid Khan leads t...</td>\n",
              "      <td>NaN</td>\n",
              "      <td>Manoj Bajpayee|Richa Chadha|Nawazuddin Siddiqu...</td>\n",
              "      <td>12 wins &amp; 43 nominations</td>\n",
              "      <td>2 August 2012 (Singapore)</td>\n",
              "    </tr>\n",
              "    <tr>\n",
              "      <th>982</th>\n",
              "      <td>Jodhaa Akbar</td>\n",
              "      <td>tt0449994</td>\n",
              "      <td>https://upload.wikimedia.org/wikipedia/en/thum...</td>\n",
              "      <td>https://en.wikipedia.org/wiki/Jodhaa_Akbar</td>\n",
              "      <td>Jodhaa Akbar</td>\n",
              "      <td>Jodhaa Akbar</td>\n",
              "      <td>0</td>\n",
              "      <td>2008</td>\n",
              "      <td>213</td>\n",
              "      <td>Action|Drama|History</td>\n",
              "      <td>7.6</td>\n",
              "      <td>27541</td>\n",
              "      <td>Jodhaa Akbar is a sixteenth century love story...</td>\n",
              "      <td>A sixteenth century love story about a marriag...</td>\n",
              "      <td>NaN</td>\n",
              "      <td>Hrithik Roshan|Aishwarya Rai Bachchan|Sonu Soo...</td>\n",
              "      <td>32 wins &amp; 21 nominations</td>\n",
              "      <td>15 February 2008 (USA)</td>\n",
              "    </tr>\n",
              "    <tr>\n",
              "      <th>1039</th>\n",
              "      <td>1971 (2007 film)</td>\n",
              "      <td>tt0983990</td>\n",
              "      <td>https://upload.wikimedia.org/wikipedia/en/thum...</td>\n",
              "      <td>https://en.wikipedia.org/wiki/1971_(2007_film)</td>\n",
              "      <td>1971</td>\n",
              "      <td>1971</td>\n",
              "      <td>0</td>\n",
              "      <td>2007</td>\n",
              "      <td>160</td>\n",
              "      <td>Action|Drama|War</td>\n",
              "      <td>7.9</td>\n",
              "      <td>1121</td>\n",
              "      <td>Based on true facts  the film revolves around ...</td>\n",
              "      <td>Based on true facts  the film revolves around ...</td>\n",
              "      <td>Honor the heroes.......</td>\n",
              "      <td>Manoj Bajpayee|Ravi Kishan|Deepak Dobriyal|</td>\n",
              "      <td>1 win</td>\n",
              "      <td>9 March 2007 (India)</td>\n",
              "    </tr>\n",
              "    <tr>\n",
              "      <th>1058</th>\n",
              "      <td>Black Friday (2007 film)</td>\n",
              "      <td>tt0400234</td>\n",
              "      <td>https://upload.wikimedia.org/wikipedia/en/5/58...</td>\n",
              "      <td>https://en.wikipedia.org/wiki/Black_Friday_(20...</td>\n",
              "      <td>Black Friday</td>\n",
              "      <td>Black Friday</td>\n",
              "      <td>0</td>\n",
              "      <td>2004</td>\n",
              "      <td>143</td>\n",
              "      <td>Action|Crime|Drama</td>\n",
              "      <td>8.5</td>\n",
              "      <td>16761</td>\n",
              "      <td>A dramatic presentation of the bomb blasts tha...</td>\n",
              "      <td>Black Friday is a film about the investigation...</td>\n",
              "      <td>The story of the Bombay bomb blasts</td>\n",
              "      <td>Kay Kay Menon|Pavan Malhotra|Aditya Srivastava...</td>\n",
              "      <td>3 nominations</td>\n",
              "      <td>9 February 2007 (India)</td>\n",
              "    </tr>\n",
              "    <tr>\n",
              "      <th>1188</th>\n",
              "      <td>Omkara (2006 film)</td>\n",
              "      <td>tt0488414</td>\n",
              "      <td>https://upload.wikimedia.org/wikipedia/en/thum...</td>\n",
              "      <td>https://en.wikipedia.org/wiki/Omkara_(2006_film)</td>\n",
              "      <td>Omkara</td>\n",
              "      <td>Omkara</td>\n",
              "      <td>0</td>\n",
              "      <td>2006</td>\n",
              "      <td>155</td>\n",
              "      <td>Action|Crime|Drama</td>\n",
              "      <td>8.1</td>\n",
              "      <td>17594</td>\n",
              "      <td>Advocate Raghunath Mishra has arranged the mar...</td>\n",
              "      <td>A politically-minded enforcer's misguided trus...</td>\n",
              "      <td>NaN</td>\n",
              "      <td>Ajay Devgn|Saif Ali Khan|Vivek Oberoi|Kareena ...</td>\n",
              "      <td>19 wins &amp; 20 nominations</td>\n",
              "      <td>28 July 2006 (USA)</td>\n",
              "    </tr>\n",
              "    <tr>\n",
              "      <th>1293</th>\n",
              "      <td>Sarkar (2005 film)</td>\n",
              "      <td>tt0432047</td>\n",
              "      <td>https://upload.wikimedia.org/wikipedia/en/thum...</td>\n",
              "      <td>https://en.wikipedia.org/wiki/Sarkar_(2005_film)</td>\n",
              "      <td>Sarkar</td>\n",
              "      <td>Sarkar</td>\n",
              "      <td>0</td>\n",
              "      <td>2005</td>\n",
              "      <td>124</td>\n",
              "      <td>Action|Crime|Drama</td>\n",
              "      <td>7.6</td>\n",
              "      <td>14694</td>\n",
              "      <td>Meet Subhash Nagre - a wealthy and influential...</td>\n",
              "      <td>The authority of a man  who runs a parallel go...</td>\n",
              "      <td>'There are no Rights and Wrongs. Only Power' -...</td>\n",
              "      <td>Amitabh Bachchan|Abhishek Bachchan|Kay Kay Men...</td>\n",
              "      <td>2 wins &amp; 10 nominations</td>\n",
              "      <td>1 July 2005 (India)</td>\n",
              "    </tr>\n",
              "    <tr>\n",
              "      <th>1294</th>\n",
              "      <td>Sehar</td>\n",
              "      <td>tt0477857</td>\n",
              "      <td>https://upload.wikimedia.org/wikipedia/en/thum...</td>\n",
              "      <td>https://en.wikipedia.org/wiki/Sehar</td>\n",
              "      <td>Sehar</td>\n",
              "      <td>Sehar</td>\n",
              "      <td>0</td>\n",
              "      <td>2005</td>\n",
              "      <td>125</td>\n",
              "      <td>Action|Crime|Drama</td>\n",
              "      <td>7.8</td>\n",
              "      <td>1861</td>\n",
              "      <td>At the tender age of 8 Ajay Kumar is traumatiz...</td>\n",
              "      <td>Ajay Kumar the newly appointed  honest SSP of ...</td>\n",
              "      <td>NaN</td>\n",
              "      <td>Arshad Warsi|Pankaj Kapur|Mahima Chaudhry|Sush...</td>\n",
              "      <td>NaN</td>\n",
              "      <td>29 July 2005 (India)</td>\n",
              "    </tr>\n",
              "    <tr>\n",
              "      <th>1361</th>\n",
              "      <td>Lakshya (film)</td>\n",
              "      <td>tt0323013</td>\n",
              "      <td>https://upload.wikimedia.org/wikipedia/en/thum...</td>\n",
              "      <td>https://en.wikipedia.org/wiki/Lakshya_(film)</td>\n",
              "      <td>Lakshya</td>\n",
              "      <td>Lakshya</td>\n",
              "      <td>0</td>\n",
              "      <td>2004</td>\n",
              "      <td>186</td>\n",
              "      <td>Action|Drama|Romance</td>\n",
              "      <td>7.9</td>\n",
              "      <td>18777</td>\n",
              "      <td>Karan is a lazy good-for-nothing who lives on ...</td>\n",
              "      <td>An aimless  jobless  irresponsible grown man j...</td>\n",
              "      <td>It took him 24 years and 18000 feet to find hi...</td>\n",
              "      <td>Hrithik Roshan|Preity Zinta|Amitabh Bachchan|O...</td>\n",
              "      <td>4 wins &amp; 10 nominations</td>\n",
              "      <td>18 June 2004 (USA)</td>\n",
              "    </tr>\n",
              "    <tr>\n",
              "      <th>1432</th>\n",
              "      <td>Gangaajal</td>\n",
              "      <td>tt0373856</td>\n",
              "      <td>https://upload.wikimedia.org/wikipedia/en/thum...</td>\n",
              "      <td>https://en.wikipedia.org/wiki/Gangaajal</td>\n",
              "      <td>Gangaajal</td>\n",
              "      <td>Gangaajal</td>\n",
              "      <td>0</td>\n",
              "      <td>2003</td>\n",
              "      <td>157</td>\n",
              "      <td>Action|Crime|Drama</td>\n",
              "      <td>7.8</td>\n",
              "      <td>14295</td>\n",
              "      <td>An SP Amit Kumar who is given charge of Tezpur...</td>\n",
              "      <td>An IPS officer motivates and leads a dysfuncti...</td>\n",
              "      <td>NaN</td>\n",
              "      <td>Ajay Devgn|Gracy Singh|Mohan Joshi|Yashpal Sha...</td>\n",
              "      <td>4 wins &amp; 29 nominations</td>\n",
              "      <td>29 August 2003 (India)</td>\n",
              "    </tr>\n",
              "    <tr>\n",
              "      <th>1495</th>\n",
              "      <td>Company (film)</td>\n",
              "      <td>tt0296574</td>\n",
              "      <td>https://upload.wikimedia.org/wikipedia/en/thum...</td>\n",
              "      <td>https://en.wikipedia.org/wiki/Company_(film)</td>\n",
              "      <td>Company</td>\n",
              "      <td>Company</td>\n",
              "      <td>0</td>\n",
              "      <td>2002</td>\n",
              "      <td>155</td>\n",
              "      <td>Action|Crime|Drama</td>\n",
              "      <td>8.0</td>\n",
              "      <td>13474</td>\n",
              "      <td>Mallik is a henchman of Aslam Bhai  a Mumbai u...</td>\n",
              "      <td>A small-time gangster named Chandu teams up wi...</td>\n",
              "      <td>A law &amp; order enterprise</td>\n",
              "      <td>Ajay Devgn|Mohanlal|Manisha Koirala|Seema Bisw...</td>\n",
              "      <td>16 wins &amp; 9 nominations</td>\n",
              "      <td>15 April 2002 (India)</td>\n",
              "    </tr>\n",
              "    <tr>\n",
              "      <th>1554</th>\n",
              "      <td>The Legend of Bhagat Singh</td>\n",
              "      <td>tt0319736</td>\n",
              "      <td>https://upload.wikimedia.org/wikipedia/en/thum...</td>\n",
              "      <td>https://en.wikipedia.org/wiki/The_Legend_of_Bh...</td>\n",
              "      <td>The Legend of Bhagat Singh</td>\n",
              "      <td>The Legend of Bhagat Singh</td>\n",
              "      <td>0</td>\n",
              "      <td>2002</td>\n",
              "      <td>155</td>\n",
              "      <td>Action|Biography|Drama</td>\n",
              "      <td>8.1</td>\n",
              "      <td>13455</td>\n",
              "      <td>Bhagat was born in British India during the ye...</td>\n",
              "      <td>The story of a young revolutionary who raised ...</td>\n",
              "      <td>NaN</td>\n",
              "      <td>Ajay Devgn|Sushant Singh|D. Santosh|Akhilendra...</td>\n",
              "      <td>11 wins &amp; 5 nominations</td>\n",
              "      <td>7 June 2002 (India)</td>\n",
              "    </tr>\n",
              "    <tr>\n",
              "      <th>1607</th>\n",
              "      <td>Nayak (2001 Hindi film)</td>\n",
              "      <td>tt0291376</td>\n",
              "      <td>https://upload.wikimedia.org/wikipedia/en/thum...</td>\n",
              "      <td>https://en.wikipedia.org/wiki/Nayak_(2001_Hind...</td>\n",
              "      <td>Nayak: The Real Hero</td>\n",
              "      <td>Nayak: The Real Hero</td>\n",
              "      <td>0</td>\n",
              "      <td>2001</td>\n",
              "      <td>187</td>\n",
              "      <td>Action|Drama|Thriller</td>\n",
              "      <td>7.8</td>\n",
              "      <td>12522</td>\n",
              "      <td>Employed as a camera-man at a popular televisi...</td>\n",
              "      <td>A man accepts a challenge by the chief ministe...</td>\n",
              "      <td>Fight the power</td>\n",
              "      <td>Anil Kapoor|Rani Mukerji|Amrish Puri|Johnny Le...</td>\n",
              "      <td>2 nominations</td>\n",
              "      <td>7 September 2001 (India)</td>\n",
              "    </tr>\n",
              "  </tbody>\n",
              "</table>\n",
              "</div>"
            ],
            "text/plain": [
              "                            title_x    imdb_id  \\\n",
              "0          Uri: The Surgical Strike  tt8291224   \n",
              "41             Family of Thakurganj  tt8897986   \n",
              "84                        Mukkabaaz  tt7180544   \n",
              "106                           Raazi  tt7098658   \n",
              "110   Parmanu: The Story of Pokhran  tt6826438   \n",
              "112         Bhavesh Joshi Superhero  tt6129302   \n",
              "169                The Ghazi Attack  tt6299040   \n",
              "219                Raag Desh (film)  tt6080746   \n",
              "258                   Irudhi Suttru  tt5310090   \n",
              "280                       Laal Rang  tt5600714   \n",
              "297                     Udta Punjab  tt4434004   \n",
              "354                   Dangal (film)  tt5074352   \n",
              "362               Bajrangi Bhaijaan  tt3863552   \n",
              "365          Baby (2015 Hindi film)  tt3848892   \n",
              "393      Detective Byomkesh Bakshy!  tt3447364   \n",
              "449               Titli (2014 film)  tt3019620   \n",
              "536                   Haider (film)  tt3390572   \n",
              "589                    Vishwaroopam  tt2199711   \n",
              "625                     Madras Cafe  tt2855648   \n",
              "668         Paan Singh Tomar (film)  tt1620933   \n",
              "693              Gangs of Wasseypur  tt1954470   \n",
              "694     Gangs of Wasseypur – Part 2  tt1954470   \n",
              "982                    Jodhaa Akbar  tt0449994   \n",
              "1039               1971 (2007 film)  tt0983990   \n",
              "1058       Black Friday (2007 film)  tt0400234   \n",
              "1188             Omkara (2006 film)  tt0488414   \n",
              "1293             Sarkar (2005 film)  tt0432047   \n",
              "1294                          Sehar  tt0477857   \n",
              "1361                 Lakshya (film)  tt0323013   \n",
              "1432                      Gangaajal  tt0373856   \n",
              "1495                 Company (film)  tt0296574   \n",
              "1554     The Legend of Bhagat Singh  tt0319736   \n",
              "1607        Nayak (2001 Hindi film)  tt0291376   \n",
              "\n",
              "                                            poster_path  \\\n",
              "0     https://upload.wikimedia.org/wikipedia/en/thum...   \n",
              "41    https://upload.wikimedia.org/wikipedia/en/9/99...   \n",
              "84    https://upload.wikimedia.org/wikipedia/en/thum...   \n",
              "106   https://upload.wikimedia.org/wikipedia/en/thum...   \n",
              "110   https://upload.wikimedia.org/wikipedia/en/thum...   \n",
              "112   https://upload.wikimedia.org/wikipedia/en/thum...   \n",
              "169   https://upload.wikimedia.org/wikipedia/en/thum...   \n",
              "219   https://upload.wikimedia.org/wikipedia/en/thum...   \n",
              "258   https://upload.wikimedia.org/wikipedia/en/f/fe...   \n",
              "280                                                 NaN   \n",
              "297   https://upload.wikimedia.org/wikipedia/en/thum...   \n",
              "354   https://upload.wikimedia.org/wikipedia/en/thum...   \n",
              "362   https://upload.wikimedia.org/wikipedia/en/thum...   \n",
              "365   https://upload.wikimedia.org/wikipedia/en/thum...   \n",
              "393   https://upload.wikimedia.org/wikipedia/en/thum...   \n",
              "449   https://upload.wikimedia.org/wikipedia/en/thum...   \n",
              "536   https://upload.wikimedia.org/wikipedia/en/thum...   \n",
              "589   https://upload.wikimedia.org/wikipedia/en/thum...   \n",
              "625   https://upload.wikimedia.org/wikipedia/en/thum...   \n",
              "668   https://upload.wikimedia.org/wikipedia/en/thum...   \n",
              "693   https://upload.wikimedia.org/wikipedia/en/thum...   \n",
              "694   https://upload.wikimedia.org/wikipedia/en/thum...   \n",
              "982   https://upload.wikimedia.org/wikipedia/en/thum...   \n",
              "1039  https://upload.wikimedia.org/wikipedia/en/thum...   \n",
              "1058  https://upload.wikimedia.org/wikipedia/en/5/58...   \n",
              "1188  https://upload.wikimedia.org/wikipedia/en/thum...   \n",
              "1293  https://upload.wikimedia.org/wikipedia/en/thum...   \n",
              "1294  https://upload.wikimedia.org/wikipedia/en/thum...   \n",
              "1361  https://upload.wikimedia.org/wikipedia/en/thum...   \n",
              "1432  https://upload.wikimedia.org/wikipedia/en/thum...   \n",
              "1495  https://upload.wikimedia.org/wikipedia/en/thum...   \n",
              "1554  https://upload.wikimedia.org/wikipedia/en/thum...   \n",
              "1607  https://upload.wikimedia.org/wikipedia/en/thum...   \n",
              "\n",
              "                                              wiki_link  \\\n",
              "0     https://en.wikipedia.org/wiki/Uri:_The_Surgica...   \n",
              "41    https://en.wikipedia.org/wiki/Family_of_Thakur...   \n",
              "84              https://en.wikipedia.org/wiki/Mukkabaaz   \n",
              "106                 https://en.wikipedia.org/wiki/Raazi   \n",
              "110   https://en.wikipedia.org/wiki/Parmanu:_The_Sto...   \n",
              "112   https://en.wikipedia.org/wiki/Bhavesh_Joshi_Su...   \n",
              "169   https://en.wikipedia.org/wiki/The_Ghazi_Attack...   \n",
              "219              https://en.wikipedia.org/wiki/Raagdesh   \n",
              "258         https://en.wikipedia.org/wiki/Saala_Khadoos   \n",
              "280             https://en.wikipedia.org/wiki/Laal_Rang   \n",
              "297           https://en.wikipedia.org/wiki/Udta_Punjab   \n",
              "354         https://en.wikipedia.org/wiki/Dangal_(film)   \n",
              "362     https://en.wikipedia.org/wiki/Bajrangi_Bhaijaan   \n",
              "365   https://en.wikipedia.org/wiki/Baby_(2015_Hindi...   \n",
              "393   https://en.wikipedia.org/wiki/Detective_Byomke...   \n",
              "449     https://en.wikipedia.org/wiki/Titli_(2014_film)   \n",
              "536         https://en.wikipedia.org/wiki/Haider_(film)   \n",
              "589   https://en.wikipedia.org/wiki/Vishwaroop_(Hind...   \n",
              "625           https://en.wikipedia.org/wiki/Madras_Cafe   \n",
              "668   https://en.wikipedia.org/wiki/Paan_Singh_Tomar...   \n",
              "693    https://en.wikipedia.org/wiki/Gangs_of_Wasseypur   \n",
              "694   https://en.wikipedia.org/wiki/Gangs_of_Wasseyp...   \n",
              "982          https://en.wikipedia.org/wiki/Jodhaa_Akbar   \n",
              "1039     https://en.wikipedia.org/wiki/1971_(2007_film)   \n",
              "1058  https://en.wikipedia.org/wiki/Black_Friday_(20...   \n",
              "1188   https://en.wikipedia.org/wiki/Omkara_(2006_film)   \n",
              "1293   https://en.wikipedia.org/wiki/Sarkar_(2005_film)   \n",
              "1294                https://en.wikipedia.org/wiki/Sehar   \n",
              "1361       https://en.wikipedia.org/wiki/Lakshya_(film)   \n",
              "1432            https://en.wikipedia.org/wiki/Gangaajal   \n",
              "1495       https://en.wikipedia.org/wiki/Company_(film)   \n",
              "1554  https://en.wikipedia.org/wiki/The_Legend_of_Bh...   \n",
              "1607  https://en.wikipedia.org/wiki/Nayak_(2001_Hind...   \n",
              "\n",
              "                            title_y                 original_title  is_adult  \\\n",
              "0          Uri: The Surgical Strike       Uri: The Surgical Strike         0   \n",
              "41             Family of Thakurganj           Family of Thakurganj         0   \n",
              "84                      The Brawler                      Mukkabaaz         0   \n",
              "106                           Raazi                          Raazi         0   \n",
              "110   Parmanu: The Story of Pokhran  Parmanu: The Story of Pokhran         0   \n",
              "112         Bhavesh Joshi Superhero        Bhavesh Joshi Superhero         0   \n",
              "169                The Ghazi Attack               The Ghazi Attack         0   \n",
              "219                       Raag Desh                      Raag Desh         0   \n",
              "258                   Saala Khadoos                  Saala Khadoos         0   \n",
              "280                       Laal Rang                      Laal Rang         0   \n",
              "297                     Udta Punjab                    Udta Punjab         0   \n",
              "354                          Dangal                         Dangal         0   \n",
              "362               Bajrangi Bhaijaan              Bajrangi Bhaijaan         0   \n",
              "365                            Baby                           Baby         0   \n",
              "393      Detective Byomkesh Bakshy!     Detective Byomkesh Bakshy!         0   \n",
              "449                           Titli                          Titli         0   \n",
              "536                          Haider                         Haider         0   \n",
              "589                    Vishwaroopam                   Vishwaroopam         0   \n",
              "625                     Madras Cafe                    Madras Cafe         0   \n",
              "668                Paan Singh Tomar               Paan Singh Tomar         0   \n",
              "693              Gangs of Wasseypur             Gangs of Wasseypur         0   \n",
              "694              Gangs of Wasseypur             Gangs of Wasseypur         0   \n",
              "982                    Jodhaa Akbar                   Jodhaa Akbar         0   \n",
              "1039                           1971                           1971         0   \n",
              "1058                   Black Friday                   Black Friday         0   \n",
              "1188                         Omkara                         Omkara         0   \n",
              "1293                         Sarkar                         Sarkar         0   \n",
              "1294                          Sehar                          Sehar         0   \n",
              "1361                        Lakshya                        Lakshya         0   \n",
              "1432                      Gangaajal                      Gangaajal         0   \n",
              "1495                        Company                        Company         0   \n",
              "1554     The Legend of Bhagat Singh     The Legend of Bhagat Singh         0   \n",
              "1607           Nayak: The Real Hero           Nayak: The Real Hero         0   \n",
              "\n",
              "      year_of_release runtime                   genres  imdb_rating  \\\n",
              "0                2019     138         Action|Drama|War          8.4   \n",
              "41               2019     127             Action|Drama          9.4   \n",
              "84               2017     154       Action|Drama|Sport          8.1   \n",
              "106              2018     138    Action|Drama|Thriller          7.8   \n",
              "110              2018     129     Action|Drama|History          7.7   \n",
              "112              2018     154             Action|Drama          7.6   \n",
              "169              2017     116      Action|Thriller|War          7.6   \n",
              "219              2017     135     Action|Drama|History          8.3   \n",
              "258              2016     109       Action|Drama|Sport          7.6   \n",
              "280              2016     147       Action|Crime|Drama          8.0   \n",
              "297              2016     148       Action|Crime|Drama          7.8   \n",
              "354              2016     161   Action|Biography|Drama          8.4   \n",
              "362              2015     163      Action|Comedy|Drama          8.0   \n",
              "365              2015     159          Action|Thriller          8.0   \n",
              "393              2015     139  Action|Mystery|Thriller          7.6   \n",
              "449              2014     116    Action|Drama|Thriller          7.6   \n",
              "536              2014     160       Action|Crime|Drama          8.1   \n",
              "589              2013     148          Action|Thriller          8.2   \n",
              "625              2013     130    Action|Drama|Thriller          7.7   \n",
              "668              2012     135   Action|Biography|Crime          8.2   \n",
              "693              2012     321      Action|Comedy|Crime          8.2   \n",
              "694              2012     321      Action|Comedy|Crime          8.2   \n",
              "982              2008     213     Action|Drama|History          7.6   \n",
              "1039             2007     160         Action|Drama|War          7.9   \n",
              "1058             2004     143       Action|Crime|Drama          8.5   \n",
              "1188             2006     155       Action|Crime|Drama          8.1   \n",
              "1293             2005     124       Action|Crime|Drama          7.6   \n",
              "1294             2005     125       Action|Crime|Drama          7.8   \n",
              "1361             2004     186     Action|Drama|Romance          7.9   \n",
              "1432             2003     157       Action|Crime|Drama          7.8   \n",
              "1495             2002     155       Action|Crime|Drama          8.0   \n",
              "1554             2002     155   Action|Biography|Drama          8.1   \n",
              "1607             2001     187    Action|Drama|Thriller          7.8   \n",
              "\n",
              "      imdb_votes                                              story  \\\n",
              "0          35112  Divided over five chapters  the film chronicle...   \n",
              "41           895  The film is based on small town of North India...   \n",
              "84          5434  A boxer (Shravan) belonging to upper cast  tra...   \n",
              "106        20289  Hidayat Khan is the son of an Indian freedom f...   \n",
              "110        18292  Captain Ashwat Raina's efforts to turn India i...   \n",
              "112         4928  Bhavesh Joshi Superhero is an action film abou...   \n",
              "169        10332  In 1971  amid rising tensions between India an...   \n",
              "219          341  A period film based on the historic 1945 India...   \n",
              "258        10507  An under-fire boxing coach  Prabhu is transfer...   \n",
              "280         3741  The friendship of two men is tested when thing...   \n",
              "297        23995  What on earth can a rock star  a migrant labor...   \n",
              "354       131338  Biopic of Mahavir Singh Phogat  who taught wre...   \n",
              "362        65877  A little mute girl from a Pakistani village ge...   \n",
              "365        49426  The country is perpetually under threat from t...   \n",
              "393        14674  CALCUTTA 1943 A WAR - A MYSTERY - and A DETECT...   \n",
              "449         3677  In the badlands of Delhi's dystopic underbelly...   \n",
              "536        46912  Vishal Bhardwaj's adaptation of William Shakes...   \n",
              "589        38016  Vishwanathan  a Kathak dance teacher in New Yo...   \n",
              "625        21393  An Indian Intelligence agent (portrayed by Joh...   \n",
              "668        29994  Paan Singh Tomar is a Hindi-language film  bas...   \n",
              "693        71636  Shahid Khan is exiled after impersonating the ...   \n",
              "694        71636  Shahid Khan is exiled after impersonating the ...   \n",
              "982        27541  Jodhaa Akbar is a sixteenth century love story...   \n",
              "1039        1121  Based on true facts  the film revolves around ...   \n",
              "1058       16761  A dramatic presentation of the bomb blasts tha...   \n",
              "1188       17594  Advocate Raghunath Mishra has arranged the mar...   \n",
              "1293       14694  Meet Subhash Nagre - a wealthy and influential...   \n",
              "1294        1861  At the tender age of 8 Ajay Kumar is traumatiz...   \n",
              "1361       18777  Karan is a lazy good-for-nothing who lives on ...   \n",
              "1432       14295  An SP Amit Kumar who is given charge of Tezpur...   \n",
              "1495       13474  Mallik is a henchman of Aslam Bhai  a Mumbai u...   \n",
              "1554       13455  Bhagat was born in British India during the ye...   \n",
              "1607       12522  Employed as a camera-man at a popular televisi...   \n",
              "\n",
              "                                                summary  \\\n",
              "0     Indian army special forces execute a covert op...   \n",
              "41    The film is based on small town of North India...   \n",
              "84    A boxer struggles to make his mark in the boxi...   \n",
              "106   A Kashmiri woman agrees to marry a Pakistani a...   \n",
              "110   Ashwat Raina and his teammates arrive in Pokhr...   \n",
              "112   The origin story of Bhavesh Joshi  an Indian s...   \n",
              "169   A Pakistani submarine  Ghazi plans to secretly...   \n",
              "219   A period film based on the historic 1945 India...   \n",
              "258   The story of a former boxer who quits boxing f...   \n",
              "280   The friendship of two men is tested when thing...   \n",
              "297   A story that revolves around drug abuse in the...   \n",
              "354   Former wrestler Mahavir Singh Phogat and his t...   \n",
              "362   An Indian man with a magnanimous heart takes a...   \n",
              "365   An elite counter-intelligence unit learns of a...   \n",
              "393   While investigating the disappearance of a che...   \n",
              "449   A Hindi feature film set in the lower depths o...   \n",
              "536   A young man returns to Kashmir after his fathe...   \n",
              "589   When a classical dancer's suspecting wife sets...   \n",
              "625   An Indian intelligence agent journeys to a war...   \n",
              "668   The story of Paan Singh Tomar  an Indian athle...   \n",
              "693   A clash between Sultan and Shahid Khan leads t...   \n",
              "694   A clash between Sultan and Shahid Khan leads t...   \n",
              "982   A sixteenth century love story about a marriag...   \n",
              "1039  Based on true facts  the film revolves around ...   \n",
              "1058  Black Friday is a film about the investigation...   \n",
              "1188  A politically-minded enforcer's misguided trus...   \n",
              "1293  The authority of a man  who runs a parallel go...   \n",
              "1294  Ajay Kumar the newly appointed  honest SSP of ...   \n",
              "1361  An aimless  jobless  irresponsible grown man j...   \n",
              "1432  An IPS officer motivates and leads a dysfuncti...   \n",
              "1495  A small-time gangster named Chandu teams up wi...   \n",
              "1554  The story of a young revolutionary who raised ...   \n",
              "1607  A man accepts a challenge by the chief ministe...   \n",
              "\n",
              "                                                tagline  \\\n",
              "0                                                   NaN   \n",
              "41                                                  NaN   \n",
              "84                                                  NaN   \n",
              "106                            An incredible true story   \n",
              "110   1998| India: one secret operation| six Indians...   \n",
              "112            This year| justice will have a new name.   \n",
              "169                      The war you did not know about   \n",
              "219                                                 NaN   \n",
              "258                                                 NaN   \n",
              "280   Every job good or bad| must be done with honesty.   \n",
              "297                                                 NaN   \n",
              "354       You think our girls are any lesser than boys?   \n",
              "362                                                 NaN   \n",
              "365           History Is Made By Those Who Give A Damn!   \n",
              "393                               Expect The Unexpected   \n",
              "449                       Daring| Desireable| Dangerous   \n",
              "536                                                 NaN   \n",
              "589                                                 NaN   \n",
              "625                                                 NaN   \n",
              "668                                                 NaN   \n",
              "693                                                 NaN   \n",
              "694                                                 NaN   \n",
              "982                                                 NaN   \n",
              "1039                            Honor the heroes.......   \n",
              "1058                The story of the Bombay bomb blasts   \n",
              "1188                                                NaN   \n",
              "1293  'There are no Rights and Wrongs. Only Power' -...   \n",
              "1294                                                NaN   \n",
              "1361  It took him 24 years and 18000 feet to find hi...   \n",
              "1432                                                NaN   \n",
              "1495                           A law & order enterprise   \n",
              "1554                                                NaN   \n",
              "1607                                    Fight the power   \n",
              "\n",
              "                                                 actors  \\\n",
              "0     Vicky Kaushal|Paresh Rawal|Mohit Raina|Yami Ga...   \n",
              "41    Jimmy Sheirgill|Mahie Gill|Nandish Singh|Prana...   \n",
              "84    Viineet Kumar|Jimmy Sheirgill|Zoya Hussain|Rav...   \n",
              "106   Alia Bhatt|Vicky Kaushal|Rajit Kapoor|Shishir ...   \n",
              "110   John Abraham|Boman Irani|Diana Penty|Anuja Sat...   \n",
              "112   Harshvardhan Kapoor|Priyanshu Painyuli|Ashish ...   \n",
              "169   Rana Daggubati|Kay Kay Menon|Atul Kulkarni|Om ...   \n",
              "219   Kunal Kapoor|Amit Sadh|Mohit Marwah|Kenneth De...   \n",
              "258   Madhavan|Ritika Singh|Mumtaz Sorcar|Nassar|Rad...   \n",
              "280   Randeep Hooda|Akshay Oberoi|Rajniesh Duggall|P...   \n",
              "297   Shahid Kapoor|Alia Bhatt|Kareena Kapoor|Diljit...   \n",
              "354   Aamir Khan|Fatima Sana Shaikh|Sanya Malhotra|S...   \n",
              "362   Salman Khan|Harshaali Malhotra|Nawazuddin Sidd...   \n",
              "365   Akshay Kumar|Danny Denzongpa|Rana Daggubati|Ta...   \n",
              "393   Sushant Singh Rajput|Anand Tiwari|Neeraj Kabi|...   \n",
              "449   Nawazuddin Siddiqui|Niharika Singh|Anil George...   \n",
              "536   Tabu|Shahid Kapoor|Shraddha Kapoor|Kay Kay Men...   \n",
              "589   Kamal Haasan|Rahul Bose|Shekhar Kapur|Pooja Ku...   \n",
              "625   John Abraham|Nargis Fakhri|Raashi Khanna|Praka...   \n",
              "668                                        Irrfan Khan|   \n",
              "693   Manoj Bajpayee|Richa Chadha|Nawazuddin Siddiqu...   \n",
              "694   Manoj Bajpayee|Richa Chadha|Nawazuddin Siddiqu...   \n",
              "982   Hrithik Roshan|Aishwarya Rai Bachchan|Sonu Soo...   \n",
              "1039        Manoj Bajpayee|Ravi Kishan|Deepak Dobriyal|   \n",
              "1058  Kay Kay Menon|Pavan Malhotra|Aditya Srivastava...   \n",
              "1188  Ajay Devgn|Saif Ali Khan|Vivek Oberoi|Kareena ...   \n",
              "1293  Amitabh Bachchan|Abhishek Bachchan|Kay Kay Men...   \n",
              "1294  Arshad Warsi|Pankaj Kapur|Mahima Chaudhry|Sush...   \n",
              "1361  Hrithik Roshan|Preity Zinta|Amitabh Bachchan|O...   \n",
              "1432  Ajay Devgn|Gracy Singh|Mohan Joshi|Yashpal Sha...   \n",
              "1495  Ajay Devgn|Mohanlal|Manisha Koirala|Seema Bisw...   \n",
              "1554  Ajay Devgn|Sushant Singh|D. Santosh|Akhilendra...   \n",
              "1607  Anil Kapoor|Rani Mukerji|Amrish Puri|Johnny Le...   \n",
              "\n",
              "              wins_nominations               release_date  \n",
              "0                       4 wins      11 January 2019 (USA)  \n",
              "41                         NaN       19 July 2019 (India)  \n",
              "84      3 wins & 6 nominations      12 January 2018 (USA)  \n",
              "106   21 wins & 26 nominations          11 May 2018 (USA)  \n",
              "110                        NaN          25 May 2018 (USA)  \n",
              "112              2 nominations          1 June 2018 (USA)  \n",
              "169      1 win & 7 nominations     17 February 2017 (USA)  \n",
              "219                        NaN       28 July 2017 (India)  \n",
              "258     9 wins & 2 nominations      29 January 2016 (USA)  \n",
              "280                        NaN      22 April 2016 (India)  \n",
              "297   11 wins & 19 nominations         17 June 2016 (USA)  \n",
              "354    23 wins & 4 nominations     21 December 2016 (USA)  \n",
              "362   25 wins & 13 nominations         17 July 2015 (USA)  \n",
              "365                      1 win    23 January 2015 (India)  \n",
              "393                        NaN         3 April 2015 (USA)  \n",
              "449     4 wins & 5 nominations         20 June 2014 (USA)  \n",
              "536   28 wins & 24 nominations       2 October 2014 (USA)  \n",
              "589    5 wins & 11 nominations    25 January 2013 (India)  \n",
              "625   10 wins & 10 nominations     23 August 2013 (India)  \n",
              "668   10 wins & 11 nominations         2 March 2012 (USA)  \n",
              "693   12 wins & 43 nominations  2 August 2012 (Singapore)  \n",
              "694   12 wins & 43 nominations  2 August 2012 (Singapore)  \n",
              "982   32 wins & 21 nominations     15 February 2008 (USA)  \n",
              "1039                     1 win       9 March 2007 (India)  \n",
              "1058             3 nominations    9 February 2007 (India)  \n",
              "1188  19 wins & 20 nominations         28 July 2006 (USA)  \n",
              "1293   2 wins & 10 nominations        1 July 2005 (India)  \n",
              "1294                       NaN       29 July 2005 (India)  \n",
              "1361   4 wins & 10 nominations         18 June 2004 (USA)  \n",
              "1432   4 wins & 29 nominations     29 August 2003 (India)  \n",
              "1495   16 wins & 9 nominations      15 April 2002 (India)  \n",
              "1554   11 wins & 5 nominations        7 June 2002 (India)  \n",
              "1607             2 nominations   7 September 2001 (India)  "
            ]
          },
          "execution_count": 55,
          "metadata": {},
          "output_type": "execute_result"
        }
      ],
      "source": [
        "# Find all Action movies with IMDb rating higher than 7.5\n",
        "# mask1 checks if 'Action' is in the genres\n",
        "# mask2 checks if rating is above 7.5\n",
        "mask1 = movies['genres'].str.contains('Action')\n",
        "mask2 = movies['imdb_rating'] > 7.5\n",
        "\n",
        "# Filter movies that satisfy both conditions\n",
        "movies[mask1 & mask2]"
      ]
    },
    {
      "cell_type": "code",
      "execution_count": null,
      "metadata": {
        "id": "eO5DEaswWEi_"
      },
      "outputs": [],
      "source": [
        "# Write a function that can return the track record of 2 teams against each other"
      ]
    },
    {
      "cell_type": "markdown",
      "metadata": {
        "id": "Kqf3EdS0229S"
      },
      "source": [
        "### Adding new cols"
      ]
    },
    {
      "cell_type": "code",
      "execution_count": null,
      "metadata": {
        "colab": {
          "base_uri": "https://localhost:8080/",
          "height": 635
        },
        "id": "t7GmI1tn24Ge",
        "outputId": "a27a5542-6add-4e36-a7a7-865cf4e2e1e2"
      },
      "outputs": [
        {
          "data": {
            "application/vnd.microsoft.datawrangler.viewer.v0+json": {
              "columns": [
                {
                  "name": "index",
                  "rawType": "int64",
                  "type": "integer"
                },
                {
                  "name": "title_x",
                  "rawType": "object",
                  "type": "string"
                },
                {
                  "name": "imdb_id",
                  "rawType": "object",
                  "type": "string"
                },
                {
                  "name": "poster_path",
                  "rawType": "object",
                  "type": "unknown"
                },
                {
                  "name": "wiki_link",
                  "rawType": "object",
                  "type": "string"
                },
                {
                  "name": "title_y",
                  "rawType": "object",
                  "type": "string"
                },
                {
                  "name": "original_title",
                  "rawType": "object",
                  "type": "string"
                },
                {
                  "name": "is_adult",
                  "rawType": "int64",
                  "type": "integer"
                },
                {
                  "name": "year_of_release",
                  "rawType": "int64",
                  "type": "integer"
                },
                {
                  "name": "runtime",
                  "rawType": "object",
                  "type": "string"
                },
                {
                  "name": "genres",
                  "rawType": "object",
                  "type": "string"
                },
                {
                  "name": "imdb_rating",
                  "rawType": "float64",
                  "type": "float"
                },
                {
                  "name": "imdb_votes",
                  "rawType": "int64",
                  "type": "integer"
                },
                {
                  "name": "story",
                  "rawType": "object",
                  "type": "string"
                },
                {
                  "name": "summary",
                  "rawType": "object",
                  "type": "string"
                },
                {
                  "name": "tagline",
                  "rawType": "object",
                  "type": "unknown"
                },
                {
                  "name": "actors",
                  "rawType": "object",
                  "type": "string"
                },
                {
                  "name": "wins_nominations",
                  "rawType": "object",
                  "type": "unknown"
                },
                {
                  "name": "release_date",
                  "rawType": "object",
                  "type": "string"
                },
                {
                  "name": "Country",
                  "rawType": "object",
                  "type": "string"
                }
              ],
              "ref": "f06a6b8f-fed0-46a1-ac0a-bd8f0c88ddb4",
              "rows": [
                [
                  "0",
                  "Uri: The Surgical Strike",
                  "tt8291224",
                  "https://upload.wikimedia.org/wikipedia/en/thumb/3/3b/URI_-_New_poster.jpg/220px-URI_-_New_poster.jpg",
                  "https://en.wikipedia.org/wiki/Uri:_The_Surgical_Strike",
                  "Uri: The Surgical Strike",
                  "Uri: The Surgical Strike",
                  "0",
                  "2019",
                  "138",
                  "Action|Drama|War",
                  "8.4",
                  "35112",
                  "Divided over five chapters  the film chronicles the events of the surgical strike conducted by the Indian military against suspected militants in Pakistan occupied Kashmir. It tells the story of the 11 tumultuous events over which the operation was carried out. Indian army special forces carry out a covert operation to avenge the killing of fellow army men at their base by a terrorist group.",
                  "Indian army special forces execute a covert operation  avenging the killing of fellow army men at their base by a terrorist group.",
                  null,
                  "Vicky Kaushal|Paresh Rawal|Mohit Raina|Yami Gautam|Kirti Kulhari|Rajit Kapoor|Ivan Rodrigues|Manasi Parekh|Swaroop Sampat|Riva Arora|Yogesh Soman|Fareed Ahmed|Akashdeep Arora|Kallol Banerjee|",
                  "4 wins",
                  "11 January 2019 (USA)",
                  "India"
                ],
                [
                  "1",
                  "Battalion 609",
                  "tt9472208",
                  null,
                  "https://en.wikipedia.org/wiki/Battalion_609",
                  "Battalion 609",
                  "Battalion 609",
                  "0",
                  "2019",
                  "131",
                  "War",
                  "4.1",
                  "73",
                  "The story revolves around a cricket match between the Indian Army and the Pakistan Army gone wrong and narrates the tale of the soldiers of Battalion 609 putting up a fight with Taliban. After an attack on Indian Army that is Battalion 609 near the LOC  the match which was to be played between India and Pakistan is cancelled. Anwar Hussein  a Pakistani soldier who is very fond of cricket and was looking forward to the match  throws a cricket bat at the other end of the LOC and calls the Indian army and Indians a bunch of cowards. In anger  the Indian army throws a ball towards them. Soon  a verbal fight breaks between them which leads to the two teams deciding to play a cricket match. The losing team will take their post eighteen kilometres back.",
                  "The story of Battalion 609 revolves around a cricket match between the Indian Army and the Pakistan army gone wrong and narrates the tale of the brave soldiers of Battalion 609 putting up a fight with the mighty Taliban.",
                  null,
                  "Vicky Ahuja|Shoaib Ibrahim|Shrikant Kamat|Elena Kazan|Vishwas Kini|Major Kishore|Jashn Kohli|Rammy C. Pandey|Manish Sharma|Sparsh Sharma|Farnaz Shetty|Vikas Shrivastav|Chandraprakash Thakur|Brajesh Tiwari|",
                  null,
                  "11 January 2019 (India)",
                  "India"
                ],
                [
                  "2",
                  "The Accidental Prime Minister (film)",
                  "tt6986710",
                  "https://upload.wikimedia.org/wikipedia/en/thumb/a/a1/The_Accidental_Prime_Minister_film.jpg/220px-The_Accidental_Prime_Minister_film.jpg",
                  "https://en.wikipedia.org/wiki/The_Accidental_Prime_Minister_(film)",
                  "The Accidental Prime Minister",
                  "The Accidental Prime Minister",
                  "0",
                  "2019",
                  "112",
                  "Biography|Drama",
                  "6.1",
                  "5549",
                  "Based on the memoir by Indian policy analyst Sanjaya Baru  The Accidental Prime Minister explores Manmohan Singh's tenure as the Prime Minister of India  and the interference of Congress Party in contradicting his decisions during his first tenure. He details how Singh fell a victim to Congress Party's dynastic approach. It highlights how Manmohan Singh was constantly ignored by Congress to maintain turf for Rahul Gandhi  the son of Sonia Gandhi and Rajiv Gandhi.",
                  "Explores Manmohan Singh's tenure as the Prime Minister of India and the kind of control he had over the cabinet and the country.",
                  null,
                  "Anupam Kher|Akshaye Khanna|Aahana Kumra|Atul Sharma|Manoj Anand|Arjun Mathur|Suzanne Bernert|Abdul Quadir Amin|Bharat Mistri|Divya Seth|Anil Rastogi|Ramesh Bhatkar|Parrgash Kaur|Jess Kaur|",
                  null,
                  "11 January 2019 (USA)",
                  "India"
                ],
                [
                  "3",
                  "Why Cheat India",
                  "tt8108208",
                  "https://upload.wikimedia.org/wikipedia/en/thumb/a/a2/Why_Cheat_India_poster.jpg/220px-Why_Cheat_India_poster.jpg",
                  "https://en.wikipedia.org/wiki/Why_Cheat_India",
                  "Why Cheat India",
                  "Why Cheat India",
                  "0",
                  "2019",
                  "121",
                  "Crime|Drama",
                  "6.0",
                  "1891",
                  "The movie focuses on existing malpractices in country's education system  the whole concept of buying your way through education  jobs and earnings. Even with an evolving education system  the country faces scams like SSC and HSC paper leaks  CBSE re-examination  Vyaapam  etc. The movie tries to shift the attention of people to understand the vulnerability of hardworking and gifted students who get left out.",
                  "The movie focuses on existing malpractices in country's education system  the whole concept of buying your way through education  jobs and earnings. Even with an evolving education system  ...                    ",
                  null,
                  "Emraan Hashmi|Shreya Dhanwanthary|Snighdadeep Chatterji|Navneet Srivastava|Nanda Yadav|",
                  null,
                  "18 January 2019 (USA)",
                  "India"
                ],
                [
                  "4",
                  "Evening Shadows",
                  "tt6028796",
                  null,
                  "https://en.wikipedia.org/wiki/Evening_Shadows",
                  "Evening Shadows",
                  "Evening Shadows",
                  "0",
                  "2018",
                  "102",
                  "Drama",
                  "7.3",
                  "280",
                  "While gay rights and marriage equality has been embraced by most countries  a small town in Southern India lives within a cocoon of traditions and social morality. In such a milieu when a young gay man Kartik  comes out to his mother Vasudha  her entire world comes crashing down. She has no one to turn to dispel her fears and doubts  to understand her loving son's truth. Moreover as a woman  trapped within a patriarchal conservative society  her biggest challenge is to deal with her dogmatic husband Damodar  and the conservative society around her. 'Evening Shadows' is a universal story about a mother-son bonding and its emotional strength to withstand the ravages of time and harsh realities.",
                  "Under the 'Evening Shadows'  truth often plays hide and seek. Set in South India and Mumbai  'Evening Shadows' is a tender heartwarming story about a mother-son bond that has to withstand the ravages of time  distance and truths.",
                  null,
                  "Mona Ambegaonkar|Ananth Narayan Mahadevan|Devansh Doshi|Arpit Chaudhary|Yamini Singh|Abhay Kulkarni|Veena Nair|Disha Thakur|Kala Ramanathan|Sushant Divgikar|",
                  "17 wins & 1 nomination",
                  "11 January 2019 (India)",
                  "India"
                ]
              ],
              "shape": {
                "columns": 19,
                "rows": 5
              }
            },
            "text/html": [
              "<div>\n",
              "<style scoped>\n",
              "    .dataframe tbody tr th:only-of-type {\n",
              "        vertical-align: middle;\n",
              "    }\n",
              "\n",
              "    .dataframe tbody tr th {\n",
              "        vertical-align: top;\n",
              "    }\n",
              "\n",
              "    .dataframe thead th {\n",
              "        text-align: right;\n",
              "    }\n",
              "</style>\n",
              "<table border=\"1\" class=\"dataframe\">\n",
              "  <thead>\n",
              "    <tr style=\"text-align: right;\">\n",
              "      <th></th>\n",
              "      <th>title_x</th>\n",
              "      <th>imdb_id</th>\n",
              "      <th>poster_path</th>\n",
              "      <th>wiki_link</th>\n",
              "      <th>title_y</th>\n",
              "      <th>original_title</th>\n",
              "      <th>is_adult</th>\n",
              "      <th>year_of_release</th>\n",
              "      <th>runtime</th>\n",
              "      <th>genres</th>\n",
              "      <th>imdb_rating</th>\n",
              "      <th>imdb_votes</th>\n",
              "      <th>story</th>\n",
              "      <th>summary</th>\n",
              "      <th>tagline</th>\n",
              "      <th>actors</th>\n",
              "      <th>wins_nominations</th>\n",
              "      <th>release_date</th>\n",
              "      <th>Country</th>\n",
              "    </tr>\n",
              "  </thead>\n",
              "  <tbody>\n",
              "    <tr>\n",
              "      <th>0</th>\n",
              "      <td>Uri: The Surgical Strike</td>\n",
              "      <td>tt8291224</td>\n",
              "      <td>https://upload.wikimedia.org/wikipedia/en/thum...</td>\n",
              "      <td>https://en.wikipedia.org/wiki/Uri:_The_Surgica...</td>\n",
              "      <td>Uri: The Surgical Strike</td>\n",
              "      <td>Uri: The Surgical Strike</td>\n",
              "      <td>0</td>\n",
              "      <td>2019</td>\n",
              "      <td>138</td>\n",
              "      <td>Action|Drama|War</td>\n",
              "      <td>8.4</td>\n",
              "      <td>35112</td>\n",
              "      <td>Divided over five chapters  the film chronicle...</td>\n",
              "      <td>Indian army special forces execute a covert op...</td>\n",
              "      <td>NaN</td>\n",
              "      <td>Vicky Kaushal|Paresh Rawal|Mohit Raina|Yami Ga...</td>\n",
              "      <td>4 wins</td>\n",
              "      <td>11 January 2019 (USA)</td>\n",
              "      <td>India</td>\n",
              "    </tr>\n",
              "    <tr>\n",
              "      <th>1</th>\n",
              "      <td>Battalion 609</td>\n",
              "      <td>tt9472208</td>\n",
              "      <td>NaN</td>\n",
              "      <td>https://en.wikipedia.org/wiki/Battalion_609</td>\n",
              "      <td>Battalion 609</td>\n",
              "      <td>Battalion 609</td>\n",
              "      <td>0</td>\n",
              "      <td>2019</td>\n",
              "      <td>131</td>\n",
              "      <td>War</td>\n",
              "      <td>4.1</td>\n",
              "      <td>73</td>\n",
              "      <td>The story revolves around a cricket match betw...</td>\n",
              "      <td>The story of Battalion 609 revolves around a c...</td>\n",
              "      <td>NaN</td>\n",
              "      <td>Vicky Ahuja|Shoaib Ibrahim|Shrikant Kamat|Elen...</td>\n",
              "      <td>NaN</td>\n",
              "      <td>11 January 2019 (India)</td>\n",
              "      <td>India</td>\n",
              "    </tr>\n",
              "    <tr>\n",
              "      <th>2</th>\n",
              "      <td>The Accidental Prime Minister (film)</td>\n",
              "      <td>tt6986710</td>\n",
              "      <td>https://upload.wikimedia.org/wikipedia/en/thum...</td>\n",
              "      <td>https://en.wikipedia.org/wiki/The_Accidental_P...</td>\n",
              "      <td>The Accidental Prime Minister</td>\n",
              "      <td>The Accidental Prime Minister</td>\n",
              "      <td>0</td>\n",
              "      <td>2019</td>\n",
              "      <td>112</td>\n",
              "      <td>Biography|Drama</td>\n",
              "      <td>6.1</td>\n",
              "      <td>5549</td>\n",
              "      <td>Based on the memoir by Indian policy analyst S...</td>\n",
              "      <td>Explores Manmohan Singh's tenure as the Prime ...</td>\n",
              "      <td>NaN</td>\n",
              "      <td>Anupam Kher|Akshaye Khanna|Aahana Kumra|Atul S...</td>\n",
              "      <td>NaN</td>\n",
              "      <td>11 January 2019 (USA)</td>\n",
              "      <td>India</td>\n",
              "    </tr>\n",
              "    <tr>\n",
              "      <th>3</th>\n",
              "      <td>Why Cheat India</td>\n",
              "      <td>tt8108208</td>\n",
              "      <td>https://upload.wikimedia.org/wikipedia/en/thum...</td>\n",
              "      <td>https://en.wikipedia.org/wiki/Why_Cheat_India</td>\n",
              "      <td>Why Cheat India</td>\n",
              "      <td>Why Cheat India</td>\n",
              "      <td>0</td>\n",
              "      <td>2019</td>\n",
              "      <td>121</td>\n",
              "      <td>Crime|Drama</td>\n",
              "      <td>6.0</td>\n",
              "      <td>1891</td>\n",
              "      <td>The movie focuses on existing malpractices in ...</td>\n",
              "      <td>The movie focuses on existing malpractices in ...</td>\n",
              "      <td>NaN</td>\n",
              "      <td>Emraan Hashmi|Shreya Dhanwanthary|Snighdadeep ...</td>\n",
              "      <td>NaN</td>\n",
              "      <td>18 January 2019 (USA)</td>\n",
              "      <td>India</td>\n",
              "    </tr>\n",
              "    <tr>\n",
              "      <th>4</th>\n",
              "      <td>Evening Shadows</td>\n",
              "      <td>tt6028796</td>\n",
              "      <td>NaN</td>\n",
              "      <td>https://en.wikipedia.org/wiki/Evening_Shadows</td>\n",
              "      <td>Evening Shadows</td>\n",
              "      <td>Evening Shadows</td>\n",
              "      <td>0</td>\n",
              "      <td>2018</td>\n",
              "      <td>102</td>\n",
              "      <td>Drama</td>\n",
              "      <td>7.3</td>\n",
              "      <td>280</td>\n",
              "      <td>While gay rights and marriage equality has bee...</td>\n",
              "      <td>Under the 'Evening Shadows'  truth often plays...</td>\n",
              "      <td>NaN</td>\n",
              "      <td>Mona Ambegaonkar|Ananth Narayan Mahadevan|Deva...</td>\n",
              "      <td>17 wins &amp; 1 nomination</td>\n",
              "      <td>11 January 2019 (India)</td>\n",
              "      <td>India</td>\n",
              "    </tr>\n",
              "  </tbody>\n",
              "</table>\n",
              "</div>"
            ],
            "text/plain": [
              "                                title_x    imdb_id  \\\n",
              "0              Uri: The Surgical Strike  tt8291224   \n",
              "1                         Battalion 609  tt9472208   \n",
              "2  The Accidental Prime Minister (film)  tt6986710   \n",
              "3                       Why Cheat India  tt8108208   \n",
              "4                       Evening Shadows  tt6028796   \n",
              "\n",
              "                                         poster_path  \\\n",
              "0  https://upload.wikimedia.org/wikipedia/en/thum...   \n",
              "1                                                NaN   \n",
              "2  https://upload.wikimedia.org/wikipedia/en/thum...   \n",
              "3  https://upload.wikimedia.org/wikipedia/en/thum...   \n",
              "4                                                NaN   \n",
              "\n",
              "                                           wiki_link  \\\n",
              "0  https://en.wikipedia.org/wiki/Uri:_The_Surgica...   \n",
              "1        https://en.wikipedia.org/wiki/Battalion_609   \n",
              "2  https://en.wikipedia.org/wiki/The_Accidental_P...   \n",
              "3      https://en.wikipedia.org/wiki/Why_Cheat_India   \n",
              "4      https://en.wikipedia.org/wiki/Evening_Shadows   \n",
              "\n",
              "                         title_y                 original_title  is_adult  \\\n",
              "0       Uri: The Surgical Strike       Uri: The Surgical Strike         0   \n",
              "1                  Battalion 609                  Battalion 609         0   \n",
              "2  The Accidental Prime Minister  The Accidental Prime Minister         0   \n",
              "3                Why Cheat India                Why Cheat India         0   \n",
              "4                Evening Shadows                Evening Shadows         0   \n",
              "\n",
              "   year_of_release runtime            genres  imdb_rating  imdb_votes  \\\n",
              "0             2019     138  Action|Drama|War          8.4       35112   \n",
              "1             2019     131               War          4.1          73   \n",
              "2             2019     112   Biography|Drama          6.1        5549   \n",
              "3             2019     121       Crime|Drama          6.0        1891   \n",
              "4             2018     102             Drama          7.3         280   \n",
              "\n",
              "                                               story  \\\n",
              "0  Divided over five chapters  the film chronicle...   \n",
              "1  The story revolves around a cricket match betw...   \n",
              "2  Based on the memoir by Indian policy analyst S...   \n",
              "3  The movie focuses on existing malpractices in ...   \n",
              "4  While gay rights and marriage equality has bee...   \n",
              "\n",
              "                                             summary tagline  \\\n",
              "0  Indian army special forces execute a covert op...     NaN   \n",
              "1  The story of Battalion 609 revolves around a c...     NaN   \n",
              "2  Explores Manmohan Singh's tenure as the Prime ...     NaN   \n",
              "3  The movie focuses on existing malpractices in ...     NaN   \n",
              "4  Under the 'Evening Shadows'  truth often plays...     NaN   \n",
              "\n",
              "                                              actors        wins_nominations  \\\n",
              "0  Vicky Kaushal|Paresh Rawal|Mohit Raina|Yami Ga...                  4 wins   \n",
              "1  Vicky Ahuja|Shoaib Ibrahim|Shrikant Kamat|Elen...                     NaN   \n",
              "2  Anupam Kher|Akshaye Khanna|Aahana Kumra|Atul S...                     NaN   \n",
              "3  Emraan Hashmi|Shreya Dhanwanthary|Snighdadeep ...                     NaN   \n",
              "4  Mona Ambegaonkar|Ananth Narayan Mahadevan|Deva...  17 wins & 1 nomination   \n",
              "\n",
              "              release_date Country  \n",
              "0    11 January 2019 (USA)   India  \n",
              "1  11 January 2019 (India)   India  \n",
              "2    11 January 2019 (USA)   India  \n",
              "3    18 January 2019 (USA)   India  \n",
              "4  11 January 2019 (India)   India  "
            ]
          },
          "execution_count": 57,
          "metadata": {},
          "output_type": "execute_result"
        }
      ],
      "source": [
        "# Adding a completely new column to the DataFrame\n",
        "movies['Country'] = 'India'\n",
        "movies.head()"
      ]
    },
    {
      "cell_type": "code",
      "execution_count": null,
      "metadata": {
        "id": "__bvr_sX25qI"
      },
      "outputs": [],
      "source": [
        "# Remove rows with null values before creating a new column from existing data\n",
        "movies.dropna(inplace=True) # removing rows with null values in the DataFrame"
      ]
    },
    {
      "cell_type": "code",
      "execution_count": null,
      "metadata": {
        "colab": {
          "base_uri": "https://localhost:8080/",
          "height": 739
        },
        "id": "ge6LfvI7bBR9",
        "outputId": "645ae722-53a5-4e1e-c146-45d0fe1edd47"
      },
      "outputs": [
        {
          "data": {
            "application/vnd.microsoft.datawrangler.viewer.v0+json": {
              "columns": [
                {
                  "name": "index",
                  "rawType": "int64",
                  "type": "integer"
                },
                {
                  "name": "title_x",
                  "rawType": "object",
                  "type": "string"
                },
                {
                  "name": "imdb_id",
                  "rawType": "object",
                  "type": "string"
                },
                {
                  "name": "poster_path",
                  "rawType": "object",
                  "type": "string"
                },
                {
                  "name": "wiki_link",
                  "rawType": "object",
                  "type": "string"
                },
                {
                  "name": "title_y",
                  "rawType": "object",
                  "type": "string"
                },
                {
                  "name": "original_title",
                  "rawType": "object",
                  "type": "string"
                },
                {
                  "name": "is_adult",
                  "rawType": "int64",
                  "type": "integer"
                },
                {
                  "name": "year_of_release",
                  "rawType": "int64",
                  "type": "integer"
                },
                {
                  "name": "runtime",
                  "rawType": "object",
                  "type": "string"
                },
                {
                  "name": "genres",
                  "rawType": "object",
                  "type": "string"
                },
                {
                  "name": "imdb_rating",
                  "rawType": "float64",
                  "type": "float"
                },
                {
                  "name": "imdb_votes",
                  "rawType": "int64",
                  "type": "integer"
                },
                {
                  "name": "story",
                  "rawType": "object",
                  "type": "string"
                },
                {
                  "name": "summary",
                  "rawType": "object",
                  "type": "string"
                },
                {
                  "name": "tagline",
                  "rawType": "object",
                  "type": "string"
                },
                {
                  "name": "actors",
                  "rawType": "object",
                  "type": "string"
                },
                {
                  "name": "wins_nominations",
                  "rawType": "object",
                  "type": "string"
                },
                {
                  "name": "release_date",
                  "rawType": "object",
                  "type": "string"
                },
                {
                  "name": "Country",
                  "rawType": "object",
                  "type": "string"
                },
                {
                  "name": "lead actor",
                  "rawType": "object",
                  "type": "string"
                }
              ],
              "ref": "66777529-49ea-41d1-9fbd-dc3c62c76a8e",
              "rows": [
                [
                  "11",
                  "Gully Boy",
                  "tt2395469",
                  "https://upload.wikimedia.org/wikipedia/en/thumb/0/07/Gully_Boy_poster.jpg/220px-Gully_Boy_poster.jpg",
                  "https://en.wikipedia.org/wiki/Gully_Boy",
                  "Gully Boy",
                  "Gully Boy",
                  "0",
                  "2019",
                  "153",
                  "Drama|Music",
                  "8.2",
                  "22440",
                  "Gully Boy is a film about a 22-year-old boy \"Murad\" from a ghetto in Mumbai  India. The son of a driver  his parents worked hard to get him educated so that he could have a white collar job. Meanwhile  Murad realizes his calling to be a rapper. Authentic Hip Hop in India is a recent phenomenon and like anywhere else in the world  is rising from the streets. Art is a distant dream for the colonized poor of India and this story is about Murad's journey from realizing his love for rap and chasing his dream to inadvertently transcending his class. The film showcases street rap from the crevices of Mumbai's by lanes. The poetry is conscious of the city's socio-economic fabric and highlights the challenges faced by the disenfranchised youth in the minority population.",
                  "A coming-of-age story based on the lives of street rappers in Mumbai.",
                  "Apna Time Aayega!",
                  "Ranveer Singh|Alia Bhatt|Siddhant Chaturvedi|Vijay Raaz|Amruta Subhash|Vijay Varma|Kalki Koechlin|Ikhlaque Khan|Sheeba Chaddha|Jyoti Subhash|Rahul Piske|Nakul Sachdeva|Shruti Chauhan|Aishwarya Desai|",
                  "6 wins & 3 nominations",
                  "14 February 2019 (USA)",
                  "India",
                  "Ranveer Singh"
                ],
                [
                  "34",
                  "Yeh Hai India",
                  "tt5525846",
                  "https://upload.wikimedia.org/wikipedia/en/thumb/d/db/Yeh_Hai_India_Official_Poster.jpg/220px-Yeh_Hai_India_Official_Poster.jpg",
                  "https://en.wikipedia.org/wiki/Yeh_Hai_India",
                  "Yeh Hai India",
                  "Yeh Hai India",
                  "0",
                  "2017",
                  "128",
                  "Action|Adventure|Drama",
                  "5.7",
                  "169",
                  "Yeh Hai India  follows the story of a 25 years old NRI  who is born and brought up in U.K and shares the same stereotype views of India  which is known for its vast population  pollution and poverty. However protagonist finds new development in media or probably an 'other side of same coin' of India  which is also known for successful mars mission in first attempt  a nation which proudly holds title 'God of Cricket' for Sachin Tendulkar  who is again an Indian and a nation which is known for its holy generosity with icons like Mother Teresa\".",
                  "Yeh Hai India  follows the story of a 25 years old NRI  who is born and brought up in UK. He shares the same stereotypical views about India that most NRIs have and how his perception changes.",
                  "A Film for Every Indian",
                  "Gavie Chahal|Mohan Agashe|Mohan Joshi|Lom Harsh|",
                  "2 wins & 1 nomination",
                  "24 May 2019 (India)",
                  "India",
                  "Gavie Chahal"
                ],
                [
                  "37",
                  "Article 15 (film)",
                  "tt10324144",
                  "https://upload.wikimedia.org/wikipedia/en/thumb/1/11/Article_15_Poster.jpg/220px-Article_15_Poster.jpg",
                  "https://en.wikipedia.org/wiki/Article_15_(film)",
                  "Article 15",
                  "Article 15",
                  "0",
                  "2019",
                  "130",
                  "Crime|Drama",
                  "8.3",
                  "13417",
                  "In the rural heartlands of India  an upright police officer sets out on a crusade against violent caste-based crimes and discrimination.",
                  "In the rural heartlands of India  an upright police officer sets out on a crusade against violent caste-based crimes and discrimination.",
                  "Farq Bahut Kar Liya| Ab Farq Laayenge.",
                  "Ayushmann Khurrana|Nassar|Manoj Pahwa|Kumud Mishra|Isha Talwar|Sayani Gupta|Mohammed Zeeshan Ayyub|Subhrajyoti Barat|Sushil Pandey|Aakash Dabhade|Ashish Verma|Ronjini Chakraborty|Veen|Sumbul Touqueer|",
                  "1 win",
                  "28 June 2019 (USA)",
                  "India",
                  "Ayushmann Khurrana"
                ],
                [
                  "87",
                  "Aiyaary",
                  "tt6774212",
                  "https://upload.wikimedia.org/wikipedia/en/thumb/e/e4/Aiyaary_-_Poster.jpg/220px-Aiyaary_-_Poster.jpg",
                  "https://en.wikipedia.org/wiki/Aiyaary",
                  "Aiyaary",
                  "Aiyaary",
                  "0",
                  "2018",
                  "157",
                  "Action|Thriller",
                  "5.2",
                  "3538",
                  "General Gurinder Singh comes with a proposal to General Pratap Malik with the intention of bribing him.Pratap Malik declines in proposal following which Gurinder Singh threatens him that he will expose his secret unit DSD (Data System Diagnostics) which conduct secret operations.DND is lead by Colonel Abhay Singh who finds from his team that one of his honest officer Major Jai Bakshi has been absconding with confidential data of the secret unit.",
                  "After finding out about an illegal arms deal  a military intelligence officer goes rogue with highly sensitive data related to his organization  causing his mentor: a colonel  to hunt him down.",
                  "The Ultimate Trickery",
                  "Sidharth Malhotra|Manoj Bajpayee|Rakul Preet Singh|Pooja Chopra|Adil Hussain|Kumud Mishra|Naseeruddin Shah|Anupam Kher|Vikram Gokhale|Juhi Babbar|Nivedita Bhattacharya|Rajesh Tailang|Lushin Dubey|Ajit Bhure|",
                  "1 nomination",
                  "16 February 2018 (USA)",
                  "India",
                  "Sidharth Malhotra"
                ],
                [
                  "96",
                  "Raid (2018 film)",
                  "tt7363076",
                  "https://upload.wikimedia.org/wikipedia/en/thumb/2/28/Ajay_Devgn%27s_Raid_poster.jpg/220px-Ajay_Devgn%27s_Raid_poster.jpg",
                  "https://en.wikipedia.org/wiki/Raid_(2018_film)",
                  "Raid",
                  "Raid",
                  "0",
                  "2018",
                  "122",
                  "Action|Crime|Drama",
                  "7.4",
                  "13159",
                  "Set in the 80s in Uttar Pradesh  India  Raid is based on the true story of one of the most high profile raids the country has ever known. Amay Patnaik (Ajay Devgn)  an upright and no-nonsense Income Tax officer has already been transferred 49 times in the past seven years owing to his idealistic and courageous disposition to uncover tax frauds  hitting hard the pockets of many a big shot. When Patnaik is assigned the case of Tauji  a highly influential and feared man in Uttar Pradesh  little does he know that his unerring determination to bring Tauji to justice would culminate in the longest and most challenging raid of his career as also the history of the Income Tax Department of India. Would Amay succeed in the face of an increasingly stubborn and belligerent Tauji forms the crux of the story.",
                  "A fearless income tax officer raids the mansion of the most powerful man in Lucknow after someone mysteriously draws his attention towards the evidence.",
                  "Heroes don't always come in uniform",
                  "Ajay Devgn|Saurabh Shukla|Ileana D'Cruz|Amit Sial|",
                  "2 wins & 3 nominations",
                  "16 March 2018 (India)",
                  "India",
                  "Ajay Devgn"
                ]
              ],
              "shape": {
                "columns": 20,
                "rows": 5
              }
            },
            "text/html": [
              "<div>\n",
              "<style scoped>\n",
              "    .dataframe tbody tr th:only-of-type {\n",
              "        vertical-align: middle;\n",
              "    }\n",
              "\n",
              "    .dataframe tbody tr th {\n",
              "        vertical-align: top;\n",
              "    }\n",
              "\n",
              "    .dataframe thead th {\n",
              "        text-align: right;\n",
              "    }\n",
              "</style>\n",
              "<table border=\"1\" class=\"dataframe\">\n",
              "  <thead>\n",
              "    <tr style=\"text-align: right;\">\n",
              "      <th></th>\n",
              "      <th>title_x</th>\n",
              "      <th>imdb_id</th>\n",
              "      <th>poster_path</th>\n",
              "      <th>wiki_link</th>\n",
              "      <th>title_y</th>\n",
              "      <th>original_title</th>\n",
              "      <th>is_adult</th>\n",
              "      <th>year_of_release</th>\n",
              "      <th>runtime</th>\n",
              "      <th>genres</th>\n",
              "      <th>imdb_rating</th>\n",
              "      <th>imdb_votes</th>\n",
              "      <th>story</th>\n",
              "      <th>summary</th>\n",
              "      <th>tagline</th>\n",
              "      <th>actors</th>\n",
              "      <th>wins_nominations</th>\n",
              "      <th>release_date</th>\n",
              "      <th>Country</th>\n",
              "      <th>lead actor</th>\n",
              "    </tr>\n",
              "  </thead>\n",
              "  <tbody>\n",
              "    <tr>\n",
              "      <th>11</th>\n",
              "      <td>Gully Boy</td>\n",
              "      <td>tt2395469</td>\n",
              "      <td>https://upload.wikimedia.org/wikipedia/en/thum...</td>\n",
              "      <td>https://en.wikipedia.org/wiki/Gully_Boy</td>\n",
              "      <td>Gully Boy</td>\n",
              "      <td>Gully Boy</td>\n",
              "      <td>0</td>\n",
              "      <td>2019</td>\n",
              "      <td>153</td>\n",
              "      <td>Drama|Music</td>\n",
              "      <td>8.2</td>\n",
              "      <td>22440</td>\n",
              "      <td>Gully Boy is a film about a 22-year-old boy \"M...</td>\n",
              "      <td>A coming-of-age story based on the lives of st...</td>\n",
              "      <td>Apna Time Aayega!</td>\n",
              "      <td>Ranveer Singh|Alia Bhatt|Siddhant Chaturvedi|V...</td>\n",
              "      <td>6 wins &amp; 3 nominations</td>\n",
              "      <td>14 February 2019 (USA)</td>\n",
              "      <td>India</td>\n",
              "      <td>Ranveer Singh</td>\n",
              "    </tr>\n",
              "    <tr>\n",
              "      <th>34</th>\n",
              "      <td>Yeh Hai India</td>\n",
              "      <td>tt5525846</td>\n",
              "      <td>https://upload.wikimedia.org/wikipedia/en/thum...</td>\n",
              "      <td>https://en.wikipedia.org/wiki/Yeh_Hai_India</td>\n",
              "      <td>Yeh Hai India</td>\n",
              "      <td>Yeh Hai India</td>\n",
              "      <td>0</td>\n",
              "      <td>2017</td>\n",
              "      <td>128</td>\n",
              "      <td>Action|Adventure|Drama</td>\n",
              "      <td>5.7</td>\n",
              "      <td>169</td>\n",
              "      <td>Yeh Hai India  follows the story of a 25 years...</td>\n",
              "      <td>Yeh Hai India  follows the story of a 25 years...</td>\n",
              "      <td>A Film for Every Indian</td>\n",
              "      <td>Gavie Chahal|Mohan Agashe|Mohan Joshi|Lom Harsh|</td>\n",
              "      <td>2 wins &amp; 1 nomination</td>\n",
              "      <td>24 May 2019 (India)</td>\n",
              "      <td>India</td>\n",
              "      <td>Gavie Chahal</td>\n",
              "    </tr>\n",
              "    <tr>\n",
              "      <th>37</th>\n",
              "      <td>Article 15 (film)</td>\n",
              "      <td>tt10324144</td>\n",
              "      <td>https://upload.wikimedia.org/wikipedia/en/thum...</td>\n",
              "      <td>https://en.wikipedia.org/wiki/Article_15_(film)</td>\n",
              "      <td>Article 15</td>\n",
              "      <td>Article 15</td>\n",
              "      <td>0</td>\n",
              "      <td>2019</td>\n",
              "      <td>130</td>\n",
              "      <td>Crime|Drama</td>\n",
              "      <td>8.3</td>\n",
              "      <td>13417</td>\n",
              "      <td>In the rural heartlands of India  an upright p...</td>\n",
              "      <td>In the rural heartlands of India  an upright p...</td>\n",
              "      <td>Farq Bahut Kar Liya| Ab Farq Laayenge.</td>\n",
              "      <td>Ayushmann Khurrana|Nassar|Manoj Pahwa|Kumud Mi...</td>\n",
              "      <td>1 win</td>\n",
              "      <td>28 June 2019 (USA)</td>\n",
              "      <td>India</td>\n",
              "      <td>Ayushmann Khurrana</td>\n",
              "    </tr>\n",
              "    <tr>\n",
              "      <th>87</th>\n",
              "      <td>Aiyaary</td>\n",
              "      <td>tt6774212</td>\n",
              "      <td>https://upload.wikimedia.org/wikipedia/en/thum...</td>\n",
              "      <td>https://en.wikipedia.org/wiki/Aiyaary</td>\n",
              "      <td>Aiyaary</td>\n",
              "      <td>Aiyaary</td>\n",
              "      <td>0</td>\n",
              "      <td>2018</td>\n",
              "      <td>157</td>\n",
              "      <td>Action|Thriller</td>\n",
              "      <td>5.2</td>\n",
              "      <td>3538</td>\n",
              "      <td>General Gurinder Singh comes with a proposal t...</td>\n",
              "      <td>After finding out about an illegal arms deal  ...</td>\n",
              "      <td>The Ultimate Trickery</td>\n",
              "      <td>Sidharth Malhotra|Manoj Bajpayee|Rakul Preet S...</td>\n",
              "      <td>1 nomination</td>\n",
              "      <td>16 February 2018 (USA)</td>\n",
              "      <td>India</td>\n",
              "      <td>Sidharth Malhotra</td>\n",
              "    </tr>\n",
              "    <tr>\n",
              "      <th>96</th>\n",
              "      <td>Raid (2018 film)</td>\n",
              "      <td>tt7363076</td>\n",
              "      <td>https://upload.wikimedia.org/wikipedia/en/thum...</td>\n",
              "      <td>https://en.wikipedia.org/wiki/Raid_(2018_film)</td>\n",
              "      <td>Raid</td>\n",
              "      <td>Raid</td>\n",
              "      <td>0</td>\n",
              "      <td>2018</td>\n",
              "      <td>122</td>\n",
              "      <td>Action|Crime|Drama</td>\n",
              "      <td>7.4</td>\n",
              "      <td>13159</td>\n",
              "      <td>Set in the 80s in Uttar Pradesh  India  Raid i...</td>\n",
              "      <td>A fearless income tax officer raids the mansio...</td>\n",
              "      <td>Heroes don't always come in uniform</td>\n",
              "      <td>Ajay Devgn|Saurabh Shukla|Ileana D'Cruz|Amit S...</td>\n",
              "      <td>2 wins &amp; 3 nominations</td>\n",
              "      <td>16 March 2018 (India)</td>\n",
              "      <td>India</td>\n",
              "      <td>Ajay Devgn</td>\n",
              "    </tr>\n",
              "  </tbody>\n",
              "</table>\n",
              "</div>"
            ],
            "text/plain": [
              "              title_x     imdb_id  \\\n",
              "11          Gully Boy   tt2395469   \n",
              "34      Yeh Hai India   tt5525846   \n",
              "37  Article 15 (film)  tt10324144   \n",
              "87            Aiyaary   tt6774212   \n",
              "96   Raid (2018 film)   tt7363076   \n",
              "\n",
              "                                          poster_path  \\\n",
              "11  https://upload.wikimedia.org/wikipedia/en/thum...   \n",
              "34  https://upload.wikimedia.org/wikipedia/en/thum...   \n",
              "37  https://upload.wikimedia.org/wikipedia/en/thum...   \n",
              "87  https://upload.wikimedia.org/wikipedia/en/thum...   \n",
              "96  https://upload.wikimedia.org/wikipedia/en/thum...   \n",
              "\n",
              "                                          wiki_link        title_y  \\\n",
              "11          https://en.wikipedia.org/wiki/Gully_Boy      Gully Boy   \n",
              "34      https://en.wikipedia.org/wiki/Yeh_Hai_India  Yeh Hai India   \n",
              "37  https://en.wikipedia.org/wiki/Article_15_(film)     Article 15   \n",
              "87            https://en.wikipedia.org/wiki/Aiyaary        Aiyaary   \n",
              "96   https://en.wikipedia.org/wiki/Raid_(2018_film)           Raid   \n",
              "\n",
              "   original_title  is_adult  year_of_release runtime                  genres  \\\n",
              "11      Gully Boy         0             2019     153             Drama|Music   \n",
              "34  Yeh Hai India         0             2017     128  Action|Adventure|Drama   \n",
              "37     Article 15         0             2019     130             Crime|Drama   \n",
              "87        Aiyaary         0             2018     157         Action|Thriller   \n",
              "96           Raid         0             2018     122      Action|Crime|Drama   \n",
              "\n",
              "    imdb_rating  imdb_votes  \\\n",
              "11          8.2       22440   \n",
              "34          5.7         169   \n",
              "37          8.3       13417   \n",
              "87          5.2        3538   \n",
              "96          7.4       13159   \n",
              "\n",
              "                                                story  \\\n",
              "11  Gully Boy is a film about a 22-year-old boy \"M...   \n",
              "34  Yeh Hai India  follows the story of a 25 years...   \n",
              "37  In the rural heartlands of India  an upright p...   \n",
              "87  General Gurinder Singh comes with a proposal t...   \n",
              "96  Set in the 80s in Uttar Pradesh  India  Raid i...   \n",
              "\n",
              "                                              summary  \\\n",
              "11  A coming-of-age story based on the lives of st...   \n",
              "34  Yeh Hai India  follows the story of a 25 years...   \n",
              "37  In the rural heartlands of India  an upright p...   \n",
              "87  After finding out about an illegal arms deal  ...   \n",
              "96  A fearless income tax officer raids the mansio...   \n",
              "\n",
              "                                   tagline  \\\n",
              "11                       Apna Time Aayega!   \n",
              "34                 A Film for Every Indian   \n",
              "37  Farq Bahut Kar Liya| Ab Farq Laayenge.   \n",
              "87                   The Ultimate Trickery   \n",
              "96     Heroes don't always come in uniform   \n",
              "\n",
              "                                               actors        wins_nominations  \\\n",
              "11  Ranveer Singh|Alia Bhatt|Siddhant Chaturvedi|V...  6 wins & 3 nominations   \n",
              "34   Gavie Chahal|Mohan Agashe|Mohan Joshi|Lom Harsh|   2 wins & 1 nomination   \n",
              "37  Ayushmann Khurrana|Nassar|Manoj Pahwa|Kumud Mi...                   1 win   \n",
              "87  Sidharth Malhotra|Manoj Bajpayee|Rakul Preet S...            1 nomination   \n",
              "96  Ajay Devgn|Saurabh Shukla|Ileana D'Cruz|Amit S...  2 wins & 3 nominations   \n",
              "\n",
              "              release_date Country          lead actor  \n",
              "11  14 February 2019 (USA)   India       Ranveer Singh  \n",
              "34     24 May 2019 (India)   India        Gavie Chahal  \n",
              "37      28 June 2019 (USA)   India  Ayushmann Khurrana  \n",
              "87  16 February 2018 (USA)   India   Sidharth Malhotra  \n",
              "96   16 March 2018 (India)   India          Ajay Devgn  "
            ]
          },
          "execution_count": 59,
          "metadata": {},
          "output_type": "execute_result"
        }
      ],
      "source": [
        "# Extract the first actor from the 'actors' column and create a new column 'lead actor'\n",
        "movies['lead actor'] = movies['actors'].str.split('|').apply(lambda x:x[0])\n",
        "movies.head()"
      ]
    },
    {
      "cell_type": "code",
      "execution_count": null,
      "metadata": {
        "colab": {
          "base_uri": "https://localhost:8080/"
        },
        "id": "nYWiGlIMakvg",
        "outputId": "345876ef-e1c1-49b9-80d0-e72d44a18a31"
      },
      "outputs": [
        {
          "name": "stdout",
          "output_type": "stream",
          "text": [
            "<class 'pandas.core.frame.DataFrame'>\n",
            "Index: 298 entries, 11 to 1623\n",
            "Data columns (total 20 columns):\n",
            " #   Column            Non-Null Count  Dtype  \n",
            "---  ------            --------------  -----  \n",
            " 0   title_x           298 non-null    object \n",
            " 1   imdb_id           298 non-null    object \n",
            " 2   poster_path       298 non-null    object \n",
            " 3   wiki_link         298 non-null    object \n",
            " 4   title_y           298 non-null    object \n",
            " 5   original_title    298 non-null    object \n",
            " 6   is_adult          298 non-null    int64  \n",
            " 7   year_of_release   298 non-null    int64  \n",
            " 8   runtime           298 non-null    object \n",
            " 9   genres            298 non-null    object \n",
            " 10  imdb_rating       298 non-null    float64\n",
            " 11  imdb_votes        298 non-null    int64  \n",
            " 12  story             298 non-null    object \n",
            " 13  summary           298 non-null    object \n",
            " 14  tagline           298 non-null    object \n",
            " 15  actors            298 non-null    object \n",
            " 16  wins_nominations  298 non-null    object \n",
            " 17  release_date      298 non-null    object \n",
            " 18  Country           298 non-null    object \n",
            " 19  lead actor        298 non-null    object \n",
            "dtypes: float64(1), int64(3), object(16)\n",
            "memory usage: 48.9+ KB\n"
          ]
        }
      ],
      "source": [
        "# Display DataFrame info after adding new column\n",
        "movies.info()"
      ]
    },
    {
      "cell_type": "markdown",
      "metadata": {
        "id": "B881F9xu4Bmk"
      },
      "source": [
        "### Important DataFrame Functions"
      ]
    },
    {
      "cell_type": "code",
      "execution_count": null,
      "metadata": {
        "colab": {
          "base_uri": "https://localhost:8080/"
        },
        "id": "dd985cwtJnCW",
        "outputId": "38fd851c-a06f-474d-dd59-5e95b369b1c4"
      },
      "outputs": [
        {
          "name": "stdout",
          "output_type": "stream",
          "text": [
            "<class 'pandas.core.frame.DataFrame'>\n",
            "RangeIndex: 950 entries, 0 to 949\n",
            "Data columns (total 20 columns):\n",
            " #   Column           Non-Null Count  Dtype  \n",
            "---  ------           --------------  -----  \n",
            " 0   ID               950 non-null    int64  \n",
            " 1   City             899 non-null    object \n",
            " 2   Date             950 non-null    object \n",
            " 3   Season           950 non-null    object \n",
            " 4   MatchNumber      950 non-null    object \n",
            " 5   Team1            950 non-null    object \n",
            " 6   Team2            950 non-null    object \n",
            " 7   Venue            950 non-null    object \n",
            " 8   TossWinner       950 non-null    object \n",
            " 9   TossDecision     950 non-null    object \n",
            " 10  SuperOver        946 non-null    object \n",
            " 11  WinningTeam      946 non-null    object \n",
            " 12  WonBy            950 non-null    object \n",
            " 13  Margin           932 non-null    float64\n",
            " 14  method           19 non-null     object \n",
            " 15  Player_of_Match  946 non-null    object \n",
            " 16  Team1Players     950 non-null    object \n",
            " 17  Team2Players     950 non-null    object \n",
            " 18  Umpire1          950 non-null    object \n",
            " 19  Umpire2          950 non-null    object \n",
            "dtypes: float64(1), int64(1), object(18)\n",
            "memory usage: 148.6+ KB\n"
          ]
        }
      ],
      "source": [
        "# astype is used to change the data type of a column\n",
        "# Display DataFrame info before changing data type\n",
        "ipl.info()"
      ]
    },
    {
      "cell_type": "code",
      "execution_count": null,
      "metadata": {
        "id": "xHCmE6PtcKyb"
      },
      "outputs": [],
      "source": [
        "# Convert the 'ID' column to int32 data type for memory efficiency\n",
        "ipl['ID'] = ipl['ID'].astype('int32')  # converting the 'ID' column to int32 data type"
      ]
    },
    {
      "cell_type": "code",
      "execution_count": null,
      "metadata": {
        "colab": {
          "base_uri": "https://localhost:8080/"
        },
        "id": "7okWM4HWcWAp",
        "outputId": "e76d79d3-0a68-4ecf-c7f8-1f84f552b99a"
      },
      "outputs": [
        {
          "name": "stdout",
          "output_type": "stream",
          "text": [
            "<class 'pandas.core.frame.DataFrame'>\n",
            "RangeIndex: 950 entries, 0 to 949\n",
            "Data columns (total 20 columns):\n",
            " #   Column           Non-Null Count  Dtype  \n",
            "---  ------           --------------  -----  \n",
            " 0   ID               950 non-null    int32  \n",
            " 1   City             899 non-null    object \n",
            " 2   Date             950 non-null    object \n",
            " 3   Season           950 non-null    object \n",
            " 4   MatchNumber      950 non-null    object \n",
            " 5   Team1            950 non-null    object \n",
            " 6   Team2            950 non-null    object \n",
            " 7   Venue            950 non-null    object \n",
            " 8   TossWinner       950 non-null    object \n",
            " 9   TossDecision     950 non-null    object \n",
            " 10  SuperOver        946 non-null    object \n",
            " 11  WinningTeam      946 non-null    object \n",
            " 12  WonBy            950 non-null    object \n",
            " 13  Margin           932 non-null    float64\n",
            " 14  method           19 non-null     object \n",
            " 15  Player_of_Match  946 non-null    object \n",
            " 16  Team1Players     950 non-null    object \n",
            " 17  Team2Players     950 non-null    object \n",
            " 18  Umpire1          950 non-null    object \n",
            " 19  Umpire2          950 non-null    object \n",
            "dtypes: float64(1), int32(1), object(18)\n",
            "memory usage: 144.9+ KB\n"
          ]
        }
      ],
      "source": [
        "# Display DataFrame info after changing data type\n",
        "ipl.info()"
      ]
    },
    {
      "cell_type": "code",
      "execution_count": null,
      "metadata": {
        "id": "AsFtYc_9cv8c"
      },
      "outputs": [],
      "source": [
        "# Convert columns to category data type for better memory efficiency and performance\n",
        "# ipl['Season'] = ipl['Season'].astype('category')\n",
        "ipl['Team1'] = ipl['Team1'].astype('category')  # converting the 'Team1' column to category data type for better memory efficiency and performance\n",
        "ipl['Team2'] = ipl['Team2'].astype('category')"
      ]
    },
    {
      "cell_type": "code",
      "execution_count": null,
      "metadata": {
        "colab": {
          "base_uri": "https://localhost:8080/"
        },
        "id": "vYekmCGbcwEC",
        "outputId": "7c6015d0-f66c-401a-cbae-34bf91541809"
      },
      "outputs": [
        {
          "name": "stdout",
          "output_type": "stream",
          "text": [
            "<class 'pandas.core.frame.DataFrame'>\n",
            "RangeIndex: 950 entries, 0 to 949\n",
            "Data columns (total 20 columns):\n",
            " #   Column           Non-Null Count  Dtype   \n",
            "---  ------           --------------  -----   \n",
            " 0   ID               950 non-null    int32   \n",
            " 1   City             899 non-null    object  \n",
            " 2   Date             950 non-null    object  \n",
            " 3   Season           950 non-null    category\n",
            " 4   MatchNumber      950 non-null    object  \n",
            " 5   Team1            950 non-null    category\n",
            " 6   Team2            950 non-null    category\n",
            " 7   Venue            950 non-null    object  \n",
            " 8   TossWinner       950 non-null    object  \n",
            " 9   TossDecision     950 non-null    object  \n",
            " 10  SuperOver        946 non-null    object  \n",
            " 11  WinningTeam      946 non-null    object  \n",
            " 12  WonBy            950 non-null    object  \n",
            " 13  Margin           932 non-null    float64 \n",
            " 14  method           19 non-null     object  \n",
            " 15  Player_of_Match  946 non-null    object  \n",
            " 16  Team1Players     950 non-null    object  \n",
            " 17  Team2Players     950 non-null    object  \n",
            " 18  Umpire1          950 non-null    object  \n",
            " 19  Umpire2          950 non-null    object  \n",
            "dtypes: category(3), float64(1), int32(1), object(15)\n",
            "memory usage: 127.4+ KB\n"
          ]
        }
      ],
      "source": [
        "# Display DataFrame info after converting columns to category\n",
        "ipl.info()"
      ]
    },
    {
      "cell_type": "code",
      "execution_count": null,
      "metadata": {
        "id": "2NtdlwFEcwKL"
      },
      "outputs": [],
      "source": []
    },
    {
      "cell_type": "code",
      "execution_count": null,
      "metadata": {
        "id": "76Gugqiz4F8s"
      },
      "outputs": [],
      "source": [
        "# value_counts"
      ]
    },
    {
      "cell_type": "code",
      "execution_count": null,
      "metadata": {
        "id": "L9pTZNBZWqSM"
      },
      "outputs": [],
      "source": [
        "# find which player has won most potm -> in finals and qualifiers"
      ]
    },
    {
      "cell_type": "code",
      "execution_count": null,
      "metadata": {
        "id": "nfqb_Ix1XKKy"
      },
      "outputs": [],
      "source": [
        "# Toss decision plot"
      ]
    },
    {
      "cell_type": "code",
      "execution_count": null,
      "metadata": {
        "id": "d7lYVfAtYL3n"
      },
      "outputs": [],
      "source": [
        "# how many matches each team has played"
      ]
    },
    {
      "cell_type": "code",
      "execution_count": null,
      "metadata": {
        "id": "l4ds2LHi4IG7"
      },
      "outputs": [],
      "source": [
        "# sort_values -> ascending -> na_position -> inplace -> multiple cols"
      ]
    }
  ],
  "metadata": {
    "colab": {
      "provenance": []
    },
    "kernelspec": {
      "display_name": "base",
      "language": "python",
      "name": "python3"
    },
    "language_info": {
      "codemirror_mode": {
        "name": "ipython",
        "version": 3
      },
      "file_extension": ".py",
      "mimetype": "text/x-python",
      "name": "python",
      "nbconvert_exporter": "python",
      "pygments_lexer": "ipython3",
      "version": "3.12.7"
    }
  },
  "nbformat": 4,
  "nbformat_minor": 0
}
